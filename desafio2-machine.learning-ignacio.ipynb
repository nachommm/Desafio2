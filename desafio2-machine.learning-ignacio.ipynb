{
 "cells": [
  {
   "cell_type": "markdown",
   "metadata": {},
   "source": [
    "<h2>Desafio 2 - Machine Learning\n"
   ]
  },
  {
   "cell_type": "markdown",
   "metadata": {},
   "source": [
    "<h3>Grupo 7</h3>\n",
    "<ul>\n",
    "    <li>Ignacio Mendieta</li>\n",
    "    <li>Laura Jazmín Chao</li>\n",
    "    <li>Juan Nicolás Capistrano</li>\n",
    "    <li>Betiana Srur</li>\n",
    "    <li>Marecelo Carrizo</li>\n",
    "    \n",
    "</ul>\n",
    "    "
   ]
  },
  {
   "cell_type": "markdown",
   "metadata": {},
   "source": [
    "**Desafio 2** : Aplicar las tecnicas de Machine Learning para calcular el precio por metro cuadrado de las propiedades."
   ]
  },
  {
   "cell_type": "code",
   "execution_count": 334,
   "metadata": {},
   "outputs": [],
   "source": [
    "import numpy as np\n",
    "import pandas as pd\n",
    "import re\n",
    "\n",
    "# Libreria Grafica.\n",
    "%matplotlib inline\n",
    "import seaborn as sns\n",
    "from matplotlib import pyplot as plt\n",
    "\n",
    "# Visualización\n",
    "from bokeh.plotting import figure, show, output_notebook\n",
    "from bokeh.models import NumeralTickFormatter # Para imprimir los %\n",
    "from bokeh.tile_providers import CARTODBPOSITRON, get_provider, Vendors \n",
    "from bokeh.resources import INLINE\n",
    "\n",
    "# Libreria para analisis ML\n",
    "from sklearn import datasets, linear_model\n",
    "\n",
    "pd.set_option('display.max_columns', 100) # Para mostrar todas las columnas\n",
    "pd.set_option('display.max_rows', 100) # Para mostrar todas las filas"
   ]
  },
  {
   "cell_type": "code",
   "execution_count": 335,
   "metadata": {},
   "outputs": [
    {
     "data": {
      "text/html": [
       "<div>\n",
       "<style scoped>\n",
       "    .dataframe tbody tr th:only-of-type {\n",
       "        vertical-align: middle;\n",
       "    }\n",
       "\n",
       "    .dataframe tbody tr th {\n",
       "        vertical-align: top;\n",
       "    }\n",
       "\n",
       "    .dataframe thead th {\n",
       "        text-align: right;\n",
       "    }\n",
       "</style>\n",
       "<table border=\"1\" class=\"dataframe\">\n",
       "  <thead>\n",
       "    <tr style=\"text-align: right;\">\n",
       "      <th></th>\n",
       "      <th>Unnamed: 0</th>\n",
       "      <th>operation</th>\n",
       "      <th>property_type</th>\n",
       "      <th>place_name</th>\n",
       "      <th>place_with_parent_names</th>\n",
       "      <th>country_name</th>\n",
       "      <th>state_name</th>\n",
       "      <th>geonames_id</th>\n",
       "      <th>lat-lon</th>\n",
       "      <th>lat</th>\n",
       "      <th>lon</th>\n",
       "      <th>price</th>\n",
       "      <th>currency</th>\n",
       "      <th>price_aprox_local_currency</th>\n",
       "      <th>price_aprox_usd</th>\n",
       "      <th>surface_total_in_m2</th>\n",
       "      <th>surface_covered_in_m2</th>\n",
       "      <th>price_usd_per_m2</th>\n",
       "      <th>price_per_m2</th>\n",
       "      <th>floor</th>\n",
       "      <th>rooms</th>\n",
       "      <th>expenses</th>\n",
       "      <th>properati_url</th>\n",
       "      <th>description</th>\n",
       "      <th>title</th>\n",
       "      <th>image_thumbnail</th>\n",
       "    </tr>\n",
       "  </thead>\n",
       "  <tbody>\n",
       "    <tr>\n",
       "      <th>73900</th>\n",
       "      <td>73900</td>\n",
       "      <td>sell</td>\n",
       "      <td>apartment</td>\n",
       "      <td>Capital Federal</td>\n",
       "      <td>|Argentina|Capital Federal|</td>\n",
       "      <td>Argentina</td>\n",
       "      <td>Capital Federal</td>\n",
       "      <td>3433955.0</td>\n",
       "      <td>NaN</td>\n",
       "      <td>NaN</td>\n",
       "      <td>NaN</td>\n",
       "      <td>868020.0</td>\n",
       "      <td>USD</td>\n",
       "      <td>15315778.89</td>\n",
       "      <td>868020.0</td>\n",
       "      <td>156.0</td>\n",
       "      <td>146.0</td>\n",
       "      <td>5564.230769</td>\n",
       "      <td>5945.342466</td>\n",
       "      <td>NaN</td>\n",
       "      <td>NaN</td>\n",
       "      <td>NaN</td>\n",
       "      <td>http://www.properati.com.ar/1ao9v_venta_depart...</td>\n",
       "      <td>Departamento 156m², Argentina, Capital Federal...</td>\n",
       "      <td>Departamento - Capital Federal</td>\n",
       "      <td>https://thumbs4.properati.com/3/kZHDaLThMiQvjh...</td>\n",
       "    </tr>\n",
       "    <tr>\n",
       "      <th>71893</th>\n",
       "      <td>71893</td>\n",
       "      <td>sell</td>\n",
       "      <td>apartment</td>\n",
       "      <td>Lomas de Zamora</td>\n",
       "      <td>|Argentina|Bs.As. G.B.A. Zona Sur|Lomas de Zam...</td>\n",
       "      <td>Argentina</td>\n",
       "      <td>Bs.As. G.B.A. Zona Sur</td>\n",
       "      <td>NaN</td>\n",
       "      <td>NaN</td>\n",
       "      <td>NaN</td>\n",
       "      <td>NaN</td>\n",
       "      <td>95000.0</td>\n",
       "      <td>USD</td>\n",
       "      <td>1676227.50</td>\n",
       "      <td>95000.0</td>\n",
       "      <td>44.0</td>\n",
       "      <td>41.0</td>\n",
       "      <td>2159.090909</td>\n",
       "      <td>2317.073171</td>\n",
       "      <td>NaN</td>\n",
       "      <td>NaN</td>\n",
       "      <td>1000.0</td>\n",
       "      <td>http://www.properati.com.ar/1alkn_venta_depart...</td>\n",
       "      <td>Living comedor c/pisos cerámicos c/balcon al f...</td>\n",
       "      <td>Departamento en Lomas De Zamora</td>\n",
       "      <td>https://thumbs4.properati.com/4/Z-04tG1__RN4Kx...</td>\n",
       "    </tr>\n",
       "    <tr>\n",
       "      <th>107367</th>\n",
       "      <td>107367</td>\n",
       "      <td>sell</td>\n",
       "      <td>apartment</td>\n",
       "      <td>Rosario</td>\n",
       "      <td>|Argentina|Santa Fe|Rosario|</td>\n",
       "      <td>Argentina</td>\n",
       "      <td>Santa Fe</td>\n",
       "      <td>3838574.0</td>\n",
       "      <td>NaN</td>\n",
       "      <td>NaN</td>\n",
       "      <td>NaN</td>\n",
       "      <td>NaN</td>\n",
       "      <td>NaN</td>\n",
       "      <td>NaN</td>\n",
       "      <td>NaN</td>\n",
       "      <td>NaN</td>\n",
       "      <td>131.0</td>\n",
       "      <td>NaN</td>\n",
       "      <td>NaN</td>\n",
       "      <td>NaN</td>\n",
       "      <td>NaN</td>\n",
       "      <td>NaN</td>\n",
       "      <td>http://www.properati.com.ar/1bxz1_venta_depart...</td>\n",
       "      <td>Departamento, Santa Fe, Rosario</td>\n",
       "      <td>Departamento - Rosario</td>\n",
       "      <td>https://thumbs4.properati.com/6/PO9T4IBAl_De6G...</td>\n",
       "    </tr>\n",
       "    <tr>\n",
       "      <th>44692</th>\n",
       "      <td>44692</td>\n",
       "      <td>sell</td>\n",
       "      <td>house</td>\n",
       "      <td>Pilar</td>\n",
       "      <td>|Argentina|Bs.As. G.B.A. Zona Norte|Pilar|</td>\n",
       "      <td>Argentina</td>\n",
       "      <td>Bs.As. G.B.A. Zona Norte</td>\n",
       "      <td>3429979.0</td>\n",
       "      <td>-34.4537807574,-58.9283533307</td>\n",
       "      <td>-34.453781</td>\n",
       "      <td>-58.928353</td>\n",
       "      <td>235000.0</td>\n",
       "      <td>USD</td>\n",
       "      <td>4146457.50</td>\n",
       "      <td>235000.0</td>\n",
       "      <td>155.0</td>\n",
       "      <td>155.0</td>\n",
       "      <td>1516.129032</td>\n",
       "      <td>1516.129032</td>\n",
       "      <td>NaN</td>\n",
       "      <td>NaN</td>\n",
       "      <td>NaN</td>\n",
       "      <td>http://www.properati.com.ar/19128_venta_casa_p...</td>\n",
       "      <td>Pam. Casa a Estrenar 4 Ambientes. Excelente ub...</td>\n",
       "      <td>Pam. Barrio Las Orquídeas. Casa a Estrenar 4 A...</td>\n",
       "      <td>https://thumbs4.properati.com/9/8XbbjJ7S6u7Q3R...</td>\n",
       "    </tr>\n",
       "    <tr>\n",
       "      <th>29107</th>\n",
       "      <td>29107</td>\n",
       "      <td>sell</td>\n",
       "      <td>apartment</td>\n",
       "      <td>Nordelta</td>\n",
       "      <td>|Argentina|Bs.As. G.B.A. Zona Norte|Tigre|Nord...</td>\n",
       "      <td>Argentina</td>\n",
       "      <td>Bs.As. G.B.A. Zona Norte</td>\n",
       "      <td>NaN</td>\n",
       "      <td>-34.4026444,-58.6684776</td>\n",
       "      <td>-34.402644</td>\n",
       "      <td>-58.668478</td>\n",
       "      <td>175000.0</td>\n",
       "      <td>USD</td>\n",
       "      <td>3087787.50</td>\n",
       "      <td>175000.0</td>\n",
       "      <td>110.0</td>\n",
       "      <td>110.0</td>\n",
       "      <td>1590.909091</td>\n",
       "      <td>1590.909091</td>\n",
       "      <td>NaN</td>\n",
       "      <td>2.0</td>\n",
       "      <td>NaN</td>\n",
       "      <td>http://www.properati.com.ar/17y92_venta_depart...</td>\n",
       "      <td>Excelente departamento dos ambientes!! en el b...</td>\n",
       "      <td>Nordelta Infinity Residences UF A52 Depto 2 amb.</td>\n",
       "      <td>https://thumbs4.properati.com/4/N8fBQzYvoJSEeA...</td>\n",
       "    </tr>\n",
       "  </tbody>\n",
       "</table>\n",
       "</div>"
      ],
      "text/plain": [
       "        Unnamed: 0 operation property_type       place_name  \\\n",
       "73900        73900      sell     apartment  Capital Federal   \n",
       "71893        71893      sell     apartment  Lomas de Zamora   \n",
       "107367      107367      sell     apartment          Rosario   \n",
       "44692        44692      sell         house            Pilar   \n",
       "29107        29107      sell     apartment         Nordelta   \n",
       "\n",
       "                                  place_with_parent_names country_name  \\\n",
       "73900                         |Argentina|Capital Federal|    Argentina   \n",
       "71893   |Argentina|Bs.As. G.B.A. Zona Sur|Lomas de Zam...    Argentina   \n",
       "107367                       |Argentina|Santa Fe|Rosario|    Argentina   \n",
       "44692          |Argentina|Bs.As. G.B.A. Zona Norte|Pilar|    Argentina   \n",
       "29107   |Argentina|Bs.As. G.B.A. Zona Norte|Tigre|Nord...    Argentina   \n",
       "\n",
       "                      state_name  geonames_id                        lat-lon  \\\n",
       "73900            Capital Federal    3433955.0                            NaN   \n",
       "71893     Bs.As. G.B.A. Zona Sur          NaN                            NaN   \n",
       "107367                  Santa Fe    3838574.0                            NaN   \n",
       "44692   Bs.As. G.B.A. Zona Norte    3429979.0  -34.4537807574,-58.9283533307   \n",
       "29107   Bs.As. G.B.A. Zona Norte          NaN        -34.4026444,-58.6684776   \n",
       "\n",
       "              lat        lon     price currency  price_aprox_local_currency  \\\n",
       "73900         NaN        NaN  868020.0      USD                 15315778.89   \n",
       "71893         NaN        NaN   95000.0      USD                  1676227.50   \n",
       "107367        NaN        NaN       NaN      NaN                         NaN   \n",
       "44692  -34.453781 -58.928353  235000.0      USD                  4146457.50   \n",
       "29107  -34.402644 -58.668478  175000.0      USD                  3087787.50   \n",
       "\n",
       "        price_aprox_usd  surface_total_in_m2  surface_covered_in_m2  \\\n",
       "73900          868020.0                156.0                  146.0   \n",
       "71893           95000.0                 44.0                   41.0   \n",
       "107367              NaN                  NaN                  131.0   \n",
       "44692          235000.0                155.0                  155.0   \n",
       "29107          175000.0                110.0                  110.0   \n",
       "\n",
       "        price_usd_per_m2  price_per_m2  floor  rooms  expenses  \\\n",
       "73900        5564.230769   5945.342466    NaN    NaN       NaN   \n",
       "71893        2159.090909   2317.073171    NaN    NaN    1000.0   \n",
       "107367               NaN           NaN    NaN    NaN       NaN   \n",
       "44692        1516.129032   1516.129032    NaN    NaN       NaN   \n",
       "29107        1590.909091   1590.909091    NaN    2.0       NaN   \n",
       "\n",
       "                                            properati_url  \\\n",
       "73900   http://www.properati.com.ar/1ao9v_venta_depart...   \n",
       "71893   http://www.properati.com.ar/1alkn_venta_depart...   \n",
       "107367  http://www.properati.com.ar/1bxz1_venta_depart...   \n",
       "44692   http://www.properati.com.ar/19128_venta_casa_p...   \n",
       "29107   http://www.properati.com.ar/17y92_venta_depart...   \n",
       "\n",
       "                                              description  \\\n",
       "73900   Departamento 156m², Argentina, Capital Federal...   \n",
       "71893   Living comedor c/pisos cerámicos c/balcon al f...   \n",
       "107367                    Departamento, Santa Fe, Rosario   \n",
       "44692   Pam. Casa a Estrenar 4 Ambientes. Excelente ub...   \n",
       "29107   Excelente departamento dos ambientes!! en el b...   \n",
       "\n",
       "                                                    title  \\\n",
       "73900                      Departamento - Capital Federal   \n",
       "71893                     Departamento en Lomas De Zamora   \n",
       "107367                             Departamento - Rosario   \n",
       "44692   Pam. Barrio Las Orquídeas. Casa a Estrenar 4 A...   \n",
       "29107    Nordelta Infinity Residences UF A52 Depto 2 amb.   \n",
       "\n",
       "                                          image_thumbnail  \n",
       "73900   https://thumbs4.properati.com/3/kZHDaLThMiQvjh...  \n",
       "71893   https://thumbs4.properati.com/4/Z-04tG1__RN4Kx...  \n",
       "107367  https://thumbs4.properati.com/6/PO9T4IBAl_De6G...  \n",
       "44692   https://thumbs4.properati.com/9/8XbbjJ7S6u7Q3R...  \n",
       "29107   https://thumbs4.properati.com/4/N8fBQzYvoJSEeA...  "
      ]
     },
     "execution_count": 335,
     "metadata": {},
     "output_type": "execute_result"
    }
   ],
   "source": [
    "# Definimos la ruta de la información.\n",
    "data_propiedades = \"Data/properati.csv\"\n",
    "\n",
    "# Leemos los datos del archivo\n",
    "data = pd.read_csv(data_propiedades, sep=\",\", encoding=\"UTF-8\")\n",
    "\n",
    "# Chequeamos que los datos se hayan importado correctamente\n",
    "data.sample(5)"
   ]
  },
  {
   "cell_type": "code",
   "execution_count": 336,
   "metadata": {},
   "outputs": [
    {
     "data": {
      "text/plain": [
       "(121220, 26)"
      ]
     },
     "execution_count": 336,
     "metadata": {},
     "output_type": "execute_result"
    }
   ],
   "source": [
    "# Chequeamos cantidad de registros y cantidad de columnas\n",
    "data.shape"
   ]
  },
  {
   "cell_type": "markdown",
   "metadata": {},
   "source": [
    "<h2>Selección de los datos</h2>"
   ]
  },
  {
   "cell_type": "markdown",
   "metadata": {},
   "source": [
    "En base a los análisis previos realizados sobre el Dataset, tomaremos los datos de CABA únicamente para realizar un modelo de machine learning. "
   ]
  },
  {
   "cell_type": "code",
   "execution_count": 337,
   "metadata": {},
   "outputs": [
    {
     "data": {
      "text/html": [
       "<div>\n",
       "<style scoped>\n",
       "    .dataframe tbody tr th:only-of-type {\n",
       "        vertical-align: middle;\n",
       "    }\n",
       "\n",
       "    .dataframe tbody tr th {\n",
       "        vertical-align: top;\n",
       "    }\n",
       "\n",
       "    .dataframe thead th {\n",
       "        text-align: right;\n",
       "    }\n",
       "</style>\n",
       "<table border=\"1\" class=\"dataframe\">\n",
       "  <thead>\n",
       "    <tr style=\"text-align: right;\">\n",
       "      <th></th>\n",
       "      <th>Unnamed: 0</th>\n",
       "      <th>operation</th>\n",
       "      <th>property_type</th>\n",
       "      <th>place_name</th>\n",
       "      <th>place_with_parent_names</th>\n",
       "      <th>country_name</th>\n",
       "      <th>state_name</th>\n",
       "      <th>geonames_id</th>\n",
       "      <th>lat-lon</th>\n",
       "      <th>lat</th>\n",
       "      <th>lon</th>\n",
       "      <th>price</th>\n",
       "      <th>currency</th>\n",
       "      <th>price_aprox_local_currency</th>\n",
       "      <th>price_aprox_usd</th>\n",
       "      <th>surface_total_in_m2</th>\n",
       "      <th>surface_covered_in_m2</th>\n",
       "      <th>price_usd_per_m2</th>\n",
       "      <th>price_per_m2</th>\n",
       "      <th>floor</th>\n",
       "      <th>rooms</th>\n",
       "      <th>expenses</th>\n",
       "      <th>properati_url</th>\n",
       "      <th>description</th>\n",
       "      <th>title</th>\n",
       "      <th>image_thumbnail</th>\n",
       "    </tr>\n",
       "  </thead>\n",
       "  <tbody>\n",
       "    <tr>\n",
       "      <th>0</th>\n",
       "      <td>0</td>\n",
       "      <td>sell</td>\n",
       "      <td>PH</td>\n",
       "      <td>Mataderos</td>\n",
       "      <td>|Argentina|Capital Federal|Mataderos|</td>\n",
       "      <td>Argentina</td>\n",
       "      <td>Capital Federal</td>\n",
       "      <td>3430787.0</td>\n",
       "      <td>-34.6618237,-58.5088387</td>\n",
       "      <td>-34.661824</td>\n",
       "      <td>-58.508839</td>\n",
       "      <td>62000.0</td>\n",
       "      <td>USD</td>\n",
       "      <td>1093959.0</td>\n",
       "      <td>62000.0</td>\n",
       "      <td>55.0</td>\n",
       "      <td>40.0</td>\n",
       "      <td>1127.272727</td>\n",
       "      <td>1550.000000</td>\n",
       "      <td>NaN</td>\n",
       "      <td>NaN</td>\n",
       "      <td>NaN</td>\n",
       "      <td>http://www.properati.com.ar/15bo8_venta_ph_mat...</td>\n",
       "      <td>2 AMBIENTES TIPO CASA PLANTA BAJA POR PASILLO,...</td>\n",
       "      <td>2 AMB TIPO CASA SIN EXPENSAS EN PB</td>\n",
       "      <td>https://thumbs4.properati.com/8/BluUYiHJLhgIIK...</td>\n",
       "    </tr>\n",
       "    <tr>\n",
       "      <th>2</th>\n",
       "      <td>2</td>\n",
       "      <td>sell</td>\n",
       "      <td>apartment</td>\n",
       "      <td>Mataderos</td>\n",
       "      <td>|Argentina|Capital Federal|Mataderos|</td>\n",
       "      <td>Argentina</td>\n",
       "      <td>Capital Federal</td>\n",
       "      <td>3430787.0</td>\n",
       "      <td>-34.6522615,-58.5229825</td>\n",
       "      <td>-34.652262</td>\n",
       "      <td>-58.522982</td>\n",
       "      <td>72000.0</td>\n",
       "      <td>USD</td>\n",
       "      <td>1270404.0</td>\n",
       "      <td>72000.0</td>\n",
       "      <td>55.0</td>\n",
       "      <td>55.0</td>\n",
       "      <td>1309.090909</td>\n",
       "      <td>1309.090909</td>\n",
       "      <td>NaN</td>\n",
       "      <td>NaN</td>\n",
       "      <td>NaN</td>\n",
       "      <td>http://www.properati.com.ar/15bod_venta_depart...</td>\n",
       "      <td>2 AMBIENTES 3ER PISO LATERAL LIVING COMEDOR AM...</td>\n",
       "      <td>2 AMB 3ER PISO CON ASCENSOR APTO CREDITO</td>\n",
       "      <td>https://thumbs4.properati.com/5/SXKr34F_IwG3W_...</td>\n",
       "    </tr>\n",
       "    <tr>\n",
       "      <th>3</th>\n",
       "      <td>3</td>\n",
       "      <td>sell</td>\n",
       "      <td>PH</td>\n",
       "      <td>Liniers</td>\n",
       "      <td>|Argentina|Capital Federal|Liniers|</td>\n",
       "      <td>Argentina</td>\n",
       "      <td>Capital Federal</td>\n",
       "      <td>3431333.0</td>\n",
       "      <td>-34.6477969,-58.5164244</td>\n",
       "      <td>-34.647797</td>\n",
       "      <td>-58.516424</td>\n",
       "      <td>95000.0</td>\n",
       "      <td>USD</td>\n",
       "      <td>1676227.5</td>\n",
       "      <td>95000.0</td>\n",
       "      <td>NaN</td>\n",
       "      <td>NaN</td>\n",
       "      <td>NaN</td>\n",
       "      <td>NaN</td>\n",
       "      <td>NaN</td>\n",
       "      <td>NaN</td>\n",
       "      <td>NaN</td>\n",
       "      <td>http://www.properati.com.ar/15boh_venta_ph_lin...</td>\n",
       "      <td>PH 3 ambientes con patio. Hay 3 deptos en lote...</td>\n",
       "      <td>PH 3 amb. cfte. reciclado</td>\n",
       "      <td>https://thumbs4.properati.com/3/DgIfX-85Mog5SP...</td>\n",
       "    </tr>\n",
       "  </tbody>\n",
       "</table>\n",
       "</div>"
      ],
      "text/plain": [
       "   Unnamed: 0 operation property_type place_name  \\\n",
       "0           0      sell            PH  Mataderos   \n",
       "2           2      sell     apartment  Mataderos   \n",
       "3           3      sell            PH    Liniers   \n",
       "\n",
       "                 place_with_parent_names country_name       state_name  \\\n",
       "0  |Argentina|Capital Federal|Mataderos|    Argentina  Capital Federal   \n",
       "2  |Argentina|Capital Federal|Mataderos|    Argentina  Capital Federal   \n",
       "3    |Argentina|Capital Federal|Liniers|    Argentina  Capital Federal   \n",
       "\n",
       "   geonames_id                  lat-lon        lat        lon    price  \\\n",
       "0    3430787.0  -34.6618237,-58.5088387 -34.661824 -58.508839  62000.0   \n",
       "2    3430787.0  -34.6522615,-58.5229825 -34.652262 -58.522982  72000.0   \n",
       "3    3431333.0  -34.6477969,-58.5164244 -34.647797 -58.516424  95000.0   \n",
       "\n",
       "  currency  price_aprox_local_currency  price_aprox_usd  surface_total_in_m2  \\\n",
       "0      USD                   1093959.0          62000.0                 55.0   \n",
       "2      USD                   1270404.0          72000.0                 55.0   \n",
       "3      USD                   1676227.5          95000.0                  NaN   \n",
       "\n",
       "   surface_covered_in_m2  price_usd_per_m2  price_per_m2  floor  rooms  \\\n",
       "0                   40.0       1127.272727   1550.000000    NaN    NaN   \n",
       "2                   55.0       1309.090909   1309.090909    NaN    NaN   \n",
       "3                    NaN               NaN           NaN    NaN    NaN   \n",
       "\n",
       "   expenses                                      properati_url  \\\n",
       "0       NaN  http://www.properati.com.ar/15bo8_venta_ph_mat...   \n",
       "2       NaN  http://www.properati.com.ar/15bod_venta_depart...   \n",
       "3       NaN  http://www.properati.com.ar/15boh_venta_ph_lin...   \n",
       "\n",
       "                                         description  \\\n",
       "0  2 AMBIENTES TIPO CASA PLANTA BAJA POR PASILLO,...   \n",
       "2  2 AMBIENTES 3ER PISO LATERAL LIVING COMEDOR AM...   \n",
       "3  PH 3 ambientes con patio. Hay 3 deptos en lote...   \n",
       "\n",
       "                                      title  \\\n",
       "0        2 AMB TIPO CASA SIN EXPENSAS EN PB   \n",
       "2  2 AMB 3ER PISO CON ASCENSOR APTO CREDITO   \n",
       "3              PH 3 amb. cfte. reciclado      \n",
       "\n",
       "                                     image_thumbnail  \n",
       "0  https://thumbs4.properati.com/8/BluUYiHJLhgIIK...  \n",
       "2  https://thumbs4.properati.com/5/SXKr34F_IwG3W_...  \n",
       "3  https://thumbs4.properati.com/3/DgIfX-85Mog5SP...  "
      ]
     },
     "execution_count": 337,
     "metadata": {},
     "output_type": "execute_result"
    }
   ],
   "source": [
    "# Creamos una máscara y la aplicamos al dataframe anterior para traer los registros que necesitamos\n",
    "data_caba_mask = data.state_name == 'Capital Federal' \n",
    "data_caba = data.loc[data_caba_mask, :]\n",
    "\n",
    "# Chequeamos cómo quedaron los datos\n",
    "data_caba.head(3)"
   ]
  },
  {
   "cell_type": "code",
   "execution_count": 338,
   "metadata": {},
   "outputs": [
    {
     "data": {
      "text/plain": [
       "(32316, 26)"
      ]
     },
     "execution_count": 338,
     "metadata": {},
     "output_type": "execute_result"
    }
   ],
   "source": [
    "data_caba.shape"
   ]
  },
  {
   "cell_type": "code",
   "execution_count": 339,
   "metadata": {},
   "outputs": [
    {
     "data": {
      "text/plain": [
       "Unnamed: 0                      int64\n",
       "operation                      object\n",
       "property_type                  object\n",
       "place_name                     object\n",
       "place_with_parent_names        object\n",
       "country_name                   object\n",
       "state_name                     object\n",
       "geonames_id                   float64\n",
       "lat-lon                        object\n",
       "lat                           float64\n",
       "lon                           float64\n",
       "price                         float64\n",
       "currency                       object\n",
       "price_aprox_local_currency    float64\n",
       "price_aprox_usd               float64\n",
       "surface_total_in_m2           float64\n",
       "surface_covered_in_m2         float64\n",
       "price_usd_per_m2              float64\n",
       "price_per_m2                  float64\n",
       "floor                         float64\n",
       "rooms                         float64\n",
       "expenses                      float64\n",
       "properati_url                  object\n",
       "description                    object\n",
       "title                          object\n",
       "image_thumbnail                object\n",
       "dtype: object"
      ]
     },
     "execution_count": 339,
     "metadata": {},
     "output_type": "execute_result"
    }
   ],
   "source": [
    "data_caba.dtypes"
   ]
  },
  {
   "cell_type": "markdown",
   "metadata": {},
   "source": [
    "<a id=\"section_dataset_nulos\"></a> \n",
    "<h3>Cálculo de cantidad de nulos</h3>\n",
    "\n",
    "[volver a TOC](#section_toc)"
   ]
  },
  {
   "cell_type": "code",
   "execution_count": 340,
   "metadata": {},
   "outputs": [],
   "source": [
    "# # Calculamos cantidad de nulos por campo\n",
    "# cant_nulos_por_campo = data_caba.isnull().sum()\n",
    "# cant_nulos_por_campo"
   ]
  },
  {
   "cell_type": "code",
   "execution_count": 341,
   "metadata": {},
   "outputs": [],
   "source": [
    "# # Calculamos porcentaje de nulos por campo\n",
    "# cant_registros = data_caba.shape[0]\n",
    "# print(f'Cantidad Original de registros: {cant_registros}\\n')\n",
    "# #len(data.index) es lo mismo\n",
    "\n",
    "# porc_nulos_por_campo = np.round((100 * cant_nulos_por_campo / cant_registros),2)\n",
    "# print(porc_nulos_por_campo)"
   ]
  },
  {
   "cell_type": "markdown",
   "metadata": {},
   "source": [
    "<h4> Distribución de <strong>property_type</strong>"
   ]
  },
  {
   "cell_type": "code",
   "execution_count": 342,
   "metadata": {},
   "outputs": [
    {
     "name": "stdout",
     "output_type": "stream",
     "text": [
      "property_type: \n",
      "apartment    27037\n",
      "house         2087\n",
      "PH            1828\n",
      "store         1364\n",
      "Name: property_type, dtype: int64\n"
     ]
    }
   ],
   "source": [
    "# Contamos cantidad de valores de cada elemento en property_type y operation para ver distribución\n",
    "property_type_count = data_caba.property_type.value_counts()\n",
    "print(f'property_type: \\n{property_type_count}')"
   ]
  },
  {
   "cell_type": "code",
   "execution_count": 343,
   "metadata": {},
   "outputs": [],
   "source": [
    "# # Convertimos el count anterior en las categorías del gráfico\n",
    "# categories = np.array(property_type_count.index)\n",
    "\n",
    "# cord_x = data_caba.property_type.value_counts() / data_caba.shape[0]\n",
    "# palette = ['#440154', '#29788E', '#22A784', '#FDE724']\n",
    "\n",
    "# p = figure(x_range=categories, plot_width=500, plot_height=200)\n",
    "# p.vbar(x=categories, top=cord_x, width=0.6,\n",
    "#        color=palette)\n",
    "\n",
    "# p.yaxis.formatter = NumeralTickFormatter(format='0 %')\n",
    "# output_notebook(resources=INLINE)\n",
    "# show(p)"
   ]
  },
  {
   "cell_type": "markdown",
   "metadata": {},
   "source": [
    "<h4>Distribución de <strong>currency</strong></h4>"
   ]
  },
  {
   "cell_type": "code",
   "execution_count": 344,
   "metadata": {},
   "outputs": [
    {
     "data": {
      "text/plain": [
       "USD    27826\n",
       "ARS     1190\n",
       "PEN        2\n",
       "Name: currency, dtype: int64"
      ]
     },
     "execution_count": 344,
     "metadata": {},
     "output_type": "execute_result"
    }
   ],
   "source": [
    "data_caba.currency.value_counts()"
   ]
  },
  {
   "cell_type": "markdown",
   "metadata": {},
   "source": [
    "<h4>Distribución de <strong>barrio</strong></h4>"
   ]
  },
  {
   "cell_type": "code",
   "execution_count": 345,
   "metadata": {},
   "outputs": [
    {
     "data": {
      "text/plain": [
       "Belgrano                2992\n",
       "Palermo                 2885\n",
       "Caballito               2273\n",
       "Villa Urquiza           1629\n",
       "Recoleta                1547\n",
       "Flores                  1354\n",
       "Villa Crespo            1331\n",
       "Capital Federal         1297\n",
       "San Telmo               1216\n",
       "Almagro                 1165\n",
       "Barrio Norte            1140\n",
       "Boedo                    890\n",
       "Nuñez                    778\n",
       "Balvanera                667\n",
       "Puerto Madero            647\n",
       "San Cristobal            614\n",
       "Saavedra                 542\n",
       "Monserrat                538\n",
       "Palermo Hollywood        532\n",
       "Floresta                 516\n",
       "Villa del Parque         488\n",
       "Villa Luro               432\n",
       "Barracas                 425\n",
       "Villa Devoto             420\n",
       "Mataderos                418\n",
       "Liniers                  408\n",
       "Palermo Soho             394\n",
       "Colegiales               352\n",
       "Parque Patricios         322\n",
       "Congreso                 304\n",
       "Coghlan                  259\n",
       "Retiro                   248\n",
       "Palermo Chico            232\n",
       "Chacarita                227\n",
       "Centro / Microcentro     223\n",
       "Boca                     223\n",
       "Constitución             211\n",
       "Villa Lugano             205\n",
       "Once                     198\n",
       "San Nicolás              187\n",
       "Villa Pueyrredón         175\n",
       "Paternal                 173\n",
       "Parque Chacabuco         146\n",
       "Las Cañitas              143\n",
       "Abasto                   113\n",
       "Tribunales                98\n",
       "Villa Ortuzar             86\n",
       "Monte Castro              79\n",
       "Parque Centenario         68\n",
       "Pompeya                   64\n",
       "Villa Santa Rita          57\n",
       "Parque Avellaneda         56\n",
       "Versalles                 55\n",
       "Villa General Mitre       48\n",
       "Parque Chas               44\n",
       "Agronomía                 41\n",
       "Palermo Viejo             40\n",
       "Velez Sarsfield           39\n",
       "Villa Real                37\n",
       "Villa Soldati             15\n",
       "Villa Riachuelo            6\n",
       "Catalinas                  4\n",
       "Name: place_name, dtype: int64"
      ]
     },
     "execution_count": 345,
     "metadata": {},
     "output_type": "execute_result"
    }
   ],
   "source": [
    "place_name_count = data_caba.place_name.value_counts()\n",
    "# place_name_count.sort_index()\n",
    "place_name_count"
   ]
  },
  {
   "cell_type": "markdown",
   "metadata": {},
   "source": [
    "<h2>Limpieza de Datos</h2>"
   ]
  },
  {
   "cell_type": "markdown",
   "metadata": {},
   "source": [
    "<a id=\"section_dataset_drop\"></a> \n",
    "<h3> Drop de columnas innecesarias </h3>\n",
    "\n",
    "[volver a TOC](#section_toc)"
   ]
  },
  {
   "cell_type": "code",
   "execution_count": 346,
   "metadata": {},
   "outputs": [
    {
     "data": {
      "text/html": [
       "<div>\n",
       "<style scoped>\n",
       "    .dataframe tbody tr th:only-of-type {\n",
       "        vertical-align: middle;\n",
       "    }\n",
       "\n",
       "    .dataframe tbody tr th {\n",
       "        vertical-align: top;\n",
       "    }\n",
       "\n",
       "    .dataframe thead th {\n",
       "        text-align: right;\n",
       "    }\n",
       "</style>\n",
       "<table border=\"1\" class=\"dataframe\">\n",
       "  <thead>\n",
       "    <tr style=\"text-align: right;\">\n",
       "      <th></th>\n",
       "      <th>property_type</th>\n",
       "      <th>place_name</th>\n",
       "      <th>price</th>\n",
       "      <th>currency</th>\n",
       "      <th>price_aprox_local_currency</th>\n",
       "      <th>price_aprox_usd</th>\n",
       "      <th>surface_total_in_m2</th>\n",
       "      <th>surface_covered_in_m2</th>\n",
       "      <th>price_usd_per_m2</th>\n",
       "      <th>price_per_m2</th>\n",
       "      <th>floor</th>\n",
       "      <th>rooms</th>\n",
       "      <th>description</th>\n",
       "    </tr>\n",
       "  </thead>\n",
       "  <tbody>\n",
       "    <tr>\n",
       "      <th>0</th>\n",
       "      <td>PH</td>\n",
       "      <td>Mataderos</td>\n",
       "      <td>62000.0</td>\n",
       "      <td>USD</td>\n",
       "      <td>1093959.0</td>\n",
       "      <td>62000.0</td>\n",
       "      <td>55.0</td>\n",
       "      <td>40.0</td>\n",
       "      <td>1127.272727</td>\n",
       "      <td>1550.000000</td>\n",
       "      <td>NaN</td>\n",
       "      <td>NaN</td>\n",
       "      <td>2 AMBIENTES TIPO CASA PLANTA BAJA POR PASILLO,...</td>\n",
       "    </tr>\n",
       "    <tr>\n",
       "      <th>2</th>\n",
       "      <td>apartment</td>\n",
       "      <td>Mataderos</td>\n",
       "      <td>72000.0</td>\n",
       "      <td>USD</td>\n",
       "      <td>1270404.0</td>\n",
       "      <td>72000.0</td>\n",
       "      <td>55.0</td>\n",
       "      <td>55.0</td>\n",
       "      <td>1309.090909</td>\n",
       "      <td>1309.090909</td>\n",
       "      <td>NaN</td>\n",
       "      <td>NaN</td>\n",
       "      <td>2 AMBIENTES 3ER PISO LATERAL LIVING COMEDOR AM...</td>\n",
       "    </tr>\n",
       "    <tr>\n",
       "      <th>3</th>\n",
       "      <td>PH</td>\n",
       "      <td>Liniers</td>\n",
       "      <td>95000.0</td>\n",
       "      <td>USD</td>\n",
       "      <td>1676227.5</td>\n",
       "      <td>95000.0</td>\n",
       "      <td>NaN</td>\n",
       "      <td>NaN</td>\n",
       "      <td>NaN</td>\n",
       "      <td>NaN</td>\n",
       "      <td>NaN</td>\n",
       "      <td>NaN</td>\n",
       "      <td>PH 3 ambientes con patio. Hay 3 deptos en lote...</td>\n",
       "    </tr>\n",
       "    <tr>\n",
       "      <th>7</th>\n",
       "      <td>apartment</td>\n",
       "      <td>Belgrano</td>\n",
       "      <td>138000.0</td>\n",
       "      <td>USD</td>\n",
       "      <td>2434941.0</td>\n",
       "      <td>138000.0</td>\n",
       "      <td>45.0</td>\n",
       "      <td>40.0</td>\n",
       "      <td>3066.666667</td>\n",
       "      <td>3450.000000</td>\n",
       "      <td>NaN</td>\n",
       "      <td>NaN</td>\n",
       "      <td>EXCELENTE MONOAMBIENTE A ESTRENAR AMPLIO SUPER...</td>\n",
       "    </tr>\n",
       "    <tr>\n",
       "      <th>8</th>\n",
       "      <td>apartment</td>\n",
       "      <td>Belgrano</td>\n",
       "      <td>195000.0</td>\n",
       "      <td>USD</td>\n",
       "      <td>3440677.5</td>\n",
       "      <td>195000.0</td>\n",
       "      <td>65.0</td>\n",
       "      <td>60.0</td>\n",
       "      <td>3000.000000</td>\n",
       "      <td>3250.000000</td>\n",
       "      <td>NaN</td>\n",
       "      <td>NaN</td>\n",
       "      <td>EXCELENTE DOS AMBIENTES  ESTRENAR AMPLIO SUPER...</td>\n",
       "    </tr>\n",
       "  </tbody>\n",
       "</table>\n",
       "</div>"
      ],
      "text/plain": [
       "  property_type place_name     price currency  price_aprox_local_currency  \\\n",
       "0            PH  Mataderos   62000.0      USD                   1093959.0   \n",
       "2     apartment  Mataderos   72000.0      USD                   1270404.0   \n",
       "3            PH    Liniers   95000.0      USD                   1676227.5   \n",
       "7     apartment   Belgrano  138000.0      USD                   2434941.0   \n",
       "8     apartment   Belgrano  195000.0      USD                   3440677.5   \n",
       "\n",
       "   price_aprox_usd  surface_total_in_m2  surface_covered_in_m2  \\\n",
       "0          62000.0                 55.0                   40.0   \n",
       "2          72000.0                 55.0                   55.0   \n",
       "3          95000.0                  NaN                    NaN   \n",
       "7         138000.0                 45.0                   40.0   \n",
       "8         195000.0                 65.0                   60.0   \n",
       "\n",
       "   price_usd_per_m2  price_per_m2  floor  rooms  \\\n",
       "0       1127.272727   1550.000000    NaN    NaN   \n",
       "2       1309.090909   1309.090909    NaN    NaN   \n",
       "3               NaN           NaN    NaN    NaN   \n",
       "7       3066.666667   3450.000000    NaN    NaN   \n",
       "8       3000.000000   3250.000000    NaN    NaN   \n",
       "\n",
       "                                         description  \n",
       "0  2 AMBIENTES TIPO CASA PLANTA BAJA POR PASILLO,...  \n",
       "2  2 AMBIENTES 3ER PISO LATERAL LIVING COMEDOR AM...  \n",
       "3  PH 3 ambientes con patio. Hay 3 deptos en lote...  \n",
       "7  EXCELENTE MONOAMBIENTE A ESTRENAR AMPLIO SUPER...  \n",
       "8  EXCELENTE DOS AMBIENTES  ESTRENAR AMPLIO SUPER...  "
      ]
     },
     "execution_count": 346,
     "metadata": {},
     "output_type": "execute_result"
    }
   ],
   "source": [
    "# Creamos la lista de columnas a filtrar\n",
    "drop_columns = ['Unnamed: 0', 'operation', 'place_with_parent_names', 'country_name', 'state_name', 'geonames_id', 'lat-lon','lat', 'lon',\n",
    "               'expenses','properati_url','title', 'image_thumbnail']\n",
    "\n",
    "data_caba_clean = data_caba.drop(drop_columns, axis=1)\n",
    "data_caba_clean.head(5)"
   ]
  },
  {
   "cell_type": "markdown",
   "metadata": {},
   "source": [
    "\n",
    "<h3> Limpiamos <strong>currency</strong> </h3>\n",
    "\n",
    "[volver a TOC](#section_toc)"
   ]
  },
  {
   "cell_type": "code",
   "execution_count": 347,
   "metadata": {},
   "outputs": [
    {
     "data": {
      "text/html": [
       "<div>\n",
       "<style scoped>\n",
       "    .dataframe tbody tr th:only-of-type {\n",
       "        vertical-align: middle;\n",
       "    }\n",
       "\n",
       "    .dataframe tbody tr th {\n",
       "        vertical-align: top;\n",
       "    }\n",
       "\n",
       "    .dataframe thead th {\n",
       "        text-align: right;\n",
       "    }\n",
       "</style>\n",
       "<table border=\"1\" class=\"dataframe\">\n",
       "  <thead>\n",
       "    <tr style=\"text-align: right;\">\n",
       "      <th></th>\n",
       "      <th>property_type</th>\n",
       "      <th>place_name</th>\n",
       "      <th>price</th>\n",
       "      <th>currency</th>\n",
       "      <th>price_aprox_local_currency</th>\n",
       "      <th>price_aprox_usd</th>\n",
       "      <th>surface_total_in_m2</th>\n",
       "      <th>surface_covered_in_m2</th>\n",
       "      <th>price_usd_per_m2</th>\n",
       "      <th>price_per_m2</th>\n",
       "      <th>floor</th>\n",
       "      <th>rooms</th>\n",
       "      <th>description</th>\n",
       "    </tr>\n",
       "  </thead>\n",
       "  <tbody>\n",
       "    <tr>\n",
       "      <th>50387</th>\n",
       "      <td>apartment</td>\n",
       "      <td>Capital Federal</td>\n",
       "      <td>380000.0</td>\n",
       "      <td>PEN</td>\n",
       "      <td>2066864.90</td>\n",
       "      <td>117139.33</td>\n",
       "      <td>NaN</td>\n",
       "      <td>NaN</td>\n",
       "      <td>NaN</td>\n",
       "      <td>NaN</td>\n",
       "      <td>NaN</td>\n",
       "      <td>NaN</td>\n",
       "      <td>Ref.: 55:PREVENTA ::: OPORTUNIDAD ::: Dúplex a...</td>\n",
       "    </tr>\n",
       "    <tr>\n",
       "      <th>50388</th>\n",
       "      <td>apartment</td>\n",
       "      <td>Capital Federal</td>\n",
       "      <td>950000.0</td>\n",
       "      <td>PEN</td>\n",
       "      <td>5167162.35</td>\n",
       "      <td>292848.33</td>\n",
       "      <td>NaN</td>\n",
       "      <td>NaN</td>\n",
       "      <td>NaN</td>\n",
       "      <td>NaN</td>\n",
       "      <td>NaN</td>\n",
       "      <td>NaN</td>\n",
       "      <td>Ref.: 56Duplex en venta de 1 dormitorio con ap...</td>\n",
       "    </tr>\n",
       "  </tbody>\n",
       "</table>\n",
       "</div>"
      ],
      "text/plain": [
       "      property_type       place_name     price currency  \\\n",
       "50387     apartment  Capital Federal  380000.0      PEN   \n",
       "50388     apartment  Capital Federal  950000.0      PEN   \n",
       "\n",
       "       price_aprox_local_currency  price_aprox_usd  surface_total_in_m2  \\\n",
       "50387                  2066864.90        117139.33                  NaN   \n",
       "50388                  5167162.35        292848.33                  NaN   \n",
       "\n",
       "       surface_covered_in_m2  price_usd_per_m2  price_per_m2  floor  rooms  \\\n",
       "50387                    NaN               NaN           NaN    NaN    NaN   \n",
       "50388                    NaN               NaN           NaN    NaN    NaN   \n",
       "\n",
       "                                             description  \n",
       "50387  Ref.: 55:PREVENTA ::: OPORTUNIDAD ::: Dúplex a...  \n",
       "50388  Ref.: 56Duplex en venta de 1 dormitorio con ap...  "
      ]
     },
     "execution_count": 347,
     "metadata": {},
     "output_type": "execute_result"
    }
   ],
   "source": [
    "# Creamos una mask para traer los valores en monedas que no son USD ni ARS.\n",
    "currency_OTHER_CURRENCY_mask = (data_caba_clean.currency == 'PEN') | (data_caba_clean.currency == 'UYU')\n",
    "# Observamos esos registros\n",
    "data_caba_clean.loc[currency_OTHER_CURRENCY_mask, :]"
   ]
  },
  {
   "cell_type": "code",
   "execution_count": 348,
   "metadata": {},
   "outputs": [
    {
     "name": "stdout",
     "output_type": "stream",
     "text": [
      "Cantidad de registros original - registro actuales: 2\n"
     ]
    }
   ],
   "source": [
    "# Hacemos drop de esos registros y chequeamos la diferencia entre cantidad original y actual\n",
    "cant_registros = data_caba_clean.shape[0]\n",
    "# Dropeamos las moneda PEN y UYU ## OJO la moneda UYU era de una propiedad en Mendoza.\n",
    "data_caba_clean.drop(data_caba_clean.loc[currency_OTHER_CURRENCY_mask, :].index, inplace = True) \n",
    "# Verificamos.\n",
    "print(f'Cantidad de registros original - registro actuales: {cant_registros - data_caba_clean.shape[0]}')"
   ]
  },
  {
   "cell_type": "markdown",
   "metadata": {},
   "source": [
    "<h3> Limpiamos <strong>place_name</strong> </h3>\n",
    "\n",
    "[volver a TOC](#section_toc)"
   ]
  },
  {
   "cell_type": "code",
   "execution_count": 349,
   "metadata": {},
   "outputs": [
    {
     "data": {
      "text/plain": [
       "(31019, 13)"
      ]
     },
     "execution_count": 349,
     "metadata": {},
     "output_type": "execute_result"
    }
   ],
   "source": [
    "# Dropeamos los de Capital Federal\n",
    "capi_mask = data_caba_clean.place_name == 'Capital Federal'\n",
    "data_caba_clean.drop(data_caba_clean.loc[capi_mask, :].index, inplace=True)\n",
    "\n",
    "# Chequeamos cómo quedaron los datos\n",
    "data_caba_clean.shape"
   ]
  },
  {
   "cell_type": "markdown",
   "metadata": {},
   "source": [
    "<h3> Volvemos a calcular cantidad de nulos luego de eliminar columnas y registros"
   ]
  },
  {
   "cell_type": "code",
   "execution_count": 350,
   "metadata": {},
   "outputs": [
    {
     "data": {
      "text/plain": [
       "property_type                     0\n",
       "place_name                        0\n",
       "price                          2959\n",
       "currency                       2959\n",
       "price_aprox_local_currency     2959\n",
       "price_aprox_usd                2959\n",
       "surface_total_in_m2            5707\n",
       "surface_covered_in_m2          1963\n",
       "price_usd_per_m2               8416\n",
       "price_per_m2                   4570\n",
       "floor                         28070\n",
       "rooms                         15748\n",
       "description                       0\n",
       "dtype: int64"
      ]
     },
     "execution_count": 350,
     "metadata": {},
     "output_type": "execute_result"
    }
   ],
   "source": [
    "# Calculamos cantidad de nulos por campo\n",
    "cant_nulos_por_campo = data_caba_clean.isnull().sum()\n",
    "cant_nulos_por_campo"
   ]
  },
  {
   "cell_type": "code",
   "execution_count": 351,
   "metadata": {},
   "outputs": [
    {
     "name": "stdout",
     "output_type": "stream",
     "text": [
      "Cantidad Original de registros: 31019\n",
      "\n",
      "property_type                  0.00\n",
      "place_name                     0.00\n",
      "price                          9.54\n",
      "currency                       9.54\n",
      "price_aprox_local_currency     9.54\n",
      "price_aprox_usd                9.54\n",
      "surface_total_in_m2           18.40\n",
      "surface_covered_in_m2          6.33\n",
      "price_usd_per_m2              27.13\n",
      "price_per_m2                  14.73\n",
      "floor                         90.49\n",
      "rooms                         50.77\n",
      "description                    0.00\n",
      "dtype: float64\n"
     ]
    }
   ],
   "source": [
    "# Calculamos porcentaje de nulos por campo\n",
    "cant_registros = data_caba_clean.shape[0]\n",
    "print(f'Cantidad Original de registros: {cant_registros}\\n')\n",
    "#len(data.index) es lo mismo\n",
    "\n",
    "porc_nulos_por_campo = np.round((100 * cant_nulos_por_campo / cant_registros),2)\n",
    "print(porc_nulos_por_campo)"
   ]
  },
  {
   "cell_type": "code",
   "execution_count": 352,
   "metadata": {},
   "outputs": [
    {
     "data": {
      "text/plain": [
       "(31019, 13)"
      ]
     },
     "execution_count": 352,
     "metadata": {},
     "output_type": "execute_result"
    }
   ],
   "source": [
    "data_caba_clean.shape"
   ]
  },
  {
   "cell_type": "code",
   "execution_count": 353,
   "metadata": {},
   "outputs": [
    {
     "data": {
      "text/html": [
       "<div>\n",
       "<style scoped>\n",
       "    .dataframe tbody tr th:only-of-type {\n",
       "        vertical-align: middle;\n",
       "    }\n",
       "\n",
       "    .dataframe tbody tr th {\n",
       "        vertical-align: top;\n",
       "    }\n",
       "\n",
       "    .dataframe thead th {\n",
       "        text-align: right;\n",
       "    }\n",
       "</style>\n",
       "<table border=\"1\" class=\"dataframe\">\n",
       "  <thead>\n",
       "    <tr style=\"text-align: right;\">\n",
       "      <th></th>\n",
       "      <th>property_type</th>\n",
       "      <th>place_name</th>\n",
       "      <th>price</th>\n",
       "      <th>currency</th>\n",
       "      <th>price_aprox_local_currency</th>\n",
       "      <th>price_aprox_usd</th>\n",
       "      <th>surface_total_in_m2</th>\n",
       "      <th>surface_covered_in_m2</th>\n",
       "      <th>price_usd_per_m2</th>\n",
       "      <th>price_per_m2</th>\n",
       "      <th>floor</th>\n",
       "      <th>rooms</th>\n",
       "      <th>description</th>\n",
       "    </tr>\n",
       "  </thead>\n",
       "  <tbody>\n",
       "    <tr>\n",
       "      <th>24861</th>\n",
       "      <td>apartment</td>\n",
       "      <td>Saavedra</td>\n",
       "      <td>86320.0</td>\n",
       "      <td>USD</td>\n",
       "      <td>1523073.24</td>\n",
       "      <td>86320.0</td>\n",
       "      <td>56.0</td>\n",
       "      <td>56.0</td>\n",
       "      <td>1541.428571</td>\n",
       "      <td>1541.428571</td>\n",
       "      <td>NaN</td>\n",
       "      <td>2.0</td>\n",
       "      <td>ULTIMAS UNIDADES DISPONIBLES!! 2H realizar un ...</td>\n",
       "    </tr>\n",
       "    <tr>\n",
       "      <th>74214</th>\n",
       "      <td>apartment</td>\n",
       "      <td>Belgrano</td>\n",
       "      <td>99900.0</td>\n",
       "      <td>USD</td>\n",
       "      <td>1762685.55</td>\n",
       "      <td>99900.0</td>\n",
       "      <td>34.0</td>\n",
       "      <td>31.0</td>\n",
       "      <td>2938.235294</td>\n",
       "      <td>3222.580645</td>\n",
       "      <td>NaN</td>\n",
       "      <td>NaN</td>\n",
       "      <td>Se trata de un edificio en Belgrano, en una zo...</td>\n",
       "    </tr>\n",
       "    <tr>\n",
       "      <th>70849</th>\n",
       "      <td>apartment</td>\n",
       "      <td>Nuñez</td>\n",
       "      <td>300000.0</td>\n",
       "      <td>USD</td>\n",
       "      <td>5293350.00</td>\n",
       "      <td>300000.0</td>\n",
       "      <td>100.0</td>\n",
       "      <td>92.0</td>\n",
       "      <td>3000.000000</td>\n",
       "      <td>3260.869565</td>\n",
       "      <td>NaN</td>\n",
       "      <td>NaN</td>\n",
       "      <td>Hermoso departamento en edificio en torre.Ampl...</td>\n",
       "    </tr>\n",
       "    <tr>\n",
       "      <th>27304</th>\n",
       "      <td>apartment</td>\n",
       "      <td>San Nicolás</td>\n",
       "      <td>89000.0</td>\n",
       "      <td>USD</td>\n",
       "      <td>1570360.50</td>\n",
       "      <td>89000.0</td>\n",
       "      <td>NaN</td>\n",
       "      <td>46.0</td>\n",
       "      <td>NaN</td>\n",
       "      <td>1934.782609</td>\n",
       "      <td>23.0</td>\n",
       "      <td>3.0</td>\n",
       "      <td>Corredor Responsable: Gustavo Guastello - C.U....</td>\n",
       "    </tr>\n",
       "    <tr>\n",
       "      <th>7173</th>\n",
       "      <td>apartment</td>\n",
       "      <td>Las Cañitas</td>\n",
       "      <td>259000.0</td>\n",
       "      <td>USD</td>\n",
       "      <td>4569925.50</td>\n",
       "      <td>259000.0</td>\n",
       "      <td>81.0</td>\n",
       "      <td>81.0</td>\n",
       "      <td>3197.530864</td>\n",
       "      <td>3197.530864</td>\n",
       "      <td>NaN</td>\n",
       "      <td>3.0</td>\n",
       "      <td>Excelente semi piso ubicado en una de las mejo...</td>\n",
       "    </tr>\n",
       "  </tbody>\n",
       "</table>\n",
       "</div>"
      ],
      "text/plain": [
       "      property_type   place_name     price currency  \\\n",
       "24861     apartment     Saavedra   86320.0      USD   \n",
       "74214     apartment     Belgrano   99900.0      USD   \n",
       "70849     apartment        Nuñez  300000.0      USD   \n",
       "27304     apartment  San Nicolás   89000.0      USD   \n",
       "7173      apartment  Las Cañitas  259000.0      USD   \n",
       "\n",
       "       price_aprox_local_currency  price_aprox_usd  surface_total_in_m2  \\\n",
       "24861                  1523073.24          86320.0                 56.0   \n",
       "74214                  1762685.55          99900.0                 34.0   \n",
       "70849                  5293350.00         300000.0                100.0   \n",
       "27304                  1570360.50          89000.0                  NaN   \n",
       "7173                   4569925.50         259000.0                 81.0   \n",
       "\n",
       "       surface_covered_in_m2  price_usd_per_m2  price_per_m2  floor  rooms  \\\n",
       "24861                   56.0       1541.428571   1541.428571    NaN    2.0   \n",
       "74214                   31.0       2938.235294   3222.580645    NaN    NaN   \n",
       "70849                   92.0       3000.000000   3260.869565    NaN    NaN   \n",
       "27304                   46.0               NaN   1934.782609   23.0    3.0   \n",
       "7173                    81.0       3197.530864   3197.530864    NaN    3.0   \n",
       "\n",
       "                                             description  \n",
       "24861  ULTIMAS UNIDADES DISPONIBLES!! 2H realizar un ...  \n",
       "74214  Se trata de un edificio en Belgrano, en una zo...  \n",
       "70849  Hermoso departamento en edificio en torre.Ampl...  \n",
       "27304  Corredor Responsable: Gustavo Guastello - C.U....  \n",
       "7173   Excelente semi piso ubicado en una de las mejo...  "
      ]
     },
     "execution_count": 353,
     "metadata": {},
     "output_type": "execute_result"
    }
   ],
   "source": [
    "data_caba_clean.sample(5)"
   ]
  },
  {
   "cell_type": "markdown",
   "metadata": {},
   "source": [
    "## De los datos filtrados según Desafio 1 deberiamos:\n",
    "\n",
    "1. Terminar de dropear variables incompletas que serian necesarias para poder entrenar un modelo. (ejemplo: si la propiedad no posee: price, price_aprox_local_currency,price_usd_per_m2, price_per_m2, etc...) la información de los barrios ya fue analizado y dropeado en el paso anterior.\n",
    "2. Definir las variables CUANTITATIVAS, ejemplo precio, total de m2 de superficie.\n",
    "3. Armar las variables CUALITATIVAS, Dummy (ejemplo: place_name, property_type, amenities, rooms).\n",
    "4. Armar una nueva variable Dummy que contemple los precios de propiedad segun su distribución por metro cuadrado. Utilizando Panda CUT. \n",
    "\n",
    "## Finalizado el analisis de datos, armamos diferentes modelos para predecir el precio de la propiedad.\n",
    "\n",
    "1. Regresion Lineal Multiple\n",
    "2. Entrenar los modelos con Lasso, RidgeCV y utilizando Cross Validation.\n",
    "\n"
   ]
  },
  {
   "cell_type": "markdown",
   "metadata": {},
   "source": [
    "### Primero damos homogenidad a los datos\n",
    "\n",
    "Vamos a realizar ciertas verificaciones de los datos."
   ]
  },
  {
   "cell_type": "code",
   "execution_count": 354,
   "metadata": {},
   "outputs": [
    {
     "data": {
      "text/plain": [
       "(4138, 13)"
      ]
     },
     "metadata": {},
     "output_type": "display_data"
    },
    {
     "data": {
      "text/html": [
       "<div>\n",
       "<style scoped>\n",
       "    .dataframe tbody tr th:only-of-type {\n",
       "        vertical-align: middle;\n",
       "    }\n",
       "\n",
       "    .dataframe tbody tr th {\n",
       "        vertical-align: top;\n",
       "    }\n",
       "\n",
       "    .dataframe thead th {\n",
       "        text-align: right;\n",
       "    }\n",
       "</style>\n",
       "<table border=\"1\" class=\"dataframe\">\n",
       "  <thead>\n",
       "    <tr style=\"text-align: right;\">\n",
       "      <th></th>\n",
       "      <th>property_type</th>\n",
       "      <th>place_name</th>\n",
       "      <th>price</th>\n",
       "      <th>currency</th>\n",
       "      <th>price_aprox_local_currency</th>\n",
       "      <th>price_aprox_usd</th>\n",
       "      <th>surface_total_in_m2</th>\n",
       "      <th>surface_covered_in_m2</th>\n",
       "      <th>price_usd_per_m2</th>\n",
       "      <th>price_per_m2</th>\n",
       "      <th>floor</th>\n",
       "      <th>rooms</th>\n",
       "      <th>description</th>\n",
       "    </tr>\n",
       "  </thead>\n",
       "  <tbody>\n",
       "    <tr>\n",
       "      <th>106953</th>\n",
       "      <td>apartment</td>\n",
       "      <td>Palermo</td>\n",
       "      <td>NaN</td>\n",
       "      <td>NaN</td>\n",
       "      <td>NaN</td>\n",
       "      <td>NaN</td>\n",
       "      <td>97.0</td>\n",
       "      <td>101.0</td>\n",
       "      <td>NaN</td>\n",
       "      <td>NaN</td>\n",
       "      <td>NaN</td>\n",
       "      <td>NaN</td>\n",
       "      <td>CODIGO: 1237-143 ubicado en: Juncal 4600 -  Pu...</td>\n",
       "    </tr>\n",
       "    <tr>\n",
       "      <th>64424</th>\n",
       "      <td>house</td>\n",
       "      <td>Palermo</td>\n",
       "      <td>NaN</td>\n",
       "      <td>NaN</td>\n",
       "      <td>NaN</td>\n",
       "      <td>NaN</td>\n",
       "      <td>522.0</td>\n",
       "      <td>350.0</td>\n",
       "      <td>NaN</td>\n",
       "      <td>NaN</td>\n",
       "      <td>NaN</td>\n",
       "      <td>NaN</td>\n",
       "      <td>VENTA CON RENTA CASA DE 430 MTS TOTALES CON JA...</td>\n",
       "    </tr>\n",
       "    <tr>\n",
       "      <th>99247</th>\n",
       "      <td>apartment</td>\n",
       "      <td>Chacarita</td>\n",
       "      <td>2560000.0</td>\n",
       "      <td>ARS</td>\n",
       "      <td>2533295.14</td>\n",
       "      <td>143574.21</td>\n",
       "      <td>74.0</td>\n",
       "      <td>64.0</td>\n",
       "      <td>1940.192027</td>\n",
       "      <td>40000.000000</td>\n",
       "      <td>NaN</td>\n",
       "      <td>NaN</td>\n",
       "      <td>Los Andes Parque. 1, 2 y 3 ambient...</td>\n",
       "    </tr>\n",
       "    <tr>\n",
       "      <th>2612</th>\n",
       "      <td>apartment</td>\n",
       "      <td>Boca</td>\n",
       "      <td>NaN</td>\n",
       "      <td>NaN</td>\n",
       "      <td>NaN</td>\n",
       "      <td>NaN</td>\n",
       "      <td>69.0</td>\n",
       "      <td>48.0</td>\n",
       "      <td>NaN</td>\n",
       "      <td>NaN</td>\n",
       "      <td>NaN</td>\n",
       "      <td>1.0</td>\n",
       "      <td>EXCELENTE DEPARTAMENTO 2 AMBIENTES EN VENTA, E...</td>\n",
       "    </tr>\n",
       "    <tr>\n",
       "      <th>120889</th>\n",
       "      <td>apartment</td>\n",
       "      <td>Villa Crespo</td>\n",
       "      <td>NaN</td>\n",
       "      <td>NaN</td>\n",
       "      <td>NaN</td>\n",
       "      <td>NaN</td>\n",
       "      <td>39.0</td>\n",
       "      <td>39.0</td>\n",
       "      <td>NaN</td>\n",
       "      <td>NaN</td>\n",
       "      <td>NaN</td>\n",
       "      <td>NaN</td>\n",
       "      <td>AMBIENTE DIVISIBLE CON PISOS D...</td>\n",
       "    </tr>\n",
       "    <tr>\n",
       "      <th>42554</th>\n",
       "      <td>apartment</td>\n",
       "      <td>Villa Urquiza</td>\n",
       "      <td>4037090.0</td>\n",
       "      <td>ARS</td>\n",
       "      <td>3994976.82</td>\n",
       "      <td>226414.85</td>\n",
       "      <td>81.0</td>\n",
       "      <td>68.0</td>\n",
       "      <td>2795.245062</td>\n",
       "      <td>59368.970588</td>\n",
       "      <td>NaN</td>\n",
       "      <td>3.0</td>\n",
       "      <td>3 AMBIENTES CON BALCÓN CORRIDO AL FRENTE - 2 B...</td>\n",
       "    </tr>\n",
       "    <tr>\n",
       "      <th>16388</th>\n",
       "      <td>apartment</td>\n",
       "      <td>Congreso</td>\n",
       "      <td>NaN</td>\n",
       "      <td>NaN</td>\n",
       "      <td>NaN</td>\n",
       "      <td>NaN</td>\n",
       "      <td>39.0</td>\n",
       "      <td>39.0</td>\n",
       "      <td>NaN</td>\n",
       "      <td>NaN</td>\n",
       "      <td>NaN</td>\n",
       "      <td>1.0</td>\n",
       "      <td>A pasos de las Avenidas Callao, Corrientes y R...</td>\n",
       "    </tr>\n",
       "    <tr>\n",
       "      <th>76418</th>\n",
       "      <td>apartment</td>\n",
       "      <td>Nuñez</td>\n",
       "      <td>2418477.0</td>\n",
       "      <td>ARS</td>\n",
       "      <td>2393248.45</td>\n",
       "      <td>135637.08</td>\n",
       "      <td>68.0</td>\n",
       "      <td>44.0</td>\n",
       "      <td>1994.662941</td>\n",
       "      <td>54965.386364</td>\n",
       "      <td>NaN</td>\n",
       "      <td>NaN</td>\n",
       "      <td>Dos ambientes en construcción de 68.66 m2 tota...</td>\n",
       "    </tr>\n",
       "    <tr>\n",
       "      <th>24694</th>\n",
       "      <td>apartment</td>\n",
       "      <td>Palermo</td>\n",
       "      <td>NaN</td>\n",
       "      <td>NaN</td>\n",
       "      <td>NaN</td>\n",
       "      <td>NaN</td>\n",
       "      <td>116.0</td>\n",
       "      <td>103.0</td>\n",
       "      <td>NaN</td>\n",
       "      <td>NaN</td>\n",
       "      <td>NaN</td>\n",
       "      <td>4.0</td>\n",
       "      <td>Astor Palermo es una torre de 26 pisos con vis...</td>\n",
       "    </tr>\n",
       "    <tr>\n",
       "      <th>118620</th>\n",
       "      <td>apartment</td>\n",
       "      <td>Caballito</td>\n",
       "      <td>NaN</td>\n",
       "      <td>NaN</td>\n",
       "      <td>NaN</td>\n",
       "      <td>NaN</td>\n",
       "      <td>78.0</td>\n",
       "      <td>70.0</td>\n",
       "      <td>NaN</td>\n",
       "      <td>NaN</td>\n",
       "      <td>NaN</td>\n",
       "      <td>NaN</td>\n",
       "      <td>Venta-Departamento 3 AMB Caballito sobre la e...</td>\n",
       "    </tr>\n",
       "  </tbody>\n",
       "</table>\n",
       "</div>"
      ],
      "text/plain": [
       "       property_type     place_name      price currency  \\\n",
       "106953     apartment        Palermo        NaN      NaN   \n",
       "64424          house        Palermo        NaN      NaN   \n",
       "99247      apartment      Chacarita  2560000.0      ARS   \n",
       "2612       apartment           Boca        NaN      NaN   \n",
       "120889     apartment   Villa Crespo        NaN      NaN   \n",
       "42554      apartment  Villa Urquiza  4037090.0      ARS   \n",
       "16388      apartment       Congreso        NaN      NaN   \n",
       "76418      apartment          Nuñez  2418477.0      ARS   \n",
       "24694      apartment        Palermo        NaN      NaN   \n",
       "118620     apartment      Caballito        NaN      NaN   \n",
       "\n",
       "        price_aprox_local_currency  price_aprox_usd  surface_total_in_m2  \\\n",
       "106953                         NaN              NaN                 97.0   \n",
       "64424                          NaN              NaN                522.0   \n",
       "99247                   2533295.14        143574.21                 74.0   \n",
       "2612                           NaN              NaN                 69.0   \n",
       "120889                         NaN              NaN                 39.0   \n",
       "42554                   3994976.82        226414.85                 81.0   \n",
       "16388                          NaN              NaN                 39.0   \n",
       "76418                   2393248.45        135637.08                 68.0   \n",
       "24694                          NaN              NaN                116.0   \n",
       "118620                         NaN              NaN                 78.0   \n",
       "\n",
       "        surface_covered_in_m2  price_usd_per_m2  price_per_m2  floor  rooms  \\\n",
       "106953                  101.0               NaN           NaN    NaN    NaN   \n",
       "64424                   350.0               NaN           NaN    NaN    NaN   \n",
       "99247                    64.0       1940.192027  40000.000000    NaN    NaN   \n",
       "2612                     48.0               NaN           NaN    NaN    1.0   \n",
       "120889                   39.0               NaN           NaN    NaN    NaN   \n",
       "42554                    68.0       2795.245062  59368.970588    NaN    3.0   \n",
       "16388                    39.0               NaN           NaN    NaN    1.0   \n",
       "76418                    44.0       1994.662941  54965.386364    NaN    NaN   \n",
       "24694                   103.0               NaN           NaN    NaN    4.0   \n",
       "118620                   70.0               NaN           NaN    NaN    NaN   \n",
       "\n",
       "                                              description  \n",
       "106953  CODIGO: 1237-143 ubicado en: Juncal 4600 -  Pu...  \n",
       "64424   VENTA CON RENTA CASA DE 430 MTS TOTALES CON JA...  \n",
       "99247               Los Andes Parque. 1, 2 y 3 ambient...  \n",
       "2612    EXCELENTE DEPARTAMENTO 2 AMBIENTES EN VENTA, E...  \n",
       "120889                  AMBIENTE DIVISIBLE CON PISOS D...  \n",
       "42554   3 AMBIENTES CON BALCÓN CORRIDO AL FRENTE - 2 B...  \n",
       "16388   A pasos de las Avenidas Callao, Corrientes y R...  \n",
       "76418   Dos ambientes en construcción de 68.66 m2 tota...  \n",
       "24694   Astor Palermo es una torre de 26 pisos con vis...  \n",
       "118620   Venta-Departamento 3 AMB Caballito sobre la e...  "
      ]
     },
     "metadata": {},
     "output_type": "display_data"
    }
   ],
   "source": [
    "# 1. Verificamos que el price y el price_aprox_usd sean los mismos, y luego si fuera así dropeamos el price_aprox_usd\n",
    "\n",
    "mask_price_validation = data_caba_clean.price != data_caba_clean.price_aprox_usd\n",
    "\n",
    "display(data_caba_clean.loc[mask_price_validation, :].shape)\n",
    "\n",
    "# Detectamos que hay 4138 propiedades donde los valores son diferentes? pero estan en Pesos o son NaN?\n",
    "\n",
    "display(data_caba_clean.loc[mask_price_validation, :].sample(10))\n",
    "\n",
    "# Detectamos que tenemos los dos casos, donde los precios son NaN y donde la moneda está en ARS (lo cual no estaría mal)\n",
    "# En el caso de ARS, vemos que el valor de price toma el de la moneda local ~ Por lo que podriamos llegar a eliminar price, currency y price_aprox_local_currency \n",
    "\n",
    "# Para los valores de NaN tendriamos que tomar la decisión si los dropeamos o tratamos de calcular un precio promedio en base a la cantidad de metros cuadrados."
   ]
  },
  {
   "cell_type": "code",
   "execution_count": 355,
   "metadata": {},
   "outputs": [
    {
     "data": {
      "text/plain": [
       "(31019, 13)"
      ]
     },
     "execution_count": 355,
     "metadata": {},
     "output_type": "execute_result"
    }
   ],
   "source": [
    "data_caba_clean.shape"
   ]
  },
  {
   "cell_type": "markdown",
   "metadata": {},
   "source": [
    "<h3> Eliminamos registros según un umbral de datos faltantes </h3>\n",
    "\n",
    "[volver a TOC](#section_toc)"
   ]
  },
  {
   "cell_type": "code",
   "execution_count": 356,
   "metadata": {},
   "outputs": [
    {
     "data": {
      "text/plain": [
       "(1131, 13)"
      ]
     },
     "metadata": {},
     "output_type": "display_data"
    },
    {
     "data": {
      "text/plain": [
       "(25627, 13)"
      ]
     },
     "metadata": {},
     "output_type": "display_data"
    },
    {
     "data": {
      "text/html": [
       "<div>\n",
       "<style scoped>\n",
       "    .dataframe tbody tr th:only-of-type {\n",
       "        vertical-align: middle;\n",
       "    }\n",
       "\n",
       "    .dataframe tbody tr th {\n",
       "        vertical-align: top;\n",
       "    }\n",
       "\n",
       "    .dataframe thead th {\n",
       "        text-align: right;\n",
       "    }\n",
       "</style>\n",
       "<table border=\"1\" class=\"dataframe\">\n",
       "  <thead>\n",
       "    <tr style=\"text-align: right;\">\n",
       "      <th></th>\n",
       "      <th>property_type</th>\n",
       "      <th>place_name</th>\n",
       "      <th>price</th>\n",
       "      <th>currency</th>\n",
       "      <th>price_aprox_local_currency</th>\n",
       "      <th>price_aprox_usd</th>\n",
       "      <th>surface_total_in_m2</th>\n",
       "      <th>surface_covered_in_m2</th>\n",
       "      <th>price_usd_per_m2</th>\n",
       "      <th>price_per_m2</th>\n",
       "      <th>floor</th>\n",
       "      <th>rooms</th>\n",
       "      <th>description</th>\n",
       "    </tr>\n",
       "  </thead>\n",
       "  <tbody>\n",
       "    <tr>\n",
       "      <th>98956</th>\n",
       "      <td>apartment</td>\n",
       "      <td>Villa Pueyrredón</td>\n",
       "      <td>179950.0</td>\n",
       "      <td>USD</td>\n",
       "      <td>3175127.77</td>\n",
       "      <td>179950.0</td>\n",
       "      <td>68.0</td>\n",
       "      <td>63.0</td>\n",
       "      <td>2646.323529</td>\n",
       "      <td>2856.349206</td>\n",
       "      <td>NaN</td>\n",
       "      <td>NaN</td>\n",
       "      <td>Espectacular 3 amb., muy luminoso, vista abier...</td>\n",
       "    </tr>\n",
       "    <tr>\n",
       "      <th>33384</th>\n",
       "      <td>apartment</td>\n",
       "      <td>Barrio Norte</td>\n",
       "      <td>870000.0</td>\n",
       "      <td>USD</td>\n",
       "      <td>15350715.00</td>\n",
       "      <td>870000.0</td>\n",
       "      <td>397.0</td>\n",
       "      <td>349.0</td>\n",
       "      <td>2191.435768</td>\n",
       "      <td>2492.836676</td>\n",
       "      <td>NaN</td>\n",
       "      <td>5.0</td>\n",
       "      <td>Excelente piso con gran recepción. Palier priv...</td>\n",
       "    </tr>\n",
       "    <tr>\n",
       "      <th>18015</th>\n",
       "      <td>store</td>\n",
       "      <td>Barrio Norte</td>\n",
       "      <td>1700000.0</td>\n",
       "      <td>USD</td>\n",
       "      <td>29995650.00</td>\n",
       "      <td>1700000.0</td>\n",
       "      <td>993.0</td>\n",
       "      <td>993.0</td>\n",
       "      <td>1711.983887</td>\n",
       "      <td>1711.983887</td>\n",
       "      <td>NaN</td>\n",
       "      <td>NaN</td>\n",
       "      <td>LOCALVenta de edificio en Barrio Norte, Capita...</td>\n",
       "    </tr>\n",
       "    <tr>\n",
       "      <th>17228</th>\n",
       "      <td>apartment</td>\n",
       "      <td>Belgrano</td>\n",
       "      <td>590000.0</td>\n",
       "      <td>USD</td>\n",
       "      <td>10410255.00</td>\n",
       "      <td>590000.0</td>\n",
       "      <td>NaN</td>\n",
       "      <td>170.0</td>\n",
       "      <td>NaN</td>\n",
       "      <td>3470.588235</td>\n",
       "      <td>2.0</td>\n",
       "      <td>5.0</td>\n",
       "      <td>Corredor Responsable: Mauro Marvisi - CUCICBA ...</td>\n",
       "    </tr>\n",
       "    <tr>\n",
       "      <th>83374</th>\n",
       "      <td>apartment</td>\n",
       "      <td>Villa Crespo</td>\n",
       "      <td>119900.0</td>\n",
       "      <td>USD</td>\n",
       "      <td>2115575.55</td>\n",
       "      <td>119900.0</td>\n",
       "      <td>43.0</td>\n",
       "      <td>36.0</td>\n",
       "      <td>2788.372093</td>\n",
       "      <td>3330.555556</td>\n",
       "      <td>NaN</td>\n",
       "      <td>NaN</td>\n",
       "      <td>Hermoso departamento de 2  ambiente con ampli...</td>\n",
       "    </tr>\n",
       "  </tbody>\n",
       "</table>\n",
       "</div>"
      ],
      "text/plain": [
       "      property_type        place_name      price currency  \\\n",
       "98956     apartment  Villa Pueyrredón   179950.0      USD   \n",
       "33384     apartment      Barrio Norte   870000.0      USD   \n",
       "18015         store      Barrio Norte  1700000.0      USD   \n",
       "17228     apartment          Belgrano   590000.0      USD   \n",
       "83374     apartment      Villa Crespo   119900.0      USD   \n",
       "\n",
       "       price_aprox_local_currency  price_aprox_usd  surface_total_in_m2  \\\n",
       "98956                  3175127.77         179950.0                 68.0   \n",
       "33384                 15350715.00         870000.0                397.0   \n",
       "18015                 29995650.00        1700000.0                993.0   \n",
       "17228                 10410255.00         590000.0                  NaN   \n",
       "83374                  2115575.55         119900.0                 43.0   \n",
       "\n",
       "       surface_covered_in_m2  price_usd_per_m2  price_per_m2  floor  rooms  \\\n",
       "98956                   63.0       2646.323529   2856.349206    NaN    NaN   \n",
       "33384                  349.0       2191.435768   2492.836676    NaN    5.0   \n",
       "18015                  993.0       1711.983887   1711.983887    NaN    NaN   \n",
       "17228                  170.0               NaN   3470.588235    2.0    5.0   \n",
       "83374                   36.0       2788.372093   3330.555556    NaN    NaN   \n",
       "\n",
       "                                             description  \n",
       "98956  Espectacular 3 amb., muy luminoso, vista abier...  \n",
       "33384  Excelente piso con gran recepción. Palier priv...  \n",
       "18015  LOCALVenta de edificio en Barrio Norte, Capita...  \n",
       "17228  Corredor Responsable: Mauro Marvisi - CUCICBA ...  \n",
       "83374   Hermoso departamento de 2  ambiente con ampli...  "
      ]
     },
     "execution_count": 356,
     "metadata": {},
     "output_type": "execute_result"
    }
   ],
   "source": [
    "# Elimino primero los registros donde no tengo nada de informacion. \n",
    "\n",
    "umbral = 10\n",
    "data_caba_clean.dropna(axis = 0, thresh=umbral, inplace=True)\n",
    "# OJO que utilizando umbral de 10 se fueron casi 10000 datos incompletos. \n",
    "#--> se pierden 6000 datos aprox (ver shape de abajo), un 20% de los datos aprox\n",
    "\n",
    "# Vuelvo a ver como quedaron los datos\n",
    "mask_price_validation = data_caba_clean.price != data_caba_clean.price_aprox_usd\n",
    "display(data_caba_clean.loc[mask_price_validation, :].shape)\n",
    "\n",
    "display(data_caba_clean.shape)\n",
    "# display(data_caba_clean.loc[mask_price_validation, :].head(30))\n",
    "data_caba_clean.sample(5)"
   ]
  },
  {
   "cell_type": "code",
   "execution_count": 357,
   "metadata": {},
   "outputs": [
    {
     "data": {
      "text/html": [
       "<div>\n",
       "<style scoped>\n",
       "    .dataframe tbody tr th:only-of-type {\n",
       "        vertical-align: middle;\n",
       "    }\n",
       "\n",
       "    .dataframe tbody tr th {\n",
       "        vertical-align: top;\n",
       "    }\n",
       "\n",
       "    .dataframe thead th {\n",
       "        text-align: right;\n",
       "    }\n",
       "</style>\n",
       "<table border=\"1\" class=\"dataframe\">\n",
       "  <thead>\n",
       "    <tr style=\"text-align: right;\">\n",
       "      <th></th>\n",
       "      <th>property_type</th>\n",
       "      <th>place_name</th>\n",
       "      <th>price</th>\n",
       "      <th>currency</th>\n",
       "      <th>price_aprox_local_currency</th>\n",
       "      <th>price_aprox_usd</th>\n",
       "      <th>surface_total_in_m2</th>\n",
       "      <th>surface_covered_in_m2</th>\n",
       "      <th>price_usd_per_m2</th>\n",
       "      <th>price_per_m2</th>\n",
       "      <th>floor</th>\n",
       "      <th>rooms</th>\n",
       "      <th>description</th>\n",
       "    </tr>\n",
       "  </thead>\n",
       "  <tbody>\n",
       "    <tr>\n",
       "      <th>48632</th>\n",
       "      <td>apartment</td>\n",
       "      <td>Palermo</td>\n",
       "      <td>260000.0</td>\n",
       "      <td>USD</td>\n",
       "      <td>4587570.00</td>\n",
       "      <td>260000.0</td>\n",
       "      <td>80.0</td>\n",
       "      <td>71.0</td>\n",
       "      <td>3250.000000</td>\n",
       "      <td>3661.971831</td>\n",
       "      <td>3.0</td>\n",
       "      <td>NaN</td>\n",
       "      <td>departamento en Palermo Soho, living comedor, ...</td>\n",
       "    </tr>\n",
       "    <tr>\n",
       "      <th>72456</th>\n",
       "      <td>apartment</td>\n",
       "      <td>Palermo</td>\n",
       "      <td>94000.0</td>\n",
       "      <td>USD</td>\n",
       "      <td>1658583.00</td>\n",
       "      <td>94000.0</td>\n",
       "      <td>32.0</td>\n",
       "      <td>30.0</td>\n",
       "      <td>2937.500000</td>\n",
       "      <td>3133.333333</td>\n",
       "      <td>NaN</td>\n",
       "      <td>NaN</td>\n",
       "      <td>Capital Brokers Propiedades |  o 15-Estado de ...</td>\n",
       "    </tr>\n",
       "    <tr>\n",
       "      <th>118968</th>\n",
       "      <td>apartment</td>\n",
       "      <td>Caballito</td>\n",
       "      <td>95000.0</td>\n",
       "      <td>USD</td>\n",
       "      <td>1676227.50</td>\n",
       "      <td>95000.0</td>\n",
       "      <td>41.0</td>\n",
       "      <td>37.0</td>\n",
       "      <td>2317.073171</td>\n",
       "      <td>2567.567568</td>\n",
       "      <td>NaN</td>\n",
       "      <td>NaN</td>\n",
       "      <td>Departamento de 2 ambientes en primer piso al ...</td>\n",
       "    </tr>\n",
       "    <tr>\n",
       "      <th>23722</th>\n",
       "      <td>apartment</td>\n",
       "      <td>Barrio Norte</td>\n",
       "      <td>550000.0</td>\n",
       "      <td>USD</td>\n",
       "      <td>9704475.00</td>\n",
       "      <td>550000.0</td>\n",
       "      <td>250.0</td>\n",
       "      <td>250.0</td>\n",
       "      <td>2200.000000</td>\n",
       "      <td>2200.000000</td>\n",
       "      <td>NaN</td>\n",
       "      <td>6.0</td>\n",
       "      <td>Edificio de Categoría, Piso En lo mejor del ba...</td>\n",
       "    </tr>\n",
       "    <tr>\n",
       "      <th>90431</th>\n",
       "      <td>apartment</td>\n",
       "      <td>San Telmo</td>\n",
       "      <td>125356.0</td>\n",
       "      <td>USD</td>\n",
       "      <td>2211843.94</td>\n",
       "      <td>125356.0</td>\n",
       "      <td>60.0</td>\n",
       "      <td>41.0</td>\n",
       "      <td>2089.266667</td>\n",
       "      <td>3057.463415</td>\n",
       "      <td>NaN</td>\n",
       "      <td>NaN</td>\n",
       "      <td>Emprendimiento de los Desarrolladores de Numer...</td>\n",
       "    </tr>\n",
       "  </tbody>\n",
       "</table>\n",
       "</div>"
      ],
      "text/plain": [
       "       property_type    place_name     price currency  \\\n",
       "48632      apartment       Palermo  260000.0      USD   \n",
       "72456      apartment       Palermo   94000.0      USD   \n",
       "118968     apartment     Caballito   95000.0      USD   \n",
       "23722      apartment  Barrio Norte  550000.0      USD   \n",
       "90431      apartment     San Telmo  125356.0      USD   \n",
       "\n",
       "        price_aprox_local_currency  price_aprox_usd  surface_total_in_m2  \\\n",
       "48632                   4587570.00         260000.0                 80.0   \n",
       "72456                   1658583.00          94000.0                 32.0   \n",
       "118968                  1676227.50          95000.0                 41.0   \n",
       "23722                   9704475.00         550000.0                250.0   \n",
       "90431                   2211843.94         125356.0                 60.0   \n",
       "\n",
       "        surface_covered_in_m2  price_usd_per_m2  price_per_m2  floor  rooms  \\\n",
       "48632                    71.0       3250.000000   3661.971831    3.0    NaN   \n",
       "72456                    30.0       2937.500000   3133.333333    NaN    NaN   \n",
       "118968                   37.0       2317.073171   2567.567568    NaN    NaN   \n",
       "23722                   250.0       2200.000000   2200.000000    NaN    6.0   \n",
       "90431                    41.0       2089.266667   3057.463415    NaN    NaN   \n",
       "\n",
       "                                              description  \n",
       "48632   departamento en Palermo Soho, living comedor, ...  \n",
       "72456   Capital Brokers Propiedades |  o 15-Estado de ...  \n",
       "118968  Departamento de 2 ambientes en primer piso al ...  \n",
       "23722   Edificio de Categoría, Piso En lo mejor del ba...  \n",
       "90431   Emprendimiento de los Desarrolladores de Numer...  "
      ]
     },
     "execution_count": 357,
     "metadata": {},
     "output_type": "execute_result"
    }
   ],
   "source": [
    "# Para la superficie de metros cuadadros totales, podemos creer que en caso de ser Nan \n",
    "#es porque es un departamente sin balcon y la cantidad de m2 cubierta sería iguala la cantidad de m2 totales.data_caba\n",
    "\n",
    "data_caba_clean.surface_total_in_m2.fillna(data_caba_clean.surface_covered_in_m2 + (data_caba_clean.surface_covered_in_m2 * 0.10), inplace=True)\n",
    "\n",
    "data_caba_clean.sample(5)"
   ]
  },
  {
   "cell_type": "markdown",
   "metadata": {},
   "source": [
    "<h3> Completamos datos faltantes de superficie </h3>\n",
    "\n",
    "[volver a TOC](#section_toc)"
   ]
  },
  {
   "cell_type": "code",
   "execution_count": 358,
   "metadata": {},
   "outputs": [
    {
     "data": {
      "text/html": [
       "<div>\n",
       "<style scoped>\n",
       "    .dataframe tbody tr th:only-of-type {\n",
       "        vertical-align: middle;\n",
       "    }\n",
       "\n",
       "    .dataframe tbody tr th {\n",
       "        vertical-align: top;\n",
       "    }\n",
       "\n",
       "    .dataframe thead th {\n",
       "        text-align: right;\n",
       "    }\n",
       "</style>\n",
       "<table border=\"1\" class=\"dataframe\">\n",
       "  <thead>\n",
       "    <tr style=\"text-align: right;\">\n",
       "      <th></th>\n",
       "      <th>property_type</th>\n",
       "      <th>place_name</th>\n",
       "      <th>price</th>\n",
       "      <th>currency</th>\n",
       "      <th>price_aprox_local_currency</th>\n",
       "      <th>price_aprox_usd</th>\n",
       "      <th>surface_total_in_m2</th>\n",
       "      <th>surface_covered_in_m2</th>\n",
       "      <th>price_usd_per_m2</th>\n",
       "      <th>price_per_m2</th>\n",
       "      <th>floor</th>\n",
       "      <th>rooms</th>\n",
       "      <th>description</th>\n",
       "    </tr>\n",
       "  </thead>\n",
       "  <tbody>\n",
       "    <tr>\n",
       "      <th>82371</th>\n",
       "      <td>apartment</td>\n",
       "      <td>Palermo Hollywood</td>\n",
       "      <td>110000.0</td>\n",
       "      <td>USD</td>\n",
       "      <td>1940895.0</td>\n",
       "      <td>110000.0</td>\n",
       "      <td>38.0</td>\n",
       "      <td>38.0</td>\n",
       "      <td>2894.736842</td>\n",
       "      <td>2894.736842</td>\n",
       "      <td>NaN</td>\n",
       "      <td>NaN</td>\n",
       "      <td>Muy buena zona, ideal inversión. Contrafrente ...</td>\n",
       "    </tr>\n",
       "    <tr>\n",
       "      <th>74589</th>\n",
       "      <td>apartment</td>\n",
       "      <td>Nuñez</td>\n",
       "      <td>123000.0</td>\n",
       "      <td>USD</td>\n",
       "      <td>2170273.5</td>\n",
       "      <td>123000.0</td>\n",
       "      <td>43.0</td>\n",
       "      <td>37.0</td>\n",
       "      <td>2860.465116</td>\n",
       "      <td>3324.324324</td>\n",
       "      <td>NaN</td>\n",
       "      <td>NaN</td>\n",
       "      <td>ESPECIFICACIONES DE LOS DEPARTAMENTOSEstructu...</td>\n",
       "    </tr>\n",
       "    <tr>\n",
       "      <th>117606</th>\n",
       "      <td>apartment</td>\n",
       "      <td>Villa del Parque</td>\n",
       "      <td>99000.0</td>\n",
       "      <td>USD</td>\n",
       "      <td>1746805.5</td>\n",
       "      <td>99000.0</td>\n",
       "      <td>49.0</td>\n",
       "      <td>45.0</td>\n",
       "      <td>2020.408163</td>\n",
       "      <td>2200.000000</td>\n",
       "      <td>NaN</td>\n",
       "      <td>NaN</td>\n",
       "      <td>Edificio a estrenar - ...</td>\n",
       "    </tr>\n",
       "    <tr>\n",
       "      <th>45885</th>\n",
       "      <td>apartment</td>\n",
       "      <td>Balvanera</td>\n",
       "      <td>218000.0</td>\n",
       "      <td>USD</td>\n",
       "      <td>3846501.0</td>\n",
       "      <td>218000.0</td>\n",
       "      <td>83.0</td>\n",
       "      <td>72.0</td>\n",
       "      <td>2626.506024</td>\n",
       "      <td>3027.777778</td>\n",
       "      <td>NaN</td>\n",
       "      <td>3.0</td>\n",
       "      <td>Venta de Departamento de 3 AMBIENTE en Balvane...</td>\n",
       "    </tr>\n",
       "    <tr>\n",
       "      <th>44878</th>\n",
       "      <td>apartment</td>\n",
       "      <td>Almagro</td>\n",
       "      <td>240000.0</td>\n",
       "      <td>USD</td>\n",
       "      <td>4234680.0</td>\n",
       "      <td>240000.0</td>\n",
       "      <td>105.0</td>\n",
       "      <td>100.0</td>\n",
       "      <td>2285.714286</td>\n",
       "      <td>2400.000000</td>\n",
       "      <td>NaN</td>\n",
       "      <td>3.0</td>\n",
       "      <td>Departamento de 3 ambientes amplio.Piso , con ...</td>\n",
       "    </tr>\n",
       "  </tbody>\n",
       "</table>\n",
       "</div>"
      ],
      "text/plain": [
       "       property_type         place_name     price currency  \\\n",
       "82371      apartment  Palermo Hollywood  110000.0      USD   \n",
       "74589      apartment              Nuñez  123000.0      USD   \n",
       "117606     apartment   Villa del Parque   99000.0      USD   \n",
       "45885      apartment          Balvanera  218000.0      USD   \n",
       "44878      apartment            Almagro  240000.0      USD   \n",
       "\n",
       "        price_aprox_local_currency  price_aprox_usd  surface_total_in_m2  \\\n",
       "82371                    1940895.0         110000.0                 38.0   \n",
       "74589                    2170273.5         123000.0                 43.0   \n",
       "117606                   1746805.5          99000.0                 49.0   \n",
       "45885                    3846501.0         218000.0                 83.0   \n",
       "44878                    4234680.0         240000.0                105.0   \n",
       "\n",
       "        surface_covered_in_m2  price_usd_per_m2  price_per_m2  floor  rooms  \\\n",
       "82371                    38.0       2894.736842   2894.736842    NaN    NaN   \n",
       "74589                    37.0       2860.465116   3324.324324    NaN    NaN   \n",
       "117606                   45.0       2020.408163   2200.000000    NaN    NaN   \n",
       "45885                    72.0       2626.506024   3027.777778    NaN    3.0   \n",
       "44878                   100.0       2285.714286   2400.000000    NaN    3.0   \n",
       "\n",
       "                                              description  \n",
       "82371   Muy buena zona, ideal inversión. Contrafrente ...  \n",
       "74589    ESPECIFICACIONES DE LOS DEPARTAMENTOSEstructu...  \n",
       "117606                          Edificio a estrenar - ...  \n",
       "45885   Venta de Departamento de 3 AMBIENTE en Balvane...  \n",
       "44878   Departamento de 3 ambientes amplio.Piso , con ...  "
      ]
     },
     "execution_count": 358,
     "metadata": {},
     "output_type": "execute_result"
    }
   ],
   "source": [
    "# Idem al punto anterior pero ahora de surface_total a surface_covered\n",
    "\n",
    "data_caba_clean.surface_covered_in_m2.fillna(data_caba_clean.surface_total_in_m2, inplace=True)\n",
    "\n",
    "data_caba_clean.sample(5)"
   ]
  },
  {
   "cell_type": "markdown",
   "metadata": {},
   "source": [
    "<h3> Completamos datos faltantes de price_usd_per_m2 </h3>\n",
    "\n",
    "[volver a TOC](#section_toc)"
   ]
  },
  {
   "cell_type": "code",
   "execution_count": 359,
   "metadata": {},
   "outputs": [
    {
     "data": {
      "text/html": [
       "<div>\n",
       "<style scoped>\n",
       "    .dataframe tbody tr th:only-of-type {\n",
       "        vertical-align: middle;\n",
       "    }\n",
       "\n",
       "    .dataframe tbody tr th {\n",
       "        vertical-align: top;\n",
       "    }\n",
       "\n",
       "    .dataframe thead th {\n",
       "        text-align: right;\n",
       "    }\n",
       "</style>\n",
       "<table border=\"1\" class=\"dataframe\">\n",
       "  <thead>\n",
       "    <tr style=\"text-align: right;\">\n",
       "      <th></th>\n",
       "      <th>property_type</th>\n",
       "      <th>place_name</th>\n",
       "      <th>price</th>\n",
       "      <th>currency</th>\n",
       "      <th>price_aprox_local_currency</th>\n",
       "      <th>price_aprox_usd</th>\n",
       "      <th>surface_total_in_m2</th>\n",
       "      <th>surface_covered_in_m2</th>\n",
       "      <th>price_usd_per_m2</th>\n",
       "      <th>price_per_m2</th>\n",
       "      <th>floor</th>\n",
       "      <th>rooms</th>\n",
       "      <th>description</th>\n",
       "    </tr>\n",
       "  </thead>\n",
       "  <tbody>\n",
       "    <tr>\n",
       "      <th>26595</th>\n",
       "      <td>apartment</td>\n",
       "      <td>Boedo</td>\n",
       "      <td>567900.0</td>\n",
       "      <td>USD</td>\n",
       "      <td>10020311.55</td>\n",
       "      <td>567900.0</td>\n",
       "      <td>31.0</td>\n",
       "      <td>31.0</td>\n",
       "      <td>18319.354839</td>\n",
       "      <td>18319.354839</td>\n",
       "      <td>NaN</td>\n",
       "      <td>1.0</td>\n",
       "      <td>1AMBIENTE  CON TERRAZA PROPIAFINANCIADO EN VAR...</td>\n",
       "    </tr>\n",
       "    <tr>\n",
       "      <th>78071</th>\n",
       "      <td>apartment</td>\n",
       "      <td>Villa Luro</td>\n",
       "      <td>170000.0</td>\n",
       "      <td>USD</td>\n",
       "      <td>2999565.00</td>\n",
       "      <td>170000.0</td>\n",
       "      <td>66.0</td>\n",
       "      <td>60.0</td>\n",
       "      <td>2575.757576</td>\n",
       "      <td>2833.333333</td>\n",
       "      <td>NaN</td>\n",
       "      <td>NaN</td>\n",
       "      <td>Venta departamento 3 ambientes - Villa LuroA e...</td>\n",
       "    </tr>\n",
       "    <tr>\n",
       "      <th>55985</th>\n",
       "      <td>apartment</td>\n",
       "      <td>Nuñez</td>\n",
       "      <td>2490000.0</td>\n",
       "      <td>USD</td>\n",
       "      <td>43934805.00</td>\n",
       "      <td>2490000.0</td>\n",
       "      <td>430.0</td>\n",
       "      <td>330.0</td>\n",
       "      <td>5790.697674</td>\n",
       "      <td>7545.454545</td>\n",
       "      <td>NaN</td>\n",
       "      <td>5.0</td>\n",
       "      <td>EXCELENTE DEPARTAMENTO EN VENTA/ FORUM ALCORTA...</td>\n",
       "    </tr>\n",
       "    <tr>\n",
       "      <th>24523</th>\n",
       "      <td>apartment</td>\n",
       "      <td>Recoleta</td>\n",
       "      <td>630000.0</td>\n",
       "      <td>USD</td>\n",
       "      <td>11116035.00</td>\n",
       "      <td>630000.0</td>\n",
       "      <td>138.0</td>\n",
       "      <td>138.0</td>\n",
       "      <td>4565.217391</td>\n",
       "      <td>4565.217391</td>\n",
       "      <td>NaN</td>\n",
       "      <td>NaN</td>\n",
       "      <td>CODIGO: 456-JDPVMTA20 ubicado en: MARCELO T DE...</td>\n",
       "    </tr>\n",
       "    <tr>\n",
       "      <th>10505</th>\n",
       "      <td>apartment</td>\n",
       "      <td>Boca</td>\n",
       "      <td>119000.0</td>\n",
       "      <td>USD</td>\n",
       "      <td>2099695.50</td>\n",
       "      <td>119000.0</td>\n",
       "      <td>85.0</td>\n",
       "      <td>85.0</td>\n",
       "      <td>1400.000000</td>\n",
       "      <td>1400.000000</td>\n",
       "      <td>NaN</td>\n",
       "      <td>4.0</td>\n",
       "      <td>se trata de un dpto de 3 ambientes c/dependenc...</td>\n",
       "    </tr>\n",
       "  </tbody>\n",
       "</table>\n",
       "</div>"
      ],
      "text/plain": [
       "      property_type  place_name      price currency  \\\n",
       "26595     apartment       Boedo   567900.0      USD   \n",
       "78071     apartment  Villa Luro   170000.0      USD   \n",
       "55985     apartment       Nuñez  2490000.0      USD   \n",
       "24523     apartment    Recoleta   630000.0      USD   \n",
       "10505     apartment        Boca   119000.0      USD   \n",
       "\n",
       "       price_aprox_local_currency  price_aprox_usd  surface_total_in_m2  \\\n",
       "26595                 10020311.55         567900.0                 31.0   \n",
       "78071                  2999565.00         170000.0                 66.0   \n",
       "55985                 43934805.00        2490000.0                430.0   \n",
       "24523                 11116035.00         630000.0                138.0   \n",
       "10505                  2099695.50         119000.0                 85.0   \n",
       "\n",
       "       surface_covered_in_m2  price_usd_per_m2  price_per_m2  floor  rooms  \\\n",
       "26595                   31.0      18319.354839  18319.354839    NaN    1.0   \n",
       "78071                   60.0       2575.757576   2833.333333    NaN    NaN   \n",
       "55985                  330.0       5790.697674   7545.454545    NaN    5.0   \n",
       "24523                  138.0       4565.217391   4565.217391    NaN    NaN   \n",
       "10505                   85.0       1400.000000   1400.000000    NaN    4.0   \n",
       "\n",
       "                                             description  \n",
       "26595  1AMBIENTE  CON TERRAZA PROPIAFINANCIADO EN VAR...  \n",
       "78071  Venta departamento 3 ambientes - Villa LuroA e...  \n",
       "55985  EXCELENTE DEPARTAMENTO EN VENTA/ FORUM ALCORTA...  \n",
       "24523  CODIGO: 456-JDPVMTA20 ubicado en: MARCELO T DE...  \n",
       "10505  se trata de un dpto de 3 ambientes c/dependenc...  "
      ]
     },
     "execution_count": 359,
     "metadata": {},
     "output_type": "execute_result"
    }
   ],
   "source": [
    "# Idem al punto anterior pero ahora calculamos el precio por metro cuadrado.\n",
    "\n",
    "data_caba_clean.price_usd_per_m2.fillna(data_caba_clean.price_aprox_usd / data_caba_clean.surface_total_in_m2, inplace=True)\n",
    "\n",
    "data_caba_clean.sample(5)"
   ]
  },
  {
   "cell_type": "markdown",
   "metadata": {},
   "source": [
    "<h3> Eliminamos floor </h3>\n",
    "\n",
    "[volver a TOC](#section_toc)"
   ]
  },
  {
   "cell_type": "code",
   "execution_count": 360,
   "metadata": {},
   "outputs": [
    {
     "data": {
      "text/plain": [
       "32316"
      ]
     },
     "metadata": {},
     "output_type": "display_data"
    }
   ],
   "source": [
    "display(data_caba.floor.isnull().count())\n",
    "\n",
    "# El piso es un dato muy incompleto por lo que se dropea\n",
    "\n",
    "# Dropeamos la columna creada anteriormente.\n",
    "data_caba_clean.drop(columns=['floor'], inplace=True)\n",
    "\n",
    "# En el caso de Rooms lo reemplazamos por 0 --> Lo pasé más abajo\n",
    "# data_caba_clean.rooms.fillna(0, inplace=True)"
   ]
  },
  {
   "cell_type": "code",
   "execution_count": 361,
   "metadata": {},
   "outputs": [
    {
     "data": {
      "text/plain": [
       "15325"
      ]
     },
     "metadata": {},
     "output_type": "display_data"
    }
   ],
   "source": [
    "display(data_caba.rooms.count())\n",
    "# En el caso de rooms, podemos tomar que el dato para los NaN es 0?? modifica esto el analisis para predecir? "
   ]
  },
  {
   "cell_type": "markdown",
   "metadata": {},
   "source": [
    "<h3> Eliminamos columnas de precios en moneda local </h3>\n",
    "\n",
    "[volver a TOC](#section_toc)"
   ]
  },
  {
   "cell_type": "code",
   "execution_count": 362,
   "metadata": {},
   "outputs": [
    {
     "data": {
      "text/html": [
       "<div>\n",
       "<style scoped>\n",
       "    .dataframe tbody tr th:only-of-type {\n",
       "        vertical-align: middle;\n",
       "    }\n",
       "\n",
       "    .dataframe tbody tr th {\n",
       "        vertical-align: top;\n",
       "    }\n",
       "\n",
       "    .dataframe thead th {\n",
       "        text-align: right;\n",
       "    }\n",
       "</style>\n",
       "<table border=\"1\" class=\"dataframe\">\n",
       "  <thead>\n",
       "    <tr style=\"text-align: right;\">\n",
       "      <th></th>\n",
       "      <th>property_type</th>\n",
       "      <th>place_name</th>\n",
       "      <th>price_aprox_usd</th>\n",
       "      <th>surface_total_in_m2</th>\n",
       "      <th>surface_covered_in_m2</th>\n",
       "      <th>price_usd_per_m2</th>\n",
       "      <th>rooms</th>\n",
       "      <th>description</th>\n",
       "    </tr>\n",
       "  </thead>\n",
       "  <tbody>\n",
       "    <tr>\n",
       "      <th>30220</th>\n",
       "      <td>apartment</td>\n",
       "      <td>Balvanera</td>\n",
       "      <td>169000.00</td>\n",
       "      <td>80.0</td>\n",
       "      <td>80.0</td>\n",
       "      <td>2112.500000</td>\n",
       "      <td>3.0</td>\n",
       "      <td>Muy luminoso con vista abierta y hermosos piso...</td>\n",
       "    </tr>\n",
       "    <tr>\n",
       "      <th>119651</th>\n",
       "      <td>apartment</td>\n",
       "      <td>Caballito</td>\n",
       "      <td>550000.00</td>\n",
       "      <td>206.8</td>\n",
       "      <td>188.0</td>\n",
       "      <td>2659.574468</td>\n",
       "      <td>4.0</td>\n",
       "      <td>Corredor Responsable: Rebeca Stern - C.U.C.I.C...</td>\n",
       "    </tr>\n",
       "    <tr>\n",
       "      <th>65504</th>\n",
       "      <td>apartment</td>\n",
       "      <td>Belgrano</td>\n",
       "      <td>186800.00</td>\n",
       "      <td>46.0</td>\n",
       "      <td>41.0</td>\n",
       "      <td>4060.869565</td>\n",
       "      <td>NaN</td>\n",
       "      <td>Exclusivo edificio a 200 mts de Av. Cabildo, a...</td>\n",
       "    </tr>\n",
       "    <tr>\n",
       "      <th>25336</th>\n",
       "      <td>house</td>\n",
       "      <td>Palermo</td>\n",
       "      <td>150000.00</td>\n",
       "      <td>49.0</td>\n",
       "      <td>32.0</td>\n",
       "      <td>3061.224490</td>\n",
       "      <td>1.0</td>\n",
       "      <td>En lo mejor de Palermo Hollywood, a pasos de N...</td>\n",
       "    </tr>\n",
       "    <tr>\n",
       "      <th>36998</th>\n",
       "      <td>apartment</td>\n",
       "      <td>Chacarita</td>\n",
       "      <td>87000.00</td>\n",
       "      <td>37.0</td>\n",
       "      <td>37.0</td>\n",
       "      <td>2351.351351</td>\n",
       "      <td>2.0</td>\n",
       "      <td>Apto profesional y apto crédito. Departamento ...</td>\n",
       "    </tr>\n",
       "    <tr>\n",
       "      <th>110376</th>\n",
       "      <td>apartment</td>\n",
       "      <td>Recoleta</td>\n",
       "      <td>570000.00</td>\n",
       "      <td>135.0</td>\n",
       "      <td>125.0</td>\n",
       "      <td>4222.222222</td>\n",
       "      <td>5.0</td>\n",
       "      <td>Departamento 135m² 5 ambientes, Capital Federa...</td>\n",
       "    </tr>\n",
       "    <tr>\n",
       "      <th>29578</th>\n",
       "      <td>apartment</td>\n",
       "      <td>Palermo</td>\n",
       "      <td>649000.00</td>\n",
       "      <td>140.0</td>\n",
       "      <td>132.0</td>\n",
       "      <td>4635.714286</td>\n",
       "      <td>4.0</td>\n",
       "      <td>Excelente Semipiso en lo mejor de Palermo, fre...</td>\n",
       "    </tr>\n",
       "    <tr>\n",
       "      <th>39423</th>\n",
       "      <td>apartment</td>\n",
       "      <td>Caballito</td>\n",
       "      <td>270000.00</td>\n",
       "      <td>125.0</td>\n",
       "      <td>97.0</td>\n",
       "      <td>2160.000000</td>\n",
       "      <td>4.0</td>\n",
       "      <td>Triplex de cuatro ambientesa estrenar. Frente....</td>\n",
       "    </tr>\n",
       "    <tr>\n",
       "      <th>109718</th>\n",
       "      <td>apartment</td>\n",
       "      <td>Flores</td>\n",
       "      <td>215000.00</td>\n",
       "      <td>130.9</td>\n",
       "      <td>119.0</td>\n",
       "      <td>1642.475172</td>\n",
       "      <td>4.0</td>\n",
       "      <td>Corredor Responsable: Marcelo Trujillo - CUCIC...</td>\n",
       "    </tr>\n",
       "    <tr>\n",
       "      <th>27602</th>\n",
       "      <td>apartment</td>\n",
       "      <td>Puerto Madero</td>\n",
       "      <td>1500000.00</td>\n",
       "      <td>214.0</td>\n",
       "      <td>214.0</td>\n",
       "      <td>7009.345794</td>\n",
       "      <td>4.0</td>\n",
       "      <td>Importante PISO COMPLETO con imponente vista a...</td>\n",
       "    </tr>\n",
       "    <tr>\n",
       "      <th>87531</th>\n",
       "      <td>apartment</td>\n",
       "      <td>Chacarita</td>\n",
       "      <td>150000.00</td>\n",
       "      <td>60.0</td>\n",
       "      <td>51.0</td>\n",
       "      <td>2500.000000</td>\n",
       "      <td>NaN</td>\n",
       "      <td>Departamento 2 amb amplio con balcón. AMENITIE...</td>\n",
       "    </tr>\n",
       "    <tr>\n",
       "      <th>16119</th>\n",
       "      <td>apartment</td>\n",
       "      <td>Belgrano</td>\n",
       "      <td>230000.00</td>\n",
       "      <td>73.0</td>\n",
       "      <td>68.0</td>\n",
       "      <td>3150.684932</td>\n",
       "      <td>4.0</td>\n",
       "      <td>IDEAL INVERSOR. SE VENDE CON RENTA HASTA SEPTI...</td>\n",
       "    </tr>\n",
       "    <tr>\n",
       "      <th>55334</th>\n",
       "      <td>apartment</td>\n",
       "      <td>Flores</td>\n",
       "      <td>124000.00</td>\n",
       "      <td>51.0</td>\n",
       "      <td>45.0</td>\n",
       "      <td>2431.372549</td>\n",
       "      <td>1.0</td>\n",
       "      <td>Departamento contrafrente con cochera a estena...</td>\n",
       "    </tr>\n",
       "    <tr>\n",
       "      <th>110464</th>\n",
       "      <td>apartment</td>\n",
       "      <td>Almagro</td>\n",
       "      <td>120000.00</td>\n",
       "      <td>45.0</td>\n",
       "      <td>43.0</td>\n",
       "      <td>2666.666667</td>\n",
       "      <td>2.0</td>\n",
       "      <td>Living comedor con balcón al frente . Apto pro...</td>\n",
       "    </tr>\n",
       "    <tr>\n",
       "      <th>62712</th>\n",
       "      <td>apartment</td>\n",
       "      <td>Recoleta</td>\n",
       "      <td>370000.00</td>\n",
       "      <td>163.9</td>\n",
       "      <td>149.0</td>\n",
       "      <td>2257.474070</td>\n",
       "      <td>4.0</td>\n",
       "      <td>Corredor Responsable: Gustavo Guastello - C.U....</td>\n",
       "    </tr>\n",
       "    <tr>\n",
       "      <th>56909</th>\n",
       "      <td>apartment</td>\n",
       "      <td>Villa Urquiza</td>\n",
       "      <td>75000.00</td>\n",
       "      <td>31.9</td>\n",
       "      <td>29.0</td>\n",
       "      <td>2351.097179</td>\n",
       "      <td>2.0</td>\n",
       "      <td>Corredor Responsable: Hernan Perrone - C.U.C.I...</td>\n",
       "    </tr>\n",
       "    <tr>\n",
       "      <th>64732</th>\n",
       "      <td>apartment</td>\n",
       "      <td>Recoleta</td>\n",
       "      <td>129900.00</td>\n",
       "      <td>67.0</td>\n",
       "      <td>67.0</td>\n",
       "      <td>1938.805970</td>\n",
       "      <td>NaN</td>\n",
       "      <td>VENTA DE DEPARTAMENTO EN BARRIO NORTE - RECOLE...</td>\n",
       "    </tr>\n",
       "    <tr>\n",
       "      <th>12772</th>\n",
       "      <td>apartment</td>\n",
       "      <td>Flores</td>\n",
       "      <td>238000.00</td>\n",
       "      <td>165.0</td>\n",
       "      <td>148.0</td>\n",
       "      <td>1442.424242</td>\n",
       "      <td>NaN</td>\n",
       "      <td>CODIGO: 3650-A012 ubicado en: Membrillar 151 P...</td>\n",
       "    </tr>\n",
       "    <tr>\n",
       "      <th>58701</th>\n",
       "      <td>apartment</td>\n",
       "      <td>Palermo</td>\n",
       "      <td>118499.03</td>\n",
       "      <td>46.0</td>\n",
       "      <td>44.0</td>\n",
       "      <td>2576.065870</td>\n",
       "      <td>1.0</td>\n",
       "      <td>Conservando la fachada clásica de la casa ubic...</td>\n",
       "    </tr>\n",
       "    <tr>\n",
       "      <th>74256</th>\n",
       "      <td>apartment</td>\n",
       "      <td>Recoleta</td>\n",
       "      <td>121150.00</td>\n",
       "      <td>52.0</td>\n",
       "      <td>48.0</td>\n",
       "      <td>2329.807692</td>\n",
       "      <td>NaN</td>\n",
       "      <td>Excelente departamento amplio de 1 ambiente, 5...</td>\n",
       "    </tr>\n",
       "  </tbody>\n",
       "</table>\n",
       "</div>"
      ],
      "text/plain": [
       "       property_type     place_name  price_aprox_usd  surface_total_in_m2  \\\n",
       "30220      apartment      Balvanera        169000.00                 80.0   \n",
       "119651     apartment      Caballito        550000.00                206.8   \n",
       "65504      apartment       Belgrano        186800.00                 46.0   \n",
       "25336          house        Palermo        150000.00                 49.0   \n",
       "36998      apartment      Chacarita         87000.00                 37.0   \n",
       "110376     apartment       Recoleta        570000.00                135.0   \n",
       "29578      apartment        Palermo        649000.00                140.0   \n",
       "39423      apartment      Caballito        270000.00                125.0   \n",
       "109718     apartment         Flores        215000.00                130.9   \n",
       "27602      apartment  Puerto Madero       1500000.00                214.0   \n",
       "87531      apartment      Chacarita        150000.00                 60.0   \n",
       "16119      apartment       Belgrano        230000.00                 73.0   \n",
       "55334      apartment         Flores        124000.00                 51.0   \n",
       "110464     apartment        Almagro        120000.00                 45.0   \n",
       "62712      apartment       Recoleta        370000.00                163.9   \n",
       "56909      apartment  Villa Urquiza         75000.00                 31.9   \n",
       "64732      apartment       Recoleta        129900.00                 67.0   \n",
       "12772      apartment         Flores        238000.00                165.0   \n",
       "58701      apartment        Palermo        118499.03                 46.0   \n",
       "74256      apartment       Recoleta        121150.00                 52.0   \n",
       "\n",
       "        surface_covered_in_m2  price_usd_per_m2  rooms  \\\n",
       "30220                    80.0       2112.500000    3.0   \n",
       "119651                  188.0       2659.574468    4.0   \n",
       "65504                    41.0       4060.869565    NaN   \n",
       "25336                    32.0       3061.224490    1.0   \n",
       "36998                    37.0       2351.351351    2.0   \n",
       "110376                  125.0       4222.222222    5.0   \n",
       "29578                   132.0       4635.714286    4.0   \n",
       "39423                    97.0       2160.000000    4.0   \n",
       "109718                  119.0       1642.475172    4.0   \n",
       "27602                   214.0       7009.345794    4.0   \n",
       "87531                    51.0       2500.000000    NaN   \n",
       "16119                    68.0       3150.684932    4.0   \n",
       "55334                    45.0       2431.372549    1.0   \n",
       "110464                   43.0       2666.666667    2.0   \n",
       "62712                   149.0       2257.474070    4.0   \n",
       "56909                    29.0       2351.097179    2.0   \n",
       "64732                    67.0       1938.805970    NaN   \n",
       "12772                   148.0       1442.424242    NaN   \n",
       "58701                    44.0       2576.065870    1.0   \n",
       "74256                    48.0       2329.807692    NaN   \n",
       "\n",
       "                                              description  \n",
       "30220   Muy luminoso con vista abierta y hermosos piso...  \n",
       "119651  Corredor Responsable: Rebeca Stern - C.U.C.I.C...  \n",
       "65504   Exclusivo edificio a 200 mts de Av. Cabildo, a...  \n",
       "25336   En lo mejor de Palermo Hollywood, a pasos de N...  \n",
       "36998   Apto profesional y apto crédito. Departamento ...  \n",
       "110376  Departamento 135m² 5 ambientes, Capital Federa...  \n",
       "29578   Excelente Semipiso en lo mejor de Palermo, fre...  \n",
       "39423   Triplex de cuatro ambientesa estrenar. Frente....  \n",
       "109718  Corredor Responsable: Marcelo Trujillo - CUCIC...  \n",
       "27602   Importante PISO COMPLETO con imponente vista a...  \n",
       "87531   Departamento 2 amb amplio con balcón. AMENITIE...  \n",
       "16119   IDEAL INVERSOR. SE VENDE CON RENTA HASTA SEPTI...  \n",
       "55334   Departamento contrafrente con cochera a estena...  \n",
       "110464  Living comedor con balcón al frente . Apto pro...  \n",
       "62712   Corredor Responsable: Gustavo Guastello - C.U....  \n",
       "56909   Corredor Responsable: Hernan Perrone - C.U.C.I...  \n",
       "64732   VENTA DE DEPARTAMENTO EN BARRIO NORTE - RECOLE...  \n",
       "12772   CODIGO: 3650-A012 ubicado en: Membrillar 151 P...  \n",
       "58701   Conservando la fachada clásica de la casa ubic...  \n",
       "74256   Excelente departamento amplio de 1 ambiente, 5...  "
      ]
     },
     "execution_count": 362,
     "metadata": {},
     "output_type": "execute_result"
    }
   ],
   "source": [
    "# Dropeamos los valores que sabemos que está repetidos o con otra moneda.data_caba\n",
    "\n",
    "data_caba_clean.drop(columns=['price', 'currency','price_per_m2', 'price_aprox_local_currency'], inplace=True)\n",
    "\n",
    "data_caba_clean.sample(20)"
   ]
  },
  {
   "cell_type": "markdown",
   "metadata": {},
   "source": [
    "<h3> Nuevo recuento de nulos </h3>"
   ]
  },
  {
   "cell_type": "code",
   "execution_count": 363,
   "metadata": {},
   "outputs": [
    {
     "name": "stdout",
     "output_type": "stream",
     "text": [
      "\n",
      "Porcentaje de valores incompletos por columna:\n",
      "property_type             0.00\n",
      "place_name                0.00\n",
      "price_aprox_usd           0.00\n",
      "surface_total_in_m2       0.00\n",
      "surface_covered_in_m2     0.00\n",
      "price_usd_per_m2          0.00\n",
      "rooms                    43.82\n",
      "description               0.00\n",
      "dtype: float64\n"
     ]
    },
    {
     "data": {
      "text/plain": [
       "(25627, 8)"
      ]
     },
     "metadata": {},
     "output_type": "display_data"
    }
   ],
   "source": [
    "print('\\nPorcentaje de valores incompletos por columna:')\n",
    "print(f'{round(100 * data_caba_clean.isnull().sum()/data_caba_clean.shape[0], 2)}')\n",
    "\n",
    "display(data_caba_clean.shape)"
   ]
  },
  {
   "cell_type": "markdown",
   "metadata": {},
   "source": [
    "<h3>Creación de una columna para categorizar por metros cuadrados"
   ]
  },
  {
   "cell_type": "code",
   "execution_count": 364,
   "metadata": {},
   "outputs": [],
   "source": [
    "# Delimitamos los bins para realizar un cut\n",
    "# bins = [20, 30, 45, 75, 150, 220]\n",
    "bins = [0, 30, 45, 75, 150, 220]\n",
    "labels = ['mono', 's45', 's75', 's150', 'm220' ]\n",
    "\n",
    "data_caba_clean['m2_categories'] = pd.cut(data_caba_clean.surface_covered_in_m2, bins, labels)\n",
    "data_caba_clean['m2_labels'] = pd.cut(x=data_caba_clean.surface_covered_in_m2, bins=bins, labels=labels, right=False)\n"
   ]
  },
  {
   "cell_type": "code",
   "execution_count": 365,
   "metadata": {},
   "outputs": [
    {
     "data": {
      "text/plain": [
       "(0, 30]       2530\n",
       "(30, 45]      7452\n",
       "(45, 75]      7227\n",
       "(75, 150]     5449\n",
       "(150, 220]    1572\n",
       "Name: m2_categories, dtype: int64"
      ]
     },
     "execution_count": 365,
     "metadata": {},
     "output_type": "execute_result"
    }
   ],
   "source": [
    "data_caba_clean.m2_categories.value_counts().sort_index()"
   ]
  },
  {
   "cell_type": "code",
   "execution_count": 366,
   "metadata": {},
   "outputs": [
    {
     "data": {
      "text/plain": [
       "mono    1633\n",
       "s45     7863\n",
       "s75     7475\n",
       "s150    5574\n",
       "m220    1628\n",
       "Name: m2_labels, dtype: int64"
      ]
     },
     "execution_count": 366,
     "metadata": {},
     "output_type": "execute_result"
    }
   ],
   "source": [
    "data_caba_clean.m2_labels.value_counts().sort_index()"
   ]
  },
  {
   "cell_type": "markdown",
   "metadata": {},
   "source": [
    "<a id=\"section_caba_description\"></a> \n",
    "<h3> Análisis del campo <strong>description</strong></h3>\n",
    "\n",
    "[volver a TOC](#section_toc)"
   ]
  },
  {
   "cell_type": "markdown",
   "metadata": {},
   "source": [
    "Normalización del campo, todo minuscula, sin tildes, etc"
   ]
  },
  {
   "cell_type": "code",
   "execution_count": 367,
   "metadata": {},
   "outputs": [
    {
     "data": {
      "text/plain": [
       "43993     lindisima casa sobre lote propio en inmejorabl...\n",
       "26200     tor928- san cristobal departamento 38 m2 en cu...\n",
       "118549    departamento 78m² en defensa 1657, capital fed...\n",
       "120199    venta de departamento de 1 ambiente en nuñez, ...\n",
       "27910     venta departamento 2 ambientes palermoedificio...\n",
       "60013     excelente departamento ubicado en una de las z...\n",
       "1159      en el corazón verde de la ciudad, con vistas a...\n",
       "38692     venta de departamento 2 ambientes en villa cre...\n",
       "9907      semipiso al contrafrente con salida a balcón t...\n",
       "29191     edificio a estrenar \"vera 966\" pasamos a ofrec...\n",
       "Name: description, dtype: object"
      ]
     },
     "execution_count": 367,
     "metadata": {},
     "output_type": "execute_result"
    }
   ],
   "source": [
    "data_caba_clean.description = data_caba_clean.description.str.lower()\n",
    "\n",
    "data_caba_clean.description.sample(10)"
   ]
  },
  {
   "cell_type": "markdown",
   "metadata": {},
   "source": [
    "<a id=\"section_caba_description_amb\"></a> \n",
    "<h4> Cantidad de ambientes</h4>\n",
    "\n",
    "[volver a TOC](#section_toc)"
   ]
  },
  {
   "cell_type": "code",
   "execution_count": 368,
   "metadata": {},
   "outputs": [],
   "source": [
    "amb_pattern = \"((?P<numero_amb>\\d)(\\s)?(amb|anv|amv|anb))\"\n",
    "amb_pattern_regex = re.compile(amb_pattern)"
   ]
  },
  {
   "cell_type": "code",
   "execution_count": 369,
   "metadata": {},
   "outputs": [],
   "source": [
    "amb_match = data_caba_clean.description.apply(lambda x: x if (x is np.NaN) | (x is None) else\\\n",
    "                                      amb_pattern_regex.search(x))\n",
    "mask_amb_match_notnull = amb_match.notnull()\n",
    "\n",
    "# Aplicamos el grupo que encuentra el dígito de cantidad de ambientes, casteado como integer\n",
    "data_caba_clean.loc[mask_amb_match_notnull, 'number_rooms'] = \\\n",
    "amb_match.loc[mask_amb_match_notnull].apply(lambda x: int(x.group(\"numero_amb\")))"
   ]
  },
  {
   "cell_type": "code",
   "execution_count": 370,
   "metadata": {},
   "outputs": [],
   "source": [
    "dorm_pattern = \"((?P<numero_dorm>\\d)(\\s)?(dorm))\"\n",
    "dorm_pattern_regex = re.compile(dorm_pattern)"
   ]
  },
  {
   "cell_type": "code",
   "execution_count": 371,
   "metadata": {},
   "outputs": [],
   "source": [
    "dorm_match = data_caba_clean.description.apply(lambda x: x if (x is np.NaN) | (x is None) else dorm_pattern_regex.search(x))\n",
    "\n",
    "mask_dorm_match_notnull = dorm_match.notnull()\n",
    "\n",
    "data_caba_clean.loc[mask_dorm_match_notnull, 'number_rooms'] = \\\n",
    "dorm_match.loc[mask_dorm_match_notnull].apply(lambda x: int(x.group(\"numero_dorm\"))+1)\n",
    "\n",
    "#se asume que el numero de ambientes es numero_dorm +1"
   ]
  },
  {
   "cell_type": "markdown",
   "metadata": {},
   "source": [
    "Tratamos de llenar los rooms que faltan con lo que obtuvimos de la descripción"
   ]
  },
  {
   "cell_type": "code",
   "execution_count": 372,
   "metadata": {},
   "outputs": [
    {
     "data": {
      "text/html": [
       "<div>\n",
       "<style scoped>\n",
       "    .dataframe tbody tr th:only-of-type {\n",
       "        vertical-align: middle;\n",
       "    }\n",
       "\n",
       "    .dataframe tbody tr th {\n",
       "        vertical-align: top;\n",
       "    }\n",
       "\n",
       "    .dataframe thead th {\n",
       "        text-align: right;\n",
       "    }\n",
       "</style>\n",
       "<table border=\"1\" class=\"dataframe\">\n",
       "  <thead>\n",
       "    <tr style=\"text-align: right;\">\n",
       "      <th></th>\n",
       "      <th>property_type</th>\n",
       "      <th>place_name</th>\n",
       "      <th>price_aprox_usd</th>\n",
       "      <th>surface_total_in_m2</th>\n",
       "      <th>surface_covered_in_m2</th>\n",
       "      <th>price_usd_per_m2</th>\n",
       "      <th>rooms</th>\n",
       "      <th>description</th>\n",
       "      <th>m2_categories</th>\n",
       "      <th>m2_labels</th>\n",
       "      <th>number_rooms</th>\n",
       "    </tr>\n",
       "  </thead>\n",
       "  <tbody>\n",
       "    <tr>\n",
       "      <th>0</th>\n",
       "      <td>PH</td>\n",
       "      <td>Mataderos</td>\n",
       "      <td>62000.0</td>\n",
       "      <td>55.0</td>\n",
       "      <td>40.0</td>\n",
       "      <td>1127.272727</td>\n",
       "      <td>NaN</td>\n",
       "      <td>2 ambientes tipo casa planta baja por pasillo,...</td>\n",
       "      <td>(30, 45]</td>\n",
       "      <td>s45</td>\n",
       "      <td>2.0</td>\n",
       "    </tr>\n",
       "    <tr>\n",
       "      <th>2</th>\n",
       "      <td>apartment</td>\n",
       "      <td>Mataderos</td>\n",
       "      <td>72000.0</td>\n",
       "      <td>55.0</td>\n",
       "      <td>55.0</td>\n",
       "      <td>1309.090909</td>\n",
       "      <td>NaN</td>\n",
       "      <td>2 ambientes 3er piso lateral living comedor am...</td>\n",
       "      <td>(45, 75]</td>\n",
       "      <td>s75</td>\n",
       "      <td>2.0</td>\n",
       "    </tr>\n",
       "    <tr>\n",
       "      <th>7</th>\n",
       "      <td>apartment</td>\n",
       "      <td>Belgrano</td>\n",
       "      <td>138000.0</td>\n",
       "      <td>45.0</td>\n",
       "      <td>40.0</td>\n",
       "      <td>3066.666667</td>\n",
       "      <td>NaN</td>\n",
       "      <td>excelente monoambiente a estrenar amplio super...</td>\n",
       "      <td>(30, 45]</td>\n",
       "      <td>s45</td>\n",
       "      <td>NaN</td>\n",
       "    </tr>\n",
       "  </tbody>\n",
       "</table>\n",
       "</div>"
      ],
      "text/plain": [
       "  property_type place_name  price_aprox_usd  surface_total_in_m2  \\\n",
       "0            PH  Mataderos          62000.0                 55.0   \n",
       "2     apartment  Mataderos          72000.0                 55.0   \n",
       "7     apartment   Belgrano         138000.0                 45.0   \n",
       "\n",
       "   surface_covered_in_m2  price_usd_per_m2  rooms  \\\n",
       "0                   40.0       1127.272727    NaN   \n",
       "2                   55.0       1309.090909    NaN   \n",
       "7                   40.0       3066.666667    NaN   \n",
       "\n",
       "                                         description m2_categories m2_labels  \\\n",
       "0  2 ambientes tipo casa planta baja por pasillo,...      (30, 45]       s45   \n",
       "2  2 ambientes 3er piso lateral living comedor am...      (45, 75]       s75   \n",
       "7  excelente monoambiente a estrenar amplio super...      (30, 45]       s45   \n",
       "\n",
       "   number_rooms  \n",
       "0           2.0  \n",
       "2           2.0  \n",
       "7           NaN  "
      ]
     },
     "execution_count": 372,
     "metadata": {},
     "output_type": "execute_result"
    }
   ],
   "source": [
    "data_caba_clean.head(3)"
   ]
  },
  {
   "cell_type": "code",
   "execution_count": 373,
   "metadata": {},
   "outputs": [
    {
     "data": {
      "text/plain": [
       "11230"
      ]
     },
     "execution_count": 373,
     "metadata": {},
     "output_type": "execute_result"
    }
   ],
   "source": [
    "data_caba_clean.rooms.isnull().sum()"
   ]
  },
  {
   "cell_type": "code",
   "execution_count": 374,
   "metadata": {},
   "outputs": [
    {
     "data": {
      "text/plain": [
       "9881"
      ]
     },
     "execution_count": 374,
     "metadata": {},
     "output_type": "execute_result"
    }
   ],
   "source": [
    "data_caba_clean.number_rooms.isnull().sum()"
   ]
  },
  {
   "cell_type": "code",
   "execution_count": 375,
   "metadata": {},
   "outputs": [],
   "source": [
    "data_caba_clean.rooms.fillna(data_caba_clean.number_rooms, inplace=True)"
   ]
  },
  {
   "cell_type": "code",
   "execution_count": 376,
   "metadata": {},
   "outputs": [
    {
     "data": {
      "text/plain": [
       "4665"
      ]
     },
     "execution_count": 376,
     "metadata": {},
     "output_type": "execute_result"
    }
   ],
   "source": [
    "data_caba_clean.rooms.isnull().sum()"
   ]
  },
  {
   "cell_type": "code",
   "execution_count": 377,
   "metadata": {},
   "outputs": [],
   "source": [
    "# data_caba_clean.rooms.fillna(0, inplace=True)\n",
    "# completar con los datos de categorias"
   ]
  },
  {
   "cell_type": "code",
   "execution_count": null,
   "metadata": {},
   "outputs": [],
   "source": []
  },
  {
   "cell_type": "code",
   "execution_count": 378,
   "metadata": {},
   "outputs": [
    {
     "data": {
      "text/plain": [
       "2.0     5406\n",
       "3.0     5262\n",
       "1.0     4341\n",
       "4.0     4012\n",
       "5.0     1266\n",
       "6.0      362\n",
       "7.0      174\n",
       "8.0       57\n",
       "9.0       27\n",
       "10.0      24\n",
       "12.0      11\n",
       "11.0       9\n",
       "0.0        4\n",
       "17.0       3\n",
       "22.0       1\n",
       "15.0       1\n",
       "14.0       1\n",
       "13.0       1\n",
       "Name: rooms, dtype: int64"
      ]
     },
     "execution_count": 378,
     "metadata": {},
     "output_type": "execute_result"
    }
   ],
   "source": [
    "data_caba_clean.rooms.value_counts()"
   ]
  },
  {
   "cell_type": "code",
   "execution_count": 379,
   "metadata": {},
   "outputs": [
    {
     "data": {
      "text/plain": [
       "763"
      ]
     },
     "execution_count": 379,
     "metadata": {},
     "output_type": "execute_result"
    }
   ],
   "source": [
    "rooms_dict = {\n",
    "\"mono\": 1, \"s45\":  2, \"s75\":  3, \"s150\":  4, \"m220\": 5}\n",
    "\n",
    "data_caba_clean[\"rooms_upon_categories\"] = data_caba_clean.m2_labels.map(rooms_dict)\n",
    "data_caba_clean['rooms_upon_categories']\n",
    "\n",
    "data_caba_clean.rooms.fillna(data_caba_clean.rooms_upon_categories, inplace=True)\n",
    "data_caba_clean.rooms.isnull().sum()\n"
   ]
  },
  {
   "cell_type": "markdown",
   "metadata": {},
   "source": [
    "### Llenamos los que faltan según las categorías de los bins???\n",
    "Además: eliminar los que tengan más de 10 ambientes? Son pocos datos! "
   ]
  },
  {
   "cell_type": "markdown",
   "metadata": {},
   "source": [
    "<a id=\"section_caba_description_amb\"></a> \n",
    "<h4> Amenities</h4>\n",
    "\n",
    "[volver a TOC](#section_toc)"
   ]
  },
  {
   "cell_type": "markdown",
   "metadata": {},
   "source": [
    "<h5> Pileta </h5>"
   ]
  },
  {
   "cell_type": "code",
   "execution_count": 380,
   "metadata": {},
   "outputs": [],
   "source": [
    "pileta_pattern = \"(?P<pileta>pileta|piscina|picina|pisina|pool)\"\n",
    "pileta_pattern_regex = re.compile(pileta_pattern)"
   ]
  },
  {
   "cell_type": "code",
   "execution_count": 381,
   "metadata": {},
   "outputs": [],
   "source": [
    "pileta_match = data_caba_clean.description.apply(lambda x: x if (x is np.NaN) | (x is None) else\\\n",
    "                                      pileta_pattern_regex.search(x))\n",
    "mask_pileta_match_notnull = pileta_match.notnull()\n",
    "\n",
    "data_caba_clean.loc[mask_pileta_match_notnull, 'pool'] = 1"
   ]
  },
  {
   "cell_type": "code",
   "execution_count": 382,
   "metadata": {},
   "outputs": [],
   "source": [
    "# data_caba_clean['pool']"
   ]
  },
  {
   "cell_type": "code",
   "execution_count": 383,
   "metadata": {},
   "outputs": [
    {
     "data": {
      "text/plain": [
       "6161"
      ]
     },
     "execution_count": 383,
     "metadata": {},
     "output_type": "execute_result"
    }
   ],
   "source": [
    "data_caba_clean['pool'].notnull().sum()"
   ]
  },
  {
   "cell_type": "code",
   "execution_count": 384,
   "metadata": {},
   "outputs": [],
   "source": [
    "#Completamos los datos NaN con ceros (convertimos en una variable dummy)\n",
    "data_caba_clean.pool.fillna(0, inplace = True)"
   ]
  },
  {
   "cell_type": "markdown",
   "metadata": {},
   "source": [
    "<h5> Laundry </h5>"
   ]
  },
  {
   "cell_type": "code",
   "execution_count": 385,
   "metadata": {},
   "outputs": [],
   "source": [
    "laudry_pattern = \"(?P<laundry>laundry|lavadero)\"\n",
    "laundry_pattern_regex = re.compile(laudry_pattern)\n",
    "\n",
    "laundry_match = data_caba_clean.description.apply(lambda x: x if (x is np.NaN) | (x is None) else\\\n",
    "                                      laundry_pattern_regex.search(x))\n",
    "mask_laundry_match_notnull = laundry_match.notnull()\n",
    "\n",
    "data_caba_clean.loc[mask_laundry_match_notnull, 'laundry'] = 1"
   ]
  },
  {
   "cell_type": "code",
   "execution_count": 386,
   "metadata": {},
   "outputs": [
    {
     "data": {
      "text/plain": [
       "10958"
      ]
     },
     "execution_count": 386,
     "metadata": {},
     "output_type": "execute_result"
    }
   ],
   "source": [
    "data_caba_clean['laundry'].notnull().sum()"
   ]
  },
  {
   "cell_type": "code",
   "execution_count": 387,
   "metadata": {},
   "outputs": [],
   "source": [
    "data_caba_clean.laundry.fillna(0, inplace = True)"
   ]
  },
  {
   "cell_type": "markdown",
   "metadata": {},
   "source": [
    "<h5> Parking </h5>"
   ]
  },
  {
   "cell_type": "code",
   "execution_count": 388,
   "metadata": {},
   "outputs": [],
   "source": [
    "parking_pattern = \"(?P<parking>parking|estacionamiento|garage|cochera|garaje)\"\n",
    "parking_pattern_regex = re.compile(parking_pattern)\n",
    "\n",
    "parking_match = data_caba_clean.description.apply(lambda x: x if (x is np.NaN) | (x is None) else\\\n",
    "                                      parking_pattern_regex.search(x))\n",
    "mask_parking_match_notnull = parking_match.notnull()\n",
    "\n",
    "data_caba_clean.loc[mask_parking_match_notnull, 'parking'] = 1"
   ]
  },
  {
   "cell_type": "code",
   "execution_count": 389,
   "metadata": {},
   "outputs": [
    {
     "data": {
      "text/plain": [
       "9796"
      ]
     },
     "execution_count": 389,
     "metadata": {},
     "output_type": "execute_result"
    }
   ],
   "source": [
    "data_caba_clean['parking'].notnull().sum()"
   ]
  },
  {
   "cell_type": "code",
   "execution_count": 390,
   "metadata": {},
   "outputs": [],
   "source": [
    "data_caba_clean.parking.fillna(0, inplace = True)"
   ]
  },
  {
   "cell_type": "markdown",
   "metadata": {},
   "source": [
    "<h5> Gimnasio </h5>"
   ]
  },
  {
   "cell_type": "code",
   "execution_count": 391,
   "metadata": {},
   "outputs": [],
   "source": [
    "gym_pattern = \"(?P<gimnasio>gim|gym|fitness|fitnes|ejercicio)\"\n",
    "gym_pattern_regex = re.compile(gym_pattern)\n",
    "\n",
    "gym_match = data_caba_clean.description.apply(lambda x: x if (x is np.NaN) | (x is None) else\\\n",
    "                                      gym_pattern_regex.search(x))\n",
    "mask_gim_match_notnull = gym_match.notnull()\n",
    "\n",
    "data_caba_clean.loc[mask_gim_match_notnull, 'gym'] = 1"
   ]
  },
  {
   "cell_type": "code",
   "execution_count": 392,
   "metadata": {},
   "outputs": [
    {
     "data": {
      "text/plain": [
       "3363"
      ]
     },
     "execution_count": 392,
     "metadata": {},
     "output_type": "execute_result"
    }
   ],
   "source": [
    "data_caba_clean['gym'].notnull().sum()"
   ]
  },
  {
   "cell_type": "code",
   "execution_count": 393,
   "metadata": {},
   "outputs": [],
   "source": [
    "data_caba_clean.gym.fillna(0, inplace = True)"
   ]
  },
  {
   "cell_type": "code",
   "execution_count": 394,
   "metadata": {},
   "outputs": [],
   "source": [
    "# plt.figure(figsize=(13,10))\n",
    "# sns.heatmap(data_caba_clean.corr(),annot=True)\n",
    "# plt.title(\"Correlation Heatmap\")\n",
    "# plt.show()"
   ]
  },
  {
   "cell_type": "markdown",
   "metadata": {},
   "source": [
    "<a id=\"section_caba_dummies\"></a> \n",
    "<h3> Creación dummies sobre datos categóricos </h3>\n",
    "\n",
    "[volver a TOC](#section_toc)"
   ]
  },
  {
   "cell_type": "code",
   "execution_count": 395,
   "metadata": {},
   "outputs": [
    {
     "data": {
      "text/html": [
       "<div>\n",
       "<style scoped>\n",
       "    .dataframe tbody tr th:only-of-type {\n",
       "        vertical-align: middle;\n",
       "    }\n",
       "\n",
       "    .dataframe tbody tr th {\n",
       "        vertical-align: top;\n",
       "    }\n",
       "\n",
       "    .dataframe thead th {\n",
       "        text-align: right;\n",
       "    }\n",
       "</style>\n",
       "<table border=\"1\" class=\"dataframe\">\n",
       "  <thead>\n",
       "    <tr style=\"text-align: right;\">\n",
       "      <th></th>\n",
       "      <th>prop_type_apartment</th>\n",
       "      <th>prop_type_house</th>\n",
       "      <th>prop_type_store</th>\n",
       "    </tr>\n",
       "  </thead>\n",
       "  <tbody>\n",
       "    <tr>\n",
       "      <th>0</th>\n",
       "      <td>0</td>\n",
       "      <td>0</td>\n",
       "      <td>0</td>\n",
       "    </tr>\n",
       "    <tr>\n",
       "      <th>2</th>\n",
       "      <td>1</td>\n",
       "      <td>0</td>\n",
       "      <td>0</td>\n",
       "    </tr>\n",
       "    <tr>\n",
       "      <th>7</th>\n",
       "      <td>1</td>\n",
       "      <td>0</td>\n",
       "      <td>0</td>\n",
       "    </tr>\n",
       "    <tr>\n",
       "      <th>8</th>\n",
       "      <td>1</td>\n",
       "      <td>0</td>\n",
       "      <td>0</td>\n",
       "    </tr>\n",
       "    <tr>\n",
       "      <th>13</th>\n",
       "      <td>1</td>\n",
       "      <td>0</td>\n",
       "      <td>0</td>\n",
       "    </tr>\n",
       "    <tr>\n",
       "      <th>...</th>\n",
       "      <td>...</td>\n",
       "      <td>...</td>\n",
       "      <td>...</td>\n",
       "    </tr>\n",
       "    <tr>\n",
       "      <th>121153</th>\n",
       "      <td>1</td>\n",
       "      <td>0</td>\n",
       "      <td>0</td>\n",
       "    </tr>\n",
       "    <tr>\n",
       "      <th>121157</th>\n",
       "      <td>1</td>\n",
       "      <td>0</td>\n",
       "      <td>0</td>\n",
       "    </tr>\n",
       "    <tr>\n",
       "      <th>121158</th>\n",
       "      <td>1</td>\n",
       "      <td>0</td>\n",
       "      <td>0</td>\n",
       "    </tr>\n",
       "    <tr>\n",
       "      <th>121215</th>\n",
       "      <td>1</td>\n",
       "      <td>0</td>\n",
       "      <td>0</td>\n",
       "    </tr>\n",
       "    <tr>\n",
       "      <th>121217</th>\n",
       "      <td>1</td>\n",
       "      <td>0</td>\n",
       "      <td>0</td>\n",
       "    </tr>\n",
       "  </tbody>\n",
       "</table>\n",
       "<p>25627 rows × 3 columns</p>\n",
       "</div>"
      ],
      "text/plain": [
       "        prop_type_apartment  prop_type_house  prop_type_store\n",
       "0                         0                0                0\n",
       "2                         1                0                0\n",
       "7                         1                0                0\n",
       "8                         1                0                0\n",
       "13                        1                0                0\n",
       "...                     ...              ...              ...\n",
       "121153                    1                0                0\n",
       "121157                    1                0                0\n",
       "121158                    1                0                0\n",
       "121215                    1                0                0\n",
       "121217                    1                0                0\n",
       "\n",
       "[25627 rows x 3 columns]"
      ]
     },
     "execution_count": 395,
     "metadata": {},
     "output_type": "execute_result"
    }
   ],
   "source": [
    "# Usamos la función get_dummies con one-hot encoding (drop_first=True)\n",
    "property_type_dummies = pd.get_dummies(data_caba_clean['property_type'], drop_first = True, prefix='prop_type')\n",
    "property_type_dummies"
   ]
  },
  {
   "cell_type": "code",
   "execution_count": 396,
   "metadata": {},
   "outputs": [],
   "source": [
    "m2_labels_dummies = pd.get_dummies(data_caba_clean['m2_labels'], drop_first = True, prefix='m2_label')"
   ]
  },
  {
   "cell_type": "code",
   "execution_count": 397,
   "metadata": {},
   "outputs": [],
   "source": [
    "place_name_dummies = pd.get_dummies(data_caba_clean['place_name'], drop_first = True, prefix='place_name')"
   ]
  },
  {
   "cell_type": "code",
   "execution_count": 398,
   "metadata": {},
   "outputs": [],
   "source": [
    "# Hacemos un join para concatenar las columnas al dataframe\n",
    "data_caba_clean = data_caba_clean.join([property_type_dummies,m2_labels_dummies, place_name_dummies])"
   ]
  },
  {
   "cell_type": "code",
   "execution_count": 399,
   "metadata": {},
   "outputs": [
    {
     "data": {
      "text/html": [
       "<div>\n",
       "<style scoped>\n",
       "    .dataframe tbody tr th:only-of-type {\n",
       "        vertical-align: middle;\n",
       "    }\n",
       "\n",
       "    .dataframe tbody tr th {\n",
       "        vertical-align: top;\n",
       "    }\n",
       "\n",
       "    .dataframe thead th {\n",
       "        text-align: right;\n",
       "    }\n",
       "</style>\n",
       "<table border=\"1\" class=\"dataframe\">\n",
       "  <thead>\n",
       "    <tr style=\"text-align: right;\">\n",
       "      <th></th>\n",
       "      <th>property_type</th>\n",
       "      <th>place_name</th>\n",
       "      <th>price_aprox_usd</th>\n",
       "      <th>surface_total_in_m2</th>\n",
       "      <th>surface_covered_in_m2</th>\n",
       "      <th>price_usd_per_m2</th>\n",
       "      <th>rooms</th>\n",
       "      <th>description</th>\n",
       "      <th>m2_categories</th>\n",
       "      <th>m2_labels</th>\n",
       "      <th>number_rooms</th>\n",
       "      <th>rooms_upon_categories</th>\n",
       "      <th>pool</th>\n",
       "      <th>laundry</th>\n",
       "      <th>parking</th>\n",
       "      <th>gym</th>\n",
       "      <th>prop_type_apartment</th>\n",
       "      <th>prop_type_house</th>\n",
       "      <th>prop_type_store</th>\n",
       "      <th>m2_label_s45</th>\n",
       "      <th>m2_label_s75</th>\n",
       "      <th>m2_label_s150</th>\n",
       "      <th>m2_label_m220</th>\n",
       "      <th>place_name_Agronomía</th>\n",
       "      <th>place_name_Almagro</th>\n",
       "      <th>place_name_Balvanera</th>\n",
       "      <th>place_name_Barracas</th>\n",
       "      <th>place_name_Barrio Norte</th>\n",
       "      <th>place_name_Belgrano</th>\n",
       "      <th>place_name_Boca</th>\n",
       "      <th>place_name_Boedo</th>\n",
       "      <th>place_name_Caballito</th>\n",
       "      <th>place_name_Catalinas</th>\n",
       "      <th>place_name_Centro / Microcentro</th>\n",
       "      <th>place_name_Chacarita</th>\n",
       "      <th>place_name_Coghlan</th>\n",
       "      <th>place_name_Colegiales</th>\n",
       "      <th>place_name_Congreso</th>\n",
       "      <th>place_name_Constitución</th>\n",
       "      <th>place_name_Flores</th>\n",
       "      <th>place_name_Floresta</th>\n",
       "      <th>place_name_Las Cañitas</th>\n",
       "      <th>place_name_Liniers</th>\n",
       "      <th>place_name_Mataderos</th>\n",
       "      <th>place_name_Monserrat</th>\n",
       "      <th>place_name_Monte Castro</th>\n",
       "      <th>place_name_Nuñez</th>\n",
       "      <th>place_name_Once</th>\n",
       "      <th>place_name_Palermo</th>\n",
       "      <th>place_name_Palermo Chico</th>\n",
       "      <th>place_name_Palermo Hollywood</th>\n",
       "      <th>place_name_Palermo Soho</th>\n",
       "      <th>place_name_Palermo Viejo</th>\n",
       "      <th>place_name_Parque Avellaneda</th>\n",
       "      <th>place_name_Parque Centenario</th>\n",
       "      <th>place_name_Parque Chacabuco</th>\n",
       "      <th>place_name_Parque Chas</th>\n",
       "      <th>place_name_Parque Patricios</th>\n",
       "      <th>place_name_Paternal</th>\n",
       "      <th>place_name_Pompeya</th>\n",
       "      <th>place_name_Puerto Madero</th>\n",
       "      <th>place_name_Recoleta</th>\n",
       "      <th>place_name_Retiro</th>\n",
       "      <th>place_name_Saavedra</th>\n",
       "      <th>place_name_San Cristobal</th>\n",
       "      <th>place_name_San Nicolás</th>\n",
       "      <th>place_name_San Telmo</th>\n",
       "      <th>place_name_Tribunales</th>\n",
       "      <th>place_name_Velez Sarsfield</th>\n",
       "      <th>place_name_Versalles</th>\n",
       "      <th>place_name_Villa Crespo</th>\n",
       "      <th>place_name_Villa Devoto</th>\n",
       "      <th>place_name_Villa General Mitre</th>\n",
       "      <th>place_name_Villa Lugano</th>\n",
       "      <th>place_name_Villa Luro</th>\n",
       "      <th>place_name_Villa Ortuzar</th>\n",
       "      <th>place_name_Villa Pueyrredón</th>\n",
       "      <th>place_name_Villa Real</th>\n",
       "      <th>place_name_Villa Riachuelo</th>\n",
       "      <th>place_name_Villa Santa Rita</th>\n",
       "      <th>place_name_Villa Soldati</th>\n",
       "      <th>place_name_Villa Urquiza</th>\n",
       "      <th>place_name_Villa del Parque</th>\n",
       "    </tr>\n",
       "  </thead>\n",
       "  <tbody>\n",
       "    <tr>\n",
       "      <th>0</th>\n",
       "      <td>PH</td>\n",
       "      <td>Mataderos</td>\n",
       "      <td>62000.0</td>\n",
       "      <td>55.0</td>\n",
       "      <td>40.0</td>\n",
       "      <td>1127.272727</td>\n",
       "      <td>2</td>\n",
       "      <td>2 ambientes tipo casa planta baja por pasillo,...</td>\n",
       "      <td>(30, 45]</td>\n",
       "      <td>s45</td>\n",
       "      <td>2.0</td>\n",
       "      <td>2</td>\n",
       "      <td>0.0</td>\n",
       "      <td>1.0</td>\n",
       "      <td>0.0</td>\n",
       "      <td>0.0</td>\n",
       "      <td>0</td>\n",
       "      <td>0</td>\n",
       "      <td>0</td>\n",
       "      <td>1</td>\n",
       "      <td>0</td>\n",
       "      <td>0</td>\n",
       "      <td>0</td>\n",
       "      <td>0</td>\n",
       "      <td>0</td>\n",
       "      <td>0</td>\n",
       "      <td>0</td>\n",
       "      <td>0</td>\n",
       "      <td>0</td>\n",
       "      <td>0</td>\n",
       "      <td>0</td>\n",
       "      <td>0</td>\n",
       "      <td>0</td>\n",
       "      <td>0</td>\n",
       "      <td>0</td>\n",
       "      <td>0</td>\n",
       "      <td>0</td>\n",
       "      <td>0</td>\n",
       "      <td>0</td>\n",
       "      <td>0</td>\n",
       "      <td>0</td>\n",
       "      <td>0</td>\n",
       "      <td>0</td>\n",
       "      <td>1</td>\n",
       "      <td>0</td>\n",
       "      <td>0</td>\n",
       "      <td>0</td>\n",
       "      <td>0</td>\n",
       "      <td>0</td>\n",
       "      <td>0</td>\n",
       "      <td>0</td>\n",
       "      <td>0</td>\n",
       "      <td>0</td>\n",
       "      <td>0</td>\n",
       "      <td>0</td>\n",
       "      <td>0</td>\n",
       "      <td>0</td>\n",
       "      <td>0</td>\n",
       "      <td>0</td>\n",
       "      <td>0</td>\n",
       "      <td>0</td>\n",
       "      <td>0</td>\n",
       "      <td>0</td>\n",
       "      <td>0</td>\n",
       "      <td>0</td>\n",
       "      <td>0</td>\n",
       "      <td>0</td>\n",
       "      <td>0</td>\n",
       "      <td>0</td>\n",
       "      <td>0</td>\n",
       "      <td>0</td>\n",
       "      <td>0</td>\n",
       "      <td>0</td>\n",
       "      <td>0</td>\n",
       "      <td>0</td>\n",
       "      <td>0</td>\n",
       "      <td>0</td>\n",
       "      <td>0</td>\n",
       "      <td>0</td>\n",
       "      <td>0</td>\n",
       "      <td>0</td>\n",
       "      <td>0</td>\n",
       "      <td>0</td>\n",
       "    </tr>\n",
       "    <tr>\n",
       "      <th>2</th>\n",
       "      <td>apartment</td>\n",
       "      <td>Mataderos</td>\n",
       "      <td>72000.0</td>\n",
       "      <td>55.0</td>\n",
       "      <td>55.0</td>\n",
       "      <td>1309.090909</td>\n",
       "      <td>2</td>\n",
       "      <td>2 ambientes 3er piso lateral living comedor am...</td>\n",
       "      <td>(45, 75]</td>\n",
       "      <td>s75</td>\n",
       "      <td>2.0</td>\n",
       "      <td>3</td>\n",
       "      <td>0.0</td>\n",
       "      <td>1.0</td>\n",
       "      <td>0.0</td>\n",
       "      <td>0.0</td>\n",
       "      <td>1</td>\n",
       "      <td>0</td>\n",
       "      <td>0</td>\n",
       "      <td>0</td>\n",
       "      <td>1</td>\n",
       "      <td>0</td>\n",
       "      <td>0</td>\n",
       "      <td>0</td>\n",
       "      <td>0</td>\n",
       "      <td>0</td>\n",
       "      <td>0</td>\n",
       "      <td>0</td>\n",
       "      <td>0</td>\n",
       "      <td>0</td>\n",
       "      <td>0</td>\n",
       "      <td>0</td>\n",
       "      <td>0</td>\n",
       "      <td>0</td>\n",
       "      <td>0</td>\n",
       "      <td>0</td>\n",
       "      <td>0</td>\n",
       "      <td>0</td>\n",
       "      <td>0</td>\n",
       "      <td>0</td>\n",
       "      <td>0</td>\n",
       "      <td>0</td>\n",
       "      <td>0</td>\n",
       "      <td>1</td>\n",
       "      <td>0</td>\n",
       "      <td>0</td>\n",
       "      <td>0</td>\n",
       "      <td>0</td>\n",
       "      <td>0</td>\n",
       "      <td>0</td>\n",
       "      <td>0</td>\n",
       "      <td>0</td>\n",
       "      <td>0</td>\n",
       "      <td>0</td>\n",
       "      <td>0</td>\n",
       "      <td>0</td>\n",
       "      <td>0</td>\n",
       "      <td>0</td>\n",
       "      <td>0</td>\n",
       "      <td>0</td>\n",
       "      <td>0</td>\n",
       "      <td>0</td>\n",
       "      <td>0</td>\n",
       "      <td>0</td>\n",
       "      <td>0</td>\n",
       "      <td>0</td>\n",
       "      <td>0</td>\n",
       "      <td>0</td>\n",
       "      <td>0</td>\n",
       "      <td>0</td>\n",
       "      <td>0</td>\n",
       "      <td>0</td>\n",
       "      <td>0</td>\n",
       "      <td>0</td>\n",
       "      <td>0</td>\n",
       "      <td>0</td>\n",
       "      <td>0</td>\n",
       "      <td>0</td>\n",
       "      <td>0</td>\n",
       "      <td>0</td>\n",
       "      <td>0</td>\n",
       "      <td>0</td>\n",
       "      <td>0</td>\n",
       "    </tr>\n",
       "    <tr>\n",
       "      <th>7</th>\n",
       "      <td>apartment</td>\n",
       "      <td>Belgrano</td>\n",
       "      <td>138000.0</td>\n",
       "      <td>45.0</td>\n",
       "      <td>40.0</td>\n",
       "      <td>3066.666667</td>\n",
       "      <td>2</td>\n",
       "      <td>excelente monoambiente a estrenar amplio super...</td>\n",
       "      <td>(30, 45]</td>\n",
       "      <td>s45</td>\n",
       "      <td>NaN</td>\n",
       "      <td>2</td>\n",
       "      <td>1.0</td>\n",
       "      <td>1.0</td>\n",
       "      <td>0.0</td>\n",
       "      <td>0.0</td>\n",
       "      <td>1</td>\n",
       "      <td>0</td>\n",
       "      <td>0</td>\n",
       "      <td>1</td>\n",
       "      <td>0</td>\n",
       "      <td>0</td>\n",
       "      <td>0</td>\n",
       "      <td>0</td>\n",
       "      <td>0</td>\n",
       "      <td>0</td>\n",
       "      <td>0</td>\n",
       "      <td>0</td>\n",
       "      <td>1</td>\n",
       "      <td>0</td>\n",
       "      <td>0</td>\n",
       "      <td>0</td>\n",
       "      <td>0</td>\n",
       "      <td>0</td>\n",
       "      <td>0</td>\n",
       "      <td>0</td>\n",
       "      <td>0</td>\n",
       "      <td>0</td>\n",
       "      <td>0</td>\n",
       "      <td>0</td>\n",
       "      <td>0</td>\n",
       "      <td>0</td>\n",
       "      <td>0</td>\n",
       "      <td>0</td>\n",
       "      <td>0</td>\n",
       "      <td>0</td>\n",
       "      <td>0</td>\n",
       "      <td>0</td>\n",
       "      <td>0</td>\n",
       "      <td>0</td>\n",
       "      <td>0</td>\n",
       "      <td>0</td>\n",
       "      <td>0</td>\n",
       "      <td>0</td>\n",
       "      <td>0</td>\n",
       "      <td>0</td>\n",
       "      <td>0</td>\n",
       "      <td>0</td>\n",
       "      <td>0</td>\n",
       "      <td>0</td>\n",
       "      <td>0</td>\n",
       "      <td>0</td>\n",
       "      <td>0</td>\n",
       "      <td>0</td>\n",
       "      <td>0</td>\n",
       "      <td>0</td>\n",
       "      <td>0</td>\n",
       "      <td>0</td>\n",
       "      <td>0</td>\n",
       "      <td>0</td>\n",
       "      <td>0</td>\n",
       "      <td>0</td>\n",
       "      <td>0</td>\n",
       "      <td>0</td>\n",
       "      <td>0</td>\n",
       "      <td>0</td>\n",
       "      <td>0</td>\n",
       "      <td>0</td>\n",
       "      <td>0</td>\n",
       "      <td>0</td>\n",
       "      <td>0</td>\n",
       "      <td>0</td>\n",
       "      <td>0</td>\n",
       "    </tr>\n",
       "  </tbody>\n",
       "</table>\n",
       "</div>"
      ],
      "text/plain": [
       "  property_type place_name  price_aprox_usd  surface_total_in_m2  \\\n",
       "0            PH  Mataderos          62000.0                 55.0   \n",
       "2     apartment  Mataderos          72000.0                 55.0   \n",
       "7     apartment   Belgrano         138000.0                 45.0   \n",
       "\n",
       "   surface_covered_in_m2  price_usd_per_m2 rooms  \\\n",
       "0                   40.0       1127.272727     2   \n",
       "2                   55.0       1309.090909     2   \n",
       "7                   40.0       3066.666667     2   \n",
       "\n",
       "                                         description m2_categories m2_labels  \\\n",
       "0  2 ambientes tipo casa planta baja por pasillo,...      (30, 45]       s45   \n",
       "2  2 ambientes 3er piso lateral living comedor am...      (45, 75]       s75   \n",
       "7  excelente monoambiente a estrenar amplio super...      (30, 45]       s45   \n",
       "\n",
       "   number_rooms rooms_upon_categories  pool  laundry  parking  gym  \\\n",
       "0           2.0                     2   0.0      1.0      0.0  0.0   \n",
       "2           2.0                     3   0.0      1.0      0.0  0.0   \n",
       "7           NaN                     2   1.0      1.0      0.0  0.0   \n",
       "\n",
       "   prop_type_apartment  prop_type_house  prop_type_store  m2_label_s45  \\\n",
       "0                    0                0                0             1   \n",
       "2                    1                0                0             0   \n",
       "7                    1                0                0             1   \n",
       "\n",
       "   m2_label_s75  m2_label_s150  m2_label_m220  place_name_Agronomía  \\\n",
       "0             0              0              0                     0   \n",
       "2             1              0              0                     0   \n",
       "7             0              0              0                     0   \n",
       "\n",
       "   place_name_Almagro  place_name_Balvanera  place_name_Barracas  \\\n",
       "0                   0                     0                    0   \n",
       "2                   0                     0                    0   \n",
       "7                   0                     0                    0   \n",
       "\n",
       "   place_name_Barrio Norte  place_name_Belgrano  place_name_Boca  \\\n",
       "0                        0                    0                0   \n",
       "2                        0                    0                0   \n",
       "7                        0                    1                0   \n",
       "\n",
       "   place_name_Boedo  place_name_Caballito  place_name_Catalinas  \\\n",
       "0                 0                     0                     0   \n",
       "2                 0                     0                     0   \n",
       "7                 0                     0                     0   \n",
       "\n",
       "   place_name_Centro / Microcentro  place_name_Chacarita  place_name_Coghlan  \\\n",
       "0                                0                     0                   0   \n",
       "2                                0                     0                   0   \n",
       "7                                0                     0                   0   \n",
       "\n",
       "   place_name_Colegiales  place_name_Congreso  place_name_Constitución  \\\n",
       "0                      0                    0                        0   \n",
       "2                      0                    0                        0   \n",
       "7                      0                    0                        0   \n",
       "\n",
       "   place_name_Flores  place_name_Floresta  place_name_Las Cañitas  \\\n",
       "0                  0                    0                       0   \n",
       "2                  0                    0                       0   \n",
       "7                  0                    0                       0   \n",
       "\n",
       "   place_name_Liniers  place_name_Mataderos  place_name_Monserrat  \\\n",
       "0                   0                     1                     0   \n",
       "2                   0                     1                     0   \n",
       "7                   0                     0                     0   \n",
       "\n",
       "   place_name_Monte Castro  place_name_Nuñez  place_name_Once  \\\n",
       "0                        0                 0                0   \n",
       "2                        0                 0                0   \n",
       "7                        0                 0                0   \n",
       "\n",
       "   place_name_Palermo  place_name_Palermo Chico  place_name_Palermo Hollywood  \\\n",
       "0                   0                         0                             0   \n",
       "2                   0                         0                             0   \n",
       "7                   0                         0                             0   \n",
       "\n",
       "   place_name_Palermo Soho  place_name_Palermo Viejo  \\\n",
       "0                        0                         0   \n",
       "2                        0                         0   \n",
       "7                        0                         0   \n",
       "\n",
       "   place_name_Parque Avellaneda  place_name_Parque Centenario  \\\n",
       "0                             0                             0   \n",
       "2                             0                             0   \n",
       "7                             0                             0   \n",
       "\n",
       "   place_name_Parque Chacabuco  place_name_Parque Chas  \\\n",
       "0                            0                       0   \n",
       "2                            0                       0   \n",
       "7                            0                       0   \n",
       "\n",
       "   place_name_Parque Patricios  place_name_Paternal  place_name_Pompeya  \\\n",
       "0                            0                    0                   0   \n",
       "2                            0                    0                   0   \n",
       "7                            0                    0                   0   \n",
       "\n",
       "   place_name_Puerto Madero  place_name_Recoleta  place_name_Retiro  \\\n",
       "0                         0                    0                  0   \n",
       "2                         0                    0                  0   \n",
       "7                         0                    0                  0   \n",
       "\n",
       "   place_name_Saavedra  place_name_San Cristobal  place_name_San Nicolás  \\\n",
       "0                    0                         0                       0   \n",
       "2                    0                         0                       0   \n",
       "7                    0                         0                       0   \n",
       "\n",
       "   place_name_San Telmo  place_name_Tribunales  place_name_Velez Sarsfield  \\\n",
       "0                     0                      0                           0   \n",
       "2                     0                      0                           0   \n",
       "7                     0                      0                           0   \n",
       "\n",
       "   place_name_Versalles  place_name_Villa Crespo  place_name_Villa Devoto  \\\n",
       "0                     0                        0                        0   \n",
       "2                     0                        0                        0   \n",
       "7                     0                        0                        0   \n",
       "\n",
       "   place_name_Villa General Mitre  place_name_Villa Lugano  \\\n",
       "0                               0                        0   \n",
       "2                               0                        0   \n",
       "7                               0                        0   \n",
       "\n",
       "   place_name_Villa Luro  place_name_Villa Ortuzar  \\\n",
       "0                      0                         0   \n",
       "2                      0                         0   \n",
       "7                      0                         0   \n",
       "\n",
       "   place_name_Villa Pueyrredón  place_name_Villa Real  \\\n",
       "0                            0                      0   \n",
       "2                            0                      0   \n",
       "7                            0                      0   \n",
       "\n",
       "   place_name_Villa Riachuelo  place_name_Villa Santa Rita  \\\n",
       "0                           0                            0   \n",
       "2                           0                            0   \n",
       "7                           0                            0   \n",
       "\n",
       "   place_name_Villa Soldati  place_name_Villa Urquiza  \\\n",
       "0                         0                         0   \n",
       "2                         0                         0   \n",
       "7                         0                         0   \n",
       "\n",
       "   place_name_Villa del Parque  \n",
       "0                            0  \n",
       "2                            0  \n",
       "7                            0  "
      ]
     },
     "execution_count": 399,
     "metadata": {},
     "output_type": "execute_result"
    }
   ],
   "source": [
    "data_caba_clean.head(3)"
   ]
  },
  {
   "cell_type": "markdown",
   "metadata": {},
   "source": [
    "### Falta reindexar las filas."
   ]
  },
  {
   "cell_type": "markdown",
   "metadata": {},
   "source": [
    "### Falta el dummy de Rooms pero primero hay que ver si completamos los datos con la info de los bins"
   ]
  },
  {
   "cell_type": "code",
   "execution_count": 400,
   "metadata": {},
   "outputs": [],
   "source": [
    "# Exportamos el archivo para usar en otras notebooks, esto lo guarda en el mismo directorio en el que estamos operando\n",
    "# data_caba_clean.to_csv('data_caba_clean.csv')"
   ]
  },
  {
   "cell_type": "code",
   "execution_count": null,
   "metadata": {},
   "outputs": [],
   "source": []
  },
  {
   "cell_type": "code",
   "execution_count": null,
   "metadata": {},
   "outputs": [],
   "source": [
    "from sklearn.model_selection import cross_val_score, train_test_split, KFold\n",
    "from sklearn.linear_model import LinearRegression\n",
    "from sklearn import metrics, linear_model"
   ]
  },
  {
   "cell_type": "markdown",
   "metadata": {},
   "source": [
    "1. Primer modelo\n",
    "Eliminar rooms nulos\n",
    "Modelar \n",
    "\n",
    "2. Imputar datos faltantes en los rooms\n",
    "modelar \n",
    "\n",
    "3. Eliminar outliers\n",
    "modelar "
   ]
  },
  {
   "cell_type": "code",
   "execution_count": 559,
   "metadata": {},
   "outputs": [],
   "source": [
    "# Funcion para realizar el entrenamiento pero con un set de testeo.\n",
    "\n",
    "def graf_lineal_model(X, y, y_pred):\n",
    "    # Graficamos el modelo\n",
    "    plt.scatter(y_pred, y, s=30, c='b', alpha=0.4)\n",
    "    plt.plot(y,y, '-.',c='g')\n",
    "    plt.show()\n",
    "    print(y.shape)\n",
    "    print(y_pred.shape)\n",
    "    return\n",
    "\n",
    "def train_test_error(feature_cols, target):\n",
    "    X = data_caba_clean[feature_cols]\n",
    "    y = data_caba_clean[target].values.ravel()\n",
    "    \n",
    "    # OJO que no trabajamos con tiempo por lo tanto debe ser shuffle=True.\n",
    "    X_train, X_test, y_train, y_test = train_test_split(X, y,random_state=10)\n",
    "    \n",
    "    linreg = LinearRegression()\n",
    "    linreg.fit(X_train, y_train)\n",
    "    y_pred = linreg.predict(X_test)\n",
    "    \n",
    "#    print (feature_cols)\n",
    "#    print (\"y_test sample: \",y_test.values[0:10])\n",
    "#     print (\"y_test sample: \",y_test)\n",
    "#    print (\"y_pred sample: \",y_pred[0:20].astype(int))\n",
    "#    print ('MAE:', metrics.mean_absolute_error(y_test, y_pred))\n",
    "#    print ('MSE:', metrics.mean_squared_error(y_test, y_pred))\n",
    "    print ('RMSE:', np.sqrt(metrics.mean_squared_error(y_test, y_pred)))\n",
    "    print ('R2:', metrics.r2_score(y_test, y_pred))\n",
    "    graf_lineal_model(X, y_test, y_pred)\n",
    "    return \n",
    "\n",
    "def train_test_error_lazzo(feature_cols, target):\n",
    "    X = data_caba_clean[feature_cols]\n",
    "    y = data_caba_clean[target].values.ravel()\n",
    "#     cv = KFold(5, shuffle=True)\n",
    "    cv = 3\n",
    "    # OJO que no trabajamos con tiempo por lo tanto debe ser shuffle=True.\n",
    "    X_train, X_test, y_train, y_test = train_test_split(X, y, random_state=10)\n",
    "    \n",
    "    model = linear_model.LassoCV(normalize=True).fit(X_train, y_train)\n",
    "    scores = cross_val_score(model, X_train, y_train, cv=cv, scoring='r2')\n",
    "    \n",
    "    y_pred = model.predict(X_train)\n",
    "    print(dict(alpha=model.alpha_, scores=scores, mean_score=scores.mean(), zero_coefs=(model.coef_ == 0).sum()))\n",
    "    print (\"r^2:\", model.score(X, y))\n",
    "    print (\"Imprime Alpha\", model.alpha_)\n",
    "    graf_lineal_model(X, y_train, y_pred)\n",
    "    return \n",
    "\n",
    "def train_test_error_ridge(feature_cols, target):\n",
    "    X = data_caba_clean[feature_cols]\n",
    "    y = data_caba_clean[target].values.ravel()\n",
    "#     cv = KFold(5, shuffle=True)\n",
    "    cv = 3\n",
    "    # OJO que no trabajamos con tiempo por lo tanto debe ser shuffle=True.\n",
    "    X_train, X_test, y_train, y_test = train_test_split(X, y, random_state=10)\n",
    "    \n",
    "    model = linear_model.Ridge(alpha=0.5, normalize=True).fit(X_train, y_train)\n",
    "    \n",
    "    scores = cross_val_score(model, X_train, y_train, cv=cv, scoring='r2')\n",
    "    \n",
    "    y_pred = model.predict(X_train)\n",
    "#     print(dict(alpha=model.alpha_, scores=scores, mean_score=scores.mean(), zero_coefs=(model.coef_ == 0).sum()))\n",
    "    print (\"r^2:\", model.score(X, y))\n",
    "#     print (\"Imprime Alpha\", model.alpha_)\n",
    "    graf_lineal_model(X, y_train, y_pred)\n",
    "    return \n",
    "\n",
    "def train_test_error_elastic(feature_cols, target):\n",
    "    X = data_caba_clean[feature_cols]\n",
    "    y = data_caba_clean[target].values.ravel()\n",
    "#     cv = KFold(5, shuffle=True)\n",
    "    cv = 3\n",
    "    # OJO que no trabajamos con tiempo por lo tanto debe ser shuffle=True.\n",
    "    X_train, X_test, y_train, y_test = train_test_split(X, y, random_state=10)\n",
    "    \n",
    "    model = linear_model.ElasticNet(normalize=True).fit(X_train, y_train)\n",
    "    \n",
    "    scores = cross_val_score(model, X_train, y_train, cv=cv, scoring='r2')\n",
    "    \n",
    "    y_pred = model.predict(X_train)\n",
    "#     print(dict(alpha=model.alpha_, scores=scores, mean_score=scores.mean(), zero_coefs=(model.coef_ == 0).sum()))\n",
    "    print (\"r^2:\", model.score(X, y))\n",
    "#     print (\"Imprime Alpha\", model.alpha_)\n",
    "    graf_lineal_model(X, y_train, y_pred)\n",
    "    return "
   ]
  },
  {
   "cell_type": "code",
   "execution_count": 411,
   "metadata": {},
   "outputs": [
    {
     "data": {
      "text/plain": [
       "Index(['property_type', 'place_name', 'price_aprox_usd', 'surface_total_in_m2',\n",
       "       'surface_covered_in_m2', 'price_usd_per_m2', 'rooms', 'description',\n",
       "       'm2_categories', 'm2_labels', 'number_rooms', 'rooms_upon_categories',\n",
       "       'pool', 'laundry', 'parking', 'gym', 'prop_type_apartment',\n",
       "       'prop_type_house', 'prop_type_store', 'm2_label_s45', 'm2_label_s75',\n",
       "       'm2_label_s150', 'm2_label_m220', 'place_name_Agronomía',\n",
       "       'place_name_Almagro', 'place_name_Balvanera', 'place_name_Barracas',\n",
       "       'place_name_Barrio Norte', 'place_name_Belgrano', 'place_name_Boca',\n",
       "       'place_name_Boedo', 'place_name_Caballito', 'place_name_Catalinas',\n",
       "       'place_name_Centro / Microcentro', 'place_name_Chacarita',\n",
       "       'place_name_Coghlan', 'place_name_Colegiales', 'place_name_Congreso',\n",
       "       'place_name_Constitución', 'place_name_Flores', 'place_name_Floresta',\n",
       "       'place_name_Las Cañitas', 'place_name_Liniers', 'place_name_Mataderos',\n",
       "       'place_name_Monserrat', 'place_name_Monte Castro', 'place_name_Nuñez',\n",
       "       'place_name_Once', 'place_name_Palermo', 'place_name_Palermo Chico',\n",
       "       'place_name_Palermo Hollywood', 'place_name_Palermo Soho',\n",
       "       'place_name_Palermo Viejo', 'place_name_Parque Avellaneda',\n",
       "       'place_name_Parque Centenario', 'place_name_Parque Chacabuco',\n",
       "       'place_name_Parque Chas', 'place_name_Parque Patricios',\n",
       "       'place_name_Paternal', 'place_name_Pompeya', 'place_name_Puerto Madero',\n",
       "       'place_name_Recoleta', 'place_name_Retiro', 'place_name_Saavedra',\n",
       "       'place_name_San Cristobal', 'place_name_San Nicolás',\n",
       "       'place_name_San Telmo', 'place_name_Tribunales',\n",
       "       'place_name_Velez Sarsfield', 'place_name_Versalles',\n",
       "       'place_name_Villa Crespo', 'place_name_Villa Devoto',\n",
       "       'place_name_Villa General Mitre', 'place_name_Villa Lugano',\n",
       "       'place_name_Villa Luro', 'place_name_Villa Ortuzar',\n",
       "       'place_name_Villa Pueyrredón', 'place_name_Villa Real',\n",
       "       'place_name_Villa Riachuelo', 'place_name_Villa Santa Rita',\n",
       "       'place_name_Villa Soldati', 'place_name_Villa Urquiza',\n",
       "       'place_name_Villa del Parque'],\n",
       "      dtype='object')"
      ]
     },
     "metadata": {},
     "output_type": "display_data"
    }
   ],
   "source": [
    "display(data_caba_clean.columns)"
   ]
  },
  {
   "cell_type": "code",
   "execution_count": 536,
   "metadata": {},
   "outputs": [
    {
     "name": "stdout",
     "output_type": "stream",
     "text": [
      "RMSE: 799.1457806562635\n",
      "R2: 0.1898547780882438\n"
     ]
    },
    {
     "data": {
      "image/png": "[encoded data removed]",
      "text/plain": [
       "<Figure size 432x288 with 1 Axes>"
      ]
     },
     "metadata": {
      "needs_background": "light"
     },
     "output_type": "display_data"
    },
    {
     "name": "stdout",
     "output_type": "stream",
     "text": [
      "(5957,)\n",
      "(5957,)\n"
     ]
    }
   ],
   "source": [
    "# Regresion lineal Simple\n",
    "\n",
    "feature_cols = ['price_aprox_usd']\n",
    "target = ['price_usd_per_m2']\n",
    "\n",
    "train_test_error(feature_cols, target)\n"
   ]
  },
  {
   "cell_type": "code",
   "execution_count": 446,
   "metadata": {},
   "outputs": [
    {
     "name": "stdout",
     "output_type": "stream",
     "text": [
      "RMSE: 672.0197814420825\n",
      "R2: 0.4271050850437519\n"
     ]
    }
   ],
   "source": []
  },
  {
   "cell_type": "code",
   "execution_count": 537,
   "metadata": {},
   "outputs": [
    {
     "name": "stdout",
     "output_type": "stream",
     "text": [
      "RMSE: 548.5975687765927\n",
      "R2: 0.6182152204564222\n"
     ]
    },
    {
     "data": {
      "image/png": "[encoded data removed]",
      "text/plain": [
       "<Figure size 432x288 with 1 Axes>"
      ]
     },
     "metadata": {
      "needs_background": "light"
     },
     "output_type": "display_data"
    },
    {
     "name": "stdout",
     "output_type": "stream",
     "text": [
      "(5957,)\n",
      "(5957,)\n"
     ]
    }
   ],
   "source": [
    "feature_cols = ['surface_total_in_m2', 'price_aprox_usd', 'surface_covered_in_m2']\n",
    "target = ['price_usd_per_m2']\n",
    "\n",
    "train_test_error(feature_cols, target)\n"
   ]
  },
  {
   "cell_type": "code",
   "execution_count": 538,
   "metadata": {},
   "outputs": [
    {
     "name": "stdout",
     "output_type": "stream",
     "text": [
      "RMSE: 522.1895270445497\n",
      "R2: 0.6540867735094582\n"
     ]
    },
    {
     "data": {
      "image/png": "[encoded data removed]",
      "text/plain": [
       "<Figure size 432x288 with 1 Axes>"
      ]
     },
     "metadata": {
      "needs_background": "light"
     },
     "output_type": "display_data"
    },
    {
     "name": "stdout",
     "output_type": "stream",
     "text": [
      "(5957,)\n",
      "(5957,)\n"
     ]
    }
   ],
   "source": [
    "feature_cols = ['price_aprox_usd', 'surface_total_in_m2', 'surface_covered_in_m2',\n",
    "                'pool', 'laundry', 'parking', 'gym', 'place_name_Puerto Madero']\n",
    "target = ['price_usd_per_m2']\n",
    "\n",
    "train_test_error(feature_cols, target)"
   ]
  },
  {
   "cell_type": "code",
   "execution_count": 549,
   "metadata": {},
   "outputs": [
    {
     "name": "stdout",
     "output_type": "stream",
     "text": [
      "{'alpha': 0.02284575781849315, 'scores': array([0.66940589, 0.65380074, 0.66413054]), 'mean_score': 0.6624457200121133, 'zero_coefs': 1}\n",
      "r^2: 0.6607773451451069\n",
      "Imprime Alpha 0.02284575781849315\n"
     ]
    },
    {
     "data": {
      "image/png": "[encoded data removed]",
      "text/plain": [
       "<Figure size 432x288 with 1 Axes>"
      ]
     },
     "metadata": {
      "needs_background": "light"
     },
     "output_type": "display_data"
    },
    {
     "name": "stdout",
     "output_type": "stream",
     "text": [
      "(17869,)\n",
      "(17869,)\n"
     ]
    }
   ],
   "source": [
    "feature_cols = ['price_aprox_usd', 'surface_total_in_m2', 'surface_covered_in_m2',\n",
    "                'pool', 'laundry', 'parking', 'gym', 'place_name_Puerto Madero']\n",
    "target = ['price_usd_per_m2']\n",
    "train_test_error_lazzo(feature_cols, target)"
   ]
  },
  {
   "cell_type": "markdown",
   "metadata": {},
   "source": [
    "## Recordar que hay variables ROOM es INT!!!!"
   ]
  },
  {
   "cell_type": "code",
   "execution_count": 550,
   "metadata": {},
   "outputs": [
    {
     "name": "stdout",
     "output_type": "stream",
     "text": [
      "{'alpha': 0.000853473047555285, 'scores': array([0.00189589, 0.00669663, 0.00538258]), 'mean_score': 0.004658365874421033, 'zero_coefs': 0}\n",
      "r^2: 0.004720739016105147\n",
      "Imprime Alpha 0.000853473047555285\n"
     ]
    },
    {
     "data": {
      "image/png": "[encoded data removed]",
      "text/plain": [
       "<Figure size 432x288 with 1 Axes>"
      ]
     },
     "metadata": {
      "needs_background": "light"
     },
     "output_type": "display_data"
    },
    {
     "name": "stdout",
     "output_type": "stream",
     "text": [
      "(17869,)\n",
      "(17869,)\n"
     ]
    }
   ],
   "source": [
    "feature_cols = ['surface_total_in_m2']\n",
    "target = ['price_usd_per_m2']\n",
    "\n",
    "train_test_error_lazzo(feature_cols, target)"
   ]
  },
  {
   "cell_type": "code",
   "execution_count": 551,
   "metadata": {},
   "outputs": [
    {
     "name": "stdout",
     "output_type": "stream",
     "text": [
      "{'alpha': 0.02284575781849315, 'scores': array([0.66940589, 0.65380074, 0.66413054]), 'mean_score': 0.6624457200121133, 'zero_coefs': 1}\n",
      "r^2: 0.6607773451451069\n",
      "Imprime Alpha 0.02284575781849315\n"
     ]
    },
    {
     "data": {
      "image/png": "[encoded data removed]",
      "text/plain": [
       "<Figure size 432x288 with 1 Axes>"
      ]
     },
     "metadata": {
      "needs_background": "light"
     },
     "output_type": "display_data"
    },
    {
     "name": "stdout",
     "output_type": "stream",
     "text": [
      "(17869,)\n",
      "(17869,)\n"
     ]
    }
   ],
   "source": [
    "feature_cols = ['price_aprox_usd', 'surface_total_in_m2', 'surface_covered_in_m2',\n",
    "                'pool', 'laundry', 'parking', 'gym', 'place_name_Puerto Madero']\n",
    "target = ['price_usd_per_m2']\n",
    "\n",
    "train_test_error_lazzo(feature_cols, target)"
   ]
  },
  {
   "cell_type": "markdown",
   "metadata": {},
   "source": [
    "# Necesitamos definir Outliers."
   ]
  },
  {
   "cell_type": "code",
   "execution_count": 419,
   "metadata": {},
   "outputs": [
    {
     "data": {
      "image/png": "[encoded data removed]",
      "text/plain": [
       "<Figure size 432x288 with 1 Axes>"
      ]
     },
     "metadata": {
      "needs_background": "light"
     },
     "output_type": "display_data"
    }
   ],
   "source": [
    "fig, ax = plt.subplots()\n",
    "bp = ax.boxplot(data_caba_clean['surface_covered_in_m2'].dropna(), vert=False, showmeans=True)\n"
   ]
  },
  {
   "cell_type": "code",
   "execution_count": 420,
   "metadata": {},
   "outputs": [
    {
     "data": {
      "text/plain": [
       "0.01     760.226087\n",
       "0.95    6007.446809\n",
       "Name: price_usd_per_m2, dtype: float64"
      ]
     },
     "execution_count": 420,
     "metadata": {},
     "output_type": "execute_result"
    }
   ],
   "source": [
    "# Definimos outliers aproximados\n",
    "lower_bound = 0.01\n",
    "upper_bound = 0.95\n",
    "rest = data_caba_clean.price_usd_per_m2.quantile([lower_bound, upper_bound])\n",
    "rest"
   ]
  },
  {
   "cell_type": "code",
   "execution_count": 421,
   "metadata": {},
   "outputs": [
    {
     "data": {
      "image/png": "[encoded data removed]",
      "text/plain": [
       "<Figure size 432x288 with 1 Axes>"
      ]
     },
     "metadata": {
      "needs_background": "light"
     },
     "output_type": "display_data"
    },
    {
     "name": "stdout",
     "output_type": "stream",
     "text": [
      "6000.0\n",
      "760.8695652173913\n"
     ]
    }
   ],
   "source": [
    "# Creamos una mask entendiendo que los precios minimos y maximos pueden rondar los 600 USD y 4000 USD y fijamos outliers aproximados\n",
    "\n",
    "precioxm2_mask = (data_caba_clean.price_usd_per_m2 >= rest[0.01]) & (data_caba_clean.price_usd_per_m2 <= rest[0.95])\n",
    "data_caba_clean = data_caba_clean.loc[precioxm2_mask, :]\n",
    "\n",
    "# Vuelvo a graficar.\n",
    "\n",
    "plt.hist(data_caba_clean.price_usd_per_m2, bins=20, rwidth=0.8, color = '#29788E')\n",
    "plt.xlabel = 'Precio x M2'\n",
    "plt.ylabel = 'Count'\n",
    "plt.show()\n",
    "\n",
    "print(data_caba_clean.price_usd_per_m2.max()) \n",
    "print(data_caba_clean.price_usd_per_m2.min())\n",
    "\n",
    "# Parece una distribución normal? sino fuera por los valores elevados que tenemos a partir de los 3500..."
   ]
  },
  {
   "cell_type": "code",
   "execution_count": 422,
   "metadata": {},
   "outputs": [
    {
     "data": {
      "text/plain": [
       "0.001     12.0\n",
       "0.990    405.0\n",
       "Name: surface_covered_in_m2, dtype: float64"
      ]
     },
     "execution_count": 422,
     "metadata": {},
     "output_type": "execute_result"
    }
   ],
   "source": [
    "# Definimos outliers aproximados\n",
    "lower_bound = 0.001\n",
    "upper_bound = 0.99\n",
    "rest = data_caba_clean.surface_covered_in_m2.quantile([lower_bound, upper_bound])\n",
    "rest"
   ]
  },
  {
   "cell_type": "code",
   "execution_count": 423,
   "metadata": {},
   "outputs": [
    {
     "data": {
      "image/png": "[encoded data removed]",
      "text/plain": [
       "<Figure size 432x288 with 1 Axes>"
      ]
     },
     "metadata": {
      "needs_background": "light"
     },
     "output_type": "display_data"
    },
    {
     "name": "stdout",
     "output_type": "stream",
     "text": [
      "405.0\n",
      "12.0\n"
     ]
    }
   ],
   "source": [
    "# Creamos una mask entendiendo que los precios minimos y maximos pueden rondar los 600 USD y 4000 USD y fijamos outliers aproximados\n",
    "\n",
    "surface_xm2_mask = (data_caba_clean.surface_covered_in_m2 >= rest[0.001]) & (data_caba_clean.surface_covered_in_m2 <= rest[0.99])\n",
    "data_caba_clean = data_caba_clean.loc[surface_xm2_mask, :]\n",
    "\n",
    "# Vuelvo a graficar.\n",
    "\n",
    "plt.hist(data_caba_clean.surface_covered_in_m2, bins=20, rwidth=0.8, color = '#29788E')\n",
    "plt.xlabel = 'Precio x M2'\n",
    "plt.ylabel = 'Count'\n",
    "plt.show()\n",
    "\n",
    "print(data_caba_clean.surface_covered_in_m2.max()) \n",
    "print(data_caba_clean.surface_covered_in_m2.min())\n",
    "\n",
    "# Parece una distribución normal? sino fuera por los valores elevados que tenemos a partir de los 3500..."
   ]
  },
  {
   "cell_type": "code",
   "execution_count": 543,
   "metadata": {},
   "outputs": [
    {
     "name": "stdout",
     "output_type": "stream",
     "text": [
      "RMSE: 799.1457806562635\n",
      "R2: 0.1898547780882438\n"
     ]
    },
    {
     "data": {
      "image/png": "[encoded data removed]",
      "text/plain": [
       "<Figure size 432x288 with 1 Axes>"
      ]
     },
     "metadata": {
      "needs_background": "light"
     },
     "output_type": "display_data"
    },
    {
     "name": "stdout",
     "output_type": "stream",
     "text": [
      "(5957,)\n",
      "(5957,)\n"
     ]
    }
   ],
   "source": [
    "feature_cols = ['price_aprox_usd']\n",
    "target = ['price_usd_per_m2']\n",
    "\n",
    "train_test_error(feature_cols, target)\n"
   ]
  },
  {
   "cell_type": "code",
   "execution_count": 544,
   "metadata": {},
   "outputs": [
    {
     "name": "stdout",
     "output_type": "stream",
     "text": [
      "RMSE: 522.1895270445497\n",
      "R2: 0.6540867735094582\n"
     ]
    },
    {
     "data": {
      "image/png": "[encoded data removed]",
      "text/plain": [
       "<Figure size 432x288 with 1 Axes>"
      ]
     },
     "metadata": {
      "needs_background": "light"
     },
     "output_type": "display_data"
    },
    {
     "name": "stdout",
     "output_type": "stream",
     "text": [
      "(5957,)\n",
      "(5957,)\n"
     ]
    }
   ],
   "source": [
    "feature_cols = ['price_aprox_usd', 'surface_total_in_m2', 'surface_covered_in_m2',\n",
    "                'pool', 'laundry', 'parking', 'gym', 'place_name_Puerto Madero']\n",
    "target = ['price_usd_per_m2']\n",
    "\n",
    "train_test_error(feature_cols, target)"
   ]
  },
  {
   "cell_type": "code",
   "execution_count": 552,
   "metadata": {},
   "outputs": [
    {
     "name": "stdout",
     "output_type": "stream",
     "text": [
      "{'alpha': 0.02284575781849315, 'scores': array([0.66940589, 0.65380074, 0.66413054]), 'mean_score': 0.6624457200121133, 'zero_coefs': 1}\n",
      "r^2: 0.6607773451451069\n",
      "Imprime Alpha 0.02284575781849315\n"
     ]
    },
    {
     "data": {
      "image/png": "[encoded data removed]",
      "text/plain": [
       "<Figure size 432x288 with 1 Axes>"
      ]
     },
     "metadata": {
      "needs_background": "light"
     },
     "output_type": "display_data"
    },
    {
     "name": "stdout",
     "output_type": "stream",
     "text": [
      "(17869,)\n",
      "(17869,)\n"
     ]
    }
   ],
   "source": [
    "feature_cols = ['price_aprox_usd', 'surface_total_in_m2', 'surface_covered_in_m2',\n",
    "                'pool', 'laundry', 'parking', 'gym', 'place_name_Puerto Madero']\n",
    "target = ['price_usd_per_m2']\n",
    "\n",
    "train_test_error_lazzo(feature_cols, target)"
   ]
  },
  {
   "cell_type": "code",
   "execution_count": 553,
   "metadata": {},
   "outputs": [
    {
     "name": "stdout",
     "output_type": "stream",
     "text": [
      "r^2: 0.45059473024091345\n"
     ]
    },
    {
     "data": {
      "image/png": "[encoded data removed]",
      "text/plain": [
       "<Figure size 432x288 with 1 Axes>"
      ]
     },
     "metadata": {
      "needs_background": "light"
     },
     "output_type": "display_data"
    },
    {
     "name": "stdout",
     "output_type": "stream",
     "text": [
      "(17869,)\n",
      "(17869,)\n"
     ]
    }
   ],
   "source": [
    "feature_cols = ['price_aprox_usd', 'surface_total_in_m2', 'surface_covered_in_m2',\n",
    "                'pool', 'laundry', 'parking', 'gym', 'place_name_Puerto Madero']\n",
    "target = ['price_usd_per_m2']\n",
    "\n",
    "train_test_error_ridge(feature_cols, target)"
   ]
  },
  {
   "cell_type": "code",
   "execution_count": 516,
   "metadata": {},
   "outputs": [
    {
     "data": {
      "image/png": "[encoded data removed]",
      "text/plain": [
       "<Figure size 936x720 with 2 Axes>"
      ]
     },
     "metadata": {
      "needs_background": "light"
     },
     "output_type": "display_data"
    }
   ],
   "source": [
    "X = data_caba_clean[['price_aprox_usd', 'surface_total_in_m2', 'surface_covered_in_m2',\n",
    "        'pool', 'laundry', 'parking', 'gym', 'place_name_Puerto Madero']]\n",
    "\n",
    "plt.figure(figsize=(13,10))\n",
    "sns.heatmap(X.corr(),annot=True)\n",
    "plt.title(\"Correlation Heatmap\")\n",
    "plt.show()\n",
    "\n",
    "# Para tomar revisar!"
   ]
  },
  {
   "cell_type": "code",
   "execution_count": 545,
   "metadata": {},
   "outputs": [
    {
     "name": "stdout",
     "output_type": "stream",
     "text": [
      "r^2: 0.4709071088828056\n"
     ]
    },
    {
     "data": {
      "image/png": "[encoded data removed]",
      "text/plain": [
       "<Figure size 432x288 with 1 Axes>"
      ]
     },
     "metadata": {
      "needs_background": "light"
     },
     "output_type": "display_data"
    },
    {
     "name": "stdout",
     "output_type": "stream",
     "text": [
      "(17869,)\n",
      "(17869,)\n"
     ]
    }
   ],
   "source": [
    "feature_cols = ['price_aprox_usd', 'place_name_Villa del Parque',\n",
    "                'pool', 'laundry', 'parking', 'gym', \n",
    "                'place_name_Agronomía', 'place_name_Villa del Parque',\n",
    "                'place_name_Almagro', 'place_name_Balvanera', 'place_name_Barracas',\n",
    "                'place_name_Barrio Norte', 'place_name_Belgrano', 'place_name_Boca',\n",
    "                'place_name_Boedo', 'place_name_Caballito', 'place_name_Catalinas',\n",
    "                'place_name_Centro / Microcentro', 'place_name_Chacarita',\n",
    "                'place_name_Coghlan', 'place_name_Colegiales', 'place_name_Congreso',\n",
    "                'place_name_Constitución', 'place_name_Flores', 'place_name_Floresta',\n",
    "                'place_name_Las Cañitas', 'place_name_Liniers', 'place_name_Mataderos',\n",
    "                'place_name_Monserrat', 'place_name_Monte Castro', 'place_name_Nuñez',\n",
    "                'place_name_Once', 'place_name_Palermo', 'place_name_Palermo Chico',\n",
    "                'place_name_Palermo Hollywood', 'place_name_Palermo Soho',\n",
    "                'place_name_Palermo Viejo', 'place_name_Parque Avellaneda',\n",
    "                'place_name_Parque Centenario', 'place_name_Parque Chacabuco',\n",
    "                'place_name_Parque Chas', 'place_name_Parque Patricios',\n",
    "                'place_name_Paternal', 'place_name_Pompeya', 'place_name_Puerto Madero',\n",
    "                'place_name_Recoleta', 'place_name_Retiro', 'place_name_Saavedra',\n",
    "                'place_name_San Cristobal', 'place_name_San Nicolás',\n",
    "                'place_name_San Telmo', 'place_name_Tribunales',\n",
    "                'place_name_Velez Sarsfield', 'place_name_Versalles',\n",
    "                'place_name_Villa Crespo', 'place_name_Villa Devoto',\n",
    "                'place_name_Villa General Mitre', 'place_name_Villa Lugano',\n",
    "                'place_name_Villa Luro', 'place_name_Villa Ortuzar',\n",
    "                'place_name_Villa Pueyrredón', 'place_name_Villa Real',\n",
    "                'place_name_Villa Riachuelo', 'place_name_Villa Santa Rita',\n",
    "                'place_name_Villa Soldati', 'place_name_Villa Urquiza']\n",
    "target = ['price_usd_per_m2']\n",
    "\n",
    "train_test_error_ridge(feature_cols, target)"
   ]
  },
  {
   "cell_type": "code",
   "execution_count": 556,
   "metadata": {},
   "outputs": [
    {
     "name": "stdout",
     "output_type": "stream",
     "text": [
      "r^2: 0.3470064851179453\n"
     ]
    },
    {
     "data": {
      "image/png": "[encoded data removed]",
      "text/plain": [
       "<Figure size 432x288 with 1 Axes>"
      ]
     },
     "metadata": {
      "needs_background": "light"
     },
     "output_type": "display_data"
    },
    {
     "name": "stdout",
     "output_type": "stream",
     "text": [
      "(17869,)\n",
      "(17869,)\n"
     ]
    }
   ],
   "source": [
    "feature_cols = ['price_aprox_usd', 'surface_total_in_m2']\n",
    "target = ['price_usd_per_m2']\n",
    "\n",
    "train_test_error_ridge(feature_cols, target)"
   ]
  },
  {
   "cell_type": "code",
   "execution_count": 563,
   "metadata": {},
   "outputs": [
    {
     "name": "stdout",
     "output_type": "stream",
     "text": [
      "r^2: 3.6836246460891786e-05\n"
     ]
    },
    {
     "data": {
      "image/png": "[encoded data removed]",
      "text/plain": [
       "<Figure size 432x288 with 1 Axes>"
      ]
     },
     "metadata": {
      "needs_background": "light"
     },
     "output_type": "display_data"
    },
    {
     "name": "stdout",
     "output_type": "stream",
     "text": [
      "(17869,)\n",
      "(17869,)\n"
     ]
    }
   ],
   "source": [
    "feature_cols = ['price_aprox_usd']\n",
    "target = ['price_usd_per_m2']\n",
    "\n",
    "train_test_error_elastic(feature_cols, target)\n",
    "\n",
    "## horriblo, algo esta terriblemente mal."
   ]
  }
 ],
 "metadata": {
  "kernelspec": {
   "display_name": "Python 3",
   "language": "python",
   "name": "python3"
  },
  "language_info": {
   "codemirror_mode": {
    "name": "ipython",
    "version": 3
   },
   "file_extension": ".py",
   "mimetype": "text/x-python",
   "name": "python",
   "nbconvert_exporter": "python",
   "pygments_lexer": "ipython3",
   "version": "3.7.9"
  }
 },
 "nbformat": 4,
 "nbformat_minor": 4
}

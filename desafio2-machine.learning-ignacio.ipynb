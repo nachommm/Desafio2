{
 "cells": [
  {
   "cell_type": "markdown",
   "metadata": {},
   "source": [
    "<h2>Desafio 2 - Machine Learning\n"
   ]
  },
  {
   "cell_type": "markdown",
   "metadata": {},
   "source": [
    "<h3>Grupo 7</h3>\n",
    "<ul>\n",
    "    <li>Ignacio Mendieta</li>\n",
    "    <li>Laura Jazmín Chao</li>\n",
    "    <li>Juan Nicolás Capistrano</li>\n",
    "    <li>Betiana Srur</li>\n",
    "    <li>Marecelo Carrizo</li>\n",
    "    \n",
    "</ul>\n",
    "    "
   ]
  },
  {
   "cell_type": "markdown",
   "metadata": {},
   "source": [
    "**Desafio 2** : Aplicar las tecnicas de Machine Learning para calcular el precio por metro cuadrado de las propiedades."
   ]
  },
  {
   "cell_type": "code",
   "execution_count": 1170,
   "metadata": {},
   "outputs": [],
   "source": [
    "import numpy as np\n",
    "import pandas as pd\n",
    "import re\n",
    "\n",
    "# Libreria Grafica.\n",
    "%matplotlib inline\n",
    "import seaborn as sns\n",
    "from matplotlib import pyplot as plt\n",
    "\n",
    "# Visualización\n",
    "from bokeh.plotting import figure, show, output_notebook\n",
    "from bokeh.models import NumeralTickFormatter # Para imprimir los %\n",
    "from bokeh.tile_providers import CARTODBPOSITRON, get_provider, Vendors \n",
    "from bokeh.resources import INLINE\n",
    "\n",
    "# Libreria para analisis ML\n",
    "from sklearn import datasets, linear_model\n",
    "\n",
    "pd.set_option('display.max_columns', 100) # Para mostrar todas las columnas\n",
    "pd.set_option('display.max_rows', 100) # Para mostrar todas las filas"
   ]
  },
  {
   "cell_type": "code",
   "execution_count": 1171,
   "metadata": {},
   "outputs": [
    {
     "data": {
      "text/html": [
       "<div>\n",
       "<style scoped>\n",
       "    .dataframe tbody tr th:only-of-type {\n",
       "        vertical-align: middle;\n",
       "    }\n",
       "\n",
       "    .dataframe tbody tr th {\n",
       "        vertical-align: top;\n",
       "    }\n",
       "\n",
       "    .dataframe thead th {\n",
       "        text-align: right;\n",
       "    }\n",
       "</style>\n",
       "<table border=\"1\" class=\"dataframe\">\n",
       "  <thead>\n",
       "    <tr style=\"text-align: right;\">\n",
       "      <th></th>\n",
       "      <th>Unnamed: 0</th>\n",
       "      <th>operation</th>\n",
       "      <th>property_type</th>\n",
       "      <th>place_name</th>\n",
       "      <th>place_with_parent_names</th>\n",
       "      <th>country_name</th>\n",
       "      <th>state_name</th>\n",
       "      <th>geonames_id</th>\n",
       "      <th>lat-lon</th>\n",
       "      <th>lat</th>\n",
       "      <th>lon</th>\n",
       "      <th>price</th>\n",
       "      <th>currency</th>\n",
       "      <th>price_aprox_local_currency</th>\n",
       "      <th>price_aprox_usd</th>\n",
       "      <th>surface_total_in_m2</th>\n",
       "      <th>surface_covered_in_m2</th>\n",
       "      <th>price_usd_per_m2</th>\n",
       "      <th>price_per_m2</th>\n",
       "      <th>floor</th>\n",
       "      <th>rooms</th>\n",
       "      <th>expenses</th>\n",
       "      <th>properati_url</th>\n",
       "      <th>description</th>\n",
       "      <th>title</th>\n",
       "      <th>image_thumbnail</th>\n",
       "    </tr>\n",
       "  </thead>\n",
       "  <tbody>\n",
       "    <tr>\n",
       "      <th>102376</th>\n",
       "      <td>102376</td>\n",
       "      <td>sell</td>\n",
       "      <td>apartment</td>\n",
       "      <td>Nuñez</td>\n",
       "      <td>|Argentina|Capital Federal|Nuñez|</td>\n",
       "      <td>Argentina</td>\n",
       "      <td>Capital Federal</td>\n",
       "      <td>3430348.0</td>\n",
       "      <td>NaN</td>\n",
       "      <td>NaN</td>\n",
       "      <td>NaN</td>\n",
       "      <td>318000.0</td>\n",
       "      <td>USD</td>\n",
       "      <td>5610951.00</td>\n",
       "      <td>318000.0</td>\n",
       "      <td>133.0</td>\n",
       "      <td>75.0</td>\n",
       "      <td>2390.977444</td>\n",
       "      <td>4240.000000</td>\n",
       "      <td>NaN</td>\n",
       "      <td>NaN</td>\n",
       "      <td>4500.0</td>\n",
       "      <td>http://www.properati.com.ar/1bqjv_venta_depart...</td>\n",
       "      <td>APTO CRÉDITO - Magníficas vistas de la Ciudad!...</td>\n",
       "      <td>Departamento - Nuñez</td>\n",
       "      <td>https://thumbs4.properati.com/3/iDI4gJWZcrxBIE...</td>\n",
       "    </tr>\n",
       "    <tr>\n",
       "      <th>71476</th>\n",
       "      <td>71476</td>\n",
       "      <td>sell</td>\n",
       "      <td>apartment</td>\n",
       "      <td>Caballito</td>\n",
       "      <td>|Argentina|Capital Federal|Caballito|</td>\n",
       "      <td>Argentina</td>\n",
       "      <td>Capital Federal</td>\n",
       "      <td>3435874.0</td>\n",
       "      <td>-34.6122151188,-58.4553376741</td>\n",
       "      <td>-34.612215</td>\n",
       "      <td>-58.455338</td>\n",
       "      <td>75000.0</td>\n",
       "      <td>USD</td>\n",
       "      <td>1323337.50</td>\n",
       "      <td>75000.0</td>\n",
       "      <td>38.0</td>\n",
       "      <td>38.0</td>\n",
       "      <td>1973.684211</td>\n",
       "      <td>1973.684211</td>\n",
       "      <td>NaN</td>\n",
       "      <td>NaN</td>\n",
       "      <td>800.0</td>\n",
       "      <td>http://www.properati.com.ar/1al04_venta_depart...</td>\n",
       "      <td>MUY BUEN DEPARTAMENTO DE 2 AMBIENTES CON ESCRI...</td>\n",
       "      <td>Muy Buen 2 ambientes con escritorio</td>\n",
       "      <td>https://thumbs4.properati.com/6/hH14RyaWeNgZtV...</td>\n",
       "    </tr>\n",
       "    <tr>\n",
       "      <th>62403</th>\n",
       "      <td>62403</td>\n",
       "      <td>sell</td>\n",
       "      <td>house</td>\n",
       "      <td>Barrio San Gabriel</td>\n",
       "      <td>|Argentina|Bs.As. G.B.A. Zona Norte|Tigre|Barr...</td>\n",
       "      <td>Argentina</td>\n",
       "      <td>Bs.As. G.B.A. Zona Norte</td>\n",
       "      <td>NaN</td>\n",
       "      <td>-34.358984,-58.680152</td>\n",
       "      <td>-34.358984</td>\n",
       "      <td>-58.680152</td>\n",
       "      <td>345000.0</td>\n",
       "      <td>USD</td>\n",
       "      <td>6087352.50</td>\n",
       "      <td>345000.0</td>\n",
       "      <td>1100.0</td>\n",
       "      <td>251.0</td>\n",
       "      <td>313.636364</td>\n",
       "      <td>1374.501992</td>\n",
       "      <td>NaN</td>\n",
       "      <td>5.0</td>\n",
       "      <td>NaN</td>\n",
       "      <td>http://www.properati.com.ar/1a71l_venta_casa_b...</td>\n",
       "      <td>Moderna casa estilo racionalista. Excelente pr...</td>\n",
       "      <td>San Gabriel. Excelente casa a estrenar. Entreg...</td>\n",
       "      <td>https://thumbs4.properati.com/6/HPkTonKyqzjGrp...</td>\n",
       "    </tr>\n",
       "    <tr>\n",
       "      <th>121116</th>\n",
       "      <td>121116</td>\n",
       "      <td>sell</td>\n",
       "      <td>apartment</td>\n",
       "      <td>Castelar</td>\n",
       "      <td>|Argentina|Bs.As. G.B.A. Zona Oeste|Morón|Cast...</td>\n",
       "      <td>Argentina</td>\n",
       "      <td>Bs.As. G.B.A. Zona Oeste</td>\n",
       "      <td>3435607.0</td>\n",
       "      <td>NaN</td>\n",
       "      <td>NaN</td>\n",
       "      <td>NaN</td>\n",
       "      <td>NaN</td>\n",
       "      <td>NaN</td>\n",
       "      <td>NaN</td>\n",
       "      <td>NaN</td>\n",
       "      <td>100.0</td>\n",
       "      <td>94.0</td>\n",
       "      <td>NaN</td>\n",
       "      <td>NaN</td>\n",
       "      <td>NaN</td>\n",
       "      <td>NaN</td>\n",
       "      <td>NaN</td>\n",
       "      <td>http://www.properati.com.ar/1cj3z_venta_depart...</td>\n",
       "      <td>Amplio departamento de 4 Amb. con vista al fre...</td>\n",
       "      <td>Departamento - Castelar Norte</td>\n",
       "      <td>https://thumbs4.properati.com/7/TDQtmzvWLAoSUQ...</td>\n",
       "    </tr>\n",
       "    <tr>\n",
       "      <th>28300</th>\n",
       "      <td>28300</td>\n",
       "      <td>sell</td>\n",
       "      <td>apartment</td>\n",
       "      <td>Olivos</td>\n",
       "      <td>|Argentina|Bs.As. G.B.A. Zona Norte|Vicente Ló...</td>\n",
       "      <td>Argentina</td>\n",
       "      <td>Bs.As. G.B.A. Zona Norte</td>\n",
       "      <td>3430310.0</td>\n",
       "      <td>NaN</td>\n",
       "      <td>NaN</td>\n",
       "      <td>NaN</td>\n",
       "      <td>267930.0</td>\n",
       "      <td>USD</td>\n",
       "      <td>4727490.88</td>\n",
       "      <td>267930.0</td>\n",
       "      <td>94.0</td>\n",
       "      <td>75.0</td>\n",
       "      <td>2850.319149</td>\n",
       "      <td>3572.400000</td>\n",
       "      <td>2.0</td>\n",
       "      <td>NaN</td>\n",
       "      <td>NaN</td>\n",
       "      <td>http://www.properati.com.ar/17vzl_venta_depart...</td>\n",
       "      <td>-- YRIGOYEN BOULEVARD --Amplio 3 amb de 75 m2 ...</td>\n",
       "      <td>Departamento 94m² con Plantas en Maipu, Av. 18...</td>\n",
       "      <td>https://thumbs4.properati.com/1/SCzXuOX5DGm5eq...</td>\n",
       "    </tr>\n",
       "  </tbody>\n",
       "</table>\n",
       "</div>"
      ],
      "text/plain": [
       "        Unnamed: 0 operation property_type          place_name  \\\n",
       "102376      102376      sell     apartment               Nuñez   \n",
       "71476        71476      sell     apartment           Caballito   \n",
       "62403        62403      sell         house  Barrio San Gabriel   \n",
       "121116      121116      sell     apartment            Castelar   \n",
       "28300        28300      sell     apartment              Olivos   \n",
       "\n",
       "                                  place_with_parent_names country_name  \\\n",
       "102376                  |Argentina|Capital Federal|Nuñez|    Argentina   \n",
       "71476               |Argentina|Capital Federal|Caballito|    Argentina   \n",
       "62403   |Argentina|Bs.As. G.B.A. Zona Norte|Tigre|Barr...    Argentina   \n",
       "121116  |Argentina|Bs.As. G.B.A. Zona Oeste|Morón|Cast...    Argentina   \n",
       "28300   |Argentina|Bs.As. G.B.A. Zona Norte|Vicente Ló...    Argentina   \n",
       "\n",
       "                      state_name  geonames_id                        lat-lon  \\\n",
       "102376           Capital Federal    3430348.0                            NaN   \n",
       "71476            Capital Federal    3435874.0  -34.6122151188,-58.4553376741   \n",
       "62403   Bs.As. G.B.A. Zona Norte          NaN          -34.358984,-58.680152   \n",
       "121116  Bs.As. G.B.A. Zona Oeste    3435607.0                            NaN   \n",
       "28300   Bs.As. G.B.A. Zona Norte    3430310.0                            NaN   \n",
       "\n",
       "              lat        lon     price currency  price_aprox_local_currency  \\\n",
       "102376        NaN        NaN  318000.0      USD                  5610951.00   \n",
       "71476  -34.612215 -58.455338   75000.0      USD                  1323337.50   \n",
       "62403  -34.358984 -58.680152  345000.0      USD                  6087352.50   \n",
       "121116        NaN        NaN       NaN      NaN                         NaN   \n",
       "28300         NaN        NaN  267930.0      USD                  4727490.88   \n",
       "\n",
       "        price_aprox_usd  surface_total_in_m2  surface_covered_in_m2  \\\n",
       "102376         318000.0                133.0                   75.0   \n",
       "71476           75000.0                 38.0                   38.0   \n",
       "62403          345000.0               1100.0                  251.0   \n",
       "121116              NaN                100.0                   94.0   \n",
       "28300          267930.0                 94.0                   75.0   \n",
       "\n",
       "        price_usd_per_m2  price_per_m2  floor  rooms  expenses  \\\n",
       "102376       2390.977444   4240.000000    NaN    NaN    4500.0   \n",
       "71476        1973.684211   1973.684211    NaN    NaN     800.0   \n",
       "62403         313.636364   1374.501992    NaN    5.0       NaN   \n",
       "121116               NaN           NaN    NaN    NaN       NaN   \n",
       "28300        2850.319149   3572.400000    2.0    NaN       NaN   \n",
       "\n",
       "                                            properati_url  \\\n",
       "102376  http://www.properati.com.ar/1bqjv_venta_depart...   \n",
       "71476   http://www.properati.com.ar/1al04_venta_depart...   \n",
       "62403   http://www.properati.com.ar/1a71l_venta_casa_b...   \n",
       "121116  http://www.properati.com.ar/1cj3z_venta_depart...   \n",
       "28300   http://www.properati.com.ar/17vzl_venta_depart...   \n",
       "\n",
       "                                              description  \\\n",
       "102376  APTO CRÉDITO - Magníficas vistas de la Ciudad!...   \n",
       "71476   MUY BUEN DEPARTAMENTO DE 2 AMBIENTES CON ESCRI...   \n",
       "62403   Moderna casa estilo racionalista. Excelente pr...   \n",
       "121116  Amplio departamento de 4 Amb. con vista al fre...   \n",
       "28300   -- YRIGOYEN BOULEVARD --Amplio 3 amb de 75 m2 ...   \n",
       "\n",
       "                                                    title  \\\n",
       "102376                               Departamento - Nuñez   \n",
       "71476                 Muy Buen 2 ambientes con escritorio   \n",
       "62403   San Gabriel. Excelente casa a estrenar. Entreg...   \n",
       "121116                      Departamento - Castelar Norte   \n",
       "28300   Departamento 94m² con Plantas en Maipu, Av. 18...   \n",
       "\n",
       "                                          image_thumbnail  \n",
       "102376  https://thumbs4.properati.com/3/iDI4gJWZcrxBIE...  \n",
       "71476   https://thumbs4.properati.com/6/hH14RyaWeNgZtV...  \n",
       "62403   https://thumbs4.properati.com/6/HPkTonKyqzjGrp...  \n",
       "121116  https://thumbs4.properati.com/7/TDQtmzvWLAoSUQ...  \n",
       "28300   https://thumbs4.properati.com/1/SCzXuOX5DGm5eq...  "
      ]
     },
     "execution_count": 1171,
     "metadata": {},
     "output_type": "execute_result"
    }
   ],
   "source": [
    "# Definimos la ruta de la información.\n",
    "data_propiedades = \"Data/properati.csv\"\n",
    "\n",
    "# Leemos los datos del archivo\n",
    "data = pd.read_csv(data_propiedades, sep=\",\", encoding=\"UTF-8\")\n",
    "\n",
    "# Chequeamos que los datos se hayan importado correctamente\n",
    "data.sample(5)"
   ]
  },
  {
   "cell_type": "code",
   "execution_count": 1172,
   "metadata": {},
   "outputs": [
    {
     "data": {
      "text/plain": [
       "(121220, 26)"
      ]
     },
     "execution_count": 1172,
     "metadata": {},
     "output_type": "execute_result"
    }
   ],
   "source": [
    "# Chequeamos cantidad de registros y cantidad de columnas\n",
    "data.shape"
   ]
  },
  {
   "cell_type": "markdown",
   "metadata": {},
   "source": [
    "<h2>Selección de los datos</h2>"
   ]
  },
  {
   "cell_type": "markdown",
   "metadata": {},
   "source": [
    "En base a los análisis previos realizados sobre el Dataset, tomaremos los datos de CABA únicamente para realizar un modelo de machine learning. "
   ]
  },
  {
   "cell_type": "code",
   "execution_count": 1173,
   "metadata": {},
   "outputs": [
    {
     "data": {
      "text/html": [
       "<div>\n",
       "<style scoped>\n",
       "    .dataframe tbody tr th:only-of-type {\n",
       "        vertical-align: middle;\n",
       "    }\n",
       "\n",
       "    .dataframe tbody tr th {\n",
       "        vertical-align: top;\n",
       "    }\n",
       "\n",
       "    .dataframe thead th {\n",
       "        text-align: right;\n",
       "    }\n",
       "</style>\n",
       "<table border=\"1\" class=\"dataframe\">\n",
       "  <thead>\n",
       "    <tr style=\"text-align: right;\">\n",
       "      <th></th>\n",
       "      <th>Unnamed: 0</th>\n",
       "      <th>operation</th>\n",
       "      <th>property_type</th>\n",
       "      <th>place_name</th>\n",
       "      <th>place_with_parent_names</th>\n",
       "      <th>country_name</th>\n",
       "      <th>state_name</th>\n",
       "      <th>geonames_id</th>\n",
       "      <th>lat-lon</th>\n",
       "      <th>lat</th>\n",
       "      <th>lon</th>\n",
       "      <th>price</th>\n",
       "      <th>currency</th>\n",
       "      <th>price_aprox_local_currency</th>\n",
       "      <th>price_aprox_usd</th>\n",
       "      <th>surface_total_in_m2</th>\n",
       "      <th>surface_covered_in_m2</th>\n",
       "      <th>price_usd_per_m2</th>\n",
       "      <th>price_per_m2</th>\n",
       "      <th>floor</th>\n",
       "      <th>rooms</th>\n",
       "      <th>expenses</th>\n",
       "      <th>properati_url</th>\n",
       "      <th>description</th>\n",
       "      <th>title</th>\n",
       "      <th>image_thumbnail</th>\n",
       "    </tr>\n",
       "  </thead>\n",
       "  <tbody>\n",
       "    <tr>\n",
       "      <th>0</th>\n",
       "      <td>0</td>\n",
       "      <td>sell</td>\n",
       "      <td>PH</td>\n",
       "      <td>Mataderos</td>\n",
       "      <td>|Argentina|Capital Federal|Mataderos|</td>\n",
       "      <td>Argentina</td>\n",
       "      <td>Capital Federal</td>\n",
       "      <td>3430787.0</td>\n",
       "      <td>-34.6618237,-58.5088387</td>\n",
       "      <td>-34.661824</td>\n",
       "      <td>-58.508839</td>\n",
       "      <td>62000.0</td>\n",
       "      <td>USD</td>\n",
       "      <td>1093959.0</td>\n",
       "      <td>62000.0</td>\n",
       "      <td>55.0</td>\n",
       "      <td>40.0</td>\n",
       "      <td>1127.272727</td>\n",
       "      <td>1550.000000</td>\n",
       "      <td>NaN</td>\n",
       "      <td>NaN</td>\n",
       "      <td>NaN</td>\n",
       "      <td>http://www.properati.com.ar/15bo8_venta_ph_mat...</td>\n",
       "      <td>2 AMBIENTES TIPO CASA PLANTA BAJA POR PASILLO,...</td>\n",
       "      <td>2 AMB TIPO CASA SIN EXPENSAS EN PB</td>\n",
       "      <td>https://thumbs4.properati.com/8/BluUYiHJLhgIIK...</td>\n",
       "    </tr>\n",
       "    <tr>\n",
       "      <th>2</th>\n",
       "      <td>2</td>\n",
       "      <td>sell</td>\n",
       "      <td>apartment</td>\n",
       "      <td>Mataderos</td>\n",
       "      <td>|Argentina|Capital Federal|Mataderos|</td>\n",
       "      <td>Argentina</td>\n",
       "      <td>Capital Federal</td>\n",
       "      <td>3430787.0</td>\n",
       "      <td>-34.6522615,-58.5229825</td>\n",
       "      <td>-34.652262</td>\n",
       "      <td>-58.522982</td>\n",
       "      <td>72000.0</td>\n",
       "      <td>USD</td>\n",
       "      <td>1270404.0</td>\n",
       "      <td>72000.0</td>\n",
       "      <td>55.0</td>\n",
       "      <td>55.0</td>\n",
       "      <td>1309.090909</td>\n",
       "      <td>1309.090909</td>\n",
       "      <td>NaN</td>\n",
       "      <td>NaN</td>\n",
       "      <td>NaN</td>\n",
       "      <td>http://www.properati.com.ar/15bod_venta_depart...</td>\n",
       "      <td>2 AMBIENTES 3ER PISO LATERAL LIVING COMEDOR AM...</td>\n",
       "      <td>2 AMB 3ER PISO CON ASCENSOR APTO CREDITO</td>\n",
       "      <td>https://thumbs4.properati.com/5/SXKr34F_IwG3W_...</td>\n",
       "    </tr>\n",
       "    <tr>\n",
       "      <th>3</th>\n",
       "      <td>3</td>\n",
       "      <td>sell</td>\n",
       "      <td>PH</td>\n",
       "      <td>Liniers</td>\n",
       "      <td>|Argentina|Capital Federal|Liniers|</td>\n",
       "      <td>Argentina</td>\n",
       "      <td>Capital Federal</td>\n",
       "      <td>3431333.0</td>\n",
       "      <td>-34.6477969,-58.5164244</td>\n",
       "      <td>-34.647797</td>\n",
       "      <td>-58.516424</td>\n",
       "      <td>95000.0</td>\n",
       "      <td>USD</td>\n",
       "      <td>1676227.5</td>\n",
       "      <td>95000.0</td>\n",
       "      <td>NaN</td>\n",
       "      <td>NaN</td>\n",
       "      <td>NaN</td>\n",
       "      <td>NaN</td>\n",
       "      <td>NaN</td>\n",
       "      <td>NaN</td>\n",
       "      <td>NaN</td>\n",
       "      <td>http://www.properati.com.ar/15boh_venta_ph_lin...</td>\n",
       "      <td>PH 3 ambientes con patio. Hay 3 deptos en lote...</td>\n",
       "      <td>PH 3 amb. cfte. reciclado</td>\n",
       "      <td>https://thumbs4.properati.com/3/DgIfX-85Mog5SP...</td>\n",
       "    </tr>\n",
       "  </tbody>\n",
       "</table>\n",
       "</div>"
      ],
      "text/plain": [
       "   Unnamed: 0 operation property_type place_name  \\\n",
       "0           0      sell            PH  Mataderos   \n",
       "2           2      sell     apartment  Mataderos   \n",
       "3           3      sell            PH    Liniers   \n",
       "\n",
       "                 place_with_parent_names country_name       state_name  \\\n",
       "0  |Argentina|Capital Federal|Mataderos|    Argentina  Capital Federal   \n",
       "2  |Argentina|Capital Federal|Mataderos|    Argentina  Capital Federal   \n",
       "3    |Argentina|Capital Federal|Liniers|    Argentina  Capital Federal   \n",
       "\n",
       "   geonames_id                  lat-lon        lat        lon    price  \\\n",
       "0    3430787.0  -34.6618237,-58.5088387 -34.661824 -58.508839  62000.0   \n",
       "2    3430787.0  -34.6522615,-58.5229825 -34.652262 -58.522982  72000.0   \n",
       "3    3431333.0  -34.6477969,-58.5164244 -34.647797 -58.516424  95000.0   \n",
       "\n",
       "  currency  price_aprox_local_currency  price_aprox_usd  surface_total_in_m2  \\\n",
       "0      USD                   1093959.0          62000.0                 55.0   \n",
       "2      USD                   1270404.0          72000.0                 55.0   \n",
       "3      USD                   1676227.5          95000.0                  NaN   \n",
       "\n",
       "   surface_covered_in_m2  price_usd_per_m2  price_per_m2  floor  rooms  \\\n",
       "0                   40.0       1127.272727   1550.000000    NaN    NaN   \n",
       "2                   55.0       1309.090909   1309.090909    NaN    NaN   \n",
       "3                    NaN               NaN           NaN    NaN    NaN   \n",
       "\n",
       "   expenses                                      properati_url  \\\n",
       "0       NaN  http://www.properati.com.ar/15bo8_venta_ph_mat...   \n",
       "2       NaN  http://www.properati.com.ar/15bod_venta_depart...   \n",
       "3       NaN  http://www.properati.com.ar/15boh_venta_ph_lin...   \n",
       "\n",
       "                                         description  \\\n",
       "0  2 AMBIENTES TIPO CASA PLANTA BAJA POR PASILLO,...   \n",
       "2  2 AMBIENTES 3ER PISO LATERAL LIVING COMEDOR AM...   \n",
       "3  PH 3 ambientes con patio. Hay 3 deptos en lote...   \n",
       "\n",
       "                                      title  \\\n",
       "0        2 AMB TIPO CASA SIN EXPENSAS EN PB   \n",
       "2  2 AMB 3ER PISO CON ASCENSOR APTO CREDITO   \n",
       "3              PH 3 amb. cfte. reciclado      \n",
       "\n",
       "                                     image_thumbnail  \n",
       "0  https://thumbs4.properati.com/8/BluUYiHJLhgIIK...  \n",
       "2  https://thumbs4.properati.com/5/SXKr34F_IwG3W_...  \n",
       "3  https://thumbs4.properati.com/3/DgIfX-85Mog5SP...  "
      ]
     },
     "execution_count": 1173,
     "metadata": {},
     "output_type": "execute_result"
    }
   ],
   "source": [
    "# Creamos una máscara y la aplicamos al dataframe anterior para traer los registros que necesitamos\n",
    "data_caba_mask = data.state_name == 'Capital Federal' \n",
    "data_caba = data.loc[data_caba_mask, :]\n",
    "\n",
    "# Chequeamos cómo quedaron los datos\n",
    "data_caba.head(3)"
   ]
  },
  {
   "cell_type": "code",
   "execution_count": 1174,
   "metadata": {},
   "outputs": [
    {
     "data": {
      "text/plain": [
       "(32316, 26)"
      ]
     },
     "execution_count": 1174,
     "metadata": {},
     "output_type": "execute_result"
    }
   ],
   "source": [
    "data_caba.shape"
   ]
  },
  {
   "cell_type": "code",
   "execution_count": 1175,
   "metadata": {},
   "outputs": [
    {
     "data": {
      "text/plain": [
       "Unnamed: 0                      int64\n",
       "operation                      object\n",
       "property_type                  object\n",
       "place_name                     object\n",
       "place_with_parent_names        object\n",
       "country_name                   object\n",
       "state_name                     object\n",
       "geonames_id                   float64\n",
       "lat-lon                        object\n",
       "lat                           float64\n",
       "lon                           float64\n",
       "price                         float64\n",
       "currency                       object\n",
       "price_aprox_local_currency    float64\n",
       "price_aprox_usd               float64\n",
       "surface_total_in_m2           float64\n",
       "surface_covered_in_m2         float64\n",
       "price_usd_per_m2              float64\n",
       "price_per_m2                  float64\n",
       "floor                         float64\n",
       "rooms                         float64\n",
       "expenses                      float64\n",
       "properati_url                  object\n",
       "description                    object\n",
       "title                          object\n",
       "image_thumbnail                object\n",
       "dtype: object"
      ]
     },
     "execution_count": 1175,
     "metadata": {},
     "output_type": "execute_result"
    }
   ],
   "source": [
    "data_caba.dtypes"
   ]
  },
  {
   "cell_type": "markdown",
   "metadata": {},
   "source": [
    "<a id=\"section_dataset_nulos\"></a> \n",
    "<h3>Cálculo de cantidad de nulos</h3>\n",
    "\n",
    "[volver a TOC](#section_toc)"
   ]
  },
  {
   "cell_type": "code",
   "execution_count": 1176,
   "metadata": {},
   "outputs": [],
   "source": [
    "# # Calculamos cantidad de nulos por campo\n",
    "# cant_nulos_por_campo = data_caba.isnull().sum()\n",
    "# cant_nulos_por_campo"
   ]
  },
  {
   "cell_type": "code",
   "execution_count": 1177,
   "metadata": {},
   "outputs": [],
   "source": [
    "# # Calculamos porcentaje de nulos por campo\n",
    "# cant_registros = data_caba.shape[0]\n",
    "# print(f'Cantidad Original de registros: {cant_registros}\\n')\n",
    "# #len(data.index) es lo mismo\n",
    "\n",
    "# porc_nulos_por_campo = np.round((100 * cant_nulos_por_campo / cant_registros),2)\n",
    "# print(porc_nulos_por_campo)"
   ]
  },
  {
   "cell_type": "markdown",
   "metadata": {},
   "source": [
    "<h4> Distribución de <strong>property_type</strong>"
   ]
  },
  {
   "cell_type": "code",
   "execution_count": 1178,
   "metadata": {},
   "outputs": [
    {
     "name": "stdout",
     "output_type": "stream",
     "text": [
      "property_type: \n",
      "apartment    27037\n",
      "house         2087\n",
      "PH            1828\n",
      "store         1364\n",
      "Name: property_type, dtype: int64\n"
     ]
    }
   ],
   "source": [
    "# Contamos cantidad de valores de cada elemento en property_type y operation para ver distribución\n",
    "property_type_count = data_caba.property_type.value_counts()\n",
    "print(f'property_type: \\n{property_type_count}')"
   ]
  },
  {
   "cell_type": "code",
   "execution_count": 1179,
   "metadata": {},
   "outputs": [],
   "source": [
    "# # Convertimos el count anterior en las categorías del gráfico\n",
    "# categories = np.array(property_type_count.index)\n",
    "\n",
    "# cord_x = data_caba.property_type.value_counts() / data_caba.shape[0]\n",
    "# palette = ['#440154', '#29788E', '#22A784', '#FDE724']\n",
    "\n",
    "# p = figure(x_range=categories, plot_width=500, plot_height=200)\n",
    "# p.vbar(x=categories, top=cord_x, width=0.6,\n",
    "#        color=palette)\n",
    "\n",
    "# p.yaxis.formatter = NumeralTickFormatter(format='0 %')\n",
    "# output_notebook(resources=INLINE)\n",
    "# show(p)"
   ]
  },
  {
   "cell_type": "markdown",
   "metadata": {},
   "source": [
    "<h4>Distribución de <strong>currency</strong></h4>"
   ]
  },
  {
   "cell_type": "code",
   "execution_count": 1180,
   "metadata": {},
   "outputs": [
    {
     "data": {
      "text/plain": [
       "USD    27826\n",
       "ARS     1190\n",
       "PEN        2\n",
       "Name: currency, dtype: int64"
      ]
     },
     "execution_count": 1180,
     "metadata": {},
     "output_type": "execute_result"
    }
   ],
   "source": [
    "data_caba.currency.value_counts()"
   ]
  },
  {
   "cell_type": "markdown",
   "metadata": {},
   "source": [
    "<h4>Distribución de <strong>barrio</strong></h4>"
   ]
  },
  {
   "cell_type": "code",
   "execution_count": 1181,
   "metadata": {},
   "outputs": [
    {
     "data": {
      "text/plain": [
       "Belgrano                2992\n",
       "Palermo                 2885\n",
       "Caballito               2273\n",
       "Villa Urquiza           1629\n",
       "Recoleta                1547\n",
       "Flores                  1354\n",
       "Villa Crespo            1331\n",
       "Capital Federal         1297\n",
       "San Telmo               1216\n",
       "Almagro                 1165\n",
       "Barrio Norte            1140\n",
       "Boedo                    890\n",
       "Nuñez                    778\n",
       "Balvanera                667\n",
       "Puerto Madero            647\n",
       "San Cristobal            614\n",
       "Saavedra                 542\n",
       "Monserrat                538\n",
       "Palermo Hollywood        532\n",
       "Floresta                 516\n",
       "Villa del Parque         488\n",
       "Villa Luro               432\n",
       "Barracas                 425\n",
       "Villa Devoto             420\n",
       "Mataderos                418\n",
       "Liniers                  408\n",
       "Palermo Soho             394\n",
       "Colegiales               352\n",
       "Parque Patricios         322\n",
       "Congreso                 304\n",
       "Coghlan                  259\n",
       "Retiro                   248\n",
       "Palermo Chico            232\n",
       "Chacarita                227\n",
       "Centro / Microcentro     223\n",
       "Boca                     223\n",
       "Constitución             211\n",
       "Villa Lugano             205\n",
       "Once                     198\n",
       "San Nicolás              187\n",
       "Villa Pueyrredón         175\n",
       "Paternal                 173\n",
       "Parque Chacabuco         146\n",
       "Las Cañitas              143\n",
       "Abasto                   113\n",
       "Tribunales                98\n",
       "Villa Ortuzar             86\n",
       "Monte Castro              79\n",
       "Parque Centenario         68\n",
       "Pompeya                   64\n",
       "Villa Santa Rita          57\n",
       "Parque Avellaneda         56\n",
       "Versalles                 55\n",
       "Villa General Mitre       48\n",
       "Parque Chas               44\n",
       "Agronomía                 41\n",
       "Palermo Viejo             40\n",
       "Velez Sarsfield           39\n",
       "Villa Real                37\n",
       "Villa Soldati             15\n",
       "Villa Riachuelo            6\n",
       "Catalinas                  4\n",
       "Name: place_name, dtype: int64"
      ]
     },
     "execution_count": 1181,
     "metadata": {},
     "output_type": "execute_result"
    }
   ],
   "source": [
    "place_name_count = data_caba.place_name.value_counts()\n",
    "# place_name_count.sort_index()\n",
    "place_name_count"
   ]
  },
  {
   "cell_type": "markdown",
   "metadata": {},
   "source": [
    "<h2>Limpieza de Datos</h2>"
   ]
  },
  {
   "cell_type": "markdown",
   "metadata": {},
   "source": [
    "<a id=\"section_dataset_drop\"></a> \n",
    "<h3> Drop de columnas innecesarias </h3>\n",
    "\n",
    "[volver a TOC](#section_toc)"
   ]
  },
  {
   "cell_type": "code",
   "execution_count": 1182,
   "metadata": {},
   "outputs": [
    {
     "data": {
      "text/html": [
       "<div>\n",
       "<style scoped>\n",
       "    .dataframe tbody tr th:only-of-type {\n",
       "        vertical-align: middle;\n",
       "    }\n",
       "\n",
       "    .dataframe tbody tr th {\n",
       "        vertical-align: top;\n",
       "    }\n",
       "\n",
       "    .dataframe thead th {\n",
       "        text-align: right;\n",
       "    }\n",
       "</style>\n",
       "<table border=\"1\" class=\"dataframe\">\n",
       "  <thead>\n",
       "    <tr style=\"text-align: right;\">\n",
       "      <th></th>\n",
       "      <th>property_type</th>\n",
       "      <th>place_name</th>\n",
       "      <th>price</th>\n",
       "      <th>currency</th>\n",
       "      <th>price_aprox_local_currency</th>\n",
       "      <th>price_aprox_usd</th>\n",
       "      <th>surface_total_in_m2</th>\n",
       "      <th>surface_covered_in_m2</th>\n",
       "      <th>price_usd_per_m2</th>\n",
       "      <th>price_per_m2</th>\n",
       "      <th>floor</th>\n",
       "      <th>rooms</th>\n",
       "      <th>description</th>\n",
       "    </tr>\n",
       "  </thead>\n",
       "  <tbody>\n",
       "    <tr>\n",
       "      <th>0</th>\n",
       "      <td>PH</td>\n",
       "      <td>Mataderos</td>\n",
       "      <td>62000.0</td>\n",
       "      <td>USD</td>\n",
       "      <td>1093959.0</td>\n",
       "      <td>62000.0</td>\n",
       "      <td>55.0</td>\n",
       "      <td>40.0</td>\n",
       "      <td>1127.272727</td>\n",
       "      <td>1550.000000</td>\n",
       "      <td>NaN</td>\n",
       "      <td>NaN</td>\n",
       "      <td>2 AMBIENTES TIPO CASA PLANTA BAJA POR PASILLO,...</td>\n",
       "    </tr>\n",
       "    <tr>\n",
       "      <th>2</th>\n",
       "      <td>apartment</td>\n",
       "      <td>Mataderos</td>\n",
       "      <td>72000.0</td>\n",
       "      <td>USD</td>\n",
       "      <td>1270404.0</td>\n",
       "      <td>72000.0</td>\n",
       "      <td>55.0</td>\n",
       "      <td>55.0</td>\n",
       "      <td>1309.090909</td>\n",
       "      <td>1309.090909</td>\n",
       "      <td>NaN</td>\n",
       "      <td>NaN</td>\n",
       "      <td>2 AMBIENTES 3ER PISO LATERAL LIVING COMEDOR AM...</td>\n",
       "    </tr>\n",
       "    <tr>\n",
       "      <th>3</th>\n",
       "      <td>PH</td>\n",
       "      <td>Liniers</td>\n",
       "      <td>95000.0</td>\n",
       "      <td>USD</td>\n",
       "      <td>1676227.5</td>\n",
       "      <td>95000.0</td>\n",
       "      <td>NaN</td>\n",
       "      <td>NaN</td>\n",
       "      <td>NaN</td>\n",
       "      <td>NaN</td>\n",
       "      <td>NaN</td>\n",
       "      <td>NaN</td>\n",
       "      <td>PH 3 ambientes con patio. Hay 3 deptos en lote...</td>\n",
       "    </tr>\n",
       "    <tr>\n",
       "      <th>7</th>\n",
       "      <td>apartment</td>\n",
       "      <td>Belgrano</td>\n",
       "      <td>138000.0</td>\n",
       "      <td>USD</td>\n",
       "      <td>2434941.0</td>\n",
       "      <td>138000.0</td>\n",
       "      <td>45.0</td>\n",
       "      <td>40.0</td>\n",
       "      <td>3066.666667</td>\n",
       "      <td>3450.000000</td>\n",
       "      <td>NaN</td>\n",
       "      <td>NaN</td>\n",
       "      <td>EXCELENTE MONOAMBIENTE A ESTRENAR AMPLIO SUPER...</td>\n",
       "    </tr>\n",
       "    <tr>\n",
       "      <th>8</th>\n",
       "      <td>apartment</td>\n",
       "      <td>Belgrano</td>\n",
       "      <td>195000.0</td>\n",
       "      <td>USD</td>\n",
       "      <td>3440677.5</td>\n",
       "      <td>195000.0</td>\n",
       "      <td>65.0</td>\n",
       "      <td>60.0</td>\n",
       "      <td>3000.000000</td>\n",
       "      <td>3250.000000</td>\n",
       "      <td>NaN</td>\n",
       "      <td>NaN</td>\n",
       "      <td>EXCELENTE DOS AMBIENTES  ESTRENAR AMPLIO SUPER...</td>\n",
       "    </tr>\n",
       "  </tbody>\n",
       "</table>\n",
       "</div>"
      ],
      "text/plain": [
       "  property_type place_name     price currency  price_aprox_local_currency  \\\n",
       "0            PH  Mataderos   62000.0      USD                   1093959.0   \n",
       "2     apartment  Mataderos   72000.0      USD                   1270404.0   \n",
       "3            PH    Liniers   95000.0      USD                   1676227.5   \n",
       "7     apartment   Belgrano  138000.0      USD                   2434941.0   \n",
       "8     apartment   Belgrano  195000.0      USD                   3440677.5   \n",
       "\n",
       "   price_aprox_usd  surface_total_in_m2  surface_covered_in_m2  \\\n",
       "0          62000.0                 55.0                   40.0   \n",
       "2          72000.0                 55.0                   55.0   \n",
       "3          95000.0                  NaN                    NaN   \n",
       "7         138000.0                 45.0                   40.0   \n",
       "8         195000.0                 65.0                   60.0   \n",
       "\n",
       "   price_usd_per_m2  price_per_m2  floor  rooms  \\\n",
       "0       1127.272727   1550.000000    NaN    NaN   \n",
       "2       1309.090909   1309.090909    NaN    NaN   \n",
       "3               NaN           NaN    NaN    NaN   \n",
       "7       3066.666667   3450.000000    NaN    NaN   \n",
       "8       3000.000000   3250.000000    NaN    NaN   \n",
       "\n",
       "                                         description  \n",
       "0  2 AMBIENTES TIPO CASA PLANTA BAJA POR PASILLO,...  \n",
       "2  2 AMBIENTES 3ER PISO LATERAL LIVING COMEDOR AM...  \n",
       "3  PH 3 ambientes con patio. Hay 3 deptos en lote...  \n",
       "7  EXCELENTE MONOAMBIENTE A ESTRENAR AMPLIO SUPER...  \n",
       "8  EXCELENTE DOS AMBIENTES  ESTRENAR AMPLIO SUPER...  "
      ]
     },
     "execution_count": 1182,
     "metadata": {},
     "output_type": "execute_result"
    }
   ],
   "source": [
    "# Creamos la lista de columnas a filtrar\n",
    "drop_columns = ['Unnamed: 0', 'operation', 'place_with_parent_names', 'country_name', 'state_name', 'geonames_id', 'lat-lon','lat', 'lon',\n",
    "               'expenses','properati_url','title', 'image_thumbnail']\n",
    "\n",
    "data_caba_clean = data_caba.drop(drop_columns, axis=1)\n",
    "data_caba_clean.head(5)"
   ]
  },
  {
   "cell_type": "markdown",
   "metadata": {},
   "source": [
    "\n",
    "<h3> Limpiamos <strong>currency</strong> </h3>\n",
    "\n",
    "[volver a TOC](#section_toc)"
   ]
  },
  {
   "cell_type": "code",
   "execution_count": 1183,
   "metadata": {},
   "outputs": [
    {
     "data": {
      "text/html": [
       "<div>\n",
       "<style scoped>\n",
       "    .dataframe tbody tr th:only-of-type {\n",
       "        vertical-align: middle;\n",
       "    }\n",
       "\n",
       "    .dataframe tbody tr th {\n",
       "        vertical-align: top;\n",
       "    }\n",
       "\n",
       "    .dataframe thead th {\n",
       "        text-align: right;\n",
       "    }\n",
       "</style>\n",
       "<table border=\"1\" class=\"dataframe\">\n",
       "  <thead>\n",
       "    <tr style=\"text-align: right;\">\n",
       "      <th></th>\n",
       "      <th>property_type</th>\n",
       "      <th>place_name</th>\n",
       "      <th>price</th>\n",
       "      <th>currency</th>\n",
       "      <th>price_aprox_local_currency</th>\n",
       "      <th>price_aprox_usd</th>\n",
       "      <th>surface_total_in_m2</th>\n",
       "      <th>surface_covered_in_m2</th>\n",
       "      <th>price_usd_per_m2</th>\n",
       "      <th>price_per_m2</th>\n",
       "      <th>floor</th>\n",
       "      <th>rooms</th>\n",
       "      <th>description</th>\n",
       "    </tr>\n",
       "  </thead>\n",
       "  <tbody>\n",
       "    <tr>\n",
       "      <th>50387</th>\n",
       "      <td>apartment</td>\n",
       "      <td>Capital Federal</td>\n",
       "      <td>380000.0</td>\n",
       "      <td>PEN</td>\n",
       "      <td>2066864.90</td>\n",
       "      <td>117139.33</td>\n",
       "      <td>NaN</td>\n",
       "      <td>NaN</td>\n",
       "      <td>NaN</td>\n",
       "      <td>NaN</td>\n",
       "      <td>NaN</td>\n",
       "      <td>NaN</td>\n",
       "      <td>Ref.: 55:PREVENTA ::: OPORTUNIDAD ::: Dúplex a...</td>\n",
       "    </tr>\n",
       "    <tr>\n",
       "      <th>50388</th>\n",
       "      <td>apartment</td>\n",
       "      <td>Capital Federal</td>\n",
       "      <td>950000.0</td>\n",
       "      <td>PEN</td>\n",
       "      <td>5167162.35</td>\n",
       "      <td>292848.33</td>\n",
       "      <td>NaN</td>\n",
       "      <td>NaN</td>\n",
       "      <td>NaN</td>\n",
       "      <td>NaN</td>\n",
       "      <td>NaN</td>\n",
       "      <td>NaN</td>\n",
       "      <td>Ref.: 56Duplex en venta de 1 dormitorio con ap...</td>\n",
       "    </tr>\n",
       "  </tbody>\n",
       "</table>\n",
       "</div>"
      ],
      "text/plain": [
       "      property_type       place_name     price currency  \\\n",
       "50387     apartment  Capital Federal  380000.0      PEN   \n",
       "50388     apartment  Capital Federal  950000.0      PEN   \n",
       "\n",
       "       price_aprox_local_currency  price_aprox_usd  surface_total_in_m2  \\\n",
       "50387                  2066864.90        117139.33                  NaN   \n",
       "50388                  5167162.35        292848.33                  NaN   \n",
       "\n",
       "       surface_covered_in_m2  price_usd_per_m2  price_per_m2  floor  rooms  \\\n",
       "50387                    NaN               NaN           NaN    NaN    NaN   \n",
       "50388                    NaN               NaN           NaN    NaN    NaN   \n",
       "\n",
       "                                             description  \n",
       "50387  Ref.: 55:PREVENTA ::: OPORTUNIDAD ::: Dúplex a...  \n",
       "50388  Ref.: 56Duplex en venta de 1 dormitorio con ap...  "
      ]
     },
     "execution_count": 1183,
     "metadata": {},
     "output_type": "execute_result"
    }
   ],
   "source": [
    "# Creamos una mask para traer los valores en monedas que no son USD ni ARS.\n",
    "currency_OTHER_CURRENCY_mask = (data_caba_clean.currency == 'PEN') | (data_caba_clean.currency == 'UYU')\n",
    "# Observamos esos registros\n",
    "data_caba_clean.loc[currency_OTHER_CURRENCY_mask, :]"
   ]
  },
  {
   "cell_type": "code",
   "execution_count": 1184,
   "metadata": {},
   "outputs": [
    {
     "name": "stdout",
     "output_type": "stream",
     "text": [
      "Cantidad de registros original - registro actuales: 2\n"
     ]
    }
   ],
   "source": [
    "# Hacemos drop de esos registros y chequeamos la diferencia entre cantidad original y actual\n",
    "cant_registros = data_caba_clean.shape[0]\n",
    "# Dropeamos las moneda PEN y UYU ## OJO la moneda UYU era de una propiedad en Mendoza.\n",
    "data_caba_clean.drop(data_caba_clean.loc[currency_OTHER_CURRENCY_mask, :].index, inplace = True) \n",
    "# Verificamos.\n",
    "print(f'Cantidad de registros original - registro actuales: {cant_registros - data_caba_clean.shape[0]}')"
   ]
  },
  {
   "cell_type": "markdown",
   "metadata": {},
   "source": [
    "<h3> Limpiamos <strong>place_name</strong> </h3>\n",
    "\n",
    "[volver a TOC](#section_toc)"
   ]
  },
  {
   "cell_type": "code",
   "execution_count": 1185,
   "metadata": {},
   "outputs": [
    {
     "data": {
      "text/plain": [
       "(31019, 13)"
      ]
     },
     "execution_count": 1185,
     "metadata": {},
     "output_type": "execute_result"
    }
   ],
   "source": [
    "# Dropeamos los de Capital Federal\n",
    "capi_mask = data_caba_clean.place_name == 'Capital Federal'\n",
    "data_caba_clean.drop(data_caba_clean.loc[capi_mask, :].index, inplace=True)\n",
    "\n",
    "# Chequeamos cómo quedaron los datos\n",
    "data_caba_clean.shape"
   ]
  },
  {
   "cell_type": "markdown",
   "metadata": {},
   "source": [
    "<h3> Volvemos a calcular cantidad de nulos luego de eliminar columnas y registros"
   ]
  },
  {
   "cell_type": "code",
   "execution_count": 1186,
   "metadata": {},
   "outputs": [
    {
     "data": {
      "text/plain": [
       "property_type                     0\n",
       "place_name                        0\n",
       "price                          2959\n",
       "currency                       2959\n",
       "price_aprox_local_currency     2959\n",
       "price_aprox_usd                2959\n",
       "surface_total_in_m2            5707\n",
       "surface_covered_in_m2          1963\n",
       "price_usd_per_m2               8416\n",
       "price_per_m2                   4570\n",
       "floor                         28070\n",
       "rooms                         15748\n",
       "description                       0\n",
       "dtype: int64"
      ]
     },
     "execution_count": 1186,
     "metadata": {},
     "output_type": "execute_result"
    }
   ],
   "source": [
    "# Calculamos cantidad de nulos por campo\n",
    "cant_nulos_por_campo = data_caba_clean.isnull().sum()\n",
    "cant_nulos_por_campo"
   ]
  },
  {
   "cell_type": "code",
   "execution_count": 1187,
   "metadata": {},
   "outputs": [
    {
     "name": "stdout",
     "output_type": "stream",
     "text": [
      "Cantidad Original de registros: 31019\n",
      "\n",
      "property_type                  0.00\n",
      "place_name                     0.00\n",
      "price                          9.54\n",
      "currency                       9.54\n",
      "price_aprox_local_currency     9.54\n",
      "price_aprox_usd                9.54\n",
      "surface_total_in_m2           18.40\n",
      "surface_covered_in_m2          6.33\n",
      "price_usd_per_m2              27.13\n",
      "price_per_m2                  14.73\n",
      "floor                         90.49\n",
      "rooms                         50.77\n",
      "description                    0.00\n",
      "dtype: float64\n"
     ]
    }
   ],
   "source": [
    "# Calculamos porcentaje de nulos por campo\n",
    "cant_registros = data_caba_clean.shape[0]\n",
    "print(f'Cantidad Original de registros: {cant_registros}\\n')\n",
    "#len(data.index) es lo mismo\n",
    "\n",
    "porc_nulos_por_campo = np.round((100 * cant_nulos_por_campo / cant_registros),2)\n",
    "print(porc_nulos_por_campo)"
   ]
  },
  {
   "cell_type": "code",
   "execution_count": 1188,
   "metadata": {},
   "outputs": [
    {
     "data": {
      "text/plain": [
       "(31019, 13)"
      ]
     },
     "execution_count": 1188,
     "metadata": {},
     "output_type": "execute_result"
    }
   ],
   "source": [
    "data_caba_clean.shape"
   ]
  },
  {
   "cell_type": "code",
   "execution_count": 1189,
   "metadata": {},
   "outputs": [
    {
     "data": {
      "text/html": [
       "<div>\n",
       "<style scoped>\n",
       "    .dataframe tbody tr th:only-of-type {\n",
       "        vertical-align: middle;\n",
       "    }\n",
       "\n",
       "    .dataframe tbody tr th {\n",
       "        vertical-align: top;\n",
       "    }\n",
       "\n",
       "    .dataframe thead th {\n",
       "        text-align: right;\n",
       "    }\n",
       "</style>\n",
       "<table border=\"1\" class=\"dataframe\">\n",
       "  <thead>\n",
       "    <tr style=\"text-align: right;\">\n",
       "      <th></th>\n",
       "      <th>property_type</th>\n",
       "      <th>place_name</th>\n",
       "      <th>price</th>\n",
       "      <th>currency</th>\n",
       "      <th>price_aprox_local_currency</th>\n",
       "      <th>price_aprox_usd</th>\n",
       "      <th>surface_total_in_m2</th>\n",
       "      <th>surface_covered_in_m2</th>\n",
       "      <th>price_usd_per_m2</th>\n",
       "      <th>price_per_m2</th>\n",
       "      <th>floor</th>\n",
       "      <th>rooms</th>\n",
       "      <th>description</th>\n",
       "    </tr>\n",
       "  </thead>\n",
       "  <tbody>\n",
       "    <tr>\n",
       "      <th>80251</th>\n",
       "      <td>PH</td>\n",
       "      <td>Villa Crespo</td>\n",
       "      <td>185000.0</td>\n",
       "      <td>USD</td>\n",
       "      <td>3264232.50</td>\n",
       "      <td>185000.0</td>\n",
       "      <td>117.0</td>\n",
       "      <td>107.0</td>\n",
       "      <td>1581.196581</td>\n",
       "      <td>1728.971963</td>\n",
       "      <td>NaN</td>\n",
       "      <td>NaN</td>\n",
       "      <td>Cómodo PH de estilo en planta baja al frente c...</td>\n",
       "    </tr>\n",
       "    <tr>\n",
       "      <th>7930</th>\n",
       "      <td>apartment</td>\n",
       "      <td>Palermo</td>\n",
       "      <td>120000.0</td>\n",
       "      <td>USD</td>\n",
       "      <td>2117340.00</td>\n",
       "      <td>120000.0</td>\n",
       "      <td>NaN</td>\n",
       "      <td>44.0</td>\n",
       "      <td>NaN</td>\n",
       "      <td>2727.272727</td>\n",
       "      <td>NaN</td>\n",
       "      <td>1.0</td>\n",
       "      <td>Corredor Responsable: Ariel Champanier - C.U.C...</td>\n",
       "    </tr>\n",
       "    <tr>\n",
       "      <th>88571</th>\n",
       "      <td>apartment</td>\n",
       "      <td>Belgrano</td>\n",
       "      <td>NaN</td>\n",
       "      <td>NaN</td>\n",
       "      <td>NaN</td>\n",
       "      <td>NaN</td>\n",
       "      <td>60.0</td>\n",
       "      <td>54.0</td>\n",
       "      <td>NaN</td>\n",
       "      <td>NaN</td>\n",
       "      <td>NaN</td>\n",
       "      <td>NaN</td>\n",
       "      <td>El precio se compone de un monto en U$S que co...</td>\n",
       "    </tr>\n",
       "    <tr>\n",
       "      <th>85363</th>\n",
       "      <td>house</td>\n",
       "      <td>Barracas</td>\n",
       "      <td>220000.0</td>\n",
       "      <td>USD</td>\n",
       "      <td>3881790.00</td>\n",
       "      <td>220000.0</td>\n",
       "      <td>247.0</td>\n",
       "      <td>113.0</td>\n",
       "      <td>890.688259</td>\n",
       "      <td>1946.902655</td>\n",
       "      <td>NaN</td>\n",
       "      <td>NaN</td>\n",
       "      <td>Sobre la calle Rio Limay: A Metros de la Aveni...</td>\n",
       "    </tr>\n",
       "    <tr>\n",
       "      <th>72866</th>\n",
       "      <td>apartment</td>\n",
       "      <td>Caballito</td>\n",
       "      <td>252405.0</td>\n",
       "      <td>USD</td>\n",
       "      <td>4453560.02</td>\n",
       "      <td>252405.0</td>\n",
       "      <td>79.0</td>\n",
       "      <td>NaN</td>\n",
       "      <td>3195.000000</td>\n",
       "      <td>NaN</td>\n",
       "      <td>NaN</td>\n",
       "      <td>NaN</td>\n",
       "      <td>CABALLITO - SEMIPISO EN VENTA DE 3 AMBIENTES A...</td>\n",
       "    </tr>\n",
       "  </tbody>\n",
       "</table>\n",
       "</div>"
      ],
      "text/plain": [
       "      property_type    place_name     price currency  \\\n",
       "80251            PH  Villa Crespo  185000.0      USD   \n",
       "7930      apartment       Palermo  120000.0      USD   \n",
       "88571     apartment      Belgrano       NaN      NaN   \n",
       "85363         house      Barracas  220000.0      USD   \n",
       "72866     apartment     Caballito  252405.0      USD   \n",
       "\n",
       "       price_aprox_local_currency  price_aprox_usd  surface_total_in_m2  \\\n",
       "80251                  3264232.50         185000.0                117.0   \n",
       "7930                   2117340.00         120000.0                  NaN   \n",
       "88571                         NaN              NaN                 60.0   \n",
       "85363                  3881790.00         220000.0                247.0   \n",
       "72866                  4453560.02         252405.0                 79.0   \n",
       "\n",
       "       surface_covered_in_m2  price_usd_per_m2  price_per_m2  floor  rooms  \\\n",
       "80251                  107.0       1581.196581   1728.971963    NaN    NaN   \n",
       "7930                    44.0               NaN   2727.272727    NaN    1.0   \n",
       "88571                   54.0               NaN           NaN    NaN    NaN   \n",
       "85363                  113.0        890.688259   1946.902655    NaN    NaN   \n",
       "72866                    NaN       3195.000000           NaN    NaN    NaN   \n",
       "\n",
       "                                             description  \n",
       "80251  Cómodo PH de estilo en planta baja al frente c...  \n",
       "7930   Corredor Responsable: Ariel Champanier - C.U.C...  \n",
       "88571  El precio se compone de un monto en U$S que co...  \n",
       "85363  Sobre la calle Rio Limay: A Metros de la Aveni...  \n",
       "72866  CABALLITO - SEMIPISO EN VENTA DE 3 AMBIENTES A...  "
      ]
     },
     "execution_count": 1189,
     "metadata": {},
     "output_type": "execute_result"
    }
   ],
   "source": [
    "data_caba_clean.sample(5)"
   ]
  },
  {
   "cell_type": "markdown",
   "metadata": {},
   "source": [
    "## De los datos filtrados según Desafio 1 deberiamos:\n",
    "\n",
    "1. Terminar de dropear variables incompletas que serian necesarias para poder entrenar un modelo. (ejemplo: si la propiedad no posee: price, price_aprox_local_currency,price_usd_per_m2, price_per_m2, etc...) la información de los barrios ya fue analizado y dropeado en el paso anterior.\n",
    "2. Definir las variables CUANTITATIVAS, ejemplo precio, total de m2 de superficie.\n",
    "3. Armar las variables CUALITATIVAS, Dummy (ejemplo: place_name, property_type, amenities, rooms).\n",
    "4. Armar una nueva variable Dummy que contemple los precios de propiedad segun su distribución por metro cuadrado. Utilizando Panda CUT. \n",
    "\n",
    "## Finalizado el analisis de datos, armamos diferentes modelos para predecir el precio de la propiedad.\n",
    "\n",
    "1. Regresion Lineal Multiple\n",
    "2. Entrenar los modelos con Lasso, RidgeCV y utilizando Cross Validation.\n",
    "\n"
   ]
  },
  {
   "cell_type": "markdown",
   "metadata": {},
   "source": [
    "### Primero damos homogenidad a los datos\n",
    "\n",
    "Vamos a realizar ciertas verificaciones de los datos."
   ]
  },
  {
   "cell_type": "code",
   "execution_count": 1190,
   "metadata": {},
   "outputs": [
    {
     "data": {
      "text/plain": [
       "(4138, 13)"
      ]
     },
     "metadata": {},
     "output_type": "display_data"
    },
    {
     "data": {
      "text/html": [
       "<div>\n",
       "<style scoped>\n",
       "    .dataframe tbody tr th:only-of-type {\n",
       "        vertical-align: middle;\n",
       "    }\n",
       "\n",
       "    .dataframe tbody tr th {\n",
       "        vertical-align: top;\n",
       "    }\n",
       "\n",
       "    .dataframe thead th {\n",
       "        text-align: right;\n",
       "    }\n",
       "</style>\n",
       "<table border=\"1\" class=\"dataframe\">\n",
       "  <thead>\n",
       "    <tr style=\"text-align: right;\">\n",
       "      <th></th>\n",
       "      <th>property_type</th>\n",
       "      <th>place_name</th>\n",
       "      <th>price</th>\n",
       "      <th>currency</th>\n",
       "      <th>price_aprox_local_currency</th>\n",
       "      <th>price_aprox_usd</th>\n",
       "      <th>surface_total_in_m2</th>\n",
       "      <th>surface_covered_in_m2</th>\n",
       "      <th>price_usd_per_m2</th>\n",
       "      <th>price_per_m2</th>\n",
       "      <th>floor</th>\n",
       "      <th>rooms</th>\n",
       "      <th>description</th>\n",
       "    </tr>\n",
       "  </thead>\n",
       "  <tbody>\n",
       "    <tr>\n",
       "      <th>90821</th>\n",
       "      <td>apartment</td>\n",
       "      <td>Barrio Norte</td>\n",
       "      <td>NaN</td>\n",
       "      <td>NaN</td>\n",
       "      <td>NaN</td>\n",
       "      <td>NaN</td>\n",
       "      <td>41.0</td>\n",
       "      <td>36.0</td>\n",
       "      <td>NaN</td>\n",
       "      <td>NaN</td>\n",
       "      <td>NaN</td>\n",
       "      <td>NaN</td>\n",
       "      <td>BBU6009 AP447168</td>\n",
       "    </tr>\n",
       "    <tr>\n",
       "      <th>87602</th>\n",
       "      <td>apartment</td>\n",
       "      <td>Barrio Norte</td>\n",
       "      <td>NaN</td>\n",
       "      <td>NaN</td>\n",
       "      <td>NaN</td>\n",
       "      <td>NaN</td>\n",
       "      <td>55.0</td>\n",
       "      <td>39.0</td>\n",
       "      <td>NaN</td>\n",
       "      <td>NaN</td>\n",
       "      <td>NaN</td>\n",
       "      <td>NaN</td>\n",
       "      <td>BBU4235 AP258444</td>\n",
       "    </tr>\n",
       "    <tr>\n",
       "      <th>75341</th>\n",
       "      <td>apartment</td>\n",
       "      <td>Belgrano</td>\n",
       "      <td>NaN</td>\n",
       "      <td>NaN</td>\n",
       "      <td>NaN</td>\n",
       "      <td>NaN</td>\n",
       "      <td>58.0</td>\n",
       "      <td>49.0</td>\n",
       "      <td>NaN</td>\n",
       "      <td>NaN</td>\n",
       "      <td>NaN</td>\n",
       "      <td>NaN</td>\n",
       "      <td>Edificio de doble frente en excelente ubicació...</td>\n",
       "    </tr>\n",
       "    <tr>\n",
       "      <th>45644</th>\n",
       "      <td>house</td>\n",
       "      <td>Belgrano</td>\n",
       "      <td>NaN</td>\n",
       "      <td>NaN</td>\n",
       "      <td>NaN</td>\n",
       "      <td>NaN</td>\n",
       "      <td>1070.0</td>\n",
       "      <td>870.0</td>\n",
       "      <td>NaN</td>\n",
       "      <td>NaN</td>\n",
       "      <td>NaN</td>\n",
       "      <td>NaN</td>\n",
       "      <td>Casa Inglesa estilo Tudor, de principios de 19...</td>\n",
       "    </tr>\n",
       "    <tr>\n",
       "      <th>120759</th>\n",
       "      <td>apartment</td>\n",
       "      <td>Villa Crespo</td>\n",
       "      <td>NaN</td>\n",
       "      <td>NaN</td>\n",
       "      <td>NaN</td>\n",
       "      <td>NaN</td>\n",
       "      <td>39.0</td>\n",
       "      <td>39.0</td>\n",
       "      <td>NaN</td>\n",
       "      <td>NaN</td>\n",
       "      <td>NaN</td>\n",
       "      <td>NaN</td>\n",
       "      <td>AMBIENTE DIVISIBLE CON PISOS D...</td>\n",
       "    </tr>\n",
       "    <tr>\n",
       "      <th>48030</th>\n",
       "      <td>apartment</td>\n",
       "      <td>San Telmo</td>\n",
       "      <td>1233200.0</td>\n",
       "      <td>ARS</td>\n",
       "      <td>1220335.79</td>\n",
       "      <td>69162.39</td>\n",
       "      <td>35.0</td>\n",
       "      <td>31.0</td>\n",
       "      <td>1976.068286</td>\n",
       "      <td>39780.645161</td>\n",
       "      <td>NaN</td>\n",
       "      <td>1.0</td>\n",
       "      <td>Edificio en construcción En una de las avenida...</td>\n",
       "    </tr>\n",
       "    <tr>\n",
       "      <th>121037</th>\n",
       "      <td>apartment</td>\n",
       "      <td>Belgrano</td>\n",
       "      <td>NaN</td>\n",
       "      <td>NaN</td>\n",
       "      <td>NaN</td>\n",
       "      <td>NaN</td>\n",
       "      <td>38.0</td>\n",
       "      <td>35.0</td>\n",
       "      <td>NaN</td>\n",
       "      <td>NaN</td>\n",
       "      <td>NaN</td>\n",
       "      <td>NaN</td>\n",
       "      <td>Torre de 16º pisos ubicado en pleno centro com...</td>\n",
       "    </tr>\n",
       "    <tr>\n",
       "      <th>120860</th>\n",
       "      <td>apartment</td>\n",
       "      <td>Villa Crespo</td>\n",
       "      <td>NaN</td>\n",
       "      <td>NaN</td>\n",
       "      <td>NaN</td>\n",
       "      <td>NaN</td>\n",
       "      <td>39.0</td>\n",
       "      <td>39.0</td>\n",
       "      <td>NaN</td>\n",
       "      <td>NaN</td>\n",
       "      <td>NaN</td>\n",
       "      <td>NaN</td>\n",
       "      <td>AMBIENTE DIVISIBLE CON PISOS D...</td>\n",
       "    </tr>\n",
       "    <tr>\n",
       "      <th>48021</th>\n",
       "      <td>apartment</td>\n",
       "      <td>San Telmo</td>\n",
       "      <td>1073600.0</td>\n",
       "      <td>ARS</td>\n",
       "      <td>1062400.57</td>\n",
       "      <td>60211.43</td>\n",
       "      <td>35.0</td>\n",
       "      <td>31.0</td>\n",
       "      <td>1720.326571</td>\n",
       "      <td>34632.258065</td>\n",
       "      <td>NaN</td>\n",
       "      <td>1.0</td>\n",
       "      <td>Edificio en construcción En una de las avenida...</td>\n",
       "    </tr>\n",
       "    <tr>\n",
       "      <th>71219</th>\n",
       "      <td>apartment</td>\n",
       "      <td>Recoleta</td>\n",
       "      <td>NaN</td>\n",
       "      <td>NaN</td>\n",
       "      <td>NaN</td>\n",
       "      <td>NaN</td>\n",
       "      <td>61.0</td>\n",
       "      <td>53.0</td>\n",
       "      <td>NaN</td>\n",
       "      <td>NaN</td>\n",
       "      <td>NaN</td>\n",
       "      <td>NaN</td>\n",
       "      <td>Excelente esquina con unidades de vivienda apt...</td>\n",
       "    </tr>\n",
       "  </tbody>\n",
       "</table>\n",
       "</div>"
      ],
      "text/plain": [
       "       property_type    place_name      price currency  \\\n",
       "90821      apartment  Barrio Norte        NaN      NaN   \n",
       "87602      apartment  Barrio Norte        NaN      NaN   \n",
       "75341      apartment      Belgrano        NaN      NaN   \n",
       "45644          house      Belgrano        NaN      NaN   \n",
       "120759     apartment  Villa Crespo        NaN      NaN   \n",
       "48030      apartment     San Telmo  1233200.0      ARS   \n",
       "121037     apartment      Belgrano        NaN      NaN   \n",
       "120860     apartment  Villa Crespo        NaN      NaN   \n",
       "48021      apartment     San Telmo  1073600.0      ARS   \n",
       "71219      apartment      Recoleta        NaN      NaN   \n",
       "\n",
       "        price_aprox_local_currency  price_aprox_usd  surface_total_in_m2  \\\n",
       "90821                          NaN              NaN                 41.0   \n",
       "87602                          NaN              NaN                 55.0   \n",
       "75341                          NaN              NaN                 58.0   \n",
       "45644                          NaN              NaN               1070.0   \n",
       "120759                         NaN              NaN                 39.0   \n",
       "48030                   1220335.79         69162.39                 35.0   \n",
       "121037                         NaN              NaN                 38.0   \n",
       "120860                         NaN              NaN                 39.0   \n",
       "48021                   1062400.57         60211.43                 35.0   \n",
       "71219                          NaN              NaN                 61.0   \n",
       "\n",
       "        surface_covered_in_m2  price_usd_per_m2  price_per_m2  floor  rooms  \\\n",
       "90821                    36.0               NaN           NaN    NaN    NaN   \n",
       "87602                    39.0               NaN           NaN    NaN    NaN   \n",
       "75341                    49.0               NaN           NaN    NaN    NaN   \n",
       "45644                   870.0               NaN           NaN    NaN    NaN   \n",
       "120759                   39.0               NaN           NaN    NaN    NaN   \n",
       "48030                    31.0       1976.068286  39780.645161    NaN    1.0   \n",
       "121037                   35.0               NaN           NaN    NaN    NaN   \n",
       "120860                   39.0               NaN           NaN    NaN    NaN   \n",
       "48021                    31.0       1720.326571  34632.258065    NaN    1.0   \n",
       "71219                    53.0               NaN           NaN    NaN    NaN   \n",
       "\n",
       "                                              description  \n",
       "90821                                    BBU6009 AP447168  \n",
       "87602                                    BBU4235 AP258444  \n",
       "75341   Edificio de doble frente en excelente ubicació...  \n",
       "45644   Casa Inglesa estilo Tudor, de principios de 19...  \n",
       "120759                  AMBIENTE DIVISIBLE CON PISOS D...  \n",
       "48030   Edificio en construcción En una de las avenida...  \n",
       "121037  Torre de 16º pisos ubicado en pleno centro com...  \n",
       "120860                  AMBIENTE DIVISIBLE CON PISOS D...  \n",
       "48021   Edificio en construcción En una de las avenida...  \n",
       "71219   Excelente esquina con unidades de vivienda apt...  "
      ]
     },
     "metadata": {},
     "output_type": "display_data"
    }
   ],
   "source": [
    "# 1. Verificamos que el price y el price_aprox_usd sean los mismos, y luego si fuera así dropeamos el price_aprox_usd\n",
    "\n",
    "mask_price_validation = data_caba_clean.price != data_caba_clean.price_aprox_usd\n",
    "\n",
    "display(data_caba_clean.loc[mask_price_validation, :].shape)\n",
    "\n",
    "# Detectamos que hay 4138 propiedades donde los valores son diferentes? pero estan en Pesos o son NaN?\n",
    "\n",
    "display(data_caba_clean.loc[mask_price_validation, :].sample(10))\n",
    "\n",
    "# Detectamos que tenemos los dos casos, donde los precios son NaN y donde la moneda está en ARS (lo cual no estaría mal)\n",
    "# En el caso de ARS, vemos que el valor de price toma el de la moneda local ~ Por lo que podriamos llegar a eliminar price, currency y price_aprox_local_currency \n",
    "\n",
    "# Para los valores de NaN tendriamos que tomar la decisión si los dropeamos o tratamos de calcular un precio promedio en base a la cantidad de metros cuadrados."
   ]
  },
  {
   "cell_type": "code",
   "execution_count": 1191,
   "metadata": {},
   "outputs": [
    {
     "data": {
      "text/plain": [
       "(31019, 13)"
      ]
     },
     "execution_count": 1191,
     "metadata": {},
     "output_type": "execute_result"
    }
   ],
   "source": [
    "data_caba_clean.shape"
   ]
  },
  {
   "cell_type": "markdown",
   "metadata": {},
   "source": [
    "<h3> Eliminamos registros según un umbral de datos faltantes </h3>\n",
    "\n",
    "[volver a TOC](#section_toc)"
   ]
  },
  {
   "cell_type": "code",
   "execution_count": 1192,
   "metadata": {},
   "outputs": [
    {
     "data": {
      "text/plain": [
       "(1131, 13)"
      ]
     },
     "metadata": {},
     "output_type": "display_data"
    },
    {
     "data": {
      "text/plain": [
       "(25627, 13)"
      ]
     },
     "metadata": {},
     "output_type": "display_data"
    },
    {
     "data": {
      "text/html": [
       "<div>\n",
       "<style scoped>\n",
       "    .dataframe tbody tr th:only-of-type {\n",
       "        vertical-align: middle;\n",
       "    }\n",
       "\n",
       "    .dataframe tbody tr th {\n",
       "        vertical-align: top;\n",
       "    }\n",
       "\n",
       "    .dataframe thead th {\n",
       "        text-align: right;\n",
       "    }\n",
       "</style>\n",
       "<table border=\"1\" class=\"dataframe\">\n",
       "  <thead>\n",
       "    <tr style=\"text-align: right;\">\n",
       "      <th></th>\n",
       "      <th>property_type</th>\n",
       "      <th>place_name</th>\n",
       "      <th>price</th>\n",
       "      <th>currency</th>\n",
       "      <th>price_aprox_local_currency</th>\n",
       "      <th>price_aprox_usd</th>\n",
       "      <th>surface_total_in_m2</th>\n",
       "      <th>surface_covered_in_m2</th>\n",
       "      <th>price_usd_per_m2</th>\n",
       "      <th>price_per_m2</th>\n",
       "      <th>floor</th>\n",
       "      <th>rooms</th>\n",
       "      <th>description</th>\n",
       "    </tr>\n",
       "  </thead>\n",
       "  <tbody>\n",
       "    <tr>\n",
       "      <th>49729</th>\n",
       "      <td>PH</td>\n",
       "      <td>Flores</td>\n",
       "      <td>150000.0</td>\n",
       "      <td>USD</td>\n",
       "      <td>2646675.00</td>\n",
       "      <td>150000.0</td>\n",
       "      <td>93.0</td>\n",
       "      <td>79.0</td>\n",
       "      <td>1612.903226</td>\n",
       "      <td>1898.734177</td>\n",
       "      <td>1.0</td>\n",
       "      <td>NaN</td>\n",
       "      <td>PH en VENTA en Flores, Capital FederalUBICACIO...</td>\n",
       "    </tr>\n",
       "    <tr>\n",
       "      <th>51728</th>\n",
       "      <td>apartment</td>\n",
       "      <td>Almagro</td>\n",
       "      <td>190000.0</td>\n",
       "      <td>USD</td>\n",
       "      <td>3352455.00</td>\n",
       "      <td>190000.0</td>\n",
       "      <td>57.0</td>\n",
       "      <td>51.0</td>\n",
       "      <td>3333.333333</td>\n",
       "      <td>3725.490196</td>\n",
       "      <td>NaN</td>\n",
       "      <td>2.0</td>\n",
       "      <td>Excelente departamento de 2 ambientes super am...</td>\n",
       "    </tr>\n",
       "    <tr>\n",
       "      <th>37816</th>\n",
       "      <td>apartment</td>\n",
       "      <td>Villa Urquiza</td>\n",
       "      <td>74906.0</td>\n",
       "      <td>USD</td>\n",
       "      <td>1321678.91</td>\n",
       "      <td>74906.0</td>\n",
       "      <td>35.0</td>\n",
       "      <td>30.0</td>\n",
       "      <td>2140.171429</td>\n",
       "      <td>2496.866667</td>\n",
       "      <td>NaN</td>\n",
       "      <td>1.0</td>\n",
       "      <td>Monoambiente al frente  35 m2 totales. Cocina ...</td>\n",
       "    </tr>\n",
       "    <tr>\n",
       "      <th>111394</th>\n",
       "      <td>apartment</td>\n",
       "      <td>Palermo</td>\n",
       "      <td>129000.0</td>\n",
       "      <td>USD</td>\n",
       "      <td>2276140.50</td>\n",
       "      <td>129000.0</td>\n",
       "      <td>46.0</td>\n",
       "      <td>46.0</td>\n",
       "      <td>2804.347826</td>\n",
       "      <td>2804.347826</td>\n",
       "      <td>NaN</td>\n",
       "      <td>NaN</td>\n",
       "      <td>3 Ambientes , Contra Frente , Living de 5 x 3 ...</td>\n",
       "    </tr>\n",
       "    <tr>\n",
       "      <th>1619</th>\n",
       "      <td>apartment</td>\n",
       "      <td>Coghlan</td>\n",
       "      <td>181400.0</td>\n",
       "      <td>USD</td>\n",
       "      <td>3200712.30</td>\n",
       "      <td>181400.0</td>\n",
       "      <td>62.0</td>\n",
       "      <td>47.0</td>\n",
       "      <td>2925.806452</td>\n",
       "      <td>3859.574468</td>\n",
       "      <td>NaN</td>\n",
       "      <td>2.0</td>\n",
       "      <td>Excelente oportunidad deptos a estrenar!!Melia...</td>\n",
       "    </tr>\n",
       "  </tbody>\n",
       "</table>\n",
       "</div>"
      ],
      "text/plain": [
       "       property_type     place_name     price currency  \\\n",
       "49729             PH         Flores  150000.0      USD   \n",
       "51728      apartment        Almagro  190000.0      USD   \n",
       "37816      apartment  Villa Urquiza   74906.0      USD   \n",
       "111394     apartment        Palermo  129000.0      USD   \n",
       "1619       apartment        Coghlan  181400.0      USD   \n",
       "\n",
       "        price_aprox_local_currency  price_aprox_usd  surface_total_in_m2  \\\n",
       "49729                   2646675.00         150000.0                 93.0   \n",
       "51728                   3352455.00         190000.0                 57.0   \n",
       "37816                   1321678.91          74906.0                 35.0   \n",
       "111394                  2276140.50         129000.0                 46.0   \n",
       "1619                    3200712.30         181400.0                 62.0   \n",
       "\n",
       "        surface_covered_in_m2  price_usd_per_m2  price_per_m2  floor  rooms  \\\n",
       "49729                    79.0       1612.903226   1898.734177    1.0    NaN   \n",
       "51728                    51.0       3333.333333   3725.490196    NaN    2.0   \n",
       "37816                    30.0       2140.171429   2496.866667    NaN    1.0   \n",
       "111394                   46.0       2804.347826   2804.347826    NaN    NaN   \n",
       "1619                     47.0       2925.806452   3859.574468    NaN    2.0   \n",
       "\n",
       "                                              description  \n",
       "49729   PH en VENTA en Flores, Capital FederalUBICACIO...  \n",
       "51728   Excelente departamento de 2 ambientes super am...  \n",
       "37816   Monoambiente al frente  35 m2 totales. Cocina ...  \n",
       "111394  3 Ambientes , Contra Frente , Living de 5 x 3 ...  \n",
       "1619    Excelente oportunidad deptos a estrenar!!Melia...  "
      ]
     },
     "execution_count": 1192,
     "metadata": {},
     "output_type": "execute_result"
    }
   ],
   "source": [
    "# Elimino primero los registros donde no tengo nada de informacion. \n",
    "\n",
    "umbral = 10\n",
    "data_caba_clean.dropna(axis = 0, thresh=umbral, inplace=True)\n",
    "# OJO que utilizando umbral de 10 se fueron casi 10000 datos incompletos. \n",
    "#--> se pierden 6000 datos aprox (ver shape de abajo), un 20% de los datos aprox\n",
    "\n",
    "# Vuelvo a ver como quedaron los datos\n",
    "mask_price_validation = data_caba_clean.price != data_caba_clean.price_aprox_usd\n",
    "display(data_caba_clean.loc[mask_price_validation, :].shape)\n",
    "\n",
    "display(data_caba_clean.shape)\n",
    "# display(data_caba_clean.loc[mask_price_validation, :].head(30))\n",
    "data_caba_clean.sample(5)"
   ]
  },
  {
   "cell_type": "code",
   "execution_count": 1193,
   "metadata": {},
   "outputs": [
    {
     "data": {
      "text/html": [
       "<div>\n",
       "<style scoped>\n",
       "    .dataframe tbody tr th:only-of-type {\n",
       "        vertical-align: middle;\n",
       "    }\n",
       "\n",
       "    .dataframe tbody tr th {\n",
       "        vertical-align: top;\n",
       "    }\n",
       "\n",
       "    .dataframe thead th {\n",
       "        text-align: right;\n",
       "    }\n",
       "</style>\n",
       "<table border=\"1\" class=\"dataframe\">\n",
       "  <thead>\n",
       "    <tr style=\"text-align: right;\">\n",
       "      <th></th>\n",
       "      <th>property_type</th>\n",
       "      <th>place_name</th>\n",
       "      <th>price</th>\n",
       "      <th>currency</th>\n",
       "      <th>price_aprox_local_currency</th>\n",
       "      <th>price_aprox_usd</th>\n",
       "      <th>surface_total_in_m2</th>\n",
       "      <th>surface_covered_in_m2</th>\n",
       "      <th>price_usd_per_m2</th>\n",
       "      <th>price_per_m2</th>\n",
       "      <th>floor</th>\n",
       "      <th>rooms</th>\n",
       "      <th>description</th>\n",
       "    </tr>\n",
       "  </thead>\n",
       "  <tbody>\n",
       "    <tr>\n",
       "      <th>117025</th>\n",
       "      <td>apartment</td>\n",
       "      <td>Balvanera</td>\n",
       "      <td>99000.0</td>\n",
       "      <td>USD</td>\n",
       "      <td>1746805.5</td>\n",
       "      <td>99000.0</td>\n",
       "      <td>57.0</td>\n",
       "      <td>57.0</td>\n",
       "      <td>1736.842105</td>\n",
       "      <td>1736.842105</td>\n",
       "      <td>NaN</td>\n",
       "      <td>NaN</td>\n",
       "      <td>CODIGO: 733-AR123 ubicado en: 24 DE NOVIEMBRE ...</td>\n",
       "    </tr>\n",
       "    <tr>\n",
       "      <th>21864</th>\n",
       "      <td>apartment</td>\n",
       "      <td>San Nicolás</td>\n",
       "      <td>100000.0</td>\n",
       "      <td>USD</td>\n",
       "      <td>1764450.0</td>\n",
       "      <td>100000.0</td>\n",
       "      <td>50.0</td>\n",
       "      <td>NaN</td>\n",
       "      <td>2000.000000</td>\n",
       "      <td>NaN</td>\n",
       "      <td>NaN</td>\n",
       "      <td>3.0</td>\n",
       "      <td>Venta de Departamento 3 AMBIENTES en San Nicol...</td>\n",
       "    </tr>\n",
       "    <tr>\n",
       "      <th>71809</th>\n",
       "      <td>apartment</td>\n",
       "      <td>Villa del Parque</td>\n",
       "      <td>100000.0</td>\n",
       "      <td>USD</td>\n",
       "      <td>1764450.0</td>\n",
       "      <td>100000.0</td>\n",
       "      <td>55.0</td>\n",
       "      <td>55.0</td>\n",
       "      <td>1818.181818</td>\n",
       "      <td>1818.181818</td>\n",
       "      <td>NaN</td>\n",
       "      <td>NaN</td>\n",
       "      <td>Excelente departamento de 3 ambientes primer p...</td>\n",
       "    </tr>\n",
       "    <tr>\n",
       "      <th>9163</th>\n",
       "      <td>PH</td>\n",
       "      <td>Nuñez</td>\n",
       "      <td>224000.0</td>\n",
       "      <td>USD</td>\n",
       "      <td>3952368.0</td>\n",
       "      <td>224000.0</td>\n",
       "      <td>56.1</td>\n",
       "      <td>51.0</td>\n",
       "      <td>NaN</td>\n",
       "      <td>4392.156863</td>\n",
       "      <td>NaN</td>\n",
       "      <td>3.0</td>\n",
       "      <td>Corredor Responsable: Raul Hector Merlo - CUCI...</td>\n",
       "    </tr>\n",
       "    <tr>\n",
       "      <th>11455</th>\n",
       "      <td>apartment</td>\n",
       "      <td>Villa Ortuzar</td>\n",
       "      <td>159000.0</td>\n",
       "      <td>USD</td>\n",
       "      <td>2805475.5</td>\n",
       "      <td>159000.0</td>\n",
       "      <td>72.0</td>\n",
       "      <td>61.0</td>\n",
       "      <td>2208.333333</td>\n",
       "      <td>2606.557377</td>\n",
       "      <td>NaN</td>\n",
       "      <td>3.0</td>\n",
       "      <td>Edificio a estrenar en el Barrio de Villa Ortu...</td>\n",
       "    </tr>\n",
       "  </tbody>\n",
       "</table>\n",
       "</div>"
      ],
      "text/plain": [
       "       property_type        place_name     price currency  \\\n",
       "117025     apartment         Balvanera   99000.0      USD   \n",
       "21864      apartment       San Nicolás  100000.0      USD   \n",
       "71809      apartment  Villa del Parque  100000.0      USD   \n",
       "9163              PH             Nuñez  224000.0      USD   \n",
       "11455      apartment     Villa Ortuzar  159000.0      USD   \n",
       "\n",
       "        price_aprox_local_currency  price_aprox_usd  surface_total_in_m2  \\\n",
       "117025                   1746805.5          99000.0                 57.0   \n",
       "21864                    1764450.0         100000.0                 50.0   \n",
       "71809                    1764450.0         100000.0                 55.0   \n",
       "9163                     3952368.0         224000.0                 56.1   \n",
       "11455                    2805475.5         159000.0                 72.0   \n",
       "\n",
       "        surface_covered_in_m2  price_usd_per_m2  price_per_m2  floor  rooms  \\\n",
       "117025                   57.0       1736.842105   1736.842105    NaN    NaN   \n",
       "21864                     NaN       2000.000000           NaN    NaN    3.0   \n",
       "71809                    55.0       1818.181818   1818.181818    NaN    NaN   \n",
       "9163                     51.0               NaN   4392.156863    NaN    3.0   \n",
       "11455                    61.0       2208.333333   2606.557377    NaN    3.0   \n",
       "\n",
       "                                              description  \n",
       "117025  CODIGO: 733-AR123 ubicado en: 24 DE NOVIEMBRE ...  \n",
       "21864   Venta de Departamento 3 AMBIENTES en San Nicol...  \n",
       "71809   Excelente departamento de 3 ambientes primer p...  \n",
       "9163    Corredor Responsable: Raul Hector Merlo - CUCI...  \n",
       "11455   Edificio a estrenar en el Barrio de Villa Ortu...  "
      ]
     },
     "execution_count": 1193,
     "metadata": {},
     "output_type": "execute_result"
    }
   ],
   "source": [
    "# Para la superficie de metros cuadadros totales, podemos creer que en caso de ser Nan \n",
    "#es porque es un departamente sin balcon y la cantidad de m2 cubierta sería iguala la cantidad de m2 totales.data_caba\n",
    "\n",
    "data_caba_clean.surface_total_in_m2.fillna(data_caba_clean.surface_covered_in_m2 + (data_caba_clean.surface_covered_in_m2 * 0.10), inplace=True)\n",
    "\n",
    "data_caba_clean.sample(5)"
   ]
  },
  {
   "cell_type": "markdown",
   "metadata": {},
   "source": [
    "<h3> Completamos datos faltantes de superficie </h3>\n",
    "\n",
    "[volver a TOC](#section_toc)"
   ]
  },
  {
   "cell_type": "code",
   "execution_count": 1194,
   "metadata": {},
   "outputs": [
    {
     "data": {
      "text/html": [
       "<div>\n",
       "<style scoped>\n",
       "    .dataframe tbody tr th:only-of-type {\n",
       "        vertical-align: middle;\n",
       "    }\n",
       "\n",
       "    .dataframe tbody tr th {\n",
       "        vertical-align: top;\n",
       "    }\n",
       "\n",
       "    .dataframe thead th {\n",
       "        text-align: right;\n",
       "    }\n",
       "</style>\n",
       "<table border=\"1\" class=\"dataframe\">\n",
       "  <thead>\n",
       "    <tr style=\"text-align: right;\">\n",
       "      <th></th>\n",
       "      <th>property_type</th>\n",
       "      <th>place_name</th>\n",
       "      <th>price</th>\n",
       "      <th>currency</th>\n",
       "      <th>price_aprox_local_currency</th>\n",
       "      <th>price_aprox_usd</th>\n",
       "      <th>surface_total_in_m2</th>\n",
       "      <th>surface_covered_in_m2</th>\n",
       "      <th>price_usd_per_m2</th>\n",
       "      <th>price_per_m2</th>\n",
       "      <th>floor</th>\n",
       "      <th>rooms</th>\n",
       "      <th>description</th>\n",
       "    </tr>\n",
       "  </thead>\n",
       "  <tbody>\n",
       "    <tr>\n",
       "      <th>93192</th>\n",
       "      <td>PH</td>\n",
       "      <td>Villa Crespo</td>\n",
       "      <td>340000.0</td>\n",
       "      <td>USD</td>\n",
       "      <td>5999130.00</td>\n",
       "      <td>340000.0</td>\n",
       "      <td>200.0</td>\n",
       "      <td>150.0</td>\n",
       "      <td>1700.000000</td>\n",
       "      <td>2266.666667</td>\n",
       "      <td>NaN</td>\n",
       "      <td>NaN</td>\n",
       "      <td>Espectacular planta alta única con acceso inde...</td>\n",
       "    </tr>\n",
       "    <tr>\n",
       "      <th>30285</th>\n",
       "      <td>apartment</td>\n",
       "      <td>Boedo</td>\n",
       "      <td>130000.0</td>\n",
       "      <td>USD</td>\n",
       "      <td>2293785.00</td>\n",
       "      <td>130000.0</td>\n",
       "      <td>69.0</td>\n",
       "      <td>46.0</td>\n",
       "      <td>1884.057971</td>\n",
       "      <td>2826.086957</td>\n",
       "      <td>NaN</td>\n",
       "      <td>2.0</td>\n",
       "      <td>JMF. Departamento 2 amb en pozo con cocheraEnt...</td>\n",
       "    </tr>\n",
       "    <tr>\n",
       "      <th>26190</th>\n",
       "      <td>apartment</td>\n",
       "      <td>Boedo</td>\n",
       "      <td>568702.0</td>\n",
       "      <td>USD</td>\n",
       "      <td>10034462.43</td>\n",
       "      <td>568702.0</td>\n",
       "      <td>30.0</td>\n",
       "      <td>30.0</td>\n",
       "      <td>18956.733333</td>\n",
       "      <td>18956.733333</td>\n",
       "      <td>NaN</td>\n",
       "      <td>1.0</td>\n",
       "      <td>lan852- Depa pxmo Parques en cuotas $ 7.522.-A...</td>\n",
       "    </tr>\n",
       "    <tr>\n",
       "      <th>121135</th>\n",
       "      <td>apartment</td>\n",
       "      <td>Palermo Hollywood</td>\n",
       "      <td>95000.0</td>\n",
       "      <td>USD</td>\n",
       "      <td>1676227.50</td>\n",
       "      <td>95000.0</td>\n",
       "      <td>80.0</td>\n",
       "      <td>19.0</td>\n",
       "      <td>1187.500000</td>\n",
       "      <td>5000.000000</td>\n",
       "      <td>NaN</td>\n",
       "      <td>NaN</td>\n",
       "      <td>Monoambiente NUEVO en el complejo Cabildo Estu...</td>\n",
       "    </tr>\n",
       "    <tr>\n",
       "      <th>55093</th>\n",
       "      <td>apartment</td>\n",
       "      <td>Palermo</td>\n",
       "      <td>830000.0</td>\n",
       "      <td>USD</td>\n",
       "      <td>14644935.00</td>\n",
       "      <td>830000.0</td>\n",
       "      <td>136.0</td>\n",
       "      <td>119.0</td>\n",
       "      <td>6102.941176</td>\n",
       "      <td>6974.789916</td>\n",
       "      <td>NaN</td>\n",
       "      <td>4.0</td>\n",
       "      <td>Torre Deco A estrenar 4 ambientes con dependen...</td>\n",
       "    </tr>\n",
       "  </tbody>\n",
       "</table>\n",
       "</div>"
      ],
      "text/plain": [
       "       property_type         place_name     price currency  \\\n",
       "93192             PH       Villa Crespo  340000.0      USD   \n",
       "30285      apartment              Boedo  130000.0      USD   \n",
       "26190      apartment              Boedo  568702.0      USD   \n",
       "121135     apartment  Palermo Hollywood   95000.0      USD   \n",
       "55093      apartment            Palermo  830000.0      USD   \n",
       "\n",
       "        price_aprox_local_currency  price_aprox_usd  surface_total_in_m2  \\\n",
       "93192                   5999130.00         340000.0                200.0   \n",
       "30285                   2293785.00         130000.0                 69.0   \n",
       "26190                  10034462.43         568702.0                 30.0   \n",
       "121135                  1676227.50          95000.0                 80.0   \n",
       "55093                  14644935.00         830000.0                136.0   \n",
       "\n",
       "        surface_covered_in_m2  price_usd_per_m2  price_per_m2  floor  rooms  \\\n",
       "93192                   150.0       1700.000000   2266.666667    NaN    NaN   \n",
       "30285                    46.0       1884.057971   2826.086957    NaN    2.0   \n",
       "26190                    30.0      18956.733333  18956.733333    NaN    1.0   \n",
       "121135                   19.0       1187.500000   5000.000000    NaN    NaN   \n",
       "55093                   119.0       6102.941176   6974.789916    NaN    4.0   \n",
       "\n",
       "                                              description  \n",
       "93192   Espectacular planta alta única con acceso inde...  \n",
       "30285   JMF. Departamento 2 amb en pozo con cocheraEnt...  \n",
       "26190   lan852- Depa pxmo Parques en cuotas $ 7.522.-A...  \n",
       "121135  Monoambiente NUEVO en el complejo Cabildo Estu...  \n",
       "55093   Torre Deco A estrenar 4 ambientes con dependen...  "
      ]
     },
     "execution_count": 1194,
     "metadata": {},
     "output_type": "execute_result"
    }
   ],
   "source": [
    "# Idem al punto anterior pero ahora de surface_total a surface_covered\n",
    "\n",
    "data_caba_clean.surface_covered_in_m2.fillna(data_caba_clean.surface_total_in_m2, inplace=True)\n",
    "\n",
    "data_caba_clean.sample(5)"
   ]
  },
  {
   "cell_type": "markdown",
   "metadata": {},
   "source": [
    "<h3> Completamos datos faltantes de price_usd_per_m2 </h3>\n",
    "\n",
    "[volver a TOC](#section_toc)"
   ]
  },
  {
   "cell_type": "code",
   "execution_count": 1195,
   "metadata": {},
   "outputs": [
    {
     "data": {
      "text/html": [
       "<div>\n",
       "<style scoped>\n",
       "    .dataframe tbody tr th:only-of-type {\n",
       "        vertical-align: middle;\n",
       "    }\n",
       "\n",
       "    .dataframe tbody tr th {\n",
       "        vertical-align: top;\n",
       "    }\n",
       "\n",
       "    .dataframe thead th {\n",
       "        text-align: right;\n",
       "    }\n",
       "</style>\n",
       "<table border=\"1\" class=\"dataframe\">\n",
       "  <thead>\n",
       "    <tr style=\"text-align: right;\">\n",
       "      <th></th>\n",
       "      <th>property_type</th>\n",
       "      <th>place_name</th>\n",
       "      <th>price</th>\n",
       "      <th>currency</th>\n",
       "      <th>price_aprox_local_currency</th>\n",
       "      <th>price_aprox_usd</th>\n",
       "      <th>surface_total_in_m2</th>\n",
       "      <th>surface_covered_in_m2</th>\n",
       "      <th>price_usd_per_m2</th>\n",
       "      <th>price_per_m2</th>\n",
       "      <th>floor</th>\n",
       "      <th>rooms</th>\n",
       "      <th>description</th>\n",
       "    </tr>\n",
       "  </thead>\n",
       "  <tbody>\n",
       "    <tr>\n",
       "      <th>68737</th>\n",
       "      <td>apartment</td>\n",
       "      <td>Belgrano</td>\n",
       "      <td>126828.0</td>\n",
       "      <td>USD</td>\n",
       "      <td>2237816.64</td>\n",
       "      <td>126828.0</td>\n",
       "      <td>36.0</td>\n",
       "      <td>29.0</td>\n",
       "      <td>3523.000000</td>\n",
       "      <td>4373.379310</td>\n",
       "      <td>NaN</td>\n",
       "      <td>NaN</td>\n",
       "      <td>Edificio vanguardista ideal dptos para Inversi...</td>\n",
       "    </tr>\n",
       "    <tr>\n",
       "      <th>6674</th>\n",
       "      <td>apartment</td>\n",
       "      <td>Balvanera</td>\n",
       "      <td>145000.0</td>\n",
       "      <td>USD</td>\n",
       "      <td>2558452.50</td>\n",
       "      <td>145000.0</td>\n",
       "      <td>55.0</td>\n",
       "      <td>50.0</td>\n",
       "      <td>2636.363636</td>\n",
       "      <td>2900.000000</td>\n",
       "      <td>NaN</td>\n",
       "      <td>3.0</td>\n",
       "      <td>MUY BUEN DEPARTAMENTO DE 3 AMBIENTES CON BALCÓ...</td>\n",
       "    </tr>\n",
       "    <tr>\n",
       "      <th>74784</th>\n",
       "      <td>apartment</td>\n",
       "      <td>Belgrano</td>\n",
       "      <td>255000.0</td>\n",
       "      <td>USD</td>\n",
       "      <td>4499347.50</td>\n",
       "      <td>255000.0</td>\n",
       "      <td>74.0</td>\n",
       "      <td>60.0</td>\n",
       "      <td>3445.945946</td>\n",
       "      <td>4250.000000</td>\n",
       "      <td>NaN</td>\n",
       "      <td>NaN</td>\n",
       "      <td>BELGRANO - DEPARTAMENTO EN VENTA DE 1 AMBIENTE...</td>\n",
       "    </tr>\n",
       "    <tr>\n",
       "      <th>69386</th>\n",
       "      <td>apartment</td>\n",
       "      <td>Belgrano</td>\n",
       "      <td>96000.0</td>\n",
       "      <td>USD</td>\n",
       "      <td>1693872.00</td>\n",
       "      <td>96000.0</td>\n",
       "      <td>29.0</td>\n",
       "      <td>27.0</td>\n",
       "      <td>3310.344828</td>\n",
       "      <td>3555.555556</td>\n",
       "      <td>NaN</td>\n",
       "      <td>NaN</td>\n",
       "      <td>Arribeños Air | Arribeños 2500 En Construcción...</td>\n",
       "    </tr>\n",
       "    <tr>\n",
       "      <th>119284</th>\n",
       "      <td>apartment</td>\n",
       "      <td>Barrio Norte</td>\n",
       "      <td>155100.0</td>\n",
       "      <td>USD</td>\n",
       "      <td>2736661.95</td>\n",
       "      <td>155100.0</td>\n",
       "      <td>37.0</td>\n",
       "      <td>33.0</td>\n",
       "      <td>4191.891892</td>\n",
       "      <td>4700.000000</td>\n",
       "      <td>NaN</td>\n",
       "      <td>1.0</td>\n",
       "      <td>Financiación: Anticipo 108.570 USD + 25 cuotas...</td>\n",
       "    </tr>\n",
       "  </tbody>\n",
       "</table>\n",
       "</div>"
      ],
      "text/plain": [
       "       property_type    place_name     price currency  \\\n",
       "68737      apartment      Belgrano  126828.0      USD   \n",
       "6674       apartment     Balvanera  145000.0      USD   \n",
       "74784      apartment      Belgrano  255000.0      USD   \n",
       "69386      apartment      Belgrano   96000.0      USD   \n",
       "119284     apartment  Barrio Norte  155100.0      USD   \n",
       "\n",
       "        price_aprox_local_currency  price_aprox_usd  surface_total_in_m2  \\\n",
       "68737                   2237816.64         126828.0                 36.0   \n",
       "6674                    2558452.50         145000.0                 55.0   \n",
       "74784                   4499347.50         255000.0                 74.0   \n",
       "69386                   1693872.00          96000.0                 29.0   \n",
       "119284                  2736661.95         155100.0                 37.0   \n",
       "\n",
       "        surface_covered_in_m2  price_usd_per_m2  price_per_m2  floor  rooms  \\\n",
       "68737                    29.0       3523.000000   4373.379310    NaN    NaN   \n",
       "6674                     50.0       2636.363636   2900.000000    NaN    3.0   \n",
       "74784                    60.0       3445.945946   4250.000000    NaN    NaN   \n",
       "69386                    27.0       3310.344828   3555.555556    NaN    NaN   \n",
       "119284                   33.0       4191.891892   4700.000000    NaN    1.0   \n",
       "\n",
       "                                              description  \n",
       "68737   Edificio vanguardista ideal dptos para Inversi...  \n",
       "6674    MUY BUEN DEPARTAMENTO DE 3 AMBIENTES CON BALCÓ...  \n",
       "74784   BELGRANO - DEPARTAMENTO EN VENTA DE 1 AMBIENTE...  \n",
       "69386   Arribeños Air | Arribeños 2500 En Construcción...  \n",
       "119284  Financiación: Anticipo 108.570 USD + 25 cuotas...  "
      ]
     },
     "execution_count": 1195,
     "metadata": {},
     "output_type": "execute_result"
    }
   ],
   "source": [
    "# Idem al punto anterior pero ahora calculamos el precio por metro cuadrado.\n",
    "\n",
    "data_caba_clean.price_usd_per_m2.fillna(data_caba_clean.price_aprox_usd / data_caba_clean.surface_total_in_m2, inplace=True)\n",
    "\n",
    "data_caba_clean.sample(5)"
   ]
  },
  {
   "cell_type": "markdown",
   "metadata": {},
   "source": [
    "<h3> Eliminamos floor </h3>\n",
    "\n",
    "[volver a TOC](#section_toc)"
   ]
  },
  {
   "cell_type": "code",
   "execution_count": 1196,
   "metadata": {},
   "outputs": [
    {
     "data": {
      "text/plain": [
       "32316"
      ]
     },
     "metadata": {},
     "output_type": "display_data"
    }
   ],
   "source": [
    "display(data_caba.floor.isnull().count())\n",
    "\n",
    "# El piso es un dato muy incompleto por lo que se dropea\n",
    "\n",
    "# Dropeamos la columna creada anteriormente.\n",
    "data_caba_clean.drop(columns=['floor'], inplace=True)\n",
    "\n",
    "# En el caso de Rooms lo reemplazamos por 0 --> Lo pasé más abajo\n",
    "# data_caba_clean.rooms.fillna(0, inplace=True)"
   ]
  },
  {
   "cell_type": "code",
   "execution_count": 1197,
   "metadata": {},
   "outputs": [
    {
     "data": {
      "text/plain": [
       "15325"
      ]
     },
     "metadata": {},
     "output_type": "display_data"
    }
   ],
   "source": [
    "display(data_caba.rooms.count())\n",
    "# En el caso de rooms, podemos tomar que el dato para los NaN es 0?? modifica esto el analisis para predecir? "
   ]
  },
  {
   "cell_type": "markdown",
   "metadata": {},
   "source": [
    "<h3> Eliminamos columnas de precios en moneda local </h3>\n",
    "\n",
    "[volver a TOC](#section_toc)"
   ]
  },
  {
   "cell_type": "code",
   "execution_count": 1198,
   "metadata": {},
   "outputs": [
    {
     "data": {
      "text/html": [
       "<div>\n",
       "<style scoped>\n",
       "    .dataframe tbody tr th:only-of-type {\n",
       "        vertical-align: middle;\n",
       "    }\n",
       "\n",
       "    .dataframe tbody tr th {\n",
       "        vertical-align: top;\n",
       "    }\n",
       "\n",
       "    .dataframe thead th {\n",
       "        text-align: right;\n",
       "    }\n",
       "</style>\n",
       "<table border=\"1\" class=\"dataframe\">\n",
       "  <thead>\n",
       "    <tr style=\"text-align: right;\">\n",
       "      <th></th>\n",
       "      <th>property_type</th>\n",
       "      <th>place_name</th>\n",
       "      <th>price_aprox_usd</th>\n",
       "      <th>surface_total_in_m2</th>\n",
       "      <th>surface_covered_in_m2</th>\n",
       "      <th>price_usd_per_m2</th>\n",
       "      <th>rooms</th>\n",
       "      <th>description</th>\n",
       "    </tr>\n",
       "  </thead>\n",
       "  <tbody>\n",
       "    <tr>\n",
       "      <th>62791</th>\n",
       "      <td>apartment</td>\n",
       "      <td>Almagro</td>\n",
       "      <td>139000.00</td>\n",
       "      <td>69.3</td>\n",
       "      <td>63.0</td>\n",
       "      <td>2005.772006</td>\n",
       "      <td>2.0</td>\n",
       "      <td>Corredor Responsable: Martin Macagno - CUCICBA...</td>\n",
       "    </tr>\n",
       "    <tr>\n",
       "      <th>51091</th>\n",
       "      <td>house</td>\n",
       "      <td>San Cristobal</td>\n",
       "      <td>479000.00</td>\n",
       "      <td>534.0</td>\n",
       "      <td>384.0</td>\n",
       "      <td>897.003745</td>\n",
       "      <td>NaN</td>\n",
       "      <td>-11 Ambientes. -Casa estilo colonial refaccion...</td>\n",
       "    </tr>\n",
       "    <tr>\n",
       "      <th>113682</th>\n",
       "      <td>house</td>\n",
       "      <td>Paternal</td>\n",
       "      <td>390000.00</td>\n",
       "      <td>230.0</td>\n",
       "      <td>135.0</td>\n",
       "      <td>1695.652174</td>\n",
       "      <td>NaN</td>\n",
       "      <td>CODIGO: 297-860 ubicado en: Espinosa 2300 -  P...</td>\n",
       "    </tr>\n",
       "    <tr>\n",
       "      <th>40417</th>\n",
       "      <td>apartment</td>\n",
       "      <td>Barracas</td>\n",
       "      <td>78000.00</td>\n",
       "      <td>48.0</td>\n",
       "      <td>42.0</td>\n",
       "      <td>1625.000000</td>\n",
       "      <td>1.0</td>\n",
       "      <td>EDIFICIO EN CONSTRUCCIÓN. Edificio de 13 pisos...</td>\n",
       "    </tr>\n",
       "    <tr>\n",
       "      <th>117786</th>\n",
       "      <td>apartment</td>\n",
       "      <td>San Telmo</td>\n",
       "      <td>102557.07</td>\n",
       "      <td>52.0</td>\n",
       "      <td>47.0</td>\n",
       "      <td>1972.251346</td>\n",
       "      <td>NaN</td>\n",
       "      <td>Formando Parte del Barrio de San Telmo: Caract...</td>\n",
       "    </tr>\n",
       "    <tr>\n",
       "      <th>26623</th>\n",
       "      <td>apartment</td>\n",
       "      <td>Boedo</td>\n",
       "      <td>655500.00</td>\n",
       "      <td>33.0</td>\n",
       "      <td>33.0</td>\n",
       "      <td>19863.636364</td>\n",
       "      <td>1.0</td>\n",
       "      <td>Departamento  1 ambiente divisible Depto en CU...</td>\n",
       "    </tr>\n",
       "    <tr>\n",
       "      <th>7510</th>\n",
       "      <td>apartment</td>\n",
       "      <td>San Telmo</td>\n",
       "      <td>106239.00</td>\n",
       "      <td>44.0</td>\n",
       "      <td>40.0</td>\n",
       "      <td>2414.522727</td>\n",
       "      <td>1.0</td>\n",
       "      <td>Pozo • Entrega 31/10/2018Ubicado a metros del ...</td>\n",
       "    </tr>\n",
       "    <tr>\n",
       "      <th>119328</th>\n",
       "      <td>apartment</td>\n",
       "      <td>Barrio Norte</td>\n",
       "      <td>239000.00</td>\n",
       "      <td>65.0</td>\n",
       "      <td>62.0</td>\n",
       "      <td>3676.923077</td>\n",
       "      <td>3.0</td>\n",
       "      <td>Departamento de 3 ambientes en Barrio Norte. M...</td>\n",
       "    </tr>\n",
       "    <tr>\n",
       "      <th>114218</th>\n",
       "      <td>apartment</td>\n",
       "      <td>Flores</td>\n",
       "      <td>199000.00</td>\n",
       "      <td>145.2</td>\n",
       "      <td>132.0</td>\n",
       "      <td>1370.523416</td>\n",
       "      <td>4.0</td>\n",
       "      <td>Corredor Responsable: Rebeca Stern - C.U.C.I.C...</td>\n",
       "    </tr>\n",
       "    <tr>\n",
       "      <th>10339</th>\n",
       "      <td>apartment</td>\n",
       "      <td>Caballito</td>\n",
       "      <td>159000.00</td>\n",
       "      <td>93.5</td>\n",
       "      <td>85.0</td>\n",
       "      <td>1700.534759</td>\n",
       "      <td>3.0</td>\n",
       "      <td>Corredor Responsable: Hernan Perrone - C.U.C.I...</td>\n",
       "    </tr>\n",
       "    <tr>\n",
       "      <th>93328</th>\n",
       "      <td>apartment</td>\n",
       "      <td>Recoleta</td>\n",
       "      <td>200000.00</td>\n",
       "      <td>70.0</td>\n",
       "      <td>70.0</td>\n",
       "      <td>2857.142857</td>\n",
       "      <td>NaN</td>\n",
       "      <td>Excelente ubicación a media cuadra de Av. Sant...</td>\n",
       "    </tr>\n",
       "    <tr>\n",
       "      <th>33977</th>\n",
       "      <td>apartment</td>\n",
       "      <td>Floresta</td>\n",
       "      <td>179000.00</td>\n",
       "      <td>79.0</td>\n",
       "      <td>73.0</td>\n",
       "      <td>2265.822785</td>\n",
       "      <td>4.0</td>\n",
       "      <td>Departamento de 4 ambientes a la calle con bal...</td>\n",
       "    </tr>\n",
       "    <tr>\n",
       "      <th>75694</th>\n",
       "      <td>apartment</td>\n",
       "      <td>Almagro</td>\n",
       "      <td>83815.00</td>\n",
       "      <td>36.0</td>\n",
       "      <td>31.0</td>\n",
       "      <td>2328.194444</td>\n",
       "      <td>NaN</td>\n",
       "      <td>Departamento en venta en Almagro monoambiente ...</td>\n",
       "    </tr>\n",
       "    <tr>\n",
       "      <th>44195</th>\n",
       "      <td>apartment</td>\n",
       "      <td>Villa Devoto</td>\n",
       "      <td>670000.00</td>\n",
       "      <td>230.0</td>\n",
       "      <td>175.0</td>\n",
       "      <td>2913.043478</td>\n",
       "      <td>4.0</td>\n",
       "      <td>Piso 4 ambientes de cateogoria: Ascensor princ...</td>\n",
       "    </tr>\n",
       "    <tr>\n",
       "      <th>25729</th>\n",
       "      <td>apartment</td>\n",
       "      <td>Boedo</td>\n",
       "      <td>455900.00</td>\n",
       "      <td>30.0</td>\n",
       "      <td>30.0</td>\n",
       "      <td>15196.666667</td>\n",
       "      <td>1.0</td>\n",
       "      <td>FNB311- PREVENTA INVERSORES, CUPOS LIMITADOS, ...</td>\n",
       "    </tr>\n",
       "    <tr>\n",
       "      <th>119185</th>\n",
       "      <td>apartment</td>\n",
       "      <td>Villa Urquiza</td>\n",
       "      <td>211419.00</td>\n",
       "      <td>76.0</td>\n",
       "      <td>68.0</td>\n",
       "      <td>2781.828947</td>\n",
       "      <td>NaN</td>\n",
       "      <td>Deptos de 3 ambientes con cocina integrada, am...</td>\n",
       "    </tr>\n",
       "    <tr>\n",
       "      <th>64781</th>\n",
       "      <td>apartment</td>\n",
       "      <td>Boedo</td>\n",
       "      <td>75000.00</td>\n",
       "      <td>32.0</td>\n",
       "      <td>30.0</td>\n",
       "      <td>2343.750000</td>\n",
       "      <td>NaN</td>\n",
       "      <td>UBICADO EN  BOEDO  COMBINA EL ENCANTO DE ESTOS...</td>\n",
       "    </tr>\n",
       "    <tr>\n",
       "      <th>74180</th>\n",
       "      <td>apartment</td>\n",
       "      <td>Belgrano</td>\n",
       "      <td>95000.00</td>\n",
       "      <td>34.0</td>\n",
       "      <td>31.0</td>\n",
       "      <td>2794.117647</td>\n",
       "      <td>NaN</td>\n",
       "      <td>Se trata de un edificio en Belgrano, en una zo...</td>\n",
       "    </tr>\n",
       "    <tr>\n",
       "      <th>56129</th>\n",
       "      <td>apartment</td>\n",
       "      <td>Belgrano</td>\n",
       "      <td>300000.00</td>\n",
       "      <td>128.0</td>\n",
       "      <td>128.0</td>\n",
       "      <td>2343.750000</td>\n",
       "      <td>4.0</td>\n",
       "      <td>Venta de Departamento 4 AMBIENTES en Belgrano,...</td>\n",
       "    </tr>\n",
       "    <tr>\n",
       "      <th>118052</th>\n",
       "      <td>apartment</td>\n",
       "      <td>Villa Crespo</td>\n",
       "      <td>143681.00</td>\n",
       "      <td>56.0</td>\n",
       "      <td>46.0</td>\n",
       "      <td>2565.732143</td>\n",
       "      <td>NaN</td>\n",
       "      <td>Tipología 2 ambientes.Living comedor. Dormitor...</td>\n",
       "    </tr>\n",
       "  </tbody>\n",
       "</table>\n",
       "</div>"
      ],
      "text/plain": [
       "       property_type     place_name  price_aprox_usd  surface_total_in_m2  \\\n",
       "62791      apartment        Almagro        139000.00                 69.3   \n",
       "51091          house  San Cristobal        479000.00                534.0   \n",
       "113682         house       Paternal        390000.00                230.0   \n",
       "40417      apartment       Barracas         78000.00                 48.0   \n",
       "117786     apartment      San Telmo        102557.07                 52.0   \n",
       "26623      apartment          Boedo        655500.00                 33.0   \n",
       "7510       apartment      San Telmo        106239.00                 44.0   \n",
       "119328     apartment   Barrio Norte        239000.00                 65.0   \n",
       "114218     apartment         Flores        199000.00                145.2   \n",
       "10339      apartment      Caballito        159000.00                 93.5   \n",
       "93328      apartment       Recoleta        200000.00                 70.0   \n",
       "33977      apartment       Floresta        179000.00                 79.0   \n",
       "75694      apartment        Almagro         83815.00                 36.0   \n",
       "44195      apartment   Villa Devoto        670000.00                230.0   \n",
       "25729      apartment          Boedo        455900.00                 30.0   \n",
       "119185     apartment  Villa Urquiza        211419.00                 76.0   \n",
       "64781      apartment          Boedo         75000.00                 32.0   \n",
       "74180      apartment       Belgrano         95000.00                 34.0   \n",
       "56129      apartment       Belgrano        300000.00                128.0   \n",
       "118052     apartment   Villa Crespo        143681.00                 56.0   \n",
       "\n",
       "        surface_covered_in_m2  price_usd_per_m2  rooms  \\\n",
       "62791                    63.0       2005.772006    2.0   \n",
       "51091                   384.0        897.003745    NaN   \n",
       "113682                  135.0       1695.652174    NaN   \n",
       "40417                    42.0       1625.000000    1.0   \n",
       "117786                   47.0       1972.251346    NaN   \n",
       "26623                    33.0      19863.636364    1.0   \n",
       "7510                     40.0       2414.522727    1.0   \n",
       "119328                   62.0       3676.923077    3.0   \n",
       "114218                  132.0       1370.523416    4.0   \n",
       "10339                    85.0       1700.534759    3.0   \n",
       "93328                    70.0       2857.142857    NaN   \n",
       "33977                    73.0       2265.822785    4.0   \n",
       "75694                    31.0       2328.194444    NaN   \n",
       "44195                   175.0       2913.043478    4.0   \n",
       "25729                    30.0      15196.666667    1.0   \n",
       "119185                   68.0       2781.828947    NaN   \n",
       "64781                    30.0       2343.750000    NaN   \n",
       "74180                    31.0       2794.117647    NaN   \n",
       "56129                   128.0       2343.750000    4.0   \n",
       "118052                   46.0       2565.732143    NaN   \n",
       "\n",
       "                                              description  \n",
       "62791   Corredor Responsable: Martin Macagno - CUCICBA...  \n",
       "51091   -11 Ambientes. -Casa estilo colonial refaccion...  \n",
       "113682  CODIGO: 297-860 ubicado en: Espinosa 2300 -  P...  \n",
       "40417   EDIFICIO EN CONSTRUCCIÓN. Edificio de 13 pisos...  \n",
       "117786  Formando Parte del Barrio de San Telmo: Caract...  \n",
       "26623   Departamento  1 ambiente divisible Depto en CU...  \n",
       "7510    Pozo • Entrega 31/10/2018Ubicado a metros del ...  \n",
       "119328  Departamento de 3 ambientes en Barrio Norte. M...  \n",
       "114218  Corredor Responsable: Rebeca Stern - C.U.C.I.C...  \n",
       "10339   Corredor Responsable: Hernan Perrone - C.U.C.I...  \n",
       "93328   Excelente ubicación a media cuadra de Av. Sant...  \n",
       "33977   Departamento de 4 ambientes a la calle con bal...  \n",
       "75694   Departamento en venta en Almagro monoambiente ...  \n",
       "44195   Piso 4 ambientes de cateogoria: Ascensor princ...  \n",
       "25729   FNB311- PREVENTA INVERSORES, CUPOS LIMITADOS, ...  \n",
       "119185  Deptos de 3 ambientes con cocina integrada, am...  \n",
       "64781   UBICADO EN  BOEDO  COMBINA EL ENCANTO DE ESTOS...  \n",
       "74180   Se trata de un edificio en Belgrano, en una zo...  \n",
       "56129   Venta de Departamento 4 AMBIENTES en Belgrano,...  \n",
       "118052  Tipología 2 ambientes.Living comedor. Dormitor...  "
      ]
     },
     "execution_count": 1198,
     "metadata": {},
     "output_type": "execute_result"
    }
   ],
   "source": [
    "# Dropeamos los valores que sabemos que está repetidos o con otra moneda.data_caba\n",
    "\n",
    "data_caba_clean.drop(columns=['price', 'currency','price_per_m2', 'price_aprox_local_currency'], inplace=True)\n",
    "\n",
    "data_caba_clean.sample(20)"
   ]
  },
  {
   "cell_type": "markdown",
   "metadata": {},
   "source": [
    "<h3> Nuevo recuento de nulos </h3>"
   ]
  },
  {
   "cell_type": "code",
   "execution_count": 1199,
   "metadata": {},
   "outputs": [
    {
     "name": "stdout",
     "output_type": "stream",
     "text": [
      "\n",
      "Porcentaje de valores incompletos por columna:\n",
      "property_type             0.00\n",
      "place_name                0.00\n",
      "price_aprox_usd           0.00\n",
      "surface_total_in_m2       0.00\n",
      "surface_covered_in_m2     0.00\n",
      "price_usd_per_m2          0.00\n",
      "rooms                    43.82\n",
      "description               0.00\n",
      "dtype: float64\n"
     ]
    },
    {
     "data": {
      "text/plain": [
       "(25627, 8)"
      ]
     },
     "metadata": {},
     "output_type": "display_data"
    }
   ],
   "source": [
    "print('\\nPorcentaje de valores incompletos por columna:')\n",
    "print(f'{round(100 * data_caba_clean.isnull().sum()/data_caba_clean.shape[0], 2)}')\n",
    "\n",
    "display(data_caba_clean.shape)"
   ]
  },
  {
   "cell_type": "markdown",
   "metadata": {},
   "source": [
    "<h3>Creación de una columna para categorizar por metros cuadrados"
   ]
  },
  {
   "cell_type": "code",
   "execution_count": 1200,
   "metadata": {},
   "outputs": [],
   "source": [
    "# Delimitamos los bins para realizar un cut\n",
    "# bins = [20, 30, 45, 75, 150, 220]\n",
    "bins = [0, 30, 45, 75, 150, 220]\n",
    "labels = ['mono', 's45', 's75', 's150', 'm220' ]\n",
    "\n",
    "data_caba_clean['m2_categories'] = pd.cut(data_caba_clean.surface_covered_in_m2, bins, labels)\n",
    "data_caba_clean['m2_labels'] = pd.cut(x=data_caba_clean.surface_covered_in_m2, bins=bins, labels=labels, right=False)\n"
   ]
  },
  {
   "cell_type": "code",
   "execution_count": 1201,
   "metadata": {},
   "outputs": [
    {
     "data": {
      "text/plain": [
       "(0, 30]       2530\n",
       "(30, 45]      7452\n",
       "(45, 75]      7227\n",
       "(75, 150]     5449\n",
       "(150, 220]    1572\n",
       "Name: m2_categories, dtype: int64"
      ]
     },
     "execution_count": 1201,
     "metadata": {},
     "output_type": "execute_result"
    }
   ],
   "source": [
    "data_caba_clean.m2_categories.value_counts().sort_index()"
   ]
  },
  {
   "cell_type": "code",
   "execution_count": 1202,
   "metadata": {},
   "outputs": [
    {
     "data": {
      "text/plain": [
       "mono    1633\n",
       "s45     7863\n",
       "s75     7475\n",
       "s150    5574\n",
       "m220    1628\n",
       "Name: m2_labels, dtype: int64"
      ]
     },
     "execution_count": 1202,
     "metadata": {},
     "output_type": "execute_result"
    }
   ],
   "source": [
    "data_caba_clean.m2_labels.value_counts().sort_index()"
   ]
  },
  {
   "cell_type": "markdown",
   "metadata": {},
   "source": [
    "<a id=\"section_caba_description\"></a> \n",
    "<h3> Análisis del campo <strong>description</strong></h3>\n",
    "\n",
    "[volver a TOC](#section_toc)"
   ]
  },
  {
   "cell_type": "markdown",
   "metadata": {},
   "source": [
    "Normalización del campo, todo minuscula, sin tildes, etc"
   ]
  },
  {
   "cell_type": "code",
   "execution_count": 1203,
   "metadata": {},
   "outputs": [
    {
     "data": {
      "text/plain": [
       "112634    excelente piso de 6 ambientes c/ dependencia d...\n",
       "52107     corredor responsable: cristian arnal ponti - c...\n",
       "37308     departamento en venta de dos ambientes en el b...\n",
       "55367     excelente departamento de 87 mts. 2 habitacion...\n",
       "48968     codigo:  ubicado en: terrero al 900 -  publica...\n",
       "5887      1 ambiente a estrenar todo electrico. vigilanc...\n",
       "63744     departamento en pozo en el barrio de palermo m...\n",
       "58869     ambiente divisible con pisos de porcelanato na...\n",
       "48074     edificio el cid, ubicado en el centro de la ci...\n",
       "62593     pavillon san jose comenzadaexcelente financiac...\n",
       "Name: description, dtype: object"
      ]
     },
     "execution_count": 1203,
     "metadata": {},
     "output_type": "execute_result"
    }
   ],
   "source": [
    "data_caba_clean.description = data_caba_clean.description.str.lower()\n",
    "\n",
    "data_caba_clean.description.sample(10)"
   ]
  },
  {
   "cell_type": "markdown",
   "metadata": {},
   "source": [
    "<a id=\"section_caba_description_amb\"></a> \n",
    "<h4> Cantidad de ambientes</h4>\n",
    "\n",
    "[volver a TOC](#section_toc)"
   ]
  },
  {
   "cell_type": "code",
   "execution_count": 1204,
   "metadata": {},
   "outputs": [],
   "source": [
    "amb_pattern = \"((?P<numero_amb>\\d)(\\s)?(amb|anv|amv|anb))\"\n",
    "amb_pattern_regex = re.compile(amb_pattern)"
   ]
  },
  {
   "cell_type": "code",
   "execution_count": 1205,
   "metadata": {},
   "outputs": [],
   "source": [
    "amb_match = data_caba_clean.description.apply(lambda x: x if (x is np.NaN) | (x is None) else\\\n",
    "                                      amb_pattern_regex.search(x))\n",
    "mask_amb_match_notnull = amb_match.notnull()\n",
    "\n",
    "# Aplicamos el grupo que encuentra el dígito de cantidad de ambientes, casteado como integer\n",
    "data_caba_clean.loc[mask_amb_match_notnull, 'number_rooms'] = \\\n",
    "amb_match.loc[mask_amb_match_notnull].apply(lambda x: int(x.group(\"numero_amb\")))"
   ]
  },
  {
   "cell_type": "code",
   "execution_count": 1206,
   "metadata": {},
   "outputs": [],
   "source": [
    "dorm_pattern = \"((?P<numero_dorm>\\d)(\\s)?(dorm))\"\n",
    "dorm_pattern_regex = re.compile(dorm_pattern)"
   ]
  },
  {
   "cell_type": "code",
   "execution_count": 1207,
   "metadata": {},
   "outputs": [],
   "source": [
    "dorm_match = data_caba_clean.description.apply(lambda x: x if (x is np.NaN) | (x is None) else dorm_pattern_regex.search(x))\n",
    "\n",
    "mask_dorm_match_notnull = dorm_match.notnull()\n",
    "\n",
    "data_caba_clean.loc[mask_dorm_match_notnull, 'number_rooms'] = \\\n",
    "dorm_match.loc[mask_dorm_match_notnull].apply(lambda x: int(x.group(\"numero_dorm\"))+1)\n",
    "\n",
    "#se asume que el numero de ambientes es numero_dorm +1"
   ]
  },
  {
   "cell_type": "markdown",
   "metadata": {},
   "source": [
    "Tratamos de llenar los rooms que faltan con lo que obtuvimos de la descripción"
   ]
  },
  {
   "cell_type": "code",
   "execution_count": 1208,
   "metadata": {},
   "outputs": [
    {
     "data": {
      "text/html": [
       "<div>\n",
       "<style scoped>\n",
       "    .dataframe tbody tr th:only-of-type {\n",
       "        vertical-align: middle;\n",
       "    }\n",
       "\n",
       "    .dataframe tbody tr th {\n",
       "        vertical-align: top;\n",
       "    }\n",
       "\n",
       "    .dataframe thead th {\n",
       "        text-align: right;\n",
       "    }\n",
       "</style>\n",
       "<table border=\"1\" class=\"dataframe\">\n",
       "  <thead>\n",
       "    <tr style=\"text-align: right;\">\n",
       "      <th></th>\n",
       "      <th>property_type</th>\n",
       "      <th>place_name</th>\n",
       "      <th>price_aprox_usd</th>\n",
       "      <th>surface_total_in_m2</th>\n",
       "      <th>surface_covered_in_m2</th>\n",
       "      <th>price_usd_per_m2</th>\n",
       "      <th>rooms</th>\n",
       "      <th>description</th>\n",
       "      <th>m2_categories</th>\n",
       "      <th>m2_labels</th>\n",
       "      <th>number_rooms</th>\n",
       "    </tr>\n",
       "  </thead>\n",
       "  <tbody>\n",
       "    <tr>\n",
       "      <th>0</th>\n",
       "      <td>PH</td>\n",
       "      <td>Mataderos</td>\n",
       "      <td>62000.0</td>\n",
       "      <td>55.0</td>\n",
       "      <td>40.0</td>\n",
       "      <td>1127.272727</td>\n",
       "      <td>NaN</td>\n",
       "      <td>2 ambientes tipo casa planta baja por pasillo,...</td>\n",
       "      <td>(30, 45]</td>\n",
       "      <td>s45</td>\n",
       "      <td>2.0</td>\n",
       "    </tr>\n",
       "    <tr>\n",
       "      <th>2</th>\n",
       "      <td>apartment</td>\n",
       "      <td>Mataderos</td>\n",
       "      <td>72000.0</td>\n",
       "      <td>55.0</td>\n",
       "      <td>55.0</td>\n",
       "      <td>1309.090909</td>\n",
       "      <td>NaN</td>\n",
       "      <td>2 ambientes 3er piso lateral living comedor am...</td>\n",
       "      <td>(45, 75]</td>\n",
       "      <td>s75</td>\n",
       "      <td>2.0</td>\n",
       "    </tr>\n",
       "    <tr>\n",
       "      <th>7</th>\n",
       "      <td>apartment</td>\n",
       "      <td>Belgrano</td>\n",
       "      <td>138000.0</td>\n",
       "      <td>45.0</td>\n",
       "      <td>40.0</td>\n",
       "      <td>3066.666667</td>\n",
       "      <td>NaN</td>\n",
       "      <td>excelente monoambiente a estrenar amplio super...</td>\n",
       "      <td>(30, 45]</td>\n",
       "      <td>s45</td>\n",
       "      <td>NaN</td>\n",
       "    </tr>\n",
       "  </tbody>\n",
       "</table>\n",
       "</div>"
      ],
      "text/plain": [
       "  property_type place_name  price_aprox_usd  surface_total_in_m2  \\\n",
       "0            PH  Mataderos          62000.0                 55.0   \n",
       "2     apartment  Mataderos          72000.0                 55.0   \n",
       "7     apartment   Belgrano         138000.0                 45.0   \n",
       "\n",
       "   surface_covered_in_m2  price_usd_per_m2  rooms  \\\n",
       "0                   40.0       1127.272727    NaN   \n",
       "2                   55.0       1309.090909    NaN   \n",
       "7                   40.0       3066.666667    NaN   \n",
       "\n",
       "                                         description m2_categories m2_labels  \\\n",
       "0  2 ambientes tipo casa planta baja por pasillo,...      (30, 45]       s45   \n",
       "2  2 ambientes 3er piso lateral living comedor am...      (45, 75]       s75   \n",
       "7  excelente monoambiente a estrenar amplio super...      (30, 45]       s45   \n",
       "\n",
       "   number_rooms  \n",
       "0           2.0  \n",
       "2           2.0  \n",
       "7           NaN  "
      ]
     },
     "execution_count": 1208,
     "metadata": {},
     "output_type": "execute_result"
    }
   ],
   "source": [
    "data_caba_clean.head(3)"
   ]
  },
  {
   "cell_type": "code",
   "execution_count": 1209,
   "metadata": {},
   "outputs": [
    {
     "data": {
      "text/plain": [
       "11230"
      ]
     },
     "execution_count": 1209,
     "metadata": {},
     "output_type": "execute_result"
    }
   ],
   "source": [
    "data_caba_clean.rooms.isnull().sum()"
   ]
  },
  {
   "cell_type": "code",
   "execution_count": 1210,
   "metadata": {},
   "outputs": [
    {
     "data": {
      "text/plain": [
       "9881"
      ]
     },
     "execution_count": 1210,
     "metadata": {},
     "output_type": "execute_result"
    }
   ],
   "source": [
    "data_caba_clean.number_rooms.isnull().sum()"
   ]
  },
  {
   "cell_type": "code",
   "execution_count": 1211,
   "metadata": {},
   "outputs": [],
   "source": [
    "data_caba_clean.rooms.fillna(data_caba_clean.number_rooms, inplace=True)"
   ]
  },
  {
   "cell_type": "code",
   "execution_count": 1212,
   "metadata": {},
   "outputs": [
    {
     "data": {
      "text/plain": [
       "4665"
      ]
     },
     "execution_count": 1212,
     "metadata": {},
     "output_type": "execute_result"
    }
   ],
   "source": [
    "data_caba_clean.rooms.isnull().sum()"
   ]
  },
  {
   "cell_type": "code",
   "execution_count": 1213,
   "metadata": {},
   "outputs": [],
   "source": [
    "# data_caba_clean.rooms.fillna(0, inplace=True)\n",
    "# completar con los datos de categorias"
   ]
  },
  {
   "cell_type": "code",
   "execution_count": null,
   "metadata": {},
   "outputs": [],
   "source": []
  },
  {
   "cell_type": "code",
   "execution_count": 1214,
   "metadata": {},
   "outputs": [
    {
     "data": {
      "text/plain": [
       "2.0     5406\n",
       "3.0     5262\n",
       "1.0     4341\n",
       "4.0     4012\n",
       "5.0     1266\n",
       "6.0      362\n",
       "7.0      174\n",
       "8.0       57\n",
       "9.0       27\n",
       "10.0      24\n",
       "12.0      11\n",
       "11.0       9\n",
       "0.0        4\n",
       "17.0       3\n",
       "22.0       1\n",
       "15.0       1\n",
       "14.0       1\n",
       "13.0       1\n",
       "Name: rooms, dtype: int64"
      ]
     },
     "execution_count": 1214,
     "metadata": {},
     "output_type": "execute_result"
    }
   ],
   "source": [
    "data_caba_clean.rooms.value_counts()"
   ]
  },
  {
   "cell_type": "code",
   "execution_count": 1215,
   "metadata": {},
   "outputs": [
    {
     "data": {
      "text/plain": [
       "763"
      ]
     },
     "execution_count": 1215,
     "metadata": {},
     "output_type": "execute_result"
    }
   ],
   "source": [
    "rooms_dict = {\n",
    "\"mono\": 1, \"s45\":  2, \"s75\":  3, \"s150\":  4, \"m220\": 5}\n",
    "\n",
    "data_caba_clean[\"rooms_upon_categories\"] = data_caba_clean.m2_labels.map(rooms_dict)\n",
    "data_caba_clean['rooms_upon_categories']\n",
    "\n",
    "data_caba_clean.rooms.fillna(data_caba_clean.rooms_upon_categories, inplace=True)\n",
    "data_caba_clean.rooms.isnull().sum()\n"
   ]
  },
  {
   "cell_type": "markdown",
   "metadata": {},
   "source": [
    "### Llenamos los que faltan según las categorías de los bins???\n",
    "Además: eliminar los que tengan más de 10 ambientes? Son pocos datos! "
   ]
  },
  {
   "cell_type": "markdown",
   "metadata": {},
   "source": [
    "<a id=\"section_caba_description_amb\"></a> \n",
    "<h4> Amenities</h4>\n",
    "\n",
    "[volver a TOC](#section_toc)"
   ]
  },
  {
   "cell_type": "markdown",
   "metadata": {},
   "source": [
    "<h5> Pileta </h5>"
   ]
  },
  {
   "cell_type": "code",
   "execution_count": 1216,
   "metadata": {},
   "outputs": [],
   "source": [
    "pileta_pattern = \"(?P<pileta>pileta|piscina|picina|pisina|pool)\"\n",
    "pileta_pattern_regex = re.compile(pileta_pattern)"
   ]
  },
  {
   "cell_type": "code",
   "execution_count": 1217,
   "metadata": {},
   "outputs": [],
   "source": [
    "pileta_match = data_caba_clean.description.apply(lambda x: x if (x is np.NaN) | (x is None) else\\\n",
    "                                      pileta_pattern_regex.search(x))\n",
    "mask_pileta_match_notnull = pileta_match.notnull()\n",
    "\n",
    "data_caba_clean.loc[mask_pileta_match_notnull, 'pool'] = 1"
   ]
  },
  {
   "cell_type": "code",
   "execution_count": 1218,
   "metadata": {},
   "outputs": [],
   "source": [
    "# data_caba_clean['pool']"
   ]
  },
  {
   "cell_type": "code",
   "execution_count": 1219,
   "metadata": {},
   "outputs": [
    {
     "data": {
      "text/plain": [
       "6161"
      ]
     },
     "execution_count": 1219,
     "metadata": {},
     "output_type": "execute_result"
    }
   ],
   "source": [
    "data_caba_clean['pool'].notnull().sum()"
   ]
  },
  {
   "cell_type": "code",
   "execution_count": 1220,
   "metadata": {},
   "outputs": [],
   "source": [
    "#Completamos los datos NaN con ceros (convertimos en una variable dummy)\n",
    "data_caba_clean.pool.fillna(0, inplace = True)"
   ]
  },
  {
   "cell_type": "markdown",
   "metadata": {},
   "source": [
    "<h5> Laundry </h5>"
   ]
  },
  {
   "cell_type": "code",
   "execution_count": 1221,
   "metadata": {},
   "outputs": [],
   "source": [
    "laudry_pattern = \"(?P<laundry>laundry|lavadero)\"\n",
    "laundry_pattern_regex = re.compile(laudry_pattern)\n",
    "\n",
    "laundry_match = data_caba_clean.description.apply(lambda x: x if (x is np.NaN) | (x is None) else\\\n",
    "                                      laundry_pattern_regex.search(x))\n",
    "mask_laundry_match_notnull = laundry_match.notnull()\n",
    "\n",
    "data_caba_clean.loc[mask_laundry_match_notnull, 'laundry'] = 1"
   ]
  },
  {
   "cell_type": "code",
   "execution_count": 1222,
   "metadata": {},
   "outputs": [
    {
     "data": {
      "text/plain": [
       "10958"
      ]
     },
     "execution_count": 1222,
     "metadata": {},
     "output_type": "execute_result"
    }
   ],
   "source": [
    "data_caba_clean['laundry'].notnull().sum()"
   ]
  },
  {
   "cell_type": "code",
   "execution_count": 1223,
   "metadata": {},
   "outputs": [],
   "source": [
    "data_caba_clean.laundry.fillna(0, inplace = True)"
   ]
  },
  {
   "cell_type": "markdown",
   "metadata": {},
   "source": [
    "<h5> Parking </h5>"
   ]
  },
  {
   "cell_type": "code",
   "execution_count": 1224,
   "metadata": {},
   "outputs": [],
   "source": [
    "parking_pattern = \"(?P<parking>parking|estacionamiento|garage|cochera|garaje)\"\n",
    "parking_pattern_regex = re.compile(parking_pattern)\n",
    "\n",
    "parking_match = data_caba_clean.description.apply(lambda x: x if (x is np.NaN) | (x is None) else\\\n",
    "                                      parking_pattern_regex.search(x))\n",
    "mask_parking_match_notnull = parking_match.notnull()\n",
    "\n",
    "data_caba_clean.loc[mask_parking_match_notnull, 'parking'] = 1"
   ]
  },
  {
   "cell_type": "code",
   "execution_count": 1225,
   "metadata": {},
   "outputs": [
    {
     "data": {
      "text/plain": [
       "9796"
      ]
     },
     "execution_count": 1225,
     "metadata": {},
     "output_type": "execute_result"
    }
   ],
   "source": [
    "data_caba_clean['parking'].notnull().sum()"
   ]
  },
  {
   "cell_type": "code",
   "execution_count": 1226,
   "metadata": {},
   "outputs": [],
   "source": [
    "data_caba_clean.parking.fillna(0, inplace = True)"
   ]
  },
  {
   "cell_type": "markdown",
   "metadata": {},
   "source": [
    "<h5> Gimnasio </h5>"
   ]
  },
  {
   "cell_type": "code",
   "execution_count": 1227,
   "metadata": {},
   "outputs": [],
   "source": [
    "gym_pattern = \"(?P<gimnasio>gim|gym|fitness|fitnes|ejercicio)\"\n",
    "gym_pattern_regex = re.compile(gym_pattern)\n",
    "\n",
    "gym_match = data_caba_clean.description.apply(lambda x: x if (x is np.NaN) | (x is None) else\\\n",
    "                                      gym_pattern_regex.search(x))\n",
    "mask_gim_match_notnull = gym_match.notnull()\n",
    "\n",
    "data_caba_clean.loc[mask_gim_match_notnull, 'gym'] = 1"
   ]
  },
  {
   "cell_type": "code",
   "execution_count": 1228,
   "metadata": {},
   "outputs": [
    {
     "data": {
      "text/plain": [
       "3363"
      ]
     },
     "execution_count": 1228,
     "metadata": {},
     "output_type": "execute_result"
    }
   ],
   "source": [
    "data_caba_clean['gym'].notnull().sum()"
   ]
  },
  {
   "cell_type": "code",
   "execution_count": 1229,
   "metadata": {},
   "outputs": [],
   "source": [
    "data_caba_clean.gym.fillna(0, inplace = True)"
   ]
  },
  {
   "cell_type": "code",
   "execution_count": 1230,
   "metadata": {},
   "outputs": [],
   "source": [
    "# plt.figure(figsize=(13,10))\n",
    "# sns.heatmap(data_caba_clean.corr(),annot=True)\n",
    "# plt.title(\"Correlation Heatmap\")\n",
    "# plt.show()"
   ]
  },
  {
   "cell_type": "markdown",
   "metadata": {},
   "source": [
    "<a id=\"section_caba_dummies\"></a> \n",
    "<h3> Creación dummies sobre datos categóricos </h3>\n",
    "\n",
    "[volver a TOC](#section_toc)"
   ]
  },
  {
   "cell_type": "code",
   "execution_count": 1231,
   "metadata": {},
   "outputs": [
    {
     "data": {
      "text/html": [
       "<div>\n",
       "<style scoped>\n",
       "    .dataframe tbody tr th:only-of-type {\n",
       "        vertical-align: middle;\n",
       "    }\n",
       "\n",
       "    .dataframe tbody tr th {\n",
       "        vertical-align: top;\n",
       "    }\n",
       "\n",
       "    .dataframe thead th {\n",
       "        text-align: right;\n",
       "    }\n",
       "</style>\n",
       "<table border=\"1\" class=\"dataframe\">\n",
       "  <thead>\n",
       "    <tr style=\"text-align: right;\">\n",
       "      <th></th>\n",
       "      <th>prop_type_apartment</th>\n",
       "      <th>prop_type_house</th>\n",
       "      <th>prop_type_store</th>\n",
       "    </tr>\n",
       "  </thead>\n",
       "  <tbody>\n",
       "    <tr>\n",
       "      <th>0</th>\n",
       "      <td>0</td>\n",
       "      <td>0</td>\n",
       "      <td>0</td>\n",
       "    </tr>\n",
       "    <tr>\n",
       "      <th>2</th>\n",
       "      <td>1</td>\n",
       "      <td>0</td>\n",
       "      <td>0</td>\n",
       "    </tr>\n",
       "    <tr>\n",
       "      <th>7</th>\n",
       "      <td>1</td>\n",
       "      <td>0</td>\n",
       "      <td>0</td>\n",
       "    </tr>\n",
       "    <tr>\n",
       "      <th>8</th>\n",
       "      <td>1</td>\n",
       "      <td>0</td>\n",
       "      <td>0</td>\n",
       "    </tr>\n",
       "    <tr>\n",
       "      <th>13</th>\n",
       "      <td>1</td>\n",
       "      <td>0</td>\n",
       "      <td>0</td>\n",
       "    </tr>\n",
       "    <tr>\n",
       "      <th>...</th>\n",
       "      <td>...</td>\n",
       "      <td>...</td>\n",
       "      <td>...</td>\n",
       "    </tr>\n",
       "    <tr>\n",
       "      <th>121153</th>\n",
       "      <td>1</td>\n",
       "      <td>0</td>\n",
       "      <td>0</td>\n",
       "    </tr>\n",
       "    <tr>\n",
       "      <th>121157</th>\n",
       "      <td>1</td>\n",
       "      <td>0</td>\n",
       "      <td>0</td>\n",
       "    </tr>\n",
       "    <tr>\n",
       "      <th>121158</th>\n",
       "      <td>1</td>\n",
       "      <td>0</td>\n",
       "      <td>0</td>\n",
       "    </tr>\n",
       "    <tr>\n",
       "      <th>121215</th>\n",
       "      <td>1</td>\n",
       "      <td>0</td>\n",
       "      <td>0</td>\n",
       "    </tr>\n",
       "    <tr>\n",
       "      <th>121217</th>\n",
       "      <td>1</td>\n",
       "      <td>0</td>\n",
       "      <td>0</td>\n",
       "    </tr>\n",
       "  </tbody>\n",
       "</table>\n",
       "<p>25627 rows × 3 columns</p>\n",
       "</div>"
      ],
      "text/plain": [
       "        prop_type_apartment  prop_type_house  prop_type_store\n",
       "0                         0                0                0\n",
       "2                         1                0                0\n",
       "7                         1                0                0\n",
       "8                         1                0                0\n",
       "13                        1                0                0\n",
       "...                     ...              ...              ...\n",
       "121153                    1                0                0\n",
       "121157                    1                0                0\n",
       "121158                    1                0                0\n",
       "121215                    1                0                0\n",
       "121217                    1                0                0\n",
       "\n",
       "[25627 rows x 3 columns]"
      ]
     },
     "execution_count": 1231,
     "metadata": {},
     "output_type": "execute_result"
    }
   ],
   "source": [
    "# Usamos la función get_dummies con one-hot encoding (drop_first=True)\n",
    "property_type_dummies = pd.get_dummies(data_caba_clean['property_type'], drop_first = True, prefix='prop_type')\n",
    "property_type_dummies"
   ]
  },
  {
   "cell_type": "code",
   "execution_count": 1232,
   "metadata": {},
   "outputs": [],
   "source": [
    "m2_labels_dummies = pd.get_dummies(data_caba_clean['m2_labels'], drop_first = True, prefix='m2_label')"
   ]
  },
  {
   "cell_type": "code",
   "execution_count": 1233,
   "metadata": {},
   "outputs": [],
   "source": [
    "place_name_dummies = pd.get_dummies(data_caba_clean['place_name'], drop_first = True, prefix='place_name')"
   ]
  },
  {
   "cell_type": "code",
   "execution_count": 1234,
   "metadata": {},
   "outputs": [],
   "source": [
    "# Hacemos un join para concatenar las columnas al dataframe\n",
    "data_caba_clean = data_caba_clean.join([property_type_dummies,m2_labels_dummies, place_name_dummies])"
   ]
  },
  {
   "cell_type": "code",
   "execution_count": 1235,
   "metadata": {},
   "outputs": [
    {
     "data": {
      "text/html": [
       "<div>\n",
       "<style scoped>\n",
       "    .dataframe tbody tr th:only-of-type {\n",
       "        vertical-align: middle;\n",
       "    }\n",
       "\n",
       "    .dataframe tbody tr th {\n",
       "        vertical-align: top;\n",
       "    }\n",
       "\n",
       "    .dataframe thead th {\n",
       "        text-align: right;\n",
       "    }\n",
       "</style>\n",
       "<table border=\"1\" class=\"dataframe\">\n",
       "  <thead>\n",
       "    <tr style=\"text-align: right;\">\n",
       "      <th></th>\n",
       "      <th>property_type</th>\n",
       "      <th>place_name</th>\n",
       "      <th>price_aprox_usd</th>\n",
       "      <th>surface_total_in_m2</th>\n",
       "      <th>surface_covered_in_m2</th>\n",
       "      <th>price_usd_per_m2</th>\n",
       "      <th>rooms</th>\n",
       "      <th>description</th>\n",
       "      <th>m2_categories</th>\n",
       "      <th>m2_labels</th>\n",
       "      <th>number_rooms</th>\n",
       "      <th>rooms_upon_categories</th>\n",
       "      <th>pool</th>\n",
       "      <th>laundry</th>\n",
       "      <th>parking</th>\n",
       "      <th>gym</th>\n",
       "      <th>prop_type_apartment</th>\n",
       "      <th>prop_type_house</th>\n",
       "      <th>prop_type_store</th>\n",
       "      <th>m2_label_s45</th>\n",
       "      <th>m2_label_s75</th>\n",
       "      <th>m2_label_s150</th>\n",
       "      <th>m2_label_m220</th>\n",
       "      <th>place_name_Agronomía</th>\n",
       "      <th>place_name_Almagro</th>\n",
       "      <th>place_name_Balvanera</th>\n",
       "      <th>place_name_Barracas</th>\n",
       "      <th>place_name_Barrio Norte</th>\n",
       "      <th>place_name_Belgrano</th>\n",
       "      <th>place_name_Boca</th>\n",
       "      <th>place_name_Boedo</th>\n",
       "      <th>place_name_Caballito</th>\n",
       "      <th>place_name_Catalinas</th>\n",
       "      <th>place_name_Centro / Microcentro</th>\n",
       "      <th>place_name_Chacarita</th>\n",
       "      <th>place_name_Coghlan</th>\n",
       "      <th>place_name_Colegiales</th>\n",
       "      <th>place_name_Congreso</th>\n",
       "      <th>place_name_Constitución</th>\n",
       "      <th>place_name_Flores</th>\n",
       "      <th>place_name_Floresta</th>\n",
       "      <th>place_name_Las Cañitas</th>\n",
       "      <th>place_name_Liniers</th>\n",
       "      <th>place_name_Mataderos</th>\n",
       "      <th>place_name_Monserrat</th>\n",
       "      <th>place_name_Monte Castro</th>\n",
       "      <th>place_name_Nuñez</th>\n",
       "      <th>place_name_Once</th>\n",
       "      <th>place_name_Palermo</th>\n",
       "      <th>place_name_Palermo Chico</th>\n",
       "      <th>place_name_Palermo Hollywood</th>\n",
       "      <th>place_name_Palermo Soho</th>\n",
       "      <th>place_name_Palermo Viejo</th>\n",
       "      <th>place_name_Parque Avellaneda</th>\n",
       "      <th>place_name_Parque Centenario</th>\n",
       "      <th>place_name_Parque Chacabuco</th>\n",
       "      <th>place_name_Parque Chas</th>\n",
       "      <th>place_name_Parque Patricios</th>\n",
       "      <th>place_name_Paternal</th>\n",
       "      <th>place_name_Pompeya</th>\n",
       "      <th>place_name_Puerto Madero</th>\n",
       "      <th>place_name_Recoleta</th>\n",
       "      <th>place_name_Retiro</th>\n",
       "      <th>place_name_Saavedra</th>\n",
       "      <th>place_name_San Cristobal</th>\n",
       "      <th>place_name_San Nicolás</th>\n",
       "      <th>place_name_San Telmo</th>\n",
       "      <th>place_name_Tribunales</th>\n",
       "      <th>place_name_Velez Sarsfield</th>\n",
       "      <th>place_name_Versalles</th>\n",
       "      <th>place_name_Villa Crespo</th>\n",
       "      <th>place_name_Villa Devoto</th>\n",
       "      <th>place_name_Villa General Mitre</th>\n",
       "      <th>place_name_Villa Lugano</th>\n",
       "      <th>place_name_Villa Luro</th>\n",
       "      <th>place_name_Villa Ortuzar</th>\n",
       "      <th>place_name_Villa Pueyrredón</th>\n",
       "      <th>place_name_Villa Real</th>\n",
       "      <th>place_name_Villa Riachuelo</th>\n",
       "      <th>place_name_Villa Santa Rita</th>\n",
       "      <th>place_name_Villa Soldati</th>\n",
       "      <th>place_name_Villa Urquiza</th>\n",
       "      <th>place_name_Villa del Parque</th>\n",
       "    </tr>\n",
       "  </thead>\n",
       "  <tbody>\n",
       "    <tr>\n",
       "      <th>0</th>\n",
       "      <td>PH</td>\n",
       "      <td>Mataderos</td>\n",
       "      <td>62000.0</td>\n",
       "      <td>55.0</td>\n",
       "      <td>40.0</td>\n",
       "      <td>1127.272727</td>\n",
       "      <td>2</td>\n",
       "      <td>2 ambientes tipo casa planta baja por pasillo,...</td>\n",
       "      <td>(30, 45]</td>\n",
       "      <td>s45</td>\n",
       "      <td>2.0</td>\n",
       "      <td>2</td>\n",
       "      <td>0.0</td>\n",
       "      <td>1.0</td>\n",
       "      <td>0.0</td>\n",
       "      <td>0.0</td>\n",
       "      <td>0</td>\n",
       "      <td>0</td>\n",
       "      <td>0</td>\n",
       "      <td>1</td>\n",
       "      <td>0</td>\n",
       "      <td>0</td>\n",
       "      <td>0</td>\n",
       "      <td>0</td>\n",
       "      <td>0</td>\n",
       "      <td>0</td>\n",
       "      <td>0</td>\n",
       "      <td>0</td>\n",
       "      <td>0</td>\n",
       "      <td>0</td>\n",
       "      <td>0</td>\n",
       "      <td>0</td>\n",
       "      <td>0</td>\n",
       "      <td>0</td>\n",
       "      <td>0</td>\n",
       "      <td>0</td>\n",
       "      <td>0</td>\n",
       "      <td>0</td>\n",
       "      <td>0</td>\n",
       "      <td>0</td>\n",
       "      <td>0</td>\n",
       "      <td>0</td>\n",
       "      <td>0</td>\n",
       "      <td>1</td>\n",
       "      <td>0</td>\n",
       "      <td>0</td>\n",
       "      <td>0</td>\n",
       "      <td>0</td>\n",
       "      <td>0</td>\n",
       "      <td>0</td>\n",
       "      <td>0</td>\n",
       "      <td>0</td>\n",
       "      <td>0</td>\n",
       "      <td>0</td>\n",
       "      <td>0</td>\n",
       "      <td>0</td>\n",
       "      <td>0</td>\n",
       "      <td>0</td>\n",
       "      <td>0</td>\n",
       "      <td>0</td>\n",
       "      <td>0</td>\n",
       "      <td>0</td>\n",
       "      <td>0</td>\n",
       "      <td>0</td>\n",
       "      <td>0</td>\n",
       "      <td>0</td>\n",
       "      <td>0</td>\n",
       "      <td>0</td>\n",
       "      <td>0</td>\n",
       "      <td>0</td>\n",
       "      <td>0</td>\n",
       "      <td>0</td>\n",
       "      <td>0</td>\n",
       "      <td>0</td>\n",
       "      <td>0</td>\n",
       "      <td>0</td>\n",
       "      <td>0</td>\n",
       "      <td>0</td>\n",
       "      <td>0</td>\n",
       "      <td>0</td>\n",
       "      <td>0</td>\n",
       "      <td>0</td>\n",
       "      <td>0</td>\n",
       "    </tr>\n",
       "    <tr>\n",
       "      <th>2</th>\n",
       "      <td>apartment</td>\n",
       "      <td>Mataderos</td>\n",
       "      <td>72000.0</td>\n",
       "      <td>55.0</td>\n",
       "      <td>55.0</td>\n",
       "      <td>1309.090909</td>\n",
       "      <td>2</td>\n",
       "      <td>2 ambientes 3er piso lateral living comedor am...</td>\n",
       "      <td>(45, 75]</td>\n",
       "      <td>s75</td>\n",
       "      <td>2.0</td>\n",
       "      <td>3</td>\n",
       "      <td>0.0</td>\n",
       "      <td>1.0</td>\n",
       "      <td>0.0</td>\n",
       "      <td>0.0</td>\n",
       "      <td>1</td>\n",
       "      <td>0</td>\n",
       "      <td>0</td>\n",
       "      <td>0</td>\n",
       "      <td>1</td>\n",
       "      <td>0</td>\n",
       "      <td>0</td>\n",
       "      <td>0</td>\n",
       "      <td>0</td>\n",
       "      <td>0</td>\n",
       "      <td>0</td>\n",
       "      <td>0</td>\n",
       "      <td>0</td>\n",
       "      <td>0</td>\n",
       "      <td>0</td>\n",
       "      <td>0</td>\n",
       "      <td>0</td>\n",
       "      <td>0</td>\n",
       "      <td>0</td>\n",
       "      <td>0</td>\n",
       "      <td>0</td>\n",
       "      <td>0</td>\n",
       "      <td>0</td>\n",
       "      <td>0</td>\n",
       "      <td>0</td>\n",
       "      <td>0</td>\n",
       "      <td>0</td>\n",
       "      <td>1</td>\n",
       "      <td>0</td>\n",
       "      <td>0</td>\n",
       "      <td>0</td>\n",
       "      <td>0</td>\n",
       "      <td>0</td>\n",
       "      <td>0</td>\n",
       "      <td>0</td>\n",
       "      <td>0</td>\n",
       "      <td>0</td>\n",
       "      <td>0</td>\n",
       "      <td>0</td>\n",
       "      <td>0</td>\n",
       "      <td>0</td>\n",
       "      <td>0</td>\n",
       "      <td>0</td>\n",
       "      <td>0</td>\n",
       "      <td>0</td>\n",
       "      <td>0</td>\n",
       "      <td>0</td>\n",
       "      <td>0</td>\n",
       "      <td>0</td>\n",
       "      <td>0</td>\n",
       "      <td>0</td>\n",
       "      <td>0</td>\n",
       "      <td>0</td>\n",
       "      <td>0</td>\n",
       "      <td>0</td>\n",
       "      <td>0</td>\n",
       "      <td>0</td>\n",
       "      <td>0</td>\n",
       "      <td>0</td>\n",
       "      <td>0</td>\n",
       "      <td>0</td>\n",
       "      <td>0</td>\n",
       "      <td>0</td>\n",
       "      <td>0</td>\n",
       "      <td>0</td>\n",
       "      <td>0</td>\n",
       "      <td>0</td>\n",
       "    </tr>\n",
       "    <tr>\n",
       "      <th>7</th>\n",
       "      <td>apartment</td>\n",
       "      <td>Belgrano</td>\n",
       "      <td>138000.0</td>\n",
       "      <td>45.0</td>\n",
       "      <td>40.0</td>\n",
       "      <td>3066.666667</td>\n",
       "      <td>2</td>\n",
       "      <td>excelente monoambiente a estrenar amplio super...</td>\n",
       "      <td>(30, 45]</td>\n",
       "      <td>s45</td>\n",
       "      <td>NaN</td>\n",
       "      <td>2</td>\n",
       "      <td>1.0</td>\n",
       "      <td>1.0</td>\n",
       "      <td>0.0</td>\n",
       "      <td>0.0</td>\n",
       "      <td>1</td>\n",
       "      <td>0</td>\n",
       "      <td>0</td>\n",
       "      <td>1</td>\n",
       "      <td>0</td>\n",
       "      <td>0</td>\n",
       "      <td>0</td>\n",
       "      <td>0</td>\n",
       "      <td>0</td>\n",
       "      <td>0</td>\n",
       "      <td>0</td>\n",
       "      <td>0</td>\n",
       "      <td>1</td>\n",
       "      <td>0</td>\n",
       "      <td>0</td>\n",
       "      <td>0</td>\n",
       "      <td>0</td>\n",
       "      <td>0</td>\n",
       "      <td>0</td>\n",
       "      <td>0</td>\n",
       "      <td>0</td>\n",
       "      <td>0</td>\n",
       "      <td>0</td>\n",
       "      <td>0</td>\n",
       "      <td>0</td>\n",
       "      <td>0</td>\n",
       "      <td>0</td>\n",
       "      <td>0</td>\n",
       "      <td>0</td>\n",
       "      <td>0</td>\n",
       "      <td>0</td>\n",
       "      <td>0</td>\n",
       "      <td>0</td>\n",
       "      <td>0</td>\n",
       "      <td>0</td>\n",
       "      <td>0</td>\n",
       "      <td>0</td>\n",
       "      <td>0</td>\n",
       "      <td>0</td>\n",
       "      <td>0</td>\n",
       "      <td>0</td>\n",
       "      <td>0</td>\n",
       "      <td>0</td>\n",
       "      <td>0</td>\n",
       "      <td>0</td>\n",
       "      <td>0</td>\n",
       "      <td>0</td>\n",
       "      <td>0</td>\n",
       "      <td>0</td>\n",
       "      <td>0</td>\n",
       "      <td>0</td>\n",
       "      <td>0</td>\n",
       "      <td>0</td>\n",
       "      <td>0</td>\n",
       "      <td>0</td>\n",
       "      <td>0</td>\n",
       "      <td>0</td>\n",
       "      <td>0</td>\n",
       "      <td>0</td>\n",
       "      <td>0</td>\n",
       "      <td>0</td>\n",
       "      <td>0</td>\n",
       "      <td>0</td>\n",
       "      <td>0</td>\n",
       "      <td>0</td>\n",
       "      <td>0</td>\n",
       "      <td>0</td>\n",
       "    </tr>\n",
       "  </tbody>\n",
       "</table>\n",
       "</div>"
      ],
      "text/plain": [
       "  property_type place_name  price_aprox_usd  surface_total_in_m2  \\\n",
       "0            PH  Mataderos          62000.0                 55.0   \n",
       "2     apartment  Mataderos          72000.0                 55.0   \n",
       "7     apartment   Belgrano         138000.0                 45.0   \n",
       "\n",
       "   surface_covered_in_m2  price_usd_per_m2 rooms  \\\n",
       "0                   40.0       1127.272727     2   \n",
       "2                   55.0       1309.090909     2   \n",
       "7                   40.0       3066.666667     2   \n",
       "\n",
       "                                         description m2_categories m2_labels  \\\n",
       "0  2 ambientes tipo casa planta baja por pasillo,...      (30, 45]       s45   \n",
       "2  2 ambientes 3er piso lateral living comedor am...      (45, 75]       s75   \n",
       "7  excelente monoambiente a estrenar amplio super...      (30, 45]       s45   \n",
       "\n",
       "   number_rooms rooms_upon_categories  pool  laundry  parking  gym  \\\n",
       "0           2.0                     2   0.0      1.0      0.0  0.0   \n",
       "2           2.0                     3   0.0      1.0      0.0  0.0   \n",
       "7           NaN                     2   1.0      1.0      0.0  0.0   \n",
       "\n",
       "   prop_type_apartment  prop_type_house  prop_type_store  m2_label_s45  \\\n",
       "0                    0                0                0             1   \n",
       "2                    1                0                0             0   \n",
       "7                    1                0                0             1   \n",
       "\n",
       "   m2_label_s75  m2_label_s150  m2_label_m220  place_name_Agronomía  \\\n",
       "0             0              0              0                     0   \n",
       "2             1              0              0                     0   \n",
       "7             0              0              0                     0   \n",
       "\n",
       "   place_name_Almagro  place_name_Balvanera  place_name_Barracas  \\\n",
       "0                   0                     0                    0   \n",
       "2                   0                     0                    0   \n",
       "7                   0                     0                    0   \n",
       "\n",
       "   place_name_Barrio Norte  place_name_Belgrano  place_name_Boca  \\\n",
       "0                        0                    0                0   \n",
       "2                        0                    0                0   \n",
       "7                        0                    1                0   \n",
       "\n",
       "   place_name_Boedo  place_name_Caballito  place_name_Catalinas  \\\n",
       "0                 0                     0                     0   \n",
       "2                 0                     0                     0   \n",
       "7                 0                     0                     0   \n",
       "\n",
       "   place_name_Centro / Microcentro  place_name_Chacarita  place_name_Coghlan  \\\n",
       "0                                0                     0                   0   \n",
       "2                                0                     0                   0   \n",
       "7                                0                     0                   0   \n",
       "\n",
       "   place_name_Colegiales  place_name_Congreso  place_name_Constitución  \\\n",
       "0                      0                    0                        0   \n",
       "2                      0                    0                        0   \n",
       "7                      0                    0                        0   \n",
       "\n",
       "   place_name_Flores  place_name_Floresta  place_name_Las Cañitas  \\\n",
       "0                  0                    0                       0   \n",
       "2                  0                    0                       0   \n",
       "7                  0                    0                       0   \n",
       "\n",
       "   place_name_Liniers  place_name_Mataderos  place_name_Monserrat  \\\n",
       "0                   0                     1                     0   \n",
       "2                   0                     1                     0   \n",
       "7                   0                     0                     0   \n",
       "\n",
       "   place_name_Monte Castro  place_name_Nuñez  place_name_Once  \\\n",
       "0                        0                 0                0   \n",
       "2                        0                 0                0   \n",
       "7                        0                 0                0   \n",
       "\n",
       "   place_name_Palermo  place_name_Palermo Chico  place_name_Palermo Hollywood  \\\n",
       "0                   0                         0                             0   \n",
       "2                   0                         0                             0   \n",
       "7                   0                         0                             0   \n",
       "\n",
       "   place_name_Palermo Soho  place_name_Palermo Viejo  \\\n",
       "0                        0                         0   \n",
       "2                        0                         0   \n",
       "7                        0                         0   \n",
       "\n",
       "   place_name_Parque Avellaneda  place_name_Parque Centenario  \\\n",
       "0                             0                             0   \n",
       "2                             0                             0   \n",
       "7                             0                             0   \n",
       "\n",
       "   place_name_Parque Chacabuco  place_name_Parque Chas  \\\n",
       "0                            0                       0   \n",
       "2                            0                       0   \n",
       "7                            0                       0   \n",
       "\n",
       "   place_name_Parque Patricios  place_name_Paternal  place_name_Pompeya  \\\n",
       "0                            0                    0                   0   \n",
       "2                            0                    0                   0   \n",
       "7                            0                    0                   0   \n",
       "\n",
       "   place_name_Puerto Madero  place_name_Recoleta  place_name_Retiro  \\\n",
       "0                         0                    0                  0   \n",
       "2                         0                    0                  0   \n",
       "7                         0                    0                  0   \n",
       "\n",
       "   place_name_Saavedra  place_name_San Cristobal  place_name_San Nicolás  \\\n",
       "0                    0                         0                       0   \n",
       "2                    0                         0                       0   \n",
       "7                    0                         0                       0   \n",
       "\n",
       "   place_name_San Telmo  place_name_Tribunales  place_name_Velez Sarsfield  \\\n",
       "0                     0                      0                           0   \n",
       "2                     0                      0                           0   \n",
       "7                     0                      0                           0   \n",
       "\n",
       "   place_name_Versalles  place_name_Villa Crespo  place_name_Villa Devoto  \\\n",
       "0                     0                        0                        0   \n",
       "2                     0                        0                        0   \n",
       "7                     0                        0                        0   \n",
       "\n",
       "   place_name_Villa General Mitre  place_name_Villa Lugano  \\\n",
       "0                               0                        0   \n",
       "2                               0                        0   \n",
       "7                               0                        0   \n",
       "\n",
       "   place_name_Villa Luro  place_name_Villa Ortuzar  \\\n",
       "0                      0                         0   \n",
       "2                      0                         0   \n",
       "7                      0                         0   \n",
       "\n",
       "   place_name_Villa Pueyrredón  place_name_Villa Real  \\\n",
       "0                            0                      0   \n",
       "2                            0                      0   \n",
       "7                            0                      0   \n",
       "\n",
       "   place_name_Villa Riachuelo  place_name_Villa Santa Rita  \\\n",
       "0                           0                            0   \n",
       "2                           0                            0   \n",
       "7                           0                            0   \n",
       "\n",
       "   place_name_Villa Soldati  place_name_Villa Urquiza  \\\n",
       "0                         0                         0   \n",
       "2                         0                         0   \n",
       "7                         0                         0   \n",
       "\n",
       "   place_name_Villa del Parque  \n",
       "0                            0  \n",
       "2                            0  \n",
       "7                            0  "
      ]
     },
     "execution_count": 1235,
     "metadata": {},
     "output_type": "execute_result"
    }
   ],
   "source": [
    "data_caba_clean.head(3)"
   ]
  },
  {
   "cell_type": "markdown",
   "metadata": {},
   "source": [
    "### Falta reindexar las filas."
   ]
  },
  {
   "cell_type": "markdown",
   "metadata": {},
   "source": [
    "### Falta el dummy de Rooms pero primero hay que ver si completamos los datos con la info de los bins"
   ]
  },
  {
   "cell_type": "code",
   "execution_count": 1236,
   "metadata": {},
   "outputs": [],
   "source": [
    "# Exportamos el archivo para usar en otras notebooks, esto lo guarda en el mismo directorio en el que estamos operando\n",
    "# data_caba_clean.to_csv('data_caba_clean.csv')"
   ]
  },
  {
   "cell_type": "code",
   "execution_count": null,
   "metadata": {},
   "outputs": [],
   "source": []
  },
  {
   "cell_type": "code",
   "execution_count": 1237,
   "metadata": {},
   "outputs": [],
   "source": [
    "from sklearn.model_selection import cross_val_score, train_test_split, KFold\n",
    "from sklearn.linear_model import LinearRegression\n",
    "from sklearn import metrics, linear_model"
   ]
  },
  {
   "cell_type": "markdown",
   "metadata": {},
   "source": [
    "1. Primer modelo\n",
    "Eliminar rooms nulos\n",
    "Modelar \n",
    "\n",
    "2. Imputar datos faltantes en los rooms\n",
    "modelar \n",
    "\n",
    "3. Eliminar outliers\n",
    "modelar "
   ]
  },
  {
   "cell_type": "code",
   "execution_count": 1238,
   "metadata": {},
   "outputs": [],
   "source": [
    "# Funcion para realizar el entrenamiento pero con un set de testeo.\n",
    "\n",
    "def graf_lineal_model(X, y, y_pred):\n",
    "    # Graficamos el modelo\n",
    "    plt.scatter(y_pred, y, s=30, c='b', alpha=0.4)\n",
    "    plt.plot(y,y, '-.',c='g')\n",
    "    plt.show()\n",
    "    print(y.shape)\n",
    "    print(y_pred.shape)\n",
    "    return\n",
    "\n",
    "def train_test_error(feature_cols, target):\n",
    "    X = data_caba_clean[feature_cols]\n",
    "    y = data_caba_clean[target].values.ravel()\n",
    "    \n",
    "    # OJO que no trabajamos con tiempo por lo tanto debe ser shuffle=True.\n",
    "    X_train, X_test, y_train, y_test = train_test_split(X, y,random_state=10)\n",
    "    \n",
    "    linreg = LinearRegression()\n",
    "    linreg.fit(X_train, y_train)\n",
    "    y_pred = linreg.predict(X_test)\n",
    "    \n",
    "#    print (feature_cols)\n",
    "#    print (\"y_test sample: \",y_test.values[0:10])\n",
    "#     print (\"y_test sample: \",y_test)\n",
    "#    print (\"y_pred sample: \",y_pred[0:20].astype(int))\n",
    "#    print ('MAE:', metrics.mean_absolute_error(y_test, y_pred))\n",
    "#    print ('MSE:', metrics.mean_squared_error(y_test, y_pred))\n",
    "    print ('RMSE:', np.sqrt(metrics.mean_squared_error(y_test, y_pred)))\n",
    "    print ('R2:', metrics.r2_score(y_test, y_pred))\n",
    "    graf_lineal_model(X, y_test, y_pred)\n",
    "    return \n",
    "\n",
    "def train_test_error_lazzo(feature_cols, target):\n",
    "    X = data_caba_clean[feature_cols]\n",
    "    y = data_caba_clean[target].values.ravel()\n",
    "#     cv = KFold(5, shuffle=True)\n",
    "    cv = 3\n",
    "    # OJO que no trabajamos con tiempo por lo tanto debe ser shuffle=True.\n",
    "    X_train, X_test, y_train, y_test = train_test_split(X, y, random_state=10)\n",
    "    \n",
    "    model = linear_model.LassoCV(alphas=np.linspace(0.00001,0.1, 1000), normalize=True).fit(X_train, y_train)\n",
    "    scores = cross_val_score(model, X_train, y_train, cv=cv, scoring='r2')\n",
    "    \n",
    "    y_pred = model.predict(X_train)\n",
    "    print(dict(alpha=model.alpha_, scores=scores, mean_score=scores.mean(), zero_coefs=(model.coef_ == 0).sum()))\n",
    "    print (\"r^2:\", model.score(X, y))\n",
    "    print (\"Imprime Alpha\", model.alpha_)\n",
    "    graf_lineal_model(X, y_train, y_pred)\n",
    "    return \n",
    "\n",
    "def train_test_error_ridge(feature_cols, target):\n",
    "    X = data_caba_clean[feature_cols]\n",
    "    y = data_caba_clean[target].values.ravel()\n",
    "#     cv = KFold(5, shuffle=True)\n",
    "    cv = 3\n",
    "    # OJO que no trabajamos con tiempo por lo tanto debe ser shuffle=True.\n",
    "    X_train, X_test, y_train, y_test = train_test_split(X, y, random_state=10)\n",
    "    \n",
    "    #model = linear_model.Ridge(alpha=0.5, normalize=True).fit(X_train, y_train)\n",
    "    model = linear_model.RidgeCV(alphas=np.linspace(0.00001,0.1, 1000), normalize=True).fit(X_train, y_train)\n",
    "    \n",
    "    scores = cross_val_score(model, X_train, y_train, cv=cv, scoring='r2')\n",
    "    \n",
    "    y_pred = model.predict(X_train)\n",
    "    print(dict(alpha=model.alpha_, scores=scores, mean_score=scores.mean(), zero_coefs=(model.coef_ == 0).sum()))\n",
    "    print (\"r^2:\", model.score(X, y))\n",
    "    print (\"Coeficientes de la regresión\", model.coef_)\n",
    "    graf_lineal_model(X, y_train, y_pred)\n",
    "    return \n",
    "\n",
    "def train_test_error_elastic(feature_cols, target):\n",
    "    X = data_caba_clean[feature_cols]\n",
    "    y = data_caba_clean[target].values.ravel()\n",
    "#     cv = KFold(5, shuffle=True)\n",
    "    cv = 3\n",
    "    # OJO que no trabajamos con tiempo por lo tanto debe ser shuffle=True.\n",
    "    X_train, X_test, y_train, y_test = train_test_split(X, y, random_state=10)\n",
    "    \n",
    "    model = linear_model.ElasticNetCV(alphas=np.linspace(0.00001,0.1, 1000), normalize=True).fit(X_train, y_train)\n",
    "    \n",
    "    scores = cross_val_score(model, X_train, y_train, cv=cv, scoring='r2')\n",
    "    \n",
    "    y_pred = model.predict(X_train)\n",
    "    print(dict(alpha=model.alpha_, scores=scores, mean_score=scores.mean(), zero_coefs=(model.coef_ == 0).sum()))\n",
    "    print (\"r^2:\", model.score(X, y))\n",
    "    print (\"Coeficientes de la regresión\", model.coef_)\n",
    "    graf_lineal_model(X, y_train, y_pred)\n",
    "    return "
   ]
  },
  {
   "cell_type": "code",
   "execution_count": 1239,
   "metadata": {},
   "outputs": [
    {
     "data": {
      "text/plain": [
       "Index(['property_type', 'place_name', 'price_aprox_usd', 'surface_total_in_m2',\n",
       "       'surface_covered_in_m2', 'price_usd_per_m2', 'rooms', 'description',\n",
       "       'm2_categories', 'm2_labels', 'number_rooms', 'rooms_upon_categories',\n",
       "       'pool', 'laundry', 'parking', 'gym', 'prop_type_apartment',\n",
       "       'prop_type_house', 'prop_type_store', 'm2_label_s45', 'm2_label_s75',\n",
       "       'm2_label_s150', 'm2_label_m220', 'place_name_Agronomía',\n",
       "       'place_name_Almagro', 'place_name_Balvanera', 'place_name_Barracas',\n",
       "       'place_name_Barrio Norte', 'place_name_Belgrano', 'place_name_Boca',\n",
       "       'place_name_Boedo', 'place_name_Caballito', 'place_name_Catalinas',\n",
       "       'place_name_Centro / Microcentro', 'place_name_Chacarita',\n",
       "       'place_name_Coghlan', 'place_name_Colegiales', 'place_name_Congreso',\n",
       "       'place_name_Constitución', 'place_name_Flores', 'place_name_Floresta',\n",
       "       'place_name_Las Cañitas', 'place_name_Liniers', 'place_name_Mataderos',\n",
       "       'place_name_Monserrat', 'place_name_Monte Castro', 'place_name_Nuñez',\n",
       "       'place_name_Once', 'place_name_Palermo', 'place_name_Palermo Chico',\n",
       "       'place_name_Palermo Hollywood', 'place_name_Palermo Soho',\n",
       "       'place_name_Palermo Viejo', 'place_name_Parque Avellaneda',\n",
       "       'place_name_Parque Centenario', 'place_name_Parque Chacabuco',\n",
       "       'place_name_Parque Chas', 'place_name_Parque Patricios',\n",
       "       'place_name_Paternal', 'place_name_Pompeya', 'place_name_Puerto Madero',\n",
       "       'place_name_Recoleta', 'place_name_Retiro', 'place_name_Saavedra',\n",
       "       'place_name_San Cristobal', 'place_name_San Nicolás',\n",
       "       'place_name_San Telmo', 'place_name_Tribunales',\n",
       "       'place_name_Velez Sarsfield', 'place_name_Versalles',\n",
       "       'place_name_Villa Crespo', 'place_name_Villa Devoto',\n",
       "       'place_name_Villa General Mitre', 'place_name_Villa Lugano',\n",
       "       'place_name_Villa Luro', 'place_name_Villa Ortuzar',\n",
       "       'place_name_Villa Pueyrredón', 'place_name_Villa Real',\n",
       "       'place_name_Villa Riachuelo', 'place_name_Villa Santa Rita',\n",
       "       'place_name_Villa Soldati', 'place_name_Villa Urquiza',\n",
       "       'place_name_Villa del Parque'],\n",
       "      dtype='object')"
      ]
     },
     "metadata": {},
     "output_type": "display_data"
    }
   ],
   "source": [
    "display(data_caba_clean.columns)"
   ]
  },
  {
   "cell_type": "code",
   "execution_count": 1240,
   "metadata": {},
   "outputs": [
    {
     "name": "stdout",
     "output_type": "stream",
     "text": [
      "RMSE: 29676.697503514544\n",
      "R2: 0.0021623787501081626\n"
     ]
    },
    {
     "data": {
      "image/png": "[encoded data removed]",
      "text/plain": [
       "<Figure size 432x288 with 1 Axes>"
      ]
     },
     "metadata": {
      "needs_background": "light"
     },
     "output_type": "display_data"
    },
    {
     "name": "stdout",
     "output_type": "stream",
     "text": [
      "(6407,)\n",
      "(6407,)\n"
     ]
    }
   ],
   "source": [
    "# Regresion lineal Simple\n",
    "\n",
    "feature_cols = ['price_aprox_usd']\n",
    "target = ['price_usd_per_m2']\n",
    "\n",
    "train_test_error(feature_cols, target)\n"
   ]
  },
  {
   "cell_type": "code",
   "execution_count": null,
   "metadata": {},
   "outputs": [],
   "source": []
  },
  {
   "cell_type": "code",
   "execution_count": 1241,
   "metadata": {},
   "outputs": [
    {
     "name": "stdout",
     "output_type": "stream",
     "text": [
      "RMSE: 31351.431669950027\n",
      "R2: -0.11363658457882542\n"
     ]
    },
    {
     "data": {
      "image/png": "[encoded data removed]",
      "text/plain": [
       "<Figure size 432x288 with 1 Axes>"
      ]
     },
     "metadata": {
      "needs_background": "light"
     },
     "output_type": "display_data"
    },
    {
     "name": "stdout",
     "output_type": "stream",
     "text": [
      "(6407,)\n",
      "(6407,)\n"
     ]
    }
   ],
   "source": [
    "feature_cols = ['surface_total_in_m2', 'price_aprox_usd', 'surface_covered_in_m2']\n",
    "target = ['price_usd_per_m2']\n",
    "\n",
    "train_test_error(feature_cols, target)\n"
   ]
  },
  {
   "cell_type": "code",
   "execution_count": 1242,
   "metadata": {},
   "outputs": [
    {
     "name": "stdout",
     "output_type": "stream",
     "text": [
      "RMSE: 31303.053099118886\n",
      "R2: -0.1102023185675356\n"
     ]
    },
    {
     "data": {
      "image/png": "[encoded data removed]",
      "text/plain": [
       "<Figure size 432x288 with 1 Axes>"
      ]
     },
     "metadata": {
      "needs_background": "light"
     },
     "output_type": "display_data"
    },
    {
     "name": "stdout",
     "output_type": "stream",
     "text": [
      "(6407,)\n",
      "(6407,)\n"
     ]
    }
   ],
   "source": [
    "feature_cols = ['price_aprox_usd', 'surface_total_in_m2', 'surface_covered_in_m2',\n",
    "                'pool', 'laundry', 'parking', 'gym', 'place_name_Puerto Madero']\n",
    "target = ['price_usd_per_m2']\n",
    "\n",
    "train_test_error(feature_cols, target)"
   ]
  },
  {
   "cell_type": "code",
   "execution_count": 1243,
   "metadata": {},
   "outputs": [
    {
     "name": "stdout",
     "output_type": "stream",
     "text": [
      "{'alpha': 0.0636672972972973, 'scores': array([0.07533284, 0.19874048, 0.098415  ]), 'mean_score': 0.12416277591056779, 'zero_coefs': 0}\n",
      "r^2: -0.09324738755090678\n",
      "Imprime Alpha 0.0636672972972973\n"
     ]
    },
    {
     "data": {
      "image/png": "[encoded data removed]",
      "text/plain": [
       "<Figure size 432x288 with 1 Axes>"
      ]
     },
     "metadata": {
      "needs_background": "light"
     },
     "output_type": "display_data"
    },
    {
     "name": "stdout",
     "output_type": "stream",
     "text": [
      "(19220,)\n",
      "(19220,)\n"
     ]
    }
   ],
   "source": [
    "feature_cols = ['price_aprox_usd', 'surface_total_in_m2', 'surface_covered_in_m2',\n",
    "                'pool', 'laundry', 'parking', 'gym', 'place_name_Puerto Madero']\n",
    "target = ['price_usd_per_m2']\n",
    "train_test_error_lazzo(feature_cols, target)"
   ]
  },
  {
   "cell_type": "markdown",
   "metadata": {},
   "source": [
    "## Recordar que hay variables ROOM es INT!!!!"
   ]
  },
  {
   "cell_type": "code",
   "execution_count": 1244,
   "metadata": {},
   "outputs": [
    {
     "name": "stdout",
     "output_type": "stream",
     "text": [
      "{'alpha': 0.03874486486486487, 'scores': array([0.00356508, 0.00201259, 0.00311627]), 'mean_score': 0.0028979800710049832, 'zero_coefs': 0}\n",
      "r^2: -0.010591638526659786\n",
      "Imprime Alpha 0.03874486486486487\n"
     ]
    },
    {
     "data": {
      "image/png": "[encoded data removed]",
      "text/plain": [
       "<Figure size 432x288 with 1 Axes>"
      ]
     },
     "metadata": {
      "needs_background": "light"
     },
     "output_type": "display_data"
    },
    {
     "name": "stdout",
     "output_type": "stream",
     "text": [
      "(19220,)\n",
      "(19220,)\n"
     ]
    }
   ],
   "source": [
    "feature_cols = ['surface_total_in_m2']\n",
    "target = ['price_usd_per_m2']\n",
    "\n",
    "train_test_error_lazzo(feature_cols, target)"
   ]
  },
  {
   "cell_type": "code",
   "execution_count": 1245,
   "metadata": {},
   "outputs": [
    {
     "name": "stdout",
     "output_type": "stream",
     "text": [
      "{'alpha': 0.0636672972972973, 'scores': array([0.07533284, 0.19874048, 0.098415  ]), 'mean_score': 0.12416277591056779, 'zero_coefs': 0}\n",
      "r^2: -0.09324738755090678\n",
      "Imprime Alpha 0.0636672972972973\n"
     ]
    },
    {
     "data": {
      "image/png": "[encoded data removed]",
      "text/plain": [
       "<Figure size 432x288 with 1 Axes>"
      ]
     },
     "metadata": {
      "needs_background": "light"
     },
     "output_type": "display_data"
    },
    {
     "name": "stdout",
     "output_type": "stream",
     "text": [
      "(19220,)\n",
      "(19220,)\n"
     ]
    }
   ],
   "source": [
    "feature_cols = ['price_aprox_usd', 'surface_total_in_m2', 'surface_covered_in_m2',\n",
    "                'pool', 'laundry', 'parking', 'gym', 'place_name_Puerto Madero']\n",
    "target = ['price_usd_per_m2']\n",
    "\n",
    "train_test_error_lazzo(feature_cols, target)"
   ]
  },
  {
   "cell_type": "markdown",
   "metadata": {},
   "source": [
    "# Necesitamos definir Outliers."
   ]
  },
  {
   "cell_type": "code",
   "execution_count": 1246,
   "metadata": {},
   "outputs": [
    {
     "data": {
      "image/png": "[encoded data removed]",
      "text/plain": [
       "<Figure size 432x288 with 1 Axes>"
      ]
     },
     "metadata": {
      "needs_background": "light"
     },
     "output_type": "display_data"
    }
   ],
   "source": [
    "fig, ax = plt.subplots()\n",
    "bp = ax.boxplot(data_caba_clean['surface_covered_in_m2'].dropna(), vert=False, showmeans=True)\n"
   ]
  },
  {
   "cell_type": "code",
   "execution_count": 1259,
   "metadata": {},
   "outputs": [
    {
     "data": {
      "text/plain": [
       "0.01     950.000000\n",
       "0.96    5147.724826\n",
       "Name: price_usd_per_m2, dtype: float64"
      ]
     },
     "execution_count": 1259,
     "metadata": {},
     "output_type": "execute_result"
    }
   ],
   "source": [
    "# Definimos outliers aproximados\n",
    "lower_bound = 0.01\n",
    "upper_bound = 0.96\n",
    "rest = data_caba_clean.price_usd_per_m2.quantile([lower_bound, upper_bound])\n",
    "rest"
   ]
  },
  {
   "cell_type": "code",
   "execution_count": 1260,
   "metadata": {},
   "outputs": [
    {
     "data": {
      "image/png": "[encoded data removed]",
      "text/plain": [
       "<Figure size 432x288 with 1 Axes>"
      ]
     },
     "metadata": {
      "needs_background": "light"
     },
     "output_type": "display_data"
    },
    {
     "name": "stdout",
     "output_type": "stream",
     "text": [
      "5145.693333333334\n",
      "950.0\n"
     ]
    }
   ],
   "source": [
    "# Creamos una mask entendiendo que los precios minimos y maximos pueden rondar los 600 USD y 4000 USD y fijamos outliers aproximados\n",
    "\n",
    "precioxm2_mask = (data_caba_clean.price_usd_per_m2 >= rest[0.01]) & (data_caba_clean.price_usd_per_m2 <= rest[0.96])\n",
    "data_caba_clean = data_caba_clean.loc[precioxm2_mask, :]\n",
    "\n",
    "# Vuelvo a graficar.\n",
    "\n",
    "plt.hist(data_caba_clean.price_usd_per_m2, bins=20, rwidth=0.8, color = '#29788E')\n",
    "plt.xlabel = 'Precio x M2'\n",
    "plt.ylabel = 'Count'\n",
    "plt.show()\n",
    "\n",
    "print(data_caba_clean.price_usd_per_m2.max()) \n",
    "print(data_caba_clean.price_usd_per_m2.min())\n",
    "\n",
    "# Parece una distribución normal? sino fuera por los valores elevados que tenemos a partir de los 3500..."
   ]
  },
  {
   "cell_type": "code",
   "execution_count": 1261,
   "metadata": {},
   "outputs": [
    {
     "data": {
      "text/plain": [
       "0.001     18.0\n",
       "0.990    323.0\n",
       "Name: surface_covered_in_m2, dtype: float64"
      ]
     },
     "execution_count": 1261,
     "metadata": {},
     "output_type": "execute_result"
    }
   ],
   "source": [
    "# Definimos outliers aproximados\n",
    "lower_bound = 0.001\n",
    "upper_bound = 0.99\n",
    "rest = data_caba_clean.surface_covered_in_m2.quantile([lower_bound, upper_bound])\n",
    "rest"
   ]
  },
  {
   "cell_type": "code",
   "execution_count": 1262,
   "metadata": {},
   "outputs": [
    {
     "data": {
      "image/png": "[encoded data removed]",
      "text/plain": [
       "<Figure size 432x288 with 1 Axes>"
      ]
     },
     "metadata": {
      "needs_background": "light"
     },
     "output_type": "display_data"
    },
    {
     "name": "stdout",
     "output_type": "stream",
     "text": [
      "323.0\n",
      "18.0\n"
     ]
    }
   ],
   "source": [
    "# Creamos una mask entendiendo que los precios minimos y maximos pueden rondar los 600 USD y 4000 USD y fijamos outliers aproximados\n",
    "\n",
    "surface_xm2_mask = (data_caba_clean.surface_covered_in_m2 >= rest[0.001]) & (data_caba_clean.surface_covered_in_m2 <= rest[0.99])\n",
    "data_caba_clean = data_caba_clean.loc[surface_xm2_mask, :]\n",
    "\n",
    "# Vuelvo a graficar.\n",
    "\n",
    "plt.hist(data_caba_clean.surface_covered_in_m2, bins=20, rwidth=0.8, color = '#29788E')\n",
    "plt.xlabel = 'Precio x M2'\n",
    "plt.ylabel = 'Count'\n",
    "plt.show()\n",
    "\n",
    "print(data_caba_clean.surface_covered_in_m2.max()) \n",
    "print(data_caba_clean.surface_covered_in_m2.min())\n",
    "\n",
    "# Parece una distribución normal? sino fuera por los valores elevados que tenemos a partir de los 3500..."
   ]
  },
  {
   "cell_type": "code",
   "execution_count": 1263,
   "metadata": {},
   "outputs": [
    {
     "name": "stdout",
     "output_type": "stream",
     "text": [
      "RMSE: 718.4974073145447\n",
      "R2: 0.16518171134791593\n"
     ]
    },
    {
     "data": {
      "image/png": "[encoded data removed]",
      "text/plain": [
       "<Figure size 432x288 with 1 Axes>"
      ]
     },
     "metadata": {
      "needs_background": "light"
     },
     "output_type": "display_data"
    },
    {
     "name": "stdout",
     "output_type": "stream",
     "text": [
      "(5717,)\n",
      "(5717,)\n"
     ]
    }
   ],
   "source": [
    "feature_cols = ['price_aprox_usd']\n",
    "target = ['price_usd_per_m2']\n",
    "\n",
    "train_test_error(feature_cols, target)\n"
   ]
  },
  {
   "cell_type": "code",
   "execution_count": 1271,
   "metadata": {},
   "outputs": [
    {
     "name": "stdout",
     "output_type": "stream",
     "text": [
      "RMSE: 390.5879884195372\n",
      "R2: 0.7532942276759711\n"
     ]
    },
    {
     "data": {
      "image/png": "[encoded data removed]",
      "text/plain": [
       "<Figure size 432x288 with 1 Axes>"
      ]
     },
     "metadata": {
      "needs_background": "light"
     },
     "output_type": "display_data"
    },
    {
     "name": "stdout",
     "output_type": "stream",
     "text": [
      "(5717,)\n",
      "(5717,)\n"
     ]
    }
   ],
   "source": [
    "feature_cols = ['price_aprox_usd', 'surface_total_in_m2', 'surface_covered_in_m2',\n",
    "                'pool', 'laundry', 'parking', 'gym',\n",
    "                'place_name_Agronomía', 'place_name_Villa del Parque',\n",
    "                'place_name_Almagro', 'place_name_Balvanera', 'place_name_Barracas',\n",
    "                'place_name_Barrio Norte', 'place_name_Belgrano', 'place_name_Boca',\n",
    "                'place_name_Boedo', 'place_name_Caballito', 'place_name_Catalinas',\n",
    "                'place_name_Centro / Microcentro', 'place_name_Chacarita',\n",
    "                'place_name_Coghlan', 'place_name_Colegiales', 'place_name_Congreso',\n",
    "                'place_name_Constitución', 'place_name_Flores', 'place_name_Floresta',\n",
    "                'place_name_Las Cañitas', 'place_name_Liniers', 'place_name_Mataderos',\n",
    "                'place_name_Monserrat', 'place_name_Monte Castro', 'place_name_Nuñez',\n",
    "                'place_name_Once', 'place_name_Palermo', 'place_name_Palermo Chico',\n",
    "                'place_name_Palermo Hollywood', 'place_name_Palermo Soho',\n",
    "                'place_name_Palermo Viejo', 'place_name_Parque Avellaneda',\n",
    "                'place_name_Parque Centenario', 'place_name_Parque Chacabuco',\n",
    "                'place_name_Parque Chas', 'place_name_Parque Patricios',\n",
    "                'place_name_Paternal', 'place_name_Pompeya', 'place_name_Puerto Madero',\n",
    "                'place_name_Recoleta', 'place_name_Retiro', 'place_name_Saavedra',\n",
    "                'place_name_San Cristobal', 'place_name_San Nicolás',\n",
    "                'place_name_San Telmo', 'place_name_Tribunales',\n",
    "                'place_name_Velez Sarsfield', 'place_name_Versalles',\n",
    "                'place_name_Villa Crespo', 'place_name_Villa Devoto',\n",
    "                'place_name_Villa General Mitre', 'place_name_Villa Lugano',\n",
    "                'place_name_Villa Luro', 'place_name_Villa Ortuzar',\n",
    "                'place_name_Villa Pueyrredón', 'place_name_Villa Real',\n",
    "                'place_name_Villa Riachuelo', 'place_name_Villa Santa Rita',\n",
    "                'place_name_Villa Soldati', 'place_name_Villa Urquiza']\n",
    "\n",
    "target = ['price_usd_per_m2']\n",
    "\n",
    "train_test_error(feature_cols, target)"
   ]
  },
  {
   "cell_type": "code",
   "execution_count": 1265,
   "metadata": {},
   "outputs": [
    {
     "name": "stdout",
     "output_type": "stream",
     "text": [
      "{'alpha': 0.0017115315315315318, 'scores': array([0.68640206, 0.68286345, 0.68136792]), 'mean_score': 0.6835444757395149, 'zero_coefs': 0}\n",
      "r^2: 0.6839966685634701\n",
      "Imprime Alpha 0.0017115315315315318\n"
     ]
    },
    {
     "data": {
      "image/png": "[encoded data removed]",
      "text/plain": [
       "<Figure size 432x288 with 1 Axes>"
      ]
     },
     "metadata": {
      "needs_background": "light"
     },
     "output_type": "display_data"
    },
    {
     "name": "stdout",
     "output_type": "stream",
     "text": [
      "(17151,)\n",
      "(17151,)\n"
     ]
    }
   ],
   "source": [
    "feature_cols = ['price_aprox_usd', 'surface_total_in_m2', 'surface_covered_in_m2',\n",
    "                'pool', 'laundry', 'parking', 'gym', 'place_name_Puerto Madero']\n",
    "target = ['price_usd_per_m2']\n",
    "\n",
    "train_test_error_lazzo(feature_cols, target)"
   ]
  },
  {
   "cell_type": "code",
   "execution_count": 1266,
   "metadata": {},
   "outputs": [
    {
     "name": "stdout",
     "output_type": "stream",
     "text": [
      "{'alpha': 0.0006105405405405406, 'scores': array([0.6862937 , 0.68294398, 0.68137857]), 'mean_score': 0.6835387493899335, 'zero_coefs': 0}\n",
      "r^2: 0.6839917876344975\n",
      "Coeficientes de la regresión [ 6.27388192e-03 -1.25653504e+01 -3.08218158e+00  8.89323470e+01\n",
      " -4.25994743e+01  6.41313066e+01  1.90914179e+02  4.83793210e+02]\n"
     ]
    },
    {
     "data": {
      "image/png": "[encoded data removed]",
      "text/plain": [
       "<Figure size 432x288 with 1 Axes>"
      ]
     },
     "metadata": {
      "needs_background": "light"
     },
     "output_type": "display_data"
    },
    {
     "name": "stdout",
     "output_type": "stream",
     "text": [
      "(17151,)\n",
      "(17151,)\n"
     ]
    }
   ],
   "source": [
    "feature_cols = ['price_aprox_usd', 'surface_total_in_m2', 'surface_covered_in_m2',\n",
    "                'pool', 'laundry', 'parking', 'gym', 'place_name_Puerto Madero']\n",
    "target = ['price_usd_per_m2']\n",
    "\n",
    "train_test_error_ridge(feature_cols, target)"
   ]
  },
  {
   "cell_type": "code",
   "execution_count": 1267,
   "metadata": {},
   "outputs": [
    {
     "data": {
      "image/png": "[encoded data removed]",
      "text/plain": [
       "<Figure size 936x720 with 2 Axes>"
      ]
     },
     "metadata": {
      "needs_background": "light"
     },
     "output_type": "display_data"
    }
   ],
   "source": [
    "X = data_caba_clean[['price_aprox_usd', 'surface_total_in_m2', 'surface_covered_in_m2',\n",
    "        'pool', 'laundry', 'parking', 'gym', 'place_name_Puerto Madero']]\n",
    "\n",
    "plt.figure(figsize=(13,10))\n",
    "sns.heatmap(X.corr(),annot=True)\n",
    "plt.title(\"Correlation Heatmap\")\n",
    "plt.show()\n",
    "\n",
    "# Para tomar revisar!"
   ]
  },
  {
   "cell_type": "code",
   "execution_count": 1268,
   "metadata": {},
   "outputs": [
    {
     "name": "stdout",
     "output_type": "stream",
     "text": [
      "{'alpha': 0.0002101801801801802, 'scores': array([0.4562321 , 0.46600709, 0.47602133]), 'mean_score': 0.46608684066088985, 'zero_coefs': 1}\n",
      "r^2: 0.47669371613060907\n",
      "Coeficientes de la regresión [ 7.51071748e-04 -2.74754994e+00  1.98005888e+02 -1.35927138e+02\n",
      "  1.17611396e+02  3.82089964e+02 -8.69759043e+01 -2.74754994e+00\n",
      "  1.16979884e+02 -1.50291042e+02 -1.92185726e+02  7.04676882e+02\n",
      "  7.11593977e+02 -4.14561274e+02 -1.67654717e+02  2.38082762e+02\n",
      "  0.00000000e+00  1.79425262e+02  5.92396546e+01  3.29443695e+02\n",
      "  3.15549238e+02 -1.33739574e+02 -2.57535528e+02 -4.91488205e+01\n",
      " -2.67569197e+02  1.08058747e+03 -2.56867102e+02 -2.85616825e+02\n",
      " -3.12051777e+01 -1.35435365e+02  5.85774879e+02 -2.22481979e+02\n",
      "  7.67870942e+02  1.42342535e+03  8.56258688e+02  8.12018585e+02\n",
      "  6.63791246e+02 -4.62592165e+02  2.01774224e+02 -2.92226367e+02\n",
      "  7.16260026e+01 -2.13180623e+02 -8.33088223e+01 -7.35333283e+02\n",
      "  1.88260038e+03  8.96918825e+02  6.20388209e+02  1.21411736e+02\n",
      "  5.79971191e+01  4.91305104e+01  1.03746529e+02 -9.12501449e+01\n",
      " -4.57338406e+02 -2.71270764e+02  3.44175372e+02  2.91345521e+01\n",
      " -2.27051150e+02 -6.05050861e+02 -4.97114990e+01  2.57395365e+02\n",
      " -9.34811499e+01 -5.11367107e+02 -8.25452266e+02 -1.16685939e+02\n",
      " -7.59584747e+02  2.54587016e+02]\n"
     ]
    },
    {
     "data": {
      "image/png": "[encoded data removed]",
      "text/plain": [
       "<Figure size 432x288 with 1 Axes>"
      ]
     },
     "metadata": {
      "needs_background": "light"
     },
     "output_type": "display_data"
    },
    {
     "name": "stdout",
     "output_type": "stream",
     "text": [
      "(17151,)\n",
      "(17151,)\n"
     ]
    }
   ],
   "source": [
    "feature_cols = ['price_aprox_usd', 'place_name_Villa del Parque',\n",
    "                'pool', 'laundry', 'parking', 'gym', \n",
    "                'place_name_Agronomía', 'place_name_Villa del Parque',\n",
    "                'place_name_Almagro', 'place_name_Balvanera', 'place_name_Barracas',\n",
    "                'place_name_Barrio Norte', 'place_name_Belgrano', 'place_name_Boca',\n",
    "                'place_name_Boedo', 'place_name_Caballito', 'place_name_Catalinas',\n",
    "                'place_name_Centro / Microcentro', 'place_name_Chacarita',\n",
    "                'place_name_Coghlan', 'place_name_Colegiales', 'place_name_Congreso',\n",
    "                'place_name_Constitución', 'place_name_Flores', 'place_name_Floresta',\n",
    "                'place_name_Las Cañitas', 'place_name_Liniers', 'place_name_Mataderos',\n",
    "                'place_name_Monserrat', 'place_name_Monte Castro', 'place_name_Nuñez',\n",
    "                'place_name_Once', 'place_name_Palermo', 'place_name_Palermo Chico',\n",
    "                'place_name_Palermo Hollywood', 'place_name_Palermo Soho',\n",
    "                'place_name_Palermo Viejo', 'place_name_Parque Avellaneda',\n",
    "                'place_name_Parque Centenario', 'place_name_Parque Chacabuco',\n",
    "                'place_name_Parque Chas', 'place_name_Parque Patricios',\n",
    "                'place_name_Paternal', 'place_name_Pompeya', 'place_name_Puerto Madero',\n",
    "                'place_name_Recoleta', 'place_name_Retiro', 'place_name_Saavedra',\n",
    "                'place_name_San Cristobal', 'place_name_San Nicolás',\n",
    "                'place_name_San Telmo', 'place_name_Tribunales',\n",
    "                'place_name_Velez Sarsfield', 'place_name_Versalles',\n",
    "                'place_name_Villa Crespo', 'place_name_Villa Devoto',\n",
    "                'place_name_Villa General Mitre', 'place_name_Villa Lugano',\n",
    "                'place_name_Villa Luro', 'place_name_Villa Ortuzar',\n",
    "                'place_name_Villa Pueyrredón', 'place_name_Villa Real',\n",
    "                'place_name_Villa Riachuelo', 'place_name_Villa Santa Rita',\n",
    "                'place_name_Villa Soldati', 'place_name_Villa Urquiza']\n",
    "target = ['price_usd_per_m2']\n",
    "\n",
    "train_test_error_ridge(feature_cols, target)"
   ]
  },
  {
   "cell_type": "code",
   "execution_count": 1269,
   "metadata": {},
   "outputs": [
    {
     "name": "stdout",
     "output_type": "stream",
     "text": [
      "{'alpha': 0.0002101801801801802, 'scores': array([0.66584928, 0.65747871, 0.65778244]), 'mean_score': 0.6603701402646939, 'zero_coefs': 0}\n",
      "r^2: 0.6602806217606658\n",
      "Coeficientes de la regresión [ 6.47364825e-03 -1.54886538e+01]\n"
     ]
    },
    {
     "data": {
      "image/png": "[encoded data removed]",
      "text/plain": [
       "<Figure size 432x288 with 1 Axes>"
      ]
     },
     "metadata": {
      "needs_background": "light"
     },
     "output_type": "display_data"
    },
    {
     "name": "stdout",
     "output_type": "stream",
     "text": [
      "(17151,)\n",
      "(17151,)\n"
     ]
    }
   ],
   "source": [
    "feature_cols = ['price_aprox_usd', 'surface_total_in_m2']\n",
    "target = ['price_usd_per_m2']\n",
    "\n",
    "train_test_error_ridge(feature_cols, target)"
   ]
  },
  {
   "cell_type": "code",
   "execution_count": 1270,
   "metadata": {},
   "outputs": [
    {
     "name": "stdout",
     "output_type": "stream",
     "text": [
      "{'alpha': 1e-05, 'scores': array([0.72109138, 0.72655854, 0.72686172]), 'mean_score': 0.7248372128581456, 'zero_coefs': 1}\n",
      "r^2: 0.7149338709870006\n",
      "Coeficientes de la regresión [ 3.43938706e-03 -6.56695823e+00 -2.88859813e+00  1.22355099e+02\n",
      " -4.89664495e+01  1.11697024e+02  2.40963326e+02 -2.64086890e+02\n",
      " -1.76475462e+02 -1.33847254e+02 -2.99682275e+02 -2.82166113e+02\n",
      "  3.01602105e+02  3.02955788e+02 -5.33568037e+02 -4.03403687e+02\n",
      " -4.77619097e+01  0.00000000e+00 -6.02092238e+01 -2.15084320e+02\n",
      "  1.16563378e+01  4.11099378e+01 -2.81072504e+02 -4.89127562e+02\n",
      " -2.50494073e+02 -3.58651108e+02  5.64459758e+02 -3.37764448e+02\n",
      " -3.72895539e+02 -2.59127739e+02 -2.87561405e+02  2.13547774e+02\n",
      " -3.71845412e+02  3.33552055e+02  7.16709024e+02  3.83345269e+02\n",
      "  3.66132554e+02  2.98905899e+02 -4.30189518e+02 -4.81327607e+00\n",
      " -3.83606089e+02 -2.13840208e+02 -3.91753092e+02 -2.61541355e+02\n",
      " -5.96057384e+02  1.04007118e+03  4.36470114e+02  2.50529571e+02\n",
      " -1.09250654e+02 -1.85354276e+02 -1.44150421e+02 -1.65143198e+02\n",
      " -2.17117791e+02 -3.58191383e+02 -2.30718758e+02  2.43988128e+01\n",
      " -1.14940575e+02 -2.55028055e+02 -5.86176326e+02 -2.55636869e+02\n",
      " -4.82244795e+01 -2.01583882e+02 -4.12301968e+02 -6.53803864e+02\n",
      " -2.34960337e+02 -7.27693556e+02 -4.11433632e+01]\n"
     ]
    },
    {
     "data": {
      "image/png": "[encoded data removed]",
      "text/plain": [
       "<Figure size 432x288 with 1 Axes>"
      ]
     },
     "metadata": {
      "needs_background": "light"
     },
     "output_type": "display_data"
    },
    {
     "name": "stdout",
     "output_type": "stream",
     "text": [
      "(17151,)\n",
      "(17151,)\n"
     ]
    }
   ],
   "source": [
    "feature_cols = ['price_aprox_usd', 'surface_total_in_m2', 'surface_covered_in_m2',\n",
    "                'pool', 'laundry', 'parking', 'gym', \n",
    "                'place_name_Agronomía', 'place_name_Villa del Parque',\n",
    "                'place_name_Almagro', 'place_name_Balvanera', 'place_name_Barracas',\n",
    "                'place_name_Barrio Norte', 'place_name_Belgrano', 'place_name_Boca',\n",
    "                'place_name_Boedo', 'place_name_Caballito', 'place_name_Catalinas',\n",
    "                'place_name_Centro / Microcentro', 'place_name_Chacarita',\n",
    "                'place_name_Coghlan', 'place_name_Colegiales', 'place_name_Congreso',\n",
    "                'place_name_Constitución', 'place_name_Flores', 'place_name_Floresta',\n",
    "                'place_name_Las Cañitas', 'place_name_Liniers', 'place_name_Mataderos',\n",
    "                'place_name_Monserrat', 'place_name_Monte Castro', 'place_name_Nuñez',\n",
    "                'place_name_Once', 'place_name_Palermo', 'place_name_Palermo Chico',\n",
    "                'place_name_Palermo Hollywood', 'place_name_Palermo Soho',\n",
    "                'place_name_Palermo Viejo', 'place_name_Parque Avellaneda',\n",
    "                'place_name_Parque Centenario', 'place_name_Parque Chacabuco',\n",
    "                'place_name_Parque Chas', 'place_name_Parque Patricios',\n",
    "                'place_name_Paternal', 'place_name_Pompeya', 'place_name_Puerto Madero',\n",
    "                'place_name_Recoleta', 'place_name_Retiro', 'place_name_Saavedra',\n",
    "                'place_name_San Cristobal', 'place_name_San Nicolás',\n",
    "                'place_name_San Telmo', 'place_name_Tribunales',\n",
    "                'place_name_Velez Sarsfield', 'place_name_Versalles',\n",
    "                'place_name_Villa Crespo', 'place_name_Villa Devoto',\n",
    "                'place_name_Villa General Mitre', 'place_name_Villa Lugano',\n",
    "                'place_name_Villa Luro', 'place_name_Villa Ortuzar',\n",
    "                'place_name_Villa Pueyrredón', 'place_name_Villa Real',\n",
    "                'place_name_Villa Riachuelo', 'place_name_Villa Santa Rita',\n",
    "                'place_name_Villa Soldati', 'place_name_Villa Urquiza']\n",
    "target = ['price_usd_per_m2']\n",
    "\n",
    "train_test_error_elastic(feature_cols, target)"
   ]
  }
 ],
 "metadata": {
  "kernelspec": {
   "display_name": "Python 3",
   "language": "python",
   "name": "python3"
  },
  "language_info": {
   "codemirror_mode": {
    "name": "ipython",
    "version": 3
   },
   "file_extension": ".py",
   "mimetype": "text/x-python",
   "name": "python",
   "nbconvert_exporter": "python",
   "pygments_lexer": "ipython3",
   "version": "3.7.9"
  }
 },
 "nbformat": 4,
 "nbformat_minor": 4
}

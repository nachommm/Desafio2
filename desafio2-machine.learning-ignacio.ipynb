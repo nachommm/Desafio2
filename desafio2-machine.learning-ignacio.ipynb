{
 "cells": [
  {
   "cell_type": "markdown",
   "metadata": {},
   "source": [
    "<h2>Desafio 2 - Machine Learning\n"
   ]
  },
  {
   "cell_type": "markdown",
   "metadata": {},
   "source": [
    "<h3>Grupo 7</h3>\n",
    "<ul>\n",
    "    <li>Ignacio Mendieta</li>\n",
    "    <li>Laura Jazmín Chao</li>\n",
    "    <li>Juan Nicolás Capistrano</li>\n",
    "    <li>Betiana Srur</li>\n",
    "    <li>Marecelo Carrizo</li>\n",
    "    \n",
    "</ul>\n",
    "    "
   ]
  },
  {
   "cell_type": "markdown",
   "metadata": {},
   "source": [
    "**Desafio 2** : Aplicar las tecnicas de Machine Learning para calcular el precio por metro cuadrado de las propiedades."
   ]
  },
  {
   "cell_type": "code",
   "execution_count": 573,
   "metadata": {},
   "outputs": [],
   "source": [
    "import numpy as np\n",
    "import pandas as pd\n",
    "import re\n",
    "\n",
    "# Libreria Grafica.\n",
    "%matplotlib inline\n",
    "import seaborn as sns\n",
    "from matplotlib import pyplot as plt\n",
    "\n",
    "# Visualización\n",
    "from bokeh.plotting import figure, show, output_notebook\n",
    "from bokeh.models import NumeralTickFormatter # Para imprimir los %\n",
    "from bokeh.tile_providers import CARTODBPOSITRON, get_provider, Vendors \n",
    "from bokeh.resources import INLINE\n",
    "\n",
    "# Libreria para analisis ML\n",
    "from sklearn import datasets, linear_model\n",
    "\n",
    "pd.set_option('display.max_columns', 100) # Para mostrar todas las columnas\n",
    "pd.set_option('display.max_rows', 100) # Para mostrar todas las filas"
   ]
  },
  {
   "cell_type": "code",
   "execution_count": 574,
   "metadata": {},
   "outputs": [
    {
     "data": {
      "text/html": [
       "<div>\n",
       "<style scoped>\n",
       "    .dataframe tbody tr th:only-of-type {\n",
       "        vertical-align: middle;\n",
       "    }\n",
       "\n",
       "    .dataframe tbody tr th {\n",
       "        vertical-align: top;\n",
       "    }\n",
       "\n",
       "    .dataframe thead th {\n",
       "        text-align: right;\n",
       "    }\n",
       "</style>\n",
       "<table border=\"1\" class=\"dataframe\">\n",
       "  <thead>\n",
       "    <tr style=\"text-align: right;\">\n",
       "      <th></th>\n",
       "      <th>Unnamed: 0</th>\n",
       "      <th>operation</th>\n",
       "      <th>property_type</th>\n",
       "      <th>place_name</th>\n",
       "      <th>place_with_parent_names</th>\n",
       "      <th>country_name</th>\n",
       "      <th>state_name</th>\n",
       "      <th>geonames_id</th>\n",
       "      <th>lat-lon</th>\n",
       "      <th>lat</th>\n",
       "      <th>lon</th>\n",
       "      <th>price</th>\n",
       "      <th>currency</th>\n",
       "      <th>price_aprox_local_currency</th>\n",
       "      <th>price_aprox_usd</th>\n",
       "      <th>surface_total_in_m2</th>\n",
       "      <th>surface_covered_in_m2</th>\n",
       "      <th>price_usd_per_m2</th>\n",
       "      <th>price_per_m2</th>\n",
       "      <th>floor</th>\n",
       "      <th>rooms</th>\n",
       "      <th>expenses</th>\n",
       "      <th>properati_url</th>\n",
       "      <th>description</th>\n",
       "      <th>title</th>\n",
       "      <th>image_thumbnail</th>\n",
       "    </tr>\n",
       "  </thead>\n",
       "  <tbody>\n",
       "    <tr>\n",
       "      <th>101315</th>\n",
       "      <td>101315</td>\n",
       "      <td>sell</td>\n",
       "      <td>apartment</td>\n",
       "      <td>Barrio Norte</td>\n",
       "      <td>|Argentina|Capital Federal|Barrio Norte|</td>\n",
       "      <td>Argentina</td>\n",
       "      <td>Capital Federal</td>\n",
       "      <td>3436109.0</td>\n",
       "      <td>NaN</td>\n",
       "      <td>NaN</td>\n",
       "      <td>NaN</td>\n",
       "      <td>780200.0</td>\n",
       "      <td>USD</td>\n",
       "      <td>13766238.90</td>\n",
       "      <td>780200.0</td>\n",
       "      <td>149.0</td>\n",
       "      <td>126.0</td>\n",
       "      <td>5236.241611</td>\n",
       "      <td>6192.063492</td>\n",
       "      <td>NaN</td>\n",
       "      <td>NaN</td>\n",
       "      <td>NaN</td>\n",
       "      <td>http://www.properati.com.ar/1bp7j_venta_depart...</td>\n",
       "      <td>Espectacular torre en la mejor zona de Barrio ...</td>\n",
       "      <td>Departamento - Barrio Norte</td>\n",
       "      <td>https://thumbs4.properati.com/4/WLIfMnLBGXo-tD...</td>\n",
       "    </tr>\n",
       "    <tr>\n",
       "      <th>31828</th>\n",
       "      <td>31828</td>\n",
       "      <td>sell</td>\n",
       "      <td>house</td>\n",
       "      <td>Muñiz</td>\n",
       "      <td>|Argentina|Bs.As. G.B.A. Zona Norte|San Miguel...</td>\n",
       "      <td>Argentina</td>\n",
       "      <td>Bs.As. G.B.A. Zona Norte</td>\n",
       "      <td>3430513.0</td>\n",
       "      <td>-34.5561442758,-58.7054205313</td>\n",
       "      <td>-34.556144</td>\n",
       "      <td>-58.705421</td>\n",
       "      <td>130000.0</td>\n",
       "      <td>USD</td>\n",
       "      <td>2293785.00</td>\n",
       "      <td>130000.0</td>\n",
       "      <td>173.0</td>\n",
       "      <td>120.0</td>\n",
       "      <td>751.445087</td>\n",
       "      <td>1083.333333</td>\n",
       "      <td>NaN</td>\n",
       "      <td>NaN</td>\n",
       "      <td>NaN</td>\n",
       "      <td>http://www.properati.com.ar/1859i_venta_casa_m...</td>\n",
       "      <td>Venta de casa americana 3 ambientes en Muñiz.L...</td>\n",
       "      <td>CASA EN VENTA</td>\n",
       "      <td>https://thumbs4.properati.com/0/3IREIUs0c9Qq5C...</td>\n",
       "    </tr>\n",
       "    <tr>\n",
       "      <th>76311</th>\n",
       "      <td>76311</td>\n",
       "      <td>sell</td>\n",
       "      <td>house</td>\n",
       "      <td>Ezeiza</td>\n",
       "      <td>|Argentina|Bs.As. G.B.A. Zona Sur|Ezeiza|</td>\n",
       "      <td>Argentina</td>\n",
       "      <td>Bs.As. G.B.A. Zona Sur</td>\n",
       "      <td>3433975.0</td>\n",
       "      <td>NaN</td>\n",
       "      <td>NaN</td>\n",
       "      <td>NaN</td>\n",
       "      <td>220000.0</td>\n",
       "      <td>USD</td>\n",
       "      <td>3881790.00</td>\n",
       "      <td>220000.0</td>\n",
       "      <td>190.0</td>\n",
       "      <td>160.0</td>\n",
       "      <td>1157.894737</td>\n",
       "      <td>1375.000000</td>\n",
       "      <td>NaN</td>\n",
       "      <td>NaN</td>\n",
       "      <td>6000.0</td>\n",
       "      <td>http://www.properati.com.ar/1arfd_venta_casa_e...</td>\n",
       "      <td>Muy linda casa, cerca de la entrada, en EXCELE...</td>\n",
       "      <td>Quintas del Sol | 3dorm | Venta | Excelente Es...</td>\n",
       "      <td>https://thumbs4.properati.com/6/DDc587GnIDWEwb...</td>\n",
       "    </tr>\n",
       "    <tr>\n",
       "      <th>38435</th>\n",
       "      <td>38435</td>\n",
       "      <td>sell</td>\n",
       "      <td>apartment</td>\n",
       "      <td>Palermo Hollywood</td>\n",
       "      <td>|Argentina|Capital Federal|Palermo|Palermo Hol...</td>\n",
       "      <td>Argentina</td>\n",
       "      <td>Capital Federal</td>\n",
       "      <td>NaN</td>\n",
       "      <td>NaN</td>\n",
       "      <td>NaN</td>\n",
       "      <td>NaN</td>\n",
       "      <td>137991.0</td>\n",
       "      <td>USD</td>\n",
       "      <td>2434782.19</td>\n",
       "      <td>137991.0</td>\n",
       "      <td>39.0</td>\n",
       "      <td>39.0</td>\n",
       "      <td>3538.230769</td>\n",
       "      <td>3538.230769</td>\n",
       "      <td>NaN</td>\n",
       "      <td>1.0</td>\n",
       "      <td>NaN</td>\n",
       "      <td>http://www.properati.com.ar/18l4r_venta_depart...</td>\n",
       "      <td>QUO SWIMPROYECTADO Y DESARROLLADO POR MRA+A / ...</td>\n",
       "      <td>MONOAMBIENTE A ESTRENAR EN PALERMO HOLLYWOOD</td>\n",
       "      <td>https://thumbs4.properati.com/9/VUxkLb_ChWvR5z...</td>\n",
       "    </tr>\n",
       "    <tr>\n",
       "      <th>79673</th>\n",
       "      <td>79673</td>\n",
       "      <td>sell</td>\n",
       "      <td>apartment</td>\n",
       "      <td>Caballito</td>\n",
       "      <td>|Argentina|Capital Federal|Caballito|</td>\n",
       "      <td>Argentina</td>\n",
       "      <td>Capital Federal</td>\n",
       "      <td>3435874.0</td>\n",
       "      <td>-34.6278237725,-58.4482772737</td>\n",
       "      <td>-34.627824</td>\n",
       "      <td>-58.448277</td>\n",
       "      <td>459500.0</td>\n",
       "      <td>USD</td>\n",
       "      <td>8107647.75</td>\n",
       "      <td>459500.0</td>\n",
       "      <td>125.0</td>\n",
       "      <td>106.0</td>\n",
       "      <td>3676.000000</td>\n",
       "      <td>4334.905660</td>\n",
       "      <td>NaN</td>\n",
       "      <td>NaN</td>\n",
       "      <td>9500.0</td>\n",
       "      <td>http://www.properati.com.ar/1avu6_venta_depart...</td>\n",
       "      <td>Excelente semi-piso de 4 ambientes al contra-f...</td>\n",
       "      <td>Departamento - 4 ambientes - Caballito - Venta</td>\n",
       "      <td>https://thumbs4.properati.com/1/JvhhgtM2rL1K3e...</td>\n",
       "    </tr>\n",
       "  </tbody>\n",
       "</table>\n",
       "</div>"
      ],
      "text/plain": [
       "        Unnamed: 0 operation property_type         place_name  \\\n",
       "101315      101315      sell     apartment       Barrio Norte   \n",
       "31828        31828      sell         house              Muñiz   \n",
       "76311        76311      sell         house             Ezeiza   \n",
       "38435        38435      sell     apartment  Palermo Hollywood   \n",
       "79673        79673      sell     apartment          Caballito   \n",
       "\n",
       "                                  place_with_parent_names country_name  \\\n",
       "101315           |Argentina|Capital Federal|Barrio Norte|    Argentina   \n",
       "31828   |Argentina|Bs.As. G.B.A. Zona Norte|San Miguel...    Argentina   \n",
       "76311           |Argentina|Bs.As. G.B.A. Zona Sur|Ezeiza|    Argentina   \n",
       "38435   |Argentina|Capital Federal|Palermo|Palermo Hol...    Argentina   \n",
       "79673               |Argentina|Capital Federal|Caballito|    Argentina   \n",
       "\n",
       "                      state_name  geonames_id                        lat-lon  \\\n",
       "101315           Capital Federal    3436109.0                            NaN   \n",
       "31828   Bs.As. G.B.A. Zona Norte    3430513.0  -34.5561442758,-58.7054205313   \n",
       "76311     Bs.As. G.B.A. Zona Sur    3433975.0                            NaN   \n",
       "38435            Capital Federal          NaN                            NaN   \n",
       "79673            Capital Federal    3435874.0  -34.6278237725,-58.4482772737   \n",
       "\n",
       "              lat        lon     price currency  price_aprox_local_currency  \\\n",
       "101315        NaN        NaN  780200.0      USD                 13766238.90   \n",
       "31828  -34.556144 -58.705421  130000.0      USD                  2293785.00   \n",
       "76311         NaN        NaN  220000.0      USD                  3881790.00   \n",
       "38435         NaN        NaN  137991.0      USD                  2434782.19   \n",
       "79673  -34.627824 -58.448277  459500.0      USD                  8107647.75   \n",
       "\n",
       "        price_aprox_usd  surface_total_in_m2  surface_covered_in_m2  \\\n",
       "101315         780200.0                149.0                  126.0   \n",
       "31828          130000.0                173.0                  120.0   \n",
       "76311          220000.0                190.0                  160.0   \n",
       "38435          137991.0                 39.0                   39.0   \n",
       "79673          459500.0                125.0                  106.0   \n",
       "\n",
       "        price_usd_per_m2  price_per_m2  floor  rooms  expenses  \\\n",
       "101315       5236.241611   6192.063492    NaN    NaN       NaN   \n",
       "31828         751.445087   1083.333333    NaN    NaN       NaN   \n",
       "76311        1157.894737   1375.000000    NaN    NaN    6000.0   \n",
       "38435        3538.230769   3538.230769    NaN    1.0       NaN   \n",
       "79673        3676.000000   4334.905660    NaN    NaN    9500.0   \n",
       "\n",
       "                                            properati_url  \\\n",
       "101315  http://www.properati.com.ar/1bp7j_venta_depart...   \n",
       "31828   http://www.properati.com.ar/1859i_venta_casa_m...   \n",
       "76311   http://www.properati.com.ar/1arfd_venta_casa_e...   \n",
       "38435   http://www.properati.com.ar/18l4r_venta_depart...   \n",
       "79673   http://www.properati.com.ar/1avu6_venta_depart...   \n",
       "\n",
       "                                              description  \\\n",
       "101315  Espectacular torre en la mejor zona de Barrio ...   \n",
       "31828   Venta de casa americana 3 ambientes en Muñiz.L...   \n",
       "76311   Muy linda casa, cerca de la entrada, en EXCELE...   \n",
       "38435   QUO SWIMPROYECTADO Y DESARROLLADO POR MRA+A / ...   \n",
       "79673   Excelente semi-piso de 4 ambientes al contra-f...   \n",
       "\n",
       "                                                    title  \\\n",
       "101315                        Departamento - Barrio Norte   \n",
       "31828                                       CASA EN VENTA   \n",
       "76311   Quintas del Sol | 3dorm | Venta | Excelente Es...   \n",
       "38435        MONOAMBIENTE A ESTRENAR EN PALERMO HOLLYWOOD   \n",
       "79673      Departamento - 4 ambientes - Caballito - Venta   \n",
       "\n",
       "                                          image_thumbnail  \n",
       "101315  https://thumbs4.properati.com/4/WLIfMnLBGXo-tD...  \n",
       "31828   https://thumbs4.properati.com/0/3IREIUs0c9Qq5C...  \n",
       "76311   https://thumbs4.properati.com/6/DDc587GnIDWEwb...  \n",
       "38435   https://thumbs4.properati.com/9/VUxkLb_ChWvR5z...  \n",
       "79673   https://thumbs4.properati.com/1/JvhhgtM2rL1K3e...  "
      ]
     },
     "execution_count": 574,
     "metadata": {},
     "output_type": "execute_result"
    }
   ],
   "source": [
    "# Definimos la ruta de la información.\n",
    "data_propiedades = \"Data/properati.csv\"\n",
    "\n",
    "# Leemos los datos del archivo\n",
    "data = pd.read_csv(data_propiedades, sep=\",\", encoding=\"UTF-8\")\n",
    "\n",
    "# Chequeamos que los datos se hayan importado correctamente\n",
    "data.sample(5)"
   ]
  },
  {
   "cell_type": "code",
   "execution_count": 575,
   "metadata": {},
   "outputs": [
    {
     "data": {
      "text/plain": [
       "(121220, 26)"
      ]
     },
     "execution_count": 575,
     "metadata": {},
     "output_type": "execute_result"
    }
   ],
   "source": [
    "# Chequeamos cantidad de registros y cantidad de columnas\n",
    "data.shape"
   ]
  },
  {
   "cell_type": "markdown",
   "metadata": {},
   "source": [
    "<h2>Selección de los datos</h2>"
   ]
  },
  {
   "cell_type": "markdown",
   "metadata": {},
   "source": [
    "En base a los análisis previos realizados sobre el Dataset, tomaremos los datos de CABA únicamente para realizar un modelo de machine learning. "
   ]
  },
  {
   "cell_type": "code",
   "execution_count": 576,
   "metadata": {},
   "outputs": [
    {
     "data": {
      "text/html": [
       "<div>\n",
       "<style scoped>\n",
       "    .dataframe tbody tr th:only-of-type {\n",
       "        vertical-align: middle;\n",
       "    }\n",
       "\n",
       "    .dataframe tbody tr th {\n",
       "        vertical-align: top;\n",
       "    }\n",
       "\n",
       "    .dataframe thead th {\n",
       "        text-align: right;\n",
       "    }\n",
       "</style>\n",
       "<table border=\"1\" class=\"dataframe\">\n",
       "  <thead>\n",
       "    <tr style=\"text-align: right;\">\n",
       "      <th></th>\n",
       "      <th>Unnamed: 0</th>\n",
       "      <th>operation</th>\n",
       "      <th>property_type</th>\n",
       "      <th>place_name</th>\n",
       "      <th>place_with_parent_names</th>\n",
       "      <th>country_name</th>\n",
       "      <th>state_name</th>\n",
       "      <th>geonames_id</th>\n",
       "      <th>lat-lon</th>\n",
       "      <th>lat</th>\n",
       "      <th>lon</th>\n",
       "      <th>price</th>\n",
       "      <th>currency</th>\n",
       "      <th>price_aprox_local_currency</th>\n",
       "      <th>price_aprox_usd</th>\n",
       "      <th>surface_total_in_m2</th>\n",
       "      <th>surface_covered_in_m2</th>\n",
       "      <th>price_usd_per_m2</th>\n",
       "      <th>price_per_m2</th>\n",
       "      <th>floor</th>\n",
       "      <th>rooms</th>\n",
       "      <th>expenses</th>\n",
       "      <th>properati_url</th>\n",
       "      <th>description</th>\n",
       "      <th>title</th>\n",
       "      <th>image_thumbnail</th>\n",
       "    </tr>\n",
       "  </thead>\n",
       "  <tbody>\n",
       "    <tr>\n",
       "      <th>0</th>\n",
       "      <td>0</td>\n",
       "      <td>sell</td>\n",
       "      <td>PH</td>\n",
       "      <td>Mataderos</td>\n",
       "      <td>|Argentina|Capital Federal|Mataderos|</td>\n",
       "      <td>Argentina</td>\n",
       "      <td>Capital Federal</td>\n",
       "      <td>3430787.0</td>\n",
       "      <td>-34.6618237,-58.5088387</td>\n",
       "      <td>-34.661824</td>\n",
       "      <td>-58.508839</td>\n",
       "      <td>62000.0</td>\n",
       "      <td>USD</td>\n",
       "      <td>1093959.0</td>\n",
       "      <td>62000.0</td>\n",
       "      <td>55.0</td>\n",
       "      <td>40.0</td>\n",
       "      <td>1127.272727</td>\n",
       "      <td>1550.000000</td>\n",
       "      <td>NaN</td>\n",
       "      <td>NaN</td>\n",
       "      <td>NaN</td>\n",
       "      <td>http://www.properati.com.ar/15bo8_venta_ph_mat...</td>\n",
       "      <td>2 AMBIENTES TIPO CASA PLANTA BAJA POR PASILLO,...</td>\n",
       "      <td>2 AMB TIPO CASA SIN EXPENSAS EN PB</td>\n",
       "      <td>https://thumbs4.properati.com/8/BluUYiHJLhgIIK...</td>\n",
       "    </tr>\n",
       "    <tr>\n",
       "      <th>2</th>\n",
       "      <td>2</td>\n",
       "      <td>sell</td>\n",
       "      <td>apartment</td>\n",
       "      <td>Mataderos</td>\n",
       "      <td>|Argentina|Capital Federal|Mataderos|</td>\n",
       "      <td>Argentina</td>\n",
       "      <td>Capital Federal</td>\n",
       "      <td>3430787.0</td>\n",
       "      <td>-34.6522615,-58.5229825</td>\n",
       "      <td>-34.652262</td>\n",
       "      <td>-58.522982</td>\n",
       "      <td>72000.0</td>\n",
       "      <td>USD</td>\n",
       "      <td>1270404.0</td>\n",
       "      <td>72000.0</td>\n",
       "      <td>55.0</td>\n",
       "      <td>55.0</td>\n",
       "      <td>1309.090909</td>\n",
       "      <td>1309.090909</td>\n",
       "      <td>NaN</td>\n",
       "      <td>NaN</td>\n",
       "      <td>NaN</td>\n",
       "      <td>http://www.properati.com.ar/15bod_venta_depart...</td>\n",
       "      <td>2 AMBIENTES 3ER PISO LATERAL LIVING COMEDOR AM...</td>\n",
       "      <td>2 AMB 3ER PISO CON ASCENSOR APTO CREDITO</td>\n",
       "      <td>https://thumbs4.properati.com/5/SXKr34F_IwG3W_...</td>\n",
       "    </tr>\n",
       "    <tr>\n",
       "      <th>3</th>\n",
       "      <td>3</td>\n",
       "      <td>sell</td>\n",
       "      <td>PH</td>\n",
       "      <td>Liniers</td>\n",
       "      <td>|Argentina|Capital Federal|Liniers|</td>\n",
       "      <td>Argentina</td>\n",
       "      <td>Capital Federal</td>\n",
       "      <td>3431333.0</td>\n",
       "      <td>-34.6477969,-58.5164244</td>\n",
       "      <td>-34.647797</td>\n",
       "      <td>-58.516424</td>\n",
       "      <td>95000.0</td>\n",
       "      <td>USD</td>\n",
       "      <td>1676227.5</td>\n",
       "      <td>95000.0</td>\n",
       "      <td>NaN</td>\n",
       "      <td>NaN</td>\n",
       "      <td>NaN</td>\n",
       "      <td>NaN</td>\n",
       "      <td>NaN</td>\n",
       "      <td>NaN</td>\n",
       "      <td>NaN</td>\n",
       "      <td>http://www.properati.com.ar/15boh_venta_ph_lin...</td>\n",
       "      <td>PH 3 ambientes con patio. Hay 3 deptos en lote...</td>\n",
       "      <td>PH 3 amb. cfte. reciclado</td>\n",
       "      <td>https://thumbs4.properati.com/3/DgIfX-85Mog5SP...</td>\n",
       "    </tr>\n",
       "  </tbody>\n",
       "</table>\n",
       "</div>"
      ],
      "text/plain": [
       "   Unnamed: 0 operation property_type place_name  \\\n",
       "0           0      sell            PH  Mataderos   \n",
       "2           2      sell     apartment  Mataderos   \n",
       "3           3      sell            PH    Liniers   \n",
       "\n",
       "                 place_with_parent_names country_name       state_name  \\\n",
       "0  |Argentina|Capital Federal|Mataderos|    Argentina  Capital Federal   \n",
       "2  |Argentina|Capital Federal|Mataderos|    Argentina  Capital Federal   \n",
       "3    |Argentina|Capital Federal|Liniers|    Argentina  Capital Federal   \n",
       "\n",
       "   geonames_id                  lat-lon        lat        lon    price  \\\n",
       "0    3430787.0  -34.6618237,-58.5088387 -34.661824 -58.508839  62000.0   \n",
       "2    3430787.0  -34.6522615,-58.5229825 -34.652262 -58.522982  72000.0   \n",
       "3    3431333.0  -34.6477969,-58.5164244 -34.647797 -58.516424  95000.0   \n",
       "\n",
       "  currency  price_aprox_local_currency  price_aprox_usd  surface_total_in_m2  \\\n",
       "0      USD                   1093959.0          62000.0                 55.0   \n",
       "2      USD                   1270404.0          72000.0                 55.0   \n",
       "3      USD                   1676227.5          95000.0                  NaN   \n",
       "\n",
       "   surface_covered_in_m2  price_usd_per_m2  price_per_m2  floor  rooms  \\\n",
       "0                   40.0       1127.272727   1550.000000    NaN    NaN   \n",
       "2                   55.0       1309.090909   1309.090909    NaN    NaN   \n",
       "3                    NaN               NaN           NaN    NaN    NaN   \n",
       "\n",
       "   expenses                                      properati_url  \\\n",
       "0       NaN  http://www.properati.com.ar/15bo8_venta_ph_mat...   \n",
       "2       NaN  http://www.properati.com.ar/15bod_venta_depart...   \n",
       "3       NaN  http://www.properati.com.ar/15boh_venta_ph_lin...   \n",
       "\n",
       "                                         description  \\\n",
       "0  2 AMBIENTES TIPO CASA PLANTA BAJA POR PASILLO,...   \n",
       "2  2 AMBIENTES 3ER PISO LATERAL LIVING COMEDOR AM...   \n",
       "3  PH 3 ambientes con patio. Hay 3 deptos en lote...   \n",
       "\n",
       "                                      title  \\\n",
       "0        2 AMB TIPO CASA SIN EXPENSAS EN PB   \n",
       "2  2 AMB 3ER PISO CON ASCENSOR APTO CREDITO   \n",
       "3              PH 3 amb. cfte. reciclado      \n",
       "\n",
       "                                     image_thumbnail  \n",
       "0  https://thumbs4.properati.com/8/BluUYiHJLhgIIK...  \n",
       "2  https://thumbs4.properati.com/5/SXKr34F_IwG3W_...  \n",
       "3  https://thumbs4.properati.com/3/DgIfX-85Mog5SP...  "
      ]
     },
     "execution_count": 576,
     "metadata": {},
     "output_type": "execute_result"
    }
   ],
   "source": [
    "# Creamos una máscara y la aplicamos al dataframe anterior para traer los registros que necesitamos\n",
    "data_caba_mask = data.state_name == 'Capital Federal' \n",
    "data_caba = data.loc[data_caba_mask, :]\n",
    "\n",
    "# Chequeamos cómo quedaron los datos\n",
    "data_caba.head(3)"
   ]
  },
  {
   "cell_type": "code",
   "execution_count": 577,
   "metadata": {},
   "outputs": [
    {
     "data": {
      "text/plain": [
       "(32316, 26)"
      ]
     },
     "execution_count": 577,
     "metadata": {},
     "output_type": "execute_result"
    }
   ],
   "source": [
    "data_caba.shape"
   ]
  },
  {
   "cell_type": "code",
   "execution_count": 578,
   "metadata": {},
   "outputs": [
    {
     "data": {
      "text/plain": [
       "Unnamed: 0                      int64\n",
       "operation                      object\n",
       "property_type                  object\n",
       "place_name                     object\n",
       "place_with_parent_names        object\n",
       "country_name                   object\n",
       "state_name                     object\n",
       "geonames_id                   float64\n",
       "lat-lon                        object\n",
       "lat                           float64\n",
       "lon                           float64\n",
       "price                         float64\n",
       "currency                       object\n",
       "price_aprox_local_currency    float64\n",
       "price_aprox_usd               float64\n",
       "surface_total_in_m2           float64\n",
       "surface_covered_in_m2         float64\n",
       "price_usd_per_m2              float64\n",
       "price_per_m2                  float64\n",
       "floor                         float64\n",
       "rooms                         float64\n",
       "expenses                      float64\n",
       "properati_url                  object\n",
       "description                    object\n",
       "title                          object\n",
       "image_thumbnail                object\n",
       "dtype: object"
      ]
     },
     "execution_count": 578,
     "metadata": {},
     "output_type": "execute_result"
    }
   ],
   "source": [
    "data_caba.dtypes"
   ]
  },
  {
   "cell_type": "markdown",
   "metadata": {},
   "source": [
    "<a id=\"section_dataset_nulos\"></a> \n",
    "<h3>Cálculo de cantidad de nulos</h3>\n",
    "\n",
    "[volver a TOC](#section_toc)"
   ]
  },
  {
   "cell_type": "code",
   "execution_count": 579,
   "metadata": {},
   "outputs": [],
   "source": [
    "# # Calculamos cantidad de nulos por campo\n",
    "# cant_nulos_por_campo = data_caba.isnull().sum()\n",
    "# cant_nulos_por_campo"
   ]
  },
  {
   "cell_type": "code",
   "execution_count": 580,
   "metadata": {},
   "outputs": [],
   "source": [
    "# # Calculamos porcentaje de nulos por campo\n",
    "# cant_registros = data_caba.shape[0]\n",
    "# print(f'Cantidad Original de registros: {cant_registros}\\n')\n",
    "# #len(data.index) es lo mismo\n",
    "\n",
    "# porc_nulos_por_campo = np.round((100 * cant_nulos_por_campo / cant_registros),2)\n",
    "# print(porc_nulos_por_campo)"
   ]
  },
  {
   "cell_type": "markdown",
   "metadata": {},
   "source": [
    "<h4> Distribución de <strong>property_type</strong>"
   ]
  },
  {
   "cell_type": "code",
   "execution_count": 581,
   "metadata": {},
   "outputs": [
    {
     "name": "stdout",
     "output_type": "stream",
     "text": [
      "property_type: \n",
      "apartment    27037\n",
      "house         2087\n",
      "PH            1828\n",
      "store         1364\n",
      "Name: property_type, dtype: int64\n"
     ]
    }
   ],
   "source": [
    "# Contamos cantidad de valores de cada elemento en property_type y operation para ver distribución\n",
    "property_type_count = data_caba.property_type.value_counts()\n",
    "print(f'property_type: \\n{property_type_count}')"
   ]
  },
  {
   "cell_type": "code",
   "execution_count": 582,
   "metadata": {},
   "outputs": [],
   "source": [
    "# # Convertimos el count anterior en las categorías del gráfico\n",
    "# categories = np.array(property_type_count.index)\n",
    "\n",
    "# cord_x = data_caba.property_type.value_counts() / data_caba.shape[0]\n",
    "# palette = ['#440154', '#29788E', '#22A784', '#FDE724']\n",
    "\n",
    "# p = figure(x_range=categories, plot_width=500, plot_height=200)\n",
    "# p.vbar(x=categories, top=cord_x, width=0.6,\n",
    "#        color=palette)\n",
    "\n",
    "# p.yaxis.formatter = NumeralTickFormatter(format='0 %')\n",
    "# output_notebook(resources=INLINE)\n",
    "# show(p)"
   ]
  },
  {
   "cell_type": "markdown",
   "metadata": {},
   "source": [
    "<h4>Distribución de <strong>currency</strong></h4>"
   ]
  },
  {
   "cell_type": "code",
   "execution_count": 583,
   "metadata": {},
   "outputs": [
    {
     "data": {
      "text/plain": [
       "USD    27826\n",
       "ARS     1190\n",
       "PEN        2\n",
       "Name: currency, dtype: int64"
      ]
     },
     "execution_count": 583,
     "metadata": {},
     "output_type": "execute_result"
    }
   ],
   "source": [
    "data_caba.currency.value_counts()"
   ]
  },
  {
   "cell_type": "markdown",
   "metadata": {},
   "source": [
    "<h4>Distribución de <strong>barrio</strong></h4>"
   ]
  },
  {
   "cell_type": "code",
   "execution_count": 584,
   "metadata": {},
   "outputs": [
    {
     "data": {
      "text/plain": [
       "Belgrano                2992\n",
       "Palermo                 2885\n",
       "Caballito               2273\n",
       "Villa Urquiza           1629\n",
       "Recoleta                1547\n",
       "Flores                  1354\n",
       "Villa Crespo            1331\n",
       "Capital Federal         1297\n",
       "San Telmo               1216\n",
       "Almagro                 1165\n",
       "Barrio Norte            1140\n",
       "Boedo                    890\n",
       "Nuñez                    778\n",
       "Balvanera                667\n",
       "Puerto Madero            647\n",
       "San Cristobal            614\n",
       "Saavedra                 542\n",
       "Monserrat                538\n",
       "Palermo Hollywood        532\n",
       "Floresta                 516\n",
       "Villa del Parque         488\n",
       "Villa Luro               432\n",
       "Barracas                 425\n",
       "Villa Devoto             420\n",
       "Mataderos                418\n",
       "Liniers                  408\n",
       "Palermo Soho             394\n",
       "Colegiales               352\n",
       "Parque Patricios         322\n",
       "Congreso                 304\n",
       "Coghlan                  259\n",
       "Retiro                   248\n",
       "Palermo Chico            232\n",
       "Chacarita                227\n",
       "Centro / Microcentro     223\n",
       "Boca                     223\n",
       "Constitución             211\n",
       "Villa Lugano             205\n",
       "Once                     198\n",
       "San Nicolás              187\n",
       "Villa Pueyrredón         175\n",
       "Paternal                 173\n",
       "Parque Chacabuco         146\n",
       "Las Cañitas              143\n",
       "Abasto                   113\n",
       "Tribunales                98\n",
       "Villa Ortuzar             86\n",
       "Monte Castro              79\n",
       "Parque Centenario         68\n",
       "Pompeya                   64\n",
       "Villa Santa Rita          57\n",
       "Parque Avellaneda         56\n",
       "Versalles                 55\n",
       "Villa General Mitre       48\n",
       "Parque Chas               44\n",
       "Agronomía                 41\n",
       "Palermo Viejo             40\n",
       "Velez Sarsfield           39\n",
       "Villa Real                37\n",
       "Villa Soldati             15\n",
       "Villa Riachuelo            6\n",
       "Catalinas                  4\n",
       "Name: place_name, dtype: int64"
      ]
     },
     "execution_count": 584,
     "metadata": {},
     "output_type": "execute_result"
    }
   ],
   "source": [
    "place_name_count = data_caba.place_name.value_counts()\n",
    "# place_name_count.sort_index()\n",
    "place_name_count"
   ]
  },
  {
   "cell_type": "markdown",
   "metadata": {},
   "source": [
    "<h2>Limpieza de Datos</h2>"
   ]
  },
  {
   "cell_type": "markdown",
   "metadata": {},
   "source": [
    "<a id=\"section_dataset_drop\"></a> \n",
    "<h3> Drop de columnas innecesarias </h3>\n",
    "\n",
    "[volver a TOC](#section_toc)"
   ]
  },
  {
   "cell_type": "code",
   "execution_count": 585,
   "metadata": {},
   "outputs": [
    {
     "data": {
      "text/html": [
       "<div>\n",
       "<style scoped>\n",
       "    .dataframe tbody tr th:only-of-type {\n",
       "        vertical-align: middle;\n",
       "    }\n",
       "\n",
       "    .dataframe tbody tr th {\n",
       "        vertical-align: top;\n",
       "    }\n",
       "\n",
       "    .dataframe thead th {\n",
       "        text-align: right;\n",
       "    }\n",
       "</style>\n",
       "<table border=\"1\" class=\"dataframe\">\n",
       "  <thead>\n",
       "    <tr style=\"text-align: right;\">\n",
       "      <th></th>\n",
       "      <th>property_type</th>\n",
       "      <th>place_name</th>\n",
       "      <th>price</th>\n",
       "      <th>currency</th>\n",
       "      <th>price_aprox_local_currency</th>\n",
       "      <th>price_aprox_usd</th>\n",
       "      <th>surface_total_in_m2</th>\n",
       "      <th>surface_covered_in_m2</th>\n",
       "      <th>price_usd_per_m2</th>\n",
       "      <th>price_per_m2</th>\n",
       "      <th>floor</th>\n",
       "      <th>rooms</th>\n",
       "      <th>description</th>\n",
       "    </tr>\n",
       "  </thead>\n",
       "  <tbody>\n",
       "    <tr>\n",
       "      <th>0</th>\n",
       "      <td>PH</td>\n",
       "      <td>Mataderos</td>\n",
       "      <td>62000.0</td>\n",
       "      <td>USD</td>\n",
       "      <td>1093959.0</td>\n",
       "      <td>62000.0</td>\n",
       "      <td>55.0</td>\n",
       "      <td>40.0</td>\n",
       "      <td>1127.272727</td>\n",
       "      <td>1550.000000</td>\n",
       "      <td>NaN</td>\n",
       "      <td>NaN</td>\n",
       "      <td>2 AMBIENTES TIPO CASA PLANTA BAJA POR PASILLO,...</td>\n",
       "    </tr>\n",
       "    <tr>\n",
       "      <th>2</th>\n",
       "      <td>apartment</td>\n",
       "      <td>Mataderos</td>\n",
       "      <td>72000.0</td>\n",
       "      <td>USD</td>\n",
       "      <td>1270404.0</td>\n",
       "      <td>72000.0</td>\n",
       "      <td>55.0</td>\n",
       "      <td>55.0</td>\n",
       "      <td>1309.090909</td>\n",
       "      <td>1309.090909</td>\n",
       "      <td>NaN</td>\n",
       "      <td>NaN</td>\n",
       "      <td>2 AMBIENTES 3ER PISO LATERAL LIVING COMEDOR AM...</td>\n",
       "    </tr>\n",
       "    <tr>\n",
       "      <th>3</th>\n",
       "      <td>PH</td>\n",
       "      <td>Liniers</td>\n",
       "      <td>95000.0</td>\n",
       "      <td>USD</td>\n",
       "      <td>1676227.5</td>\n",
       "      <td>95000.0</td>\n",
       "      <td>NaN</td>\n",
       "      <td>NaN</td>\n",
       "      <td>NaN</td>\n",
       "      <td>NaN</td>\n",
       "      <td>NaN</td>\n",
       "      <td>NaN</td>\n",
       "      <td>PH 3 ambientes con patio. Hay 3 deptos en lote...</td>\n",
       "    </tr>\n",
       "    <tr>\n",
       "      <th>7</th>\n",
       "      <td>apartment</td>\n",
       "      <td>Belgrano</td>\n",
       "      <td>138000.0</td>\n",
       "      <td>USD</td>\n",
       "      <td>2434941.0</td>\n",
       "      <td>138000.0</td>\n",
       "      <td>45.0</td>\n",
       "      <td>40.0</td>\n",
       "      <td>3066.666667</td>\n",
       "      <td>3450.000000</td>\n",
       "      <td>NaN</td>\n",
       "      <td>NaN</td>\n",
       "      <td>EXCELENTE MONOAMBIENTE A ESTRENAR AMPLIO SUPER...</td>\n",
       "    </tr>\n",
       "    <tr>\n",
       "      <th>8</th>\n",
       "      <td>apartment</td>\n",
       "      <td>Belgrano</td>\n",
       "      <td>195000.0</td>\n",
       "      <td>USD</td>\n",
       "      <td>3440677.5</td>\n",
       "      <td>195000.0</td>\n",
       "      <td>65.0</td>\n",
       "      <td>60.0</td>\n",
       "      <td>3000.000000</td>\n",
       "      <td>3250.000000</td>\n",
       "      <td>NaN</td>\n",
       "      <td>NaN</td>\n",
       "      <td>EXCELENTE DOS AMBIENTES  ESTRENAR AMPLIO SUPER...</td>\n",
       "    </tr>\n",
       "  </tbody>\n",
       "</table>\n",
       "</div>"
      ],
      "text/plain": [
       "  property_type place_name     price currency  price_aprox_local_currency  \\\n",
       "0            PH  Mataderos   62000.0      USD                   1093959.0   \n",
       "2     apartment  Mataderos   72000.0      USD                   1270404.0   \n",
       "3            PH    Liniers   95000.0      USD                   1676227.5   \n",
       "7     apartment   Belgrano  138000.0      USD                   2434941.0   \n",
       "8     apartment   Belgrano  195000.0      USD                   3440677.5   \n",
       "\n",
       "   price_aprox_usd  surface_total_in_m2  surface_covered_in_m2  \\\n",
       "0          62000.0                 55.0                   40.0   \n",
       "2          72000.0                 55.0                   55.0   \n",
       "3          95000.0                  NaN                    NaN   \n",
       "7         138000.0                 45.0                   40.0   \n",
       "8         195000.0                 65.0                   60.0   \n",
       "\n",
       "   price_usd_per_m2  price_per_m2  floor  rooms  \\\n",
       "0       1127.272727   1550.000000    NaN    NaN   \n",
       "2       1309.090909   1309.090909    NaN    NaN   \n",
       "3               NaN           NaN    NaN    NaN   \n",
       "7       3066.666667   3450.000000    NaN    NaN   \n",
       "8       3000.000000   3250.000000    NaN    NaN   \n",
       "\n",
       "                                         description  \n",
       "0  2 AMBIENTES TIPO CASA PLANTA BAJA POR PASILLO,...  \n",
       "2  2 AMBIENTES 3ER PISO LATERAL LIVING COMEDOR AM...  \n",
       "3  PH 3 ambientes con patio. Hay 3 deptos en lote...  \n",
       "7  EXCELENTE MONOAMBIENTE A ESTRENAR AMPLIO SUPER...  \n",
       "8  EXCELENTE DOS AMBIENTES  ESTRENAR AMPLIO SUPER...  "
      ]
     },
     "execution_count": 585,
     "metadata": {},
     "output_type": "execute_result"
    }
   ],
   "source": [
    "# Creamos la lista de columnas a filtrar\n",
    "drop_columns = ['Unnamed: 0', 'operation', 'place_with_parent_names', 'country_name', 'state_name', 'geonames_id', 'lat-lon','lat', 'lon',\n",
    "               'expenses','properati_url','title', 'image_thumbnail']\n",
    "\n",
    "data_caba_clean = data_caba.drop(drop_columns, axis=1)\n",
    "data_caba_clean.head(5)"
   ]
  },
  {
   "cell_type": "markdown",
   "metadata": {},
   "source": [
    "\n",
    "<h3> Limpiamos <strong>currency</strong> </h3>\n",
    "\n",
    "[volver a TOC](#section_toc)"
   ]
  },
  {
   "cell_type": "code",
   "execution_count": 586,
   "metadata": {},
   "outputs": [
    {
     "data": {
      "text/html": [
       "<div>\n",
       "<style scoped>\n",
       "    .dataframe tbody tr th:only-of-type {\n",
       "        vertical-align: middle;\n",
       "    }\n",
       "\n",
       "    .dataframe tbody tr th {\n",
       "        vertical-align: top;\n",
       "    }\n",
       "\n",
       "    .dataframe thead th {\n",
       "        text-align: right;\n",
       "    }\n",
       "</style>\n",
       "<table border=\"1\" class=\"dataframe\">\n",
       "  <thead>\n",
       "    <tr style=\"text-align: right;\">\n",
       "      <th></th>\n",
       "      <th>property_type</th>\n",
       "      <th>place_name</th>\n",
       "      <th>price</th>\n",
       "      <th>currency</th>\n",
       "      <th>price_aprox_local_currency</th>\n",
       "      <th>price_aprox_usd</th>\n",
       "      <th>surface_total_in_m2</th>\n",
       "      <th>surface_covered_in_m2</th>\n",
       "      <th>price_usd_per_m2</th>\n",
       "      <th>price_per_m2</th>\n",
       "      <th>floor</th>\n",
       "      <th>rooms</th>\n",
       "      <th>description</th>\n",
       "    </tr>\n",
       "  </thead>\n",
       "  <tbody>\n",
       "    <tr>\n",
       "      <th>50387</th>\n",
       "      <td>apartment</td>\n",
       "      <td>Capital Federal</td>\n",
       "      <td>380000.0</td>\n",
       "      <td>PEN</td>\n",
       "      <td>2066864.90</td>\n",
       "      <td>117139.33</td>\n",
       "      <td>NaN</td>\n",
       "      <td>NaN</td>\n",
       "      <td>NaN</td>\n",
       "      <td>NaN</td>\n",
       "      <td>NaN</td>\n",
       "      <td>NaN</td>\n",
       "      <td>Ref.: 55:PREVENTA ::: OPORTUNIDAD ::: Dúplex a...</td>\n",
       "    </tr>\n",
       "    <tr>\n",
       "      <th>50388</th>\n",
       "      <td>apartment</td>\n",
       "      <td>Capital Federal</td>\n",
       "      <td>950000.0</td>\n",
       "      <td>PEN</td>\n",
       "      <td>5167162.35</td>\n",
       "      <td>292848.33</td>\n",
       "      <td>NaN</td>\n",
       "      <td>NaN</td>\n",
       "      <td>NaN</td>\n",
       "      <td>NaN</td>\n",
       "      <td>NaN</td>\n",
       "      <td>NaN</td>\n",
       "      <td>Ref.: 56Duplex en venta de 1 dormitorio con ap...</td>\n",
       "    </tr>\n",
       "  </tbody>\n",
       "</table>\n",
       "</div>"
      ],
      "text/plain": [
       "      property_type       place_name     price currency  \\\n",
       "50387     apartment  Capital Federal  380000.0      PEN   \n",
       "50388     apartment  Capital Federal  950000.0      PEN   \n",
       "\n",
       "       price_aprox_local_currency  price_aprox_usd  surface_total_in_m2  \\\n",
       "50387                  2066864.90        117139.33                  NaN   \n",
       "50388                  5167162.35        292848.33                  NaN   \n",
       "\n",
       "       surface_covered_in_m2  price_usd_per_m2  price_per_m2  floor  rooms  \\\n",
       "50387                    NaN               NaN           NaN    NaN    NaN   \n",
       "50388                    NaN               NaN           NaN    NaN    NaN   \n",
       "\n",
       "                                             description  \n",
       "50387  Ref.: 55:PREVENTA ::: OPORTUNIDAD ::: Dúplex a...  \n",
       "50388  Ref.: 56Duplex en venta de 1 dormitorio con ap...  "
      ]
     },
     "execution_count": 586,
     "metadata": {},
     "output_type": "execute_result"
    }
   ],
   "source": [
    "# Creamos una mask para traer los valores en monedas que no son USD ni ARS.\n",
    "currency_OTHER_CURRENCY_mask = (data_caba_clean.currency == 'PEN') | (data_caba_clean.currency == 'UYU')\n",
    "# Observamos esos registros\n",
    "data_caba_clean.loc[currency_OTHER_CURRENCY_mask, :]"
   ]
  },
  {
   "cell_type": "code",
   "execution_count": 587,
   "metadata": {},
   "outputs": [
    {
     "name": "stdout",
     "output_type": "stream",
     "text": [
      "Cantidad de registros original - registro actuales: 2\n"
     ]
    }
   ],
   "source": [
    "# Hacemos drop de esos registros y chequeamos la diferencia entre cantidad original y actual\n",
    "cant_registros = data_caba_clean.shape[0]\n",
    "# Dropeamos las moneda PEN y UYU ## OJO la moneda UYU era de una propiedad en Mendoza.\n",
    "data_caba_clean.drop(data_caba_clean.loc[currency_OTHER_CURRENCY_mask, :].index, inplace = True) \n",
    "# Verificamos.\n",
    "print(f'Cantidad de registros original - registro actuales: {cant_registros - data_caba_clean.shape[0]}')"
   ]
  },
  {
   "cell_type": "markdown",
   "metadata": {},
   "source": [
    "<h3> Limpiamos <strong>place_name</strong> </h3>\n",
    "\n",
    "[volver a TOC](#section_toc)"
   ]
  },
  {
   "cell_type": "code",
   "execution_count": 588,
   "metadata": {},
   "outputs": [
    {
     "data": {
      "text/plain": [
       "(31019, 13)"
      ]
     },
     "execution_count": 588,
     "metadata": {},
     "output_type": "execute_result"
    }
   ],
   "source": [
    "# Dropeamos los de Capital Federal\n",
    "capi_mask = data_caba_clean.place_name == 'Capital Federal'\n",
    "data_caba_clean.drop(data_caba_clean.loc[capi_mask, :].index, inplace=True)\n",
    "\n",
    "# Chequeamos cómo quedaron los datos\n",
    "data_caba_clean.shape"
   ]
  },
  {
   "cell_type": "markdown",
   "metadata": {},
   "source": [
    "<h3> Volvemos a calcular cantidad de nulos luego de eliminar columnas y registros"
   ]
  },
  {
   "cell_type": "code",
   "execution_count": 589,
   "metadata": {},
   "outputs": [
    {
     "data": {
      "text/plain": [
       "property_type                     0\n",
       "place_name                        0\n",
       "price                          2959\n",
       "currency                       2959\n",
       "price_aprox_local_currency     2959\n",
       "price_aprox_usd                2959\n",
       "surface_total_in_m2            5707\n",
       "surface_covered_in_m2          1963\n",
       "price_usd_per_m2               8416\n",
       "price_per_m2                   4570\n",
       "floor                         28070\n",
       "rooms                         15748\n",
       "description                       0\n",
       "dtype: int64"
      ]
     },
     "execution_count": 589,
     "metadata": {},
     "output_type": "execute_result"
    }
   ],
   "source": [
    "# Calculamos cantidad de nulos por campo\n",
    "cant_nulos_por_campo = data_caba_clean.isnull().sum()\n",
    "cant_nulos_por_campo"
   ]
  },
  {
   "cell_type": "code",
   "execution_count": 590,
   "metadata": {},
   "outputs": [
    {
     "name": "stdout",
     "output_type": "stream",
     "text": [
      "Cantidad Original de registros: 31019\n",
      "\n",
      "property_type                  0.00\n",
      "place_name                     0.00\n",
      "price                          9.54\n",
      "currency                       9.54\n",
      "price_aprox_local_currency     9.54\n",
      "price_aprox_usd                9.54\n",
      "surface_total_in_m2           18.40\n",
      "surface_covered_in_m2          6.33\n",
      "price_usd_per_m2              27.13\n",
      "price_per_m2                  14.73\n",
      "floor                         90.49\n",
      "rooms                         50.77\n",
      "description                    0.00\n",
      "dtype: float64\n"
     ]
    }
   ],
   "source": [
    "# Calculamos porcentaje de nulos por campo\n",
    "cant_registros = data_caba_clean.shape[0]\n",
    "print(f'Cantidad Original de registros: {cant_registros}\\n')\n",
    "#len(data.index) es lo mismo\n",
    "\n",
    "porc_nulos_por_campo = np.round((100 * cant_nulos_por_campo / cant_registros),2)\n",
    "print(porc_nulos_por_campo)"
   ]
  },
  {
   "cell_type": "code",
   "execution_count": 591,
   "metadata": {},
   "outputs": [
    {
     "data": {
      "text/plain": [
       "(31019, 13)"
      ]
     },
     "execution_count": 591,
     "metadata": {},
     "output_type": "execute_result"
    }
   ],
   "source": [
    "data_caba_clean.shape"
   ]
  },
  {
   "cell_type": "code",
   "execution_count": 592,
   "metadata": {},
   "outputs": [
    {
     "data": {
      "text/html": [
       "<div>\n",
       "<style scoped>\n",
       "    .dataframe tbody tr th:only-of-type {\n",
       "        vertical-align: middle;\n",
       "    }\n",
       "\n",
       "    .dataframe tbody tr th {\n",
       "        vertical-align: top;\n",
       "    }\n",
       "\n",
       "    .dataframe thead th {\n",
       "        text-align: right;\n",
       "    }\n",
       "</style>\n",
       "<table border=\"1\" class=\"dataframe\">\n",
       "  <thead>\n",
       "    <tr style=\"text-align: right;\">\n",
       "      <th></th>\n",
       "      <th>property_type</th>\n",
       "      <th>place_name</th>\n",
       "      <th>price</th>\n",
       "      <th>currency</th>\n",
       "      <th>price_aprox_local_currency</th>\n",
       "      <th>price_aprox_usd</th>\n",
       "      <th>surface_total_in_m2</th>\n",
       "      <th>surface_covered_in_m2</th>\n",
       "      <th>price_usd_per_m2</th>\n",
       "      <th>price_per_m2</th>\n",
       "      <th>floor</th>\n",
       "      <th>rooms</th>\n",
       "      <th>description</th>\n",
       "    </tr>\n",
       "  </thead>\n",
       "  <tbody>\n",
       "    <tr>\n",
       "      <th>2537</th>\n",
       "      <td>apartment</td>\n",
       "      <td>Caballito</td>\n",
       "      <td>NaN</td>\n",
       "      <td>NaN</td>\n",
       "      <td>NaN</td>\n",
       "      <td>NaN</td>\n",
       "      <td>NaN</td>\n",
       "      <td>NaN</td>\n",
       "      <td>NaN</td>\n",
       "      <td>NaN</td>\n",
       "      <td>NaN</td>\n",
       "      <td>NaN</td>\n",
       "      <td>Departamento en Directorio 750, Capital Federa...</td>\n",
       "    </tr>\n",
       "    <tr>\n",
       "      <th>9613</th>\n",
       "      <td>apartment</td>\n",
       "      <td>Palermo</td>\n",
       "      <td>198427.0</td>\n",
       "      <td>USD</td>\n",
       "      <td>3501145.20</td>\n",
       "      <td>198427.0</td>\n",
       "      <td>NaN</td>\n",
       "      <td>77.0</td>\n",
       "      <td>NaN</td>\n",
       "      <td>2576.974026</td>\n",
       "      <td>NaN</td>\n",
       "      <td>3.0</td>\n",
       "      <td>Corredor Responsable: Luis Varela - CSI 5527 /...</td>\n",
       "    </tr>\n",
       "    <tr>\n",
       "      <th>101786</th>\n",
       "      <td>apartment</td>\n",
       "      <td>Belgrano</td>\n",
       "      <td>150000.0</td>\n",
       "      <td>USD</td>\n",
       "      <td>2646675.00</td>\n",
       "      <td>150000.0</td>\n",
       "      <td>56.0</td>\n",
       "      <td>49.0</td>\n",
       "      <td>2678.571429</td>\n",
       "      <td>3061.224490</td>\n",
       "      <td>NaN</td>\n",
       "      <td>NaN</td>\n",
       "      <td>APTO CRÉDITO - Departamento monoambiente grand...</td>\n",
       "    </tr>\n",
       "    <tr>\n",
       "      <th>110320</th>\n",
       "      <td>apartment</td>\n",
       "      <td>San Cristobal</td>\n",
       "      <td>159900.0</td>\n",
       "      <td>USD</td>\n",
       "      <td>2821355.55</td>\n",
       "      <td>159900.0</td>\n",
       "      <td>180.0</td>\n",
       "      <td>100.0</td>\n",
       "      <td>888.333333</td>\n",
       "      <td>1599.000000</td>\n",
       "      <td>NaN</td>\n",
       "      <td>4.0</td>\n",
       "      <td>Departamento 4 ambientes, muy luminoso. 3 dorm...</td>\n",
       "    </tr>\n",
       "    <tr>\n",
       "      <th>90617</th>\n",
       "      <td>store</td>\n",
       "      <td>Villa Urquiza</td>\n",
       "      <td>NaN</td>\n",
       "      <td>NaN</td>\n",
       "      <td>NaN</td>\n",
       "      <td>NaN</td>\n",
       "      <td>1905.0</td>\n",
       "      <td>1905.0</td>\n",
       "      <td>NaN</td>\n",
       "      <td>NaN</td>\n",
       "      <td>NaN</td>\n",
       "      <td>NaN</td>\n",
       "      <td>Excelente local sobre Lote de frente 17.28 mts...</td>\n",
       "    </tr>\n",
       "  </tbody>\n",
       "</table>\n",
       "</div>"
      ],
      "text/plain": [
       "       property_type     place_name     price currency  \\\n",
       "2537       apartment      Caballito       NaN      NaN   \n",
       "9613       apartment        Palermo  198427.0      USD   \n",
       "101786     apartment       Belgrano  150000.0      USD   \n",
       "110320     apartment  San Cristobal  159900.0      USD   \n",
       "90617          store  Villa Urquiza       NaN      NaN   \n",
       "\n",
       "        price_aprox_local_currency  price_aprox_usd  surface_total_in_m2  \\\n",
       "2537                           NaN              NaN                  NaN   \n",
       "9613                    3501145.20         198427.0                  NaN   \n",
       "101786                  2646675.00         150000.0                 56.0   \n",
       "110320                  2821355.55         159900.0                180.0   \n",
       "90617                          NaN              NaN               1905.0   \n",
       "\n",
       "        surface_covered_in_m2  price_usd_per_m2  price_per_m2  floor  rooms  \\\n",
       "2537                      NaN               NaN           NaN    NaN    NaN   \n",
       "9613                     77.0               NaN   2576.974026    NaN    3.0   \n",
       "101786                   49.0       2678.571429   3061.224490    NaN    NaN   \n",
       "110320                  100.0        888.333333   1599.000000    NaN    4.0   \n",
       "90617                  1905.0               NaN           NaN    NaN    NaN   \n",
       "\n",
       "                                              description  \n",
       "2537    Departamento en Directorio 750, Capital Federa...  \n",
       "9613    Corredor Responsable: Luis Varela - CSI 5527 /...  \n",
       "101786  APTO CRÉDITO - Departamento monoambiente grand...  \n",
       "110320  Departamento 4 ambientes, muy luminoso. 3 dorm...  \n",
       "90617   Excelente local sobre Lote de frente 17.28 mts...  "
      ]
     },
     "execution_count": 592,
     "metadata": {},
     "output_type": "execute_result"
    }
   ],
   "source": [
    "data_caba_clean.sample(5)"
   ]
  },
  {
   "cell_type": "markdown",
   "metadata": {},
   "source": [
    "## De los datos filtrados según Desafio 1 deberiamos:\n",
    "\n",
    "1. Terminar de dropear variables incompletas que serian necesarias para poder entrenar un modelo. (ejemplo: si la propiedad no posee: price, price_aprox_local_currency,price_usd_per_m2, price_per_m2, etc...) la información de los barrios ya fue analizado y dropeado en el paso anterior.\n",
    "2. Definir las variables CUANTITATIVAS, ejemplo precio, total de m2 de superficie.\n",
    "3. Armar las variables CUALITATIVAS, Dummy (ejemplo: place_name, property_type, amenities, rooms).\n",
    "4. Armar una nueva variable Dummy que contemple los precios de propiedad segun su distribución por metro cuadrado. Utilizando Panda CUT. \n",
    "\n",
    "## Finalizado el analisis de datos, armamos diferentes modelos para predecir el precio de la propiedad.\n",
    "\n",
    "1. Regresion Lineal Multiple\n",
    "2. Entrenar los modelos con Lasso, RidgeCV y utilizando Cross Validation.\n",
    "\n"
   ]
  },
  {
   "cell_type": "markdown",
   "metadata": {},
   "source": [
    "### Primero damos homogenidad a los datos\n",
    "\n",
    "Vamos a realizar ciertas verificaciones de los datos."
   ]
  },
  {
   "cell_type": "code",
   "execution_count": 593,
   "metadata": {},
   "outputs": [
    {
     "data": {
      "text/plain": [
       "(4138, 13)"
      ]
     },
     "metadata": {},
     "output_type": "display_data"
    },
    {
     "data": {
      "text/html": [
       "<div>\n",
       "<style scoped>\n",
       "    .dataframe tbody tr th:only-of-type {\n",
       "        vertical-align: middle;\n",
       "    }\n",
       "\n",
       "    .dataframe tbody tr th {\n",
       "        vertical-align: top;\n",
       "    }\n",
       "\n",
       "    .dataframe thead th {\n",
       "        text-align: right;\n",
       "    }\n",
       "</style>\n",
       "<table border=\"1\" class=\"dataframe\">\n",
       "  <thead>\n",
       "    <tr style=\"text-align: right;\">\n",
       "      <th></th>\n",
       "      <th>property_type</th>\n",
       "      <th>place_name</th>\n",
       "      <th>price</th>\n",
       "      <th>currency</th>\n",
       "      <th>price_aprox_local_currency</th>\n",
       "      <th>price_aprox_usd</th>\n",
       "      <th>surface_total_in_m2</th>\n",
       "      <th>surface_covered_in_m2</th>\n",
       "      <th>price_usd_per_m2</th>\n",
       "      <th>price_per_m2</th>\n",
       "      <th>floor</th>\n",
       "      <th>rooms</th>\n",
       "      <th>description</th>\n",
       "    </tr>\n",
       "  </thead>\n",
       "  <tbody>\n",
       "    <tr>\n",
       "      <th>69812</th>\n",
       "      <td>apartment</td>\n",
       "      <td>Belgrano</td>\n",
       "      <td>NaN</td>\n",
       "      <td>NaN</td>\n",
       "      <td>NaN</td>\n",
       "      <td>NaN</td>\n",
       "      <td>300.0</td>\n",
       "      <td>365.0</td>\n",
       "      <td>NaN</td>\n",
       "      <td>NaN</td>\n",
       "      <td>NaN</td>\n",
       "      <td>NaN</td>\n",
       "      <td>Excelente alquiler piso alto en Torre Forum Al...</td>\n",
       "    </tr>\n",
       "    <tr>\n",
       "      <th>120879</th>\n",
       "      <td>apartment</td>\n",
       "      <td>Chacarita</td>\n",
       "      <td>NaN</td>\n",
       "      <td>NaN</td>\n",
       "      <td>NaN</td>\n",
       "      <td>NaN</td>\n",
       "      <td>39.0</td>\n",
       "      <td>39.0</td>\n",
       "      <td>NaN</td>\n",
       "      <td>NaN</td>\n",
       "      <td>NaN</td>\n",
       "      <td>NaN</td>\n",
       "      <td>AMBIENTE DIVISIBLE CON PISOS D...</td>\n",
       "    </tr>\n",
       "    <tr>\n",
       "      <th>74020</th>\n",
       "      <td>apartment</td>\n",
       "      <td>Belgrano</td>\n",
       "      <td>2170206.0</td>\n",
       "      <td>ARS</td>\n",
       "      <td>2147567.32</td>\n",
       "      <td>121713.13</td>\n",
       "      <td>38.0</td>\n",
       "      <td>34.0</td>\n",
       "      <td>3202.977105</td>\n",
       "      <td>63829.588235</td>\n",
       "      <td>NaN</td>\n",
       "      <td>NaN</td>\n",
       "      <td>EN CONSTRUCCION PALACIO ROCCATAGLIATA - DEPART...</td>\n",
       "    </tr>\n",
       "    <tr>\n",
       "      <th>87129</th>\n",
       "      <td>apartment</td>\n",
       "      <td>Villa Urquiza</td>\n",
       "      <td>1751947.0</td>\n",
       "      <td>ARS</td>\n",
       "      <td>1733671.28</td>\n",
       "      <td>98255.62</td>\n",
       "      <td>37.0</td>\n",
       "      <td>32.0</td>\n",
       "      <td>2655.557297</td>\n",
       "      <td>54748.343750</td>\n",
       "      <td>NaN</td>\n",
       "      <td>NaN</td>\n",
       "      <td>DEPARTAMENTO EN VENTA HOLMBERG ON!FINANCIACIÓN...</td>\n",
       "    </tr>\n",
       "    <tr>\n",
       "      <th>118229</th>\n",
       "      <td>apartment</td>\n",
       "      <td>Palermo</td>\n",
       "      <td>NaN</td>\n",
       "      <td>NaN</td>\n",
       "      <td>NaN</td>\n",
       "      <td>NaN</td>\n",
       "      <td>60.0</td>\n",
       "      <td>58.0</td>\n",
       "      <td>NaN</td>\n",
       "      <td>NaN</td>\n",
       "      <td>NaN</td>\n",
       "      <td>NaN</td>\n",
       "      <td>Una esquina soñada frente a Plaza Guadalupe.Un...</td>\n",
       "    </tr>\n",
       "    <tr>\n",
       "      <th>75362</th>\n",
       "      <td>apartment</td>\n",
       "      <td>Belgrano</td>\n",
       "      <td>NaN</td>\n",
       "      <td>NaN</td>\n",
       "      <td>NaN</td>\n",
       "      <td>NaN</td>\n",
       "      <td>53.0</td>\n",
       "      <td>47.0</td>\n",
       "      <td>NaN</td>\n",
       "      <td>NaN</td>\n",
       "      <td>NaN</td>\n",
       "      <td>NaN</td>\n",
       "      <td>Edificio de doble frente en excelente ubicació...</td>\n",
       "    </tr>\n",
       "    <tr>\n",
       "      <th>100249</th>\n",
       "      <td>store</td>\n",
       "      <td>Congreso</td>\n",
       "      <td>NaN</td>\n",
       "      <td>NaN</td>\n",
       "      <td>NaN</td>\n",
       "      <td>NaN</td>\n",
       "      <td>NaN</td>\n",
       "      <td>2400.0</td>\n",
       "      <td>NaN</td>\n",
       "      <td>NaN</td>\n",
       "      <td>NaN</td>\n",
       "      <td>NaN</td>\n",
       "      <td>52 habitaciones + 2 locales comerciales.Actual...</td>\n",
       "    </tr>\n",
       "    <tr>\n",
       "      <th>84097</th>\n",
       "      <td>apartment</td>\n",
       "      <td>Villa Urquiza</td>\n",
       "      <td>NaN</td>\n",
       "      <td>NaN</td>\n",
       "      <td>NaN</td>\n",
       "      <td>NaN</td>\n",
       "      <td>40.0</td>\n",
       "      <td>31.0</td>\n",
       "      <td>NaN</td>\n",
       "      <td>NaN</td>\n",
       "      <td>NaN</td>\n",
       "      <td>NaN</td>\n",
       "      <td>BBU2956 AP191960</td>\n",
       "    </tr>\n",
       "    <tr>\n",
       "      <th>118230</th>\n",
       "      <td>apartment</td>\n",
       "      <td>Palermo</td>\n",
       "      <td>NaN</td>\n",
       "      <td>NaN</td>\n",
       "      <td>NaN</td>\n",
       "      <td>NaN</td>\n",
       "      <td>37.0</td>\n",
       "      <td>33.0</td>\n",
       "      <td>NaN</td>\n",
       "      <td>NaN</td>\n",
       "      <td>NaN</td>\n",
       "      <td>NaN</td>\n",
       "      <td>Una esquina soñada frente a Plaza Guadalupe.Un...</td>\n",
       "    </tr>\n",
       "    <tr>\n",
       "      <th>118742</th>\n",
       "      <td>apartment</td>\n",
       "      <td>Villa Urquiza</td>\n",
       "      <td>1959630.0</td>\n",
       "      <td>ARS</td>\n",
       "      <td>1939187.89</td>\n",
       "      <td>109903.25</td>\n",
       "      <td>40.0</td>\n",
       "      <td>37.0</td>\n",
       "      <td>2747.581250</td>\n",
       "      <td>52962.972973</td>\n",
       "      <td>NaN</td>\n",
       "      <td>NaN</td>\n",
       "      <td>Departamento 40m² en Echeverria 4230, Capital ...</td>\n",
       "    </tr>\n",
       "  </tbody>\n",
       "</table>\n",
       "</div>"
      ],
      "text/plain": [
       "       property_type     place_name      price currency  \\\n",
       "69812      apartment       Belgrano        NaN      NaN   \n",
       "120879     apartment      Chacarita        NaN      NaN   \n",
       "74020      apartment       Belgrano  2170206.0      ARS   \n",
       "87129      apartment  Villa Urquiza  1751947.0      ARS   \n",
       "118229     apartment        Palermo        NaN      NaN   \n",
       "75362      apartment       Belgrano        NaN      NaN   \n",
       "100249         store       Congreso        NaN      NaN   \n",
       "84097      apartment  Villa Urquiza        NaN      NaN   \n",
       "118230     apartment        Palermo        NaN      NaN   \n",
       "118742     apartment  Villa Urquiza  1959630.0      ARS   \n",
       "\n",
       "        price_aprox_local_currency  price_aprox_usd  surface_total_in_m2  \\\n",
       "69812                          NaN              NaN                300.0   \n",
       "120879                         NaN              NaN                 39.0   \n",
       "74020                   2147567.32        121713.13                 38.0   \n",
       "87129                   1733671.28         98255.62                 37.0   \n",
       "118229                         NaN              NaN                 60.0   \n",
       "75362                          NaN              NaN                 53.0   \n",
       "100249                         NaN              NaN                  NaN   \n",
       "84097                          NaN              NaN                 40.0   \n",
       "118230                         NaN              NaN                 37.0   \n",
       "118742                  1939187.89        109903.25                 40.0   \n",
       "\n",
       "        surface_covered_in_m2  price_usd_per_m2  price_per_m2  floor  rooms  \\\n",
       "69812                   365.0               NaN           NaN    NaN    NaN   \n",
       "120879                   39.0               NaN           NaN    NaN    NaN   \n",
       "74020                    34.0       3202.977105  63829.588235    NaN    NaN   \n",
       "87129                    32.0       2655.557297  54748.343750    NaN    NaN   \n",
       "118229                   58.0               NaN           NaN    NaN    NaN   \n",
       "75362                    47.0               NaN           NaN    NaN    NaN   \n",
       "100249                 2400.0               NaN           NaN    NaN    NaN   \n",
       "84097                    31.0               NaN           NaN    NaN    NaN   \n",
       "118230                   33.0               NaN           NaN    NaN    NaN   \n",
       "118742                   37.0       2747.581250  52962.972973    NaN    NaN   \n",
       "\n",
       "                                              description  \n",
       "69812   Excelente alquiler piso alto en Torre Forum Al...  \n",
       "120879                  AMBIENTE DIVISIBLE CON PISOS D...  \n",
       "74020   EN CONSTRUCCION PALACIO ROCCATAGLIATA - DEPART...  \n",
       "87129   DEPARTAMENTO EN VENTA HOLMBERG ON!FINANCIACIÓN...  \n",
       "118229  Una esquina soñada frente a Plaza Guadalupe.Un...  \n",
       "75362   Edificio de doble frente en excelente ubicació...  \n",
       "100249  52 habitaciones + 2 locales comerciales.Actual...  \n",
       "84097                                    BBU2956 AP191960  \n",
       "118230  Una esquina soñada frente a Plaza Guadalupe.Un...  \n",
       "118742  Departamento 40m² en Echeverria 4230, Capital ...  "
      ]
     },
     "metadata": {},
     "output_type": "display_data"
    }
   ],
   "source": [
    "# 1. Verificamos que el price y el price_aprox_usd sean los mismos, y luego si fuera así dropeamos el price_aprox_usd\n",
    "\n",
    "mask_price_validation = data_caba_clean.price != data_caba_clean.price_aprox_usd\n",
    "\n",
    "display(data_caba_clean.loc[mask_price_validation, :].shape)\n",
    "\n",
    "# Detectamos que hay 4138 propiedades donde los valores son diferentes? pero estan en Pesos o son NaN?\n",
    "\n",
    "display(data_caba_clean.loc[mask_price_validation, :].sample(10))\n",
    "\n",
    "# Detectamos que tenemos los dos casos, donde los precios son NaN y donde la moneda está en ARS (lo cual no estaría mal)\n",
    "# En el caso de ARS, vemos que el valor de price toma el de la moneda local ~ Por lo que podriamos llegar a eliminar price, currency y price_aprox_local_currency \n",
    "\n",
    "# Para los valores de NaN tendriamos que tomar la decisión si los dropeamos o tratamos de calcular un precio promedio en base a la cantidad de metros cuadrados."
   ]
  },
  {
   "cell_type": "code",
   "execution_count": 594,
   "metadata": {},
   "outputs": [
    {
     "data": {
      "text/plain": [
       "(31019, 13)"
      ]
     },
     "execution_count": 594,
     "metadata": {},
     "output_type": "execute_result"
    }
   ],
   "source": [
    "data_caba_clean.shape"
   ]
  },
  {
   "cell_type": "markdown",
   "metadata": {},
   "source": [
    "<h3> Eliminamos registros según un umbral de datos faltantes </h3>\n",
    "\n",
    "[volver a TOC](#section_toc)"
   ]
  },
  {
   "cell_type": "code",
   "execution_count": 595,
   "metadata": {},
   "outputs": [
    {
     "data": {
      "text/plain": [
       "(1131, 13)"
      ]
     },
     "metadata": {},
     "output_type": "display_data"
    },
    {
     "data": {
      "text/plain": [
       "(25627, 13)"
      ]
     },
     "metadata": {},
     "output_type": "display_data"
    },
    {
     "data": {
      "text/html": [
       "<div>\n",
       "<style scoped>\n",
       "    .dataframe tbody tr th:only-of-type {\n",
       "        vertical-align: middle;\n",
       "    }\n",
       "\n",
       "    .dataframe tbody tr th {\n",
       "        vertical-align: top;\n",
       "    }\n",
       "\n",
       "    .dataframe thead th {\n",
       "        text-align: right;\n",
       "    }\n",
       "</style>\n",
       "<table border=\"1\" class=\"dataframe\">\n",
       "  <thead>\n",
       "    <tr style=\"text-align: right;\">\n",
       "      <th></th>\n",
       "      <th>property_type</th>\n",
       "      <th>place_name</th>\n",
       "      <th>price</th>\n",
       "      <th>currency</th>\n",
       "      <th>price_aprox_local_currency</th>\n",
       "      <th>price_aprox_usd</th>\n",
       "      <th>surface_total_in_m2</th>\n",
       "      <th>surface_covered_in_m2</th>\n",
       "      <th>price_usd_per_m2</th>\n",
       "      <th>price_per_m2</th>\n",
       "      <th>floor</th>\n",
       "      <th>rooms</th>\n",
       "      <th>description</th>\n",
       "    </tr>\n",
       "  </thead>\n",
       "  <tbody>\n",
       "    <tr>\n",
       "      <th>641</th>\n",
       "      <td>apartment</td>\n",
       "      <td>Recoleta</td>\n",
       "      <td>105000.0</td>\n",
       "      <td>USD</td>\n",
       "      <td>1852672.50</td>\n",
       "      <td>105000.00</td>\n",
       "      <td>28.0</td>\n",
       "      <td>28.0</td>\n",
       "      <td>3750.000000</td>\n",
       "      <td>3750.000000</td>\n",
       "      <td>NaN</td>\n",
       "      <td>1.0</td>\n",
       "      <td>Excelente departamento a estrenar en recoleta ...</td>\n",
       "    </tr>\n",
       "    <tr>\n",
       "      <th>118543</th>\n",
       "      <td>apartment</td>\n",
       "      <td>San Telmo</td>\n",
       "      <td>1697000.0</td>\n",
       "      <td>ARS</td>\n",
       "      <td>1679297.46</td>\n",
       "      <td>95173.99</td>\n",
       "      <td>42.0</td>\n",
       "      <td>39.0</td>\n",
       "      <td>2266.047381</td>\n",
       "      <td>43512.820513</td>\n",
       "      <td>NaN</td>\n",
       "      <td>NaN</td>\n",
       "      <td>Departamento 42m² en Defensa 1657, Capital Fed...</td>\n",
       "    </tr>\n",
       "    <tr>\n",
       "      <th>18137</th>\n",
       "      <td>apartment</td>\n",
       "      <td>Recoleta</td>\n",
       "      <td>250000.0</td>\n",
       "      <td>USD</td>\n",
       "      <td>4411125.00</td>\n",
       "      <td>250000.00</td>\n",
       "      <td>65.0</td>\n",
       "      <td>65.0</td>\n",
       "      <td>3846.153846</td>\n",
       "      <td>3846.153846</td>\n",
       "      <td>NaN</td>\n",
       "      <td>2.0</td>\n",
       "      <td>Venta de Departamento 2 AMBIENTES en Recoleta,...</td>\n",
       "    </tr>\n",
       "    <tr>\n",
       "      <th>72948</th>\n",
       "      <td>apartment</td>\n",
       "      <td>Caballito</td>\n",
       "      <td>193093.0</td>\n",
       "      <td>USD</td>\n",
       "      <td>3407029.43</td>\n",
       "      <td>193093.00</td>\n",
       "      <td>49.0</td>\n",
       "      <td>45.0</td>\n",
       "      <td>3940.673469</td>\n",
       "      <td>4290.955556</td>\n",
       "      <td>NaN</td>\n",
       "      <td>NaN</td>\n",
       "      <td>CABALLITO - SEMIPISO EN VENTA DE 2 AMBIENTES A...</td>\n",
       "    </tr>\n",
       "    <tr>\n",
       "      <th>47360</th>\n",
       "      <td>apartment</td>\n",
       "      <td>Villa Crespo</td>\n",
       "      <td>125000.0</td>\n",
       "      <td>USD</td>\n",
       "      <td>2205562.50</td>\n",
       "      <td>125000.00</td>\n",
       "      <td>97.0</td>\n",
       "      <td>77.0</td>\n",
       "      <td>1288.659794</td>\n",
       "      <td>1623.376623</td>\n",
       "      <td>NaN</td>\n",
       "      <td>3.0</td>\n",
       "      <td>DEPARTAMENTO DE 3 AMBIENTES CON TERRAZA PROPIA...</td>\n",
       "    </tr>\n",
       "  </tbody>\n",
       "</table>\n",
       "</div>"
      ],
      "text/plain": [
       "       property_type    place_name      price currency  \\\n",
       "641        apartment      Recoleta   105000.0      USD   \n",
       "118543     apartment     San Telmo  1697000.0      ARS   \n",
       "18137      apartment      Recoleta   250000.0      USD   \n",
       "72948      apartment     Caballito   193093.0      USD   \n",
       "47360      apartment  Villa Crespo   125000.0      USD   \n",
       "\n",
       "        price_aprox_local_currency  price_aprox_usd  surface_total_in_m2  \\\n",
       "641                     1852672.50        105000.00                 28.0   \n",
       "118543                  1679297.46         95173.99                 42.0   \n",
       "18137                   4411125.00        250000.00                 65.0   \n",
       "72948                   3407029.43        193093.00                 49.0   \n",
       "47360                   2205562.50        125000.00                 97.0   \n",
       "\n",
       "        surface_covered_in_m2  price_usd_per_m2  price_per_m2  floor  rooms  \\\n",
       "641                      28.0       3750.000000   3750.000000    NaN    1.0   \n",
       "118543                   39.0       2266.047381  43512.820513    NaN    NaN   \n",
       "18137                    65.0       3846.153846   3846.153846    NaN    2.0   \n",
       "72948                    45.0       3940.673469   4290.955556    NaN    NaN   \n",
       "47360                    77.0       1288.659794   1623.376623    NaN    3.0   \n",
       "\n",
       "                                              description  \n",
       "641     Excelente departamento a estrenar en recoleta ...  \n",
       "118543  Departamento 42m² en Defensa 1657, Capital Fed...  \n",
       "18137   Venta de Departamento 2 AMBIENTES en Recoleta,...  \n",
       "72948   CABALLITO - SEMIPISO EN VENTA DE 2 AMBIENTES A...  \n",
       "47360   DEPARTAMENTO DE 3 AMBIENTES CON TERRAZA PROPIA...  "
      ]
     },
     "execution_count": 595,
     "metadata": {},
     "output_type": "execute_result"
    }
   ],
   "source": [
    "# Elimino primero los registros donde no tengo nada de informacion. \n",
    "\n",
    "umbral = 10\n",
    "data_caba_clean.dropna(axis = 0, thresh=umbral, inplace=True)\n",
    "# OJO que utilizando umbral de 10 se fueron casi 10000 datos incompletos. \n",
    "#--> se pierden 6000 datos aprox (ver shape de abajo), un 20% de los datos aprox\n",
    "\n",
    "# Vuelvo a ver como quedaron los datos\n",
    "mask_price_validation = data_caba_clean.price != data_caba_clean.price_aprox_usd\n",
    "display(data_caba_clean.loc[mask_price_validation, :].shape)\n",
    "\n",
    "display(data_caba_clean.shape)\n",
    "# display(data_caba_clean.loc[mask_price_validation, :].head(30))\n",
    "data_caba_clean.sample(5)"
   ]
  },
  {
   "cell_type": "code",
   "execution_count": 596,
   "metadata": {},
   "outputs": [
    {
     "data": {
      "text/html": [
       "<div>\n",
       "<style scoped>\n",
       "    .dataframe tbody tr th:only-of-type {\n",
       "        vertical-align: middle;\n",
       "    }\n",
       "\n",
       "    .dataframe tbody tr th {\n",
       "        vertical-align: top;\n",
       "    }\n",
       "\n",
       "    .dataframe thead th {\n",
       "        text-align: right;\n",
       "    }\n",
       "</style>\n",
       "<table border=\"1\" class=\"dataframe\">\n",
       "  <thead>\n",
       "    <tr style=\"text-align: right;\">\n",
       "      <th></th>\n",
       "      <th>property_type</th>\n",
       "      <th>place_name</th>\n",
       "      <th>price</th>\n",
       "      <th>currency</th>\n",
       "      <th>price_aprox_local_currency</th>\n",
       "      <th>price_aprox_usd</th>\n",
       "      <th>surface_total_in_m2</th>\n",
       "      <th>surface_covered_in_m2</th>\n",
       "      <th>price_usd_per_m2</th>\n",
       "      <th>price_per_m2</th>\n",
       "      <th>floor</th>\n",
       "      <th>rooms</th>\n",
       "      <th>description</th>\n",
       "    </tr>\n",
       "  </thead>\n",
       "  <tbody>\n",
       "    <tr>\n",
       "      <th>84543</th>\n",
       "      <td>apartment</td>\n",
       "      <td>Almagro</td>\n",
       "      <td>98500.0</td>\n",
       "      <td>USD</td>\n",
       "      <td>1737983.25</td>\n",
       "      <td>98500.0</td>\n",
       "      <td>49.0</td>\n",
       "      <td>48.0</td>\n",
       "      <td>2010.204082</td>\n",
       "      <td>2052.083333</td>\n",
       "      <td>NaN</td>\n",
       "      <td>NaN</td>\n",
       "      <td>3 Ambientes con cocina independiente y lavader...</td>\n",
       "    </tr>\n",
       "    <tr>\n",
       "      <th>109812</th>\n",
       "      <td>apartment</td>\n",
       "      <td>Belgrano</td>\n",
       "      <td>94900.0</td>\n",
       "      <td>USD</td>\n",
       "      <td>1674463.05</td>\n",
       "      <td>94900.0</td>\n",
       "      <td>45.0</td>\n",
       "      <td>45.0</td>\n",
       "      <td>2108.888889</td>\n",
       "      <td>2108.888889</td>\n",
       "      <td>NaN</td>\n",
       "      <td>2.0</td>\n",
       "      <td>2 AMB. AL FTRE. P/ESCALERA. CALEFON Y A.CALIEN...</td>\n",
       "    </tr>\n",
       "    <tr>\n",
       "      <th>10854</th>\n",
       "      <td>apartment</td>\n",
       "      <td>Caballito</td>\n",
       "      <td>220000.0</td>\n",
       "      <td>USD</td>\n",
       "      <td>3881790.00</td>\n",
       "      <td>220000.0</td>\n",
       "      <td>131.0</td>\n",
       "      <td>126.0</td>\n",
       "      <td>1679.389313</td>\n",
       "      <td>1746.031746</td>\n",
       "      <td>NaN</td>\n",
       "      <td>4.0</td>\n",
       "      <td>ES UN 4 AMBIENTES CON DEPENDENCIAS, BALCON COR...</td>\n",
       "    </tr>\n",
       "    <tr>\n",
       "      <th>15185</th>\n",
       "      <td>apartment</td>\n",
       "      <td>Belgrano</td>\n",
       "      <td>150000.0</td>\n",
       "      <td>USD</td>\n",
       "      <td>2646675.00</td>\n",
       "      <td>150000.0</td>\n",
       "      <td>53.0</td>\n",
       "      <td>48.0</td>\n",
       "      <td>2830.188679</td>\n",
       "      <td>3125.000000</td>\n",
       "      <td>4.0</td>\n",
       "      <td>NaN</td>\n",
       "      <td>Muy buen dpto. de 2 ambientes al frente en VEN...</td>\n",
       "    </tr>\n",
       "    <tr>\n",
       "      <th>37901</th>\n",
       "      <td>apartment</td>\n",
       "      <td>Belgrano</td>\n",
       "      <td>249000.0</td>\n",
       "      <td>USD</td>\n",
       "      <td>4393480.50</td>\n",
       "      <td>249000.0</td>\n",
       "      <td>119.0</td>\n",
       "      <td>41.0</td>\n",
       "      <td>2092.436975</td>\n",
       "      <td>6073.170732</td>\n",
       "      <td>NaN</td>\n",
       "      <td>3.0</td>\n",
       "      <td>GRAN UNIDAD LLENA DE LUZ Y SOL - A ESTRENAREDI...</td>\n",
       "    </tr>\n",
       "  </tbody>\n",
       "</table>\n",
       "</div>"
      ],
      "text/plain": [
       "       property_type place_name     price currency  \\\n",
       "84543      apartment    Almagro   98500.0      USD   \n",
       "109812     apartment   Belgrano   94900.0      USD   \n",
       "10854      apartment  Caballito  220000.0      USD   \n",
       "15185      apartment   Belgrano  150000.0      USD   \n",
       "37901      apartment   Belgrano  249000.0      USD   \n",
       "\n",
       "        price_aprox_local_currency  price_aprox_usd  surface_total_in_m2  \\\n",
       "84543                   1737983.25          98500.0                 49.0   \n",
       "109812                  1674463.05          94900.0                 45.0   \n",
       "10854                   3881790.00         220000.0                131.0   \n",
       "15185                   2646675.00         150000.0                 53.0   \n",
       "37901                   4393480.50         249000.0                119.0   \n",
       "\n",
       "        surface_covered_in_m2  price_usd_per_m2  price_per_m2  floor  rooms  \\\n",
       "84543                    48.0       2010.204082   2052.083333    NaN    NaN   \n",
       "109812                   45.0       2108.888889   2108.888889    NaN    2.0   \n",
       "10854                   126.0       1679.389313   1746.031746    NaN    4.0   \n",
       "15185                    48.0       2830.188679   3125.000000    4.0    NaN   \n",
       "37901                    41.0       2092.436975   6073.170732    NaN    3.0   \n",
       "\n",
       "                                              description  \n",
       "84543   3 Ambientes con cocina independiente y lavader...  \n",
       "109812  2 AMB. AL FTRE. P/ESCALERA. CALEFON Y A.CALIEN...  \n",
       "10854   ES UN 4 AMBIENTES CON DEPENDENCIAS, BALCON COR...  \n",
       "15185   Muy buen dpto. de 2 ambientes al frente en VEN...  \n",
       "37901   GRAN UNIDAD LLENA DE LUZ Y SOL - A ESTRENAREDI...  "
      ]
     },
     "execution_count": 596,
     "metadata": {},
     "output_type": "execute_result"
    }
   ],
   "source": [
    "# Para la superficie de metros cuadadros totales, podemos creer que en caso de ser Nan \n",
    "#es porque es un departamente sin balcon y la cantidad de m2 cubierta sería iguala la cantidad de m2 totales.data_caba\n",
    "\n",
    "data_caba_clean.surface_total_in_m2.fillna(data_caba_clean.surface_covered_in_m2 + (data_caba_clean.surface_covered_in_m2 * 0.10), inplace=True)\n",
    "\n",
    "data_caba_clean.sample(5)"
   ]
  },
  {
   "cell_type": "markdown",
   "metadata": {},
   "source": [
    "<h3> Completamos datos faltantes de superficie </h3>\n",
    "\n",
    "[volver a TOC](#section_toc)"
   ]
  },
  {
   "cell_type": "code",
   "execution_count": 597,
   "metadata": {},
   "outputs": [
    {
     "data": {
      "text/html": [
       "<div>\n",
       "<style scoped>\n",
       "    .dataframe tbody tr th:only-of-type {\n",
       "        vertical-align: middle;\n",
       "    }\n",
       "\n",
       "    .dataframe tbody tr th {\n",
       "        vertical-align: top;\n",
       "    }\n",
       "\n",
       "    .dataframe thead th {\n",
       "        text-align: right;\n",
       "    }\n",
       "</style>\n",
       "<table border=\"1\" class=\"dataframe\">\n",
       "  <thead>\n",
       "    <tr style=\"text-align: right;\">\n",
       "      <th></th>\n",
       "      <th>property_type</th>\n",
       "      <th>place_name</th>\n",
       "      <th>price</th>\n",
       "      <th>currency</th>\n",
       "      <th>price_aprox_local_currency</th>\n",
       "      <th>price_aprox_usd</th>\n",
       "      <th>surface_total_in_m2</th>\n",
       "      <th>surface_covered_in_m2</th>\n",
       "      <th>price_usd_per_m2</th>\n",
       "      <th>price_per_m2</th>\n",
       "      <th>floor</th>\n",
       "      <th>rooms</th>\n",
       "      <th>description</th>\n",
       "    </tr>\n",
       "  </thead>\n",
       "  <tbody>\n",
       "    <tr>\n",
       "      <th>119096</th>\n",
       "      <td>apartment</td>\n",
       "      <td>Caballito</td>\n",
       "      <td>77000.0</td>\n",
       "      <td>USD</td>\n",
       "      <td>1358626.5</td>\n",
       "      <td>77000.0</td>\n",
       "      <td>34.0</td>\n",
       "      <td>31.0</td>\n",
       "      <td>2264.705882</td>\n",
       "      <td>2483.870968</td>\n",
       "      <td>NaN</td>\n",
       "      <td>NaN</td>\n",
       "      <td>VENTA DEPARTAMENTO 1 AMBIENTE EN CABALLITOExce...</td>\n",
       "    </tr>\n",
       "    <tr>\n",
       "      <th>8411</th>\n",
       "      <td>apartment</td>\n",
       "      <td>Recoleta</td>\n",
       "      <td>420000.0</td>\n",
       "      <td>USD</td>\n",
       "      <td>7410690.0</td>\n",
       "      <td>420000.0</td>\n",
       "      <td>139.0</td>\n",
       "      <td>130.0</td>\n",
       "      <td>3021.582734</td>\n",
       "      <td>3230.769231</td>\n",
       "      <td>NaN</td>\n",
       "      <td>3.0</td>\n",
       "      <td>Muy buena propiedad en Recoleta. Living y come...</td>\n",
       "    </tr>\n",
       "    <tr>\n",
       "      <th>97421</th>\n",
       "      <td>apartment</td>\n",
       "      <td>Villa Urquiza</td>\n",
       "      <td>129000.0</td>\n",
       "      <td>USD</td>\n",
       "      <td>2276140.5</td>\n",
       "      <td>129000.0</td>\n",
       "      <td>52.0</td>\n",
       "      <td>47.0</td>\n",
       "      <td>2480.769231</td>\n",
       "      <td>2744.680851</td>\n",
       "      <td>NaN</td>\n",
       "      <td>NaN</td>\n",
       "      <td>Excelente departamento con gran luminosidad de...</td>\n",
       "    </tr>\n",
       "    <tr>\n",
       "      <th>103062</th>\n",
       "      <td>PH</td>\n",
       "      <td>Mataderos</td>\n",
       "      <td>107000.0</td>\n",
       "      <td>USD</td>\n",
       "      <td>1887961.5</td>\n",
       "      <td>107000.0</td>\n",
       "      <td>51.0</td>\n",
       "      <td>43.0</td>\n",
       "      <td>2098.039216</td>\n",
       "      <td>2488.372093</td>\n",
       "      <td>NaN</td>\n",
       "      <td>NaN</td>\n",
       "      <td>Venta 2 ambientes en Mataderos.Depto. a estren...</td>\n",
       "    </tr>\n",
       "    <tr>\n",
       "      <th>71287</th>\n",
       "      <td>apartment</td>\n",
       "      <td>Floresta</td>\n",
       "      <td>92000.0</td>\n",
       "      <td>USD</td>\n",
       "      <td>1623294.0</td>\n",
       "      <td>92000.0</td>\n",
       "      <td>53.0</td>\n",
       "      <td>49.0</td>\n",
       "      <td>1735.849057</td>\n",
       "      <td>1877.551020</td>\n",
       "      <td>NaN</td>\n",
       "      <td>NaN</td>\n",
       "      <td>2 ambientes al fte a estrenar con amplio balco...</td>\n",
       "    </tr>\n",
       "  </tbody>\n",
       "</table>\n",
       "</div>"
      ],
      "text/plain": [
       "       property_type     place_name     price currency  \\\n",
       "119096     apartment      Caballito   77000.0      USD   \n",
       "8411       apartment       Recoleta  420000.0      USD   \n",
       "97421      apartment  Villa Urquiza  129000.0      USD   \n",
       "103062            PH      Mataderos  107000.0      USD   \n",
       "71287      apartment       Floresta   92000.0      USD   \n",
       "\n",
       "        price_aprox_local_currency  price_aprox_usd  surface_total_in_m2  \\\n",
       "119096                   1358626.5          77000.0                 34.0   \n",
       "8411                     7410690.0         420000.0                139.0   \n",
       "97421                    2276140.5         129000.0                 52.0   \n",
       "103062                   1887961.5         107000.0                 51.0   \n",
       "71287                    1623294.0          92000.0                 53.0   \n",
       "\n",
       "        surface_covered_in_m2  price_usd_per_m2  price_per_m2  floor  rooms  \\\n",
       "119096                   31.0       2264.705882   2483.870968    NaN    NaN   \n",
       "8411                    130.0       3021.582734   3230.769231    NaN    3.0   \n",
       "97421                    47.0       2480.769231   2744.680851    NaN    NaN   \n",
       "103062                   43.0       2098.039216   2488.372093    NaN    NaN   \n",
       "71287                    49.0       1735.849057   1877.551020    NaN    NaN   \n",
       "\n",
       "                                              description  \n",
       "119096  VENTA DEPARTAMENTO 1 AMBIENTE EN CABALLITOExce...  \n",
       "8411    Muy buena propiedad en Recoleta. Living y come...  \n",
       "97421   Excelente departamento con gran luminosidad de...  \n",
       "103062  Venta 2 ambientes en Mataderos.Depto. a estren...  \n",
       "71287   2 ambientes al fte a estrenar con amplio balco...  "
      ]
     },
     "execution_count": 597,
     "metadata": {},
     "output_type": "execute_result"
    }
   ],
   "source": [
    "# Idem al punto anterior pero ahora de surface_total a surface_covered\n",
    "\n",
    "data_caba_clean.surface_covered_in_m2.fillna(data_caba_clean.surface_total_in_m2, inplace=True)\n",
    "\n",
    "data_caba_clean.sample(5)"
   ]
  },
  {
   "cell_type": "markdown",
   "metadata": {},
   "source": [
    "<h3> Completamos datos faltantes de price_usd_per_m2 </h3>\n",
    "\n",
    "[volver a TOC](#section_toc)"
   ]
  },
  {
   "cell_type": "code",
   "execution_count": 598,
   "metadata": {},
   "outputs": [
    {
     "data": {
      "text/html": [
       "<div>\n",
       "<style scoped>\n",
       "    .dataframe tbody tr th:only-of-type {\n",
       "        vertical-align: middle;\n",
       "    }\n",
       "\n",
       "    .dataframe tbody tr th {\n",
       "        vertical-align: top;\n",
       "    }\n",
       "\n",
       "    .dataframe thead th {\n",
       "        text-align: right;\n",
       "    }\n",
       "</style>\n",
       "<table border=\"1\" class=\"dataframe\">\n",
       "  <thead>\n",
       "    <tr style=\"text-align: right;\">\n",
       "      <th></th>\n",
       "      <th>property_type</th>\n",
       "      <th>place_name</th>\n",
       "      <th>price</th>\n",
       "      <th>currency</th>\n",
       "      <th>price_aprox_local_currency</th>\n",
       "      <th>price_aprox_usd</th>\n",
       "      <th>surface_total_in_m2</th>\n",
       "      <th>surface_covered_in_m2</th>\n",
       "      <th>price_usd_per_m2</th>\n",
       "      <th>price_per_m2</th>\n",
       "      <th>floor</th>\n",
       "      <th>rooms</th>\n",
       "      <th>description</th>\n",
       "    </tr>\n",
       "  </thead>\n",
       "  <tbody>\n",
       "    <tr>\n",
       "      <th>24532</th>\n",
       "      <td>house</td>\n",
       "      <td>Boedo</td>\n",
       "      <td>245000.0</td>\n",
       "      <td>USD</td>\n",
       "      <td>4322902.5</td>\n",
       "      <td>245000.0</td>\n",
       "      <td>230.0</td>\n",
       "      <td>136.0</td>\n",
       "      <td>1065.217391</td>\n",
       "      <td>1801.470588</td>\n",
       "      <td>NaN</td>\n",
       "      <td>NaN</td>\n",
       "      <td>CODIGO: 2883-839 ubicado en: Sanchez de Loria ...</td>\n",
       "    </tr>\n",
       "    <tr>\n",
       "      <th>13083</th>\n",
       "      <td>apartment</td>\n",
       "      <td>Belgrano</td>\n",
       "      <td>365000.0</td>\n",
       "      <td>USD</td>\n",
       "      <td>6440242.5</td>\n",
       "      <td>365000.0</td>\n",
       "      <td>133.0</td>\n",
       "      <td>133.0</td>\n",
       "      <td>2744.360902</td>\n",
       "      <td>2744.360902</td>\n",
       "      <td>NaN</td>\n",
       "      <td>6.0</td>\n",
       "      <td>Excelente e impecable semipiso en edificio Pel...</td>\n",
       "    </tr>\n",
       "    <tr>\n",
       "      <th>30285</th>\n",
       "      <td>apartment</td>\n",
       "      <td>Boedo</td>\n",
       "      <td>130000.0</td>\n",
       "      <td>USD</td>\n",
       "      <td>2293785.0</td>\n",
       "      <td>130000.0</td>\n",
       "      <td>69.0</td>\n",
       "      <td>46.0</td>\n",
       "      <td>1884.057971</td>\n",
       "      <td>2826.086957</td>\n",
       "      <td>NaN</td>\n",
       "      <td>2.0</td>\n",
       "      <td>JMF. Departamento 2 amb en pozo con cocheraEnt...</td>\n",
       "    </tr>\n",
       "    <tr>\n",
       "      <th>11259</th>\n",
       "      <td>PH</td>\n",
       "      <td>Velez Sarsfield</td>\n",
       "      <td>80000.0</td>\n",
       "      <td>USD</td>\n",
       "      <td>1411560.0</td>\n",
       "      <td>80000.0</td>\n",
       "      <td>53.9</td>\n",
       "      <td>49.0</td>\n",
       "      <td>1484.230056</td>\n",
       "      <td>1632.653061</td>\n",
       "      <td>NaN</td>\n",
       "      <td>2.0</td>\n",
       "      <td>Corredor Responsable: Pamela Suarez - CUCICBA ...</td>\n",
       "    </tr>\n",
       "    <tr>\n",
       "      <th>48693</th>\n",
       "      <td>apartment</td>\n",
       "      <td>Recoleta</td>\n",
       "      <td>930000.0</td>\n",
       "      <td>USD</td>\n",
       "      <td>16409385.0</td>\n",
       "      <td>930000.0</td>\n",
       "      <td>374.0</td>\n",
       "      <td>340.0</td>\n",
       "      <td>2486.631016</td>\n",
       "      <td>2735.294118</td>\n",
       "      <td>NaN</td>\n",
       "      <td>5.0</td>\n",
       "      <td>Corredor Responsable: Uno Bienes Raices SRL - ...</td>\n",
       "    </tr>\n",
       "  </tbody>\n",
       "</table>\n",
       "</div>"
      ],
      "text/plain": [
       "      property_type       place_name     price currency  \\\n",
       "24532         house            Boedo  245000.0      USD   \n",
       "13083     apartment         Belgrano  365000.0      USD   \n",
       "30285     apartment            Boedo  130000.0      USD   \n",
       "11259            PH  Velez Sarsfield   80000.0      USD   \n",
       "48693     apartment         Recoleta  930000.0      USD   \n",
       "\n",
       "       price_aprox_local_currency  price_aprox_usd  surface_total_in_m2  \\\n",
       "24532                   4322902.5         245000.0                230.0   \n",
       "13083                   6440242.5         365000.0                133.0   \n",
       "30285                   2293785.0         130000.0                 69.0   \n",
       "11259                   1411560.0          80000.0                 53.9   \n",
       "48693                  16409385.0         930000.0                374.0   \n",
       "\n",
       "       surface_covered_in_m2  price_usd_per_m2  price_per_m2  floor  rooms  \\\n",
       "24532                  136.0       1065.217391   1801.470588    NaN    NaN   \n",
       "13083                  133.0       2744.360902   2744.360902    NaN    6.0   \n",
       "30285                   46.0       1884.057971   2826.086957    NaN    2.0   \n",
       "11259                   49.0       1484.230056   1632.653061    NaN    2.0   \n",
       "48693                  340.0       2486.631016   2735.294118    NaN    5.0   \n",
       "\n",
       "                                             description  \n",
       "24532  CODIGO: 2883-839 ubicado en: Sanchez de Loria ...  \n",
       "13083  Excelente e impecable semipiso en edificio Pel...  \n",
       "30285  JMF. Departamento 2 amb en pozo con cocheraEnt...  \n",
       "11259  Corredor Responsable: Pamela Suarez - CUCICBA ...  \n",
       "48693  Corredor Responsable: Uno Bienes Raices SRL - ...  "
      ]
     },
     "execution_count": 598,
     "metadata": {},
     "output_type": "execute_result"
    }
   ],
   "source": [
    "# Idem al punto anterior pero ahora calculamos el precio por metro cuadrado.\n",
    "\n",
    "data_caba_clean.price_usd_per_m2.fillna(data_caba_clean.price_aprox_usd / data_caba_clean.surface_total_in_m2, inplace=True)\n",
    "\n",
    "data_caba_clean.sample(5)"
   ]
  },
  {
   "cell_type": "markdown",
   "metadata": {},
   "source": [
    "<h3> Eliminamos floor </h3>\n",
    "\n",
    "[volver a TOC](#section_toc)"
   ]
  },
  {
   "cell_type": "code",
   "execution_count": 599,
   "metadata": {},
   "outputs": [
    {
     "data": {
      "text/plain": [
       "32316"
      ]
     },
     "metadata": {},
     "output_type": "display_data"
    }
   ],
   "source": [
    "display(data_caba.floor.isnull().count())\n",
    "\n",
    "# El piso es un dato muy incompleto por lo que se dropea\n",
    "\n",
    "# Dropeamos la columna creada anteriormente.\n",
    "data_caba_clean.drop(columns=['floor'], inplace=True)\n",
    "\n",
    "# En el caso de Rooms lo reemplazamos por 0 --> Lo pasé más abajo\n",
    "# data_caba_clean.rooms.fillna(0, inplace=True)"
   ]
  },
  {
   "cell_type": "code",
   "execution_count": 600,
   "metadata": {},
   "outputs": [
    {
     "data": {
      "text/plain": [
       "15325"
      ]
     },
     "metadata": {},
     "output_type": "display_data"
    }
   ],
   "source": [
    "display(data_caba.rooms.count())\n",
    "# En el caso de rooms, podemos tomar que el dato para los NaN es 0?? modifica esto el analisis para predecir? "
   ]
  },
  {
   "cell_type": "markdown",
   "metadata": {},
   "source": [
    "<h3> Eliminamos columnas de precios en moneda local </h3>\n",
    "\n",
    "[volver a TOC](#section_toc)"
   ]
  },
  {
   "cell_type": "code",
   "execution_count": 601,
   "metadata": {},
   "outputs": [
    {
     "data": {
      "text/html": [
       "<div>\n",
       "<style scoped>\n",
       "    .dataframe tbody tr th:only-of-type {\n",
       "        vertical-align: middle;\n",
       "    }\n",
       "\n",
       "    .dataframe tbody tr th {\n",
       "        vertical-align: top;\n",
       "    }\n",
       "\n",
       "    .dataframe thead th {\n",
       "        text-align: right;\n",
       "    }\n",
       "</style>\n",
       "<table border=\"1\" class=\"dataframe\">\n",
       "  <thead>\n",
       "    <tr style=\"text-align: right;\">\n",
       "      <th></th>\n",
       "      <th>property_type</th>\n",
       "      <th>place_name</th>\n",
       "      <th>price_aprox_usd</th>\n",
       "      <th>surface_total_in_m2</th>\n",
       "      <th>surface_covered_in_m2</th>\n",
       "      <th>price_usd_per_m2</th>\n",
       "      <th>rooms</th>\n",
       "      <th>description</th>\n",
       "    </tr>\n",
       "  </thead>\n",
       "  <tbody>\n",
       "    <tr>\n",
       "      <th>93534</th>\n",
       "      <td>apartment</td>\n",
       "      <td>Villa Crespo</td>\n",
       "      <td>178918.00</td>\n",
       "      <td>60.0</td>\n",
       "      <td>49.0</td>\n",
       "      <td>2981.966667</td>\n",
       "      <td>NaN</td>\n",
       "      <td>Este emprendimiento está ubicado en pleno barr...</td>\n",
       "    </tr>\n",
       "    <tr>\n",
       "      <th>83360</th>\n",
       "      <td>store</td>\n",
       "      <td>Flores</td>\n",
       "      <td>500000.00</td>\n",
       "      <td>195.0</td>\n",
       "      <td>195.0</td>\n",
       "      <td>2564.102564</td>\n",
       "      <td>NaN</td>\n",
       "      <td>Local en venta en Flores. Excelente local come...</td>\n",
       "    </tr>\n",
       "    <tr>\n",
       "      <th>38055</th>\n",
       "      <td>apartment</td>\n",
       "      <td>Las Cañitas</td>\n",
       "      <td>198000.00</td>\n",
       "      <td>65.0</td>\n",
       "      <td>60.0</td>\n",
       "      <td>3046.153846</td>\n",
       "      <td>3.0</td>\n",
       "      <td>Ubicado en una excelente zona de Las Cañitas, ...</td>\n",
       "    </tr>\n",
       "    <tr>\n",
       "      <th>28918</th>\n",
       "      <td>apartment</td>\n",
       "      <td>Palermo</td>\n",
       "      <td>310000.00</td>\n",
       "      <td>107.0</td>\n",
       "      <td>103.0</td>\n",
       "      <td>2897.196262</td>\n",
       "      <td>4.0</td>\n",
       "      <td>Semi piso 4 ambientes Frente al Botánico \"C. T...</td>\n",
       "    </tr>\n",
       "    <tr>\n",
       "      <th>86145</th>\n",
       "      <td>apartment</td>\n",
       "      <td>Palermo Chico</td>\n",
       "      <td>359000.00</td>\n",
       "      <td>94.0</td>\n",
       "      <td>63.0</td>\n",
       "      <td>3819.148936</td>\n",
       "      <td>NaN</td>\n",
       "      <td>*** EDIFICIO SCALABRINI ORTIZ 3064 ***, entre ...</td>\n",
       "    </tr>\n",
       "    <tr>\n",
       "      <th>32892</th>\n",
       "      <td>apartment</td>\n",
       "      <td>Flores</td>\n",
       "      <td>190000.00</td>\n",
       "      <td>108.0</td>\n",
       "      <td>100.0</td>\n",
       "      <td>1759.259259</td>\n",
       "      <td>NaN</td>\n",
       "      <td>CODIGO: 3410-187 ubicado en: Rivadavia 7000 - ...</td>\n",
       "    </tr>\n",
       "    <tr>\n",
       "      <th>48795</th>\n",
       "      <td>store</td>\n",
       "      <td>San Telmo</td>\n",
       "      <td>420000.00</td>\n",
       "      <td>245.0</td>\n",
       "      <td>245.0</td>\n",
       "      <td>1714.285714</td>\n",
       "      <td>NaN</td>\n",
       "      <td>HERMOSO LOCAL GASTRONOMICO EN VENTA, CON RENTA...</td>\n",
       "    </tr>\n",
       "    <tr>\n",
       "      <th>91334</th>\n",
       "      <td>apartment</td>\n",
       "      <td>Belgrano</td>\n",
       "      <td>370857.74</td>\n",
       "      <td>101.0</td>\n",
       "      <td>71.0</td>\n",
       "      <td>3671.858812</td>\n",
       "      <td>NaN</td>\n",
       "      <td>El emprendimiento tiene unidades entre mediane...</td>\n",
       "    </tr>\n",
       "    <tr>\n",
       "      <th>50061</th>\n",
       "      <td>apartment</td>\n",
       "      <td>Villa Urquiza</td>\n",
       "      <td>270000.00</td>\n",
       "      <td>82.0</td>\n",
       "      <td>72.0</td>\n",
       "      <td>3292.682927</td>\n",
       "      <td>3.0</td>\n",
       "      <td>Departamento 3 AMBIENTES en Villa Urquiza, Cap...</td>\n",
       "    </tr>\n",
       "    <tr>\n",
       "      <th>80024</th>\n",
       "      <td>apartment</td>\n",
       "      <td>Almagro</td>\n",
       "      <td>151000.00</td>\n",
       "      <td>87.0</td>\n",
       "      <td>70.0</td>\n",
       "      <td>1735.632184</td>\n",
       "      <td>NaN</td>\n",
       "      <td>VENTA DEPARTAMENTO 3 AMBIENTES EN ALMAGRODepar...</td>\n",
       "    </tr>\n",
       "    <tr>\n",
       "      <th>42715</th>\n",
       "      <td>apartment</td>\n",
       "      <td>Barrio Norte</td>\n",
       "      <td>96000.00</td>\n",
       "      <td>45.0</td>\n",
       "      <td>41.0</td>\n",
       "      <td>2133.333333</td>\n",
       "      <td>NaN</td>\n",
       "      <td>CODIGO: 2905-sch 05 ubicado en: Ecuador 800 - ...</td>\n",
       "    </tr>\n",
       "    <tr>\n",
       "      <th>40430</th>\n",
       "      <td>apartment</td>\n",
       "      <td>Almagro</td>\n",
       "      <td>126900.00</td>\n",
       "      <td>53.0</td>\n",
       "      <td>48.0</td>\n",
       "      <td>2394.339623</td>\n",
       "      <td>2.0</td>\n",
       "      <td>ESTADO DE ISRAEL 4272 - CERCA DE TODOEdificio ...</td>\n",
       "    </tr>\n",
       "    <tr>\n",
       "      <th>9104</th>\n",
       "      <td>PH</td>\n",
       "      <td>Saavedra</td>\n",
       "      <td>235000.00</td>\n",
       "      <td>110.0</td>\n",
       "      <td>100.0</td>\n",
       "      <td>2136.363636</td>\n",
       "      <td>4.0</td>\n",
       "      <td>Excelente PH 1er piso al frente de tan solo 8 ...</td>\n",
       "    </tr>\n",
       "    <tr>\n",
       "      <th>40777</th>\n",
       "      <td>apartment</td>\n",
       "      <td>Saavedra</td>\n",
       "      <td>110000.00</td>\n",
       "      <td>48.0</td>\n",
       "      <td>40.0</td>\n",
       "      <td>2291.666667</td>\n",
       "      <td>NaN</td>\n",
       "      <td>Apto crÃ©dito hipotecario.Excelente departamen...</td>\n",
       "    </tr>\n",
       "    <tr>\n",
       "      <th>40384</th>\n",
       "      <td>apartment</td>\n",
       "      <td>Recoleta</td>\n",
       "      <td>1250000.00</td>\n",
       "      <td>236.0</td>\n",
       "      <td>218.0</td>\n",
       "      <td>5296.610169</td>\n",
       "      <td>5.0</td>\n",
       "      <td>Descripción Espectacular piso, máxima categorí...</td>\n",
       "    </tr>\n",
       "    <tr>\n",
       "      <th>40287</th>\n",
       "      <td>PH</td>\n",
       "      <td>Balvanera</td>\n",
       "      <td>145000.00</td>\n",
       "      <td>90.0</td>\n",
       "      <td>85.0</td>\n",
       "      <td>1611.111111</td>\n",
       "      <td>4.0</td>\n",
       "      <td>Increible ph reciclado a nuevo!!A 300 metros d...</td>\n",
       "    </tr>\n",
       "    <tr>\n",
       "      <th>98910</th>\n",
       "      <td>apartment</td>\n",
       "      <td>Villa Pueyrredón</td>\n",
       "      <td>134270.00</td>\n",
       "      <td>51.0</td>\n",
       "      <td>45.0</td>\n",
       "      <td>2632.745098</td>\n",
       "      <td>NaN</td>\n",
       "      <td>Espectacular 2 amb., muy luminoso, vista abier...</td>\n",
       "    </tr>\n",
       "    <tr>\n",
       "      <th>10790</th>\n",
       "      <td>apartment</td>\n",
       "      <td>Villa Urquiza</td>\n",
       "      <td>72150.00</td>\n",
       "      <td>53.9</td>\n",
       "      <td>49.0</td>\n",
       "      <td>1338.589981</td>\n",
       "      <td>1.0</td>\n",
       "      <td>Corredor Responsable: Ariel Champanier - C.U.C...</td>\n",
       "    </tr>\n",
       "    <tr>\n",
       "      <th>64645</th>\n",
       "      <td>apartment</td>\n",
       "      <td>Monserrat</td>\n",
       "      <td>399000.00</td>\n",
       "      <td>639.0</td>\n",
       "      <td>639.0</td>\n",
       "      <td>624.413146</td>\n",
       "      <td>NaN</td>\n",
       "      <td>VENTA PETIT HOTEL EN BLOQUE EN  EL CENTRO ** A...</td>\n",
       "    </tr>\n",
       "    <tr>\n",
       "      <th>57819</th>\n",
       "      <td>apartment</td>\n",
       "      <td>San Cristobal</td>\n",
       "      <td>83000.00</td>\n",
       "      <td>41.8</td>\n",
       "      <td>38.0</td>\n",
       "      <td>1985.645933</td>\n",
       "      <td>1.0</td>\n",
       "      <td>Corredor Responsable: Martin Macagno - CUCICBA...</td>\n",
       "    </tr>\n",
       "  </tbody>\n",
       "</table>\n",
       "</div>"
      ],
      "text/plain": [
       "      property_type        place_name  price_aprox_usd  surface_total_in_m2  \\\n",
       "93534     apartment      Villa Crespo        178918.00                 60.0   \n",
       "83360         store            Flores        500000.00                195.0   \n",
       "38055     apartment       Las Cañitas        198000.00                 65.0   \n",
       "28918     apartment           Palermo        310000.00                107.0   \n",
       "86145     apartment     Palermo Chico        359000.00                 94.0   \n",
       "32892     apartment            Flores        190000.00                108.0   \n",
       "48795         store         San Telmo        420000.00                245.0   \n",
       "91334     apartment          Belgrano        370857.74                101.0   \n",
       "50061     apartment     Villa Urquiza        270000.00                 82.0   \n",
       "80024     apartment           Almagro        151000.00                 87.0   \n",
       "42715     apartment      Barrio Norte         96000.00                 45.0   \n",
       "40430     apartment           Almagro        126900.00                 53.0   \n",
       "9104             PH          Saavedra        235000.00                110.0   \n",
       "40777     apartment          Saavedra        110000.00                 48.0   \n",
       "40384     apartment          Recoleta       1250000.00                236.0   \n",
       "40287            PH         Balvanera        145000.00                 90.0   \n",
       "98910     apartment  Villa Pueyrredón        134270.00                 51.0   \n",
       "10790     apartment     Villa Urquiza         72150.00                 53.9   \n",
       "64645     apartment         Monserrat        399000.00                639.0   \n",
       "57819     apartment     San Cristobal         83000.00                 41.8   \n",
       "\n",
       "       surface_covered_in_m2  price_usd_per_m2  rooms  \\\n",
       "93534                   49.0       2981.966667    NaN   \n",
       "83360                  195.0       2564.102564    NaN   \n",
       "38055                   60.0       3046.153846    3.0   \n",
       "28918                  103.0       2897.196262    4.0   \n",
       "86145                   63.0       3819.148936    NaN   \n",
       "32892                  100.0       1759.259259    NaN   \n",
       "48795                  245.0       1714.285714    NaN   \n",
       "91334                   71.0       3671.858812    NaN   \n",
       "50061                   72.0       3292.682927    3.0   \n",
       "80024                   70.0       1735.632184    NaN   \n",
       "42715                   41.0       2133.333333    NaN   \n",
       "40430                   48.0       2394.339623    2.0   \n",
       "9104                   100.0       2136.363636    4.0   \n",
       "40777                   40.0       2291.666667    NaN   \n",
       "40384                  218.0       5296.610169    5.0   \n",
       "40287                   85.0       1611.111111    4.0   \n",
       "98910                   45.0       2632.745098    NaN   \n",
       "10790                   49.0       1338.589981    1.0   \n",
       "64645                  639.0        624.413146    NaN   \n",
       "57819                   38.0       1985.645933    1.0   \n",
       "\n",
       "                                             description  \n",
       "93534  Este emprendimiento está ubicado en pleno barr...  \n",
       "83360  Local en venta en Flores. Excelente local come...  \n",
       "38055  Ubicado en una excelente zona de Las Cañitas, ...  \n",
       "28918  Semi piso 4 ambientes Frente al Botánico \"C. T...  \n",
       "86145  *** EDIFICIO SCALABRINI ORTIZ 3064 ***, entre ...  \n",
       "32892  CODIGO: 3410-187 ubicado en: Rivadavia 7000 - ...  \n",
       "48795  HERMOSO LOCAL GASTRONOMICO EN VENTA, CON RENTA...  \n",
       "91334  El emprendimiento tiene unidades entre mediane...  \n",
       "50061  Departamento 3 AMBIENTES en Villa Urquiza, Cap...  \n",
       "80024  VENTA DEPARTAMENTO 3 AMBIENTES EN ALMAGRODepar...  \n",
       "42715  CODIGO: 2905-sch 05 ubicado en: Ecuador 800 - ...  \n",
       "40430  ESTADO DE ISRAEL 4272 - CERCA DE TODOEdificio ...  \n",
       "9104   Excelente PH 1er piso al frente de tan solo 8 ...  \n",
       "40777  Apto crÃ©dito hipotecario.Excelente departamen...  \n",
       "40384  Descripción Espectacular piso, máxima categorí...  \n",
       "40287  Increible ph reciclado a nuevo!!A 300 metros d...  \n",
       "98910  Espectacular 2 amb., muy luminoso, vista abier...  \n",
       "10790  Corredor Responsable: Ariel Champanier - C.U.C...  \n",
       "64645  VENTA PETIT HOTEL EN BLOQUE EN  EL CENTRO ** A...  \n",
       "57819  Corredor Responsable: Martin Macagno - CUCICBA...  "
      ]
     },
     "execution_count": 601,
     "metadata": {},
     "output_type": "execute_result"
    }
   ],
   "source": [
    "# Dropeamos los valores que sabemos que está repetidos o con otra moneda.data_caba\n",
    "\n",
    "data_caba_clean.drop(columns=['price', 'currency','price_per_m2', 'price_aprox_local_currency'], inplace=True)\n",
    "\n",
    "data_caba_clean.sample(20)"
   ]
  },
  {
   "cell_type": "markdown",
   "metadata": {},
   "source": [
    "<h3> Nuevo recuento de nulos </h3>"
   ]
  },
  {
   "cell_type": "code",
   "execution_count": 602,
   "metadata": {},
   "outputs": [
    {
     "name": "stdout",
     "output_type": "stream",
     "text": [
      "\n",
      "Porcentaje de valores incompletos por columna:\n",
      "property_type             0.00\n",
      "place_name                0.00\n",
      "price_aprox_usd           0.00\n",
      "surface_total_in_m2       0.00\n",
      "surface_covered_in_m2     0.00\n",
      "price_usd_per_m2          0.00\n",
      "rooms                    43.82\n",
      "description               0.00\n",
      "dtype: float64\n"
     ]
    },
    {
     "data": {
      "text/plain": [
       "(25627, 8)"
      ]
     },
     "metadata": {},
     "output_type": "display_data"
    }
   ],
   "source": [
    "print('\\nPorcentaje de valores incompletos por columna:')\n",
    "print(f'{round(100 * data_caba_clean.isnull().sum()/data_caba_clean.shape[0], 2)}')\n",
    "\n",
    "display(data_caba_clean.shape)"
   ]
  },
  {
   "cell_type": "markdown",
   "metadata": {},
   "source": [
    "<h3>Creación de una columna para categorizar por metros cuadrados"
   ]
  },
  {
   "cell_type": "code",
   "execution_count": 603,
   "metadata": {},
   "outputs": [],
   "source": [
    "# Delimitamos los bins para realizar un cut\n",
    "# bins = [20, 30, 45, 75, 150, 220]\n",
    "bins = [0, 30, 45, 75, 150, 220]\n",
    "labels = ['mono', 's45', 's75', 's150', 'm220' ]\n",
    "\n",
    "data_caba_clean['m2_categories'] = pd.cut(data_caba_clean.surface_covered_in_m2, bins, labels)\n",
    "data_caba_clean['m2_labels'] = pd.cut(x=data_caba_clean.surface_covered_in_m2, bins=bins, labels=labels, right=False)\n"
   ]
  },
  {
   "cell_type": "code",
   "execution_count": 604,
   "metadata": {},
   "outputs": [
    {
     "data": {
      "text/plain": [
       "(0, 30]       2530\n",
       "(30, 45]      7452\n",
       "(45, 75]      7227\n",
       "(75, 150]     5449\n",
       "(150, 220]    1572\n",
       "Name: m2_categories, dtype: int64"
      ]
     },
     "execution_count": 604,
     "metadata": {},
     "output_type": "execute_result"
    }
   ],
   "source": [
    "data_caba_clean.m2_categories.value_counts().sort_index()"
   ]
  },
  {
   "cell_type": "code",
   "execution_count": 605,
   "metadata": {},
   "outputs": [
    {
     "data": {
      "text/plain": [
       "mono    1633\n",
       "s45     7863\n",
       "s75     7475\n",
       "s150    5574\n",
       "m220    1628\n",
       "Name: m2_labels, dtype: int64"
      ]
     },
     "execution_count": 605,
     "metadata": {},
     "output_type": "execute_result"
    }
   ],
   "source": [
    "data_caba_clean.m2_labels.value_counts().sort_index()"
   ]
  },
  {
   "cell_type": "markdown",
   "metadata": {},
   "source": [
    "<a id=\"section_caba_description\"></a> \n",
    "<h3> Análisis del campo <strong>description</strong></h3>\n",
    "\n",
    "[volver a TOC](#section_toc)"
   ]
  },
  {
   "cell_type": "markdown",
   "metadata": {},
   "source": [
    "Normalización del campo, todo minuscula, sin tildes, etc"
   ]
  },
  {
   "cell_type": "code",
   "execution_count": 606,
   "metadata": {},
   "outputs": [
    {
     "data": {
      "text/plain": [
       "118267    es un proyecto en construcción que tiene unida...\n",
       "13872     excelente hall de entrada amplio living-comedo...\n",
       "59402     oportunidad!! (no es apto credito)es el único ...\n",
       "55143     excelente monoambiente en villa urquiza!! cómo...\n",
       "80441      semi piso de 4 ambientes con dependencias y c...\n",
       "60003     palermo, venta oportunidad... para reciclar al...\n",
       "19104     corredor responsable: gustavo guastello - c.u....\n",
       "60373     excelente semipiso 3 ambientes75m2 totalesbalc...\n",
       "64068     excelente departamento en recoleta- 1 amb-25 m...\n",
       "15822     codigo: 03 ubicado en: c calvo 3500 -  publica...\n",
       "Name: description, dtype: object"
      ]
     },
     "execution_count": 606,
     "metadata": {},
     "output_type": "execute_result"
    }
   ],
   "source": [
    "data_caba_clean.description = data_caba_clean.description.str.lower()\n",
    "\n",
    "data_caba_clean.description.sample(10)"
   ]
  },
  {
   "cell_type": "markdown",
   "metadata": {},
   "source": [
    "<a id=\"section_caba_description_amb\"></a> \n",
    "<h4> Cantidad de ambientes</h4>\n",
    "\n",
    "[volver a TOC](#section_toc)"
   ]
  },
  {
   "cell_type": "code",
   "execution_count": 607,
   "metadata": {},
   "outputs": [],
   "source": [
    "amb_pattern = \"((?P<numero_amb>\\d)(\\s)?(amb|anv|amv|anb))\"\n",
    "amb_pattern_regex = re.compile(amb_pattern)"
   ]
  },
  {
   "cell_type": "code",
   "execution_count": 608,
   "metadata": {},
   "outputs": [],
   "source": [
    "amb_match = data_caba_clean.description.apply(lambda x: x if (x is np.NaN) | (x is None) else\\\n",
    "                                      amb_pattern_regex.search(x))\n",
    "mask_amb_match_notnull = amb_match.notnull()\n",
    "\n",
    "# Aplicamos el grupo que encuentra el dígito de cantidad de ambientes, casteado como integer\n",
    "data_caba_clean.loc[mask_amb_match_notnull, 'number_rooms'] = \\\n",
    "amb_match.loc[mask_amb_match_notnull].apply(lambda x: int(x.group(\"numero_amb\")))"
   ]
  },
  {
   "cell_type": "code",
   "execution_count": 609,
   "metadata": {},
   "outputs": [],
   "source": [
    "dorm_pattern = \"((?P<numero_dorm>\\d)(\\s)?(dorm))\"\n",
    "dorm_pattern_regex = re.compile(dorm_pattern)"
   ]
  },
  {
   "cell_type": "code",
   "execution_count": 610,
   "metadata": {},
   "outputs": [],
   "source": [
    "dorm_match = data_caba_clean.description.apply(lambda x: x if (x is np.NaN) | (x is None) else dorm_pattern_regex.search(x))\n",
    "\n",
    "mask_dorm_match_notnull = dorm_match.notnull()\n",
    "\n",
    "data_caba_clean.loc[mask_dorm_match_notnull, 'number_rooms'] = \\\n",
    "dorm_match.loc[mask_dorm_match_notnull].apply(lambda x: int(x.group(\"numero_dorm\"))+1)\n",
    "\n",
    "#se asume que el numero de ambientes es numero_dorm +1"
   ]
  },
  {
   "cell_type": "markdown",
   "metadata": {},
   "source": [
    "Tratamos de llenar los rooms que faltan con lo que obtuvimos de la descripción"
   ]
  },
  {
   "cell_type": "code",
   "execution_count": 611,
   "metadata": {},
   "outputs": [
    {
     "data": {
      "text/html": [
       "<div>\n",
       "<style scoped>\n",
       "    .dataframe tbody tr th:only-of-type {\n",
       "        vertical-align: middle;\n",
       "    }\n",
       "\n",
       "    .dataframe tbody tr th {\n",
       "        vertical-align: top;\n",
       "    }\n",
       "\n",
       "    .dataframe thead th {\n",
       "        text-align: right;\n",
       "    }\n",
       "</style>\n",
       "<table border=\"1\" class=\"dataframe\">\n",
       "  <thead>\n",
       "    <tr style=\"text-align: right;\">\n",
       "      <th></th>\n",
       "      <th>property_type</th>\n",
       "      <th>place_name</th>\n",
       "      <th>price_aprox_usd</th>\n",
       "      <th>surface_total_in_m2</th>\n",
       "      <th>surface_covered_in_m2</th>\n",
       "      <th>price_usd_per_m2</th>\n",
       "      <th>rooms</th>\n",
       "      <th>description</th>\n",
       "      <th>m2_categories</th>\n",
       "      <th>m2_labels</th>\n",
       "      <th>number_rooms</th>\n",
       "    </tr>\n",
       "  </thead>\n",
       "  <tbody>\n",
       "    <tr>\n",
       "      <th>0</th>\n",
       "      <td>PH</td>\n",
       "      <td>Mataderos</td>\n",
       "      <td>62000.0</td>\n",
       "      <td>55.0</td>\n",
       "      <td>40.0</td>\n",
       "      <td>1127.272727</td>\n",
       "      <td>NaN</td>\n",
       "      <td>2 ambientes tipo casa planta baja por pasillo,...</td>\n",
       "      <td>(30, 45]</td>\n",
       "      <td>s45</td>\n",
       "      <td>2.0</td>\n",
       "    </tr>\n",
       "    <tr>\n",
       "      <th>2</th>\n",
       "      <td>apartment</td>\n",
       "      <td>Mataderos</td>\n",
       "      <td>72000.0</td>\n",
       "      <td>55.0</td>\n",
       "      <td>55.0</td>\n",
       "      <td>1309.090909</td>\n",
       "      <td>NaN</td>\n",
       "      <td>2 ambientes 3er piso lateral living comedor am...</td>\n",
       "      <td>(45, 75]</td>\n",
       "      <td>s75</td>\n",
       "      <td>2.0</td>\n",
       "    </tr>\n",
       "    <tr>\n",
       "      <th>7</th>\n",
       "      <td>apartment</td>\n",
       "      <td>Belgrano</td>\n",
       "      <td>138000.0</td>\n",
       "      <td>45.0</td>\n",
       "      <td>40.0</td>\n",
       "      <td>3066.666667</td>\n",
       "      <td>NaN</td>\n",
       "      <td>excelente monoambiente a estrenar amplio super...</td>\n",
       "      <td>(30, 45]</td>\n",
       "      <td>s45</td>\n",
       "      <td>NaN</td>\n",
       "    </tr>\n",
       "  </tbody>\n",
       "</table>\n",
       "</div>"
      ],
      "text/plain": [
       "  property_type place_name  price_aprox_usd  surface_total_in_m2  \\\n",
       "0            PH  Mataderos          62000.0                 55.0   \n",
       "2     apartment  Mataderos          72000.0                 55.0   \n",
       "7     apartment   Belgrano         138000.0                 45.0   \n",
       "\n",
       "   surface_covered_in_m2  price_usd_per_m2  rooms  \\\n",
       "0                   40.0       1127.272727    NaN   \n",
       "2                   55.0       1309.090909    NaN   \n",
       "7                   40.0       3066.666667    NaN   \n",
       "\n",
       "                                         description m2_categories m2_labels  \\\n",
       "0  2 ambientes tipo casa planta baja por pasillo,...      (30, 45]       s45   \n",
       "2  2 ambientes 3er piso lateral living comedor am...      (45, 75]       s75   \n",
       "7  excelente monoambiente a estrenar amplio super...      (30, 45]       s45   \n",
       "\n",
       "   number_rooms  \n",
       "0           2.0  \n",
       "2           2.0  \n",
       "7           NaN  "
      ]
     },
     "execution_count": 611,
     "metadata": {},
     "output_type": "execute_result"
    }
   ],
   "source": [
    "data_caba_clean.head(3)"
   ]
  },
  {
   "cell_type": "code",
   "execution_count": 612,
   "metadata": {},
   "outputs": [
    {
     "data": {
      "text/plain": [
       "11230"
      ]
     },
     "execution_count": 612,
     "metadata": {},
     "output_type": "execute_result"
    }
   ],
   "source": [
    "data_caba_clean.rooms.isnull().sum()"
   ]
  },
  {
   "cell_type": "code",
   "execution_count": 613,
   "metadata": {},
   "outputs": [
    {
     "data": {
      "text/plain": [
       "9881"
      ]
     },
     "execution_count": 613,
     "metadata": {},
     "output_type": "execute_result"
    }
   ],
   "source": [
    "data_caba_clean.number_rooms.isnull().sum()"
   ]
  },
  {
   "cell_type": "code",
   "execution_count": 614,
   "metadata": {},
   "outputs": [],
   "source": [
    "data_caba_clean.rooms.fillna(data_caba_clean.number_rooms, inplace=True)"
   ]
  },
  {
   "cell_type": "code",
   "execution_count": 615,
   "metadata": {},
   "outputs": [
    {
     "data": {
      "text/plain": [
       "4665"
      ]
     },
     "execution_count": 615,
     "metadata": {},
     "output_type": "execute_result"
    }
   ],
   "source": [
    "data_caba_clean.rooms.isnull().sum()"
   ]
  },
  {
   "cell_type": "code",
   "execution_count": 616,
   "metadata": {},
   "outputs": [],
   "source": [
    "# data_caba_clean.rooms.fillna(0, inplace=True)\n",
    "# completar con los datos de categorias"
   ]
  },
  {
   "cell_type": "code",
   "execution_count": null,
   "metadata": {},
   "outputs": [],
   "source": []
  },
  {
   "cell_type": "code",
   "execution_count": 617,
   "metadata": {},
   "outputs": [
    {
     "data": {
      "text/plain": [
       "2.0     5406\n",
       "3.0     5262\n",
       "1.0     4341\n",
       "4.0     4012\n",
       "5.0     1266\n",
       "6.0      362\n",
       "7.0      174\n",
       "8.0       57\n",
       "9.0       27\n",
       "10.0      24\n",
       "12.0      11\n",
       "11.0       9\n",
       "0.0        4\n",
       "17.0       3\n",
       "22.0       1\n",
       "15.0       1\n",
       "14.0       1\n",
       "13.0       1\n",
       "Name: rooms, dtype: int64"
      ]
     },
     "execution_count": 617,
     "metadata": {},
     "output_type": "execute_result"
    }
   ],
   "source": [
    "data_caba_clean.rooms.value_counts()"
   ]
  },
  {
   "cell_type": "code",
   "execution_count": 618,
   "metadata": {},
   "outputs": [
    {
     "data": {
      "text/plain": [
       "763"
      ]
     },
     "execution_count": 618,
     "metadata": {},
     "output_type": "execute_result"
    }
   ],
   "source": [
    "rooms_dict = {\n",
    "\"mono\": 1, \"s45\":  2, \"s75\":  3, \"s150\":  4, \"m220\": 5}\n",
    "\n",
    "data_caba_clean[\"rooms_upon_categories\"] = data_caba_clean.m2_labels.map(rooms_dict)\n",
    "data_caba_clean['rooms_upon_categories']\n",
    "\n",
    "data_caba_clean.rooms.fillna(data_caba_clean.rooms_upon_categories, inplace=True)\n",
    "data_caba_clean.rooms.isnull().sum()\n"
   ]
  },
  {
   "cell_type": "markdown",
   "metadata": {},
   "source": [
    "### Llenamos los que faltan según las categorías de los bins???\n",
    "Además: eliminar los que tengan más de 10 ambientes? Son pocos datos! "
   ]
  },
  {
   "cell_type": "markdown",
   "metadata": {},
   "source": [
    "<a id=\"section_caba_description_amb\"></a> \n",
    "<h4> Amenities</h4>\n",
    "\n",
    "[volver a TOC](#section_toc)"
   ]
  },
  {
   "cell_type": "markdown",
   "metadata": {},
   "source": [
    "<h5> Pileta </h5>"
   ]
  },
  {
   "cell_type": "code",
   "execution_count": 619,
   "metadata": {},
   "outputs": [],
   "source": [
    "pileta_pattern = \"(?P<pileta>pileta|piscina|picina|pisina|pool)\"\n",
    "pileta_pattern_regex = re.compile(pileta_pattern)"
   ]
  },
  {
   "cell_type": "code",
   "execution_count": 620,
   "metadata": {},
   "outputs": [],
   "source": [
    "pileta_match = data_caba_clean.description.apply(lambda x: x if (x is np.NaN) | (x is None) else\\\n",
    "                                      pileta_pattern_regex.search(x))\n",
    "mask_pileta_match_notnull = pileta_match.notnull()\n",
    "\n",
    "data_caba_clean.loc[mask_pileta_match_notnull, 'pool'] = 1"
   ]
  },
  {
   "cell_type": "code",
   "execution_count": 621,
   "metadata": {},
   "outputs": [],
   "source": [
    "# data_caba_clean['pool']"
   ]
  },
  {
   "cell_type": "code",
   "execution_count": 622,
   "metadata": {},
   "outputs": [
    {
     "data": {
      "text/plain": [
       "6161"
      ]
     },
     "execution_count": 622,
     "metadata": {},
     "output_type": "execute_result"
    }
   ],
   "source": [
    "data_caba_clean['pool'].notnull().sum()"
   ]
  },
  {
   "cell_type": "code",
   "execution_count": 623,
   "metadata": {},
   "outputs": [],
   "source": [
    "#Completamos los datos NaN con ceros (convertimos en una variable dummy)\n",
    "data_caba_clean.pool.fillna(0, inplace = True)"
   ]
  },
  {
   "cell_type": "markdown",
   "metadata": {},
   "source": [
    "<h5> Laundry </h5>"
   ]
  },
  {
   "cell_type": "code",
   "execution_count": 624,
   "metadata": {},
   "outputs": [],
   "source": [
    "laudry_pattern = \"(?P<laundry>laundry|lavadero)\"\n",
    "laundry_pattern_regex = re.compile(laudry_pattern)\n",
    "\n",
    "laundry_match = data_caba_clean.description.apply(lambda x: x if (x is np.NaN) | (x is None) else\\\n",
    "                                      laundry_pattern_regex.search(x))\n",
    "mask_laundry_match_notnull = laundry_match.notnull()\n",
    "\n",
    "data_caba_clean.loc[mask_laundry_match_notnull, 'laundry'] = 1"
   ]
  },
  {
   "cell_type": "code",
   "execution_count": 625,
   "metadata": {},
   "outputs": [
    {
     "data": {
      "text/plain": [
       "10958"
      ]
     },
     "execution_count": 625,
     "metadata": {},
     "output_type": "execute_result"
    }
   ],
   "source": [
    "data_caba_clean['laundry'].notnull().sum()"
   ]
  },
  {
   "cell_type": "code",
   "execution_count": 626,
   "metadata": {},
   "outputs": [],
   "source": [
    "data_caba_clean.laundry.fillna(0, inplace = True)"
   ]
  },
  {
   "cell_type": "markdown",
   "metadata": {},
   "source": [
    "<h5> Parking </h5>"
   ]
  },
  {
   "cell_type": "code",
   "execution_count": 627,
   "metadata": {},
   "outputs": [],
   "source": [
    "parking_pattern = \"(?P<parking>parking|estacionamiento|garage|cochera|garaje)\"\n",
    "parking_pattern_regex = re.compile(parking_pattern)\n",
    "\n",
    "parking_match = data_caba_clean.description.apply(lambda x: x if (x is np.NaN) | (x is None) else\\\n",
    "                                      parking_pattern_regex.search(x))\n",
    "mask_parking_match_notnull = parking_match.notnull()\n",
    "\n",
    "data_caba_clean.loc[mask_parking_match_notnull, 'parking'] = 1"
   ]
  },
  {
   "cell_type": "code",
   "execution_count": 628,
   "metadata": {},
   "outputs": [
    {
     "data": {
      "text/plain": [
       "9796"
      ]
     },
     "execution_count": 628,
     "metadata": {},
     "output_type": "execute_result"
    }
   ],
   "source": [
    "data_caba_clean['parking'].notnull().sum()"
   ]
  },
  {
   "cell_type": "code",
   "execution_count": 629,
   "metadata": {},
   "outputs": [],
   "source": [
    "data_caba_clean.parking.fillna(0, inplace = True)"
   ]
  },
  {
   "cell_type": "markdown",
   "metadata": {},
   "source": [
    "<h5> Gimnasio </h5>"
   ]
  },
  {
   "cell_type": "code",
   "execution_count": 630,
   "metadata": {},
   "outputs": [],
   "source": [
    "gym_pattern = \"(?P<gimnasio>gim|gym|fitness|fitnes|ejercicio)\"\n",
    "gym_pattern_regex = re.compile(gym_pattern)\n",
    "\n",
    "gym_match = data_caba_clean.description.apply(lambda x: x if (x is np.NaN) | (x is None) else\\\n",
    "                                      gym_pattern_regex.search(x))\n",
    "mask_gim_match_notnull = gym_match.notnull()\n",
    "\n",
    "data_caba_clean.loc[mask_gim_match_notnull, 'gym'] = 1"
   ]
  },
  {
   "cell_type": "code",
   "execution_count": 631,
   "metadata": {},
   "outputs": [
    {
     "data": {
      "text/plain": [
       "3363"
      ]
     },
     "execution_count": 631,
     "metadata": {},
     "output_type": "execute_result"
    }
   ],
   "source": [
    "data_caba_clean['gym'].notnull().sum()"
   ]
  },
  {
   "cell_type": "code",
   "execution_count": 632,
   "metadata": {},
   "outputs": [],
   "source": [
    "data_caba_clean.gym.fillna(0, inplace = True)"
   ]
  },
  {
   "cell_type": "code",
   "execution_count": 633,
   "metadata": {},
   "outputs": [],
   "source": [
    "# plt.figure(figsize=(13,10))\n",
    "# sns.heatmap(data_caba_clean.corr(),annot=True)\n",
    "# plt.title(\"Correlation Heatmap\")\n",
    "# plt.show()"
   ]
  },
  {
   "cell_type": "markdown",
   "metadata": {},
   "source": [
    "<a id=\"section_caba_dummies\"></a> \n",
    "<h3> Creación dummies sobre datos categóricos </h3>\n",
    "\n",
    "[volver a TOC](#section_toc)"
   ]
  },
  {
   "cell_type": "code",
   "execution_count": 634,
   "metadata": {},
   "outputs": [
    {
     "data": {
      "text/html": [
       "<div>\n",
       "<style scoped>\n",
       "    .dataframe tbody tr th:only-of-type {\n",
       "        vertical-align: middle;\n",
       "    }\n",
       "\n",
       "    .dataframe tbody tr th {\n",
       "        vertical-align: top;\n",
       "    }\n",
       "\n",
       "    .dataframe thead th {\n",
       "        text-align: right;\n",
       "    }\n",
       "</style>\n",
       "<table border=\"1\" class=\"dataframe\">\n",
       "  <thead>\n",
       "    <tr style=\"text-align: right;\">\n",
       "      <th></th>\n",
       "      <th>prop_type_apartment</th>\n",
       "      <th>prop_type_house</th>\n",
       "      <th>prop_type_store</th>\n",
       "    </tr>\n",
       "  </thead>\n",
       "  <tbody>\n",
       "    <tr>\n",
       "      <th>0</th>\n",
       "      <td>0</td>\n",
       "      <td>0</td>\n",
       "      <td>0</td>\n",
       "    </tr>\n",
       "    <tr>\n",
       "      <th>2</th>\n",
       "      <td>1</td>\n",
       "      <td>0</td>\n",
       "      <td>0</td>\n",
       "    </tr>\n",
       "    <tr>\n",
       "      <th>7</th>\n",
       "      <td>1</td>\n",
       "      <td>0</td>\n",
       "      <td>0</td>\n",
       "    </tr>\n",
       "    <tr>\n",
       "      <th>8</th>\n",
       "      <td>1</td>\n",
       "      <td>0</td>\n",
       "      <td>0</td>\n",
       "    </tr>\n",
       "    <tr>\n",
       "      <th>13</th>\n",
       "      <td>1</td>\n",
       "      <td>0</td>\n",
       "      <td>0</td>\n",
       "    </tr>\n",
       "    <tr>\n",
       "      <th>...</th>\n",
       "      <td>...</td>\n",
       "      <td>...</td>\n",
       "      <td>...</td>\n",
       "    </tr>\n",
       "    <tr>\n",
       "      <th>121153</th>\n",
       "      <td>1</td>\n",
       "      <td>0</td>\n",
       "      <td>0</td>\n",
       "    </tr>\n",
       "    <tr>\n",
       "      <th>121157</th>\n",
       "      <td>1</td>\n",
       "      <td>0</td>\n",
       "      <td>0</td>\n",
       "    </tr>\n",
       "    <tr>\n",
       "      <th>121158</th>\n",
       "      <td>1</td>\n",
       "      <td>0</td>\n",
       "      <td>0</td>\n",
       "    </tr>\n",
       "    <tr>\n",
       "      <th>121215</th>\n",
       "      <td>1</td>\n",
       "      <td>0</td>\n",
       "      <td>0</td>\n",
       "    </tr>\n",
       "    <tr>\n",
       "      <th>121217</th>\n",
       "      <td>1</td>\n",
       "      <td>0</td>\n",
       "      <td>0</td>\n",
       "    </tr>\n",
       "  </tbody>\n",
       "</table>\n",
       "<p>25627 rows × 3 columns</p>\n",
       "</div>"
      ],
      "text/plain": [
       "        prop_type_apartment  prop_type_house  prop_type_store\n",
       "0                         0                0                0\n",
       "2                         1                0                0\n",
       "7                         1                0                0\n",
       "8                         1                0                0\n",
       "13                        1                0                0\n",
       "...                     ...              ...              ...\n",
       "121153                    1                0                0\n",
       "121157                    1                0                0\n",
       "121158                    1                0                0\n",
       "121215                    1                0                0\n",
       "121217                    1                0                0\n",
       "\n",
       "[25627 rows x 3 columns]"
      ]
     },
     "execution_count": 634,
     "metadata": {},
     "output_type": "execute_result"
    }
   ],
   "source": [
    "# Usamos la función get_dummies con one-hot encoding (drop_first=True)\n",
    "property_type_dummies = pd.get_dummies(data_caba_clean['property_type'], drop_first = True, prefix='prop_type')\n",
    "property_type_dummies"
   ]
  },
  {
   "cell_type": "code",
   "execution_count": 635,
   "metadata": {},
   "outputs": [],
   "source": [
    "m2_labels_dummies = pd.get_dummies(data_caba_clean['m2_labels'], drop_first = True, prefix='m2_label')"
   ]
  },
  {
   "cell_type": "code",
   "execution_count": 636,
   "metadata": {},
   "outputs": [],
   "source": [
    "place_name_dummies = pd.get_dummies(data_caba_clean['place_name'], drop_first = True, prefix='place_name')"
   ]
  },
  {
   "cell_type": "code",
   "execution_count": 637,
   "metadata": {},
   "outputs": [],
   "source": [
    "# Hacemos un join para concatenar las columnas al dataframe\n",
    "data_caba_clean = data_caba_clean.join([property_type_dummies,m2_labels_dummies, place_name_dummies])"
   ]
  },
  {
   "cell_type": "code",
   "execution_count": 638,
   "metadata": {},
   "outputs": [
    {
     "data": {
      "text/html": [
       "<div>\n",
       "<style scoped>\n",
       "    .dataframe tbody tr th:only-of-type {\n",
       "        vertical-align: middle;\n",
       "    }\n",
       "\n",
       "    .dataframe tbody tr th {\n",
       "        vertical-align: top;\n",
       "    }\n",
       "\n",
       "    .dataframe thead th {\n",
       "        text-align: right;\n",
       "    }\n",
       "</style>\n",
       "<table border=\"1\" class=\"dataframe\">\n",
       "  <thead>\n",
       "    <tr style=\"text-align: right;\">\n",
       "      <th></th>\n",
       "      <th>property_type</th>\n",
       "      <th>place_name</th>\n",
       "      <th>price_aprox_usd</th>\n",
       "      <th>surface_total_in_m2</th>\n",
       "      <th>surface_covered_in_m2</th>\n",
       "      <th>price_usd_per_m2</th>\n",
       "      <th>rooms</th>\n",
       "      <th>description</th>\n",
       "      <th>m2_categories</th>\n",
       "      <th>m2_labels</th>\n",
       "      <th>number_rooms</th>\n",
       "      <th>rooms_upon_categories</th>\n",
       "      <th>pool</th>\n",
       "      <th>laundry</th>\n",
       "      <th>parking</th>\n",
       "      <th>gym</th>\n",
       "      <th>prop_type_apartment</th>\n",
       "      <th>prop_type_house</th>\n",
       "      <th>prop_type_store</th>\n",
       "      <th>m2_label_s45</th>\n",
       "      <th>m2_label_s75</th>\n",
       "      <th>m2_label_s150</th>\n",
       "      <th>m2_label_m220</th>\n",
       "      <th>place_name_Agronomía</th>\n",
       "      <th>place_name_Almagro</th>\n",
       "      <th>place_name_Balvanera</th>\n",
       "      <th>place_name_Barracas</th>\n",
       "      <th>place_name_Barrio Norte</th>\n",
       "      <th>place_name_Belgrano</th>\n",
       "      <th>place_name_Boca</th>\n",
       "      <th>place_name_Boedo</th>\n",
       "      <th>place_name_Caballito</th>\n",
       "      <th>place_name_Catalinas</th>\n",
       "      <th>place_name_Centro / Microcentro</th>\n",
       "      <th>place_name_Chacarita</th>\n",
       "      <th>place_name_Coghlan</th>\n",
       "      <th>place_name_Colegiales</th>\n",
       "      <th>place_name_Congreso</th>\n",
       "      <th>place_name_Constitución</th>\n",
       "      <th>place_name_Flores</th>\n",
       "      <th>place_name_Floresta</th>\n",
       "      <th>place_name_Las Cañitas</th>\n",
       "      <th>place_name_Liniers</th>\n",
       "      <th>place_name_Mataderos</th>\n",
       "      <th>place_name_Monserrat</th>\n",
       "      <th>place_name_Monte Castro</th>\n",
       "      <th>place_name_Nuñez</th>\n",
       "      <th>place_name_Once</th>\n",
       "      <th>place_name_Palermo</th>\n",
       "      <th>place_name_Palermo Chico</th>\n",
       "      <th>place_name_Palermo Hollywood</th>\n",
       "      <th>place_name_Palermo Soho</th>\n",
       "      <th>place_name_Palermo Viejo</th>\n",
       "      <th>place_name_Parque Avellaneda</th>\n",
       "      <th>place_name_Parque Centenario</th>\n",
       "      <th>place_name_Parque Chacabuco</th>\n",
       "      <th>place_name_Parque Chas</th>\n",
       "      <th>place_name_Parque Patricios</th>\n",
       "      <th>place_name_Paternal</th>\n",
       "      <th>place_name_Pompeya</th>\n",
       "      <th>place_name_Puerto Madero</th>\n",
       "      <th>place_name_Recoleta</th>\n",
       "      <th>place_name_Retiro</th>\n",
       "      <th>place_name_Saavedra</th>\n",
       "      <th>place_name_San Cristobal</th>\n",
       "      <th>place_name_San Nicolás</th>\n",
       "      <th>place_name_San Telmo</th>\n",
       "      <th>place_name_Tribunales</th>\n",
       "      <th>place_name_Velez Sarsfield</th>\n",
       "      <th>place_name_Versalles</th>\n",
       "      <th>place_name_Villa Crespo</th>\n",
       "      <th>place_name_Villa Devoto</th>\n",
       "      <th>place_name_Villa General Mitre</th>\n",
       "      <th>place_name_Villa Lugano</th>\n",
       "      <th>place_name_Villa Luro</th>\n",
       "      <th>place_name_Villa Ortuzar</th>\n",
       "      <th>place_name_Villa Pueyrredón</th>\n",
       "      <th>place_name_Villa Real</th>\n",
       "      <th>place_name_Villa Riachuelo</th>\n",
       "      <th>place_name_Villa Santa Rita</th>\n",
       "      <th>place_name_Villa Soldati</th>\n",
       "      <th>place_name_Villa Urquiza</th>\n",
       "      <th>place_name_Villa del Parque</th>\n",
       "    </tr>\n",
       "  </thead>\n",
       "  <tbody>\n",
       "    <tr>\n",
       "      <th>0</th>\n",
       "      <td>PH</td>\n",
       "      <td>Mataderos</td>\n",
       "      <td>62000.0</td>\n",
       "      <td>55.0</td>\n",
       "      <td>40.0</td>\n",
       "      <td>1127.272727</td>\n",
       "      <td>2</td>\n",
       "      <td>2 ambientes tipo casa planta baja por pasillo,...</td>\n",
       "      <td>(30, 45]</td>\n",
       "      <td>s45</td>\n",
       "      <td>2.0</td>\n",
       "      <td>2</td>\n",
       "      <td>0.0</td>\n",
       "      <td>1.0</td>\n",
       "      <td>0.0</td>\n",
       "      <td>0.0</td>\n",
       "      <td>0</td>\n",
       "      <td>0</td>\n",
       "      <td>0</td>\n",
       "      <td>1</td>\n",
       "      <td>0</td>\n",
       "      <td>0</td>\n",
       "      <td>0</td>\n",
       "      <td>0</td>\n",
       "      <td>0</td>\n",
       "      <td>0</td>\n",
       "      <td>0</td>\n",
       "      <td>0</td>\n",
       "      <td>0</td>\n",
       "      <td>0</td>\n",
       "      <td>0</td>\n",
       "      <td>0</td>\n",
       "      <td>0</td>\n",
       "      <td>0</td>\n",
       "      <td>0</td>\n",
       "      <td>0</td>\n",
       "      <td>0</td>\n",
       "      <td>0</td>\n",
       "      <td>0</td>\n",
       "      <td>0</td>\n",
       "      <td>0</td>\n",
       "      <td>0</td>\n",
       "      <td>0</td>\n",
       "      <td>1</td>\n",
       "      <td>0</td>\n",
       "      <td>0</td>\n",
       "      <td>0</td>\n",
       "      <td>0</td>\n",
       "      <td>0</td>\n",
       "      <td>0</td>\n",
       "      <td>0</td>\n",
       "      <td>0</td>\n",
       "      <td>0</td>\n",
       "      <td>0</td>\n",
       "      <td>0</td>\n",
       "      <td>0</td>\n",
       "      <td>0</td>\n",
       "      <td>0</td>\n",
       "      <td>0</td>\n",
       "      <td>0</td>\n",
       "      <td>0</td>\n",
       "      <td>0</td>\n",
       "      <td>0</td>\n",
       "      <td>0</td>\n",
       "      <td>0</td>\n",
       "      <td>0</td>\n",
       "      <td>0</td>\n",
       "      <td>0</td>\n",
       "      <td>0</td>\n",
       "      <td>0</td>\n",
       "      <td>0</td>\n",
       "      <td>0</td>\n",
       "      <td>0</td>\n",
       "      <td>0</td>\n",
       "      <td>0</td>\n",
       "      <td>0</td>\n",
       "      <td>0</td>\n",
       "      <td>0</td>\n",
       "      <td>0</td>\n",
       "      <td>0</td>\n",
       "      <td>0</td>\n",
       "      <td>0</td>\n",
       "      <td>0</td>\n",
       "    </tr>\n",
       "    <tr>\n",
       "      <th>2</th>\n",
       "      <td>apartment</td>\n",
       "      <td>Mataderos</td>\n",
       "      <td>72000.0</td>\n",
       "      <td>55.0</td>\n",
       "      <td>55.0</td>\n",
       "      <td>1309.090909</td>\n",
       "      <td>2</td>\n",
       "      <td>2 ambientes 3er piso lateral living comedor am...</td>\n",
       "      <td>(45, 75]</td>\n",
       "      <td>s75</td>\n",
       "      <td>2.0</td>\n",
       "      <td>3</td>\n",
       "      <td>0.0</td>\n",
       "      <td>1.0</td>\n",
       "      <td>0.0</td>\n",
       "      <td>0.0</td>\n",
       "      <td>1</td>\n",
       "      <td>0</td>\n",
       "      <td>0</td>\n",
       "      <td>0</td>\n",
       "      <td>1</td>\n",
       "      <td>0</td>\n",
       "      <td>0</td>\n",
       "      <td>0</td>\n",
       "      <td>0</td>\n",
       "      <td>0</td>\n",
       "      <td>0</td>\n",
       "      <td>0</td>\n",
       "      <td>0</td>\n",
       "      <td>0</td>\n",
       "      <td>0</td>\n",
       "      <td>0</td>\n",
       "      <td>0</td>\n",
       "      <td>0</td>\n",
       "      <td>0</td>\n",
       "      <td>0</td>\n",
       "      <td>0</td>\n",
       "      <td>0</td>\n",
       "      <td>0</td>\n",
       "      <td>0</td>\n",
       "      <td>0</td>\n",
       "      <td>0</td>\n",
       "      <td>0</td>\n",
       "      <td>1</td>\n",
       "      <td>0</td>\n",
       "      <td>0</td>\n",
       "      <td>0</td>\n",
       "      <td>0</td>\n",
       "      <td>0</td>\n",
       "      <td>0</td>\n",
       "      <td>0</td>\n",
       "      <td>0</td>\n",
       "      <td>0</td>\n",
       "      <td>0</td>\n",
       "      <td>0</td>\n",
       "      <td>0</td>\n",
       "      <td>0</td>\n",
       "      <td>0</td>\n",
       "      <td>0</td>\n",
       "      <td>0</td>\n",
       "      <td>0</td>\n",
       "      <td>0</td>\n",
       "      <td>0</td>\n",
       "      <td>0</td>\n",
       "      <td>0</td>\n",
       "      <td>0</td>\n",
       "      <td>0</td>\n",
       "      <td>0</td>\n",
       "      <td>0</td>\n",
       "      <td>0</td>\n",
       "      <td>0</td>\n",
       "      <td>0</td>\n",
       "      <td>0</td>\n",
       "      <td>0</td>\n",
       "      <td>0</td>\n",
       "      <td>0</td>\n",
       "      <td>0</td>\n",
       "      <td>0</td>\n",
       "      <td>0</td>\n",
       "      <td>0</td>\n",
       "      <td>0</td>\n",
       "      <td>0</td>\n",
       "      <td>0</td>\n",
       "    </tr>\n",
       "    <tr>\n",
       "      <th>7</th>\n",
       "      <td>apartment</td>\n",
       "      <td>Belgrano</td>\n",
       "      <td>138000.0</td>\n",
       "      <td>45.0</td>\n",
       "      <td>40.0</td>\n",
       "      <td>3066.666667</td>\n",
       "      <td>2</td>\n",
       "      <td>excelente monoambiente a estrenar amplio super...</td>\n",
       "      <td>(30, 45]</td>\n",
       "      <td>s45</td>\n",
       "      <td>NaN</td>\n",
       "      <td>2</td>\n",
       "      <td>1.0</td>\n",
       "      <td>1.0</td>\n",
       "      <td>0.0</td>\n",
       "      <td>0.0</td>\n",
       "      <td>1</td>\n",
       "      <td>0</td>\n",
       "      <td>0</td>\n",
       "      <td>1</td>\n",
       "      <td>0</td>\n",
       "      <td>0</td>\n",
       "      <td>0</td>\n",
       "      <td>0</td>\n",
       "      <td>0</td>\n",
       "      <td>0</td>\n",
       "      <td>0</td>\n",
       "      <td>0</td>\n",
       "      <td>1</td>\n",
       "      <td>0</td>\n",
       "      <td>0</td>\n",
       "      <td>0</td>\n",
       "      <td>0</td>\n",
       "      <td>0</td>\n",
       "      <td>0</td>\n",
       "      <td>0</td>\n",
       "      <td>0</td>\n",
       "      <td>0</td>\n",
       "      <td>0</td>\n",
       "      <td>0</td>\n",
       "      <td>0</td>\n",
       "      <td>0</td>\n",
       "      <td>0</td>\n",
       "      <td>0</td>\n",
       "      <td>0</td>\n",
       "      <td>0</td>\n",
       "      <td>0</td>\n",
       "      <td>0</td>\n",
       "      <td>0</td>\n",
       "      <td>0</td>\n",
       "      <td>0</td>\n",
       "      <td>0</td>\n",
       "      <td>0</td>\n",
       "      <td>0</td>\n",
       "      <td>0</td>\n",
       "      <td>0</td>\n",
       "      <td>0</td>\n",
       "      <td>0</td>\n",
       "      <td>0</td>\n",
       "      <td>0</td>\n",
       "      <td>0</td>\n",
       "      <td>0</td>\n",
       "      <td>0</td>\n",
       "      <td>0</td>\n",
       "      <td>0</td>\n",
       "      <td>0</td>\n",
       "      <td>0</td>\n",
       "      <td>0</td>\n",
       "      <td>0</td>\n",
       "      <td>0</td>\n",
       "      <td>0</td>\n",
       "      <td>0</td>\n",
       "      <td>0</td>\n",
       "      <td>0</td>\n",
       "      <td>0</td>\n",
       "      <td>0</td>\n",
       "      <td>0</td>\n",
       "      <td>0</td>\n",
       "      <td>0</td>\n",
       "      <td>0</td>\n",
       "      <td>0</td>\n",
       "      <td>0</td>\n",
       "      <td>0</td>\n",
       "    </tr>\n",
       "  </tbody>\n",
       "</table>\n",
       "</div>"
      ],
      "text/plain": [
       "  property_type place_name  price_aprox_usd  surface_total_in_m2  \\\n",
       "0            PH  Mataderos          62000.0                 55.0   \n",
       "2     apartment  Mataderos          72000.0                 55.0   \n",
       "7     apartment   Belgrano         138000.0                 45.0   \n",
       "\n",
       "   surface_covered_in_m2  price_usd_per_m2 rooms  \\\n",
       "0                   40.0       1127.272727     2   \n",
       "2                   55.0       1309.090909     2   \n",
       "7                   40.0       3066.666667     2   \n",
       "\n",
       "                                         description m2_categories m2_labels  \\\n",
       "0  2 ambientes tipo casa planta baja por pasillo,...      (30, 45]       s45   \n",
       "2  2 ambientes 3er piso lateral living comedor am...      (45, 75]       s75   \n",
       "7  excelente monoambiente a estrenar amplio super...      (30, 45]       s45   \n",
       "\n",
       "   number_rooms rooms_upon_categories  pool  laundry  parking  gym  \\\n",
       "0           2.0                     2   0.0      1.0      0.0  0.0   \n",
       "2           2.0                     3   0.0      1.0      0.0  0.0   \n",
       "7           NaN                     2   1.0      1.0      0.0  0.0   \n",
       "\n",
       "   prop_type_apartment  prop_type_house  prop_type_store  m2_label_s45  \\\n",
       "0                    0                0                0             1   \n",
       "2                    1                0                0             0   \n",
       "7                    1                0                0             1   \n",
       "\n",
       "   m2_label_s75  m2_label_s150  m2_label_m220  place_name_Agronomía  \\\n",
       "0             0              0              0                     0   \n",
       "2             1              0              0                     0   \n",
       "7             0              0              0                     0   \n",
       "\n",
       "   place_name_Almagro  place_name_Balvanera  place_name_Barracas  \\\n",
       "0                   0                     0                    0   \n",
       "2                   0                     0                    0   \n",
       "7                   0                     0                    0   \n",
       "\n",
       "   place_name_Barrio Norte  place_name_Belgrano  place_name_Boca  \\\n",
       "0                        0                    0                0   \n",
       "2                        0                    0                0   \n",
       "7                        0                    1                0   \n",
       "\n",
       "   place_name_Boedo  place_name_Caballito  place_name_Catalinas  \\\n",
       "0                 0                     0                     0   \n",
       "2                 0                     0                     0   \n",
       "7                 0                     0                     0   \n",
       "\n",
       "   place_name_Centro / Microcentro  place_name_Chacarita  place_name_Coghlan  \\\n",
       "0                                0                     0                   0   \n",
       "2                                0                     0                   0   \n",
       "7                                0                     0                   0   \n",
       "\n",
       "   place_name_Colegiales  place_name_Congreso  place_name_Constitución  \\\n",
       "0                      0                    0                        0   \n",
       "2                      0                    0                        0   \n",
       "7                      0                    0                        0   \n",
       "\n",
       "   place_name_Flores  place_name_Floresta  place_name_Las Cañitas  \\\n",
       "0                  0                    0                       0   \n",
       "2                  0                    0                       0   \n",
       "7                  0                    0                       0   \n",
       "\n",
       "   place_name_Liniers  place_name_Mataderos  place_name_Monserrat  \\\n",
       "0                   0                     1                     0   \n",
       "2                   0                     1                     0   \n",
       "7                   0                     0                     0   \n",
       "\n",
       "   place_name_Monte Castro  place_name_Nuñez  place_name_Once  \\\n",
       "0                        0                 0                0   \n",
       "2                        0                 0                0   \n",
       "7                        0                 0                0   \n",
       "\n",
       "   place_name_Palermo  place_name_Palermo Chico  place_name_Palermo Hollywood  \\\n",
       "0                   0                         0                             0   \n",
       "2                   0                         0                             0   \n",
       "7                   0                         0                             0   \n",
       "\n",
       "   place_name_Palermo Soho  place_name_Palermo Viejo  \\\n",
       "0                        0                         0   \n",
       "2                        0                         0   \n",
       "7                        0                         0   \n",
       "\n",
       "   place_name_Parque Avellaneda  place_name_Parque Centenario  \\\n",
       "0                             0                             0   \n",
       "2                             0                             0   \n",
       "7                             0                             0   \n",
       "\n",
       "   place_name_Parque Chacabuco  place_name_Parque Chas  \\\n",
       "0                            0                       0   \n",
       "2                            0                       0   \n",
       "7                            0                       0   \n",
       "\n",
       "   place_name_Parque Patricios  place_name_Paternal  place_name_Pompeya  \\\n",
       "0                            0                    0                   0   \n",
       "2                            0                    0                   0   \n",
       "7                            0                    0                   0   \n",
       "\n",
       "   place_name_Puerto Madero  place_name_Recoleta  place_name_Retiro  \\\n",
       "0                         0                    0                  0   \n",
       "2                         0                    0                  0   \n",
       "7                         0                    0                  0   \n",
       "\n",
       "   place_name_Saavedra  place_name_San Cristobal  place_name_San Nicolás  \\\n",
       "0                    0                         0                       0   \n",
       "2                    0                         0                       0   \n",
       "7                    0                         0                       0   \n",
       "\n",
       "   place_name_San Telmo  place_name_Tribunales  place_name_Velez Sarsfield  \\\n",
       "0                     0                      0                           0   \n",
       "2                     0                      0                           0   \n",
       "7                     0                      0                           0   \n",
       "\n",
       "   place_name_Versalles  place_name_Villa Crespo  place_name_Villa Devoto  \\\n",
       "0                     0                        0                        0   \n",
       "2                     0                        0                        0   \n",
       "7                     0                        0                        0   \n",
       "\n",
       "   place_name_Villa General Mitre  place_name_Villa Lugano  \\\n",
       "0                               0                        0   \n",
       "2                               0                        0   \n",
       "7                               0                        0   \n",
       "\n",
       "   place_name_Villa Luro  place_name_Villa Ortuzar  \\\n",
       "0                      0                         0   \n",
       "2                      0                         0   \n",
       "7                      0                         0   \n",
       "\n",
       "   place_name_Villa Pueyrredón  place_name_Villa Real  \\\n",
       "0                            0                      0   \n",
       "2                            0                      0   \n",
       "7                            0                      0   \n",
       "\n",
       "   place_name_Villa Riachuelo  place_name_Villa Santa Rita  \\\n",
       "0                           0                            0   \n",
       "2                           0                            0   \n",
       "7                           0                            0   \n",
       "\n",
       "   place_name_Villa Soldati  place_name_Villa Urquiza  \\\n",
       "0                         0                         0   \n",
       "2                         0                         0   \n",
       "7                         0                         0   \n",
       "\n",
       "   place_name_Villa del Parque  \n",
       "0                            0  \n",
       "2                            0  \n",
       "7                            0  "
      ]
     },
     "execution_count": 638,
     "metadata": {},
     "output_type": "execute_result"
    }
   ],
   "source": [
    "data_caba_clean.head(3)"
   ]
  },
  {
   "cell_type": "markdown",
   "metadata": {},
   "source": [
    "### Falta reindexar las filas."
   ]
  },
  {
   "cell_type": "markdown",
   "metadata": {},
   "source": [
    "### Falta el dummy de Rooms pero primero hay que ver si completamos los datos con la info de los bins"
   ]
  },
  {
   "cell_type": "code",
   "execution_count": 639,
   "metadata": {},
   "outputs": [],
   "source": [
    "# Exportamos el archivo para usar en otras notebooks, esto lo guarda en el mismo directorio en el que estamos operando\n",
    "# data_caba_clean.to_csv('data_caba_clean.csv')"
   ]
  },
  {
   "cell_type": "code",
   "execution_count": null,
   "metadata": {},
   "outputs": [],
   "source": []
  },
  {
   "cell_type": "code",
   "execution_count": 640,
   "metadata": {},
   "outputs": [],
   "source": [
    "from sklearn.model_selection import cross_val_score, train_test_split, KFold\n",
    "from sklearn.linear_model import LinearRegression\n",
    "from sklearn import metrics, linear_model"
   ]
  },
  {
   "cell_type": "markdown",
   "metadata": {},
   "source": [
    "1. Primer modelo\n",
    "Eliminar rooms nulos\n",
    "Modelar \n",
    "\n",
    "2. Imputar datos faltantes en los rooms\n",
    "modelar \n",
    "\n",
    "3. Eliminar outliers\n",
    "modelar "
   ]
  },
  {
   "cell_type": "code",
   "execution_count": 683,
   "metadata": {},
   "outputs": [],
   "source": [
    "# Funcion para realizar el entrenamiento pero con un set de testeo.\n",
    "\n",
    "def graf_lineal_model(X, y, y_pred):\n",
    "    # Graficamos el modelo\n",
    "    plt.scatter(y_pred, y, s=30, c='b', alpha=0.4)\n",
    "    plt.plot(y,y, '-.',c='g')\n",
    "    plt.show()\n",
    "    print(y.shape)\n",
    "    print(y_pred.shape)\n",
    "    return\n",
    "\n",
    "def train_test_error(feature_cols, target):\n",
    "    X = data_caba_clean[feature_cols]\n",
    "    y = data_caba_clean[target].values.ravel()\n",
    "    \n",
    "    # OJO que no trabajamos con tiempo por lo tanto debe ser shuffle=True.\n",
    "    X_train, X_test, y_train, y_test = train_test_split(X, y,random_state=10)\n",
    "    \n",
    "    linreg = LinearRegression()\n",
    "    linreg.fit(X_train, y_train)\n",
    "    y_pred = linreg.predict(X_test)\n",
    "    \n",
    "#    print (feature_cols)\n",
    "#    print (\"y_test sample: \",y_test.values[0:10])\n",
    "#     print (\"y_test sample: \",y_test)\n",
    "#    print (\"y_pred sample: \",y_pred[0:20].astype(int))\n",
    "#    print ('MAE:', metrics.mean_absolute_error(y_test, y_pred))\n",
    "#    print ('MSE:', metrics.mean_squared_error(y_test, y_pred))\n",
    "    print ('RMSE:', np.sqrt(metrics.mean_squared_error(y_test, y_pred)))\n",
    "    print ('R2:', metrics.r2_score(y_test, y_pred))\n",
    "    graf_lineal_model(X, y_test, y_pred)\n",
    "    return \n",
    "\n",
    "def train_test_error_lazzo(feature_cols, target):\n",
    "    X = data_caba_clean[feature_cols]\n",
    "    y = data_caba_clean[target].values.ravel()\n",
    "#     cv = KFold(5, shuffle=True)\n",
    "    cv = 3\n",
    "    # OJO que no trabajamos con tiempo por lo tanto debe ser shuffle=True.\n",
    "    X_train, X_test, y_train, y_test = train_test_split(X, y, random_state=10)\n",
    "    \n",
    "    model = linear_model.LassoCV(alpha=0.5, normalize=True).fit(X_train, y_train)\n",
    "    scores = cross_val_score(model, X_train, y_train, cv=cv, scoring='r2')\n",
    "    \n",
    "    y_pred = model.predict(X_train)\n",
    "    print(dict(alpha=model.alpha_, scores=scores, mean_score=scores.mean(), zero_coefs=(model.coef_ == 0).sum()))\n",
    "    print (\"r^2:\", model.score(X, y))\n",
    "    print (\"Imprime Alpha\", model.alpha_)\n",
    "    graf_lineal_model(X, y_train, y_pred)\n",
    "    return \n",
    "\n",
    "def train_test_error_ridge(feature_cols, target):\n",
    "    X = data_caba_clean[feature_cols]\n",
    "    y = data_caba_clean[target].values.ravel()\n",
    "#     cv = KFold(5, shuffle=True)\n",
    "    cv = 3\n",
    "    # OJO que no trabajamos con tiempo por lo tanto debe ser shuffle=True.\n",
    "    X_train, X_test, y_train, y_test = train_test_split(X, y, random_state=10)\n",
    "    \n",
    "    #model = linear_model.Ridge(alpha=0.5, normalize=True).fit(X_train, y_train)\n",
    "    model = linear_model.RidgeCV(alphas=np.linspace(0.01,10, 1000), normalize=True).fit(X_train, y_train)\n",
    "    \n",
    "    scores = cross_val_score(model, X_train, y_train, cv=cv, scoring='r2')\n",
    "    \n",
    "    y_pred = model.predict(X_train)\n",
    "#     print(dict(alpha=model.alpha_, scores=scores, mean_score=scores.mean(), zero_coefs=(model.coef_ == 0).sum()))\n",
    "    print (\"r^2:\", model.score(X, y))\n",
    "    print (\"Coeficientes de la regresión\", model.coef_)\n",
    "    graf_lineal_model(X, y_train, y_pred)\n",
    "    return \n",
    "\n",
    "def train_test_error_elastic(feature_cols, target):\n",
    "    X = data_caba_clean[feature_cols]\n",
    "    y = data_caba_clean[target].values.ravel()\n",
    "#     cv = KFold(5, shuffle=True)\n",
    "    cv = 3\n",
    "    # OJO que no trabajamos con tiempo por lo tanto debe ser shuffle=True.\n",
    "    X_train, X_test, y_train, y_test = train_test_split(X, y, random_state=10)\n",
    "    \n",
    "    model = linear_model.ElasticNet(alpha=0.5, normalize=True).fit(X_train, y_train)\n",
    "    \n",
    "    scores = cross_val_score(model, X_train, y_train, cv=cv, scoring='r2')\n",
    "    \n",
    "    y_pred = model.predict(X_train)\n",
    "#     print(dict(alpha=model.alpha_, scores=scores, mean_score=scores.mean(), zero_coefs=(model.coef_ == 0).sum()))\n",
    "    print (\"r^2:\", model.score(X, y))\n",
    "    print (\"Coeficientes de la regresión\", model.coef_)\n",
    "    graf_lineal_model(X, y_train, y_pred)\n",
    "    return "
   ]
  },
  {
   "cell_type": "code",
   "execution_count": 642,
   "metadata": {},
   "outputs": [
    {
     "data": {
      "text/plain": [
       "Index(['property_type', 'place_name', 'price_aprox_usd', 'surface_total_in_m2',\n",
       "       'surface_covered_in_m2', 'price_usd_per_m2', 'rooms', 'description',\n",
       "       'm2_categories', 'm2_labels', 'number_rooms', 'rooms_upon_categories',\n",
       "       'pool', 'laundry', 'parking', 'gym', 'prop_type_apartment',\n",
       "       'prop_type_house', 'prop_type_store', 'm2_label_s45', 'm2_label_s75',\n",
       "       'm2_label_s150', 'm2_label_m220', 'place_name_Agronomía',\n",
       "       'place_name_Almagro', 'place_name_Balvanera', 'place_name_Barracas',\n",
       "       'place_name_Barrio Norte', 'place_name_Belgrano', 'place_name_Boca',\n",
       "       'place_name_Boedo', 'place_name_Caballito', 'place_name_Catalinas',\n",
       "       'place_name_Centro / Microcentro', 'place_name_Chacarita',\n",
       "       'place_name_Coghlan', 'place_name_Colegiales', 'place_name_Congreso',\n",
       "       'place_name_Constitución', 'place_name_Flores', 'place_name_Floresta',\n",
       "       'place_name_Las Cañitas', 'place_name_Liniers', 'place_name_Mataderos',\n",
       "       'place_name_Monserrat', 'place_name_Monte Castro', 'place_name_Nuñez',\n",
       "       'place_name_Once', 'place_name_Palermo', 'place_name_Palermo Chico',\n",
       "       'place_name_Palermo Hollywood', 'place_name_Palermo Soho',\n",
       "       'place_name_Palermo Viejo', 'place_name_Parque Avellaneda',\n",
       "       'place_name_Parque Centenario', 'place_name_Parque Chacabuco',\n",
       "       'place_name_Parque Chas', 'place_name_Parque Patricios',\n",
       "       'place_name_Paternal', 'place_name_Pompeya', 'place_name_Puerto Madero',\n",
       "       'place_name_Recoleta', 'place_name_Retiro', 'place_name_Saavedra',\n",
       "       'place_name_San Cristobal', 'place_name_San Nicolás',\n",
       "       'place_name_San Telmo', 'place_name_Tribunales',\n",
       "       'place_name_Velez Sarsfield', 'place_name_Versalles',\n",
       "       'place_name_Villa Crespo', 'place_name_Villa Devoto',\n",
       "       'place_name_Villa General Mitre', 'place_name_Villa Lugano',\n",
       "       'place_name_Villa Luro', 'place_name_Villa Ortuzar',\n",
       "       'place_name_Villa Pueyrredón', 'place_name_Villa Real',\n",
       "       'place_name_Villa Riachuelo', 'place_name_Villa Santa Rita',\n",
       "       'place_name_Villa Soldati', 'place_name_Villa Urquiza',\n",
       "       'place_name_Villa del Parque'],\n",
       "      dtype='object')"
      ]
     },
     "metadata": {},
     "output_type": "display_data"
    }
   ],
   "source": [
    "display(data_caba_clean.columns)"
   ]
  },
  {
   "cell_type": "code",
   "execution_count": 643,
   "metadata": {},
   "outputs": [
    {
     "name": "stdout",
     "output_type": "stream",
     "text": [
      "RMSE: 29676.697503514544\n",
      "R2: 0.0021623787501081626\n"
     ]
    },
    {
     "data": {
      "image/png": "[encoded data removed]",
      "text/plain": [
       "<Figure size 432x288 with 1 Axes>"
      ]
     },
     "metadata": {
      "needs_background": "light"
     },
     "output_type": "display_data"
    },
    {
     "name": "stdout",
     "output_type": "stream",
     "text": [
      "(6407,)\n",
      "(6407,)\n"
     ]
    }
   ],
   "source": [
    "# Regresion lineal Simple\n",
    "\n",
    "feature_cols = ['price_aprox_usd']\n",
    "target = ['price_usd_per_m2']\n",
    "\n",
    "train_test_error(feature_cols, target)\n"
   ]
  },
  {
   "cell_type": "code",
   "execution_count": null,
   "metadata": {},
   "outputs": [],
   "source": []
  },
  {
   "cell_type": "code",
   "execution_count": 644,
   "metadata": {},
   "outputs": [
    {
     "name": "stdout",
     "output_type": "stream",
     "text": [
      "RMSE: 31351.431669950027\n",
      "R2: -0.11363658457882542\n"
     ]
    },
    {
     "data": {
      "image/png": "[encoded data removed]",
      "text/plain": [
       "<Figure size 432x288 with 1 Axes>"
      ]
     },
     "metadata": {
      "needs_background": "light"
     },
     "output_type": "display_data"
    },
    {
     "name": "stdout",
     "output_type": "stream",
     "text": [
      "(6407,)\n",
      "(6407,)\n"
     ]
    }
   ],
   "source": [
    "feature_cols = ['surface_total_in_m2', 'price_aprox_usd', 'surface_covered_in_m2']\n",
    "target = ['price_usd_per_m2']\n",
    "\n",
    "train_test_error(feature_cols, target)\n"
   ]
  },
  {
   "cell_type": "code",
   "execution_count": 645,
   "metadata": {},
   "outputs": [
    {
     "name": "stdout",
     "output_type": "stream",
     "text": [
      "RMSE: 31303.053099118886\n",
      "R2: -0.1102023185675356\n"
     ]
    },
    {
     "data": {
      "image/png": "[encoded data removed]",
      "text/plain": [
       "<Figure size 432x288 with 1 Axes>"
      ]
     },
     "metadata": {
      "needs_background": "light"
     },
     "output_type": "display_data"
    },
    {
     "name": "stdout",
     "output_type": "stream",
     "text": [
      "(6407,)\n",
      "(6407,)\n"
     ]
    }
   ],
   "source": [
    "feature_cols = ['price_aprox_usd', 'surface_total_in_m2', 'surface_covered_in_m2',\n",
    "                'pool', 'laundry', 'parking', 'gym', 'place_name_Puerto Madero']\n",
    "target = ['price_usd_per_m2']\n",
    "\n",
    "train_test_error(feature_cols, target)"
   ]
  },
  {
   "cell_type": "code",
   "execution_count": 646,
   "metadata": {},
   "outputs": [
    {
     "name": "stdout",
     "output_type": "stream",
     "text": [
      "{'alpha': 0.06430447304200942, 'scores': array([0.08007109, 0.19867658, 0.09849737]), 'mean_score': 0.12574834714626648, 'zero_coefs': 0}\n",
      "r^2: -0.09329142709082583\n",
      "Imprime Alpha 0.06430447304200942\n"
     ]
    },
    {
     "data": {
      "image/png": "[encoded data removed]",
      "text/plain": [
       "<Figure size 432x288 with 1 Axes>"
      ]
     },
     "metadata": {
      "needs_background": "light"
     },
     "output_type": "display_data"
    },
    {
     "name": "stdout",
     "output_type": "stream",
     "text": [
      "(19220,)\n",
      "(19220,)\n"
     ]
    }
   ],
   "source": [
    "feature_cols = ['price_aprox_usd', 'surface_total_in_m2', 'surface_covered_in_m2',\n",
    "                'pool', 'laundry', 'parking', 'gym', 'place_name_Puerto Madero']\n",
    "target = ['price_usd_per_m2']\n",
    "train_test_error_lazzo(feature_cols, target)"
   ]
  },
  {
   "cell_type": "markdown",
   "metadata": {},
   "source": [
    "## Recordar que hay variables ROOM es INT!!!!"
   ]
  },
  {
   "cell_type": "code",
   "execution_count": 647,
   "metadata": {},
   "outputs": [
    {
     "name": "stdout",
     "output_type": "stream",
     "text": [
      "{'alpha': 0.039700341432054954, 'scores': array([0.00353483, 0.00202791, 0.00286821]), 'mean_score': 0.002810317104341653, 'zero_coefs': 0}\n",
      "r^2: -0.010580753132188425\n",
      "Imprime Alpha 0.039700341432054954\n"
     ]
    },
    {
     "data": {
      "image/png": "[encoded data removed]",
      "text/plain": [
       "<Figure size 432x288 with 1 Axes>"
      ]
     },
     "metadata": {
      "needs_background": "light"
     },
     "output_type": "display_data"
    },
    {
     "name": "stdout",
     "output_type": "stream",
     "text": [
      "(19220,)\n",
      "(19220,)\n"
     ]
    }
   ],
   "source": [
    "feature_cols = ['surface_total_in_m2']\n",
    "target = ['price_usd_per_m2']\n",
    "\n",
    "train_test_error_lazzo(feature_cols, target)"
   ]
  },
  {
   "cell_type": "code",
   "execution_count": 648,
   "metadata": {},
   "outputs": [
    {
     "name": "stdout",
     "output_type": "stream",
     "text": [
      "{'alpha': 0.06430447304200942, 'scores': array([0.08007109, 0.19867658, 0.09849737]), 'mean_score': 0.12574834714626648, 'zero_coefs': 0}\n",
      "r^2: -0.09329142709082583\n",
      "Imprime Alpha 0.06430447304200942\n"
     ]
    },
    {
     "data": {
      "image/png": "[encoded data removed]",
      "text/plain": [
       "<Figure size 432x288 with 1 Axes>"
      ]
     },
     "metadata": {
      "needs_background": "light"
     },
     "output_type": "display_data"
    },
    {
     "name": "stdout",
     "output_type": "stream",
     "text": [
      "(19220,)\n",
      "(19220,)\n"
     ]
    }
   ],
   "source": [
    "feature_cols = ['price_aprox_usd', 'surface_total_in_m2', 'surface_covered_in_m2',\n",
    "                'pool', 'laundry', 'parking', 'gym', 'place_name_Puerto Madero']\n",
    "target = ['price_usd_per_m2']\n",
    "\n",
    "train_test_error_lazzo(feature_cols, target)"
   ]
  },
  {
   "cell_type": "markdown",
   "metadata": {},
   "source": [
    "# Necesitamos definir Outliers."
   ]
  },
  {
   "cell_type": "code",
   "execution_count": 649,
   "metadata": {},
   "outputs": [
    {
     "data": {
      "image/png": "[encoded data removed]",
      "text/plain": [
       "<Figure size 432x288 with 1 Axes>"
      ]
     },
     "metadata": {
      "needs_background": "light"
     },
     "output_type": "display_data"
    }
   ],
   "source": [
    "fig, ax = plt.subplots()\n",
    "bp = ax.boxplot(data_caba_clean['surface_covered_in_m2'].dropna(), vert=False, showmeans=True)\n"
   ]
  },
  {
   "cell_type": "code",
   "execution_count": 650,
   "metadata": {},
   "outputs": [
    {
     "data": {
      "text/plain": [
       "0.01     760.226087\n",
       "0.95    6007.446809\n",
       "Name: price_usd_per_m2, dtype: float64"
      ]
     },
     "execution_count": 650,
     "metadata": {},
     "output_type": "execute_result"
    }
   ],
   "source": [
    "# Definimos outliers aproximados\n",
    "lower_bound = 0.01\n",
    "upper_bound = 0.95\n",
    "rest = data_caba_clean.price_usd_per_m2.quantile([lower_bound, upper_bound])\n",
    "rest"
   ]
  },
  {
   "cell_type": "code",
   "execution_count": 651,
   "metadata": {},
   "outputs": [
    {
     "data": {
      "image/png": "[encoded data removed]",
      "text/plain": [
       "<Figure size 432x288 with 1 Axes>"
      ]
     },
     "metadata": {
      "needs_background": "light"
     },
     "output_type": "display_data"
    },
    {
     "name": "stdout",
     "output_type": "stream",
     "text": [
      "6000.0\n",
      "760.8695652173913\n"
     ]
    }
   ],
   "source": [
    "# Creamos una mask entendiendo que los precios minimos y maximos pueden rondar los 600 USD y 4000 USD y fijamos outliers aproximados\n",
    "\n",
    "precioxm2_mask = (data_caba_clean.price_usd_per_m2 >= rest[0.01]) & (data_caba_clean.price_usd_per_m2 <= rest[0.95])\n",
    "data_caba_clean = data_caba_clean.loc[precioxm2_mask, :]\n",
    "\n",
    "# Vuelvo a graficar.\n",
    "\n",
    "plt.hist(data_caba_clean.price_usd_per_m2, bins=20, rwidth=0.8, color = '#29788E')\n",
    "plt.xlabel = 'Precio x M2'\n",
    "plt.ylabel = 'Count'\n",
    "plt.show()\n",
    "\n",
    "print(data_caba_clean.price_usd_per_m2.max()) \n",
    "print(data_caba_clean.price_usd_per_m2.min())\n",
    "\n",
    "# Parece una distribución normal? sino fuera por los valores elevados que tenemos a partir de los 3500..."
   ]
  },
  {
   "cell_type": "code",
   "execution_count": 652,
   "metadata": {},
   "outputs": [
    {
     "data": {
      "text/plain": [
       "0.001     12.0\n",
       "0.990    405.0\n",
       "Name: surface_covered_in_m2, dtype: float64"
      ]
     },
     "execution_count": 652,
     "metadata": {},
     "output_type": "execute_result"
    }
   ],
   "source": [
    "# Definimos outliers aproximados\n",
    "lower_bound = 0.001\n",
    "upper_bound = 0.99\n",
    "rest = data_caba_clean.surface_covered_in_m2.quantile([lower_bound, upper_bound])\n",
    "rest"
   ]
  },
  {
   "cell_type": "code",
   "execution_count": 653,
   "metadata": {},
   "outputs": [
    {
     "data": {
      "image/png": "[encoded data removed]",
      "text/plain": [
       "<Figure size 432x288 with 1 Axes>"
      ]
     },
     "metadata": {
      "needs_background": "light"
     },
     "output_type": "display_data"
    },
    {
     "name": "stdout",
     "output_type": "stream",
     "text": [
      "405.0\n",
      "12.0\n"
     ]
    }
   ],
   "source": [
    "# Creamos una mask entendiendo que los precios minimos y maximos pueden rondar los 600 USD y 4000 USD y fijamos outliers aproximados\n",
    "\n",
    "surface_xm2_mask = (data_caba_clean.surface_covered_in_m2 >= rest[0.001]) & (data_caba_clean.surface_covered_in_m2 <= rest[0.99])\n",
    "data_caba_clean = data_caba_clean.loc[surface_xm2_mask, :]\n",
    "\n",
    "# Vuelvo a graficar.\n",
    "\n",
    "plt.hist(data_caba_clean.surface_covered_in_m2, bins=20, rwidth=0.8, color = '#29788E')\n",
    "plt.xlabel = 'Precio x M2'\n",
    "plt.ylabel = 'Count'\n",
    "plt.show()\n",
    "\n",
    "print(data_caba_clean.surface_covered_in_m2.max()) \n",
    "print(data_caba_clean.surface_covered_in_m2.min())\n",
    "\n",
    "# Parece una distribución normal? sino fuera por los valores elevados que tenemos a partir de los 3500..."
   ]
  },
  {
   "cell_type": "code",
   "execution_count": 654,
   "metadata": {},
   "outputs": [
    {
     "name": "stdout",
     "output_type": "stream",
     "text": [
      "RMSE: 799.1457806562635\n",
      "R2: 0.1898547780882438\n"
     ]
    },
    {
     "data": {
      "image/png": "[encoded data removed]",
      "text/plain": [
       "<Figure size 432x288 with 1 Axes>"
      ]
     },
     "metadata": {
      "needs_background": "light"
     },
     "output_type": "display_data"
    },
    {
     "name": "stdout",
     "output_type": "stream",
     "text": [
      "(5957,)\n",
      "(5957,)\n"
     ]
    }
   ],
   "source": [
    "feature_cols = ['price_aprox_usd']\n",
    "target = ['price_usd_per_m2']\n",
    "\n",
    "train_test_error(feature_cols, target)\n"
   ]
  },
  {
   "cell_type": "code",
   "execution_count": 655,
   "metadata": {},
   "outputs": [
    {
     "name": "stdout",
     "output_type": "stream",
     "text": [
      "RMSE: 522.1895270445497\n",
      "R2: 0.6540867735094582\n"
     ]
    },
    {
     "data": {
      "image/png": "[encoded data removed]",
      "text/plain": [
       "<Figure size 432x288 with 1 Axes>"
      ]
     },
     "metadata": {
      "needs_background": "light"
     },
     "output_type": "display_data"
    },
    {
     "name": "stdout",
     "output_type": "stream",
     "text": [
      "(5957,)\n",
      "(5957,)\n"
     ]
    }
   ],
   "source": [
    "feature_cols = ['price_aprox_usd', 'surface_total_in_m2', 'surface_covered_in_m2',\n",
    "                'pool', 'laundry', 'parking', 'gym', 'place_name_Puerto Madero']\n",
    "target = ['price_usd_per_m2']\n",
    "\n",
    "train_test_error(feature_cols, target)"
   ]
  },
  {
   "cell_type": "code",
   "execution_count": 656,
   "metadata": {},
   "outputs": [
    {
     "name": "stdout",
     "output_type": "stream",
     "text": [
      "{'alpha': 0.02284575781849315, 'scores': array([0.66940589, 0.65380074, 0.66413054]), 'mean_score': 0.6624457200121133, 'zero_coefs': 1}\n",
      "r^2: 0.6607773451451069\n",
      "Imprime Alpha 0.02284575781849315\n"
     ]
    },
    {
     "data": {
      "image/png": "[encoded data removed]",
      "text/plain": [
       "<Figure size 432x288 with 1 Axes>"
      ]
     },
     "metadata": {
      "needs_background": "light"
     },
     "output_type": "display_data"
    },
    {
     "name": "stdout",
     "output_type": "stream",
     "text": [
      "(17869,)\n",
      "(17869,)\n"
     ]
    }
   ],
   "source": [
    "feature_cols = ['price_aprox_usd', 'surface_total_in_m2', 'surface_covered_in_m2',\n",
    "                'pool', 'laundry', 'parking', 'gym', 'place_name_Puerto Madero']\n",
    "target = ['price_usd_per_m2']\n",
    "\n",
    "train_test_error_lazzo(feature_cols, target)"
   ]
  },
  {
   "cell_type": "code",
   "execution_count": 657,
   "metadata": {},
   "outputs": [
    {
     "name": "stdout",
     "output_type": "stream",
     "text": [
      "r^2: 0.45059473024091345\n",
      "Coeficientes de la regresión [ 1.75704763e-03 -2.49483556e+00 -1.57902234e+00  1.86657344e+02\n",
      " -3.81146679e+01  1.40630906e+02  3.21028277e+02  1.12326473e+03]\n"
     ]
    },
    {
     "data": {
      "image/png": "[encoded data removed]",
      "text/plain": [
       "<Figure size 432x288 with 1 Axes>"
      ]
     },
     "metadata": {
      "needs_background": "light"
     },
     "output_type": "display_data"
    },
    {
     "name": "stdout",
     "output_type": "stream",
     "text": [
      "(17869,)\n",
      "(17869,)\n"
     ]
    }
   ],
   "source": [
    "feature_cols = ['price_aprox_usd', 'surface_total_in_m2', 'surface_covered_in_m2',\n",
    "                'pool', 'laundry', 'parking', 'gym', 'place_name_Puerto Madero']\n",
    "target = ['price_usd_per_m2']\n",
    "\n",
    "train_test_error_ridge(feature_cols, target)"
   ]
  },
  {
   "cell_type": "code",
   "execution_count": 658,
   "metadata": {},
   "outputs": [
    {
     "data": {
      "image/png": "[encoded data removed]",
      "text/plain": [
       "<Figure size 936x720 with 2 Axes>"
      ]
     },
     "metadata": {
      "needs_background": "light"
     },
     "output_type": "display_data"
    }
   ],
   "source": [
    "X = data_caba_clean[['price_aprox_usd', 'surface_total_in_m2', 'surface_covered_in_m2',\n",
    "        'pool', 'laundry', 'parking', 'gym', 'place_name_Puerto Madero']]\n",
    "\n",
    "plt.figure(figsize=(13,10))\n",
    "sns.heatmap(X.corr(),annot=True)\n",
    "plt.title(\"Correlation Heatmap\")\n",
    "plt.show()\n",
    "\n",
    "# Para tomar revisar!"
   ]
  },
  {
   "cell_type": "code",
   "execution_count": 684,
   "metadata": {},
   "outputs": [
    {
     "name": "stdout",
     "output_type": "stream",
     "text": [
      "r^2: 0.5023362729169688\n",
      "Coeficientes de la regresión [ 9.24100536e-04 -1.55903854e+02  2.15399056e+02 -1.43961417e+02\n",
      "  9.99106537e+01  4.46351318e+02 -4.85456509e+02 -1.55903854e+02\n",
      " -1.14995870e+02 -3.74992762e+02 -4.48825585e+02  4.60697018e+02\n",
      "  4.59833832e+02 -6.76224656e+02 -2.77792111e+02 -1.77333051e+01\n",
      " -8.21829631e+02 -2.08816220e+01 -1.88960832e+02  9.79922269e+01\n",
      "  5.92386588e+01 -4.50823938e+02 -4.72953524e+02 -3.26495598e+02\n",
      " -5.06716155e+02  8.69971244e+02 -5.34476871e+02 -6.63397034e+02\n",
      " -3.12992024e+02 -4.59951679e+02  3.65236793e+02 -3.73140433e+02\n",
      "  5.75241136e+02  1.17370057e+03  5.66130409e+02  6.07177132e+02\n",
      "  4.74771710e+02 -6.95474555e+02 -6.20986147e+01 -6.02729853e+02\n",
      " -1.47802370e+02 -4.67557074e+02 -3.54535542e+02 -9.11878692e+02\n",
      "  1.88463616e+03  6.54450454e+02  3.66670424e+02 -1.43726878e+02\n",
      " -1.47082408e+02 -1.88552086e+02 -1.77600464e+02 -2.88241580e+02\n",
      " -8.82036522e+02 -5.19846573e+02  1.38332526e+02 -2.74085242e+02\n",
      " -4.62637115e+02 -9.11333414e+02 -2.81968091e+02  4.02299097e+00\n",
      " -2.85252280e+02 -7.34281585e+02 -1.51154943e+03 -3.42026673e+02\n",
      " -1.17849181e+03  1.89259989e+01]\n"
     ]
    },
    {
     "data": {
      "image/png": "[encoded data removed]",
      "text/plain": [
       "<Figure size 432x288 with 1 Axes>"
      ]
     },
     "metadata": {
      "needs_background": "light"
     },
     "output_type": "display_data"
    },
    {
     "name": "stdout",
     "output_type": "stream",
     "text": [
      "(17869,)\n",
      "(17869,)\n"
     ]
    }
   ],
   "source": [
    "feature_cols = ['price_aprox_usd', 'place_name_Villa del Parque',\n",
    "                'pool', 'laundry', 'parking', 'gym', \n",
    "                'place_name_Agronomía', 'place_name_Villa del Parque',\n",
    "                'place_name_Almagro', 'place_name_Balvanera', 'place_name_Barracas',\n",
    "                'place_name_Barrio Norte', 'place_name_Belgrano', 'place_name_Boca',\n",
    "                'place_name_Boedo', 'place_name_Caballito', 'place_name_Catalinas',\n",
    "                'place_name_Centro / Microcentro', 'place_name_Chacarita',\n",
    "                'place_name_Coghlan', 'place_name_Colegiales', 'place_name_Congreso',\n",
    "                'place_name_Constitución', 'place_name_Flores', 'place_name_Floresta',\n",
    "                'place_name_Las Cañitas', 'place_name_Liniers', 'place_name_Mataderos',\n",
    "                'place_name_Monserrat', 'place_name_Monte Castro', 'place_name_Nuñez',\n",
    "                'place_name_Once', 'place_name_Palermo', 'place_name_Palermo Chico',\n",
    "                'place_name_Palermo Hollywood', 'place_name_Palermo Soho',\n",
    "                'place_name_Palermo Viejo', 'place_name_Parque Avellaneda',\n",
    "                'place_name_Parque Centenario', 'place_name_Parque Chacabuco',\n",
    "                'place_name_Parque Chas', 'place_name_Parque Patricios',\n",
    "                'place_name_Paternal', 'place_name_Pompeya', 'place_name_Puerto Madero',\n",
    "                'place_name_Recoleta', 'place_name_Retiro', 'place_name_Saavedra',\n",
    "                'place_name_San Cristobal', 'place_name_San Nicolás',\n",
    "                'place_name_San Telmo', 'place_name_Tribunales',\n",
    "                'place_name_Velez Sarsfield', 'place_name_Versalles',\n",
    "                'place_name_Villa Crespo', 'place_name_Villa Devoto',\n",
    "                'place_name_Villa General Mitre', 'place_name_Villa Lugano',\n",
    "                'place_name_Villa Luro', 'place_name_Villa Ortuzar',\n",
    "                'place_name_Villa Pueyrredón', 'place_name_Villa Real',\n",
    "                'place_name_Villa Riachuelo', 'place_name_Villa Santa Rita',\n",
    "                'place_name_Villa Soldati', 'place_name_Villa Urquiza']\n",
    "target = ['price_usd_per_m2']\n",
    "\n",
    "train_test_error_ridge(feature_cols, target)"
   ]
  },
  {
   "cell_type": "code",
   "execution_count": 660,
   "metadata": {},
   "outputs": [
    {
     "name": "stdout",
     "output_type": "stream",
     "text": [
      "r^2: 0.3470064851179453\n",
      "Coeficientes de la regresión [ 1.88382066e-03 -3.44553930e+00]\n"
     ]
    },
    {
     "data": {
      "image/png": "[encoded data removed]",
      "text/plain": [
       "<Figure size 432x288 with 1 Axes>"
      ]
     },
     "metadata": {
      "needs_background": "light"
     },
     "output_type": "display_data"
    },
    {
     "name": "stdout",
     "output_type": "stream",
     "text": [
      "(17869,)\n",
      "(17869,)\n"
     ]
    }
   ],
   "source": [
    "feature_cols = ['price_aprox_usd', 'surface_total_in_m2']\n",
    "target = ['price_usd_per_m2']\n",
    "\n",
    "train_test_error_ridge(feature_cols, target)"
   ]
  },
  {
   "cell_type": "code",
   "execution_count": 661,
   "metadata": {},
   "outputs": [
    {
     "name": "stdout",
     "output_type": "stream",
     "text": [
      "r^2: 0.00021463053896286777\n",
      "Coeficientes de la regresión [ 3.93680702e-07 -9.94785590e-05 -0.00000000e+00  1.18231126e-01\n",
      "  5.97975146e-04  7.99038969e-02  1.76526351e-01  5.11498253e-01]\n"
     ]
    },
    {
     "data": {
      "image/png": "[encoded data removed]",
      "text/plain": [
       "<Figure size 432x288 with 1 Axes>"
      ]
     },
     "metadata": {
      "needs_background": "light"
     },
     "output_type": "display_data"
    },
    {
     "name": "stdout",
     "output_type": "stream",
     "text": [
      "(17869,)\n",
      "(17869,)\n"
     ]
    }
   ],
   "source": [
    "feature_cols = ['price_aprox_usd', 'surface_total_in_m2', 'surface_covered_in_m2',\n",
    "                'pool', 'laundry', 'parking', 'gym', 'place_name_Puerto Madero']\n",
    "target = ['price_usd_per_m2']\n",
    "\n",
    "train_test_error_elastic(feature_cols, target)\n",
    "\n",
    "## horriblo, algo esta terriblemente mal."
   ]
  }
 ],
 "metadata": {
  "kernelspec": {
   "display_name": "Python 3",
   "language": "python",
   "name": "python3"
  },
  "language_info": {
   "codemirror_mode": {
    "name": "ipython",
    "version": 3
   },
   "file_extension": ".py",
   "mimetype": "text/x-python",
   "name": "python",
   "nbconvert_exporter": "python",
   "pygments_lexer": "ipython3",
   "version": "3.7.9"
  }
 },
 "nbformat": 4,
 "nbformat_minor": 4
}

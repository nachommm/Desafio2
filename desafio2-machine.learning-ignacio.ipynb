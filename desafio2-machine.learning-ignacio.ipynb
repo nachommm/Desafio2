{
 "cells": [
  {
   "cell_type": "markdown",
   "metadata": {},
   "source": [
    "<h2>Desafio 2 - Machine Learning\n"
   ]
  },
  {
   "cell_type": "markdown",
   "metadata": {},
   "source": [
    "<h3>Grupo 7</h3>\n",
    "<ul>\n",
    "    <li>Ignacio Mendieta</li>\n",
    "    <li>Laura Jazmín Chao</li>\n",
    "    <li>Juan Nicolás Capistrano</li>\n",
    "    <li>Betiana Srur</li>\n",
    "    <li>Marecelo Carrizo</li>\n",
    "    \n",
    "</ul>\n",
    "    "
   ]
  },
  {
   "cell_type": "markdown",
   "metadata": {},
   "source": [
    "**Desafio 2** : Aplicar las tecnicas de Machine Learning para calcular el precio por metro cuadrado de las propiedades."
   ]
  },
  {
   "cell_type": "code",
   "execution_count": 782,
   "metadata": {},
   "outputs": [],
   "source": [
    "import numpy as np\n",
    "import pandas as pd\n",
    "import re\n",
    "\n",
    "# Libreria Grafica.\n",
    "%matplotlib inline\n",
    "import seaborn as sns\n",
    "from matplotlib import pyplot as plt\n",
    "\n",
    "# Visualización\n",
    "from bokeh.plotting import figure, show, output_notebook\n",
    "from bokeh.models import NumeralTickFormatter # Para imprimir los %\n",
    "from bokeh.tile_providers import CARTODBPOSITRON, get_provider, Vendors \n",
    "from bokeh.resources import INLINE\n",
    "\n",
    "# Libreria para analisis ML\n",
    "from sklearn import datasets, linear_model\n",
    "\n",
    "pd.set_option('display.max_columns', 100) # Para mostrar todas las columnas\n",
    "pd.set_option('display.max_rows', 100) # Para mostrar todas las filas"
   ]
  },
  {
   "cell_type": "code",
   "execution_count": 783,
   "metadata": {},
   "outputs": [
    {
     "data": {
      "text/html": [
       "<div>\n",
       "<style scoped>\n",
       "    .dataframe tbody tr th:only-of-type {\n",
       "        vertical-align: middle;\n",
       "    }\n",
       "\n",
       "    .dataframe tbody tr th {\n",
       "        vertical-align: top;\n",
       "    }\n",
       "\n",
       "    .dataframe thead th {\n",
       "        text-align: right;\n",
       "    }\n",
       "</style>\n",
       "<table border=\"1\" class=\"dataframe\">\n",
       "  <thead>\n",
       "    <tr style=\"text-align: right;\">\n",
       "      <th></th>\n",
       "      <th>Unnamed: 0</th>\n",
       "      <th>operation</th>\n",
       "      <th>property_type</th>\n",
       "      <th>place_name</th>\n",
       "      <th>place_with_parent_names</th>\n",
       "      <th>country_name</th>\n",
       "      <th>state_name</th>\n",
       "      <th>geonames_id</th>\n",
       "      <th>lat-lon</th>\n",
       "      <th>lat</th>\n",
       "      <th>lon</th>\n",
       "      <th>price</th>\n",
       "      <th>currency</th>\n",
       "      <th>price_aprox_local_currency</th>\n",
       "      <th>price_aprox_usd</th>\n",
       "      <th>surface_total_in_m2</th>\n",
       "      <th>surface_covered_in_m2</th>\n",
       "      <th>price_usd_per_m2</th>\n",
       "      <th>price_per_m2</th>\n",
       "      <th>floor</th>\n",
       "      <th>rooms</th>\n",
       "      <th>expenses</th>\n",
       "      <th>properati_url</th>\n",
       "      <th>description</th>\n",
       "      <th>title</th>\n",
       "      <th>image_thumbnail</th>\n",
       "    </tr>\n",
       "  </thead>\n",
       "  <tbody>\n",
       "    <tr>\n",
       "      <th>10981</th>\n",
       "      <td>10981</td>\n",
       "      <td>sell</td>\n",
       "      <td>apartment</td>\n",
       "      <td>Puerto Madero</td>\n",
       "      <td>|Argentina|Capital Federal|Puerto Madero|</td>\n",
       "      <td>Argentina</td>\n",
       "      <td>Capital Federal</td>\n",
       "      <td>3429760.0</td>\n",
       "      <td>-34.602623,-58.363817</td>\n",
       "      <td>-34.602623</td>\n",
       "      <td>-58.363817</td>\n",
       "      <td>540000.0</td>\n",
       "      <td>USD</td>\n",
       "      <td>9528030.0</td>\n",
       "      <td>540000.0</td>\n",
       "      <td>NaN</td>\n",
       "      <td>106.0</td>\n",
       "      <td>NaN</td>\n",
       "      <td>5094.339623</td>\n",
       "      <td>103.0</td>\n",
       "      <td>3.0</td>\n",
       "      <td>NaN</td>\n",
       "      <td>http://www.properati.com.ar/169xc_venta_depart...</td>\n",
       "      <td>Corredor Responsable: Ariel Champanier - C.U.C...</td>\n",
       "      <td>TRES AMBIENTES TERRAZAS DEL YACHT C/ COCHERA</td>\n",
       "      <td>https://thumbs4.properati.com/6/9gD0_lXzonDZ-4...</td>\n",
       "    </tr>\n",
       "    <tr>\n",
       "      <th>104872</th>\n",
       "      <td>104872</td>\n",
       "      <td>sell</td>\n",
       "      <td>house</td>\n",
       "      <td>Escobar</td>\n",
       "      <td>|Argentina|Bs.As. G.B.A. Zona Norte|Escobar|</td>\n",
       "      <td>Argentina</td>\n",
       "      <td>Bs.As. G.B.A. Zona Norte</td>\n",
       "      <td>3434130.0</td>\n",
       "      <td>NaN</td>\n",
       "      <td>NaN</td>\n",
       "      <td>NaN</td>\n",
       "      <td>200000.0</td>\n",
       "      <td>USD</td>\n",
       "      <td>3528900.0</td>\n",
       "      <td>200000.0</td>\n",
       "      <td>NaN</td>\n",
       "      <td>132.0</td>\n",
       "      <td>NaN</td>\n",
       "      <td>1515.151515</td>\n",
       "      <td>NaN</td>\n",
       "      <td>NaN</td>\n",
       "      <td>5000.0</td>\n",
       "      <td>http://www.properati.com.ar/1btum_venta_casa_e...</td>\n",
       "      <td>ESCOBAR, SAN MATIAS - Moderna casa desarrollad...</td>\n",
       "      <td>Casa - San Matias</td>\n",
       "      <td>https://thumbs4.properati.com/5/ZsTEaofM2W0CG1...</td>\n",
       "    </tr>\n",
       "    <tr>\n",
       "      <th>18080</th>\n",
       "      <td>18080</td>\n",
       "      <td>sell</td>\n",
       "      <td>apartment</td>\n",
       "      <td>Villa General Mitre</td>\n",
       "      <td>|Argentina|Capital Federal|Villa General Mitre|</td>\n",
       "      <td>Argentina</td>\n",
       "      <td>Capital Federal</td>\n",
       "      <td>3427433.0</td>\n",
       "      <td>-34.6036844,-58.3815591</td>\n",
       "      <td>-34.603684</td>\n",
       "      <td>-58.381559</td>\n",
       "      <td>185000.0</td>\n",
       "      <td>USD</td>\n",
       "      <td>3264232.5</td>\n",
       "      <td>185000.0</td>\n",
       "      <td>84.0</td>\n",
       "      <td>76.0</td>\n",
       "      <td>2202.380952</td>\n",
       "      <td>2434.210526</td>\n",
       "      <td>NaN</td>\n",
       "      <td>4.0</td>\n",
       "      <td>2500.0</td>\n",
       "      <td>http://www.properati.com.ar/174z9_venta_depart...</td>\n",
       "      <td>Venta de Departamento 4 AMBIENTES en barrio Vi...</td>\n",
       "      <td>DEPARTAMENTO EN VENTA</td>\n",
       "      <td>https://thumbs4.properati.com/3/fdbCE9Z9v0Zz7S...</td>\n",
       "    </tr>\n",
       "    <tr>\n",
       "      <th>60370</th>\n",
       "      <td>60370</td>\n",
       "      <td>sell</td>\n",
       "      <td>apartment</td>\n",
       "      <td>Nordelta</td>\n",
       "      <td>|Argentina|Bs.As. G.B.A. Zona Norte|Tigre|Nord...</td>\n",
       "      <td>Argentina</td>\n",
       "      <td>Bs.As. G.B.A. Zona Norte</td>\n",
       "      <td>NaN</td>\n",
       "      <td>-34.4001295,-58.6497154</td>\n",
       "      <td>-34.400129</td>\n",
       "      <td>-58.649715</td>\n",
       "      <td>220000.0</td>\n",
       "      <td>USD</td>\n",
       "      <td>3881790.0</td>\n",
       "      <td>220000.0</td>\n",
       "      <td>85.0</td>\n",
       "      <td>70.0</td>\n",
       "      <td>2588.235294</td>\n",
       "      <td>3142.857143</td>\n",
       "      <td>NaN</td>\n",
       "      <td>3.0</td>\n",
       "      <td>NaN</td>\n",
       "      <td>http://www.properati.com.ar/19z4z_venta_depart...</td>\n",
       "      <td>Excelente departamento muy bien ubicado con vi...</td>\n",
       "      <td>QUARTIER NORDELTA 100</td>\n",
       "      <td>https://thumbs4.properati.com/9/P_uHsbxro_KRZH...</td>\n",
       "    </tr>\n",
       "    <tr>\n",
       "      <th>7595</th>\n",
       "      <td>7595</td>\n",
       "      <td>sell</td>\n",
       "      <td>house</td>\n",
       "      <td>Quilmes</td>\n",
       "      <td>|Argentina|Bs.As. G.B.A. Zona Sur|Quilmes|</td>\n",
       "      <td>Argentina</td>\n",
       "      <td>Bs.As. G.B.A. Zona Sur</td>\n",
       "      <td>3429651.0</td>\n",
       "      <td>-34.7335044,-58.2472649</td>\n",
       "      <td>-34.733504</td>\n",
       "      <td>-58.247265</td>\n",
       "      <td>290000.0</td>\n",
       "      <td>USD</td>\n",
       "      <td>5116905.0</td>\n",
       "      <td>290000.0</td>\n",
       "      <td>360.0</td>\n",
       "      <td>NaN</td>\n",
       "      <td>805.555556</td>\n",
       "      <td>NaN</td>\n",
       "      <td>NaN</td>\n",
       "      <td>NaN</td>\n",
       "      <td>NaN</td>\n",
       "      <td>http://www.properati.com.ar/15ybx_venta_casa_q...</td>\n",
       "      <td>CODIGO: 1697-bro128 ubicado en: Brown 1286 -  ...</td>\n",
       "      <td>Impecable casa en Quilmes Este</td>\n",
       "      <td>https://thumbs4.properati.com/8/Tt9l6hDJIK1L7Z...</td>\n",
       "    </tr>\n",
       "  </tbody>\n",
       "</table>\n",
       "</div>"
      ],
      "text/plain": [
       "        Unnamed: 0 operation property_type           place_name  \\\n",
       "10981        10981      sell     apartment        Puerto Madero   \n",
       "104872      104872      sell         house              Escobar   \n",
       "18080        18080      sell     apartment  Villa General Mitre   \n",
       "60370        60370      sell     apartment             Nordelta   \n",
       "7595          7595      sell         house              Quilmes   \n",
       "\n",
       "                                  place_with_parent_names country_name  \\\n",
       "10981           |Argentina|Capital Federal|Puerto Madero|    Argentina   \n",
       "104872       |Argentina|Bs.As. G.B.A. Zona Norte|Escobar|    Argentina   \n",
       "18080     |Argentina|Capital Federal|Villa General Mitre|    Argentina   \n",
       "60370   |Argentina|Bs.As. G.B.A. Zona Norte|Tigre|Nord...    Argentina   \n",
       "7595           |Argentina|Bs.As. G.B.A. Zona Sur|Quilmes|    Argentina   \n",
       "\n",
       "                      state_name  geonames_id                  lat-lon  \\\n",
       "10981            Capital Federal    3429760.0    -34.602623,-58.363817   \n",
       "104872  Bs.As. G.B.A. Zona Norte    3434130.0                      NaN   \n",
       "18080            Capital Federal    3427433.0  -34.6036844,-58.3815591   \n",
       "60370   Bs.As. G.B.A. Zona Norte          NaN  -34.4001295,-58.6497154   \n",
       "7595      Bs.As. G.B.A. Zona Sur    3429651.0  -34.7335044,-58.2472649   \n",
       "\n",
       "              lat        lon     price currency  price_aprox_local_currency  \\\n",
       "10981  -34.602623 -58.363817  540000.0      USD                   9528030.0   \n",
       "104872        NaN        NaN  200000.0      USD                   3528900.0   \n",
       "18080  -34.603684 -58.381559  185000.0      USD                   3264232.5   \n",
       "60370  -34.400129 -58.649715  220000.0      USD                   3881790.0   \n",
       "7595   -34.733504 -58.247265  290000.0      USD                   5116905.0   \n",
       "\n",
       "        price_aprox_usd  surface_total_in_m2  surface_covered_in_m2  \\\n",
       "10981          540000.0                  NaN                  106.0   \n",
       "104872         200000.0                  NaN                  132.0   \n",
       "18080          185000.0                 84.0                   76.0   \n",
       "60370          220000.0                 85.0                   70.0   \n",
       "7595           290000.0                360.0                    NaN   \n",
       "\n",
       "        price_usd_per_m2  price_per_m2  floor  rooms  expenses  \\\n",
       "10981                NaN   5094.339623  103.0    3.0       NaN   \n",
       "104872               NaN   1515.151515    NaN    NaN    5000.0   \n",
       "18080        2202.380952   2434.210526    NaN    4.0    2500.0   \n",
       "60370        2588.235294   3142.857143    NaN    3.0       NaN   \n",
       "7595          805.555556           NaN    NaN    NaN       NaN   \n",
       "\n",
       "                                            properati_url  \\\n",
       "10981   http://www.properati.com.ar/169xc_venta_depart...   \n",
       "104872  http://www.properati.com.ar/1btum_venta_casa_e...   \n",
       "18080   http://www.properati.com.ar/174z9_venta_depart...   \n",
       "60370   http://www.properati.com.ar/19z4z_venta_depart...   \n",
       "7595    http://www.properati.com.ar/15ybx_venta_casa_q...   \n",
       "\n",
       "                                              description  \\\n",
       "10981   Corredor Responsable: Ariel Champanier - C.U.C...   \n",
       "104872  ESCOBAR, SAN MATIAS - Moderna casa desarrollad...   \n",
       "18080   Venta de Departamento 4 AMBIENTES en barrio Vi...   \n",
       "60370   Excelente departamento muy bien ubicado con vi...   \n",
       "7595    CODIGO: 1697-bro128 ubicado en: Brown 1286 -  ...   \n",
       "\n",
       "                                               title  \\\n",
       "10981   TRES AMBIENTES TERRAZAS DEL YACHT C/ COCHERA   \n",
       "104872                             Casa - San Matias   \n",
       "18080                          DEPARTAMENTO EN VENTA   \n",
       "60370                          QUARTIER NORDELTA 100   \n",
       "7595                  Impecable casa en Quilmes Este   \n",
       "\n",
       "                                          image_thumbnail  \n",
       "10981   https://thumbs4.properati.com/6/9gD0_lXzonDZ-4...  \n",
       "104872  https://thumbs4.properati.com/5/ZsTEaofM2W0CG1...  \n",
       "18080   https://thumbs4.properati.com/3/fdbCE9Z9v0Zz7S...  \n",
       "60370   https://thumbs4.properati.com/9/P_uHsbxro_KRZH...  \n",
       "7595    https://thumbs4.properati.com/8/Tt9l6hDJIK1L7Z...  "
      ]
     },
     "execution_count": 783,
     "metadata": {},
     "output_type": "execute_result"
    }
   ],
   "source": [
    "# Definimos la ruta de la información.\n",
    "data_propiedades = \"Data/properati.csv\"\n",
    "\n",
    "# Leemos los datos del archivo\n",
    "data = pd.read_csv(data_propiedades, sep=\",\", encoding=\"UTF-8\")\n",
    "\n",
    "# Chequeamos que los datos se hayan importado correctamente\n",
    "data.sample(5)"
   ]
  },
  {
   "cell_type": "code",
   "execution_count": 784,
   "metadata": {},
   "outputs": [
    {
     "data": {
      "text/plain": [
       "(121220, 26)"
      ]
     },
     "execution_count": 784,
     "metadata": {},
     "output_type": "execute_result"
    }
   ],
   "source": [
    "# Chequeamos cantidad de registros y cantidad de columnas\n",
    "data.shape"
   ]
  },
  {
   "cell_type": "markdown",
   "metadata": {},
   "source": [
    "<h2>Selección de los datos</h2>"
   ]
  },
  {
   "cell_type": "markdown",
   "metadata": {},
   "source": [
    "En base a los análisis previos realizados sobre el Dataset, tomaremos los datos de CABA únicamente para realizar un modelo de machine learning. "
   ]
  },
  {
   "cell_type": "code",
   "execution_count": 785,
   "metadata": {},
   "outputs": [
    {
     "data": {
      "text/html": [
       "<div>\n",
       "<style scoped>\n",
       "    .dataframe tbody tr th:only-of-type {\n",
       "        vertical-align: middle;\n",
       "    }\n",
       "\n",
       "    .dataframe tbody tr th {\n",
       "        vertical-align: top;\n",
       "    }\n",
       "\n",
       "    .dataframe thead th {\n",
       "        text-align: right;\n",
       "    }\n",
       "</style>\n",
       "<table border=\"1\" class=\"dataframe\">\n",
       "  <thead>\n",
       "    <tr style=\"text-align: right;\">\n",
       "      <th></th>\n",
       "      <th>Unnamed: 0</th>\n",
       "      <th>operation</th>\n",
       "      <th>property_type</th>\n",
       "      <th>place_name</th>\n",
       "      <th>place_with_parent_names</th>\n",
       "      <th>country_name</th>\n",
       "      <th>state_name</th>\n",
       "      <th>geonames_id</th>\n",
       "      <th>lat-lon</th>\n",
       "      <th>lat</th>\n",
       "      <th>lon</th>\n",
       "      <th>price</th>\n",
       "      <th>currency</th>\n",
       "      <th>price_aprox_local_currency</th>\n",
       "      <th>price_aprox_usd</th>\n",
       "      <th>surface_total_in_m2</th>\n",
       "      <th>surface_covered_in_m2</th>\n",
       "      <th>price_usd_per_m2</th>\n",
       "      <th>price_per_m2</th>\n",
       "      <th>floor</th>\n",
       "      <th>rooms</th>\n",
       "      <th>expenses</th>\n",
       "      <th>properati_url</th>\n",
       "      <th>description</th>\n",
       "      <th>title</th>\n",
       "      <th>image_thumbnail</th>\n",
       "    </tr>\n",
       "  </thead>\n",
       "  <tbody>\n",
       "    <tr>\n",
       "      <th>0</th>\n",
       "      <td>0</td>\n",
       "      <td>sell</td>\n",
       "      <td>PH</td>\n",
       "      <td>Mataderos</td>\n",
       "      <td>|Argentina|Capital Federal|Mataderos|</td>\n",
       "      <td>Argentina</td>\n",
       "      <td>Capital Federal</td>\n",
       "      <td>3430787.0</td>\n",
       "      <td>-34.6618237,-58.5088387</td>\n",
       "      <td>-34.661824</td>\n",
       "      <td>-58.508839</td>\n",
       "      <td>62000.0</td>\n",
       "      <td>USD</td>\n",
       "      <td>1093959.0</td>\n",
       "      <td>62000.0</td>\n",
       "      <td>55.0</td>\n",
       "      <td>40.0</td>\n",
       "      <td>1127.272727</td>\n",
       "      <td>1550.000000</td>\n",
       "      <td>NaN</td>\n",
       "      <td>NaN</td>\n",
       "      <td>NaN</td>\n",
       "      <td>http://www.properati.com.ar/15bo8_venta_ph_mat...</td>\n",
       "      <td>2 AMBIENTES TIPO CASA PLANTA BAJA POR PASILLO,...</td>\n",
       "      <td>2 AMB TIPO CASA SIN EXPENSAS EN PB</td>\n",
       "      <td>https://thumbs4.properati.com/8/BluUYiHJLhgIIK...</td>\n",
       "    </tr>\n",
       "    <tr>\n",
       "      <th>2</th>\n",
       "      <td>2</td>\n",
       "      <td>sell</td>\n",
       "      <td>apartment</td>\n",
       "      <td>Mataderos</td>\n",
       "      <td>|Argentina|Capital Federal|Mataderos|</td>\n",
       "      <td>Argentina</td>\n",
       "      <td>Capital Federal</td>\n",
       "      <td>3430787.0</td>\n",
       "      <td>-34.6522615,-58.5229825</td>\n",
       "      <td>-34.652262</td>\n",
       "      <td>-58.522982</td>\n",
       "      <td>72000.0</td>\n",
       "      <td>USD</td>\n",
       "      <td>1270404.0</td>\n",
       "      <td>72000.0</td>\n",
       "      <td>55.0</td>\n",
       "      <td>55.0</td>\n",
       "      <td>1309.090909</td>\n",
       "      <td>1309.090909</td>\n",
       "      <td>NaN</td>\n",
       "      <td>NaN</td>\n",
       "      <td>NaN</td>\n",
       "      <td>http://www.properati.com.ar/15bod_venta_depart...</td>\n",
       "      <td>2 AMBIENTES 3ER PISO LATERAL LIVING COMEDOR AM...</td>\n",
       "      <td>2 AMB 3ER PISO CON ASCENSOR APTO CREDITO</td>\n",
       "      <td>https://thumbs4.properati.com/5/SXKr34F_IwG3W_...</td>\n",
       "    </tr>\n",
       "    <tr>\n",
       "      <th>3</th>\n",
       "      <td>3</td>\n",
       "      <td>sell</td>\n",
       "      <td>PH</td>\n",
       "      <td>Liniers</td>\n",
       "      <td>|Argentina|Capital Federal|Liniers|</td>\n",
       "      <td>Argentina</td>\n",
       "      <td>Capital Federal</td>\n",
       "      <td>3431333.0</td>\n",
       "      <td>-34.6477969,-58.5164244</td>\n",
       "      <td>-34.647797</td>\n",
       "      <td>-58.516424</td>\n",
       "      <td>95000.0</td>\n",
       "      <td>USD</td>\n",
       "      <td>1676227.5</td>\n",
       "      <td>95000.0</td>\n",
       "      <td>NaN</td>\n",
       "      <td>NaN</td>\n",
       "      <td>NaN</td>\n",
       "      <td>NaN</td>\n",
       "      <td>NaN</td>\n",
       "      <td>NaN</td>\n",
       "      <td>NaN</td>\n",
       "      <td>http://www.properati.com.ar/15boh_venta_ph_lin...</td>\n",
       "      <td>PH 3 ambientes con patio. Hay 3 deptos en lote...</td>\n",
       "      <td>PH 3 amb. cfte. reciclado</td>\n",
       "      <td>https://thumbs4.properati.com/3/DgIfX-85Mog5SP...</td>\n",
       "    </tr>\n",
       "  </tbody>\n",
       "</table>\n",
       "</div>"
      ],
      "text/plain": [
       "   Unnamed: 0 operation property_type place_name  \\\n",
       "0           0      sell            PH  Mataderos   \n",
       "2           2      sell     apartment  Mataderos   \n",
       "3           3      sell            PH    Liniers   \n",
       "\n",
       "                 place_with_parent_names country_name       state_name  \\\n",
       "0  |Argentina|Capital Federal|Mataderos|    Argentina  Capital Federal   \n",
       "2  |Argentina|Capital Federal|Mataderos|    Argentina  Capital Federal   \n",
       "3    |Argentina|Capital Federal|Liniers|    Argentina  Capital Federal   \n",
       "\n",
       "   geonames_id                  lat-lon        lat        lon    price  \\\n",
       "0    3430787.0  -34.6618237,-58.5088387 -34.661824 -58.508839  62000.0   \n",
       "2    3430787.0  -34.6522615,-58.5229825 -34.652262 -58.522982  72000.0   \n",
       "3    3431333.0  -34.6477969,-58.5164244 -34.647797 -58.516424  95000.0   \n",
       "\n",
       "  currency  price_aprox_local_currency  price_aprox_usd  surface_total_in_m2  \\\n",
       "0      USD                   1093959.0          62000.0                 55.0   \n",
       "2      USD                   1270404.0          72000.0                 55.0   \n",
       "3      USD                   1676227.5          95000.0                  NaN   \n",
       "\n",
       "   surface_covered_in_m2  price_usd_per_m2  price_per_m2  floor  rooms  \\\n",
       "0                   40.0       1127.272727   1550.000000    NaN    NaN   \n",
       "2                   55.0       1309.090909   1309.090909    NaN    NaN   \n",
       "3                    NaN               NaN           NaN    NaN    NaN   \n",
       "\n",
       "   expenses                                      properati_url  \\\n",
       "0       NaN  http://www.properati.com.ar/15bo8_venta_ph_mat...   \n",
       "2       NaN  http://www.properati.com.ar/15bod_venta_depart...   \n",
       "3       NaN  http://www.properati.com.ar/15boh_venta_ph_lin...   \n",
       "\n",
       "                                         description  \\\n",
       "0  2 AMBIENTES TIPO CASA PLANTA BAJA POR PASILLO,...   \n",
       "2  2 AMBIENTES 3ER PISO LATERAL LIVING COMEDOR AM...   \n",
       "3  PH 3 ambientes con patio. Hay 3 deptos en lote...   \n",
       "\n",
       "                                      title  \\\n",
       "0        2 AMB TIPO CASA SIN EXPENSAS EN PB   \n",
       "2  2 AMB 3ER PISO CON ASCENSOR APTO CREDITO   \n",
       "3              PH 3 amb. cfte. reciclado      \n",
       "\n",
       "                                     image_thumbnail  \n",
       "0  https://thumbs4.properati.com/8/BluUYiHJLhgIIK...  \n",
       "2  https://thumbs4.properati.com/5/SXKr34F_IwG3W_...  \n",
       "3  https://thumbs4.properati.com/3/DgIfX-85Mog5SP...  "
      ]
     },
     "execution_count": 785,
     "metadata": {},
     "output_type": "execute_result"
    }
   ],
   "source": [
    "# Creamos una máscara y la aplicamos al dataframe anterior para traer los registros que necesitamos\n",
    "data_caba_mask = data.state_name == 'Capital Federal' \n",
    "data_caba = data.loc[data_caba_mask, :]\n",
    "\n",
    "# Chequeamos cómo quedaron los datos\n",
    "data_caba.head(3)"
   ]
  },
  {
   "cell_type": "code",
   "execution_count": 786,
   "metadata": {},
   "outputs": [
    {
     "data": {
      "text/plain": [
       "(32316, 26)"
      ]
     },
     "execution_count": 786,
     "metadata": {},
     "output_type": "execute_result"
    }
   ],
   "source": [
    "data_caba.shape"
   ]
  },
  {
   "cell_type": "code",
   "execution_count": 787,
   "metadata": {},
   "outputs": [
    {
     "data": {
      "text/plain": [
       "Unnamed: 0                      int64\n",
       "operation                      object\n",
       "property_type                  object\n",
       "place_name                     object\n",
       "place_with_parent_names        object\n",
       "country_name                   object\n",
       "state_name                     object\n",
       "geonames_id                   float64\n",
       "lat-lon                        object\n",
       "lat                           float64\n",
       "lon                           float64\n",
       "price                         float64\n",
       "currency                       object\n",
       "price_aprox_local_currency    float64\n",
       "price_aprox_usd               float64\n",
       "surface_total_in_m2           float64\n",
       "surface_covered_in_m2         float64\n",
       "price_usd_per_m2              float64\n",
       "price_per_m2                  float64\n",
       "floor                         float64\n",
       "rooms                         float64\n",
       "expenses                      float64\n",
       "properati_url                  object\n",
       "description                    object\n",
       "title                          object\n",
       "image_thumbnail                object\n",
       "dtype: object"
      ]
     },
     "execution_count": 787,
     "metadata": {},
     "output_type": "execute_result"
    }
   ],
   "source": [
    "data_caba.dtypes"
   ]
  },
  {
   "cell_type": "markdown",
   "metadata": {},
   "source": [
    "<a id=\"section_dataset_nulos\"></a> \n",
    "<h3>Cálculo de cantidad de nulos</h3>\n",
    "\n",
    "[volver a TOC](#section_toc)"
   ]
  },
  {
   "cell_type": "code",
   "execution_count": 788,
   "metadata": {},
   "outputs": [],
   "source": [
    "# # Calculamos cantidad de nulos por campo\n",
    "# cant_nulos_por_campo = data_caba.isnull().sum()\n",
    "# cant_nulos_por_campo"
   ]
  },
  {
   "cell_type": "code",
   "execution_count": 789,
   "metadata": {},
   "outputs": [],
   "source": [
    "# # Calculamos porcentaje de nulos por campo\n",
    "# cant_registros = data_caba.shape[0]\n",
    "# print(f'Cantidad Original de registros: {cant_registros}\\n')\n",
    "# #len(data.index) es lo mismo\n",
    "\n",
    "# porc_nulos_por_campo = np.round((100 * cant_nulos_por_campo / cant_registros),2)\n",
    "# print(porc_nulos_por_campo)"
   ]
  },
  {
   "cell_type": "markdown",
   "metadata": {},
   "source": [
    "<h4> Distribución de <strong>property_type</strong>"
   ]
  },
  {
   "cell_type": "code",
   "execution_count": 790,
   "metadata": {},
   "outputs": [
    {
     "name": "stdout",
     "output_type": "stream",
     "text": [
      "property_type: \n",
      "apartment    27037\n",
      "house         2087\n",
      "PH            1828\n",
      "store         1364\n",
      "Name: property_type, dtype: int64\n"
     ]
    }
   ],
   "source": [
    "# Contamos cantidad de valores de cada elemento en property_type y operation para ver distribución\n",
    "property_type_count = data_caba.property_type.value_counts()\n",
    "print(f'property_type: \\n{property_type_count}')"
   ]
  },
  {
   "cell_type": "code",
   "execution_count": 791,
   "metadata": {},
   "outputs": [],
   "source": [
    "# # Convertimos el count anterior en las categorías del gráfico\n",
    "# categories = np.array(property_type_count.index)\n",
    "\n",
    "# cord_x = data_caba.property_type.value_counts() / data_caba.shape[0]\n",
    "# palette = ['#440154', '#29788E', '#22A784', '#FDE724']\n",
    "\n",
    "# p = figure(x_range=categories, plot_width=500, plot_height=200)\n",
    "# p.vbar(x=categories, top=cord_x, width=0.6,\n",
    "#        color=palette)\n",
    "\n",
    "# p.yaxis.formatter = NumeralTickFormatter(format='0 %')\n",
    "# output_notebook(resources=INLINE)\n",
    "# show(p)"
   ]
  },
  {
   "cell_type": "markdown",
   "metadata": {},
   "source": [
    "<h4>Distribución de <strong>currency</strong></h4>"
   ]
  },
  {
   "cell_type": "code",
   "execution_count": 792,
   "metadata": {},
   "outputs": [
    {
     "data": {
      "text/plain": [
       "USD    27826\n",
       "ARS     1190\n",
       "PEN        2\n",
       "Name: currency, dtype: int64"
      ]
     },
     "execution_count": 792,
     "metadata": {},
     "output_type": "execute_result"
    }
   ],
   "source": [
    "data_caba.currency.value_counts()"
   ]
  },
  {
   "cell_type": "markdown",
   "metadata": {},
   "source": [
    "<h4>Distribución de <strong>barrio</strong></h4>"
   ]
  },
  {
   "cell_type": "code",
   "execution_count": 793,
   "metadata": {},
   "outputs": [
    {
     "data": {
      "text/plain": [
       "Belgrano                2992\n",
       "Palermo                 2885\n",
       "Caballito               2273\n",
       "Villa Urquiza           1629\n",
       "Recoleta                1547\n",
       "Flores                  1354\n",
       "Villa Crespo            1331\n",
       "Capital Federal         1297\n",
       "San Telmo               1216\n",
       "Almagro                 1165\n",
       "Barrio Norte            1140\n",
       "Boedo                    890\n",
       "Nuñez                    778\n",
       "Balvanera                667\n",
       "Puerto Madero            647\n",
       "San Cristobal            614\n",
       "Saavedra                 542\n",
       "Monserrat                538\n",
       "Palermo Hollywood        532\n",
       "Floresta                 516\n",
       "Villa del Parque         488\n",
       "Villa Luro               432\n",
       "Barracas                 425\n",
       "Villa Devoto             420\n",
       "Mataderos                418\n",
       "Liniers                  408\n",
       "Palermo Soho             394\n",
       "Colegiales               352\n",
       "Parque Patricios         322\n",
       "Congreso                 304\n",
       "Coghlan                  259\n",
       "Retiro                   248\n",
       "Palermo Chico            232\n",
       "Chacarita                227\n",
       "Centro / Microcentro     223\n",
       "Boca                     223\n",
       "Constitución             211\n",
       "Villa Lugano             205\n",
       "Once                     198\n",
       "San Nicolás              187\n",
       "Villa Pueyrredón         175\n",
       "Paternal                 173\n",
       "Parque Chacabuco         146\n",
       "Las Cañitas              143\n",
       "Abasto                   113\n",
       "Tribunales                98\n",
       "Villa Ortuzar             86\n",
       "Monte Castro              79\n",
       "Parque Centenario         68\n",
       "Pompeya                   64\n",
       "Villa Santa Rita          57\n",
       "Parque Avellaneda         56\n",
       "Versalles                 55\n",
       "Villa General Mitre       48\n",
       "Parque Chas               44\n",
       "Agronomía                 41\n",
       "Palermo Viejo             40\n",
       "Velez Sarsfield           39\n",
       "Villa Real                37\n",
       "Villa Soldati             15\n",
       "Villa Riachuelo            6\n",
       "Catalinas                  4\n",
       "Name: place_name, dtype: int64"
      ]
     },
     "execution_count": 793,
     "metadata": {},
     "output_type": "execute_result"
    }
   ],
   "source": [
    "place_name_count = data_caba.place_name.value_counts()\n",
    "# place_name_count.sort_index()\n",
    "place_name_count"
   ]
  },
  {
   "cell_type": "markdown",
   "metadata": {},
   "source": [
    "<h2>Limpieza de Datos</h2>"
   ]
  },
  {
   "cell_type": "markdown",
   "metadata": {},
   "source": [
    "<a id=\"section_dataset_drop\"></a> \n",
    "<h3> Drop de columnas innecesarias </h3>\n",
    "\n",
    "[volver a TOC](#section_toc)"
   ]
  },
  {
   "cell_type": "code",
   "execution_count": 794,
   "metadata": {},
   "outputs": [
    {
     "data": {
      "text/html": [
       "<div>\n",
       "<style scoped>\n",
       "    .dataframe tbody tr th:only-of-type {\n",
       "        vertical-align: middle;\n",
       "    }\n",
       "\n",
       "    .dataframe tbody tr th {\n",
       "        vertical-align: top;\n",
       "    }\n",
       "\n",
       "    .dataframe thead th {\n",
       "        text-align: right;\n",
       "    }\n",
       "</style>\n",
       "<table border=\"1\" class=\"dataframe\">\n",
       "  <thead>\n",
       "    <tr style=\"text-align: right;\">\n",
       "      <th></th>\n",
       "      <th>property_type</th>\n",
       "      <th>place_name</th>\n",
       "      <th>price</th>\n",
       "      <th>currency</th>\n",
       "      <th>price_aprox_local_currency</th>\n",
       "      <th>price_aprox_usd</th>\n",
       "      <th>surface_total_in_m2</th>\n",
       "      <th>surface_covered_in_m2</th>\n",
       "      <th>price_usd_per_m2</th>\n",
       "      <th>price_per_m2</th>\n",
       "      <th>floor</th>\n",
       "      <th>rooms</th>\n",
       "      <th>description</th>\n",
       "    </tr>\n",
       "  </thead>\n",
       "  <tbody>\n",
       "    <tr>\n",
       "      <th>0</th>\n",
       "      <td>PH</td>\n",
       "      <td>Mataderos</td>\n",
       "      <td>62000.0</td>\n",
       "      <td>USD</td>\n",
       "      <td>1093959.0</td>\n",
       "      <td>62000.0</td>\n",
       "      <td>55.0</td>\n",
       "      <td>40.0</td>\n",
       "      <td>1127.272727</td>\n",
       "      <td>1550.000000</td>\n",
       "      <td>NaN</td>\n",
       "      <td>NaN</td>\n",
       "      <td>2 AMBIENTES TIPO CASA PLANTA BAJA POR PASILLO,...</td>\n",
       "    </tr>\n",
       "    <tr>\n",
       "      <th>2</th>\n",
       "      <td>apartment</td>\n",
       "      <td>Mataderos</td>\n",
       "      <td>72000.0</td>\n",
       "      <td>USD</td>\n",
       "      <td>1270404.0</td>\n",
       "      <td>72000.0</td>\n",
       "      <td>55.0</td>\n",
       "      <td>55.0</td>\n",
       "      <td>1309.090909</td>\n",
       "      <td>1309.090909</td>\n",
       "      <td>NaN</td>\n",
       "      <td>NaN</td>\n",
       "      <td>2 AMBIENTES 3ER PISO LATERAL LIVING COMEDOR AM...</td>\n",
       "    </tr>\n",
       "    <tr>\n",
       "      <th>3</th>\n",
       "      <td>PH</td>\n",
       "      <td>Liniers</td>\n",
       "      <td>95000.0</td>\n",
       "      <td>USD</td>\n",
       "      <td>1676227.5</td>\n",
       "      <td>95000.0</td>\n",
       "      <td>NaN</td>\n",
       "      <td>NaN</td>\n",
       "      <td>NaN</td>\n",
       "      <td>NaN</td>\n",
       "      <td>NaN</td>\n",
       "      <td>NaN</td>\n",
       "      <td>PH 3 ambientes con patio. Hay 3 deptos en lote...</td>\n",
       "    </tr>\n",
       "    <tr>\n",
       "      <th>7</th>\n",
       "      <td>apartment</td>\n",
       "      <td>Belgrano</td>\n",
       "      <td>138000.0</td>\n",
       "      <td>USD</td>\n",
       "      <td>2434941.0</td>\n",
       "      <td>138000.0</td>\n",
       "      <td>45.0</td>\n",
       "      <td>40.0</td>\n",
       "      <td>3066.666667</td>\n",
       "      <td>3450.000000</td>\n",
       "      <td>NaN</td>\n",
       "      <td>NaN</td>\n",
       "      <td>EXCELENTE MONOAMBIENTE A ESTRENAR AMPLIO SUPER...</td>\n",
       "    </tr>\n",
       "    <tr>\n",
       "      <th>8</th>\n",
       "      <td>apartment</td>\n",
       "      <td>Belgrano</td>\n",
       "      <td>195000.0</td>\n",
       "      <td>USD</td>\n",
       "      <td>3440677.5</td>\n",
       "      <td>195000.0</td>\n",
       "      <td>65.0</td>\n",
       "      <td>60.0</td>\n",
       "      <td>3000.000000</td>\n",
       "      <td>3250.000000</td>\n",
       "      <td>NaN</td>\n",
       "      <td>NaN</td>\n",
       "      <td>EXCELENTE DOS AMBIENTES  ESTRENAR AMPLIO SUPER...</td>\n",
       "    </tr>\n",
       "  </tbody>\n",
       "</table>\n",
       "</div>"
      ],
      "text/plain": [
       "  property_type place_name     price currency  price_aprox_local_currency  \\\n",
       "0            PH  Mataderos   62000.0      USD                   1093959.0   \n",
       "2     apartment  Mataderos   72000.0      USD                   1270404.0   \n",
       "3            PH    Liniers   95000.0      USD                   1676227.5   \n",
       "7     apartment   Belgrano  138000.0      USD                   2434941.0   \n",
       "8     apartment   Belgrano  195000.0      USD                   3440677.5   \n",
       "\n",
       "   price_aprox_usd  surface_total_in_m2  surface_covered_in_m2  \\\n",
       "0          62000.0                 55.0                   40.0   \n",
       "2          72000.0                 55.0                   55.0   \n",
       "3          95000.0                  NaN                    NaN   \n",
       "7         138000.0                 45.0                   40.0   \n",
       "8         195000.0                 65.0                   60.0   \n",
       "\n",
       "   price_usd_per_m2  price_per_m2  floor  rooms  \\\n",
       "0       1127.272727   1550.000000    NaN    NaN   \n",
       "2       1309.090909   1309.090909    NaN    NaN   \n",
       "3               NaN           NaN    NaN    NaN   \n",
       "7       3066.666667   3450.000000    NaN    NaN   \n",
       "8       3000.000000   3250.000000    NaN    NaN   \n",
       "\n",
       "                                         description  \n",
       "0  2 AMBIENTES TIPO CASA PLANTA BAJA POR PASILLO,...  \n",
       "2  2 AMBIENTES 3ER PISO LATERAL LIVING COMEDOR AM...  \n",
       "3  PH 3 ambientes con patio. Hay 3 deptos en lote...  \n",
       "7  EXCELENTE MONOAMBIENTE A ESTRENAR AMPLIO SUPER...  \n",
       "8  EXCELENTE DOS AMBIENTES  ESTRENAR AMPLIO SUPER...  "
      ]
     },
     "execution_count": 794,
     "metadata": {},
     "output_type": "execute_result"
    }
   ],
   "source": [
    "# Creamos la lista de columnas a filtrar\n",
    "drop_columns = ['Unnamed: 0', 'operation', 'place_with_parent_names', 'country_name', 'state_name', 'geonames_id', 'lat-lon','lat', 'lon',\n",
    "               'expenses','properati_url','title', 'image_thumbnail']\n",
    "\n",
    "data_caba_clean = data_caba.drop(drop_columns, axis=1)\n",
    "data_caba_clean.head(5)"
   ]
  },
  {
   "cell_type": "markdown",
   "metadata": {},
   "source": [
    "\n",
    "<h3> Limpiamos <strong>currency</strong> </h3>\n",
    "\n",
    "[volver a TOC](#section_toc)"
   ]
  },
  {
   "cell_type": "code",
   "execution_count": 795,
   "metadata": {},
   "outputs": [
    {
     "data": {
      "text/html": [
       "<div>\n",
       "<style scoped>\n",
       "    .dataframe tbody tr th:only-of-type {\n",
       "        vertical-align: middle;\n",
       "    }\n",
       "\n",
       "    .dataframe tbody tr th {\n",
       "        vertical-align: top;\n",
       "    }\n",
       "\n",
       "    .dataframe thead th {\n",
       "        text-align: right;\n",
       "    }\n",
       "</style>\n",
       "<table border=\"1\" class=\"dataframe\">\n",
       "  <thead>\n",
       "    <tr style=\"text-align: right;\">\n",
       "      <th></th>\n",
       "      <th>property_type</th>\n",
       "      <th>place_name</th>\n",
       "      <th>price</th>\n",
       "      <th>currency</th>\n",
       "      <th>price_aprox_local_currency</th>\n",
       "      <th>price_aprox_usd</th>\n",
       "      <th>surface_total_in_m2</th>\n",
       "      <th>surface_covered_in_m2</th>\n",
       "      <th>price_usd_per_m2</th>\n",
       "      <th>price_per_m2</th>\n",
       "      <th>floor</th>\n",
       "      <th>rooms</th>\n",
       "      <th>description</th>\n",
       "    </tr>\n",
       "  </thead>\n",
       "  <tbody>\n",
       "    <tr>\n",
       "      <th>50387</th>\n",
       "      <td>apartment</td>\n",
       "      <td>Capital Federal</td>\n",
       "      <td>380000.0</td>\n",
       "      <td>PEN</td>\n",
       "      <td>2066864.90</td>\n",
       "      <td>117139.33</td>\n",
       "      <td>NaN</td>\n",
       "      <td>NaN</td>\n",
       "      <td>NaN</td>\n",
       "      <td>NaN</td>\n",
       "      <td>NaN</td>\n",
       "      <td>NaN</td>\n",
       "      <td>Ref.: 55:PREVENTA ::: OPORTUNIDAD ::: Dúplex a...</td>\n",
       "    </tr>\n",
       "    <tr>\n",
       "      <th>50388</th>\n",
       "      <td>apartment</td>\n",
       "      <td>Capital Federal</td>\n",
       "      <td>950000.0</td>\n",
       "      <td>PEN</td>\n",
       "      <td>5167162.35</td>\n",
       "      <td>292848.33</td>\n",
       "      <td>NaN</td>\n",
       "      <td>NaN</td>\n",
       "      <td>NaN</td>\n",
       "      <td>NaN</td>\n",
       "      <td>NaN</td>\n",
       "      <td>NaN</td>\n",
       "      <td>Ref.: 56Duplex en venta de 1 dormitorio con ap...</td>\n",
       "    </tr>\n",
       "  </tbody>\n",
       "</table>\n",
       "</div>"
      ],
      "text/plain": [
       "      property_type       place_name     price currency  \\\n",
       "50387     apartment  Capital Federal  380000.0      PEN   \n",
       "50388     apartment  Capital Federal  950000.0      PEN   \n",
       "\n",
       "       price_aprox_local_currency  price_aprox_usd  surface_total_in_m2  \\\n",
       "50387                  2066864.90        117139.33                  NaN   \n",
       "50388                  5167162.35        292848.33                  NaN   \n",
       "\n",
       "       surface_covered_in_m2  price_usd_per_m2  price_per_m2  floor  rooms  \\\n",
       "50387                    NaN               NaN           NaN    NaN    NaN   \n",
       "50388                    NaN               NaN           NaN    NaN    NaN   \n",
       "\n",
       "                                             description  \n",
       "50387  Ref.: 55:PREVENTA ::: OPORTUNIDAD ::: Dúplex a...  \n",
       "50388  Ref.: 56Duplex en venta de 1 dormitorio con ap...  "
      ]
     },
     "execution_count": 795,
     "metadata": {},
     "output_type": "execute_result"
    }
   ],
   "source": [
    "# Creamos una mask para traer los valores en monedas que no son USD ni ARS.\n",
    "currency_OTHER_CURRENCY_mask = (data_caba_clean.currency == 'PEN') | (data_caba_clean.currency == 'UYU')\n",
    "# Observamos esos registros\n",
    "data_caba_clean.loc[currency_OTHER_CURRENCY_mask, :]"
   ]
  },
  {
   "cell_type": "code",
   "execution_count": 796,
   "metadata": {},
   "outputs": [
    {
     "name": "stdout",
     "output_type": "stream",
     "text": [
      "Cantidad de registros original - registro actuales: 2\n"
     ]
    }
   ],
   "source": [
    "# Hacemos drop de esos registros y chequeamos la diferencia entre cantidad original y actual\n",
    "cant_registros = data_caba_clean.shape[0]\n",
    "# Dropeamos las moneda PEN y UYU ## OJO la moneda UYU era de una propiedad en Mendoza.\n",
    "data_caba_clean.drop(data_caba_clean.loc[currency_OTHER_CURRENCY_mask, :].index, inplace = True) \n",
    "# Verificamos.\n",
    "print(f'Cantidad de registros original - registro actuales: {cant_registros - data_caba_clean.shape[0]}')"
   ]
  },
  {
   "cell_type": "markdown",
   "metadata": {},
   "source": [
    "<h3> Limpiamos <strong>place_name</strong> </h3>\n",
    "\n",
    "[volver a TOC](#section_toc)"
   ]
  },
  {
   "cell_type": "code",
   "execution_count": 797,
   "metadata": {},
   "outputs": [
    {
     "data": {
      "text/plain": [
       "(31019, 13)"
      ]
     },
     "execution_count": 797,
     "metadata": {},
     "output_type": "execute_result"
    }
   ],
   "source": [
    "# Dropeamos los de Capital Federal\n",
    "capi_mask = data_caba_clean.place_name == 'Capital Federal'\n",
    "data_caba_clean.drop(data_caba_clean.loc[capi_mask, :].index, inplace=True)\n",
    "\n",
    "# Chequeamos cómo quedaron los datos\n",
    "data_caba_clean.shape"
   ]
  },
  {
   "cell_type": "markdown",
   "metadata": {},
   "source": [
    "<h3> Volvemos a calcular cantidad de nulos luego de eliminar columnas y registros"
   ]
  },
  {
   "cell_type": "code",
   "execution_count": 798,
   "metadata": {},
   "outputs": [
    {
     "data": {
      "text/plain": [
       "property_type                     0\n",
       "place_name                        0\n",
       "price                          2959\n",
       "currency                       2959\n",
       "price_aprox_local_currency     2959\n",
       "price_aprox_usd                2959\n",
       "surface_total_in_m2            5707\n",
       "surface_covered_in_m2          1963\n",
       "price_usd_per_m2               8416\n",
       "price_per_m2                   4570\n",
       "floor                         28070\n",
       "rooms                         15748\n",
       "description                       0\n",
       "dtype: int64"
      ]
     },
     "execution_count": 798,
     "metadata": {},
     "output_type": "execute_result"
    }
   ],
   "source": [
    "# Calculamos cantidad de nulos por campo\n",
    "cant_nulos_por_campo = data_caba_clean.isnull().sum()\n",
    "cant_nulos_por_campo"
   ]
  },
  {
   "cell_type": "code",
   "execution_count": 799,
   "metadata": {},
   "outputs": [
    {
     "name": "stdout",
     "output_type": "stream",
     "text": [
      "Cantidad Original de registros: 31019\n",
      "\n",
      "property_type                  0.00\n",
      "place_name                     0.00\n",
      "price                          9.54\n",
      "currency                       9.54\n",
      "price_aprox_local_currency     9.54\n",
      "price_aprox_usd                9.54\n",
      "surface_total_in_m2           18.40\n",
      "surface_covered_in_m2          6.33\n",
      "price_usd_per_m2              27.13\n",
      "price_per_m2                  14.73\n",
      "floor                         90.49\n",
      "rooms                         50.77\n",
      "description                    0.00\n",
      "dtype: float64\n"
     ]
    }
   ],
   "source": [
    "# Calculamos porcentaje de nulos por campo\n",
    "cant_registros = data_caba_clean.shape[0]\n",
    "print(f'Cantidad Original de registros: {cant_registros}\\n')\n",
    "#len(data.index) es lo mismo\n",
    "\n",
    "porc_nulos_por_campo = np.round((100 * cant_nulos_por_campo / cant_registros),2)\n",
    "print(porc_nulos_por_campo)"
   ]
  },
  {
   "cell_type": "code",
   "execution_count": 800,
   "metadata": {},
   "outputs": [
    {
     "data": {
      "text/plain": [
       "(31019, 13)"
      ]
     },
     "execution_count": 800,
     "metadata": {},
     "output_type": "execute_result"
    }
   ],
   "source": [
    "data_caba_clean.shape"
   ]
  },
  {
   "cell_type": "code",
   "execution_count": 801,
   "metadata": {},
   "outputs": [
    {
     "data": {
      "text/html": [
       "<div>\n",
       "<style scoped>\n",
       "    .dataframe tbody tr th:only-of-type {\n",
       "        vertical-align: middle;\n",
       "    }\n",
       "\n",
       "    .dataframe tbody tr th {\n",
       "        vertical-align: top;\n",
       "    }\n",
       "\n",
       "    .dataframe thead th {\n",
       "        text-align: right;\n",
       "    }\n",
       "</style>\n",
       "<table border=\"1\" class=\"dataframe\">\n",
       "  <thead>\n",
       "    <tr style=\"text-align: right;\">\n",
       "      <th></th>\n",
       "      <th>property_type</th>\n",
       "      <th>place_name</th>\n",
       "      <th>price</th>\n",
       "      <th>currency</th>\n",
       "      <th>price_aprox_local_currency</th>\n",
       "      <th>price_aprox_usd</th>\n",
       "      <th>surface_total_in_m2</th>\n",
       "      <th>surface_covered_in_m2</th>\n",
       "      <th>price_usd_per_m2</th>\n",
       "      <th>price_per_m2</th>\n",
       "      <th>floor</th>\n",
       "      <th>rooms</th>\n",
       "      <th>description</th>\n",
       "    </tr>\n",
       "  </thead>\n",
       "  <tbody>\n",
       "    <tr>\n",
       "      <th>46855</th>\n",
       "      <td>apartment</td>\n",
       "      <td>San Telmo</td>\n",
       "      <td>139000.0</td>\n",
       "      <td>USD</td>\n",
       "      <td>2452585.50</td>\n",
       "      <td>139000.0</td>\n",
       "      <td>66.0</td>\n",
       "      <td>59.0</td>\n",
       "      <td>2106.060606</td>\n",
       "      <td>2355.932203</td>\n",
       "      <td>NaN</td>\n",
       "      <td>3.0</td>\n",
       "      <td>Departamento de 3 ambientes con balcón terraza...</td>\n",
       "    </tr>\n",
       "    <tr>\n",
       "      <th>118034</th>\n",
       "      <td>apartment</td>\n",
       "      <td>Villa Crespo</td>\n",
       "      <td>NaN</td>\n",
       "      <td>NaN</td>\n",
       "      <td>NaN</td>\n",
       "      <td>NaN</td>\n",
       "      <td>162.0</td>\n",
       "      <td>129.0</td>\n",
       "      <td>NaN</td>\n",
       "      <td>NaN</td>\n",
       "      <td>NaN</td>\n",
       "      <td>NaN</td>\n",
       "      <td>Unidad de 3 dormitorios ubicada en el 2do piso...</td>\n",
       "    </tr>\n",
       "    <tr>\n",
       "      <th>73192</th>\n",
       "      <td>apartment</td>\n",
       "      <td>Belgrano</td>\n",
       "      <td>269950.0</td>\n",
       "      <td>USD</td>\n",
       "      <td>4763132.77</td>\n",
       "      <td>269950.0</td>\n",
       "      <td>81.0</td>\n",
       "      <td>66.0</td>\n",
       "      <td>3332.716049</td>\n",
       "      <td>4090.151515</td>\n",
       "      <td>NaN</td>\n",
       "      <td>NaN</td>\n",
       "      <td>Excelente 3 ambientes de 81m2 A ESTRENAR, en B...</td>\n",
       "    </tr>\n",
       "    <tr>\n",
       "      <th>7166</th>\n",
       "      <td>PH</td>\n",
       "      <td>Almagro</td>\n",
       "      <td>175000.0</td>\n",
       "      <td>USD</td>\n",
       "      <td>3087787.50</td>\n",
       "      <td>175000.0</td>\n",
       "      <td>95.0</td>\n",
       "      <td>80.0</td>\n",
       "      <td>1842.105263</td>\n",
       "      <td>2187.500000</td>\n",
       "      <td>NaN</td>\n",
       "      <td>3.0</td>\n",
       "      <td>Excelente PH3 ambTerraza con solárium y parril...</td>\n",
       "    </tr>\n",
       "    <tr>\n",
       "      <th>109717</th>\n",
       "      <td>house</td>\n",
       "      <td>Villa Luro</td>\n",
       "      <td>320000.0</td>\n",
       "      <td>USD</td>\n",
       "      <td>5646240.00</td>\n",
       "      <td>320000.0</td>\n",
       "      <td>NaN</td>\n",
       "      <td>20.0</td>\n",
       "      <td>NaN</td>\n",
       "      <td>16000.000000</td>\n",
       "      <td>NaN</td>\n",
       "      <td>5.0</td>\n",
       "      <td>Corredor Responsable: Marcelo Trujillo - CUCIC...</td>\n",
       "    </tr>\n",
       "  </tbody>\n",
       "</table>\n",
       "</div>"
      ],
      "text/plain": [
       "       property_type    place_name     price currency  \\\n",
       "46855      apartment     San Telmo  139000.0      USD   \n",
       "118034     apartment  Villa Crespo       NaN      NaN   \n",
       "73192      apartment      Belgrano  269950.0      USD   \n",
       "7166              PH       Almagro  175000.0      USD   \n",
       "109717         house    Villa Luro  320000.0      USD   \n",
       "\n",
       "        price_aprox_local_currency  price_aprox_usd  surface_total_in_m2  \\\n",
       "46855                   2452585.50         139000.0                 66.0   \n",
       "118034                         NaN              NaN                162.0   \n",
       "73192                   4763132.77         269950.0                 81.0   \n",
       "7166                    3087787.50         175000.0                 95.0   \n",
       "109717                  5646240.00         320000.0                  NaN   \n",
       "\n",
       "        surface_covered_in_m2  price_usd_per_m2  price_per_m2  floor  rooms  \\\n",
       "46855                    59.0       2106.060606   2355.932203    NaN    3.0   \n",
       "118034                  129.0               NaN           NaN    NaN    NaN   \n",
       "73192                    66.0       3332.716049   4090.151515    NaN    NaN   \n",
       "7166                     80.0       1842.105263   2187.500000    NaN    3.0   \n",
       "109717                   20.0               NaN  16000.000000    NaN    5.0   \n",
       "\n",
       "                                              description  \n",
       "46855   Departamento de 3 ambientes con balcón terraza...  \n",
       "118034  Unidad de 3 dormitorios ubicada en el 2do piso...  \n",
       "73192   Excelente 3 ambientes de 81m2 A ESTRENAR, en B...  \n",
       "7166    Excelente PH3 ambTerraza con solárium y parril...  \n",
       "109717  Corredor Responsable: Marcelo Trujillo - CUCIC...  "
      ]
     },
     "execution_count": 801,
     "metadata": {},
     "output_type": "execute_result"
    }
   ],
   "source": [
    "data_caba_clean.sample(5)"
   ]
  },
  {
   "cell_type": "markdown",
   "metadata": {},
   "source": [
    "## De los datos filtrados según Desafio 1 deberiamos:\n",
    "\n",
    "1. Terminar de dropear variables incompletas que serian necesarias para poder entrenar un modelo. (ejemplo: si la propiedad no posee: price, price_aprox_local_currency,price_usd_per_m2, price_per_m2, etc...) la información de los barrios ya fue analizado y dropeado en el paso anterior.\n",
    "2. Definir las variables CUANTITATIVAS, ejemplo precio, total de m2 de superficie.\n",
    "3. Armar las variables CUALITATIVAS, Dummy (ejemplo: place_name, property_type, amenities, rooms).\n",
    "4. Armar una nueva variable Dummy que contemple los precios de propiedad segun su distribución por metro cuadrado. Utilizando Panda CUT. \n",
    "\n",
    "## Finalizado el analisis de datos, armamos diferentes modelos para predecir el precio de la propiedad.\n",
    "\n",
    "1. Regresion Lineal Multiple\n",
    "2. Entrenar los modelos con Lasso, RidgeCV y utilizando Cross Validation.\n",
    "\n"
   ]
  },
  {
   "cell_type": "markdown",
   "metadata": {},
   "source": [
    "### Primero damos homogenidad a los datos\n",
    "\n",
    "Vamos a realizar ciertas verificaciones de los datos."
   ]
  },
  {
   "cell_type": "code",
   "execution_count": 802,
   "metadata": {},
   "outputs": [
    {
     "data": {
      "text/plain": [
       "(4138, 13)"
      ]
     },
     "metadata": {},
     "output_type": "display_data"
    },
    {
     "data": {
      "text/html": [
       "<div>\n",
       "<style scoped>\n",
       "    .dataframe tbody tr th:only-of-type {\n",
       "        vertical-align: middle;\n",
       "    }\n",
       "\n",
       "    .dataframe tbody tr th {\n",
       "        vertical-align: top;\n",
       "    }\n",
       "\n",
       "    .dataframe thead th {\n",
       "        text-align: right;\n",
       "    }\n",
       "</style>\n",
       "<table border=\"1\" class=\"dataframe\">\n",
       "  <thead>\n",
       "    <tr style=\"text-align: right;\">\n",
       "      <th></th>\n",
       "      <th>property_type</th>\n",
       "      <th>place_name</th>\n",
       "      <th>price</th>\n",
       "      <th>currency</th>\n",
       "      <th>price_aprox_local_currency</th>\n",
       "      <th>price_aprox_usd</th>\n",
       "      <th>surface_total_in_m2</th>\n",
       "      <th>surface_covered_in_m2</th>\n",
       "      <th>price_usd_per_m2</th>\n",
       "      <th>price_per_m2</th>\n",
       "      <th>floor</th>\n",
       "      <th>rooms</th>\n",
       "      <th>description</th>\n",
       "    </tr>\n",
       "  </thead>\n",
       "  <tbody>\n",
       "    <tr>\n",
       "      <th>118760</th>\n",
       "      <td>apartment</td>\n",
       "      <td>Villa Urquiza</td>\n",
       "      <td>6770196.0</td>\n",
       "      <td>ARS</td>\n",
       "      <td>6699572.18</td>\n",
       "      <td>379697.48</td>\n",
       "      <td>115.0</td>\n",
       "      <td>95.0</td>\n",
       "      <td>3301.717217</td>\n",
       "      <td>71265.221053</td>\n",
       "      <td>NaN</td>\n",
       "      <td>NaN</td>\n",
       "      <td>Departamento 115m² en Echeverria 4230, Capital...</td>\n",
       "    </tr>\n",
       "    <tr>\n",
       "      <th>29579</th>\n",
       "      <td>apartment</td>\n",
       "      <td>Boca</td>\n",
       "      <td>NaN</td>\n",
       "      <td>NaN</td>\n",
       "      <td>NaN</td>\n",
       "      <td>NaN</td>\n",
       "      <td>38.0</td>\n",
       "      <td>38.0</td>\n",
       "      <td>NaN</td>\n",
       "      <td>NaN</td>\n",
       "      <td>NaN</td>\n",
       "      <td>1.0</td>\n",
       "      <td>sE TRATA DE UN MONOAMBIENTE DE 38MTS CON BALCÓ...</td>\n",
       "    </tr>\n",
       "    <tr>\n",
       "      <th>62118</th>\n",
       "      <td>apartment</td>\n",
       "      <td>Floresta</td>\n",
       "      <td>NaN</td>\n",
       "      <td>NaN</td>\n",
       "      <td>NaN</td>\n",
       "      <td>NaN</td>\n",
       "      <td>75.0</td>\n",
       "      <td>43.0</td>\n",
       "      <td>NaN</td>\n",
       "      <td>NaN</td>\n",
       "      <td>NaN</td>\n",
       "      <td>1.0</td>\n",
       "      <td>Excelentes departamentos a estrenar de un ambi...</td>\n",
       "    </tr>\n",
       "    <tr>\n",
       "      <th>76940</th>\n",
       "      <td>PH</td>\n",
       "      <td>Villa Devoto</td>\n",
       "      <td>NaN</td>\n",
       "      <td>NaN</td>\n",
       "      <td>NaN</td>\n",
       "      <td>NaN</td>\n",
       "      <td>130.0</td>\n",
       "      <td>120.0</td>\n",
       "      <td>NaN</td>\n",
       "      <td>NaN</td>\n",
       "      <td>1.0</td>\n",
       "      <td>4.0</td>\n",
       "      <td>Venta de Departamento 4 AMBIENTES en Villa Dev...</td>\n",
       "    </tr>\n",
       "    <tr>\n",
       "      <th>27598</th>\n",
       "      <td>apartment</td>\n",
       "      <td>Palermo Chico</td>\n",
       "      <td>NaN</td>\n",
       "      <td>NaN</td>\n",
       "      <td>NaN</td>\n",
       "      <td>NaN</td>\n",
       "      <td>236.0</td>\n",
       "      <td>236.0</td>\n",
       "      <td>NaN</td>\n",
       "      <td>NaN</td>\n",
       "      <td>NaN</td>\n",
       "      <td>5.0</td>\n",
       "      <td>CONTACTO ROMINA TACCARI 15 BOSCHETTO SEGUI - S...</td>\n",
       "    </tr>\n",
       "    <tr>\n",
       "      <th>118744</th>\n",
       "      <td>apartment</td>\n",
       "      <td>Villa Urquiza</td>\n",
       "      <td>1751947.0</td>\n",
       "      <td>ARS</td>\n",
       "      <td>1733671.28</td>\n",
       "      <td>98255.62</td>\n",
       "      <td>37.0</td>\n",
       "      <td>32.0</td>\n",
       "      <td>2655.557297</td>\n",
       "      <td>54748.343750</td>\n",
       "      <td>NaN</td>\n",
       "      <td>NaN</td>\n",
       "      <td>Departamento 37m² en Echeverria 4230, Capital ...</td>\n",
       "    </tr>\n",
       "    <tr>\n",
       "      <th>23069</th>\n",
       "      <td>apartment</td>\n",
       "      <td>Once</td>\n",
       "      <td>NaN</td>\n",
       "      <td>NaN</td>\n",
       "      <td>NaN</td>\n",
       "      <td>NaN</td>\n",
       "      <td>136.0</td>\n",
       "      <td>108.0</td>\n",
       "      <td>NaN</td>\n",
       "      <td>NaN</td>\n",
       "      <td>3.0</td>\n",
       "      <td>4.0</td>\n",
       "      <td>GAMA PROPIEDADESCASA CENTRAL  TUCUMAN  2612   ...</td>\n",
       "    </tr>\n",
       "    <tr>\n",
       "      <th>67127</th>\n",
       "      <td>apartment</td>\n",
       "      <td>Belgrano</td>\n",
       "      <td>NaN</td>\n",
       "      <td>NaN</td>\n",
       "      <td>NaN</td>\n",
       "      <td>NaN</td>\n",
       "      <td>34.0</td>\n",
       "      <td>31.0</td>\n",
       "      <td>NaN</td>\n",
       "      <td>NaN</td>\n",
       "      <td>NaN</td>\n",
       "      <td>NaN</td>\n",
       "      <td>Unidades de 1, 2 y 3 amb con amenities en inme...</td>\n",
       "    </tr>\n",
       "    <tr>\n",
       "      <th>112835</th>\n",
       "      <td>apartment</td>\n",
       "      <td>Belgrano</td>\n",
       "      <td>NaN</td>\n",
       "      <td>NaN</td>\n",
       "      <td>NaN</td>\n",
       "      <td>NaN</td>\n",
       "      <td>77.0</td>\n",
       "      <td>69.0</td>\n",
       "      <td>NaN</td>\n",
       "      <td>NaN</td>\n",
       "      <td>NaN</td>\n",
       "      <td>NaN</td>\n",
       "      <td>PRE-VENTA DEPARTAMENTO DE 3 AMBIENTES EN BELGR...</td>\n",
       "    </tr>\n",
       "    <tr>\n",
       "      <th>113967</th>\n",
       "      <td>house</td>\n",
       "      <td>Belgrano</td>\n",
       "      <td>NaN</td>\n",
       "      <td>NaN</td>\n",
       "      <td>NaN</td>\n",
       "      <td>NaN</td>\n",
       "      <td>NaN</td>\n",
       "      <td>547.0</td>\n",
       "      <td>NaN</td>\n",
       "      <td>NaN</td>\n",
       "      <td>NaN</td>\n",
       "      <td>NaN</td>\n",
       "      <td>Caldera central surray de 15 mil frigoríasCale...</td>\n",
       "    </tr>\n",
       "  </tbody>\n",
       "</table>\n",
       "</div>"
      ],
      "text/plain": [
       "       property_type     place_name      price currency  \\\n",
       "118760     apartment  Villa Urquiza  6770196.0      ARS   \n",
       "29579      apartment           Boca        NaN      NaN   \n",
       "62118      apartment       Floresta        NaN      NaN   \n",
       "76940             PH   Villa Devoto        NaN      NaN   \n",
       "27598      apartment  Palermo Chico        NaN      NaN   \n",
       "118744     apartment  Villa Urquiza  1751947.0      ARS   \n",
       "23069      apartment           Once        NaN      NaN   \n",
       "67127      apartment       Belgrano        NaN      NaN   \n",
       "112835     apartment       Belgrano        NaN      NaN   \n",
       "113967         house       Belgrano        NaN      NaN   \n",
       "\n",
       "        price_aprox_local_currency  price_aprox_usd  surface_total_in_m2  \\\n",
       "118760                  6699572.18        379697.48                115.0   \n",
       "29579                          NaN              NaN                 38.0   \n",
       "62118                          NaN              NaN                 75.0   \n",
       "76940                          NaN              NaN                130.0   \n",
       "27598                          NaN              NaN                236.0   \n",
       "118744                  1733671.28         98255.62                 37.0   \n",
       "23069                          NaN              NaN                136.0   \n",
       "67127                          NaN              NaN                 34.0   \n",
       "112835                         NaN              NaN                 77.0   \n",
       "113967                         NaN              NaN                  NaN   \n",
       "\n",
       "        surface_covered_in_m2  price_usd_per_m2  price_per_m2  floor  rooms  \\\n",
       "118760                   95.0       3301.717217  71265.221053    NaN    NaN   \n",
       "29579                    38.0               NaN           NaN    NaN    1.0   \n",
       "62118                    43.0               NaN           NaN    NaN    1.0   \n",
       "76940                   120.0               NaN           NaN    1.0    4.0   \n",
       "27598                   236.0               NaN           NaN    NaN    5.0   \n",
       "118744                   32.0       2655.557297  54748.343750    NaN    NaN   \n",
       "23069                   108.0               NaN           NaN    3.0    4.0   \n",
       "67127                    31.0               NaN           NaN    NaN    NaN   \n",
       "112835                   69.0               NaN           NaN    NaN    NaN   \n",
       "113967                  547.0               NaN           NaN    NaN    NaN   \n",
       "\n",
       "                                              description  \n",
       "118760  Departamento 115m² en Echeverria 4230, Capital...  \n",
       "29579   sE TRATA DE UN MONOAMBIENTE DE 38MTS CON BALCÓ...  \n",
       "62118   Excelentes departamentos a estrenar de un ambi...  \n",
       "76940   Venta de Departamento 4 AMBIENTES en Villa Dev...  \n",
       "27598   CONTACTO ROMINA TACCARI 15 BOSCHETTO SEGUI - S...  \n",
       "118744  Departamento 37m² en Echeverria 4230, Capital ...  \n",
       "23069   GAMA PROPIEDADESCASA CENTRAL  TUCUMAN  2612   ...  \n",
       "67127   Unidades de 1, 2 y 3 amb con amenities en inme...  \n",
       "112835  PRE-VENTA DEPARTAMENTO DE 3 AMBIENTES EN BELGR...  \n",
       "113967  Caldera central surray de 15 mil frigoríasCale...  "
      ]
     },
     "metadata": {},
     "output_type": "display_data"
    }
   ],
   "source": [
    "# 1. Verificamos que el price y el price_aprox_usd sean los mismos, y luego si fuera así dropeamos el price_aprox_usd\n",
    "\n",
    "mask_price_validation = data_caba_clean.price != data_caba_clean.price_aprox_usd\n",
    "\n",
    "display(data_caba_clean.loc[mask_price_validation, :].shape)\n",
    "\n",
    "# Detectamos que hay 4138 propiedades donde los valores son diferentes? pero estan en Pesos o son NaN?\n",
    "\n",
    "display(data_caba_clean.loc[mask_price_validation, :].sample(10))\n",
    "\n",
    "# Detectamos que tenemos los dos casos, donde los precios son NaN y donde la moneda está en ARS (lo cual no estaría mal)\n",
    "# En el caso de ARS, vemos que el valor de price toma el de la moneda local ~ Por lo que podriamos llegar a eliminar price, currency y price_aprox_local_currency \n",
    "\n",
    "# Para los valores de NaN tendriamos que tomar la decisión si los dropeamos o tratamos de calcular un precio promedio en base a la cantidad de metros cuadrados."
   ]
  },
  {
   "cell_type": "code",
   "execution_count": 803,
   "metadata": {},
   "outputs": [
    {
     "data": {
      "text/plain": [
       "(31019, 13)"
      ]
     },
     "execution_count": 803,
     "metadata": {},
     "output_type": "execute_result"
    }
   ],
   "source": [
    "data_caba_clean.shape"
   ]
  },
  {
   "cell_type": "markdown",
   "metadata": {},
   "source": [
    "<h3> Eliminamos registros según un umbral de datos faltantes </h3>\n",
    "\n",
    "[volver a TOC](#section_toc)"
   ]
  },
  {
   "cell_type": "code",
   "execution_count": 804,
   "metadata": {},
   "outputs": [
    {
     "data": {
      "text/plain": [
       "(1131, 13)"
      ]
     },
     "metadata": {},
     "output_type": "display_data"
    },
    {
     "data": {
      "text/plain": [
       "(25627, 13)"
      ]
     },
     "metadata": {},
     "output_type": "display_data"
    },
    {
     "data": {
      "text/html": [
       "<div>\n",
       "<style scoped>\n",
       "    .dataframe tbody tr th:only-of-type {\n",
       "        vertical-align: middle;\n",
       "    }\n",
       "\n",
       "    .dataframe tbody tr th {\n",
       "        vertical-align: top;\n",
       "    }\n",
       "\n",
       "    .dataframe thead th {\n",
       "        text-align: right;\n",
       "    }\n",
       "</style>\n",
       "<table border=\"1\" class=\"dataframe\">\n",
       "  <thead>\n",
       "    <tr style=\"text-align: right;\">\n",
       "      <th></th>\n",
       "      <th>property_type</th>\n",
       "      <th>place_name</th>\n",
       "      <th>price</th>\n",
       "      <th>currency</th>\n",
       "      <th>price_aprox_local_currency</th>\n",
       "      <th>price_aprox_usd</th>\n",
       "      <th>surface_total_in_m2</th>\n",
       "      <th>surface_covered_in_m2</th>\n",
       "      <th>price_usd_per_m2</th>\n",
       "      <th>price_per_m2</th>\n",
       "      <th>floor</th>\n",
       "      <th>rooms</th>\n",
       "      <th>description</th>\n",
       "    </tr>\n",
       "  </thead>\n",
       "  <tbody>\n",
       "    <tr>\n",
       "      <th>111532</th>\n",
       "      <td>apartment</td>\n",
       "      <td>Villa Urquiza</td>\n",
       "      <td>87000.0</td>\n",
       "      <td>USD</td>\n",
       "      <td>1535071.50</td>\n",
       "      <td>87000.0</td>\n",
       "      <td>NaN</td>\n",
       "      <td>30.0</td>\n",
       "      <td>NaN</td>\n",
       "      <td>2900.000000</td>\n",
       "      <td>NaN</td>\n",
       "      <td>1.0</td>\n",
       "      <td>Corredor Responsable: Luis Varela - CSI 5527 /...</td>\n",
       "    </tr>\n",
       "    <tr>\n",
       "      <th>14076</th>\n",
       "      <td>apartment</td>\n",
       "      <td>Puerto Madero</td>\n",
       "      <td>1300000.0</td>\n",
       "      <td>USD</td>\n",
       "      <td>22937850.00</td>\n",
       "      <td>1300000.0</td>\n",
       "      <td>165.0</td>\n",
       "      <td>160.0</td>\n",
       "      <td>7878.787879</td>\n",
       "      <td>8125.000000</td>\n",
       "      <td>NaN</td>\n",
       "      <td>3.0</td>\n",
       "      <td>Estupendo departamento en Torre I de Mulieris,...</td>\n",
       "    </tr>\n",
       "    <tr>\n",
       "      <th>88013</th>\n",
       "      <td>apartment</td>\n",
       "      <td>San Telmo</td>\n",
       "      <td>111496.0</td>\n",
       "      <td>USD</td>\n",
       "      <td>1967291.17</td>\n",
       "      <td>111496.0</td>\n",
       "      <td>45.0</td>\n",
       "      <td>36.0</td>\n",
       "      <td>2477.688889</td>\n",
       "      <td>3097.111111</td>\n",
       "      <td>NaN</td>\n",
       "      <td>NaN</td>\n",
       "      <td>Departamento de 2 ambientes, con bajo mesada, ...</td>\n",
       "    </tr>\n",
       "    <tr>\n",
       "      <th>39459</th>\n",
       "      <td>apartment</td>\n",
       "      <td>Villa Crespo</td>\n",
       "      <td>129500.0</td>\n",
       "      <td>USD</td>\n",
       "      <td>2284962.75</td>\n",
       "      <td>129500.0</td>\n",
       "      <td>52.0</td>\n",
       "      <td>52.0</td>\n",
       "      <td>2490.384615</td>\n",
       "      <td>2490.384615</td>\n",
       "      <td>6.0</td>\n",
       "      <td>3.0</td>\n",
       "      <td>3 AMBIENTES, EN VENTA, EN VILLA CRESPO!!!EN EX...</td>\n",
       "    </tr>\n",
       "    <tr>\n",
       "      <th>25814</th>\n",
       "      <td>apartment</td>\n",
       "      <td>San Cristobal</td>\n",
       "      <td>568900.0</td>\n",
       "      <td>USD</td>\n",
       "      <td>10037956.05</td>\n",
       "      <td>568900.0</td>\n",
       "      <td>40.0</td>\n",
       "      <td>40.0</td>\n",
       "      <td>14222.500000</td>\n",
       "      <td>14222.500000</td>\n",
       "      <td>NaN</td>\n",
       "      <td>2.0</td>\n",
       "      <td>mir507- TU DEPA - UNICA FINANCIACION EN PLAZA2...</td>\n",
       "    </tr>\n",
       "  </tbody>\n",
       "</table>\n",
       "</div>"
      ],
      "text/plain": [
       "       property_type     place_name      price currency  \\\n",
       "111532     apartment  Villa Urquiza    87000.0      USD   \n",
       "14076      apartment  Puerto Madero  1300000.0      USD   \n",
       "88013      apartment      San Telmo   111496.0      USD   \n",
       "39459      apartment   Villa Crespo   129500.0      USD   \n",
       "25814      apartment  San Cristobal   568900.0      USD   \n",
       "\n",
       "        price_aprox_local_currency  price_aprox_usd  surface_total_in_m2  \\\n",
       "111532                  1535071.50          87000.0                  NaN   \n",
       "14076                  22937850.00        1300000.0                165.0   \n",
       "88013                   1967291.17         111496.0                 45.0   \n",
       "39459                   2284962.75         129500.0                 52.0   \n",
       "25814                  10037956.05         568900.0                 40.0   \n",
       "\n",
       "        surface_covered_in_m2  price_usd_per_m2  price_per_m2  floor  rooms  \\\n",
       "111532                   30.0               NaN   2900.000000    NaN    1.0   \n",
       "14076                   160.0       7878.787879   8125.000000    NaN    3.0   \n",
       "88013                    36.0       2477.688889   3097.111111    NaN    NaN   \n",
       "39459                    52.0       2490.384615   2490.384615    6.0    3.0   \n",
       "25814                    40.0      14222.500000  14222.500000    NaN    2.0   \n",
       "\n",
       "                                              description  \n",
       "111532  Corredor Responsable: Luis Varela - CSI 5527 /...  \n",
       "14076   Estupendo departamento en Torre I de Mulieris,...  \n",
       "88013   Departamento de 2 ambientes, con bajo mesada, ...  \n",
       "39459   3 AMBIENTES, EN VENTA, EN VILLA CRESPO!!!EN EX...  \n",
       "25814   mir507- TU DEPA - UNICA FINANCIACION EN PLAZA2...  "
      ]
     },
     "execution_count": 804,
     "metadata": {},
     "output_type": "execute_result"
    }
   ],
   "source": [
    "# Elimino primero los registros donde no tengo nada de informacion. \n",
    "\n",
    "umbral = 10\n",
    "data_caba_clean.dropna(axis = 0, thresh=umbral, inplace=True)\n",
    "# OJO que utilizando umbral de 10 se fueron casi 10000 datos incompletos. \n",
    "#--> se pierden 6000 datos aprox (ver shape de abajo), un 20% de los datos aprox\n",
    "\n",
    "# Vuelvo a ver como quedaron los datos\n",
    "mask_price_validation = data_caba_clean.price != data_caba_clean.price_aprox_usd\n",
    "display(data_caba_clean.loc[mask_price_validation, :].shape)\n",
    "\n",
    "display(data_caba_clean.shape)\n",
    "# display(data_caba_clean.loc[mask_price_validation, :].head(30))\n",
    "data_caba_clean.sample(5)"
   ]
  },
  {
   "cell_type": "code",
   "execution_count": 805,
   "metadata": {},
   "outputs": [
    {
     "data": {
      "text/html": [
       "<div>\n",
       "<style scoped>\n",
       "    .dataframe tbody tr th:only-of-type {\n",
       "        vertical-align: middle;\n",
       "    }\n",
       "\n",
       "    .dataframe tbody tr th {\n",
       "        vertical-align: top;\n",
       "    }\n",
       "\n",
       "    .dataframe thead th {\n",
       "        text-align: right;\n",
       "    }\n",
       "</style>\n",
       "<table border=\"1\" class=\"dataframe\">\n",
       "  <thead>\n",
       "    <tr style=\"text-align: right;\">\n",
       "      <th></th>\n",
       "      <th>property_type</th>\n",
       "      <th>place_name</th>\n",
       "      <th>price</th>\n",
       "      <th>currency</th>\n",
       "      <th>price_aprox_local_currency</th>\n",
       "      <th>price_aprox_usd</th>\n",
       "      <th>surface_total_in_m2</th>\n",
       "      <th>surface_covered_in_m2</th>\n",
       "      <th>price_usd_per_m2</th>\n",
       "      <th>price_per_m2</th>\n",
       "      <th>floor</th>\n",
       "      <th>rooms</th>\n",
       "      <th>description</th>\n",
       "    </tr>\n",
       "  </thead>\n",
       "  <tbody>\n",
       "    <tr>\n",
       "      <th>64572</th>\n",
       "      <td>apartment</td>\n",
       "      <td>San Cristobal</td>\n",
       "      <td>125000.0</td>\n",
       "      <td>USD</td>\n",
       "      <td>2205562.50</td>\n",
       "      <td>125000.00</td>\n",
       "      <td>73.0</td>\n",
       "      <td>67.0</td>\n",
       "      <td>1712.328767</td>\n",
       "      <td>1865.671642</td>\n",
       "      <td>NaN</td>\n",
       "      <td>NaN</td>\n",
       "      <td>VENTA 4 AMBIENTES EN SAN CRISTOBALDEPARTAMENTO...</td>\n",
       "    </tr>\n",
       "    <tr>\n",
       "      <th>44393</th>\n",
       "      <td>house</td>\n",
       "      <td>Parque Chacabuco</td>\n",
       "      <td>148000.0</td>\n",
       "      <td>USD</td>\n",
       "      <td>2611386.00</td>\n",
       "      <td>148000.00</td>\n",
       "      <td>22.0</td>\n",
       "      <td>20.0</td>\n",
       "      <td>NaN</td>\n",
       "      <td>7400.000000</td>\n",
       "      <td>NaN</td>\n",
       "      <td>5.0</td>\n",
       "      <td>Corredor Responsable: Jorge Salafia - CUCICBA ...</td>\n",
       "    </tr>\n",
       "    <tr>\n",
       "      <th>70393</th>\n",
       "      <td>apartment</td>\n",
       "      <td>Caballito</td>\n",
       "      <td>163700.0</td>\n",
       "      <td>USD</td>\n",
       "      <td>2888404.65</td>\n",
       "      <td>163700.00</td>\n",
       "      <td>48.0</td>\n",
       "      <td>41.0</td>\n",
       "      <td>3410.416667</td>\n",
       "      <td>3992.682927</td>\n",
       "      <td>NaN</td>\n",
       "      <td>NaN</td>\n",
       "      <td>Departamento 48m² con SUM en Goyena, Pedro Av....</td>\n",
       "    </tr>\n",
       "    <tr>\n",
       "      <th>56591</th>\n",
       "      <td>apartment</td>\n",
       "      <td>Colegiales</td>\n",
       "      <td>325000.0</td>\n",
       "      <td>USD</td>\n",
       "      <td>5734462.50</td>\n",
       "      <td>325000.00</td>\n",
       "      <td>103.4</td>\n",
       "      <td>94.0</td>\n",
       "      <td>NaN</td>\n",
       "      <td>3457.446809</td>\n",
       "      <td>4.0</td>\n",
       "      <td>3.0</td>\n",
       "      <td>Corredor Responsable: Uno Bienes Raices SRL - ...</td>\n",
       "    </tr>\n",
       "    <tr>\n",
       "      <th>120424</th>\n",
       "      <td>apartment</td>\n",
       "      <td>San Telmo</td>\n",
       "      <td>1457800.0</td>\n",
       "      <td>ARS</td>\n",
       "      <td>1442592.79</td>\n",
       "      <td>81758.78</td>\n",
       "      <td>35.0</td>\n",
       "      <td>32.0</td>\n",
       "      <td>2335.965143</td>\n",
       "      <td>45556.250000</td>\n",
       "      <td>NaN</td>\n",
       "      <td>NaN</td>\n",
       "      <td>Departamento 35m², Capital Federal, San Telmo,...</td>\n",
       "    </tr>\n",
       "  </tbody>\n",
       "</table>\n",
       "</div>"
      ],
      "text/plain": [
       "       property_type        place_name      price currency  \\\n",
       "64572      apartment     San Cristobal   125000.0      USD   \n",
       "44393          house  Parque Chacabuco   148000.0      USD   \n",
       "70393      apartment         Caballito   163700.0      USD   \n",
       "56591      apartment        Colegiales   325000.0      USD   \n",
       "120424     apartment         San Telmo  1457800.0      ARS   \n",
       "\n",
       "        price_aprox_local_currency  price_aprox_usd  surface_total_in_m2  \\\n",
       "64572                   2205562.50        125000.00                 73.0   \n",
       "44393                   2611386.00        148000.00                 22.0   \n",
       "70393                   2888404.65        163700.00                 48.0   \n",
       "56591                   5734462.50        325000.00                103.4   \n",
       "120424                  1442592.79         81758.78                 35.0   \n",
       "\n",
       "        surface_covered_in_m2  price_usd_per_m2  price_per_m2  floor  rooms  \\\n",
       "64572                    67.0       1712.328767   1865.671642    NaN    NaN   \n",
       "44393                    20.0               NaN   7400.000000    NaN    5.0   \n",
       "70393                    41.0       3410.416667   3992.682927    NaN    NaN   \n",
       "56591                    94.0               NaN   3457.446809    4.0    3.0   \n",
       "120424                   32.0       2335.965143  45556.250000    NaN    NaN   \n",
       "\n",
       "                                              description  \n",
       "64572   VENTA 4 AMBIENTES EN SAN CRISTOBALDEPARTAMENTO...  \n",
       "44393   Corredor Responsable: Jorge Salafia - CUCICBA ...  \n",
       "70393   Departamento 48m² con SUM en Goyena, Pedro Av....  \n",
       "56591   Corredor Responsable: Uno Bienes Raices SRL - ...  \n",
       "120424  Departamento 35m², Capital Federal, San Telmo,...  "
      ]
     },
     "execution_count": 805,
     "metadata": {},
     "output_type": "execute_result"
    }
   ],
   "source": [
    "# Para la superficie de metros cuadadros totales, podemos creer que en caso de ser Nan \n",
    "#es porque es un departamente sin balcon y la cantidad de m2 cubierta sería iguala la cantidad de m2 totales.data_caba\n",
    "\n",
    "data_caba_clean.surface_total_in_m2.fillna(data_caba_clean.surface_covered_in_m2 + (data_caba_clean.surface_covered_in_m2 * 0.10), inplace=True)\n",
    "\n",
    "data_caba_clean.sample(5)"
   ]
  },
  {
   "cell_type": "markdown",
   "metadata": {},
   "source": [
    "<h3> Completamos datos faltantes de superficie </h3>\n",
    "\n",
    "[volver a TOC](#section_toc)"
   ]
  },
  {
   "cell_type": "code",
   "execution_count": 806,
   "metadata": {},
   "outputs": [
    {
     "data": {
      "text/html": [
       "<div>\n",
       "<style scoped>\n",
       "    .dataframe tbody tr th:only-of-type {\n",
       "        vertical-align: middle;\n",
       "    }\n",
       "\n",
       "    .dataframe tbody tr th {\n",
       "        vertical-align: top;\n",
       "    }\n",
       "\n",
       "    .dataframe thead th {\n",
       "        text-align: right;\n",
       "    }\n",
       "</style>\n",
       "<table border=\"1\" class=\"dataframe\">\n",
       "  <thead>\n",
       "    <tr style=\"text-align: right;\">\n",
       "      <th></th>\n",
       "      <th>property_type</th>\n",
       "      <th>place_name</th>\n",
       "      <th>price</th>\n",
       "      <th>currency</th>\n",
       "      <th>price_aprox_local_currency</th>\n",
       "      <th>price_aprox_usd</th>\n",
       "      <th>surface_total_in_m2</th>\n",
       "      <th>surface_covered_in_m2</th>\n",
       "      <th>price_usd_per_m2</th>\n",
       "      <th>price_per_m2</th>\n",
       "      <th>floor</th>\n",
       "      <th>rooms</th>\n",
       "      <th>description</th>\n",
       "    </tr>\n",
       "  </thead>\n",
       "  <tbody>\n",
       "    <tr>\n",
       "      <th>96755</th>\n",
       "      <td>apartment</td>\n",
       "      <td>Palermo</td>\n",
       "      <td>201600.0</td>\n",
       "      <td>USD</td>\n",
       "      <td>3557131.2</td>\n",
       "      <td>201600.0</td>\n",
       "      <td>64.0</td>\n",
       "      <td>56.0</td>\n",
       "      <td>3150.000000</td>\n",
       "      <td>3600.000000</td>\n",
       "      <td>NaN</td>\n",
       "      <td>NaN</td>\n",
       "      <td>En el corazón de Palermo a 20 metros de Avenid...</td>\n",
       "    </tr>\n",
       "    <tr>\n",
       "      <th>46785</th>\n",
       "      <td>apartment</td>\n",
       "      <td>Las Cañitas</td>\n",
       "      <td>125000.0</td>\n",
       "      <td>USD</td>\n",
       "      <td>2205562.5</td>\n",
       "      <td>125000.0</td>\n",
       "      <td>32.0</td>\n",
       "      <td>32.0</td>\n",
       "      <td>3906.250000</td>\n",
       "      <td>3906.250000</td>\n",
       "      <td>NaN</td>\n",
       "      <td>1.0</td>\n",
       "      <td>Departamento a estrenar de 1 ambiente en edifi...</td>\n",
       "    </tr>\n",
       "    <tr>\n",
       "      <th>66267</th>\n",
       "      <td>apartment</td>\n",
       "      <td>Belgrano</td>\n",
       "      <td>205000.0</td>\n",
       "      <td>USD</td>\n",
       "      <td>3617122.5</td>\n",
       "      <td>205000.0</td>\n",
       "      <td>60.0</td>\n",
       "      <td>60.0</td>\n",
       "      <td>3416.666667</td>\n",
       "      <td>3416.666667</td>\n",
       "      <td>NaN</td>\n",
       "      <td>NaN</td>\n",
       "      <td>IMPECABLE Y LUMINOSO DEPARTAMENTO AL FRENTE - ...</td>\n",
       "    </tr>\n",
       "    <tr>\n",
       "      <th>71511</th>\n",
       "      <td>apartment</td>\n",
       "      <td>Barracas</td>\n",
       "      <td>119600.0</td>\n",
       "      <td>USD</td>\n",
       "      <td>2110282.2</td>\n",
       "      <td>119600.0</td>\n",
       "      <td>43.0</td>\n",
       "      <td>38.0</td>\n",
       "      <td>2781.395349</td>\n",
       "      <td>3147.368421</td>\n",
       "      <td>NaN</td>\n",
       "      <td>NaN</td>\n",
       "      <td>Departamento 43m² con SUM en Suarez 1700, Capi...</td>\n",
       "    </tr>\n",
       "    <tr>\n",
       "      <th>48668</th>\n",
       "      <td>apartment</td>\n",
       "      <td>Villa Urquiza</td>\n",
       "      <td>198000.0</td>\n",
       "      <td>USD</td>\n",
       "      <td>3493611.0</td>\n",
       "      <td>198000.0</td>\n",
       "      <td>82.5</td>\n",
       "      <td>75.0</td>\n",
       "      <td>NaN</td>\n",
       "      <td>2640.000000</td>\n",
       "      <td>1.0</td>\n",
       "      <td>3.0</td>\n",
       "      <td>Corredor Responsable: Raul Hector Merlo - CUCI...</td>\n",
       "    </tr>\n",
       "  </tbody>\n",
       "</table>\n",
       "</div>"
      ],
      "text/plain": [
       "      property_type     place_name     price currency  \\\n",
       "96755     apartment        Palermo  201600.0      USD   \n",
       "46785     apartment    Las Cañitas  125000.0      USD   \n",
       "66267     apartment       Belgrano  205000.0      USD   \n",
       "71511     apartment       Barracas  119600.0      USD   \n",
       "48668     apartment  Villa Urquiza  198000.0      USD   \n",
       "\n",
       "       price_aprox_local_currency  price_aprox_usd  surface_total_in_m2  \\\n",
       "96755                   3557131.2         201600.0                 64.0   \n",
       "46785                   2205562.5         125000.0                 32.0   \n",
       "66267                   3617122.5         205000.0                 60.0   \n",
       "71511                   2110282.2         119600.0                 43.0   \n",
       "48668                   3493611.0         198000.0                 82.5   \n",
       "\n",
       "       surface_covered_in_m2  price_usd_per_m2  price_per_m2  floor  rooms  \\\n",
       "96755                   56.0       3150.000000   3600.000000    NaN    NaN   \n",
       "46785                   32.0       3906.250000   3906.250000    NaN    1.0   \n",
       "66267                   60.0       3416.666667   3416.666667    NaN    NaN   \n",
       "71511                   38.0       2781.395349   3147.368421    NaN    NaN   \n",
       "48668                   75.0               NaN   2640.000000    1.0    3.0   \n",
       "\n",
       "                                             description  \n",
       "96755  En el corazón de Palermo a 20 metros de Avenid...  \n",
       "46785  Departamento a estrenar de 1 ambiente en edifi...  \n",
       "66267  IMPECABLE Y LUMINOSO DEPARTAMENTO AL FRENTE - ...  \n",
       "71511  Departamento 43m² con SUM en Suarez 1700, Capi...  \n",
       "48668  Corredor Responsable: Raul Hector Merlo - CUCI...  "
      ]
     },
     "execution_count": 806,
     "metadata": {},
     "output_type": "execute_result"
    }
   ],
   "source": [
    "# Idem al punto anterior pero ahora de surface_total a surface_covered\n",
    "\n",
    "data_caba_clean.surface_covered_in_m2.fillna(data_caba_clean.surface_total_in_m2, inplace=True)\n",
    "\n",
    "data_caba_clean.sample(5)"
   ]
  },
  {
   "cell_type": "markdown",
   "metadata": {},
   "source": [
    "<h3> Completamos datos faltantes de price_usd_per_m2 </h3>\n",
    "\n",
    "[volver a TOC](#section_toc)"
   ]
  },
  {
   "cell_type": "code",
   "execution_count": 807,
   "metadata": {},
   "outputs": [
    {
     "data": {
      "text/html": [
       "<div>\n",
       "<style scoped>\n",
       "    .dataframe tbody tr th:only-of-type {\n",
       "        vertical-align: middle;\n",
       "    }\n",
       "\n",
       "    .dataframe tbody tr th {\n",
       "        vertical-align: top;\n",
       "    }\n",
       "\n",
       "    .dataframe thead th {\n",
       "        text-align: right;\n",
       "    }\n",
       "</style>\n",
       "<table border=\"1\" class=\"dataframe\">\n",
       "  <thead>\n",
       "    <tr style=\"text-align: right;\">\n",
       "      <th></th>\n",
       "      <th>property_type</th>\n",
       "      <th>place_name</th>\n",
       "      <th>price</th>\n",
       "      <th>currency</th>\n",
       "      <th>price_aprox_local_currency</th>\n",
       "      <th>price_aprox_usd</th>\n",
       "      <th>surface_total_in_m2</th>\n",
       "      <th>surface_covered_in_m2</th>\n",
       "      <th>price_usd_per_m2</th>\n",
       "      <th>price_per_m2</th>\n",
       "      <th>floor</th>\n",
       "      <th>rooms</th>\n",
       "      <th>description</th>\n",
       "    </tr>\n",
       "  </thead>\n",
       "  <tbody>\n",
       "    <tr>\n",
       "      <th>90760</th>\n",
       "      <td>apartment</td>\n",
       "      <td>Belgrano</td>\n",
       "      <td>139230.0</td>\n",
       "      <td>USD</td>\n",
       "      <td>2456643.73</td>\n",
       "      <td>139230.0</td>\n",
       "      <td>47.0</td>\n",
       "      <td>44.0</td>\n",
       "      <td>2962.340426</td>\n",
       "      <td>3164.318182</td>\n",
       "      <td>NaN</td>\n",
       "      <td>NaN</td>\n",
       "      <td>Unidad monoambiente apto profesional.Valor ven...</td>\n",
       "    </tr>\n",
       "    <tr>\n",
       "      <th>45258</th>\n",
       "      <td>store</td>\n",
       "      <td>San Cristobal</td>\n",
       "      <td>350000.0</td>\n",
       "      <td>USD</td>\n",
       "      <td>6175575.00</td>\n",
       "      <td>350000.0</td>\n",
       "      <td>515.0</td>\n",
       "      <td>382.0</td>\n",
       "      <td>679.611650</td>\n",
       "      <td>916.230366</td>\n",
       "      <td>NaN</td>\n",
       "      <td>NaN</td>\n",
       "      <td>Descripcion: Propiedad ubicada sobre la avenid...</td>\n",
       "    </tr>\n",
       "    <tr>\n",
       "      <th>50110</th>\n",
       "      <td>apartment</td>\n",
       "      <td>Almagro</td>\n",
       "      <td>145000.0</td>\n",
       "      <td>USD</td>\n",
       "      <td>2558452.50</td>\n",
       "      <td>145000.0</td>\n",
       "      <td>85.0</td>\n",
       "      <td>70.0</td>\n",
       "      <td>1705.882353</td>\n",
       "      <td>2071.428571</td>\n",
       "      <td>NaN</td>\n",
       "      <td>2.0</td>\n",
       "      <td>2 AMBIENTES CON PATIO - RECICLADOSUPER FUNCION...</td>\n",
       "    </tr>\n",
       "    <tr>\n",
       "      <th>76163</th>\n",
       "      <td>apartment</td>\n",
       "      <td>Palermo</td>\n",
       "      <td>438000.0</td>\n",
       "      <td>USD</td>\n",
       "      <td>7728291.00</td>\n",
       "      <td>438000.0</td>\n",
       "      <td>83.0</td>\n",
       "      <td>80.0</td>\n",
       "      <td>5277.108434</td>\n",
       "      <td>5475.000000</td>\n",
       "      <td>NaN</td>\n",
       "      <td>NaN</td>\n",
       "      <td>Estupendo departamento en Palermo Soho a estre...</td>\n",
       "    </tr>\n",
       "    <tr>\n",
       "      <th>116816</th>\n",
       "      <td>apartment</td>\n",
       "      <td>Villa Urquiza</td>\n",
       "      <td>81174.0</td>\n",
       "      <td>USD</td>\n",
       "      <td>1432274.64</td>\n",
       "      <td>81174.0</td>\n",
       "      <td>36.0</td>\n",
       "      <td>36.0</td>\n",
       "      <td>2254.833333</td>\n",
       "      <td>2254.833333</td>\n",
       "      <td>NaN</td>\n",
       "      <td>NaN</td>\n",
       "      <td>Monoambiente con la cocina integrada  por una ...</td>\n",
       "    </tr>\n",
       "  </tbody>\n",
       "</table>\n",
       "</div>"
      ],
      "text/plain": [
       "       property_type     place_name     price currency  \\\n",
       "90760      apartment       Belgrano  139230.0      USD   \n",
       "45258          store  San Cristobal  350000.0      USD   \n",
       "50110      apartment        Almagro  145000.0      USD   \n",
       "76163      apartment        Palermo  438000.0      USD   \n",
       "116816     apartment  Villa Urquiza   81174.0      USD   \n",
       "\n",
       "        price_aprox_local_currency  price_aprox_usd  surface_total_in_m2  \\\n",
       "90760                   2456643.73         139230.0                 47.0   \n",
       "45258                   6175575.00         350000.0                515.0   \n",
       "50110                   2558452.50         145000.0                 85.0   \n",
       "76163                   7728291.00         438000.0                 83.0   \n",
       "116816                  1432274.64          81174.0                 36.0   \n",
       "\n",
       "        surface_covered_in_m2  price_usd_per_m2  price_per_m2  floor  rooms  \\\n",
       "90760                    44.0       2962.340426   3164.318182    NaN    NaN   \n",
       "45258                   382.0        679.611650    916.230366    NaN    NaN   \n",
       "50110                    70.0       1705.882353   2071.428571    NaN    2.0   \n",
       "76163                    80.0       5277.108434   5475.000000    NaN    NaN   \n",
       "116816                   36.0       2254.833333   2254.833333    NaN    NaN   \n",
       "\n",
       "                                              description  \n",
       "90760   Unidad monoambiente apto profesional.Valor ven...  \n",
       "45258   Descripcion: Propiedad ubicada sobre la avenid...  \n",
       "50110   2 AMBIENTES CON PATIO - RECICLADOSUPER FUNCION...  \n",
       "76163   Estupendo departamento en Palermo Soho a estre...  \n",
       "116816  Monoambiente con la cocina integrada  por una ...  "
      ]
     },
     "execution_count": 807,
     "metadata": {},
     "output_type": "execute_result"
    }
   ],
   "source": [
    "# Idem al punto anterior pero ahora calculamos el precio por metro cuadrado.\n",
    "\n",
    "data_caba_clean.price_usd_per_m2.fillna(data_caba_clean.price_aprox_usd / data_caba_clean.surface_total_in_m2, inplace=True)\n",
    "\n",
    "data_caba_clean.sample(5)"
   ]
  },
  {
   "cell_type": "markdown",
   "metadata": {},
   "source": [
    "<h3> Eliminamos floor </h3>\n",
    "\n",
    "[volver a TOC](#section_toc)"
   ]
  },
  {
   "cell_type": "code",
   "execution_count": 808,
   "metadata": {},
   "outputs": [
    {
     "data": {
      "text/plain": [
       "32316"
      ]
     },
     "metadata": {},
     "output_type": "display_data"
    }
   ],
   "source": [
    "display(data_caba.floor.isnull().count())\n",
    "\n",
    "# El piso es un dato muy incompleto por lo que se dropea\n",
    "\n",
    "# Dropeamos la columna creada anteriormente.\n",
    "data_caba_clean.drop(columns=['floor'], inplace=True)\n",
    "\n",
    "# En el caso de Rooms lo reemplazamos por 0 --> Lo pasé más abajo\n",
    "# data_caba_clean.rooms.fillna(0, inplace=True)"
   ]
  },
  {
   "cell_type": "code",
   "execution_count": 809,
   "metadata": {},
   "outputs": [
    {
     "data": {
      "text/plain": [
       "15325"
      ]
     },
     "metadata": {},
     "output_type": "display_data"
    }
   ],
   "source": [
    "display(data_caba.rooms.count())\n",
    "# En el caso de rooms, podemos tomar que el dato para los NaN es 0?? modifica esto el analisis para predecir? "
   ]
  },
  {
   "cell_type": "markdown",
   "metadata": {},
   "source": [
    "<h3> Eliminamos columnas de precios en moneda local </h3>\n",
    "\n",
    "[volver a TOC](#section_toc)"
   ]
  },
  {
   "cell_type": "code",
   "execution_count": 810,
   "metadata": {},
   "outputs": [
    {
     "data": {
      "text/html": [
       "<div>\n",
       "<style scoped>\n",
       "    .dataframe tbody tr th:only-of-type {\n",
       "        vertical-align: middle;\n",
       "    }\n",
       "\n",
       "    .dataframe tbody tr th {\n",
       "        vertical-align: top;\n",
       "    }\n",
       "\n",
       "    .dataframe thead th {\n",
       "        text-align: right;\n",
       "    }\n",
       "</style>\n",
       "<table border=\"1\" class=\"dataframe\">\n",
       "  <thead>\n",
       "    <tr style=\"text-align: right;\">\n",
       "      <th></th>\n",
       "      <th>property_type</th>\n",
       "      <th>place_name</th>\n",
       "      <th>price_aprox_usd</th>\n",
       "      <th>surface_total_in_m2</th>\n",
       "      <th>surface_covered_in_m2</th>\n",
       "      <th>price_usd_per_m2</th>\n",
       "      <th>rooms</th>\n",
       "      <th>description</th>\n",
       "    </tr>\n",
       "  </thead>\n",
       "  <tbody>\n",
       "    <tr>\n",
       "      <th>39740</th>\n",
       "      <td>apartment</td>\n",
       "      <td>Belgrano</td>\n",
       "      <td>415000.0</td>\n",
       "      <td>138.0</td>\n",
       "      <td>138.0</td>\n",
       "      <td>3007.246377</td>\n",
       "      <td>4.0</td>\n",
       "      <td>Venta de Departamento 4 AMBIENTES en Belgrano,...</td>\n",
       "    </tr>\n",
       "    <tr>\n",
       "      <th>93289</th>\n",
       "      <td>apartment</td>\n",
       "      <td>Palermo</td>\n",
       "      <td>170000.0</td>\n",
       "      <td>32.0</td>\n",
       "      <td>30.0</td>\n",
       "      <td>5312.500000</td>\n",
       "      <td>NaN</td>\n",
       "      <td>Imperdible oportunidad de tener tu propia plan...</td>\n",
       "    </tr>\n",
       "    <tr>\n",
       "      <th>89567</th>\n",
       "      <td>apartment</td>\n",
       "      <td>Caballito</td>\n",
       "      <td>82450.0</td>\n",
       "      <td>48.0</td>\n",
       "      <td>29.0</td>\n",
       "      <td>1717.708333</td>\n",
       "      <td>NaN</td>\n",
       "      <td>Amplio monoambiente, con salida a balcón.Baño ...</td>\n",
       "    </tr>\n",
       "    <tr>\n",
       "      <th>55765</th>\n",
       "      <td>apartment</td>\n",
       "      <td>Centro / Microcentro</td>\n",
       "      <td>140000.0</td>\n",
       "      <td>72.0</td>\n",
       "      <td>72.0</td>\n",
       "      <td>1944.444444</td>\n",
       "      <td>3.0</td>\n",
       "      <td>Departamento 3 Ambientes - Ideal Estudio Profe...</td>\n",
       "    </tr>\n",
       "    <tr>\n",
       "      <th>94370</th>\n",
       "      <td>apartment</td>\n",
       "      <td>Palermo</td>\n",
       "      <td>325000.0</td>\n",
       "      <td>126.0</td>\n",
       "      <td>91.0</td>\n",
       "      <td>2579.365079</td>\n",
       "      <td>NaN</td>\n",
       "      <td>Duplex de 3 ambientes con escritorio, balcón c...</td>\n",
       "    </tr>\n",
       "    <tr>\n",
       "      <th>82287</th>\n",
       "      <td>apartment</td>\n",
       "      <td>Belgrano</td>\n",
       "      <td>145000.0</td>\n",
       "      <td>42.0</td>\n",
       "      <td>35.0</td>\n",
       "      <td>3452.380952</td>\n",
       "      <td>NaN</td>\n",
       "      <td>En la mejor ubicacion de Bajo Belgrano, La pam...</td>\n",
       "    </tr>\n",
       "    <tr>\n",
       "      <th>40791</th>\n",
       "      <td>apartment</td>\n",
       "      <td>Recoleta</td>\n",
       "      <td>120000.0</td>\n",
       "      <td>38.5</td>\n",
       "      <td>35.0</td>\n",
       "      <td>3116.883117</td>\n",
       "      <td>1.0</td>\n",
       "      <td>Corredor Responsable: Ariel Champanier - C.U.C...</td>\n",
       "    </tr>\n",
       "    <tr>\n",
       "      <th>75728</th>\n",
       "      <td>apartment</td>\n",
       "      <td>Belgrano</td>\n",
       "      <td>108000.0</td>\n",
       "      <td>34.0</td>\n",
       "      <td>34.0</td>\n",
       "      <td>3176.470588</td>\n",
       "      <td>NaN</td>\n",
       "      <td>Departamento en Venta en Belgrano de 1 dormito...</td>\n",
       "    </tr>\n",
       "    <tr>\n",
       "      <th>85746</th>\n",
       "      <td>apartment</td>\n",
       "      <td>Palermo Hollywood</td>\n",
       "      <td>155000.0</td>\n",
       "      <td>43.0</td>\n",
       "      <td>36.0</td>\n",
       "      <td>3604.651163</td>\n",
       "      <td>NaN</td>\n",
       "      <td>HERMOSO DEPARTAMENTO , A ESTRENAR, 1 ambiente,...</td>\n",
       "    </tr>\n",
       "    <tr>\n",
       "      <th>56622</th>\n",
       "      <td>apartment</td>\n",
       "      <td>Villa Devoto</td>\n",
       "      <td>395000.0</td>\n",
       "      <td>157.3</td>\n",
       "      <td>143.0</td>\n",
       "      <td>2511.125238</td>\n",
       "      <td>6.0</td>\n",
       "      <td>Corredor Responsable: Franco Savone - CUCICBA ...</td>\n",
       "    </tr>\n",
       "    <tr>\n",
       "      <th>19723</th>\n",
       "      <td>PH</td>\n",
       "      <td>Versalles</td>\n",
       "      <td>170000.0</td>\n",
       "      <td>150.0</td>\n",
       "      <td>90.0</td>\n",
       "      <td>1133.333333</td>\n",
       "      <td>4.0</td>\n",
       "      <td>Ph con Fondo al Contrafrente.Son 2 unidades po...</td>\n",
       "    </tr>\n",
       "    <tr>\n",
       "      <th>23674</th>\n",
       "      <td>apartment</td>\n",
       "      <td>Villa Devoto</td>\n",
       "      <td>158000.0</td>\n",
       "      <td>71.0</td>\n",
       "      <td>61.0</td>\n",
       "      <td>2225.352113</td>\n",
       "      <td>3.0</td>\n",
       "      <td>DEPARTAMENTO DE 3 AMBIENTES BIEN CONSERVADO, M...</td>\n",
       "    </tr>\n",
       "    <tr>\n",
       "      <th>109310</th>\n",
       "      <td>apartment</td>\n",
       "      <td>Palermo</td>\n",
       "      <td>300000.0</td>\n",
       "      <td>100.0</td>\n",
       "      <td>83.0</td>\n",
       "      <td>3000.000000</td>\n",
       "      <td>NaN</td>\n",
       "      <td>Departamento en pozo en el barrio de Palermo  ...</td>\n",
       "    </tr>\n",
       "    <tr>\n",
       "      <th>94928</th>\n",
       "      <td>apartment</td>\n",
       "      <td>Caballito</td>\n",
       "      <td>123253.0</td>\n",
       "      <td>44.0</td>\n",
       "      <td>37.0</td>\n",
       "      <td>2801.204545</td>\n",
       "      <td>NaN</td>\n",
       "      <td>Situado en un único lote de más de 3.900 m2 de...</td>\n",
       "    </tr>\n",
       "    <tr>\n",
       "      <th>38595</th>\n",
       "      <td>apartment</td>\n",
       "      <td>Almagro</td>\n",
       "      <td>149000.0</td>\n",
       "      <td>79.0</td>\n",
       "      <td>79.0</td>\n",
       "      <td>1886.075949</td>\n",
       "      <td>NaN</td>\n",
       "      <td>CODIGO: 3650-ab0022 ubicado en: Gascon 574 2° ...</td>\n",
       "    </tr>\n",
       "    <tr>\n",
       "      <th>15836</th>\n",
       "      <td>PH</td>\n",
       "      <td>Mataderos</td>\n",
       "      <td>145000.0</td>\n",
       "      <td>159.5</td>\n",
       "      <td>145.0</td>\n",
       "      <td>909.090909</td>\n",
       "      <td>8.0</td>\n",
       "      <td>Corredor Responsable: Patricia Maria Sodor - C...</td>\n",
       "    </tr>\n",
       "    <tr>\n",
       "      <th>10901</th>\n",
       "      <td>house</td>\n",
       "      <td>Flores</td>\n",
       "      <td>250000.0</td>\n",
       "      <td>255.0</td>\n",
       "      <td>130.0</td>\n",
       "      <td>980.392157</td>\n",
       "      <td>5.0</td>\n",
       "      <td>Solida casa 5 ambientes con muy buen estado  d...</td>\n",
       "    </tr>\n",
       "    <tr>\n",
       "      <th>386</th>\n",
       "      <td>apartment</td>\n",
       "      <td>Palermo</td>\n",
       "      <td>179000.0</td>\n",
       "      <td>70.0</td>\n",
       "      <td>61.0</td>\n",
       "      <td>2557.142857</td>\n",
       "      <td>3.0</td>\n",
       "      <td>EMPRENDIMIENTO A ESTRENAR *** Av. Córdoba 5202...</td>\n",
       "    </tr>\n",
       "    <tr>\n",
       "      <th>116647</th>\n",
       "      <td>apartment</td>\n",
       "      <td>Caballito</td>\n",
       "      <td>122400.0</td>\n",
       "      <td>55.0</td>\n",
       "      <td>52.0</td>\n",
       "      <td>2225.454545</td>\n",
       "      <td>NaN</td>\n",
       "      <td>Ubicacion estrategica dentro de Caballito Nort...</td>\n",
       "    </tr>\n",
       "    <tr>\n",
       "      <th>46880</th>\n",
       "      <td>PH</td>\n",
       "      <td>Colegiales</td>\n",
       "      <td>230000.0</td>\n",
       "      <td>100.0</td>\n",
       "      <td>86.0</td>\n",
       "      <td>2300.000000</td>\n",
       "      <td>5.0</td>\n",
       "      <td>Precioso PH con entrada por pasillo común, la ...</td>\n",
       "    </tr>\n",
       "  </tbody>\n",
       "</table>\n",
       "</div>"
      ],
      "text/plain": [
       "       property_type            place_name  price_aprox_usd  \\\n",
       "39740      apartment              Belgrano         415000.0   \n",
       "93289      apartment               Palermo         170000.0   \n",
       "89567      apartment             Caballito          82450.0   \n",
       "55765      apartment  Centro / Microcentro         140000.0   \n",
       "94370      apartment               Palermo         325000.0   \n",
       "82287      apartment              Belgrano         145000.0   \n",
       "40791      apartment              Recoleta         120000.0   \n",
       "75728      apartment              Belgrano         108000.0   \n",
       "85746      apartment     Palermo Hollywood         155000.0   \n",
       "56622      apartment          Villa Devoto         395000.0   \n",
       "19723             PH             Versalles         170000.0   \n",
       "23674      apartment          Villa Devoto         158000.0   \n",
       "109310     apartment               Palermo         300000.0   \n",
       "94928      apartment             Caballito         123253.0   \n",
       "38595      apartment               Almagro         149000.0   \n",
       "15836             PH             Mataderos         145000.0   \n",
       "10901          house                Flores         250000.0   \n",
       "386        apartment               Palermo         179000.0   \n",
       "116647     apartment             Caballito         122400.0   \n",
       "46880             PH            Colegiales         230000.0   \n",
       "\n",
       "        surface_total_in_m2  surface_covered_in_m2  price_usd_per_m2  rooms  \\\n",
       "39740                 138.0                  138.0       3007.246377    4.0   \n",
       "93289                  32.0                   30.0       5312.500000    NaN   \n",
       "89567                  48.0                   29.0       1717.708333    NaN   \n",
       "55765                  72.0                   72.0       1944.444444    3.0   \n",
       "94370                 126.0                   91.0       2579.365079    NaN   \n",
       "82287                  42.0                   35.0       3452.380952    NaN   \n",
       "40791                  38.5                   35.0       3116.883117    1.0   \n",
       "75728                  34.0                   34.0       3176.470588    NaN   \n",
       "85746                  43.0                   36.0       3604.651163    NaN   \n",
       "56622                 157.3                  143.0       2511.125238    6.0   \n",
       "19723                 150.0                   90.0       1133.333333    4.0   \n",
       "23674                  71.0                   61.0       2225.352113    3.0   \n",
       "109310                100.0                   83.0       3000.000000    NaN   \n",
       "94928                  44.0                   37.0       2801.204545    NaN   \n",
       "38595                  79.0                   79.0       1886.075949    NaN   \n",
       "15836                 159.5                  145.0        909.090909    8.0   \n",
       "10901                 255.0                  130.0        980.392157    5.0   \n",
       "386                    70.0                   61.0       2557.142857    3.0   \n",
       "116647                 55.0                   52.0       2225.454545    NaN   \n",
       "46880                 100.0                   86.0       2300.000000    5.0   \n",
       "\n",
       "                                              description  \n",
       "39740   Venta de Departamento 4 AMBIENTES en Belgrano,...  \n",
       "93289   Imperdible oportunidad de tener tu propia plan...  \n",
       "89567   Amplio monoambiente, con salida a balcón.Baño ...  \n",
       "55765   Departamento 3 Ambientes - Ideal Estudio Profe...  \n",
       "94370   Duplex de 3 ambientes con escritorio, balcón c...  \n",
       "82287   En la mejor ubicacion de Bajo Belgrano, La pam...  \n",
       "40791   Corredor Responsable: Ariel Champanier - C.U.C...  \n",
       "75728   Departamento en Venta en Belgrano de 1 dormito...  \n",
       "85746   HERMOSO DEPARTAMENTO , A ESTRENAR, 1 ambiente,...  \n",
       "56622   Corredor Responsable: Franco Savone - CUCICBA ...  \n",
       "19723   Ph con Fondo al Contrafrente.Son 2 unidades po...  \n",
       "23674   DEPARTAMENTO DE 3 AMBIENTES BIEN CONSERVADO, M...  \n",
       "109310  Departamento en pozo en el barrio de Palermo  ...  \n",
       "94928   Situado en un único lote de más de 3.900 m2 de...  \n",
       "38595   CODIGO: 3650-ab0022 ubicado en: Gascon 574 2° ...  \n",
       "15836   Corredor Responsable: Patricia Maria Sodor - C...  \n",
       "10901   Solida casa 5 ambientes con muy buen estado  d...  \n",
       "386     EMPRENDIMIENTO A ESTRENAR *** Av. Córdoba 5202...  \n",
       "116647  Ubicacion estrategica dentro de Caballito Nort...  \n",
       "46880   Precioso PH con entrada por pasillo común, la ...  "
      ]
     },
     "execution_count": 810,
     "metadata": {},
     "output_type": "execute_result"
    }
   ],
   "source": [
    "# Dropeamos los valores que sabemos que está repetidos o con otra moneda.data_caba\n",
    "\n",
    "data_caba_clean.drop(columns=['price', 'currency','price_per_m2', 'price_aprox_local_currency'], inplace=True)\n",
    "\n",
    "data_caba_clean.sample(20)"
   ]
  },
  {
   "cell_type": "markdown",
   "metadata": {},
   "source": [
    "<h3> Nuevo recuento de nulos </h3>"
   ]
  },
  {
   "cell_type": "code",
   "execution_count": 811,
   "metadata": {},
   "outputs": [
    {
     "name": "stdout",
     "output_type": "stream",
     "text": [
      "\n",
      "Porcentaje de valores incompletos por columna:\n",
      "property_type             0.00\n",
      "place_name                0.00\n",
      "price_aprox_usd           0.00\n",
      "surface_total_in_m2       0.00\n",
      "surface_covered_in_m2     0.00\n",
      "price_usd_per_m2          0.00\n",
      "rooms                    43.82\n",
      "description               0.00\n",
      "dtype: float64\n"
     ]
    },
    {
     "data": {
      "text/plain": [
       "(25627, 8)"
      ]
     },
     "metadata": {},
     "output_type": "display_data"
    }
   ],
   "source": [
    "print('\\nPorcentaje de valores incompletos por columna:')\n",
    "print(f'{round(100 * data_caba_clean.isnull().sum()/data_caba_clean.shape[0], 2)}')\n",
    "\n",
    "display(data_caba_clean.shape)"
   ]
  },
  {
   "cell_type": "markdown",
   "metadata": {},
   "source": [
    "<h3>Creación de una columna para categorizar por metros cuadrados"
   ]
  },
  {
   "cell_type": "code",
   "execution_count": 812,
   "metadata": {},
   "outputs": [],
   "source": [
    "# Delimitamos los bins para realizar un cut\n",
    "# bins = [20, 30, 45, 75, 150, 220]\n",
    "bins = [0, 30, 45, 75, 150, 220]\n",
    "labels = ['mono', 's45', 's75', 's150', 'm220' ]\n",
    "\n",
    "data_caba_clean['m2_categories'] = pd.cut(data_caba_clean.surface_covered_in_m2, bins, labels)\n",
    "data_caba_clean['m2_labels'] = pd.cut(x=data_caba_clean.surface_covered_in_m2, bins=bins, labels=labels, right=False)\n"
   ]
  },
  {
   "cell_type": "code",
   "execution_count": 813,
   "metadata": {},
   "outputs": [
    {
     "data": {
      "text/plain": [
       "(0, 30]       2530\n",
       "(30, 45]      7452\n",
       "(45, 75]      7227\n",
       "(75, 150]     5449\n",
       "(150, 220]    1572\n",
       "Name: m2_categories, dtype: int64"
      ]
     },
     "execution_count": 813,
     "metadata": {},
     "output_type": "execute_result"
    }
   ],
   "source": [
    "data_caba_clean.m2_categories.value_counts().sort_index()"
   ]
  },
  {
   "cell_type": "code",
   "execution_count": 814,
   "metadata": {},
   "outputs": [
    {
     "data": {
      "text/plain": [
       "mono    1633\n",
       "s45     7863\n",
       "s75     7475\n",
       "s150    5574\n",
       "m220    1628\n",
       "Name: m2_labels, dtype: int64"
      ]
     },
     "execution_count": 814,
     "metadata": {},
     "output_type": "execute_result"
    }
   ],
   "source": [
    "data_caba_clean.m2_labels.value_counts().sort_index()"
   ]
  },
  {
   "cell_type": "markdown",
   "metadata": {},
   "source": [
    "<a id=\"section_caba_description\"></a> \n",
    "<h3> Análisis del campo <strong>description</strong></h3>\n",
    "\n",
    "[volver a TOC](#section_toc)"
   ]
  },
  {
   "cell_type": "markdown",
   "metadata": {},
   "source": [
    "Normalización del campo, todo minuscula, sin tildes, etc"
   ]
  },
  {
   "cell_type": "code",
   "execution_count": 815,
   "metadata": {},
   "outputs": [
    {
     "data": {
      "text/plain": [
       "54993     depto de 4 ambientes al frente con balcón en p...\n",
       "40371     hall amplio living y comedor y escritorio5 dor...\n",
       "26609     departamento  1 ambiente divisible con balcond...\n",
       "98234     hermosa casa de 4 ambientes desarrollada en pl...\n",
       "119826    operacion: venta tipo de propiedad: departamen...\n",
       "110191    corredor responsable: jorge salafia - cucicba ...\n",
       "119452    corredor responsable: cristian arnal ponti - c...\n",
       "31297     venta de departamento 4 ambientes en centro / ...\n",
       "119901    corredor responsable: gustavo guastello - c.u....\n",
       "21766     venta de departamento 3 ambientes en almagro, ...\n",
       "Name: description, dtype: object"
      ]
     },
     "execution_count": 815,
     "metadata": {},
     "output_type": "execute_result"
    }
   ],
   "source": [
    "data_caba_clean.description = data_caba_clean.description.str.lower()\n",
    "\n",
    "data_caba_clean.description.sample(10)"
   ]
  },
  {
   "cell_type": "markdown",
   "metadata": {},
   "source": [
    "<a id=\"section_caba_description_amb\"></a> \n",
    "<h4> Cantidad de ambientes</h4>\n",
    "\n",
    "[volver a TOC](#section_toc)"
   ]
  },
  {
   "cell_type": "code",
   "execution_count": 816,
   "metadata": {},
   "outputs": [],
   "source": [
    "amb_pattern = \"((?P<numero_amb>\\d)(\\s)?(amb|anv|amv|anb))\"\n",
    "amb_pattern_regex = re.compile(amb_pattern)"
   ]
  },
  {
   "cell_type": "code",
   "execution_count": 817,
   "metadata": {},
   "outputs": [],
   "source": [
    "amb_match = data_caba_clean.description.apply(lambda x: x if (x is np.NaN) | (x is None) else\\\n",
    "                                      amb_pattern_regex.search(x))\n",
    "mask_amb_match_notnull = amb_match.notnull()\n",
    "\n",
    "# Aplicamos el grupo que encuentra el dígito de cantidad de ambientes, casteado como integer\n",
    "data_caba_clean.loc[mask_amb_match_notnull, 'number_rooms'] = \\\n",
    "amb_match.loc[mask_amb_match_notnull].apply(lambda x: int(x.group(\"numero_amb\")))"
   ]
  },
  {
   "cell_type": "code",
   "execution_count": 818,
   "metadata": {},
   "outputs": [],
   "source": [
    "dorm_pattern = \"((?P<numero_dorm>\\d)(\\s)?(dorm))\"\n",
    "dorm_pattern_regex = re.compile(dorm_pattern)"
   ]
  },
  {
   "cell_type": "code",
   "execution_count": 819,
   "metadata": {},
   "outputs": [],
   "source": [
    "dorm_match = data_caba_clean.description.apply(lambda x: x if (x is np.NaN) | (x is None) else dorm_pattern_regex.search(x))\n",
    "\n",
    "mask_dorm_match_notnull = dorm_match.notnull()\n",
    "\n",
    "data_caba_clean.loc[mask_dorm_match_notnull, 'number_rooms'] = \\\n",
    "dorm_match.loc[mask_dorm_match_notnull].apply(lambda x: int(x.group(\"numero_dorm\"))+1)\n",
    "\n",
    "#se asume que el numero de ambientes es numero_dorm +1"
   ]
  },
  {
   "cell_type": "markdown",
   "metadata": {},
   "source": [
    "Tratamos de llenar los rooms que faltan con lo que obtuvimos de la descripción"
   ]
  },
  {
   "cell_type": "code",
   "execution_count": 820,
   "metadata": {},
   "outputs": [
    {
     "data": {
      "text/html": [
       "<div>\n",
       "<style scoped>\n",
       "    .dataframe tbody tr th:only-of-type {\n",
       "        vertical-align: middle;\n",
       "    }\n",
       "\n",
       "    .dataframe tbody tr th {\n",
       "        vertical-align: top;\n",
       "    }\n",
       "\n",
       "    .dataframe thead th {\n",
       "        text-align: right;\n",
       "    }\n",
       "</style>\n",
       "<table border=\"1\" class=\"dataframe\">\n",
       "  <thead>\n",
       "    <tr style=\"text-align: right;\">\n",
       "      <th></th>\n",
       "      <th>property_type</th>\n",
       "      <th>place_name</th>\n",
       "      <th>price_aprox_usd</th>\n",
       "      <th>surface_total_in_m2</th>\n",
       "      <th>surface_covered_in_m2</th>\n",
       "      <th>price_usd_per_m2</th>\n",
       "      <th>rooms</th>\n",
       "      <th>description</th>\n",
       "      <th>m2_categories</th>\n",
       "      <th>m2_labels</th>\n",
       "      <th>number_rooms</th>\n",
       "    </tr>\n",
       "  </thead>\n",
       "  <tbody>\n",
       "    <tr>\n",
       "      <th>0</th>\n",
       "      <td>PH</td>\n",
       "      <td>Mataderos</td>\n",
       "      <td>62000.0</td>\n",
       "      <td>55.0</td>\n",
       "      <td>40.0</td>\n",
       "      <td>1127.272727</td>\n",
       "      <td>NaN</td>\n",
       "      <td>2 ambientes tipo casa planta baja por pasillo,...</td>\n",
       "      <td>(30, 45]</td>\n",
       "      <td>s45</td>\n",
       "      <td>2.0</td>\n",
       "    </tr>\n",
       "    <tr>\n",
       "      <th>2</th>\n",
       "      <td>apartment</td>\n",
       "      <td>Mataderos</td>\n",
       "      <td>72000.0</td>\n",
       "      <td>55.0</td>\n",
       "      <td>55.0</td>\n",
       "      <td>1309.090909</td>\n",
       "      <td>NaN</td>\n",
       "      <td>2 ambientes 3er piso lateral living comedor am...</td>\n",
       "      <td>(45, 75]</td>\n",
       "      <td>s75</td>\n",
       "      <td>2.0</td>\n",
       "    </tr>\n",
       "    <tr>\n",
       "      <th>7</th>\n",
       "      <td>apartment</td>\n",
       "      <td>Belgrano</td>\n",
       "      <td>138000.0</td>\n",
       "      <td>45.0</td>\n",
       "      <td>40.0</td>\n",
       "      <td>3066.666667</td>\n",
       "      <td>NaN</td>\n",
       "      <td>excelente monoambiente a estrenar amplio super...</td>\n",
       "      <td>(30, 45]</td>\n",
       "      <td>s45</td>\n",
       "      <td>NaN</td>\n",
       "    </tr>\n",
       "  </tbody>\n",
       "</table>\n",
       "</div>"
      ],
      "text/plain": [
       "  property_type place_name  price_aprox_usd  surface_total_in_m2  \\\n",
       "0            PH  Mataderos          62000.0                 55.0   \n",
       "2     apartment  Mataderos          72000.0                 55.0   \n",
       "7     apartment   Belgrano         138000.0                 45.0   \n",
       "\n",
       "   surface_covered_in_m2  price_usd_per_m2  rooms  \\\n",
       "0                   40.0       1127.272727    NaN   \n",
       "2                   55.0       1309.090909    NaN   \n",
       "7                   40.0       3066.666667    NaN   \n",
       "\n",
       "                                         description m2_categories m2_labels  \\\n",
       "0  2 ambientes tipo casa planta baja por pasillo,...      (30, 45]       s45   \n",
       "2  2 ambientes 3er piso lateral living comedor am...      (45, 75]       s75   \n",
       "7  excelente monoambiente a estrenar amplio super...      (30, 45]       s45   \n",
       "\n",
       "   number_rooms  \n",
       "0           2.0  \n",
       "2           2.0  \n",
       "7           NaN  "
      ]
     },
     "execution_count": 820,
     "metadata": {},
     "output_type": "execute_result"
    }
   ],
   "source": [
    "data_caba_clean.head(3)"
   ]
  },
  {
   "cell_type": "code",
   "execution_count": 821,
   "metadata": {},
   "outputs": [
    {
     "data": {
      "text/plain": [
       "11230"
      ]
     },
     "execution_count": 821,
     "metadata": {},
     "output_type": "execute_result"
    }
   ],
   "source": [
    "data_caba_clean.rooms.isnull().sum()"
   ]
  },
  {
   "cell_type": "code",
   "execution_count": 822,
   "metadata": {},
   "outputs": [
    {
     "data": {
      "text/plain": [
       "9881"
      ]
     },
     "execution_count": 822,
     "metadata": {},
     "output_type": "execute_result"
    }
   ],
   "source": [
    "data_caba_clean.number_rooms.isnull().sum()"
   ]
  },
  {
   "cell_type": "code",
   "execution_count": 823,
   "metadata": {},
   "outputs": [],
   "source": [
    "data_caba_clean.rooms.fillna(data_caba_clean.number_rooms, inplace=True)"
   ]
  },
  {
   "cell_type": "code",
   "execution_count": 824,
   "metadata": {},
   "outputs": [
    {
     "data": {
      "text/plain": [
       "4665"
      ]
     },
     "execution_count": 824,
     "metadata": {},
     "output_type": "execute_result"
    }
   ],
   "source": [
    "data_caba_clean.rooms.isnull().sum()"
   ]
  },
  {
   "cell_type": "code",
   "execution_count": 825,
   "metadata": {},
   "outputs": [],
   "source": [
    "# data_caba_clean.rooms.fillna(0, inplace=True)\n",
    "# completar con los datos de categorias"
   ]
  },
  {
   "cell_type": "code",
   "execution_count": null,
   "metadata": {},
   "outputs": [],
   "source": []
  },
  {
   "cell_type": "code",
   "execution_count": 826,
   "metadata": {},
   "outputs": [
    {
     "data": {
      "text/plain": [
       "2.0     5406\n",
       "3.0     5262\n",
       "1.0     4341\n",
       "4.0     4012\n",
       "5.0     1266\n",
       "6.0      362\n",
       "7.0      174\n",
       "8.0       57\n",
       "9.0       27\n",
       "10.0      24\n",
       "12.0      11\n",
       "11.0       9\n",
       "0.0        4\n",
       "17.0       3\n",
       "22.0       1\n",
       "15.0       1\n",
       "14.0       1\n",
       "13.0       1\n",
       "Name: rooms, dtype: int64"
      ]
     },
     "execution_count": 826,
     "metadata": {},
     "output_type": "execute_result"
    }
   ],
   "source": [
    "data_caba_clean.rooms.value_counts()"
   ]
  },
  {
   "cell_type": "code",
   "execution_count": 827,
   "metadata": {},
   "outputs": [
    {
     "data": {
      "text/plain": [
       "763"
      ]
     },
     "execution_count": 827,
     "metadata": {},
     "output_type": "execute_result"
    }
   ],
   "source": [
    "rooms_dict = {\n",
    "\"mono\": 1, \"s45\":  2, \"s75\":  3, \"s150\":  4, \"m220\": 5}\n",
    "\n",
    "data_caba_clean[\"rooms_upon_categories\"] = data_caba_clean.m2_labels.map(rooms_dict)\n",
    "data_caba_clean['rooms_upon_categories']\n",
    "\n",
    "data_caba_clean.rooms.fillna(data_caba_clean.rooms_upon_categories, inplace=True)\n",
    "data_caba_clean.rooms.isnull().sum()\n"
   ]
  },
  {
   "cell_type": "markdown",
   "metadata": {},
   "source": [
    "### Llenamos los que faltan según las categorías de los bins???\n",
    "Además: eliminar los que tengan más de 10 ambientes? Son pocos datos! "
   ]
  },
  {
   "cell_type": "markdown",
   "metadata": {},
   "source": [
    "<a id=\"section_caba_description_amb\"></a> \n",
    "<h4> Amenities</h4>\n",
    "\n",
    "[volver a TOC](#section_toc)"
   ]
  },
  {
   "cell_type": "markdown",
   "metadata": {},
   "source": [
    "<h5> Pileta </h5>"
   ]
  },
  {
   "cell_type": "code",
   "execution_count": 828,
   "metadata": {},
   "outputs": [],
   "source": [
    "pileta_pattern = \"(?P<pileta>pileta|piscina|picina|pisina|pool)\"\n",
    "pileta_pattern_regex = re.compile(pileta_pattern)"
   ]
  },
  {
   "cell_type": "code",
   "execution_count": 829,
   "metadata": {},
   "outputs": [],
   "source": [
    "pileta_match = data_caba_clean.description.apply(lambda x: x if (x is np.NaN) | (x is None) else\\\n",
    "                                      pileta_pattern_regex.search(x))\n",
    "mask_pileta_match_notnull = pileta_match.notnull()\n",
    "\n",
    "data_caba_clean.loc[mask_pileta_match_notnull, 'pool'] = 1"
   ]
  },
  {
   "cell_type": "code",
   "execution_count": 830,
   "metadata": {},
   "outputs": [],
   "source": [
    "# data_caba_clean['pool']"
   ]
  },
  {
   "cell_type": "code",
   "execution_count": 831,
   "metadata": {},
   "outputs": [
    {
     "data": {
      "text/plain": [
       "6161"
      ]
     },
     "execution_count": 831,
     "metadata": {},
     "output_type": "execute_result"
    }
   ],
   "source": [
    "data_caba_clean['pool'].notnull().sum()"
   ]
  },
  {
   "cell_type": "code",
   "execution_count": 832,
   "metadata": {},
   "outputs": [],
   "source": [
    "#Completamos los datos NaN con ceros (convertimos en una variable dummy)\n",
    "data_caba_clean.pool.fillna(0, inplace = True)"
   ]
  },
  {
   "cell_type": "markdown",
   "metadata": {},
   "source": [
    "<h5> Laundry </h5>"
   ]
  },
  {
   "cell_type": "code",
   "execution_count": 833,
   "metadata": {},
   "outputs": [],
   "source": [
    "laudry_pattern = \"(?P<laundry>laundry|lavadero)\"\n",
    "laundry_pattern_regex = re.compile(laudry_pattern)\n",
    "\n",
    "laundry_match = data_caba_clean.description.apply(lambda x: x if (x is np.NaN) | (x is None) else\\\n",
    "                                      laundry_pattern_regex.search(x))\n",
    "mask_laundry_match_notnull = laundry_match.notnull()\n",
    "\n",
    "data_caba_clean.loc[mask_laundry_match_notnull, 'laundry'] = 1"
   ]
  },
  {
   "cell_type": "code",
   "execution_count": 834,
   "metadata": {},
   "outputs": [
    {
     "data": {
      "text/plain": [
       "10958"
      ]
     },
     "execution_count": 834,
     "metadata": {},
     "output_type": "execute_result"
    }
   ],
   "source": [
    "data_caba_clean['laundry'].notnull().sum()"
   ]
  },
  {
   "cell_type": "code",
   "execution_count": 835,
   "metadata": {},
   "outputs": [],
   "source": [
    "data_caba_clean.laundry.fillna(0, inplace = True)"
   ]
  },
  {
   "cell_type": "markdown",
   "metadata": {},
   "source": [
    "<h5> Parking </h5>"
   ]
  },
  {
   "cell_type": "code",
   "execution_count": 836,
   "metadata": {},
   "outputs": [],
   "source": [
    "parking_pattern = \"(?P<parking>parking|estacionamiento|garage|cochera|garaje)\"\n",
    "parking_pattern_regex = re.compile(parking_pattern)\n",
    "\n",
    "parking_match = data_caba_clean.description.apply(lambda x: x if (x is np.NaN) | (x is None) else\\\n",
    "                                      parking_pattern_regex.search(x))\n",
    "mask_parking_match_notnull = parking_match.notnull()\n",
    "\n",
    "data_caba_clean.loc[mask_parking_match_notnull, 'parking'] = 1"
   ]
  },
  {
   "cell_type": "code",
   "execution_count": 837,
   "metadata": {},
   "outputs": [
    {
     "data": {
      "text/plain": [
       "9796"
      ]
     },
     "execution_count": 837,
     "metadata": {},
     "output_type": "execute_result"
    }
   ],
   "source": [
    "data_caba_clean['parking'].notnull().sum()"
   ]
  },
  {
   "cell_type": "code",
   "execution_count": 838,
   "metadata": {},
   "outputs": [],
   "source": [
    "data_caba_clean.parking.fillna(0, inplace = True)"
   ]
  },
  {
   "cell_type": "markdown",
   "metadata": {},
   "source": [
    "<h5> Gimnasio </h5>"
   ]
  },
  {
   "cell_type": "code",
   "execution_count": 839,
   "metadata": {},
   "outputs": [],
   "source": [
    "gym_pattern = \"(?P<gimnasio>gim|gym|fitness|fitnes|ejercicio)\"\n",
    "gym_pattern_regex = re.compile(gym_pattern)\n",
    "\n",
    "gym_match = data_caba_clean.description.apply(lambda x: x if (x is np.NaN) | (x is None) else\\\n",
    "                                      gym_pattern_regex.search(x))\n",
    "mask_gim_match_notnull = gym_match.notnull()\n",
    "\n",
    "data_caba_clean.loc[mask_gim_match_notnull, 'gym'] = 1"
   ]
  },
  {
   "cell_type": "code",
   "execution_count": 840,
   "metadata": {},
   "outputs": [
    {
     "data": {
      "text/plain": [
       "3363"
      ]
     },
     "execution_count": 840,
     "metadata": {},
     "output_type": "execute_result"
    }
   ],
   "source": [
    "data_caba_clean['gym'].notnull().sum()"
   ]
  },
  {
   "cell_type": "code",
   "execution_count": 841,
   "metadata": {},
   "outputs": [],
   "source": [
    "data_caba_clean.gym.fillna(0, inplace = True)"
   ]
  },
  {
   "cell_type": "code",
   "execution_count": 842,
   "metadata": {},
   "outputs": [],
   "source": [
    "# plt.figure(figsize=(13,10))\n",
    "# sns.heatmap(data_caba_clean.corr(),annot=True)\n",
    "# plt.title(\"Correlation Heatmap\")\n",
    "# plt.show()"
   ]
  },
  {
   "cell_type": "markdown",
   "metadata": {},
   "source": [
    "<a id=\"section_caba_dummies\"></a> \n",
    "<h3> Creación dummies sobre datos categóricos </h3>\n",
    "\n",
    "[volver a TOC](#section_toc)"
   ]
  },
  {
   "cell_type": "code",
   "execution_count": 843,
   "metadata": {},
   "outputs": [
    {
     "data": {
      "text/html": [
       "<div>\n",
       "<style scoped>\n",
       "    .dataframe tbody tr th:only-of-type {\n",
       "        vertical-align: middle;\n",
       "    }\n",
       "\n",
       "    .dataframe tbody tr th {\n",
       "        vertical-align: top;\n",
       "    }\n",
       "\n",
       "    .dataframe thead th {\n",
       "        text-align: right;\n",
       "    }\n",
       "</style>\n",
       "<table border=\"1\" class=\"dataframe\">\n",
       "  <thead>\n",
       "    <tr style=\"text-align: right;\">\n",
       "      <th></th>\n",
       "      <th>prop_type_apartment</th>\n",
       "      <th>prop_type_house</th>\n",
       "      <th>prop_type_store</th>\n",
       "    </tr>\n",
       "  </thead>\n",
       "  <tbody>\n",
       "    <tr>\n",
       "      <th>0</th>\n",
       "      <td>0</td>\n",
       "      <td>0</td>\n",
       "      <td>0</td>\n",
       "    </tr>\n",
       "    <tr>\n",
       "      <th>2</th>\n",
       "      <td>1</td>\n",
       "      <td>0</td>\n",
       "      <td>0</td>\n",
       "    </tr>\n",
       "    <tr>\n",
       "      <th>7</th>\n",
       "      <td>1</td>\n",
       "      <td>0</td>\n",
       "      <td>0</td>\n",
       "    </tr>\n",
       "    <tr>\n",
       "      <th>8</th>\n",
       "      <td>1</td>\n",
       "      <td>0</td>\n",
       "      <td>0</td>\n",
       "    </tr>\n",
       "    <tr>\n",
       "      <th>13</th>\n",
       "      <td>1</td>\n",
       "      <td>0</td>\n",
       "      <td>0</td>\n",
       "    </tr>\n",
       "    <tr>\n",
       "      <th>...</th>\n",
       "      <td>...</td>\n",
       "      <td>...</td>\n",
       "      <td>...</td>\n",
       "    </tr>\n",
       "    <tr>\n",
       "      <th>121153</th>\n",
       "      <td>1</td>\n",
       "      <td>0</td>\n",
       "      <td>0</td>\n",
       "    </tr>\n",
       "    <tr>\n",
       "      <th>121157</th>\n",
       "      <td>1</td>\n",
       "      <td>0</td>\n",
       "      <td>0</td>\n",
       "    </tr>\n",
       "    <tr>\n",
       "      <th>121158</th>\n",
       "      <td>1</td>\n",
       "      <td>0</td>\n",
       "      <td>0</td>\n",
       "    </tr>\n",
       "    <tr>\n",
       "      <th>121215</th>\n",
       "      <td>1</td>\n",
       "      <td>0</td>\n",
       "      <td>0</td>\n",
       "    </tr>\n",
       "    <tr>\n",
       "      <th>121217</th>\n",
       "      <td>1</td>\n",
       "      <td>0</td>\n",
       "      <td>0</td>\n",
       "    </tr>\n",
       "  </tbody>\n",
       "</table>\n",
       "<p>25627 rows × 3 columns</p>\n",
       "</div>"
      ],
      "text/plain": [
       "        prop_type_apartment  prop_type_house  prop_type_store\n",
       "0                         0                0                0\n",
       "2                         1                0                0\n",
       "7                         1                0                0\n",
       "8                         1                0                0\n",
       "13                        1                0                0\n",
       "...                     ...              ...              ...\n",
       "121153                    1                0                0\n",
       "121157                    1                0                0\n",
       "121158                    1                0                0\n",
       "121215                    1                0                0\n",
       "121217                    1                0                0\n",
       "\n",
       "[25627 rows x 3 columns]"
      ]
     },
     "execution_count": 843,
     "metadata": {},
     "output_type": "execute_result"
    }
   ],
   "source": [
    "# Usamos la función get_dummies con one-hot encoding (drop_first=True)\n",
    "property_type_dummies = pd.get_dummies(data_caba_clean['property_type'], drop_first = True, prefix='prop_type')\n",
    "property_type_dummies"
   ]
  },
  {
   "cell_type": "code",
   "execution_count": 844,
   "metadata": {},
   "outputs": [],
   "source": [
    "m2_labels_dummies = pd.get_dummies(data_caba_clean['m2_labels'], drop_first = True, prefix='m2_label')"
   ]
  },
  {
   "cell_type": "code",
   "execution_count": 845,
   "metadata": {},
   "outputs": [],
   "source": [
    "place_name_dummies = pd.get_dummies(data_caba_clean['place_name'], drop_first = True, prefix='place_name')"
   ]
  },
  {
   "cell_type": "code",
   "execution_count": 846,
   "metadata": {},
   "outputs": [],
   "source": [
    "# Hacemos un join para concatenar las columnas al dataframe\n",
    "data_caba_clean = data_caba_clean.join([property_type_dummies,m2_labels_dummies, place_name_dummies])"
   ]
  },
  {
   "cell_type": "code",
   "execution_count": 847,
   "metadata": {},
   "outputs": [
    {
     "data": {
      "text/html": [
       "<div>\n",
       "<style scoped>\n",
       "    .dataframe tbody tr th:only-of-type {\n",
       "        vertical-align: middle;\n",
       "    }\n",
       "\n",
       "    .dataframe tbody tr th {\n",
       "        vertical-align: top;\n",
       "    }\n",
       "\n",
       "    .dataframe thead th {\n",
       "        text-align: right;\n",
       "    }\n",
       "</style>\n",
       "<table border=\"1\" class=\"dataframe\">\n",
       "  <thead>\n",
       "    <tr style=\"text-align: right;\">\n",
       "      <th></th>\n",
       "      <th>property_type</th>\n",
       "      <th>place_name</th>\n",
       "      <th>price_aprox_usd</th>\n",
       "      <th>surface_total_in_m2</th>\n",
       "      <th>surface_covered_in_m2</th>\n",
       "      <th>price_usd_per_m2</th>\n",
       "      <th>rooms</th>\n",
       "      <th>description</th>\n",
       "      <th>m2_categories</th>\n",
       "      <th>m2_labels</th>\n",
       "      <th>number_rooms</th>\n",
       "      <th>rooms_upon_categories</th>\n",
       "      <th>pool</th>\n",
       "      <th>laundry</th>\n",
       "      <th>parking</th>\n",
       "      <th>gym</th>\n",
       "      <th>prop_type_apartment</th>\n",
       "      <th>prop_type_house</th>\n",
       "      <th>prop_type_store</th>\n",
       "      <th>m2_label_s45</th>\n",
       "      <th>m2_label_s75</th>\n",
       "      <th>m2_label_s150</th>\n",
       "      <th>m2_label_m220</th>\n",
       "      <th>place_name_Agronomía</th>\n",
       "      <th>place_name_Almagro</th>\n",
       "      <th>place_name_Balvanera</th>\n",
       "      <th>place_name_Barracas</th>\n",
       "      <th>place_name_Barrio Norte</th>\n",
       "      <th>place_name_Belgrano</th>\n",
       "      <th>place_name_Boca</th>\n",
       "      <th>place_name_Boedo</th>\n",
       "      <th>place_name_Caballito</th>\n",
       "      <th>place_name_Catalinas</th>\n",
       "      <th>place_name_Centro / Microcentro</th>\n",
       "      <th>place_name_Chacarita</th>\n",
       "      <th>place_name_Coghlan</th>\n",
       "      <th>place_name_Colegiales</th>\n",
       "      <th>place_name_Congreso</th>\n",
       "      <th>place_name_Constitución</th>\n",
       "      <th>place_name_Flores</th>\n",
       "      <th>place_name_Floresta</th>\n",
       "      <th>place_name_Las Cañitas</th>\n",
       "      <th>place_name_Liniers</th>\n",
       "      <th>place_name_Mataderos</th>\n",
       "      <th>place_name_Monserrat</th>\n",
       "      <th>place_name_Monte Castro</th>\n",
       "      <th>place_name_Nuñez</th>\n",
       "      <th>place_name_Once</th>\n",
       "      <th>place_name_Palermo</th>\n",
       "      <th>place_name_Palermo Chico</th>\n",
       "      <th>place_name_Palermo Hollywood</th>\n",
       "      <th>place_name_Palermo Soho</th>\n",
       "      <th>place_name_Palermo Viejo</th>\n",
       "      <th>place_name_Parque Avellaneda</th>\n",
       "      <th>place_name_Parque Centenario</th>\n",
       "      <th>place_name_Parque Chacabuco</th>\n",
       "      <th>place_name_Parque Chas</th>\n",
       "      <th>place_name_Parque Patricios</th>\n",
       "      <th>place_name_Paternal</th>\n",
       "      <th>place_name_Pompeya</th>\n",
       "      <th>place_name_Puerto Madero</th>\n",
       "      <th>place_name_Recoleta</th>\n",
       "      <th>place_name_Retiro</th>\n",
       "      <th>place_name_Saavedra</th>\n",
       "      <th>place_name_San Cristobal</th>\n",
       "      <th>place_name_San Nicolás</th>\n",
       "      <th>place_name_San Telmo</th>\n",
       "      <th>place_name_Tribunales</th>\n",
       "      <th>place_name_Velez Sarsfield</th>\n",
       "      <th>place_name_Versalles</th>\n",
       "      <th>place_name_Villa Crespo</th>\n",
       "      <th>place_name_Villa Devoto</th>\n",
       "      <th>place_name_Villa General Mitre</th>\n",
       "      <th>place_name_Villa Lugano</th>\n",
       "      <th>place_name_Villa Luro</th>\n",
       "      <th>place_name_Villa Ortuzar</th>\n",
       "      <th>place_name_Villa Pueyrredón</th>\n",
       "      <th>place_name_Villa Real</th>\n",
       "      <th>place_name_Villa Riachuelo</th>\n",
       "      <th>place_name_Villa Santa Rita</th>\n",
       "      <th>place_name_Villa Soldati</th>\n",
       "      <th>place_name_Villa Urquiza</th>\n",
       "      <th>place_name_Villa del Parque</th>\n",
       "    </tr>\n",
       "  </thead>\n",
       "  <tbody>\n",
       "    <tr>\n",
       "      <th>0</th>\n",
       "      <td>PH</td>\n",
       "      <td>Mataderos</td>\n",
       "      <td>62000.0</td>\n",
       "      <td>55.0</td>\n",
       "      <td>40.0</td>\n",
       "      <td>1127.272727</td>\n",
       "      <td>2</td>\n",
       "      <td>2 ambientes tipo casa planta baja por pasillo,...</td>\n",
       "      <td>(30, 45]</td>\n",
       "      <td>s45</td>\n",
       "      <td>2.0</td>\n",
       "      <td>2</td>\n",
       "      <td>0.0</td>\n",
       "      <td>1.0</td>\n",
       "      <td>0.0</td>\n",
       "      <td>0.0</td>\n",
       "      <td>0</td>\n",
       "      <td>0</td>\n",
       "      <td>0</td>\n",
       "      <td>1</td>\n",
       "      <td>0</td>\n",
       "      <td>0</td>\n",
       "      <td>0</td>\n",
       "      <td>0</td>\n",
       "      <td>0</td>\n",
       "      <td>0</td>\n",
       "      <td>0</td>\n",
       "      <td>0</td>\n",
       "      <td>0</td>\n",
       "      <td>0</td>\n",
       "      <td>0</td>\n",
       "      <td>0</td>\n",
       "      <td>0</td>\n",
       "      <td>0</td>\n",
       "      <td>0</td>\n",
       "      <td>0</td>\n",
       "      <td>0</td>\n",
       "      <td>0</td>\n",
       "      <td>0</td>\n",
       "      <td>0</td>\n",
       "      <td>0</td>\n",
       "      <td>0</td>\n",
       "      <td>0</td>\n",
       "      <td>1</td>\n",
       "      <td>0</td>\n",
       "      <td>0</td>\n",
       "      <td>0</td>\n",
       "      <td>0</td>\n",
       "      <td>0</td>\n",
       "      <td>0</td>\n",
       "      <td>0</td>\n",
       "      <td>0</td>\n",
       "      <td>0</td>\n",
       "      <td>0</td>\n",
       "      <td>0</td>\n",
       "      <td>0</td>\n",
       "      <td>0</td>\n",
       "      <td>0</td>\n",
       "      <td>0</td>\n",
       "      <td>0</td>\n",
       "      <td>0</td>\n",
       "      <td>0</td>\n",
       "      <td>0</td>\n",
       "      <td>0</td>\n",
       "      <td>0</td>\n",
       "      <td>0</td>\n",
       "      <td>0</td>\n",
       "      <td>0</td>\n",
       "      <td>0</td>\n",
       "      <td>0</td>\n",
       "      <td>0</td>\n",
       "      <td>0</td>\n",
       "      <td>0</td>\n",
       "      <td>0</td>\n",
       "      <td>0</td>\n",
       "      <td>0</td>\n",
       "      <td>0</td>\n",
       "      <td>0</td>\n",
       "      <td>0</td>\n",
       "      <td>0</td>\n",
       "      <td>0</td>\n",
       "      <td>0</td>\n",
       "      <td>0</td>\n",
       "    </tr>\n",
       "    <tr>\n",
       "      <th>2</th>\n",
       "      <td>apartment</td>\n",
       "      <td>Mataderos</td>\n",
       "      <td>72000.0</td>\n",
       "      <td>55.0</td>\n",
       "      <td>55.0</td>\n",
       "      <td>1309.090909</td>\n",
       "      <td>2</td>\n",
       "      <td>2 ambientes 3er piso lateral living comedor am...</td>\n",
       "      <td>(45, 75]</td>\n",
       "      <td>s75</td>\n",
       "      <td>2.0</td>\n",
       "      <td>3</td>\n",
       "      <td>0.0</td>\n",
       "      <td>1.0</td>\n",
       "      <td>0.0</td>\n",
       "      <td>0.0</td>\n",
       "      <td>1</td>\n",
       "      <td>0</td>\n",
       "      <td>0</td>\n",
       "      <td>0</td>\n",
       "      <td>1</td>\n",
       "      <td>0</td>\n",
       "      <td>0</td>\n",
       "      <td>0</td>\n",
       "      <td>0</td>\n",
       "      <td>0</td>\n",
       "      <td>0</td>\n",
       "      <td>0</td>\n",
       "      <td>0</td>\n",
       "      <td>0</td>\n",
       "      <td>0</td>\n",
       "      <td>0</td>\n",
       "      <td>0</td>\n",
       "      <td>0</td>\n",
       "      <td>0</td>\n",
       "      <td>0</td>\n",
       "      <td>0</td>\n",
       "      <td>0</td>\n",
       "      <td>0</td>\n",
       "      <td>0</td>\n",
       "      <td>0</td>\n",
       "      <td>0</td>\n",
       "      <td>0</td>\n",
       "      <td>1</td>\n",
       "      <td>0</td>\n",
       "      <td>0</td>\n",
       "      <td>0</td>\n",
       "      <td>0</td>\n",
       "      <td>0</td>\n",
       "      <td>0</td>\n",
       "      <td>0</td>\n",
       "      <td>0</td>\n",
       "      <td>0</td>\n",
       "      <td>0</td>\n",
       "      <td>0</td>\n",
       "      <td>0</td>\n",
       "      <td>0</td>\n",
       "      <td>0</td>\n",
       "      <td>0</td>\n",
       "      <td>0</td>\n",
       "      <td>0</td>\n",
       "      <td>0</td>\n",
       "      <td>0</td>\n",
       "      <td>0</td>\n",
       "      <td>0</td>\n",
       "      <td>0</td>\n",
       "      <td>0</td>\n",
       "      <td>0</td>\n",
       "      <td>0</td>\n",
       "      <td>0</td>\n",
       "      <td>0</td>\n",
       "      <td>0</td>\n",
       "      <td>0</td>\n",
       "      <td>0</td>\n",
       "      <td>0</td>\n",
       "      <td>0</td>\n",
       "      <td>0</td>\n",
       "      <td>0</td>\n",
       "      <td>0</td>\n",
       "      <td>0</td>\n",
       "      <td>0</td>\n",
       "      <td>0</td>\n",
       "      <td>0</td>\n",
       "    </tr>\n",
       "    <tr>\n",
       "      <th>7</th>\n",
       "      <td>apartment</td>\n",
       "      <td>Belgrano</td>\n",
       "      <td>138000.0</td>\n",
       "      <td>45.0</td>\n",
       "      <td>40.0</td>\n",
       "      <td>3066.666667</td>\n",
       "      <td>2</td>\n",
       "      <td>excelente monoambiente a estrenar amplio super...</td>\n",
       "      <td>(30, 45]</td>\n",
       "      <td>s45</td>\n",
       "      <td>NaN</td>\n",
       "      <td>2</td>\n",
       "      <td>1.0</td>\n",
       "      <td>1.0</td>\n",
       "      <td>0.0</td>\n",
       "      <td>0.0</td>\n",
       "      <td>1</td>\n",
       "      <td>0</td>\n",
       "      <td>0</td>\n",
       "      <td>1</td>\n",
       "      <td>0</td>\n",
       "      <td>0</td>\n",
       "      <td>0</td>\n",
       "      <td>0</td>\n",
       "      <td>0</td>\n",
       "      <td>0</td>\n",
       "      <td>0</td>\n",
       "      <td>0</td>\n",
       "      <td>1</td>\n",
       "      <td>0</td>\n",
       "      <td>0</td>\n",
       "      <td>0</td>\n",
       "      <td>0</td>\n",
       "      <td>0</td>\n",
       "      <td>0</td>\n",
       "      <td>0</td>\n",
       "      <td>0</td>\n",
       "      <td>0</td>\n",
       "      <td>0</td>\n",
       "      <td>0</td>\n",
       "      <td>0</td>\n",
       "      <td>0</td>\n",
       "      <td>0</td>\n",
       "      <td>0</td>\n",
       "      <td>0</td>\n",
       "      <td>0</td>\n",
       "      <td>0</td>\n",
       "      <td>0</td>\n",
       "      <td>0</td>\n",
       "      <td>0</td>\n",
       "      <td>0</td>\n",
       "      <td>0</td>\n",
       "      <td>0</td>\n",
       "      <td>0</td>\n",
       "      <td>0</td>\n",
       "      <td>0</td>\n",
       "      <td>0</td>\n",
       "      <td>0</td>\n",
       "      <td>0</td>\n",
       "      <td>0</td>\n",
       "      <td>0</td>\n",
       "      <td>0</td>\n",
       "      <td>0</td>\n",
       "      <td>0</td>\n",
       "      <td>0</td>\n",
       "      <td>0</td>\n",
       "      <td>0</td>\n",
       "      <td>0</td>\n",
       "      <td>0</td>\n",
       "      <td>0</td>\n",
       "      <td>0</td>\n",
       "      <td>0</td>\n",
       "      <td>0</td>\n",
       "      <td>0</td>\n",
       "      <td>0</td>\n",
       "      <td>0</td>\n",
       "      <td>0</td>\n",
       "      <td>0</td>\n",
       "      <td>0</td>\n",
       "      <td>0</td>\n",
       "      <td>0</td>\n",
       "      <td>0</td>\n",
       "      <td>0</td>\n",
       "    </tr>\n",
       "  </tbody>\n",
       "</table>\n",
       "</div>"
      ],
      "text/plain": [
       "  property_type place_name  price_aprox_usd  surface_total_in_m2  \\\n",
       "0            PH  Mataderos          62000.0                 55.0   \n",
       "2     apartment  Mataderos          72000.0                 55.0   \n",
       "7     apartment   Belgrano         138000.0                 45.0   \n",
       "\n",
       "   surface_covered_in_m2  price_usd_per_m2 rooms  \\\n",
       "0                   40.0       1127.272727     2   \n",
       "2                   55.0       1309.090909     2   \n",
       "7                   40.0       3066.666667     2   \n",
       "\n",
       "                                         description m2_categories m2_labels  \\\n",
       "0  2 ambientes tipo casa planta baja por pasillo,...      (30, 45]       s45   \n",
       "2  2 ambientes 3er piso lateral living comedor am...      (45, 75]       s75   \n",
       "7  excelente monoambiente a estrenar amplio super...      (30, 45]       s45   \n",
       "\n",
       "   number_rooms rooms_upon_categories  pool  laundry  parking  gym  \\\n",
       "0           2.0                     2   0.0      1.0      0.0  0.0   \n",
       "2           2.0                     3   0.0      1.0      0.0  0.0   \n",
       "7           NaN                     2   1.0      1.0      0.0  0.0   \n",
       "\n",
       "   prop_type_apartment  prop_type_house  prop_type_store  m2_label_s45  \\\n",
       "0                    0                0                0             1   \n",
       "2                    1                0                0             0   \n",
       "7                    1                0                0             1   \n",
       "\n",
       "   m2_label_s75  m2_label_s150  m2_label_m220  place_name_Agronomía  \\\n",
       "0             0              0              0                     0   \n",
       "2             1              0              0                     0   \n",
       "7             0              0              0                     0   \n",
       "\n",
       "   place_name_Almagro  place_name_Balvanera  place_name_Barracas  \\\n",
       "0                   0                     0                    0   \n",
       "2                   0                     0                    0   \n",
       "7                   0                     0                    0   \n",
       "\n",
       "   place_name_Barrio Norte  place_name_Belgrano  place_name_Boca  \\\n",
       "0                        0                    0                0   \n",
       "2                        0                    0                0   \n",
       "7                        0                    1                0   \n",
       "\n",
       "   place_name_Boedo  place_name_Caballito  place_name_Catalinas  \\\n",
       "0                 0                     0                     0   \n",
       "2                 0                     0                     0   \n",
       "7                 0                     0                     0   \n",
       "\n",
       "   place_name_Centro / Microcentro  place_name_Chacarita  place_name_Coghlan  \\\n",
       "0                                0                     0                   0   \n",
       "2                                0                     0                   0   \n",
       "7                                0                     0                   0   \n",
       "\n",
       "   place_name_Colegiales  place_name_Congreso  place_name_Constitución  \\\n",
       "0                      0                    0                        0   \n",
       "2                      0                    0                        0   \n",
       "7                      0                    0                        0   \n",
       "\n",
       "   place_name_Flores  place_name_Floresta  place_name_Las Cañitas  \\\n",
       "0                  0                    0                       0   \n",
       "2                  0                    0                       0   \n",
       "7                  0                    0                       0   \n",
       "\n",
       "   place_name_Liniers  place_name_Mataderos  place_name_Monserrat  \\\n",
       "0                   0                     1                     0   \n",
       "2                   0                     1                     0   \n",
       "7                   0                     0                     0   \n",
       "\n",
       "   place_name_Monte Castro  place_name_Nuñez  place_name_Once  \\\n",
       "0                        0                 0                0   \n",
       "2                        0                 0                0   \n",
       "7                        0                 0                0   \n",
       "\n",
       "   place_name_Palermo  place_name_Palermo Chico  place_name_Palermo Hollywood  \\\n",
       "0                   0                         0                             0   \n",
       "2                   0                         0                             0   \n",
       "7                   0                         0                             0   \n",
       "\n",
       "   place_name_Palermo Soho  place_name_Palermo Viejo  \\\n",
       "0                        0                         0   \n",
       "2                        0                         0   \n",
       "7                        0                         0   \n",
       "\n",
       "   place_name_Parque Avellaneda  place_name_Parque Centenario  \\\n",
       "0                             0                             0   \n",
       "2                             0                             0   \n",
       "7                             0                             0   \n",
       "\n",
       "   place_name_Parque Chacabuco  place_name_Parque Chas  \\\n",
       "0                            0                       0   \n",
       "2                            0                       0   \n",
       "7                            0                       0   \n",
       "\n",
       "   place_name_Parque Patricios  place_name_Paternal  place_name_Pompeya  \\\n",
       "0                            0                    0                   0   \n",
       "2                            0                    0                   0   \n",
       "7                            0                    0                   0   \n",
       "\n",
       "   place_name_Puerto Madero  place_name_Recoleta  place_name_Retiro  \\\n",
       "0                         0                    0                  0   \n",
       "2                         0                    0                  0   \n",
       "7                         0                    0                  0   \n",
       "\n",
       "   place_name_Saavedra  place_name_San Cristobal  place_name_San Nicolás  \\\n",
       "0                    0                         0                       0   \n",
       "2                    0                         0                       0   \n",
       "7                    0                         0                       0   \n",
       "\n",
       "   place_name_San Telmo  place_name_Tribunales  place_name_Velez Sarsfield  \\\n",
       "0                     0                      0                           0   \n",
       "2                     0                      0                           0   \n",
       "7                     0                      0                           0   \n",
       "\n",
       "   place_name_Versalles  place_name_Villa Crespo  place_name_Villa Devoto  \\\n",
       "0                     0                        0                        0   \n",
       "2                     0                        0                        0   \n",
       "7                     0                        0                        0   \n",
       "\n",
       "   place_name_Villa General Mitre  place_name_Villa Lugano  \\\n",
       "0                               0                        0   \n",
       "2                               0                        0   \n",
       "7                               0                        0   \n",
       "\n",
       "   place_name_Villa Luro  place_name_Villa Ortuzar  \\\n",
       "0                      0                         0   \n",
       "2                      0                         0   \n",
       "7                      0                         0   \n",
       "\n",
       "   place_name_Villa Pueyrredón  place_name_Villa Real  \\\n",
       "0                            0                      0   \n",
       "2                            0                      0   \n",
       "7                            0                      0   \n",
       "\n",
       "   place_name_Villa Riachuelo  place_name_Villa Santa Rita  \\\n",
       "0                           0                            0   \n",
       "2                           0                            0   \n",
       "7                           0                            0   \n",
       "\n",
       "   place_name_Villa Soldati  place_name_Villa Urquiza  \\\n",
       "0                         0                         0   \n",
       "2                         0                         0   \n",
       "7                         0                         0   \n",
       "\n",
       "   place_name_Villa del Parque  \n",
       "0                            0  \n",
       "2                            0  \n",
       "7                            0  "
      ]
     },
     "execution_count": 847,
     "metadata": {},
     "output_type": "execute_result"
    }
   ],
   "source": [
    "data_caba_clean.head(3)"
   ]
  },
  {
   "cell_type": "markdown",
   "metadata": {},
   "source": [
    "### Falta reindexar las filas."
   ]
  },
  {
   "cell_type": "markdown",
   "metadata": {},
   "source": [
    "### Falta el dummy de Rooms pero primero hay que ver si completamos los datos con la info de los bins"
   ]
  },
  {
   "cell_type": "code",
   "execution_count": 848,
   "metadata": {},
   "outputs": [],
   "source": [
    "# Exportamos el archivo para usar en otras notebooks, esto lo guarda en el mismo directorio en el que estamos operando\n",
    "# data_caba_clean.to_csv('data_caba_clean.csv')"
   ]
  },
  {
   "cell_type": "code",
   "execution_count": null,
   "metadata": {},
   "outputs": [],
   "source": []
  },
  {
   "cell_type": "code",
   "execution_count": 849,
   "metadata": {},
   "outputs": [],
   "source": [
    "from sklearn.model_selection import cross_val_score, train_test_split, KFold\n",
    "from sklearn.linear_model import LinearRegression\n",
    "from sklearn import metrics, linear_model"
   ]
  },
  {
   "cell_type": "markdown",
   "metadata": {},
   "source": [
    "1. Primer modelo\n",
    "Eliminar rooms nulos\n",
    "Modelar \n",
    "\n",
    "2. Imputar datos faltantes en los rooms\n",
    "modelar \n",
    "\n",
    "3. Eliminar outliers\n",
    "modelar "
   ]
  },
  {
   "cell_type": "code",
   "execution_count": 873,
   "metadata": {},
   "outputs": [],
   "source": [
    "# Funcion para realizar el entrenamiento pero con un set de testeo.\n",
    "\n",
    "def graf_lineal_model(X, y, y_pred):\n",
    "    # Graficamos el modelo\n",
    "    plt.scatter(y_pred, y, s=30, c='b', alpha=0.4)\n",
    "    plt.plot(y,y, '-.',c='g')\n",
    "    plt.show()\n",
    "    print(y.shape)\n",
    "    print(y_pred.shape)\n",
    "    return\n",
    "\n",
    "def train_test_error(feature_cols, target):\n",
    "    X = data_caba_clean[feature_cols]\n",
    "    y = data_caba_clean[target].values.ravel()\n",
    "    \n",
    "    # OJO que no trabajamos con tiempo por lo tanto debe ser shuffle=True.\n",
    "    X_train, X_test, y_train, y_test = train_test_split(X, y,random_state=10)\n",
    "    \n",
    "    linreg = LinearRegression()\n",
    "    linreg.fit(X_train, y_train)\n",
    "    y_pred = linreg.predict(X_test)\n",
    "    \n",
    "#    print (feature_cols)\n",
    "#    print (\"y_test sample: \",y_test.values[0:10])\n",
    "#     print (\"y_test sample: \",y_test)\n",
    "#    print (\"y_pred sample: \",y_pred[0:20].astype(int))\n",
    "#    print ('MAE:', metrics.mean_absolute_error(y_test, y_pred))\n",
    "#    print ('MSE:', metrics.mean_squared_error(y_test, y_pred))\n",
    "    print ('RMSE:', np.sqrt(metrics.mean_squared_error(y_test, y_pred)))\n",
    "    print ('R2:', metrics.r2_score(y_test, y_pred))\n",
    "    graf_lineal_model(X, y_test, y_pred)\n",
    "    return \n",
    "\n",
    "def train_test_error_lazzo(feature_cols, target):\n",
    "    X = data_caba_clean[feature_cols]\n",
    "    y = data_caba_clean[target].values.ravel()\n",
    "#     cv = KFold(5, shuffle=True)\n",
    "    cv = 3\n",
    "    # OJO que no trabajamos con tiempo por lo tanto debe ser shuffle=True.\n",
    "    X_train, X_test, y_train, y_test = train_test_split(X, y, random_state=10)\n",
    "    \n",
    "    model = linear_model.LassoCV(alphas=np.linspace(0.00001,0.1, 1000), normalize=True).fit(X_train, y_train)\n",
    "    scores = cross_val_score(model, X_train, y_train, cv=cv, scoring='r2')\n",
    "    \n",
    "    y_pred = model.predict(X_train)\n",
    "    print(dict(alpha=model.alpha_, scores=scores, mean_score=scores.mean(), zero_coefs=(model.coef_ == 0).sum()))\n",
    "    print (\"r^2:\", model.score(X, y))\n",
    "    print (\"Imprime Alpha\", model.alpha_)\n",
    "    graf_lineal_model(X, y_train, y_pred)\n",
    "    return \n",
    "\n",
    "def train_test_error_ridge(feature_cols, target):\n",
    "    X = data_caba_clean[feature_cols]\n",
    "    y = data_caba_clean[target].values.ravel()\n",
    "#     cv = KFold(5, shuffle=True)\n",
    "    cv = 3\n",
    "    # OJO que no trabajamos con tiempo por lo tanto debe ser shuffle=True.\n",
    "    X_train, X_test, y_train, y_test = train_test_split(X, y, random_state=10)\n",
    "    \n",
    "    #model = linear_model.Ridge(alpha=0.5, normalize=True).fit(X_train, y_train)\n",
    "    model = linear_model.RidgeCV(alphas=np.linspace(0.00001,0.1, 1000), normalize=True).fit(X_train, y_train)\n",
    "    \n",
    "    scores = cross_val_score(model, X_train, y_train, cv=cv, scoring='r2')\n",
    "    \n",
    "    y_pred = model.predict(X_train)\n",
    "    print(dict(alpha=model.alpha_, scores=scores, mean_score=scores.mean(), zero_coefs=(model.coef_ == 0).sum()))\n",
    "    print (\"r^2:\", model.score(X, y))\n",
    "    print (\"Coeficientes de la regresión\", model.coef_)\n",
    "    graf_lineal_model(X, y_train, y_pred)\n",
    "    return \n",
    "\n",
    "def train_test_error_elastic(feature_cols, target):\n",
    "    X = data_caba_clean[feature_cols]\n",
    "    y = data_caba_clean[target].values.ravel()\n",
    "#     cv = KFold(5, shuffle=True)\n",
    "    cv = 3\n",
    "    # OJO que no trabajamos con tiempo por lo tanto debe ser shuffle=True.\n",
    "    X_train, X_test, y_train, y_test = train_test_split(X, y, random_state=10)\n",
    "    \n",
    "    model = linear_model.ElasticNetCV(alphas=np.linspace(0.00001,0.1, 1000), normalize=True).fit(X_train, y_train)\n",
    "    \n",
    "    scores = cross_val_score(model, X_train, y_train, cv=cv, scoring='r2')\n",
    "    \n",
    "    y_pred = model.predict(X_train)\n",
    "    print(dict(alpha=model.alpha_, scores=scores, mean_score=scores.mean(), zero_coefs=(model.coef_ == 0).sum()))\n",
    "    print (\"r^2:\", model.score(X, y))\n",
    "    print (\"Coeficientes de la regresión\", model.coef_)\n",
    "    graf_lineal_model(X, y_train, y_pred)\n",
    "    return "
   ]
  },
  {
   "cell_type": "code",
   "execution_count": 851,
   "metadata": {},
   "outputs": [
    {
     "data": {
      "text/plain": [
       "Index(['property_type', 'place_name', 'price_aprox_usd', 'surface_total_in_m2',\n",
       "       'surface_covered_in_m2', 'price_usd_per_m2', 'rooms', 'description',\n",
       "       'm2_categories', 'm2_labels', 'number_rooms', 'rooms_upon_categories',\n",
       "       'pool', 'laundry', 'parking', 'gym', 'prop_type_apartment',\n",
       "       'prop_type_house', 'prop_type_store', 'm2_label_s45', 'm2_label_s75',\n",
       "       'm2_label_s150', 'm2_label_m220', 'place_name_Agronomía',\n",
       "       'place_name_Almagro', 'place_name_Balvanera', 'place_name_Barracas',\n",
       "       'place_name_Barrio Norte', 'place_name_Belgrano', 'place_name_Boca',\n",
       "       'place_name_Boedo', 'place_name_Caballito', 'place_name_Catalinas',\n",
       "       'place_name_Centro / Microcentro', 'place_name_Chacarita',\n",
       "       'place_name_Coghlan', 'place_name_Colegiales', 'place_name_Congreso',\n",
       "       'place_name_Constitución', 'place_name_Flores', 'place_name_Floresta',\n",
       "       'place_name_Las Cañitas', 'place_name_Liniers', 'place_name_Mataderos',\n",
       "       'place_name_Monserrat', 'place_name_Monte Castro', 'place_name_Nuñez',\n",
       "       'place_name_Once', 'place_name_Palermo', 'place_name_Palermo Chico',\n",
       "       'place_name_Palermo Hollywood', 'place_name_Palermo Soho',\n",
       "       'place_name_Palermo Viejo', 'place_name_Parque Avellaneda',\n",
       "       'place_name_Parque Centenario', 'place_name_Parque Chacabuco',\n",
       "       'place_name_Parque Chas', 'place_name_Parque Patricios',\n",
       "       'place_name_Paternal', 'place_name_Pompeya', 'place_name_Puerto Madero',\n",
       "       'place_name_Recoleta', 'place_name_Retiro', 'place_name_Saavedra',\n",
       "       'place_name_San Cristobal', 'place_name_San Nicolás',\n",
       "       'place_name_San Telmo', 'place_name_Tribunales',\n",
       "       'place_name_Velez Sarsfield', 'place_name_Versalles',\n",
       "       'place_name_Villa Crespo', 'place_name_Villa Devoto',\n",
       "       'place_name_Villa General Mitre', 'place_name_Villa Lugano',\n",
       "       'place_name_Villa Luro', 'place_name_Villa Ortuzar',\n",
       "       'place_name_Villa Pueyrredón', 'place_name_Villa Real',\n",
       "       'place_name_Villa Riachuelo', 'place_name_Villa Santa Rita',\n",
       "       'place_name_Villa Soldati', 'place_name_Villa Urquiza',\n",
       "       'place_name_Villa del Parque'],\n",
       "      dtype='object')"
      ]
     },
     "metadata": {},
     "output_type": "display_data"
    }
   ],
   "source": [
    "display(data_caba_clean.columns)"
   ]
  },
  {
   "cell_type": "code",
   "execution_count": 852,
   "metadata": {},
   "outputs": [
    {
     "name": "stdout",
     "output_type": "stream",
     "text": [
      "RMSE: 29676.697503514544\n",
      "R2: 0.0021623787501081626\n"
     ]
    },
    {
     "data": {
      "image/png": "[encoded data removed]",
      "text/plain": [
       "<Figure size 432x288 with 1 Axes>"
      ]
     },
     "metadata": {
      "needs_background": "light"
     },
     "output_type": "display_data"
    },
    {
     "name": "stdout",
     "output_type": "stream",
     "text": [
      "(6407,)\n",
      "(6407,)\n"
     ]
    }
   ],
   "source": [
    "# Regresion lineal Simple\n",
    "\n",
    "feature_cols = ['price_aprox_usd']\n",
    "target = ['price_usd_per_m2']\n",
    "\n",
    "train_test_error(feature_cols, target)\n"
   ]
  },
  {
   "cell_type": "code",
   "execution_count": null,
   "metadata": {},
   "outputs": [],
   "source": []
  },
  {
   "cell_type": "code",
   "execution_count": 853,
   "metadata": {},
   "outputs": [
    {
     "name": "stdout",
     "output_type": "stream",
     "text": [
      "RMSE: 31351.431669950027\n",
      "R2: -0.11363658457882542\n"
     ]
    },
    {
     "data": {
      "image/png": "[encoded data removed]",
      "text/plain": [
       "<Figure size 432x288 with 1 Axes>"
      ]
     },
     "metadata": {
      "needs_background": "light"
     },
     "output_type": "display_data"
    },
    {
     "name": "stdout",
     "output_type": "stream",
     "text": [
      "(6407,)\n",
      "(6407,)\n"
     ]
    }
   ],
   "source": [
    "feature_cols = ['surface_total_in_m2', 'price_aprox_usd', 'surface_covered_in_m2']\n",
    "target = ['price_usd_per_m2']\n",
    "\n",
    "train_test_error(feature_cols, target)\n"
   ]
  },
  {
   "cell_type": "code",
   "execution_count": 854,
   "metadata": {},
   "outputs": [
    {
     "name": "stdout",
     "output_type": "stream",
     "text": [
      "RMSE: 31303.053099118886\n",
      "R2: -0.1102023185675356\n"
     ]
    },
    {
     "data": {
      "image/png": "[encoded data removed]",
      "text/plain": [
       "<Figure size 432x288 with 1 Axes>"
      ]
     },
     "metadata": {
      "needs_background": "light"
     },
     "output_type": "display_data"
    },
    {
     "name": "stdout",
     "output_type": "stream",
     "text": [
      "(6407,)\n",
      "(6407,)\n"
     ]
    }
   ],
   "source": [
    "feature_cols = ['price_aprox_usd', 'surface_total_in_m2', 'surface_covered_in_m2',\n",
    "                'pool', 'laundry', 'parking', 'gym', 'place_name_Puerto Madero']\n",
    "target = ['price_usd_per_m2']\n",
    "\n",
    "train_test_error(feature_cols, target)"
   ]
  },
  {
   "cell_type": "code",
   "execution_count": 855,
   "metadata": {},
   "outputs": [
    {
     "name": "stdout",
     "output_type": "stream",
     "text": [
      "{'alpha': 0.0636672972972973, 'scores': array([0.07533284, 0.19874048, 0.098415  ]), 'mean_score': 0.12416277591056779, 'zero_coefs': 0}\n",
      "r^2: -0.09324738755090678\n",
      "Imprime Alpha 0.0636672972972973\n"
     ]
    },
    {
     "data": {
      "image/png": "[encoded data removed]",
      "text/plain": [
       "<Figure size 432x288 with 1 Axes>"
      ]
     },
     "metadata": {
      "needs_background": "light"
     },
     "output_type": "display_data"
    },
    {
     "name": "stdout",
     "output_type": "stream",
     "text": [
      "(19220,)\n",
      "(19220,)\n"
     ]
    }
   ],
   "source": [
    "feature_cols = ['price_aprox_usd', 'surface_total_in_m2', 'surface_covered_in_m2',\n",
    "                'pool', 'laundry', 'parking', 'gym', 'place_name_Puerto Madero']\n",
    "target = ['price_usd_per_m2']\n",
    "train_test_error_lazzo(feature_cols, target)"
   ]
  },
  {
   "cell_type": "markdown",
   "metadata": {},
   "source": [
    "## Recordar que hay variables ROOM es INT!!!!"
   ]
  },
  {
   "cell_type": "code",
   "execution_count": 856,
   "metadata": {},
   "outputs": [
    {
     "name": "stdout",
     "output_type": "stream",
     "text": [
      "{'alpha': 0.03874486486486487, 'scores': array([0.00356508, 0.00201259, 0.00311627]), 'mean_score': 0.0028979800710049832, 'zero_coefs': 0}\n",
      "r^2: -0.010591638526659786\n",
      "Imprime Alpha 0.03874486486486487\n"
     ]
    },
    {
     "data": {
      "image/png": "[encoded data removed]",
      "text/plain": [
       "<Figure size 432x288 with 1 Axes>"
      ]
     },
     "metadata": {
      "needs_background": "light"
     },
     "output_type": "display_data"
    },
    {
     "name": "stdout",
     "output_type": "stream",
     "text": [
      "(19220,)\n",
      "(19220,)\n"
     ]
    }
   ],
   "source": [
    "feature_cols = ['surface_total_in_m2']\n",
    "target = ['price_usd_per_m2']\n",
    "\n",
    "train_test_error_lazzo(feature_cols, target)"
   ]
  },
  {
   "cell_type": "code",
   "execution_count": 857,
   "metadata": {},
   "outputs": [
    {
     "name": "stdout",
     "output_type": "stream",
     "text": [
      "{'alpha': 0.0636672972972973, 'scores': array([0.07533284, 0.19874048, 0.098415  ]), 'mean_score': 0.12416277591056779, 'zero_coefs': 0}\n",
      "r^2: -0.09324738755090678\n",
      "Imprime Alpha 0.0636672972972973\n"
     ]
    },
    {
     "data": {
      "image/png": "[encoded data removed]",
      "text/plain": [
       "<Figure size 432x288 with 1 Axes>"
      ]
     },
     "metadata": {
      "needs_background": "light"
     },
     "output_type": "display_data"
    },
    {
     "name": "stdout",
     "output_type": "stream",
     "text": [
      "(19220,)\n",
      "(19220,)\n"
     ]
    }
   ],
   "source": [
    "feature_cols = ['price_aprox_usd', 'surface_total_in_m2', 'surface_covered_in_m2',\n",
    "                'pool', 'laundry', 'parking', 'gym', 'place_name_Puerto Madero']\n",
    "target = ['price_usd_per_m2']\n",
    "\n",
    "train_test_error_lazzo(feature_cols, target)"
   ]
  },
  {
   "cell_type": "markdown",
   "metadata": {},
   "source": [
    "# Necesitamos definir Outliers."
   ]
  },
  {
   "cell_type": "code",
   "execution_count": 858,
   "metadata": {},
   "outputs": [
    {
     "data": {
      "image/png": "[encoded data removed]",
      "text/plain": [
       "<Figure size 432x288 with 1 Axes>"
      ]
     },
     "metadata": {
      "needs_background": "light"
     },
     "output_type": "display_data"
    }
   ],
   "source": [
    "fig, ax = plt.subplots()\n",
    "bp = ax.boxplot(data_caba_clean['surface_covered_in_m2'].dropna(), vert=False, showmeans=True)\n"
   ]
  },
  {
   "cell_type": "code",
   "execution_count": 859,
   "metadata": {},
   "outputs": [
    {
     "data": {
      "text/plain": [
       "0.01     760.226087\n",
       "0.95    6007.446809\n",
       "Name: price_usd_per_m2, dtype: float64"
      ]
     },
     "execution_count": 859,
     "metadata": {},
     "output_type": "execute_result"
    }
   ],
   "source": [
    "# Definimos outliers aproximados\n",
    "lower_bound = 0.01\n",
    "upper_bound = 0.95\n",
    "rest = data_caba_clean.price_usd_per_m2.quantile([lower_bound, upper_bound])\n",
    "rest"
   ]
  },
  {
   "cell_type": "code",
   "execution_count": 860,
   "metadata": {},
   "outputs": [
    {
     "data": {
      "image/png": "[encoded data removed]",
      "text/plain": [
       "<Figure size 432x288 with 1 Axes>"
      ]
     },
     "metadata": {
      "needs_background": "light"
     },
     "output_type": "display_data"
    },
    {
     "name": "stdout",
     "output_type": "stream",
     "text": [
      "6000.0\n",
      "760.8695652173913\n"
     ]
    }
   ],
   "source": [
    "# Creamos una mask entendiendo que los precios minimos y maximos pueden rondar los 600 USD y 4000 USD y fijamos outliers aproximados\n",
    "\n",
    "precioxm2_mask = (data_caba_clean.price_usd_per_m2 >= rest[0.01]) & (data_caba_clean.price_usd_per_m2 <= rest[0.95])\n",
    "data_caba_clean = data_caba_clean.loc[precioxm2_mask, :]\n",
    "\n",
    "# Vuelvo a graficar.\n",
    "\n",
    "plt.hist(data_caba_clean.price_usd_per_m2, bins=20, rwidth=0.8, color = '#29788E')\n",
    "plt.xlabel = 'Precio x M2'\n",
    "plt.ylabel = 'Count'\n",
    "plt.show()\n",
    "\n",
    "print(data_caba_clean.price_usd_per_m2.max()) \n",
    "print(data_caba_clean.price_usd_per_m2.min())\n",
    "\n",
    "# Parece una distribución normal? sino fuera por los valores elevados que tenemos a partir de los 3500..."
   ]
  },
  {
   "cell_type": "code",
   "execution_count": 861,
   "metadata": {},
   "outputs": [
    {
     "data": {
      "text/plain": [
       "0.001     12.0\n",
       "0.990    405.0\n",
       "Name: surface_covered_in_m2, dtype: float64"
      ]
     },
     "execution_count": 861,
     "metadata": {},
     "output_type": "execute_result"
    }
   ],
   "source": [
    "# Definimos outliers aproximados\n",
    "lower_bound = 0.001\n",
    "upper_bound = 0.99\n",
    "rest = data_caba_clean.surface_covered_in_m2.quantile([lower_bound, upper_bound])\n",
    "rest"
   ]
  },
  {
   "cell_type": "code",
   "execution_count": 862,
   "metadata": {},
   "outputs": [
    {
     "data": {
      "image/png": "[encoded data removed]",
      "text/plain": [
       "<Figure size 432x288 with 1 Axes>"
      ]
     },
     "metadata": {
      "needs_background": "light"
     },
     "output_type": "display_data"
    },
    {
     "name": "stdout",
     "output_type": "stream",
     "text": [
      "405.0\n",
      "12.0\n"
     ]
    }
   ],
   "source": [
    "# Creamos una mask entendiendo que los precios minimos y maximos pueden rondar los 600 USD y 4000 USD y fijamos outliers aproximados\n",
    "\n",
    "surface_xm2_mask = (data_caba_clean.surface_covered_in_m2 >= rest[0.001]) & (data_caba_clean.surface_covered_in_m2 <= rest[0.99])\n",
    "data_caba_clean = data_caba_clean.loc[surface_xm2_mask, :]\n",
    "\n",
    "# Vuelvo a graficar.\n",
    "\n",
    "plt.hist(data_caba_clean.surface_covered_in_m2, bins=20, rwidth=0.8, color = '#29788E')\n",
    "plt.xlabel = 'Precio x M2'\n",
    "plt.ylabel = 'Count'\n",
    "plt.show()\n",
    "\n",
    "print(data_caba_clean.surface_covered_in_m2.max()) \n",
    "print(data_caba_clean.surface_covered_in_m2.min())\n",
    "\n",
    "# Parece una distribución normal? sino fuera por los valores elevados que tenemos a partir de los 3500..."
   ]
  },
  {
   "cell_type": "code",
   "execution_count": 863,
   "metadata": {},
   "outputs": [
    {
     "name": "stdout",
     "output_type": "stream",
     "text": [
      "RMSE: 799.1457806562635\n",
      "R2: 0.1898547780882438\n"
     ]
    },
    {
     "data": {
      "image/png": "[encoded data removed]",
      "text/plain": [
       "<Figure size 432x288 with 1 Axes>"
      ]
     },
     "metadata": {
      "needs_background": "light"
     },
     "output_type": "display_data"
    },
    {
     "name": "stdout",
     "output_type": "stream",
     "text": [
      "(5957,)\n",
      "(5957,)\n"
     ]
    }
   ],
   "source": [
    "feature_cols = ['price_aprox_usd']\n",
    "target = ['price_usd_per_m2']\n",
    "\n",
    "train_test_error(feature_cols, target)\n"
   ]
  },
  {
   "cell_type": "code",
   "execution_count": 864,
   "metadata": {},
   "outputs": [
    {
     "name": "stdout",
     "output_type": "stream",
     "text": [
      "RMSE: 522.1895270445497\n",
      "R2: 0.6540867735094582\n"
     ]
    },
    {
     "data": {
      "image/png": "[encoded data removed]",
      "text/plain": [
       "<Figure size 432x288 with 1 Axes>"
      ]
     },
     "metadata": {
      "needs_background": "light"
     },
     "output_type": "display_data"
    },
    {
     "name": "stdout",
     "output_type": "stream",
     "text": [
      "(5957,)\n",
      "(5957,)\n"
     ]
    }
   ],
   "source": [
    "feature_cols = ['price_aprox_usd', 'surface_total_in_m2', 'surface_covered_in_m2',\n",
    "                'pool', 'laundry', 'parking', 'gym', 'place_name_Puerto Madero']\n",
    "target = ['price_usd_per_m2']\n",
    "\n",
    "train_test_error(feature_cols, target)"
   ]
  },
  {
   "cell_type": "code",
   "execution_count": 865,
   "metadata": {},
   "outputs": [
    {
     "name": "stdout",
     "output_type": "stream",
     "text": [
      "{'alpha': 0.022530270270270273, 'scores': array([0.66941794, 0.65380351, 0.66412832]), 'mean_score': 0.6624499253668357, 'zero_coefs': 1}\n",
      "r^2: 0.6607810509174435\n",
      "Imprime Alpha 0.022530270270270273\n"
     ]
    },
    {
     "data": {
      "image/png": "[encoded data removed]",
      "text/plain": [
       "<Figure size 432x288 with 1 Axes>"
      ]
     },
     "metadata": {
      "needs_background": "light"
     },
     "output_type": "display_data"
    },
    {
     "name": "stdout",
     "output_type": "stream",
     "text": [
      "(17869,)\n",
      "(17869,)\n"
     ]
    }
   ],
   "source": [
    "feature_cols = ['price_aprox_usd', 'surface_total_in_m2', 'surface_covered_in_m2',\n",
    "                'pool', 'laundry', 'parking', 'gym', 'place_name_Puerto Madero']\n",
    "target = ['price_usd_per_m2']\n",
    "\n",
    "train_test_error_lazzo(feature_cols, target)"
   ]
  },
  {
   "cell_type": "code",
   "execution_count": 866,
   "metadata": {},
   "outputs": [
    {
     "name": "stdout",
     "output_type": "stream",
     "text": [
      "{'alpha': 0.0007106306306306308, 'scores': array([0.66924289, 0.65381574, 0.66421576]), 'mean_score': 0.6624247970188352, 'zero_coefs': 0}\n",
      "r^2: 0.6609121058290424\n",
      "Coeficientes de la regresión [ 4.85622030e-03 -1.19211083e+01 -2.53158828e-02  1.46611069e+02\n",
      " -5.48752489e+01  1.13497180e+02  2.42161924e+02  7.53086435e+02]\n"
     ]
    },
    {
     "data": {
      "image/png": "[encoded data removed]",
      "text/plain": [
       "<Figure size 432x288 with 1 Axes>"
      ]
     },
     "metadata": {
      "needs_background": "light"
     },
     "output_type": "display_data"
    },
    {
     "name": "stdout",
     "output_type": "stream",
     "text": [
      "(17869,)\n",
      "(17869,)\n"
     ]
    }
   ],
   "source": [
    "feature_cols = ['price_aprox_usd', 'surface_total_in_m2', 'surface_covered_in_m2',\n",
    "                'pool', 'laundry', 'parking', 'gym', 'place_name_Puerto Madero']\n",
    "target = ['price_usd_per_m2']\n",
    "\n",
    "train_test_error_ridge(feature_cols, target)"
   ]
  },
  {
   "cell_type": "code",
   "execution_count": 867,
   "metadata": {},
   "outputs": [
    {
     "data": {
      "image/png": "[encoded data removed]",
      "text/plain": [
       "<Figure size 936x720 with 2 Axes>"
      ]
     },
     "metadata": {
      "needs_background": "light"
     },
     "output_type": "display_data"
    }
   ],
   "source": [
    "X = data_caba_clean[['price_aprox_usd', 'surface_total_in_m2', 'surface_covered_in_m2',\n",
    "        'pool', 'laundry', 'parking', 'gym', 'place_name_Puerto Madero']]\n",
    "\n",
    "plt.figure(figsize=(13,10))\n",
    "sns.heatmap(X.corr(),annot=True)\n",
    "plt.title(\"Correlation Heatmap\")\n",
    "plt.show()\n",
    "\n",
    "# Para tomar revisar!"
   ]
  },
  {
   "cell_type": "code",
   "execution_count": 868,
   "metadata": {},
   "outputs": [
    {
     "name": "stdout",
     "output_type": "stream",
     "text": [
      "{'alpha': 1e-05, 'scores': array([0.50579459, 0.47735899, 0.50921575]), 'mean_score': 0.49745644485761736, 'zero_coefs': 0}\n",
      "r^2: 0.5026697346326537\n",
      "Coeficientes de la regresión [ 9.25307017e-04 -4.78384369e+01  2.16806649e+02 -1.46886395e+02\n",
      "  9.85106772e+01  4.48394826e+02 -2.71552356e+02 -4.78384369e+01\n",
      "  1.02693368e+02 -1.60022133e+02 -2.35104375e+02  6.83949353e+02\n",
      "  6.82506861e+02 -4.64780917e+02 -6.13692543e+01  2.00888967e+02\n",
      " -6.13036049e+02  1.96558730e+02  2.74185319e+01  3.17910211e+02\n",
      "  2.78472587e+02 -2.36630230e+02 -2.58425757e+02 -1.10703363e+02\n",
      " -2.92346781e+02  1.09723340e+03 -3.20718751e+02 -4.50903210e+02\n",
      " -9.78315363e+01 -2.45349249e+02  5.87220086e+02 -1.58259608e+02\n",
      "  7.98833925e+02  1.40426287e+03  7.89636110e+02  8.31343829e+02\n",
      "  6.98009166e+02 -4.83656645e+02  1.56587094e+02 -3.89443838e+02\n",
      "  7.13051143e+01 -2.53467033e+02 -1.38807348e+02 -7.02067225e+02\n",
      "  2.12070373e+03  8.79376181e+02  5.88758901e+02  7.32759597e+01\n",
      "  7.03973112e+01  2.75874564e+01  3.87954550e+01 -7.36313800e+01\n",
      " -6.71756807e+02 -3.06112119e+02  3.57952824e+02 -5.78099757e+01\n",
      " -2.47442907e+02 -7.01570851e+02 -6.60498406e+01  2.23247898e+02\n",
      " -6.90389509e+01 -5.22168059e+02 -1.30489852e+03 -1.26401720e+02\n",
      " -9.71453072e+02  2.37575070e+02]\n"
     ]
    },
    {
     "data": {
      "image/png": "[encoded data removed]",
      "text/plain": [
       "<Figure size 432x288 with 1 Axes>"
      ]
     },
     "metadata": {
      "needs_background": "light"
     },
     "output_type": "display_data"
    },
    {
     "name": "stdout",
     "output_type": "stream",
     "text": [
      "(17869,)\n",
      "(17869,)\n"
     ]
    }
   ],
   "source": [
    "feature_cols = ['price_aprox_usd', 'place_name_Villa del Parque',\n",
    "                'pool', 'laundry', 'parking', 'gym', \n",
    "                'place_name_Agronomía', 'place_name_Villa del Parque',\n",
    "                'place_name_Almagro', 'place_name_Balvanera', 'place_name_Barracas',\n",
    "                'place_name_Barrio Norte', 'place_name_Belgrano', 'place_name_Boca',\n",
    "                'place_name_Boedo', 'place_name_Caballito', 'place_name_Catalinas',\n",
    "                'place_name_Centro / Microcentro', 'place_name_Chacarita',\n",
    "                'place_name_Coghlan', 'place_name_Colegiales', 'place_name_Congreso',\n",
    "                'place_name_Constitución', 'place_name_Flores', 'place_name_Floresta',\n",
    "                'place_name_Las Cañitas', 'place_name_Liniers', 'place_name_Mataderos',\n",
    "                'place_name_Monserrat', 'place_name_Monte Castro', 'place_name_Nuñez',\n",
    "                'place_name_Once', 'place_name_Palermo', 'place_name_Palermo Chico',\n",
    "                'place_name_Palermo Hollywood', 'place_name_Palermo Soho',\n",
    "                'place_name_Palermo Viejo', 'place_name_Parque Avellaneda',\n",
    "                'place_name_Parque Centenario', 'place_name_Parque Chacabuco',\n",
    "                'place_name_Parque Chas', 'place_name_Parque Patricios',\n",
    "                'place_name_Paternal', 'place_name_Pompeya', 'place_name_Puerto Madero',\n",
    "                'place_name_Recoleta', 'place_name_Retiro', 'place_name_Saavedra',\n",
    "                'place_name_San Cristobal', 'place_name_San Nicolás',\n",
    "                'place_name_San Telmo', 'place_name_Tribunales',\n",
    "                'place_name_Velez Sarsfield', 'place_name_Versalles',\n",
    "                'place_name_Villa Crespo', 'place_name_Villa Devoto',\n",
    "                'place_name_Villa General Mitre', 'place_name_Villa Lugano',\n",
    "                'place_name_Villa Luro', 'place_name_Villa Ortuzar',\n",
    "                'place_name_Villa Pueyrredón', 'place_name_Villa Real',\n",
    "                'place_name_Villa Riachuelo', 'place_name_Villa Santa Rita',\n",
    "                'place_name_Villa Soldati', 'place_name_Villa Urquiza']\n",
    "target = ['price_usd_per_m2']\n",
    "\n",
    "train_test_error_ridge(feature_cols, target)"
   ]
  },
  {
   "cell_type": "code",
   "execution_count": 869,
   "metadata": {},
   "outputs": [
    {
     "name": "stdout",
     "output_type": "stream",
     "text": [
      "{'alpha': 0.0005104504504504506, 'scores': array([0.63706362, 0.61898677, 0.62537257]), 'mean_score': 0.627140987649789, 'zero_coefs': 0}\n",
      "r^2: 0.6250047865380975\n",
      "Coeficientes de la regresión [ 5.32543329e-03 -1.29438036e+01]\n"
     ]
    },
    {
     "data": {
      "image/png": "[encoded data removed]",
      "text/plain": [
       "<Figure size 432x288 with 1 Axes>"
      ]
     },
     "metadata": {
      "needs_background": "light"
     },
     "output_type": "display_data"
    },
    {
     "name": "stdout",
     "output_type": "stream",
     "text": [
      "(17869,)\n",
      "(17869,)\n"
     ]
    }
   ],
   "source": [
    "feature_cols = ['price_aprox_usd', 'surface_total_in_m2']\n",
    "target = ['price_usd_per_m2']\n",
    "\n",
    "train_test_error_ridge(feature_cols, target)"
   ]
  },
  {
   "cell_type": "code",
   "execution_count": 874,
   "metadata": {},
   "outputs": [
    {
     "name": "stdout",
     "output_type": "stream",
     "text": [
      "{'alpha': 1e-05, 'scores': array([0.6494183 , 0.63133789, 0.64059891]), 'mean_score': 0.6404517016369918, 'zero_coefs': 0}\n",
      "r^2: 0.622838625559245\n",
      "Coeficientes de la regresión [ 3.64271333e-03 -6.59246899e+00 -2.58086859e+00  1.62370821e+02\n",
      " -5.57624594e+01  1.33144013e+02  3.00090851e+02  1.02519614e+03]\n"
     ]
    },
    {
     "data": {
      "image/png": "[encoded data removed]",
      "text/plain": [
       "<Figure size 432x288 with 1 Axes>"
      ]
     },
     "metadata": {
      "needs_background": "light"
     },
     "output_type": "display_data"
    },
    {
     "name": "stdout",
     "output_type": "stream",
     "text": [
      "(17869,)\n",
      "(17869,)\n"
     ]
    }
   ],
   "source": [
    "feature_cols = ['price_aprox_usd', 'surface_total_in_m2', 'surface_covered_in_m2',\n",
    "                'pool', 'laundry', 'parking', 'gym', 'place_name_Puerto Madero']\n",
    "target = ['price_usd_per_m2']\n",
    "\n",
    "train_test_error_elastic(feature_cols, target)"
   ]
  }
 ],
 "metadata": {
  "kernelspec": {
   "display_name": "Python 3",
   "language": "python",
   "name": "python3"
  },
  "language_info": {
   "codemirror_mode": {
    "name": "ipython",
    "version": 3
   },
   "file_extension": ".py",
   "mimetype": "text/x-python",
   "name": "python",
   "nbconvert_exporter": "python",
   "pygments_lexer": "ipython3",
   "version": "3.7.9"
  }
 },
 "nbformat": 4,
 "nbformat_minor": 4
}

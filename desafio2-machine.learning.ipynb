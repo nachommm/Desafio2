{
 "metadata": {
  "language_info": {
   "codemirror_mode": {
    "name": "ipython",
    "version": 3
   },
   "file_extension": ".py",
   "mimetype": "text/x-python",
   "name": "python",
   "nbconvert_exporter": "python",
   "pygments_lexer": "ipython3",
   "version": "3.8.3-final"
  },
  "orig_nbformat": 2,
  "kernelspec": {
   "name": "python3",
   "display_name": "Python 3",
   "language": "python"
  }
 },
 "nbformat": 4,
 "nbformat_minor": 2,
 "cells": [
  {
   "source": [
    "<h2>Desarrollo del Desafio 2 - Machine Learning\n"
   ],
   "cell_type": "markdown",
   "metadata": {}
  },
  {
   "source": [
    "<h3>Grupo 7\n",
    "\n",
    "<li>Laura Jazmín Chao\n",
    "<li>Juan Nicolás Capistrano\n",
    "<li>Betiana Srur\n",
    "<li>Ignacio Mendieta\n",
    "<li>Marecelo Carrizo"
   ],
   "cell_type": "markdown",
   "metadata": {}
  },
  {
   "source": [
    "**Desafio 2** : Aplicar las tecnicas de Machine Learning para calcular el precio por metro cuadrado de las propiedades."
   ],
   "cell_type": "markdown",
   "metadata": {}
  },
  {
   "cell_type": "code",
   "execution_count": 11,
   "metadata": {},
   "outputs": [],
   "source": [
    "import numpy as np\n",
    "import pandas as pd\n",
    "\n",
    "# Libreria Grafica.\n",
    "%matplotlib inline\n",
    "import seaborn as sns\n",
    "from matplotlib import pyplot as plt\n",
    "\n",
    "# Libreria para analisis ML\n",
    "from sklearn import datasets, linear_model"
   ]
  },
  {
   "cell_type": "code",
   "execution_count": 12,
   "metadata": {},
   "outputs": [
    {
     "output_type": "execute_result",
     "data": {
      "text/plain": [
       "       Unnamed: 0 operation property_type                  place_name  \\\n",
       "71739       71739      sell         house             Lomas de Zamora   \n",
       "29194       29194      sell     apartment                    Barracas   \n",
       "2838         2838      sell         house  Los Pingüinos Country Club   \n",
       "51794       51794      sell         house             Capital Federal   \n",
       "24429       24429      sell     apartment                   Caballito   \n",
       "\n",
       "                                 place_with_parent_names country_name  \\\n",
       "71739  |Argentina|Bs.As. G.B.A. Zona Sur|Lomas de Zam...    Argentina   \n",
       "29194               |Argentina|Capital Federal|Barracas|    Argentina   \n",
       "2838   |Argentina|Bs.As. G.B.A. Zona Oeste|Ituzaingó|...    Argentina   \n",
       "51794                        |Argentina|Capital Federal|    Argentina   \n",
       "24429              |Argentina|Capital Federal|Caballito|    Argentina   \n",
       "\n",
       "                     state_name  geonames_id                    lat-lon  \\\n",
       "71739    Bs.As. G.B.A. Zona Sur          NaN                        NaN   \n",
       "29194           Capital Federal    3436134.0    -34.6327573,-58.3734462   \n",
       "2838   Bs.As. G.B.A. Zona Oeste          NaN  -34.62040329,-58.70380402   \n",
       "51794           Capital Federal    3433955.0                        NaN   \n",
       "24429           Capital Federal    3435874.0    -34.6103392,-58.4480226   \n",
       "\n",
       "             lat  ...  surface_covered_in_m2  price_usd_per_m2 price_per_m2  \\\n",
       "71739        NaN  ...                  300.0               NaN  1300.000000   \n",
       "29194 -34.632757  ...                   70.0       1771.428571  1771.428571   \n",
       "2838  -34.620403  ...                  100.0               NaN          NaN   \n",
       "51794        NaN  ...                  350.0        561.904762  1685.714286   \n",
       "24429 -34.610339  ...                   47.0       2653.061224  2765.957447   \n",
       "\n",
       "       floor  rooms  expenses  \\\n",
       "71739    NaN    NaN       NaN   \n",
       "29194    NaN    3.0       NaN   \n",
       "2838     NaN    2.0       NaN   \n",
       "51794    NaN    NaN       NaN   \n",
       "24429    NaN    2.0       2.0   \n",
       "\n",
       "                                           properati_url  \\\n",
       "71739  http://www.properati.com.ar/1alcu_venta_casa_l...   \n",
       "29194  http://www.properati.com.ar/17yfc_venta_depart...   \n",
       "2838   http://www.properati.com.ar/15kl4_venta_casa_l...   \n",
       "51794  http://www.properati.com.ar/19hsp_venta_casa_c...   \n",
       "24429  http://www.properati.com.ar/17o4v_venta_depart...   \n",
       "\n",
       "                                             description  \\\n",
       "71739  VENTA URGENTE!!! P.B- AMPLIO ESTAR, COMEDOR DI...   \n",
       "29194  Se trata de un dpto de 3 ambientes al contrafr...   \n",
       "2838   CASA AMERICANA , CONSTA DE ENTRADA DE AUTOS, L...   \n",
       "51794  Oportunidad !!!Excelente Casa clÃ¡sica en 2 pl...   \n",
       "24429  IDEAL INVERSIONISTA, HERMOSO DEPARTAMENTO DE 2...   \n",
       "\n",
       "                                                   title  \\\n",
       "71739      Venta urgente!! Casa en Lomas de Zamora Oeste   \n",
       "29194  3 ambientes c/frente, amplia cocina, muy luminoso   \n",
       "2838   U$D 87.000 - Casa en Venta - Garcia Lorca     ...   \n",
       "51794  Casa 1050m² con 2 Plantas, Argentina, Capital ...   \n",
       "24429                                 Departamento venta   \n",
       "\n",
       "                                         image_thumbnail  \n",
       "71739  https://thumbs4.properati.com/5/l7de-Cku-WP943...  \n",
       "29194  https://thumbs4.properati.com/2/2zA571mOVWhAjp...  \n",
       "2838   https://thumbs4.properati.com/8/zDSou86tjkWmh-...  \n",
       "51794  https://thumbs4.properati.com/4/X570x03w2hmudI...  \n",
       "24429  https://thumbs4.properati.com/0/s26IaRMVsyjcv2...  \n",
       "\n",
       "[5 rows x 26 columns]"
      ],
      "text/html": "<div>\n<style scoped>\n    .dataframe tbody tr th:only-of-type {\n        vertical-align: middle;\n    }\n\n    .dataframe tbody tr th {\n        vertical-align: top;\n    }\n\n    .dataframe thead th {\n        text-align: right;\n    }\n</style>\n<table border=\"1\" class=\"dataframe\">\n  <thead>\n    <tr style=\"text-align: right;\">\n      <th></th>\n      <th>Unnamed: 0</th>\n      <th>operation</th>\n      <th>property_type</th>\n      <th>place_name</th>\n      <th>place_with_parent_names</th>\n      <th>country_name</th>\n      <th>state_name</th>\n      <th>geonames_id</th>\n      <th>lat-lon</th>\n      <th>lat</th>\n      <th>...</th>\n      <th>surface_covered_in_m2</th>\n      <th>price_usd_per_m2</th>\n      <th>price_per_m2</th>\n      <th>floor</th>\n      <th>rooms</th>\n      <th>expenses</th>\n      <th>properati_url</th>\n      <th>description</th>\n      <th>title</th>\n      <th>image_thumbnail</th>\n    </tr>\n  </thead>\n  <tbody>\n    <tr>\n      <th>71739</th>\n      <td>71739</td>\n      <td>sell</td>\n      <td>house</td>\n      <td>Lomas de Zamora</td>\n      <td>|Argentina|Bs.As. G.B.A. Zona Sur|Lomas de Zam...</td>\n      <td>Argentina</td>\n      <td>Bs.As. G.B.A. Zona Sur</td>\n      <td>NaN</td>\n      <td>NaN</td>\n      <td>NaN</td>\n      <td>...</td>\n      <td>300.0</td>\n      <td>NaN</td>\n      <td>1300.000000</td>\n      <td>NaN</td>\n      <td>NaN</td>\n      <td>NaN</td>\n      <td>http://www.properati.com.ar/1alcu_venta_casa_l...</td>\n      <td>VENTA URGENTE!!! P.B- AMPLIO ESTAR, COMEDOR DI...</td>\n      <td>Venta urgente!! Casa en Lomas de Zamora Oeste</td>\n      <td>https://thumbs4.properati.com/5/l7de-Cku-WP943...</td>\n    </tr>\n    <tr>\n      <th>29194</th>\n      <td>29194</td>\n      <td>sell</td>\n      <td>apartment</td>\n      <td>Barracas</td>\n      <td>|Argentina|Capital Federal|Barracas|</td>\n      <td>Argentina</td>\n      <td>Capital Federal</td>\n      <td>3436134.0</td>\n      <td>-34.6327573,-58.3734462</td>\n      <td>-34.632757</td>\n      <td>...</td>\n      <td>70.0</td>\n      <td>1771.428571</td>\n      <td>1771.428571</td>\n      <td>NaN</td>\n      <td>3.0</td>\n      <td>NaN</td>\n      <td>http://www.properati.com.ar/17yfc_venta_depart...</td>\n      <td>Se trata de un dpto de 3 ambientes al contrafr...</td>\n      <td>3 ambientes c/frente, amplia cocina, muy luminoso</td>\n      <td>https://thumbs4.properati.com/2/2zA571mOVWhAjp...</td>\n    </tr>\n    <tr>\n      <th>2838</th>\n      <td>2838</td>\n      <td>sell</td>\n      <td>house</td>\n      <td>Los Pingüinos Country Club</td>\n      <td>|Argentina|Bs.As. G.B.A. Zona Oeste|Ituzaingó|...</td>\n      <td>Argentina</td>\n      <td>Bs.As. G.B.A. Zona Oeste</td>\n      <td>NaN</td>\n      <td>-34.62040329,-58.70380402</td>\n      <td>-34.620403</td>\n      <td>...</td>\n      <td>100.0</td>\n      <td>NaN</td>\n      <td>NaN</td>\n      <td>NaN</td>\n      <td>2.0</td>\n      <td>NaN</td>\n      <td>http://www.properati.com.ar/15kl4_venta_casa_l...</td>\n      <td>CASA AMERICANA , CONSTA DE ENTRADA DE AUTOS, L...</td>\n      <td>U$D 87.000 - Casa en Venta - Garcia Lorca     ...</td>\n      <td>https://thumbs4.properati.com/8/zDSou86tjkWmh-...</td>\n    </tr>\n    <tr>\n      <th>51794</th>\n      <td>51794</td>\n      <td>sell</td>\n      <td>house</td>\n      <td>Capital Federal</td>\n      <td>|Argentina|Capital Federal|</td>\n      <td>Argentina</td>\n      <td>Capital Federal</td>\n      <td>3433955.0</td>\n      <td>NaN</td>\n      <td>NaN</td>\n      <td>...</td>\n      <td>350.0</td>\n      <td>561.904762</td>\n      <td>1685.714286</td>\n      <td>NaN</td>\n      <td>NaN</td>\n      <td>NaN</td>\n      <td>http://www.properati.com.ar/19hsp_venta_casa_c...</td>\n      <td>Oportunidad !!!Excelente Casa clÃ¡sica en 2 pl...</td>\n      <td>Casa 1050m² con 2 Plantas, Argentina, Capital ...</td>\n      <td>https://thumbs4.properati.com/4/X570x03w2hmudI...</td>\n    </tr>\n    <tr>\n      <th>24429</th>\n      <td>24429</td>\n      <td>sell</td>\n      <td>apartment</td>\n      <td>Caballito</td>\n      <td>|Argentina|Capital Federal|Caballito|</td>\n      <td>Argentina</td>\n      <td>Capital Federal</td>\n      <td>3435874.0</td>\n      <td>-34.6103392,-58.4480226</td>\n      <td>-34.610339</td>\n      <td>...</td>\n      <td>47.0</td>\n      <td>2653.061224</td>\n      <td>2765.957447</td>\n      <td>NaN</td>\n      <td>2.0</td>\n      <td>2.0</td>\n      <td>http://www.properati.com.ar/17o4v_venta_depart...</td>\n      <td>IDEAL INVERSIONISTA, HERMOSO DEPARTAMENTO DE 2...</td>\n      <td>Departamento venta</td>\n      <td>https://thumbs4.properati.com/0/s26IaRMVsyjcv2...</td>\n    </tr>\n  </tbody>\n</table>\n<p>5 rows × 26 columns</p>\n</div>"
     },
     "metadata": {},
     "execution_count": 12
    }
   ],
   "source": [
    "# Definimos la ruta de la información.\n",
    "data_propiedades = \"Data/properati.csv\"\n",
    "\n",
    "# Leemos los datos del archivo\n",
    "data = pd.read_csv(data_propiedades, sep=\",\", encoding=\"UTF-8\")\n",
    "\n",
    "# Chequeamos que los datos se hayan importado correctamente\n",
    "data.sample(5)"
   ]
  },
  {
   "cell_type": "code",
   "execution_count": 13,
   "metadata": {},
   "outputs": [
    {
     "output_type": "execute_result",
     "data": {
      "text/plain": [
       "(121220, 26)"
      ]
     },
     "metadata": {},
     "execution_count": 13
    }
   ],
   "source": [
    "# Chequeamos cantidad de registros y cantidad de columnas\n",
    "data.shape"
   ]
  },
  {
   "source": [
    "<h2>Limpieza de Datos."
   ],
   "cell_type": "markdown",
   "metadata": {}
  },
  {
   "cell_type": "code",
   "execution_count": 14,
   "metadata": {},
   "outputs": [
    {
     "output_type": "execute_result",
     "data": {
      "text/plain": [
       "        Unnamed: 0 operation property_type       place_name  \\\n",
       "50387        50387      sell     apartment  Capital Federal   \n",
       "50388        50388      sell     apartment  Capital Federal   \n",
       "107390      107390      sell         house        San Roque   \n",
       "\n",
       "              place_with_parent_names country_name       state_name  \\\n",
       "50387     |Argentina|Capital Federal|    Argentina  Capital Federal   \n",
       "50388     |Argentina|Capital Federal|    Argentina  Capital Federal   \n",
       "107390  |Argentina|Mendoza|San Roque|    Argentina          Mendoza   \n",
       "\n",
       "        geonames_id lat-lon  lat  ...  surface_covered_in_m2  \\\n",
       "50387     3433955.0     NaN  NaN  ...                    NaN   \n",
       "50388     3433955.0     NaN  NaN  ...                    NaN   \n",
       "107390    3836586.0     NaN  NaN  ...                    NaN   \n",
       "\n",
       "        price_usd_per_m2 price_per_m2  floor  rooms  expenses  \\\n",
       "50387                NaN          NaN    NaN    NaN       NaN   \n",
       "50388                NaN          NaN    NaN    NaN       NaN   \n",
       "107390               NaN          NaN    NaN    NaN       NaN   \n",
       "\n",
       "                                            properati_url  \\\n",
       "50387   http://www.properati.com.ar/19e8z_venta_depart...   \n",
       "50388   http://www.properati.com.ar/19e90_venta_depart...   \n",
       "107390  http://www.properati.com.ar/1by0s_venta_casa_s...   \n",
       "\n",
       "                                              description  \\\n",
       "50387   Ref.: 55:PREVENTA ::: OPORTUNIDAD ::: Dúplex a...   \n",
       "50388   Ref.: 56Duplex en venta de 1 dormitorio con ap...   \n",
       "107390  Casa con Calefacción central, Mendoza, San Roq...   \n",
       "\n",
       "                                            title  \\\n",
       "50387   DUPLEX A LA VENTA | Liniers 1200 | Tandil   \n",
       "50388   DUPLEX A LA VENTA | Liniers 1200 | Tandil   \n",
       "107390                         Casa - San Vicente   \n",
       "\n",
       "                                          image_thumbnail  \n",
       "50387   https://thumbs4.properati.com/9/N_Qr_5X_vOq--b...  \n",
       "50388   https://thumbs4.properati.com/8/_cBXAyr_9pDySg...  \n",
       "107390  https://thumbs4.properati.com/2/pA0RbuDKRK6GgV...  \n",
       "\n",
       "[3 rows x 26 columns]"
      ],
      "text/html": "<div>\n<style scoped>\n    .dataframe tbody tr th:only-of-type {\n        vertical-align: middle;\n    }\n\n    .dataframe tbody tr th {\n        vertical-align: top;\n    }\n\n    .dataframe thead th {\n        text-align: right;\n    }\n</style>\n<table border=\"1\" class=\"dataframe\">\n  <thead>\n    <tr style=\"text-align: right;\">\n      <th></th>\n      <th>Unnamed: 0</th>\n      <th>operation</th>\n      <th>property_type</th>\n      <th>place_name</th>\n      <th>place_with_parent_names</th>\n      <th>country_name</th>\n      <th>state_name</th>\n      <th>geonames_id</th>\n      <th>lat-lon</th>\n      <th>lat</th>\n      <th>...</th>\n      <th>surface_covered_in_m2</th>\n      <th>price_usd_per_m2</th>\n      <th>price_per_m2</th>\n      <th>floor</th>\n      <th>rooms</th>\n      <th>expenses</th>\n      <th>properati_url</th>\n      <th>description</th>\n      <th>title</th>\n      <th>image_thumbnail</th>\n    </tr>\n  </thead>\n  <tbody>\n    <tr>\n      <th>50387</th>\n      <td>50387</td>\n      <td>sell</td>\n      <td>apartment</td>\n      <td>Capital Federal</td>\n      <td>|Argentina|Capital Federal|</td>\n      <td>Argentina</td>\n      <td>Capital Federal</td>\n      <td>3433955.0</td>\n      <td>NaN</td>\n      <td>NaN</td>\n      <td>...</td>\n      <td>NaN</td>\n      <td>NaN</td>\n      <td>NaN</td>\n      <td>NaN</td>\n      <td>NaN</td>\n      <td>NaN</td>\n      <td>http://www.properati.com.ar/19e8z_venta_depart...</td>\n      <td>Ref.: 55:PREVENTA ::: OPORTUNIDAD ::: Dúplex a...</td>\n      <td>DUPLEX A LA VENTA | Liniers 1200 | Tandil</td>\n      <td>https://thumbs4.properati.com/9/N_Qr_5X_vOq--b...</td>\n    </tr>\n    <tr>\n      <th>50388</th>\n      <td>50388</td>\n      <td>sell</td>\n      <td>apartment</td>\n      <td>Capital Federal</td>\n      <td>|Argentina|Capital Federal|</td>\n      <td>Argentina</td>\n      <td>Capital Federal</td>\n      <td>3433955.0</td>\n      <td>NaN</td>\n      <td>NaN</td>\n      <td>...</td>\n      <td>NaN</td>\n      <td>NaN</td>\n      <td>NaN</td>\n      <td>NaN</td>\n      <td>NaN</td>\n      <td>NaN</td>\n      <td>http://www.properati.com.ar/19e90_venta_depart...</td>\n      <td>Ref.: 56Duplex en venta de 1 dormitorio con ap...</td>\n      <td>DUPLEX A LA VENTA | Liniers 1200 | Tandil</td>\n      <td>https://thumbs4.properati.com/8/_cBXAyr_9pDySg...</td>\n    </tr>\n    <tr>\n      <th>107390</th>\n      <td>107390</td>\n      <td>sell</td>\n      <td>house</td>\n      <td>San Roque</td>\n      <td>|Argentina|Mendoza|San Roque|</td>\n      <td>Argentina</td>\n      <td>Mendoza</td>\n      <td>3836586.0</td>\n      <td>NaN</td>\n      <td>NaN</td>\n      <td>...</td>\n      <td>NaN</td>\n      <td>NaN</td>\n      <td>NaN</td>\n      <td>NaN</td>\n      <td>NaN</td>\n      <td>NaN</td>\n      <td>http://www.properati.com.ar/1by0s_venta_casa_s...</td>\n      <td>Casa con Calefacción central, Mendoza, San Roq...</td>\n      <td>Casa - San Vicente</td>\n      <td>https://thumbs4.properati.com/2/pA0RbuDKRK6GgV...</td>\n    </tr>\n  </tbody>\n</table>\n<p>3 rows × 26 columns</p>\n</div>"
     },
     "metadata": {},
     "execution_count": 14
    }
   ],
   "source": [
    "# Creamos una mask para traer los valores en monedas que no son USD ni ARS.\n",
    "currency_OTHER_CURRENCY_mask = (data.currency == 'PEN') | (data.currency == 'UYU')\n",
    "# Observamos esos registros\n",
    "data.loc[currency_OTHER_CURRENCY_mask, :]"
   ]
  },
  {
   "cell_type": "code",
   "execution_count": 15,
   "metadata": {},
   "outputs": [
    {
     "output_type": "stream",
     "name": "stdout",
     "text": [
      "Cantidad de registros original - registro actuales: 3\n"
     ]
    }
   ],
   "source": [
    "# Hacemos drop de esos registros y chequeamos la diferencia entre cantidad original y actual\n",
    "cant_registros = data.shape[0]\n",
    "data.drop(data.loc[currency_OTHER_CURRENCY_mask, :].index, inplace = True)\n",
    "print(f'Cantidad de registros original - registro actuales: {cant_registros - data.shape[0]}')"
   ]
  },
  {
   "cell_type": "code",
   "execution_count": 16,
   "metadata": {},
   "outputs": [
    {
     "output_type": "execute_result",
     "data": {
      "text/plain": [
       "   Unnamed: 0 operation property_type place_name  \\\n",
       "0           0      sell            PH  Mataderos   \n",
       "1           1      sell     apartment   La Plata   \n",
       "2           2      sell     apartment  Mataderos   \n",
       "3           3      sell            PH    Liniers   \n",
       "4           4      sell     apartment     Centro   \n",
       "\n",
       "                             place_with_parent_names country_name  \\\n",
       "0              |Argentina|Capital Federal|Mataderos|    Argentina   \n",
       "1        |Argentina|Bs.As. G.B.A. Zona Sur|La Plata|    Argentina   \n",
       "2              |Argentina|Capital Federal|Mataderos|    Argentina   \n",
       "3                |Argentina|Capital Federal|Liniers|    Argentina   \n",
       "4  |Argentina|Buenos Aires Costa Atlántica|Mar de...    Argentina   \n",
       "\n",
       "                     state_name     price currency  \\\n",
       "0               Capital Federal   62000.0      USD   \n",
       "1        Bs.As. G.B.A. Zona Sur  150000.0      USD   \n",
       "2               Capital Federal   72000.0      USD   \n",
       "3               Capital Federal   95000.0      USD   \n",
       "4  Buenos Aires Costa Atlántica   64000.0      USD   \n",
       "\n",
       "   price_aprox_local_currency  price_aprox_usd  surface_total_in_m2  \\\n",
       "0                   1093959.0          62000.0                 55.0   \n",
       "1                   2646675.0         150000.0                  NaN   \n",
       "2                   1270404.0          72000.0                 55.0   \n",
       "3                   1676227.5          95000.0                  NaN   \n",
       "4                   1129248.0          64000.0                 35.0   \n",
       "\n",
       "   surface_covered_in_m2  price_usd_per_m2  price_per_m2  floor  rooms  \\\n",
       "0                   40.0       1127.272727   1550.000000    NaN    NaN   \n",
       "1                    NaN               NaN           NaN    NaN    NaN   \n",
       "2                   55.0       1309.090909   1309.090909    NaN    NaN   \n",
       "3                    NaN               NaN           NaN    NaN    NaN   \n",
       "4                   35.0       1828.571429   1828.571429    NaN    NaN   \n",
       "\n",
       "                                         description  \\\n",
       "0  2 AMBIENTES TIPO CASA PLANTA BAJA POR PASILLO,...   \n",
       "1  Venta de departamento en décimo piso al frente...   \n",
       "2  2 AMBIENTES 3ER PISO LATERAL LIVING COMEDOR AM...   \n",
       "3  PH 3 ambientes con patio. Hay 3 deptos en lote...   \n",
       "4  DEPARTAMENTO CON FANTÁSTICA ILUMINACIÓN NATURA...   \n",
       "\n",
       "                                               title  \n",
       "0                 2 AMB TIPO CASA SIN EXPENSAS EN PB  \n",
       "1  VENTA Depto 2 dorm. a estrenar 7 e/ 36 y 37   ...  \n",
       "2           2 AMB 3ER PISO CON ASCENSOR APTO CREDITO  \n",
       "3                       PH 3 amb. cfte. reciclado     \n",
       "4  DEPTO 2 AMB AL CONTRAFRENTE ZONA CENTRO/PLAZA ...  "
      ],
      "text/html": "<div>\n<style scoped>\n    .dataframe tbody tr th:only-of-type {\n        vertical-align: middle;\n    }\n\n    .dataframe tbody tr th {\n        vertical-align: top;\n    }\n\n    .dataframe thead th {\n        text-align: right;\n    }\n</style>\n<table border=\"1\" class=\"dataframe\">\n  <thead>\n    <tr style=\"text-align: right;\">\n      <th></th>\n      <th>Unnamed: 0</th>\n      <th>operation</th>\n      <th>property_type</th>\n      <th>place_name</th>\n      <th>place_with_parent_names</th>\n      <th>country_name</th>\n      <th>state_name</th>\n      <th>price</th>\n      <th>currency</th>\n      <th>price_aprox_local_currency</th>\n      <th>price_aprox_usd</th>\n      <th>surface_total_in_m2</th>\n      <th>surface_covered_in_m2</th>\n      <th>price_usd_per_m2</th>\n      <th>price_per_m2</th>\n      <th>floor</th>\n      <th>rooms</th>\n      <th>description</th>\n      <th>title</th>\n    </tr>\n  </thead>\n  <tbody>\n    <tr>\n      <th>0</th>\n      <td>0</td>\n      <td>sell</td>\n      <td>PH</td>\n      <td>Mataderos</td>\n      <td>|Argentina|Capital Federal|Mataderos|</td>\n      <td>Argentina</td>\n      <td>Capital Federal</td>\n      <td>62000.0</td>\n      <td>USD</td>\n      <td>1093959.0</td>\n      <td>62000.0</td>\n      <td>55.0</td>\n      <td>40.0</td>\n      <td>1127.272727</td>\n      <td>1550.000000</td>\n      <td>NaN</td>\n      <td>NaN</td>\n      <td>2 AMBIENTES TIPO CASA PLANTA BAJA POR PASILLO,...</td>\n      <td>2 AMB TIPO CASA SIN EXPENSAS EN PB</td>\n    </tr>\n    <tr>\n      <th>1</th>\n      <td>1</td>\n      <td>sell</td>\n      <td>apartment</td>\n      <td>La Plata</td>\n      <td>|Argentina|Bs.As. G.B.A. Zona Sur|La Plata|</td>\n      <td>Argentina</td>\n      <td>Bs.As. G.B.A. Zona Sur</td>\n      <td>150000.0</td>\n      <td>USD</td>\n      <td>2646675.0</td>\n      <td>150000.0</td>\n      <td>NaN</td>\n      <td>NaN</td>\n      <td>NaN</td>\n      <td>NaN</td>\n      <td>NaN</td>\n      <td>NaN</td>\n      <td>Venta de departamento en décimo piso al frente...</td>\n      <td>VENTA Depto 2 dorm. a estrenar 7 e/ 36 y 37   ...</td>\n    </tr>\n    <tr>\n      <th>2</th>\n      <td>2</td>\n      <td>sell</td>\n      <td>apartment</td>\n      <td>Mataderos</td>\n      <td>|Argentina|Capital Federal|Mataderos|</td>\n      <td>Argentina</td>\n      <td>Capital Federal</td>\n      <td>72000.0</td>\n      <td>USD</td>\n      <td>1270404.0</td>\n      <td>72000.0</td>\n      <td>55.0</td>\n      <td>55.0</td>\n      <td>1309.090909</td>\n      <td>1309.090909</td>\n      <td>NaN</td>\n      <td>NaN</td>\n      <td>2 AMBIENTES 3ER PISO LATERAL LIVING COMEDOR AM...</td>\n      <td>2 AMB 3ER PISO CON ASCENSOR APTO CREDITO</td>\n    </tr>\n    <tr>\n      <th>3</th>\n      <td>3</td>\n      <td>sell</td>\n      <td>PH</td>\n      <td>Liniers</td>\n      <td>|Argentina|Capital Federal|Liniers|</td>\n      <td>Argentina</td>\n      <td>Capital Federal</td>\n      <td>95000.0</td>\n      <td>USD</td>\n      <td>1676227.5</td>\n      <td>95000.0</td>\n      <td>NaN</td>\n      <td>NaN</td>\n      <td>NaN</td>\n      <td>NaN</td>\n      <td>NaN</td>\n      <td>NaN</td>\n      <td>PH 3 ambientes con patio. Hay 3 deptos en lote...</td>\n      <td>PH 3 amb. cfte. reciclado</td>\n    </tr>\n    <tr>\n      <th>4</th>\n      <td>4</td>\n      <td>sell</td>\n      <td>apartment</td>\n      <td>Centro</td>\n      <td>|Argentina|Buenos Aires Costa Atlántica|Mar de...</td>\n      <td>Argentina</td>\n      <td>Buenos Aires Costa Atlántica</td>\n      <td>64000.0</td>\n      <td>USD</td>\n      <td>1129248.0</td>\n      <td>64000.0</td>\n      <td>35.0</td>\n      <td>35.0</td>\n      <td>1828.571429</td>\n      <td>1828.571429</td>\n      <td>NaN</td>\n      <td>NaN</td>\n      <td>DEPARTAMENTO CON FANTÁSTICA ILUMINACIÓN NATURA...</td>\n      <td>DEPTO 2 AMB AL CONTRAFRENTE ZONA CENTRO/PLAZA ...</td>\n    </tr>\n  </tbody>\n</table>\n</div>"
     },
     "metadata": {},
     "execution_count": 16
    }
   ],
   "source": [
    "# Creamos la lista de columnas a filtrar\n",
    "drop_columns = ['properati_url','image_thumbnail','expenses','lat-lon','geonames_id','lat', 'lon']\n",
    "\n",
    "# Creamos una variable nueva para guardar los datos (el cambio se realiza inplace=False)\n",
    "data_filtered = data.drop(drop_columns, axis=1)\n",
    "data_filtered.head(5)"
   ]
  },
  {
   "cell_type": "code",
   "execution_count": 17,
   "metadata": {},
   "outputs": [],
   "source": [
    "# Creamos un diccionario con la nueva agrupación\n",
    "provincia={'Capital Federal':'CABA','Bs.As. G.B.A. Zona Norte': 'Bs. As. G.B.A.', 'Bs.As. G.B.A. Zona Sur':'Bs. As. G.B.A.', 'Córdoba':'Córdoba','Santa Fe':'Santa Fe','Buenos Aires Costa Atlántica':'Buenos Aires', 'Bs.As. G.B.A. Zona Oeste':'Bs. As. G.B.A.', 'Buenos Aires Interior':'Buenos Aires','Río Negro':'Resto del país','Neuquén':'Resto del país', 'Mendoza':'Resto del país', 'Tucumán':'Resto del país', 'Corrientes':'Resto del país', 'Misiones':'Resto del país', 'Entre Ríos':'Resto del país', 'Salta':'Resto del país', 'Chubut':'Resto del país', 'San Luis':'Resto del país', 'La Pampa':'Resto del país','Formosa':'Resto del país','Chaco': 'Resto del país', 'San Juan':'Resto del país','Tierra Del Fuego':'Resto del país', 'Catamarca':'Resto del país', 'Jujuy': 'Resto del país', 'Santa Cruz':'Resto del país', 'La Rioja':'Resto del país', 'Santiago Del Estero':'Resto del país'}"
   ]
  },
  {
   "cell_type": "code",
   "execution_count": 18,
   "metadata": {},
   "outputs": [
    {
     "output_type": "execute_result",
     "data": {
      "text/plain": [
       "        Unnamed: 0 operation property_type place_name  \\\n",
       "8666          8666      sell         house    Pinamar   \n",
       "98704        98704      sell     apartment    Rosario   \n",
       "62852        62852      sell         house      Tigre   \n",
       "100529      100529      sell     apartment      Morón   \n",
       "2867          2867      sell     apartment  Ituzaingó   \n",
       "\n",
       "                                 place_with_parent_names country_name  \\\n",
       "8666    |Argentina|Buenos Aires Costa Atlántica|Pinamar|    Argentina   \n",
       "98704                       |Argentina|Santa Fe|Rosario|    Argentina   \n",
       "62852         |Argentina|Bs.As. G.B.A. Zona Norte|Tigre|    Argentina   \n",
       "100529        |Argentina|Bs.As. G.B.A. Zona Oeste|Morón|    Argentina   \n",
       "2867      |Argentina|Bs.As. G.B.A. Zona Oeste|Ituzaingó|    Argentina   \n",
       "\n",
       "                          state_name     price currency  \\\n",
       "8666    Buenos Aires Costa Atlántica  390000.0      USD   \n",
       "98704                       Santa Fe       NaN      NaN   \n",
       "62852       Bs.As. G.B.A. Zona Norte  360000.0      USD   \n",
       "100529      Bs.As. G.B.A. Zona Oeste   72500.0      USD   \n",
       "2867        Bs.As. G.B.A. Zona Oeste       NaN      NaN   \n",
       "\n",
       "        price_aprox_local_currency  price_aprox_usd  surface_total_in_m2  \\\n",
       "8666                    6881355.00         390000.0                  NaN   \n",
       "98704                          NaN              NaN                 45.0   \n",
       "62852                   6352020.00         360000.0                215.0   \n",
       "100529                  1279226.25          72500.0                 43.0   \n",
       "2867                           NaN              NaN                 36.0   \n",
       "\n",
       "        surface_covered_in_m2  price_usd_per_m2  price_per_m2  floor  rooms  \\\n",
       "8666                    298.0               NaN   1308.724832    NaN    5.0   \n",
       "98704                    45.0               NaN           NaN    NaN    NaN   \n",
       "62852                   170.0       1674.418605   2117.647059    NaN    NaN   \n",
       "100529                   40.0       1686.046512   1812.500000    NaN    NaN   \n",
       "2867                     36.0               NaN           NaN    NaN    2.0   \n",
       "\n",
       "                                              description  \\\n",
       "8666    Propiedad en 3 plantas sobre lote con elevació...   \n",
       "98704   Sergio Villella Inmobiliaria presenta departam...   \n",
       "62852   ***LOTE LAGUNA | PILETA | ACEPTA EN PARTE DE P...   \n",
       "100529  Venta departamento 2 ambientes a estrenar en M...   \n",
       "2867    Venta de Departamento 2 AMBIENTES en Morón, 20...   \n",
       "\n",
       "                                                    title  province_group  \n",
       "8666    · Chalet de 3 Plantas LUMINOSO y MODERNO en Pi...    Buenos Aires  \n",
       "98704                          Departamento - Macrocentro        Santa Fe  \n",
       "62852            Bustamante Prop - Santa Clara Venta Casa  Bs. As. G.B.A.  \n",
       "100529                               Departamento - Moron  Bs. As. G.B.A.  \n",
       "2867    U$D 55.000 - Departamento en Venta - Entre Rio...  Bs. As. G.B.A.  "
      ],
      "text/html": "<div>\n<style scoped>\n    .dataframe tbody tr th:only-of-type {\n        vertical-align: middle;\n    }\n\n    .dataframe tbody tr th {\n        vertical-align: top;\n    }\n\n    .dataframe thead th {\n        text-align: right;\n    }\n</style>\n<table border=\"1\" class=\"dataframe\">\n  <thead>\n    <tr style=\"text-align: right;\">\n      <th></th>\n      <th>Unnamed: 0</th>\n      <th>operation</th>\n      <th>property_type</th>\n      <th>place_name</th>\n      <th>place_with_parent_names</th>\n      <th>country_name</th>\n      <th>state_name</th>\n      <th>price</th>\n      <th>currency</th>\n      <th>price_aprox_local_currency</th>\n      <th>price_aprox_usd</th>\n      <th>surface_total_in_m2</th>\n      <th>surface_covered_in_m2</th>\n      <th>price_usd_per_m2</th>\n      <th>price_per_m2</th>\n      <th>floor</th>\n      <th>rooms</th>\n      <th>description</th>\n      <th>title</th>\n      <th>province_group</th>\n    </tr>\n  </thead>\n  <tbody>\n    <tr>\n      <th>8666</th>\n      <td>8666</td>\n      <td>sell</td>\n      <td>house</td>\n      <td>Pinamar</td>\n      <td>|Argentina|Buenos Aires Costa Atlántica|Pinamar|</td>\n      <td>Argentina</td>\n      <td>Buenos Aires Costa Atlántica</td>\n      <td>390000.0</td>\n      <td>USD</td>\n      <td>6881355.00</td>\n      <td>390000.0</td>\n      <td>NaN</td>\n      <td>298.0</td>\n      <td>NaN</td>\n      <td>1308.724832</td>\n      <td>NaN</td>\n      <td>5.0</td>\n      <td>Propiedad en 3 plantas sobre lote con elevació...</td>\n      <td>· Chalet de 3 Plantas LUMINOSO y MODERNO en Pi...</td>\n      <td>Buenos Aires</td>\n    </tr>\n    <tr>\n      <th>98704</th>\n      <td>98704</td>\n      <td>sell</td>\n      <td>apartment</td>\n      <td>Rosario</td>\n      <td>|Argentina|Santa Fe|Rosario|</td>\n      <td>Argentina</td>\n      <td>Santa Fe</td>\n      <td>NaN</td>\n      <td>NaN</td>\n      <td>NaN</td>\n      <td>NaN</td>\n      <td>45.0</td>\n      <td>45.0</td>\n      <td>NaN</td>\n      <td>NaN</td>\n      <td>NaN</td>\n      <td>NaN</td>\n      <td>Sergio Villella Inmobiliaria presenta departam...</td>\n      <td>Departamento - Macrocentro</td>\n      <td>Santa Fe</td>\n    </tr>\n    <tr>\n      <th>62852</th>\n      <td>62852</td>\n      <td>sell</td>\n      <td>house</td>\n      <td>Tigre</td>\n      <td>|Argentina|Bs.As. G.B.A. Zona Norte|Tigre|</td>\n      <td>Argentina</td>\n      <td>Bs.As. G.B.A. Zona Norte</td>\n      <td>360000.0</td>\n      <td>USD</td>\n      <td>6352020.00</td>\n      <td>360000.0</td>\n      <td>215.0</td>\n      <td>170.0</td>\n      <td>1674.418605</td>\n      <td>2117.647059</td>\n      <td>NaN</td>\n      <td>NaN</td>\n      <td>***LOTE LAGUNA | PILETA | ACEPTA EN PARTE DE P...</td>\n      <td>Bustamante Prop - Santa Clara Venta Casa</td>\n      <td>Bs. As. G.B.A.</td>\n    </tr>\n    <tr>\n      <th>100529</th>\n      <td>100529</td>\n      <td>sell</td>\n      <td>apartment</td>\n      <td>Morón</td>\n      <td>|Argentina|Bs.As. G.B.A. Zona Oeste|Morón|</td>\n      <td>Argentina</td>\n      <td>Bs.As. G.B.A. Zona Oeste</td>\n      <td>72500.0</td>\n      <td>USD</td>\n      <td>1279226.25</td>\n      <td>72500.0</td>\n      <td>43.0</td>\n      <td>40.0</td>\n      <td>1686.046512</td>\n      <td>1812.500000</td>\n      <td>NaN</td>\n      <td>NaN</td>\n      <td>Venta departamento 2 ambientes a estrenar en M...</td>\n      <td>Departamento - Moron</td>\n      <td>Bs. As. G.B.A.</td>\n    </tr>\n    <tr>\n      <th>2867</th>\n      <td>2867</td>\n      <td>sell</td>\n      <td>apartment</td>\n      <td>Ituzaingó</td>\n      <td>|Argentina|Bs.As. G.B.A. Zona Oeste|Ituzaingó|</td>\n      <td>Argentina</td>\n      <td>Bs.As. G.B.A. Zona Oeste</td>\n      <td>NaN</td>\n      <td>NaN</td>\n      <td>NaN</td>\n      <td>NaN</td>\n      <td>36.0</td>\n      <td>36.0</td>\n      <td>NaN</td>\n      <td>NaN</td>\n      <td>NaN</td>\n      <td>2.0</td>\n      <td>Venta de Departamento 2 AMBIENTES en Morón, 20...</td>\n      <td>U$D 55.000 - Departamento en Venta - Entre Rio...</td>\n      <td>Bs. As. G.B.A.</td>\n    </tr>\n  </tbody>\n</table>\n</div>"
     },
     "metadata": {},
     "execution_count": 18
    }
   ],
   "source": [
    "# Mapeamos las provincias con el diccionario y ponermos el grupo en una columna nueva\n",
    "data_filtered['province_group'] = data_filtered.state_name.map(provincia)\n",
    "data_filtered.sample(5)"
   ]
  },
  {
   "source": [
    "<h2>Tomamos solamente CABA para el analisis."
   ],
   "cell_type": "markdown",
   "metadata": {}
  },
  {
   "cell_type": "code",
   "execution_count": 21,
   "metadata": {},
   "outputs": [
    {
     "output_type": "execute_result",
     "data": {
      "text/plain": [
       "   Unnamed: 0 operation property_type place_name  \\\n",
       "0           0      sell            PH  Mataderos   \n",
       "2           2      sell     apartment  Mataderos   \n",
       "3           3      sell            PH    Liniers   \n",
       "\n",
       "                 place_with_parent_names country_name       state_name  \\\n",
       "0  |Argentina|Capital Federal|Mataderos|    Argentina  Capital Federal   \n",
       "2  |Argentina|Capital Federal|Mataderos|    Argentina  Capital Federal   \n",
       "3    |Argentina|Capital Federal|Liniers|    Argentina  Capital Federal   \n",
       "\n",
       "     price currency  price_aprox_local_currency  price_aprox_usd  \\\n",
       "0  62000.0      USD                   1093959.0          62000.0   \n",
       "2  72000.0      USD                   1270404.0          72000.0   \n",
       "3  95000.0      USD                   1676227.5          95000.0   \n",
       "\n",
       "   surface_total_in_m2  surface_covered_in_m2  price_usd_per_m2  price_per_m2  \\\n",
       "0                 55.0                   40.0       1127.272727   1550.000000   \n",
       "2                 55.0                   55.0       1309.090909   1309.090909   \n",
       "3                  NaN                    NaN               NaN           NaN   \n",
       "\n",
       "   floor  rooms                                        description  \\\n",
       "0    NaN    NaN  2 AMBIENTES TIPO CASA PLANTA BAJA POR PASILLO,...   \n",
       "2    NaN    NaN  2 AMBIENTES 3ER PISO LATERAL LIVING COMEDOR AM...   \n",
       "3    NaN    NaN  PH 3 ambientes con patio. Hay 3 deptos en lote...   \n",
       "\n",
       "                                      title  \n",
       "0        2 AMB TIPO CASA SIN EXPENSAS EN PB  \n",
       "2  2 AMB 3ER PISO CON ASCENSOR APTO CREDITO  \n",
       "3              PH 3 amb. cfte. reciclado     "
      ],
      "text/html": "<div>\n<style scoped>\n    .dataframe tbody tr th:only-of-type {\n        vertical-align: middle;\n    }\n\n    .dataframe tbody tr th {\n        vertical-align: top;\n    }\n\n    .dataframe thead th {\n        text-align: right;\n    }\n</style>\n<table border=\"1\" class=\"dataframe\">\n  <thead>\n    <tr style=\"text-align: right;\">\n      <th></th>\n      <th>Unnamed: 0</th>\n      <th>operation</th>\n      <th>property_type</th>\n      <th>place_name</th>\n      <th>place_with_parent_names</th>\n      <th>country_name</th>\n      <th>state_name</th>\n      <th>price</th>\n      <th>currency</th>\n      <th>price_aprox_local_currency</th>\n      <th>price_aprox_usd</th>\n      <th>surface_total_in_m2</th>\n      <th>surface_covered_in_m2</th>\n      <th>price_usd_per_m2</th>\n      <th>price_per_m2</th>\n      <th>floor</th>\n      <th>rooms</th>\n      <th>description</th>\n      <th>title</th>\n    </tr>\n  </thead>\n  <tbody>\n    <tr>\n      <th>0</th>\n      <td>0</td>\n      <td>sell</td>\n      <td>PH</td>\n      <td>Mataderos</td>\n      <td>|Argentina|Capital Federal|Mataderos|</td>\n      <td>Argentina</td>\n      <td>Capital Federal</td>\n      <td>62000.0</td>\n      <td>USD</td>\n      <td>1093959.0</td>\n      <td>62000.0</td>\n      <td>55.0</td>\n      <td>40.0</td>\n      <td>1127.272727</td>\n      <td>1550.000000</td>\n      <td>NaN</td>\n      <td>NaN</td>\n      <td>2 AMBIENTES TIPO CASA PLANTA BAJA POR PASILLO,...</td>\n      <td>2 AMB TIPO CASA SIN EXPENSAS EN PB</td>\n    </tr>\n    <tr>\n      <th>2</th>\n      <td>2</td>\n      <td>sell</td>\n      <td>apartment</td>\n      <td>Mataderos</td>\n      <td>|Argentina|Capital Federal|Mataderos|</td>\n      <td>Argentina</td>\n      <td>Capital Federal</td>\n      <td>72000.0</td>\n      <td>USD</td>\n      <td>1270404.0</td>\n      <td>72000.0</td>\n      <td>55.0</td>\n      <td>55.0</td>\n      <td>1309.090909</td>\n      <td>1309.090909</td>\n      <td>NaN</td>\n      <td>NaN</td>\n      <td>2 AMBIENTES 3ER PISO LATERAL LIVING COMEDOR AM...</td>\n      <td>2 AMB 3ER PISO CON ASCENSOR APTO CREDITO</td>\n    </tr>\n    <tr>\n      <th>3</th>\n      <td>3</td>\n      <td>sell</td>\n      <td>PH</td>\n      <td>Liniers</td>\n      <td>|Argentina|Capital Federal|Liniers|</td>\n      <td>Argentina</td>\n      <td>Capital Federal</td>\n      <td>95000.0</td>\n      <td>USD</td>\n      <td>1676227.5</td>\n      <td>95000.0</td>\n      <td>NaN</td>\n      <td>NaN</td>\n      <td>NaN</td>\n      <td>NaN</td>\n      <td>NaN</td>\n      <td>NaN</td>\n      <td>PH 3 ambientes con patio. Hay 3 deptos en lote...</td>\n      <td>PH 3 amb. cfte. reciclado</td>\n    </tr>\n  </tbody>\n</table>\n</div>"
     },
     "metadata": {},
     "execution_count": 21
    }
   ],
   "source": [
    "# Creamos una máscara y la aplicamos al dataframe anterior para traer los registros que necesitamos\n",
    "data_caba_mask = data_filtered.state_name == 'Capital Federal' \n",
    "\n",
    "data_caba = data_filtered.loc[data_caba_mask, :]\n",
    "\n",
    "# Dropeamos la columna creada anteriormente.\n",
    "data_caba.drop(columns='province_group', inplace=True)\n",
    "\n",
    "# Chequeamos cómo quedaron los datos\n",
    "data_caba.head(3)"
   ]
  },
  {
   "cell_type": "code",
   "execution_count": 22,
   "metadata": {},
   "outputs": [
    {
     "output_type": "execute_result",
     "data": {
      "text/plain": [
       "(32314, 19)"
      ]
     },
     "metadata": {},
     "execution_count": 22
    }
   ],
   "source": [
    "# Vemos la cantidad de datos solamente de CABA.\n",
    "data_caba.shape"
   ]
  }
 ]
}
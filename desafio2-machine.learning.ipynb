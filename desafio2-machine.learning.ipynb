{
 "metadata": {
  "language_info": {
   "codemirror_mode": {
    "name": "ipython",
    "version": 3
   },
   "file_extension": ".py",
   "mimetype": "text/x-python",
   "name": "python",
   "nbconvert_exporter": "python",
   "pygments_lexer": "ipython3",
   "version": "3.8.3-final"
  },
  "orig_nbformat": 2,
  "kernelspec": {
   "name": "python3",
   "display_name": "Python 3",
   "language": "python"
  }
 },
 "nbformat": 4,
 "nbformat_minor": 2,
 "cells": [
  {
   "source": [
    "<h2>Desarrollo del Desafio 2 - Machine Learning\n"
   ],
   "cell_type": "markdown",
   "metadata": {}
  },
  {
   "source": [
    "<h3>Grupo 7\n",
    "\n",
    "<li>Laura Jazmín Chao\n",
    "<li>Juan Nicolás Capistrano\n",
    "<li>Betiana Srur\n",
    "<li>Ignacio Mendieta\n",
    "<li>Marecelo Carrizo"
   ],
   "cell_type": "markdown",
   "metadata": {}
  },
  {
   "source": [
    "**Desafio 2** : Aplicar las tecnicas de Machine Learning para calcular el precio por metro cuadrado de las propiedades."
   ],
   "cell_type": "markdown",
   "metadata": {}
  },
  {
   "cell_type": "code",
   "execution_count": 1,
   "metadata": {},
   "outputs": [],
   "source": [
    "import numpy as np\n",
    "import pandas as pd\n",
    "\n",
    "# Libreria Grafica.\n",
    "%matplotlib inline\n",
    "import seaborn as sns\n",
    "from matplotlib import pyplot as plt\n",
    "\n",
    "# Libreria para analisis ML\n",
    "from sklearn import datasets, linear_model"
   ]
  },
  {
   "cell_type": "code",
   "execution_count": 2,
   "metadata": {},
   "outputs": [
    {
     "output_type": "execute_result",
     "data": {
      "text/plain": [
       "       Unnamed: 0 operation property_type       place_name  \\\n",
       "64252       64252      sell         house            Tigre   \n",
       "80477       80477      sell     apartment          Rosario   \n",
       "85848       85848      sell     apartment           Olivos   \n",
       "69986       69986      sell     apartment  Capital Federal   \n",
       "92136       92136      sell     apartment            Colón   \n",
       "\n",
       "                                 place_with_parent_names country_name  \\\n",
       "64252         |Argentina|Bs.As. G.B.A. Zona Norte|Tigre|    Argentina   \n",
       "80477                       |Argentina|Santa Fe|Rosario|    Argentina   \n",
       "85848  |Argentina|Bs.As. G.B.A. Zona Norte|Vicente Ló...    Argentina   \n",
       "69986                        |Argentina|Capital Federal|    Argentina   \n",
       "92136                       |Argentina|Entre Ríos|Colón|    Argentina   \n",
       "\n",
       "                     state_name  geonames_id                        lat-lon  \\\n",
       "64252  Bs.As. G.B.A. Zona Norte    3427753.0                            NaN   \n",
       "80477                  Santa Fe    3838574.0        -32.9441158,-60.6662684   \n",
       "85848  Bs.As. G.B.A. Zona Norte    3430310.0                            NaN   \n",
       "69986           Capital Federal    3433955.0  -34.6428675967,-58.4376599743   \n",
       "92136                Entre Ríos    3435351.0                            NaN   \n",
       "\n",
       "             lat  ...  surface_covered_in_m2  price_usd_per_m2 price_per_m2  \\\n",
       "64252        NaN  ...                  390.0       3589.743590  3589.743590   \n",
       "80477 -32.944116  ...                   53.0               NaN          NaN   \n",
       "85848        NaN  ...                  157.0       4170.854271  5286.624204   \n",
       "69986 -34.642868  ...                    NaN               NaN          NaN   \n",
       "92136        NaN  ...                   40.0               NaN          NaN   \n",
       "\n",
       "       floor  rooms  expenses  \\\n",
       "64252    NaN    NaN    4000.0   \n",
       "80477    NaN    NaN       NaN   \n",
       "85848    NaN    NaN       NaN   \n",
       "69986    NaN    NaN       NaN   \n",
       "92136    NaN    NaN       NaN   \n",
       "\n",
       "                                           properati_url  \\\n",
       "64252  http://www.properati.com.ar/1aak5_venta_casa_t...   \n",
       "80477  http://www.properati.com.ar/1aww2_venta_depart...   \n",
       "85848  http://www.properati.com.ar/1b3lm_venta_depart...   \n",
       "69986  http://www.properati.com.ar/1aixd_venta_depart...   \n",
       "92136  http://www.properati.com.ar/1bcgr_venta_depart...   \n",
       "\n",
       "                                             description  \\\n",
       "64252  Exelente casa sobre el río en Albanueva, acces...   \n",
       "80477  Unidad monoambiente. Cocina. Estar/comedor. Ba...   \n",
       "85848  Preventa ENTREGA INMEDIATA. Cocheras incluida ...   \n",
       "69986  AVISO LEGAL: Las descripciones arquitectónicas...   \n",
       "92136  DPTOS DESDE EL POZO!  A pocas cuadras del río,...   \n",
       "\n",
       "                                                   title  \\\n",
       "64252     Imperdible casa sobre el rio en barrio cerrado   \n",
       "80477                         Departamento - Macrocentro   \n",
       "85848                Departamento con vista el río 5 amb   \n",
       "69986                        Departamento en P.Chacabuco   \n",
       "92136  Centro de Colón, en zona muy alta y cerca del ...   \n",
       "\n",
       "                                         image_thumbnail  \n",
       "64252  https://thumbs4.properati.com/8/m-rpgt5WlR39j2...  \n",
       "80477  https://thumbs4.properati.com/0/mj3jg93VwY9gqq...  \n",
       "85848  https://thumbs4.properati.com/4/yIqWyL7D4MbyTj...  \n",
       "69986  https://thumbs4.properati.com/5/yyMiu8BHQI9KXC...  \n",
       "92136  https://thumbs4.properati.com/8/0VZxft7lPuNvsU...  \n",
       "\n",
       "[5 rows x 26 columns]"
      ],
      "text/html": "<div>\n<style scoped>\n    .dataframe tbody tr th:only-of-type {\n        vertical-align: middle;\n    }\n\n    .dataframe tbody tr th {\n        vertical-align: top;\n    }\n\n    .dataframe thead th {\n        text-align: right;\n    }\n</style>\n<table border=\"1\" class=\"dataframe\">\n  <thead>\n    <tr style=\"text-align: right;\">\n      <th></th>\n      <th>Unnamed: 0</th>\n      <th>operation</th>\n      <th>property_type</th>\n      <th>place_name</th>\n      <th>place_with_parent_names</th>\n      <th>country_name</th>\n      <th>state_name</th>\n      <th>geonames_id</th>\n      <th>lat-lon</th>\n      <th>lat</th>\n      <th>...</th>\n      <th>surface_covered_in_m2</th>\n      <th>price_usd_per_m2</th>\n      <th>price_per_m2</th>\n      <th>floor</th>\n      <th>rooms</th>\n      <th>expenses</th>\n      <th>properati_url</th>\n      <th>description</th>\n      <th>title</th>\n      <th>image_thumbnail</th>\n    </tr>\n  </thead>\n  <tbody>\n    <tr>\n      <th>64252</th>\n      <td>64252</td>\n      <td>sell</td>\n      <td>house</td>\n      <td>Tigre</td>\n      <td>|Argentina|Bs.As. G.B.A. Zona Norte|Tigre|</td>\n      <td>Argentina</td>\n      <td>Bs.As. G.B.A. Zona Norte</td>\n      <td>3427753.0</td>\n      <td>NaN</td>\n      <td>NaN</td>\n      <td>...</td>\n      <td>390.0</td>\n      <td>3589.743590</td>\n      <td>3589.743590</td>\n      <td>NaN</td>\n      <td>NaN</td>\n      <td>4000.0</td>\n      <td>http://www.properati.com.ar/1aak5_venta_casa_t...</td>\n      <td>Exelente casa sobre el río en Albanueva, acces...</td>\n      <td>Imperdible casa sobre el rio en barrio cerrado</td>\n      <td>https://thumbs4.properati.com/8/m-rpgt5WlR39j2...</td>\n    </tr>\n    <tr>\n      <th>80477</th>\n      <td>80477</td>\n      <td>sell</td>\n      <td>apartment</td>\n      <td>Rosario</td>\n      <td>|Argentina|Santa Fe|Rosario|</td>\n      <td>Argentina</td>\n      <td>Santa Fe</td>\n      <td>3838574.0</td>\n      <td>-32.9441158,-60.6662684</td>\n      <td>-32.944116</td>\n      <td>...</td>\n      <td>53.0</td>\n      <td>NaN</td>\n      <td>NaN</td>\n      <td>NaN</td>\n      <td>NaN</td>\n      <td>NaN</td>\n      <td>http://www.properati.com.ar/1aww2_venta_depart...</td>\n      <td>Unidad monoambiente. Cocina. Estar/comedor. Ba...</td>\n      <td>Departamento - Macrocentro</td>\n      <td>https://thumbs4.properati.com/0/mj3jg93VwY9gqq...</td>\n    </tr>\n    <tr>\n      <th>85848</th>\n      <td>85848</td>\n      <td>sell</td>\n      <td>apartment</td>\n      <td>Olivos</td>\n      <td>|Argentina|Bs.As. G.B.A. Zona Norte|Vicente Ló...</td>\n      <td>Argentina</td>\n      <td>Bs.As. G.B.A. Zona Norte</td>\n      <td>3430310.0</td>\n      <td>NaN</td>\n      <td>NaN</td>\n      <td>...</td>\n      <td>157.0</td>\n      <td>4170.854271</td>\n      <td>5286.624204</td>\n      <td>NaN</td>\n      <td>NaN</td>\n      <td>NaN</td>\n      <td>http://www.properati.com.ar/1b3lm_venta_depart...</td>\n      <td>Preventa ENTREGA INMEDIATA. Cocheras incluida ...</td>\n      <td>Departamento con vista el río 5 amb</td>\n      <td>https://thumbs4.properati.com/4/yIqWyL7D4MbyTj...</td>\n    </tr>\n    <tr>\n      <th>69986</th>\n      <td>69986</td>\n      <td>sell</td>\n      <td>apartment</td>\n      <td>Capital Federal</td>\n      <td>|Argentina|Capital Federal|</td>\n      <td>Argentina</td>\n      <td>Capital Federal</td>\n      <td>3433955.0</td>\n      <td>-34.6428675967,-58.4376599743</td>\n      <td>-34.642868</td>\n      <td>...</td>\n      <td>NaN</td>\n      <td>NaN</td>\n      <td>NaN</td>\n      <td>NaN</td>\n      <td>NaN</td>\n      <td>NaN</td>\n      <td>http://www.properati.com.ar/1aixd_venta_depart...</td>\n      <td>AVISO LEGAL: Las descripciones arquitectónicas...</td>\n      <td>Departamento en P.Chacabuco</td>\n      <td>https://thumbs4.properati.com/5/yyMiu8BHQI9KXC...</td>\n    </tr>\n    <tr>\n      <th>92136</th>\n      <td>92136</td>\n      <td>sell</td>\n      <td>apartment</td>\n      <td>Colón</td>\n      <td>|Argentina|Entre Ríos|Colón|</td>\n      <td>Argentina</td>\n      <td>Entre Ríos</td>\n      <td>3435351.0</td>\n      <td>NaN</td>\n      <td>NaN</td>\n      <td>...</td>\n      <td>40.0</td>\n      <td>NaN</td>\n      <td>NaN</td>\n      <td>NaN</td>\n      <td>NaN</td>\n      <td>NaN</td>\n      <td>http://www.properati.com.ar/1bcgr_venta_depart...</td>\n      <td>DPTOS DESDE EL POZO!  A pocas cuadras del río,...</td>\n      <td>Centro de Colón, en zona muy alta y cerca del ...</td>\n      <td>https://thumbs4.properati.com/8/0VZxft7lPuNvsU...</td>\n    </tr>\n  </tbody>\n</table>\n<p>5 rows × 26 columns</p>\n</div>"
     },
     "metadata": {},
     "execution_count": 2
    }
   ],
   "source": [
    "# Definimos la ruta de la información.\n",
    "data_propiedades = \"Data/properati.csv\"\n",
    "\n",
    "# Leemos los datos del archivo\n",
    "data = pd.read_csv(data_propiedades, sep=\",\", encoding=\"UTF-8\")\n",
    "\n",
    "# Chequeamos que los datos se hayan importado correctamente\n",
    "data.sample(5)"
   ]
  },
  {
   "cell_type": "code",
   "execution_count": 3,
   "metadata": {},
   "outputs": [
    {
     "output_type": "execute_result",
     "data": {
      "text/plain": [
       "(121220, 26)"
      ]
     },
     "metadata": {},
     "execution_count": 3
    }
   ],
   "source": [
    "# Chequeamos cantidad de registros y cantidad de columnas\n",
    "data.shape"
   ]
  },
  {
   "source": [
    "<h2>Limpieza de Datos."
   ],
   "cell_type": "markdown",
   "metadata": {}
  },
  {
   "cell_type": "code",
   "execution_count": 4,
   "metadata": {},
   "outputs": [
    {
     "output_type": "execute_result",
     "data": {
      "text/plain": [
       "        Unnamed: 0 operation property_type       place_name  \\\n",
       "50387        50387      sell     apartment  Capital Federal   \n",
       "50388        50388      sell     apartment  Capital Federal   \n",
       "107390      107390      sell         house        San Roque   \n",
       "\n",
       "              place_with_parent_names country_name       state_name  \\\n",
       "50387     |Argentina|Capital Federal|    Argentina  Capital Federal   \n",
       "50388     |Argentina|Capital Federal|    Argentina  Capital Federal   \n",
       "107390  |Argentina|Mendoza|San Roque|    Argentina          Mendoza   \n",
       "\n",
       "        geonames_id lat-lon  lat  ...  surface_covered_in_m2  \\\n",
       "50387     3433955.0     NaN  NaN  ...                    NaN   \n",
       "50388     3433955.0     NaN  NaN  ...                    NaN   \n",
       "107390    3836586.0     NaN  NaN  ...                    NaN   \n",
       "\n",
       "        price_usd_per_m2 price_per_m2  floor  rooms  expenses  \\\n",
       "50387                NaN          NaN    NaN    NaN       NaN   \n",
       "50388                NaN          NaN    NaN    NaN       NaN   \n",
       "107390               NaN          NaN    NaN    NaN       NaN   \n",
       "\n",
       "                                            properati_url  \\\n",
       "50387   http://www.properati.com.ar/19e8z_venta_depart...   \n",
       "50388   http://www.properati.com.ar/19e90_venta_depart...   \n",
       "107390  http://www.properati.com.ar/1by0s_venta_casa_s...   \n",
       "\n",
       "                                              description  \\\n",
       "50387   Ref.: 55:PREVENTA ::: OPORTUNIDAD ::: Dúplex a...   \n",
       "50388   Ref.: 56Duplex en venta de 1 dormitorio con ap...   \n",
       "107390  Casa con Calefacción central, Mendoza, San Roq...   \n",
       "\n",
       "                                            title  \\\n",
       "50387   DUPLEX A LA VENTA | Liniers 1200 | Tandil   \n",
       "50388   DUPLEX A LA VENTA | Liniers 1200 | Tandil   \n",
       "107390                         Casa - San Vicente   \n",
       "\n",
       "                                          image_thumbnail  \n",
       "50387   https://thumbs4.properati.com/9/N_Qr_5X_vOq--b...  \n",
       "50388   https://thumbs4.properati.com/8/_cBXAyr_9pDySg...  \n",
       "107390  https://thumbs4.properati.com/2/pA0RbuDKRK6GgV...  \n",
       "\n",
       "[3 rows x 26 columns]"
      ],
      "text/html": "<div>\n<style scoped>\n    .dataframe tbody tr th:only-of-type {\n        vertical-align: middle;\n    }\n\n    .dataframe tbody tr th {\n        vertical-align: top;\n    }\n\n    .dataframe thead th {\n        text-align: right;\n    }\n</style>\n<table border=\"1\" class=\"dataframe\">\n  <thead>\n    <tr style=\"text-align: right;\">\n      <th></th>\n      <th>Unnamed: 0</th>\n      <th>operation</th>\n      <th>property_type</th>\n      <th>place_name</th>\n      <th>place_with_parent_names</th>\n      <th>country_name</th>\n      <th>state_name</th>\n      <th>geonames_id</th>\n      <th>lat-lon</th>\n      <th>lat</th>\n      <th>...</th>\n      <th>surface_covered_in_m2</th>\n      <th>price_usd_per_m2</th>\n      <th>price_per_m2</th>\n      <th>floor</th>\n      <th>rooms</th>\n      <th>expenses</th>\n      <th>properati_url</th>\n      <th>description</th>\n      <th>title</th>\n      <th>image_thumbnail</th>\n    </tr>\n  </thead>\n  <tbody>\n    <tr>\n      <th>50387</th>\n      <td>50387</td>\n      <td>sell</td>\n      <td>apartment</td>\n      <td>Capital Federal</td>\n      <td>|Argentina|Capital Federal|</td>\n      <td>Argentina</td>\n      <td>Capital Federal</td>\n      <td>3433955.0</td>\n      <td>NaN</td>\n      <td>NaN</td>\n      <td>...</td>\n      <td>NaN</td>\n      <td>NaN</td>\n      <td>NaN</td>\n      <td>NaN</td>\n      <td>NaN</td>\n      <td>NaN</td>\n      <td>http://www.properati.com.ar/19e8z_venta_depart...</td>\n      <td>Ref.: 55:PREVENTA ::: OPORTUNIDAD ::: Dúplex a...</td>\n      <td>DUPLEX A LA VENTA | Liniers 1200 | Tandil</td>\n      <td>https://thumbs4.properati.com/9/N_Qr_5X_vOq--b...</td>\n    </tr>\n    <tr>\n      <th>50388</th>\n      <td>50388</td>\n      <td>sell</td>\n      <td>apartment</td>\n      <td>Capital Federal</td>\n      <td>|Argentina|Capital Federal|</td>\n      <td>Argentina</td>\n      <td>Capital Federal</td>\n      <td>3433955.0</td>\n      <td>NaN</td>\n      <td>NaN</td>\n      <td>...</td>\n      <td>NaN</td>\n      <td>NaN</td>\n      <td>NaN</td>\n      <td>NaN</td>\n      <td>NaN</td>\n      <td>NaN</td>\n      <td>http://www.properati.com.ar/19e90_venta_depart...</td>\n      <td>Ref.: 56Duplex en venta de 1 dormitorio con ap...</td>\n      <td>DUPLEX A LA VENTA | Liniers 1200 | Tandil</td>\n      <td>https://thumbs4.properati.com/8/_cBXAyr_9pDySg...</td>\n    </tr>\n    <tr>\n      <th>107390</th>\n      <td>107390</td>\n      <td>sell</td>\n      <td>house</td>\n      <td>San Roque</td>\n      <td>|Argentina|Mendoza|San Roque|</td>\n      <td>Argentina</td>\n      <td>Mendoza</td>\n      <td>3836586.0</td>\n      <td>NaN</td>\n      <td>NaN</td>\n      <td>...</td>\n      <td>NaN</td>\n      <td>NaN</td>\n      <td>NaN</td>\n      <td>NaN</td>\n      <td>NaN</td>\n      <td>NaN</td>\n      <td>http://www.properati.com.ar/1by0s_venta_casa_s...</td>\n      <td>Casa con Calefacción central, Mendoza, San Roq...</td>\n      <td>Casa - San Vicente</td>\n      <td>https://thumbs4.properati.com/2/pA0RbuDKRK6GgV...</td>\n    </tr>\n  </tbody>\n</table>\n<p>3 rows × 26 columns</p>\n</div>"
     },
     "metadata": {},
     "execution_count": 4
    }
   ],
   "source": [
    "# Creamos una mask para traer los valores en monedas que no son USD ni ARS.\n",
    "currency_OTHER_CURRENCY_mask = (data.currency == 'PEN') | (data.currency == 'UYU')\n",
    "# Observamos esos registros\n",
    "data.loc[currency_OTHER_CURRENCY_mask, :]"
   ]
  },
  {
   "cell_type": "code",
   "execution_count": 5,
   "metadata": {},
   "outputs": [
    {
     "output_type": "stream",
     "name": "stdout",
     "text": [
      "Cantidad de registros original - registro actuales: 3\n"
     ]
    }
   ],
   "source": [
    "# Hacemos drop de esos registros y chequeamos la diferencia entre cantidad original y actual\n",
    "cant_registros = data.shape[0]\n",
    "data.drop(data.loc[currency_OTHER_CURRENCY_mask, :].index, inplace = True)\n",
    "print(f'Cantidad de registros original - registro actuales: {cant_registros - data.shape[0]}')"
   ]
  },
  {
   "cell_type": "code",
   "execution_count": 6,
   "metadata": {},
   "outputs": [
    {
     "output_type": "execute_result",
     "data": {
      "text/plain": [
       "  property_type place_name                            place_with_parent_names  \\\n",
       "0            PH  Mataderos              |Argentina|Capital Federal|Mataderos|   \n",
       "1     apartment   La Plata        |Argentina|Bs.As. G.B.A. Zona Sur|La Plata|   \n",
       "2     apartment  Mataderos              |Argentina|Capital Federal|Mataderos|   \n",
       "3            PH    Liniers                |Argentina|Capital Federal|Liniers|   \n",
       "4     apartment     Centro  |Argentina|Buenos Aires Costa Atlántica|Mar de...   \n",
       "\n",
       "  country_name                    state_name     price currency  \\\n",
       "0    Argentina               Capital Federal   62000.0      USD   \n",
       "1    Argentina        Bs.As. G.B.A. Zona Sur  150000.0      USD   \n",
       "2    Argentina               Capital Federal   72000.0      USD   \n",
       "3    Argentina               Capital Federal   95000.0      USD   \n",
       "4    Argentina  Buenos Aires Costa Atlántica   64000.0      USD   \n",
       "\n",
       "   price_aprox_local_currency  price_aprox_usd  surface_total_in_m2  \\\n",
       "0                   1093959.0          62000.0                 55.0   \n",
       "1                   2646675.0         150000.0                  NaN   \n",
       "2                   1270404.0          72000.0                 55.0   \n",
       "3                   1676227.5          95000.0                  NaN   \n",
       "4                   1129248.0          64000.0                 35.0   \n",
       "\n",
       "   surface_covered_in_m2  price_usd_per_m2  price_per_m2  floor  rooms  \\\n",
       "0                   40.0       1127.272727   1550.000000    NaN    NaN   \n",
       "1                    NaN               NaN           NaN    NaN    NaN   \n",
       "2                   55.0       1309.090909   1309.090909    NaN    NaN   \n",
       "3                    NaN               NaN           NaN    NaN    NaN   \n",
       "4                   35.0       1828.571429   1828.571429    NaN    NaN   \n",
       "\n",
       "                                         description  \\\n",
       "0  2 AMBIENTES TIPO CASA PLANTA BAJA POR PASILLO,...   \n",
       "1  Venta de departamento en décimo piso al frente...   \n",
       "2  2 AMBIENTES 3ER PISO LATERAL LIVING COMEDOR AM...   \n",
       "3  PH 3 ambientes con patio. Hay 3 deptos en lote...   \n",
       "4  DEPARTAMENTO CON FANTÁSTICA ILUMINACIÓN NATURA...   \n",
       "\n",
       "                                               title  \n",
       "0                 2 AMB TIPO CASA SIN EXPENSAS EN PB  \n",
       "1  VENTA Depto 2 dorm. a estrenar 7 e/ 36 y 37   ...  \n",
       "2           2 AMB 3ER PISO CON ASCENSOR APTO CREDITO  \n",
       "3                       PH 3 amb. cfte. reciclado     \n",
       "4  DEPTO 2 AMB AL CONTRAFRENTE ZONA CENTRO/PLAZA ...  "
      ],
      "text/html": "<div>\n<style scoped>\n    .dataframe tbody tr th:only-of-type {\n        vertical-align: middle;\n    }\n\n    .dataframe tbody tr th {\n        vertical-align: top;\n    }\n\n    .dataframe thead th {\n        text-align: right;\n    }\n</style>\n<table border=\"1\" class=\"dataframe\">\n  <thead>\n    <tr style=\"text-align: right;\">\n      <th></th>\n      <th>property_type</th>\n      <th>place_name</th>\n      <th>place_with_parent_names</th>\n      <th>country_name</th>\n      <th>state_name</th>\n      <th>price</th>\n      <th>currency</th>\n      <th>price_aprox_local_currency</th>\n      <th>price_aprox_usd</th>\n      <th>surface_total_in_m2</th>\n      <th>surface_covered_in_m2</th>\n      <th>price_usd_per_m2</th>\n      <th>price_per_m2</th>\n      <th>floor</th>\n      <th>rooms</th>\n      <th>description</th>\n      <th>title</th>\n    </tr>\n  </thead>\n  <tbody>\n    <tr>\n      <th>0</th>\n      <td>PH</td>\n      <td>Mataderos</td>\n      <td>|Argentina|Capital Federal|Mataderos|</td>\n      <td>Argentina</td>\n      <td>Capital Federal</td>\n      <td>62000.0</td>\n      <td>USD</td>\n      <td>1093959.0</td>\n      <td>62000.0</td>\n      <td>55.0</td>\n      <td>40.0</td>\n      <td>1127.272727</td>\n      <td>1550.000000</td>\n      <td>NaN</td>\n      <td>NaN</td>\n      <td>2 AMBIENTES TIPO CASA PLANTA BAJA POR PASILLO,...</td>\n      <td>2 AMB TIPO CASA SIN EXPENSAS EN PB</td>\n    </tr>\n    <tr>\n      <th>1</th>\n      <td>apartment</td>\n      <td>La Plata</td>\n      <td>|Argentina|Bs.As. G.B.A. Zona Sur|La Plata|</td>\n      <td>Argentina</td>\n      <td>Bs.As. G.B.A. Zona Sur</td>\n      <td>150000.0</td>\n      <td>USD</td>\n      <td>2646675.0</td>\n      <td>150000.0</td>\n      <td>NaN</td>\n      <td>NaN</td>\n      <td>NaN</td>\n      <td>NaN</td>\n      <td>NaN</td>\n      <td>NaN</td>\n      <td>Venta de departamento en décimo piso al frente...</td>\n      <td>VENTA Depto 2 dorm. a estrenar 7 e/ 36 y 37   ...</td>\n    </tr>\n    <tr>\n      <th>2</th>\n      <td>apartment</td>\n      <td>Mataderos</td>\n      <td>|Argentina|Capital Federal|Mataderos|</td>\n      <td>Argentina</td>\n      <td>Capital Federal</td>\n      <td>72000.0</td>\n      <td>USD</td>\n      <td>1270404.0</td>\n      <td>72000.0</td>\n      <td>55.0</td>\n      <td>55.0</td>\n      <td>1309.090909</td>\n      <td>1309.090909</td>\n      <td>NaN</td>\n      <td>NaN</td>\n      <td>2 AMBIENTES 3ER PISO LATERAL LIVING COMEDOR AM...</td>\n      <td>2 AMB 3ER PISO CON ASCENSOR APTO CREDITO</td>\n    </tr>\n    <tr>\n      <th>3</th>\n      <td>PH</td>\n      <td>Liniers</td>\n      <td>|Argentina|Capital Federal|Liniers|</td>\n      <td>Argentina</td>\n      <td>Capital Federal</td>\n      <td>95000.0</td>\n      <td>USD</td>\n      <td>1676227.5</td>\n      <td>95000.0</td>\n      <td>NaN</td>\n      <td>NaN</td>\n      <td>NaN</td>\n      <td>NaN</td>\n      <td>NaN</td>\n      <td>NaN</td>\n      <td>PH 3 ambientes con patio. Hay 3 deptos en lote...</td>\n      <td>PH 3 amb. cfte. reciclado</td>\n    </tr>\n    <tr>\n      <th>4</th>\n      <td>apartment</td>\n      <td>Centro</td>\n      <td>|Argentina|Buenos Aires Costa Atlántica|Mar de...</td>\n      <td>Argentina</td>\n      <td>Buenos Aires Costa Atlántica</td>\n      <td>64000.0</td>\n      <td>USD</td>\n      <td>1129248.0</td>\n      <td>64000.0</td>\n      <td>35.0</td>\n      <td>35.0</td>\n      <td>1828.571429</td>\n      <td>1828.571429</td>\n      <td>NaN</td>\n      <td>NaN</td>\n      <td>DEPARTAMENTO CON FANTÁSTICA ILUMINACIÓN NATURA...</td>\n      <td>DEPTO 2 AMB AL CONTRAFRENTE ZONA CENTRO/PLAZA ...</td>\n    </tr>\n  </tbody>\n</table>\n</div>"
     },
     "metadata": {},
     "execution_count": 6
    }
   ],
   "source": [
    "# Creamos la lista de columnas a filtrar\n",
    "drop_columns = ['properati_url', 'Unnamed: 0', 'operation','image_thumbnail','expenses','lat-lon','geonames_id','lat', 'lon']\n",
    "\n",
    "# Creamos una variable nueva para guardar los datos (el cambio se realiza inplace=False)\n",
    "data_filtered = data.drop(drop_columns, axis=1)\n",
    "data_filtered.head(5)"
   ]
  },
  {
   "source": [
    "**Esto no es necesario ahora ¿?**"
   ],
   "cell_type": "markdown",
   "metadata": {}
  },
  {
   "cell_type": "code",
   "execution_count": 7,
   "metadata": {},
   "outputs": [],
   "source": [
    "# Creamos un diccionario con la nueva agrupación\n",
    "provincia={'Capital Federal':'CABA','Bs.As. G.B.A. Zona Norte': 'Bs. As. G.B.A.', 'Bs.As. G.B.A. Zona Sur':'Bs. As. G.B.A.', 'Córdoba':'Córdoba','Santa Fe':'Santa Fe','Buenos Aires Costa Atlántica':'Buenos Aires', 'Bs.As. G.B.A. Zona Oeste':'Bs. As. G.B.A.', 'Buenos Aires Interior':'Buenos Aires','Río Negro':'Resto del país','Neuquén':'Resto del país', 'Mendoza':'Resto del país', 'Tucumán':'Resto del país', 'Corrientes':'Resto del país', 'Misiones':'Resto del país', 'Entre Ríos':'Resto del país', 'Salta':'Resto del país', 'Chubut':'Resto del país', 'San Luis':'Resto del país', 'La Pampa':'Resto del país','Formosa':'Resto del país','Chaco': 'Resto del país', 'San Juan':'Resto del país','Tierra Del Fuego':'Resto del país', 'Catamarca':'Resto del país', 'Jujuy': 'Resto del país', 'Santa Cruz':'Resto del país', 'La Rioja':'Resto del país', 'Santiago Del Estero':'Resto del país'}"
   ]
  },
  {
   "cell_type": "code",
   "execution_count": 8,
   "metadata": {},
   "outputs": [
    {
     "output_type": "display_data",
     "data": {
      "text/plain": "       property_type         place_name  \\\n16650      apartment            Quilmes   \n32373      apartment            Posadas   \n104255     apartment  Rincón de Milberg   \n117068     apartment            Córdoba   \n97756      apartment              Pilar   \n\n                                  place_with_parent_names country_name  \\\n16650          |Argentina|Bs.As. G.B.A. Zona Sur|Quilmes|    Argentina   \n32373                        |Argentina|Misiones|Posadas|    Argentina   \n104255  |Argentina|Bs.As. G.B.A. Zona Norte|Tigre|Rinc...    Argentina   \n117068                        |Argentina|Córdoba|Córdoba|    Argentina   \n97756          |Argentina|Bs.As. G.B.A. Zona Norte|Pilar|    Argentina   \n\n                      state_name     price currency  \\\n16650     Bs.As. G.B.A. Zona Sur   89500.0      USD   \n32373                   Misiones   40000.0      USD   \n104255  Bs.As. G.B.A. Zona Norte  117000.0      USD   \n117068                   Córdoba   83640.0      USD   \n97756   Bs.As. G.B.A. Zona Norte  150000.0      USD   \n\n        price_aprox_local_currency  price_aprox_usd  surface_total_in_m2  \\\n16650                   1579182.75          89500.0                  NaN   \n32373                    705780.00          40000.0                  NaN   \n104255                  2064406.50         117000.0                 84.0   \n117068                  1475785.98          83640.0                  NaN   \n97756                   2646675.00         150000.0                  NaN   \n\n        surface_covered_in_m2  price_usd_per_m2  price_per_m2  floor  rooms  \\\n16650                    36.0               NaN   2486.111111    NaN    1.0   \n32373                    30.0               NaN   1333.333333    NaN    NaN   \n104255                   79.0       1392.857143   1481.012658    NaN    NaN   \n117068                   53.0               NaN   1578.113208    1.0    1.0   \n97756                     NaN               NaN           NaN    NaN    NaN   \n\n                                              description  \\\n16650   Corredor Responsable: Marcelo Trujillo - CUCIC...   \n32373   Contacto: Karla Gonzalez - MLS ID # 420381004-...   \n104255  Emprendimiento de pozo. Sobre la calle Rivadav...   \n117068        Departamento en Venta de 1 dorm. en Cordoba   \n97756   Muy lindo departamento en venta en planta alta...   \n\n                                                    title  province_group  \n16650               Departamento Bernal Centro a estrenar  Bs. As. G.B.A.  \n32373                          Venta Monoambiente Posadas  Resto del país  \n104255  Edificio Rivadavia - Departamento tipo duplex ...  Bs. As. G.B.A.  \n117068                 CASA BLANCA CONSTRUCCIÓN EN ALTURA         Córdoba  \n97756            Departamento de 2 ambientes en La Quadra  Bs. As. G.B.A.  ",
      "text/html": "<div>\n<style scoped>\n    .dataframe tbody tr th:only-of-type {\n        vertical-align: middle;\n    }\n\n    .dataframe tbody tr th {\n        vertical-align: top;\n    }\n\n    .dataframe thead th {\n        text-align: right;\n    }\n</style>\n<table border=\"1\" class=\"dataframe\">\n  <thead>\n    <tr style=\"text-align: right;\">\n      <th></th>\n      <th>property_type</th>\n      <th>place_name</th>\n      <th>place_with_parent_names</th>\n      <th>country_name</th>\n      <th>state_name</th>\n      <th>price</th>\n      <th>currency</th>\n      <th>price_aprox_local_currency</th>\n      <th>price_aprox_usd</th>\n      <th>surface_total_in_m2</th>\n      <th>surface_covered_in_m2</th>\n      <th>price_usd_per_m2</th>\n      <th>price_per_m2</th>\n      <th>floor</th>\n      <th>rooms</th>\n      <th>description</th>\n      <th>title</th>\n      <th>province_group</th>\n    </tr>\n  </thead>\n  <tbody>\n    <tr>\n      <th>16650</th>\n      <td>apartment</td>\n      <td>Quilmes</td>\n      <td>|Argentina|Bs.As. G.B.A. Zona Sur|Quilmes|</td>\n      <td>Argentina</td>\n      <td>Bs.As. G.B.A. Zona Sur</td>\n      <td>89500.0</td>\n      <td>USD</td>\n      <td>1579182.75</td>\n      <td>89500.0</td>\n      <td>NaN</td>\n      <td>36.0</td>\n      <td>NaN</td>\n      <td>2486.111111</td>\n      <td>NaN</td>\n      <td>1.0</td>\n      <td>Corredor Responsable: Marcelo Trujillo - CUCIC...</td>\n      <td>Departamento Bernal Centro a estrenar</td>\n      <td>Bs. As. G.B.A.</td>\n    </tr>\n    <tr>\n      <th>32373</th>\n      <td>apartment</td>\n      <td>Posadas</td>\n      <td>|Argentina|Misiones|Posadas|</td>\n      <td>Argentina</td>\n      <td>Misiones</td>\n      <td>40000.0</td>\n      <td>USD</td>\n      <td>705780.00</td>\n      <td>40000.0</td>\n      <td>NaN</td>\n      <td>30.0</td>\n      <td>NaN</td>\n      <td>1333.333333</td>\n      <td>NaN</td>\n      <td>NaN</td>\n      <td>Contacto: Karla Gonzalez - MLS ID # 420381004-...</td>\n      <td>Venta Monoambiente Posadas</td>\n      <td>Resto del país</td>\n    </tr>\n    <tr>\n      <th>104255</th>\n      <td>apartment</td>\n      <td>Rincón de Milberg</td>\n      <td>|Argentina|Bs.As. G.B.A. Zona Norte|Tigre|Rinc...</td>\n      <td>Argentina</td>\n      <td>Bs.As. G.B.A. Zona Norte</td>\n      <td>117000.0</td>\n      <td>USD</td>\n      <td>2064406.50</td>\n      <td>117000.0</td>\n      <td>84.0</td>\n      <td>79.0</td>\n      <td>1392.857143</td>\n      <td>1481.012658</td>\n      <td>NaN</td>\n      <td>NaN</td>\n      <td>Emprendimiento de pozo. Sobre la calle Rivadav...</td>\n      <td>Edificio Rivadavia - Departamento tipo duplex ...</td>\n      <td>Bs. As. G.B.A.</td>\n    </tr>\n    <tr>\n      <th>117068</th>\n      <td>apartment</td>\n      <td>Córdoba</td>\n      <td>|Argentina|Córdoba|Córdoba|</td>\n      <td>Argentina</td>\n      <td>Córdoba</td>\n      <td>83640.0</td>\n      <td>USD</td>\n      <td>1475785.98</td>\n      <td>83640.0</td>\n      <td>NaN</td>\n      <td>53.0</td>\n      <td>NaN</td>\n      <td>1578.113208</td>\n      <td>1.0</td>\n      <td>1.0</td>\n      <td>Departamento en Venta de 1 dorm. en Cordoba</td>\n      <td>CASA BLANCA CONSTRUCCIÓN EN ALTURA</td>\n      <td>Córdoba</td>\n    </tr>\n    <tr>\n      <th>97756</th>\n      <td>apartment</td>\n      <td>Pilar</td>\n      <td>|Argentina|Bs.As. G.B.A. Zona Norte|Pilar|</td>\n      <td>Argentina</td>\n      <td>Bs.As. G.B.A. Zona Norte</td>\n      <td>150000.0</td>\n      <td>USD</td>\n      <td>2646675.00</td>\n      <td>150000.0</td>\n      <td>NaN</td>\n      <td>NaN</td>\n      <td>NaN</td>\n      <td>NaN</td>\n      <td>NaN</td>\n      <td>NaN</td>\n      <td>Muy lindo departamento en venta en planta alta...</td>\n      <td>Departamento de 2 ambientes en La Quadra</td>\n      <td>Bs. As. G.B.A.</td>\n    </tr>\n  </tbody>\n</table>\n</div>"
     },
     "metadata": {}
    }
   ],
   "source": [
    "# Mapeamos las provincias con el diccionario y ponermos el grupo en una columna nueva\n",
    "data_filtered['province_group'] = data_filtered.state_name.map(provincia)\n",
    "display(data_filtered.sample(5))\n"
   ]
  },
  {
   "source": [
    "<h2>Tomamos solamente CABA para el analisis."
   ],
   "cell_type": "markdown",
   "metadata": {}
  },
  {
   "cell_type": "code",
   "execution_count": 9,
   "metadata": {},
   "outputs": [
    {
     "output_type": "execute_result",
     "data": {
      "text/plain": [
       "  property_type place_name    price currency  price_aprox_local_currency  \\\n",
       "0            PH  Mataderos  62000.0      USD                   1093959.0   \n",
       "2     apartment  Mataderos  72000.0      USD                   1270404.0   \n",
       "3            PH    Liniers  95000.0      USD                   1676227.5   \n",
       "\n",
       "   price_aprox_usd  surface_total_in_m2  surface_covered_in_m2  \\\n",
       "0          62000.0                 55.0                   40.0   \n",
       "2          72000.0                 55.0                   55.0   \n",
       "3          95000.0                  NaN                    NaN   \n",
       "\n",
       "   price_usd_per_m2  price_per_m2  floor  rooms  \n",
       "0       1127.272727   1550.000000    NaN    NaN  \n",
       "2       1309.090909   1309.090909    NaN    NaN  \n",
       "3               NaN           NaN    NaN    NaN  "
      ],
      "text/html": "<div>\n<style scoped>\n    .dataframe tbody tr th:only-of-type {\n        vertical-align: middle;\n    }\n\n    .dataframe tbody tr th {\n        vertical-align: top;\n    }\n\n    .dataframe thead th {\n        text-align: right;\n    }\n</style>\n<table border=\"1\" class=\"dataframe\">\n  <thead>\n    <tr style=\"text-align: right;\">\n      <th></th>\n      <th>property_type</th>\n      <th>place_name</th>\n      <th>price</th>\n      <th>currency</th>\n      <th>price_aprox_local_currency</th>\n      <th>price_aprox_usd</th>\n      <th>surface_total_in_m2</th>\n      <th>surface_covered_in_m2</th>\n      <th>price_usd_per_m2</th>\n      <th>price_per_m2</th>\n      <th>floor</th>\n      <th>rooms</th>\n    </tr>\n  </thead>\n  <tbody>\n    <tr>\n      <th>0</th>\n      <td>PH</td>\n      <td>Mataderos</td>\n      <td>62000.0</td>\n      <td>USD</td>\n      <td>1093959.0</td>\n      <td>62000.0</td>\n      <td>55.0</td>\n      <td>40.0</td>\n      <td>1127.272727</td>\n      <td>1550.000000</td>\n      <td>NaN</td>\n      <td>NaN</td>\n    </tr>\n    <tr>\n      <th>2</th>\n      <td>apartment</td>\n      <td>Mataderos</td>\n      <td>72000.0</td>\n      <td>USD</td>\n      <td>1270404.0</td>\n      <td>72000.0</td>\n      <td>55.0</td>\n      <td>55.0</td>\n      <td>1309.090909</td>\n      <td>1309.090909</td>\n      <td>NaN</td>\n      <td>NaN</td>\n    </tr>\n    <tr>\n      <th>3</th>\n      <td>PH</td>\n      <td>Liniers</td>\n      <td>95000.0</td>\n      <td>USD</td>\n      <td>1676227.5</td>\n      <td>95000.0</td>\n      <td>NaN</td>\n      <td>NaN</td>\n      <td>NaN</td>\n      <td>NaN</td>\n      <td>NaN</td>\n      <td>NaN</td>\n    </tr>\n  </tbody>\n</table>\n</div>"
     },
     "metadata": {},
     "execution_count": 9
    }
   ],
   "source": [
    "# Creamos una máscara y la aplicamos al dataframe anterior para traer los registros que necesitamos\n",
    "data_caba_mask = data_filtered.state_name == 'Capital Federal' \n",
    "data_caba = data_filtered.loc[data_caba_mask, :]\n",
    "\n",
    "# Dropeamos la columna creada anteriormente.\n",
    "data_caba.drop(columns=['province_group', 'country_name', 'state_name', 'place_with_parent_names','description', 'title'], inplace=True)\n",
    "\n",
    "# Chequeamos cómo quedaron los datos\n",
    "data_caba.head(3)"
   ]
  },
  {
   "cell_type": "code",
   "execution_count": 10,
   "metadata": {},
   "outputs": [
    {
     "output_type": "execute_result",
     "data": {
      "text/plain": [
       "(32314, 12)"
      ]
     },
     "metadata": {},
     "execution_count": 10
    }
   ],
   "source": [
    "# Vemos la cantidad de datos solamente de CABA.\n",
    "data_caba.shape"
   ]
  },
  {
   "source": [
    "# Revisamos si hay barrios de caba mal indentificados \"Ejemplo: Capital Federal\"\n",
    "pd.set_option('display.max_rows', 1000) # Para mostrar todas las filas.\n"
   ],
   "cell_type": "code",
   "metadata": {},
   "execution_count": 11,
   "outputs": []
  },
  {
   "cell_type": "code",
   "execution_count": 12,
   "metadata": {},
   "outputs": [],
   "source": [
    "# Dropeamos los de Capital Federal\n",
    "capi_mask = data_caba.place_name == 'Capital Federal'\n",
    "data_caba.drop(data_caba.loc[capi_mask, :].index, inplace=True)"
   ]
  },
  {
   "cell_type": "code",
   "execution_count": 13,
   "metadata": {},
   "outputs": [
    {
     "output_type": "execute_result",
     "data": {
      "text/plain": [
       "(31019, 12)"
      ]
     },
     "metadata": {},
     "execution_count": 13
    }
   ],
   "source": [
    "data_caba.shape"
   ]
  },
  {
   "cell_type": "code",
   "execution_count": 14,
   "metadata": {},
   "outputs": [
    {
     "output_type": "execute_result",
     "data": {
      "text/plain": [
       "   property_type     place_name     price currency  \\\n",
       "0             PH      Mataderos   62000.0      USD   \n",
       "2      apartment      Mataderos   72000.0      USD   \n",
       "3             PH        Liniers   95000.0      USD   \n",
       "7      apartment       Belgrano  138000.0      USD   \n",
       "8      apartment       Belgrano  195000.0      USD   \n",
       "13     apartment   Palermo Soho  111700.0      USD   \n",
       "14     apartment   Palermo Soho  147900.0      USD   \n",
       "16            PH      Mataderos  239000.0      USD   \n",
       "19     apartment        Palermo  350000.0      USD   \n",
       "21     apartment        Palermo  270500.0      USD   \n",
       "29     apartment         Flores   75000.0      USD   \n",
       "35     apartment          Boedo  145000.0      USD   \n",
       "38     apartment    Las Cañitas  480000.0      USD   \n",
       "47         house  Puerto Madero   70000.0      USD   \n",
       "48     apartment      Balvanera  240000.0      USD   \n",
       "51         house          Boedo  550000.0      USD   \n",
       "52     apartment      Caballito  110000.0      USD   \n",
       "53     apartment      Caballito  170500.0      USD   \n",
       "54     apartment      Caballito  220410.0      USD   \n",
       "55     apartment      Caballito  222780.0      USD   \n",
       "\n",
       "    price_aprox_local_currency  price_aprox_usd  surface_total_in_m2  \\\n",
       "0                   1093959.00          62000.0                 55.0   \n",
       "2                   1270404.00          72000.0                 55.0   \n",
       "3                   1676227.50          95000.0                  NaN   \n",
       "7                   2434941.00         138000.0                 45.0   \n",
       "8                   3440677.50         195000.0                 65.0   \n",
       "13                  1970890.65         111700.0                 50.0   \n",
       "14                  2609621.55         147900.0                 42.0   \n",
       "16                  4217035.50         239000.0                140.0   \n",
       "19                  6175575.00         350000.0                104.0   \n",
       "21                  4772837.25         270500.0                118.0   \n",
       "29                  1323337.50          75000.0                 43.0   \n",
       "35                  2558452.50         145000.0                 80.0   \n",
       "38                  8469360.00         480000.0                220.0   \n",
       "47                  1235115.00          70000.0                 80.0   \n",
       "48                  4234680.00         240000.0                141.0   \n",
       "51                  9704475.00         550000.0                504.0   \n",
       "52                  1940895.00         110000.0                 50.0   \n",
       "53                  3008387.25         170500.0                100.0   \n",
       "54                  3889024.24         220410.0                 81.0   \n",
       "55                  3930841.71         222780.0                 81.0   \n",
       "\n",
       "    surface_covered_in_m2  price_usd_per_m2  price_per_m2  floor  rooms  \n",
       "0                    40.0       1127.272727   1550.000000    NaN    NaN  \n",
       "2                    55.0       1309.090909   1309.090909    NaN    NaN  \n",
       "3                     NaN               NaN           NaN    NaN    NaN  \n",
       "7                    40.0       3066.666667   3450.000000    NaN    NaN  \n",
       "8                    60.0       3000.000000   3250.000000    NaN    NaN  \n",
       "13                   30.0       2234.000000   3723.333333    NaN    1.0  \n",
       "14                   31.0       3521.428571   4770.967742    NaN    1.0  \n",
       "16                   98.0       1707.142857   2438.775510    NaN    4.0  \n",
       "19                   96.0       3365.384615   3645.833333    NaN    3.0  \n",
       "21                   73.0       2292.372881   3705.479452    NaN    4.0  \n",
       "29                   43.0       1744.186047   1744.186047    NaN    2.0  \n",
       "35                   77.0       1812.500000   1883.116883    NaN    4.0  \n",
       "38                  130.0       2181.818182   3692.307692    NaN    3.0  \n",
       "47                   50.0        875.000000   1400.000000    NaN    NaN  \n",
       "48                  124.0       1702.127660   1935.483871    NaN    5.0  \n",
       "51                  324.0       1091.269841   1697.530864    NaN    NaN  \n",
       "52                   50.0       2200.000000   2200.000000    NaN    3.0  \n",
       "53                   46.0       1705.000000   3706.521739    NaN    2.0  \n",
       "54                   75.0       2721.111111   2938.800000    NaN    3.0  \n",
       "55                   75.0       2750.370370   2970.400000    NaN    3.0  "
      ],
      "text/html": "<div>\n<style scoped>\n    .dataframe tbody tr th:only-of-type {\n        vertical-align: middle;\n    }\n\n    .dataframe tbody tr th {\n        vertical-align: top;\n    }\n\n    .dataframe thead th {\n        text-align: right;\n    }\n</style>\n<table border=\"1\" class=\"dataframe\">\n  <thead>\n    <tr style=\"text-align: right;\">\n      <th></th>\n      <th>property_type</th>\n      <th>place_name</th>\n      <th>price</th>\n      <th>currency</th>\n      <th>price_aprox_local_currency</th>\n      <th>price_aprox_usd</th>\n      <th>surface_total_in_m2</th>\n      <th>surface_covered_in_m2</th>\n      <th>price_usd_per_m2</th>\n      <th>price_per_m2</th>\n      <th>floor</th>\n      <th>rooms</th>\n    </tr>\n  </thead>\n  <tbody>\n    <tr>\n      <th>0</th>\n      <td>PH</td>\n      <td>Mataderos</td>\n      <td>62000.0</td>\n      <td>USD</td>\n      <td>1093959.00</td>\n      <td>62000.0</td>\n      <td>55.0</td>\n      <td>40.0</td>\n      <td>1127.272727</td>\n      <td>1550.000000</td>\n      <td>NaN</td>\n      <td>NaN</td>\n    </tr>\n    <tr>\n      <th>2</th>\n      <td>apartment</td>\n      <td>Mataderos</td>\n      <td>72000.0</td>\n      <td>USD</td>\n      <td>1270404.00</td>\n      <td>72000.0</td>\n      <td>55.0</td>\n      <td>55.0</td>\n      <td>1309.090909</td>\n      <td>1309.090909</td>\n      <td>NaN</td>\n      <td>NaN</td>\n    </tr>\n    <tr>\n      <th>3</th>\n      <td>PH</td>\n      <td>Liniers</td>\n      <td>95000.0</td>\n      <td>USD</td>\n      <td>1676227.50</td>\n      <td>95000.0</td>\n      <td>NaN</td>\n      <td>NaN</td>\n      <td>NaN</td>\n      <td>NaN</td>\n      <td>NaN</td>\n      <td>NaN</td>\n    </tr>\n    <tr>\n      <th>7</th>\n      <td>apartment</td>\n      <td>Belgrano</td>\n      <td>138000.0</td>\n      <td>USD</td>\n      <td>2434941.00</td>\n      <td>138000.0</td>\n      <td>45.0</td>\n      <td>40.0</td>\n      <td>3066.666667</td>\n      <td>3450.000000</td>\n      <td>NaN</td>\n      <td>NaN</td>\n    </tr>\n    <tr>\n      <th>8</th>\n      <td>apartment</td>\n      <td>Belgrano</td>\n      <td>195000.0</td>\n      <td>USD</td>\n      <td>3440677.50</td>\n      <td>195000.0</td>\n      <td>65.0</td>\n      <td>60.0</td>\n      <td>3000.000000</td>\n      <td>3250.000000</td>\n      <td>NaN</td>\n      <td>NaN</td>\n    </tr>\n    <tr>\n      <th>13</th>\n      <td>apartment</td>\n      <td>Palermo Soho</td>\n      <td>111700.0</td>\n      <td>USD</td>\n      <td>1970890.65</td>\n      <td>111700.0</td>\n      <td>50.0</td>\n      <td>30.0</td>\n      <td>2234.000000</td>\n      <td>3723.333333</td>\n      <td>NaN</td>\n      <td>1.0</td>\n    </tr>\n    <tr>\n      <th>14</th>\n      <td>apartment</td>\n      <td>Palermo Soho</td>\n      <td>147900.0</td>\n      <td>USD</td>\n      <td>2609621.55</td>\n      <td>147900.0</td>\n      <td>42.0</td>\n      <td>31.0</td>\n      <td>3521.428571</td>\n      <td>4770.967742</td>\n      <td>NaN</td>\n      <td>1.0</td>\n    </tr>\n    <tr>\n      <th>16</th>\n      <td>PH</td>\n      <td>Mataderos</td>\n      <td>239000.0</td>\n      <td>USD</td>\n      <td>4217035.50</td>\n      <td>239000.0</td>\n      <td>140.0</td>\n      <td>98.0</td>\n      <td>1707.142857</td>\n      <td>2438.775510</td>\n      <td>NaN</td>\n      <td>4.0</td>\n    </tr>\n    <tr>\n      <th>19</th>\n      <td>apartment</td>\n      <td>Palermo</td>\n      <td>350000.0</td>\n      <td>USD</td>\n      <td>6175575.00</td>\n      <td>350000.0</td>\n      <td>104.0</td>\n      <td>96.0</td>\n      <td>3365.384615</td>\n      <td>3645.833333</td>\n      <td>NaN</td>\n      <td>3.0</td>\n    </tr>\n    <tr>\n      <th>21</th>\n      <td>apartment</td>\n      <td>Palermo</td>\n      <td>270500.0</td>\n      <td>USD</td>\n      <td>4772837.25</td>\n      <td>270500.0</td>\n      <td>118.0</td>\n      <td>73.0</td>\n      <td>2292.372881</td>\n      <td>3705.479452</td>\n      <td>NaN</td>\n      <td>4.0</td>\n    </tr>\n    <tr>\n      <th>29</th>\n      <td>apartment</td>\n      <td>Flores</td>\n      <td>75000.0</td>\n      <td>USD</td>\n      <td>1323337.50</td>\n      <td>75000.0</td>\n      <td>43.0</td>\n      <td>43.0</td>\n      <td>1744.186047</td>\n      <td>1744.186047</td>\n      <td>NaN</td>\n      <td>2.0</td>\n    </tr>\n    <tr>\n      <th>35</th>\n      <td>apartment</td>\n      <td>Boedo</td>\n      <td>145000.0</td>\n      <td>USD</td>\n      <td>2558452.50</td>\n      <td>145000.0</td>\n      <td>80.0</td>\n      <td>77.0</td>\n      <td>1812.500000</td>\n      <td>1883.116883</td>\n      <td>NaN</td>\n      <td>4.0</td>\n    </tr>\n    <tr>\n      <th>38</th>\n      <td>apartment</td>\n      <td>Las Cañitas</td>\n      <td>480000.0</td>\n      <td>USD</td>\n      <td>8469360.00</td>\n      <td>480000.0</td>\n      <td>220.0</td>\n      <td>130.0</td>\n      <td>2181.818182</td>\n      <td>3692.307692</td>\n      <td>NaN</td>\n      <td>3.0</td>\n    </tr>\n    <tr>\n      <th>47</th>\n      <td>house</td>\n      <td>Puerto Madero</td>\n      <td>70000.0</td>\n      <td>USD</td>\n      <td>1235115.00</td>\n      <td>70000.0</td>\n      <td>80.0</td>\n      <td>50.0</td>\n      <td>875.000000</td>\n      <td>1400.000000</td>\n      <td>NaN</td>\n      <td>NaN</td>\n    </tr>\n    <tr>\n      <th>48</th>\n      <td>apartment</td>\n      <td>Balvanera</td>\n      <td>240000.0</td>\n      <td>USD</td>\n      <td>4234680.00</td>\n      <td>240000.0</td>\n      <td>141.0</td>\n      <td>124.0</td>\n      <td>1702.127660</td>\n      <td>1935.483871</td>\n      <td>NaN</td>\n      <td>5.0</td>\n    </tr>\n    <tr>\n      <th>51</th>\n      <td>house</td>\n      <td>Boedo</td>\n      <td>550000.0</td>\n      <td>USD</td>\n      <td>9704475.00</td>\n      <td>550000.0</td>\n      <td>504.0</td>\n      <td>324.0</td>\n      <td>1091.269841</td>\n      <td>1697.530864</td>\n      <td>NaN</td>\n      <td>NaN</td>\n    </tr>\n    <tr>\n      <th>52</th>\n      <td>apartment</td>\n      <td>Caballito</td>\n      <td>110000.0</td>\n      <td>USD</td>\n      <td>1940895.00</td>\n      <td>110000.0</td>\n      <td>50.0</td>\n      <td>50.0</td>\n      <td>2200.000000</td>\n      <td>2200.000000</td>\n      <td>NaN</td>\n      <td>3.0</td>\n    </tr>\n    <tr>\n      <th>53</th>\n      <td>apartment</td>\n      <td>Caballito</td>\n      <td>170500.0</td>\n      <td>USD</td>\n      <td>3008387.25</td>\n      <td>170500.0</td>\n      <td>100.0</td>\n      <td>46.0</td>\n      <td>1705.000000</td>\n      <td>3706.521739</td>\n      <td>NaN</td>\n      <td>2.0</td>\n    </tr>\n    <tr>\n      <th>54</th>\n      <td>apartment</td>\n      <td>Caballito</td>\n      <td>220410.0</td>\n      <td>USD</td>\n      <td>3889024.24</td>\n      <td>220410.0</td>\n      <td>81.0</td>\n      <td>75.0</td>\n      <td>2721.111111</td>\n      <td>2938.800000</td>\n      <td>NaN</td>\n      <td>3.0</td>\n    </tr>\n    <tr>\n      <th>55</th>\n      <td>apartment</td>\n      <td>Caballito</td>\n      <td>222780.0</td>\n      <td>USD</td>\n      <td>3930841.71</td>\n      <td>222780.0</td>\n      <td>81.0</td>\n      <td>75.0</td>\n      <td>2750.370370</td>\n      <td>2970.400000</td>\n      <td>NaN</td>\n      <td>3.0</td>\n    </tr>\n  </tbody>\n</table>\n</div>"
     },
     "metadata": {},
     "execution_count": 14
    }
   ],
   "source": [
    "data_caba.head(20)"
   ]
  },
  {
   "source": [
    "## De los datos filtrados según Desafio 1 deberiamos:\n",
    "\n",
    "1. Terminar de dropear variables incompletas que serian necesarias para poder entrenar un modelo. (ejemplo: si la propiedad no posee: price, price_aprox_local_currency,price_usd_per_m2, price_per_m2, etc...) la información de los barrios ya fue analizado y dropeado en el paso anterior.\n",
    "2. Definir las variables CUANTITATIVAS, ejemplo precio, total de m2 de superficie.\n",
    "3. Armar las variables CUALITATICAS, Dummy (ejemplo: place_name, property_type).\n",
    "4. Armar una nueva variable Dummy que contemple los precios de propiedad segun su distribución por metro cuadrado. Utilizando Panda CUT. \n",
    "\n",
    "## Finalizado el analisis de datos, armamos diferentes modelos para predecir el precio de la propiedad.\n",
    "\n",
    "1. Regresion Lineal Multiple\n",
    "2. Entrenar los modelos con Lasso, RidgeCV y utilizando Cross Validation.\n",
    "\n"
   ],
   "cell_type": "markdown",
   "metadata": {}
  },
  {
   "source": [
    "### Primero damos homogenidad a los datos\n",
    "\n",
    "Vamos a realizar ciertas verificaciones de los datos."
   ],
   "cell_type": "markdown",
   "metadata": {}
  },
  {
   "cell_type": "code",
   "execution_count": 15,
   "metadata": {},
   "outputs": [
    {
     "output_type": "display_data",
     "data": {
      "text/plain": "(4138, 12)"
     },
     "metadata": {}
    },
    {
     "output_type": "display_data",
     "data": {
      "text/plain": "       property_type     place_name      price currency  \\\n113548     apartment  Puerto Madero        NaN      NaN   \n55353      apartment      San Telmo  1317900.0      ARS   \n47624          house         Flores        NaN      NaN   \n66628      apartment       Belgrano        NaN      NaN   \n31241          house      Mataderos        NaN      NaN   \n118104     apartment   Villa Crespo        NaN      NaN   \n84226      apartment  Villa Urquiza        NaN      NaN   \n1722           house       Barracas        NaN      NaN   \n2846           store    San Nicolás        NaN      NaN   \n8343       apartment          Nuñez        NaN      NaN   \n97104      apartment       Floresta        NaN      NaN   \n96829      apartment       Floresta        NaN      NaN   \n67332      apartment       Belgrano        NaN      NaN   \n13635          house      Balvanera        NaN      NaN   \n26946      apartment           Once        NaN      NaN   \n78328      apartment      Caballito        NaN      NaN   \n72828      apartment   Palermo Soho        NaN      NaN   \n91646      apartment       Belgrano  9124474.0      ARS   \n120807     apartment  Palermo Chico        NaN      NaN   \n89970      apartment   Palermo Soho        NaN      NaN   \n\n        price_aprox_local_currency  price_aprox_usd  surface_total_in_m2  \\\n113548                         NaN              NaN                200.0   \n55353                   1304152.10         73912.67                 35.0   \n47624                          NaN              NaN                380.0   \n66628                          NaN              NaN                 45.0   \n31241                          NaN              NaN                267.0   \n118104                         NaN              NaN                 89.0   \n84226                          NaN              NaN                 40.0   \n1722                           NaN              NaN                120.0   \n2846                           NaN              NaN                 55.0   \n8343                           NaN              NaN                  NaN   \n97104                          NaN              NaN                 47.0   \n96829                          NaN              NaN                 41.0   \n67332                          NaN              NaN                 67.0   \n13635                          NaN              NaN                  NaN   \n26946                          NaN              NaN                 91.0   \n78328                          NaN              NaN                 81.0   \n72828                          NaN              NaN                110.0   \n91646                   9029291.44        511734.05                145.0   \n120807                         NaN              NaN                 32.0   \n89970                          NaN              NaN                 75.0   \n\n        surface_covered_in_m2  price_usd_per_m2  price_per_m2  floor  rooms  \n113548                  200.0               NaN           NaN    NaN    3.0  \n55353                    31.0       2111.790571  42512.903226    NaN    1.0  \n47624                   300.0               NaN           NaN    NaN    NaN  \n66628                    41.0               NaN           NaN    NaN    NaN  \n31241                     NaN               NaN           NaN    NaN    5.0  \n118104                   72.0               NaN           NaN    NaN    NaN  \n84226                    31.0               NaN           NaN    NaN    NaN  \n1722                    120.0               NaN           NaN    NaN    3.0  \n2846                     55.0               NaN           NaN    NaN    NaN  \n8343                      NaN               NaN           NaN    NaN    NaN  \n97104                    43.0               NaN           NaN    NaN    NaN  \n96829                    39.0               NaN           NaN    NaN    NaN  \n67332                    58.0               NaN           NaN    NaN    NaN  \n13635                     NaN               NaN           NaN    NaN    NaN  \n26946                    85.0               NaN           NaN    NaN    4.0  \n78328                    62.0               NaN           NaN    NaN    NaN  \n72828                    45.0               NaN           NaN    NaN    NaN  \n91646                    97.0       3529.200345  94066.742268    NaN    NaN  \n120807                   32.0               NaN           NaN    NaN    NaN  \n89970                    67.0               NaN           NaN    NaN    NaN  ",
      "text/html": "<div>\n<style scoped>\n    .dataframe tbody tr th:only-of-type {\n        vertical-align: middle;\n    }\n\n    .dataframe tbody tr th {\n        vertical-align: top;\n    }\n\n    .dataframe thead th {\n        text-align: right;\n    }\n</style>\n<table border=\"1\" class=\"dataframe\">\n  <thead>\n    <tr style=\"text-align: right;\">\n      <th></th>\n      <th>property_type</th>\n      <th>place_name</th>\n      <th>price</th>\n      <th>currency</th>\n      <th>price_aprox_local_currency</th>\n      <th>price_aprox_usd</th>\n      <th>surface_total_in_m2</th>\n      <th>surface_covered_in_m2</th>\n      <th>price_usd_per_m2</th>\n      <th>price_per_m2</th>\n      <th>floor</th>\n      <th>rooms</th>\n    </tr>\n  </thead>\n  <tbody>\n    <tr>\n      <th>113548</th>\n      <td>apartment</td>\n      <td>Puerto Madero</td>\n      <td>NaN</td>\n      <td>NaN</td>\n      <td>NaN</td>\n      <td>NaN</td>\n      <td>200.0</td>\n      <td>200.0</td>\n      <td>NaN</td>\n      <td>NaN</td>\n      <td>NaN</td>\n      <td>3.0</td>\n    </tr>\n    <tr>\n      <th>55353</th>\n      <td>apartment</td>\n      <td>San Telmo</td>\n      <td>1317900.0</td>\n      <td>ARS</td>\n      <td>1304152.10</td>\n      <td>73912.67</td>\n      <td>35.0</td>\n      <td>31.0</td>\n      <td>2111.790571</td>\n      <td>42512.903226</td>\n      <td>NaN</td>\n      <td>1.0</td>\n    </tr>\n    <tr>\n      <th>47624</th>\n      <td>house</td>\n      <td>Flores</td>\n      <td>NaN</td>\n      <td>NaN</td>\n      <td>NaN</td>\n      <td>NaN</td>\n      <td>380.0</td>\n      <td>300.0</td>\n      <td>NaN</td>\n      <td>NaN</td>\n      <td>NaN</td>\n      <td>NaN</td>\n    </tr>\n    <tr>\n      <th>66628</th>\n      <td>apartment</td>\n      <td>Belgrano</td>\n      <td>NaN</td>\n      <td>NaN</td>\n      <td>NaN</td>\n      <td>NaN</td>\n      <td>45.0</td>\n      <td>41.0</td>\n      <td>NaN</td>\n      <td>NaN</td>\n      <td>NaN</td>\n      <td>NaN</td>\n    </tr>\n    <tr>\n      <th>31241</th>\n      <td>house</td>\n      <td>Mataderos</td>\n      <td>NaN</td>\n      <td>NaN</td>\n      <td>NaN</td>\n      <td>NaN</td>\n      <td>267.0</td>\n      <td>NaN</td>\n      <td>NaN</td>\n      <td>NaN</td>\n      <td>NaN</td>\n      <td>5.0</td>\n    </tr>\n    <tr>\n      <th>118104</th>\n      <td>apartment</td>\n      <td>Villa Crespo</td>\n      <td>NaN</td>\n      <td>NaN</td>\n      <td>NaN</td>\n      <td>NaN</td>\n      <td>89.0</td>\n      <td>72.0</td>\n      <td>NaN</td>\n      <td>NaN</td>\n      <td>NaN</td>\n      <td>NaN</td>\n    </tr>\n    <tr>\n      <th>84226</th>\n      <td>apartment</td>\n      <td>Villa Urquiza</td>\n      <td>NaN</td>\n      <td>NaN</td>\n      <td>NaN</td>\n      <td>NaN</td>\n      <td>40.0</td>\n      <td>31.0</td>\n      <td>NaN</td>\n      <td>NaN</td>\n      <td>NaN</td>\n      <td>NaN</td>\n    </tr>\n    <tr>\n      <th>1722</th>\n      <td>house</td>\n      <td>Barracas</td>\n      <td>NaN</td>\n      <td>NaN</td>\n      <td>NaN</td>\n      <td>NaN</td>\n      <td>120.0</td>\n      <td>120.0</td>\n      <td>NaN</td>\n      <td>NaN</td>\n      <td>NaN</td>\n      <td>3.0</td>\n    </tr>\n    <tr>\n      <th>2846</th>\n      <td>store</td>\n      <td>San Nicolás</td>\n      <td>NaN</td>\n      <td>NaN</td>\n      <td>NaN</td>\n      <td>NaN</td>\n      <td>55.0</td>\n      <td>55.0</td>\n      <td>NaN</td>\n      <td>NaN</td>\n      <td>NaN</td>\n      <td>NaN</td>\n    </tr>\n    <tr>\n      <th>8343</th>\n      <td>apartment</td>\n      <td>Nuñez</td>\n      <td>NaN</td>\n      <td>NaN</td>\n      <td>NaN</td>\n      <td>NaN</td>\n      <td>NaN</td>\n      <td>NaN</td>\n      <td>NaN</td>\n      <td>NaN</td>\n      <td>NaN</td>\n      <td>NaN</td>\n    </tr>\n    <tr>\n      <th>97104</th>\n      <td>apartment</td>\n      <td>Floresta</td>\n      <td>NaN</td>\n      <td>NaN</td>\n      <td>NaN</td>\n      <td>NaN</td>\n      <td>47.0</td>\n      <td>43.0</td>\n      <td>NaN</td>\n      <td>NaN</td>\n      <td>NaN</td>\n      <td>NaN</td>\n    </tr>\n    <tr>\n      <th>96829</th>\n      <td>apartment</td>\n      <td>Floresta</td>\n      <td>NaN</td>\n      <td>NaN</td>\n      <td>NaN</td>\n      <td>NaN</td>\n      <td>41.0</td>\n      <td>39.0</td>\n      <td>NaN</td>\n      <td>NaN</td>\n      <td>NaN</td>\n      <td>NaN</td>\n    </tr>\n    <tr>\n      <th>67332</th>\n      <td>apartment</td>\n      <td>Belgrano</td>\n      <td>NaN</td>\n      <td>NaN</td>\n      <td>NaN</td>\n      <td>NaN</td>\n      <td>67.0</td>\n      <td>58.0</td>\n      <td>NaN</td>\n      <td>NaN</td>\n      <td>NaN</td>\n      <td>NaN</td>\n    </tr>\n    <tr>\n      <th>13635</th>\n      <td>house</td>\n      <td>Balvanera</td>\n      <td>NaN</td>\n      <td>NaN</td>\n      <td>NaN</td>\n      <td>NaN</td>\n      <td>NaN</td>\n      <td>NaN</td>\n      <td>NaN</td>\n      <td>NaN</td>\n      <td>NaN</td>\n      <td>NaN</td>\n    </tr>\n    <tr>\n      <th>26946</th>\n      <td>apartment</td>\n      <td>Once</td>\n      <td>NaN</td>\n      <td>NaN</td>\n      <td>NaN</td>\n      <td>NaN</td>\n      <td>91.0</td>\n      <td>85.0</td>\n      <td>NaN</td>\n      <td>NaN</td>\n      <td>NaN</td>\n      <td>4.0</td>\n    </tr>\n    <tr>\n      <th>78328</th>\n      <td>apartment</td>\n      <td>Caballito</td>\n      <td>NaN</td>\n      <td>NaN</td>\n      <td>NaN</td>\n      <td>NaN</td>\n      <td>81.0</td>\n      <td>62.0</td>\n      <td>NaN</td>\n      <td>NaN</td>\n      <td>NaN</td>\n      <td>NaN</td>\n    </tr>\n    <tr>\n      <th>72828</th>\n      <td>apartment</td>\n      <td>Palermo Soho</td>\n      <td>NaN</td>\n      <td>NaN</td>\n      <td>NaN</td>\n      <td>NaN</td>\n      <td>110.0</td>\n      <td>45.0</td>\n      <td>NaN</td>\n      <td>NaN</td>\n      <td>NaN</td>\n      <td>NaN</td>\n    </tr>\n    <tr>\n      <th>91646</th>\n      <td>apartment</td>\n      <td>Belgrano</td>\n      <td>9124474.0</td>\n      <td>ARS</td>\n      <td>9029291.44</td>\n      <td>511734.05</td>\n      <td>145.0</td>\n      <td>97.0</td>\n      <td>3529.200345</td>\n      <td>94066.742268</td>\n      <td>NaN</td>\n      <td>NaN</td>\n    </tr>\n    <tr>\n      <th>120807</th>\n      <td>apartment</td>\n      <td>Palermo Chico</td>\n      <td>NaN</td>\n      <td>NaN</td>\n      <td>NaN</td>\n      <td>NaN</td>\n      <td>32.0</td>\n      <td>32.0</td>\n      <td>NaN</td>\n      <td>NaN</td>\n      <td>NaN</td>\n      <td>NaN</td>\n    </tr>\n    <tr>\n      <th>89970</th>\n      <td>apartment</td>\n      <td>Palermo Soho</td>\n      <td>NaN</td>\n      <td>NaN</td>\n      <td>NaN</td>\n      <td>NaN</td>\n      <td>75.0</td>\n      <td>67.0</td>\n      <td>NaN</td>\n      <td>NaN</td>\n      <td>NaN</td>\n      <td>NaN</td>\n    </tr>\n  </tbody>\n</table>\n</div>"
     },
     "metadata": {}
    }
   ],
   "source": [
    "# 1. Verificamos que el price y el price_aprox_usd sean los mismos, y luego si fuera así dropeamos el price_aprox_usd\n",
    "\n",
    "mask_price_validation = data_caba.price != data_caba.price_aprox_usd\n",
    "\n",
    "display(data_caba.loc[mask_price_validation, :].shape)\n",
    "\n",
    "# Detectamos que hay 4138 propiedades donde los valores son diferentes? pero estan en Pesos o son NaN?\n",
    "\n",
    "display(data_caba.loc[mask_price_validation, :].sample(20))\n",
    "\n",
    "# Detectamos que tenemos los dos casos, donde los precios son NaN y donde la moneda está en ARS (lo cual no estaría mal)\n",
    "# En el caso de ARS, vemos que el valor de price toma el de la moneda local ~ Por lo que podriamos llegar a eliminar price, currency y price_aprox_local_currency \n",
    "\n",
    "# Para los valores de NaN tendriamos que tomar la decisión si los dropeamos o tratamos de calcular un precio promedio en base a la cantidad de metros cuadrados. Podemos hacerlo en base al calculo que realizamos en el Desafio 1 ??"
   ]
  },
  {
   "cell_type": "code",
   "execution_count": 16,
   "metadata": {},
   "outputs": [
    {
     "output_type": "display_data",
     "data": {
      "text/plain": "(1035, 12)"
     },
     "metadata": {}
    },
    {
     "output_type": "display_data",
     "data": {
      "text/plain": "       property_type     place_name      price currency  \\\n48032      apartment      San Telmo  1329600.0      ARS   \n118585     apartment        Palermo  6489162.0      ARS   \n112998     apartment     Colegiales  2465000.0      ARS   \n76355      apartment       Belgrano  2256382.0      ARS   \n118751     apartment  Villa Urquiza  1838450.0      ARS   \n28072      apartment        Palermo  3311974.0      ARS   \n42550      apartment  Villa Urquiza  1911834.0      ARS   \n45767      apartment       Recoleta  1300977.0      ARS   \n76101      apartment     Colegiales   110000.0      ARS   \n56228      apartment         Flores  2292593.0      ARS   \n49852      apartment           Once   130000.0      ARS   \n118553     apartment      San Telmo  3723700.0      ARS   \n19490      apartment         Flores  1011500.0      ARS   \n120389     apartment      San Telmo  1999700.0      ARS   \n44672      apartment       Recoleta  1300977.0      ARS   \n87090      apartment      San Telmo  1209000.0      ARS   \n106884     apartment        Palermo   725420.0      ARS   \n55686      apartment         Flores   120000.0      ARS   \n118741     apartment  Villa Urquiza  1940192.0      ARS   \n55356      apartment   Barrio Norte  1541800.0      ARS   \n\n        price_aprox_local_currency  price_aprox_usd  surface_total_in_m2  \\\n48032                   1315730.07         74568.85                 30.0   \n118585                  6421469.81        363936.06                164.0   \n112998                  2439286.13        138246.26                 46.0   \n76355                   2232844.24        126546.19                 39.0   \n118751                  1819271.99        103107.03                 37.0   \n28072                   3277424.76        185747.67                  NaN   \n42550                   1891890.57        107222.68                 40.0   \n45767                   1339035.63         75889.69                305.0   \n76101                    108852.44          6169.20                 47.0   \n56228                   2268677.58        128577.04                 55.0   \n49852                    128643.75          7290.87                 15.0   \n118553                  3684855.85        208838.78                 78.0   \n19490                   1000948.31         56728.63                 35.0   \n120389                  1978839.85        112150.52                 48.0   \n44672                   1287405.71         72963.57                 31.0   \n87090                   1196388.14         67805.16                 42.0   \n106884                   717852.71         40684.22                 42.0   \n55686                    118748.19          6730.04                 97.0   \n118741                  1919952.74        108813.10                 43.0   \n55356                   1525716.56         86469.81                 34.0   \n\n        surface_covered_in_m2  price_usd_per_m2   price_per_m2  floor  rooms  \n48032                    26.0       2485.628333   51138.461538    NaN    1.0  \n118585                  123.0       2219.122317   52757.414634    NaN    NaN  \n112998                    7.0       3005.353478  352142.857143    3.0    NaN  \n76355                    34.0       3244.774103   66364.176471    NaN    NaN  \n118751                   32.0       2786.676486   57451.562500    NaN    NaN  \n28072                    67.0               NaN   49432.447761  103.0    2.0  \n42550                    37.0       2680.567000   51671.189189    NaN    2.0  \n45767                    27.0        248.818656   48184.333333    3.0    NaN  \n76101                    47.0        131.259574    2340.425532    NaN    3.0  \n56228                    48.0       2337.764364   47762.354167    NaN    NaN  \n49852                    61.0        486.058000    2131.147541    NaN    3.0  \n118553                   67.0       2677.420256   55577.611940    NaN    NaN  \n19490                    35.0       1620.818000   28900.000000    2.0    1.0  \n120389                   44.0       2336.469167   45447.727273    NaN    NaN  \n44672                    27.0       2353.663548   48184.333333    NaN    1.0  \n87090                    38.0       1614.408571   31815.789474    NaN    NaN  \n106884                   26.0        968.671905   27900.769231    NaN    NaN  \n55686                    67.0         69.381856    1791.044776    NaN    NaN  \n118741                   38.0       2530.537209   51057.684211    NaN    NaN  \n55356                    31.0       2543.229706   49735.483871    NaN    1.0  ",
      "text/html": "<div>\n<style scoped>\n    .dataframe tbody tr th:only-of-type {\n        vertical-align: middle;\n    }\n\n    .dataframe tbody tr th {\n        vertical-align: top;\n    }\n\n    .dataframe thead th {\n        text-align: right;\n    }\n</style>\n<table border=\"1\" class=\"dataframe\">\n  <thead>\n    <tr style=\"text-align: right;\">\n      <th></th>\n      <th>property_type</th>\n      <th>place_name</th>\n      <th>price</th>\n      <th>currency</th>\n      <th>price_aprox_local_currency</th>\n      <th>price_aprox_usd</th>\n      <th>surface_total_in_m2</th>\n      <th>surface_covered_in_m2</th>\n      <th>price_usd_per_m2</th>\n      <th>price_per_m2</th>\n      <th>floor</th>\n      <th>rooms</th>\n    </tr>\n  </thead>\n  <tbody>\n    <tr>\n      <th>48032</th>\n      <td>apartment</td>\n      <td>San Telmo</td>\n      <td>1329600.0</td>\n      <td>ARS</td>\n      <td>1315730.07</td>\n      <td>74568.85</td>\n      <td>30.0</td>\n      <td>26.0</td>\n      <td>2485.628333</td>\n      <td>51138.461538</td>\n      <td>NaN</td>\n      <td>1.0</td>\n    </tr>\n    <tr>\n      <th>118585</th>\n      <td>apartment</td>\n      <td>Palermo</td>\n      <td>6489162.0</td>\n      <td>ARS</td>\n      <td>6421469.81</td>\n      <td>363936.06</td>\n      <td>164.0</td>\n      <td>123.0</td>\n      <td>2219.122317</td>\n      <td>52757.414634</td>\n      <td>NaN</td>\n      <td>NaN</td>\n    </tr>\n    <tr>\n      <th>112998</th>\n      <td>apartment</td>\n      <td>Colegiales</td>\n      <td>2465000.0</td>\n      <td>ARS</td>\n      <td>2439286.13</td>\n      <td>138246.26</td>\n      <td>46.0</td>\n      <td>7.0</td>\n      <td>3005.353478</td>\n      <td>352142.857143</td>\n      <td>3.0</td>\n      <td>NaN</td>\n    </tr>\n    <tr>\n      <th>76355</th>\n      <td>apartment</td>\n      <td>Belgrano</td>\n      <td>2256382.0</td>\n      <td>ARS</td>\n      <td>2232844.24</td>\n      <td>126546.19</td>\n      <td>39.0</td>\n      <td>34.0</td>\n      <td>3244.774103</td>\n      <td>66364.176471</td>\n      <td>NaN</td>\n      <td>NaN</td>\n    </tr>\n    <tr>\n      <th>118751</th>\n      <td>apartment</td>\n      <td>Villa Urquiza</td>\n      <td>1838450.0</td>\n      <td>ARS</td>\n      <td>1819271.99</td>\n      <td>103107.03</td>\n      <td>37.0</td>\n      <td>32.0</td>\n      <td>2786.676486</td>\n      <td>57451.562500</td>\n      <td>NaN</td>\n      <td>NaN</td>\n    </tr>\n    <tr>\n      <th>28072</th>\n      <td>apartment</td>\n      <td>Palermo</td>\n      <td>3311974.0</td>\n      <td>ARS</td>\n      <td>3277424.76</td>\n      <td>185747.67</td>\n      <td>NaN</td>\n      <td>67.0</td>\n      <td>NaN</td>\n      <td>49432.447761</td>\n      <td>103.0</td>\n      <td>2.0</td>\n    </tr>\n    <tr>\n      <th>42550</th>\n      <td>apartment</td>\n      <td>Villa Urquiza</td>\n      <td>1911834.0</td>\n      <td>ARS</td>\n      <td>1891890.57</td>\n      <td>107222.68</td>\n      <td>40.0</td>\n      <td>37.0</td>\n      <td>2680.567000</td>\n      <td>51671.189189</td>\n      <td>NaN</td>\n      <td>2.0</td>\n    </tr>\n    <tr>\n      <th>45767</th>\n      <td>apartment</td>\n      <td>Recoleta</td>\n      <td>1300977.0</td>\n      <td>ARS</td>\n      <td>1339035.63</td>\n      <td>75889.69</td>\n      <td>305.0</td>\n      <td>27.0</td>\n      <td>248.818656</td>\n      <td>48184.333333</td>\n      <td>3.0</td>\n      <td>NaN</td>\n    </tr>\n    <tr>\n      <th>76101</th>\n      <td>apartment</td>\n      <td>Colegiales</td>\n      <td>110000.0</td>\n      <td>ARS</td>\n      <td>108852.44</td>\n      <td>6169.20</td>\n      <td>47.0</td>\n      <td>47.0</td>\n      <td>131.259574</td>\n      <td>2340.425532</td>\n      <td>NaN</td>\n      <td>3.0</td>\n    </tr>\n    <tr>\n      <th>56228</th>\n      <td>apartment</td>\n      <td>Flores</td>\n      <td>2292593.0</td>\n      <td>ARS</td>\n      <td>2268677.58</td>\n      <td>128577.04</td>\n      <td>55.0</td>\n      <td>48.0</td>\n      <td>2337.764364</td>\n      <td>47762.354167</td>\n      <td>NaN</td>\n      <td>NaN</td>\n    </tr>\n    <tr>\n      <th>49852</th>\n      <td>apartment</td>\n      <td>Once</td>\n      <td>130000.0</td>\n      <td>ARS</td>\n      <td>128643.75</td>\n      <td>7290.87</td>\n      <td>15.0</td>\n      <td>61.0</td>\n      <td>486.058000</td>\n      <td>2131.147541</td>\n      <td>NaN</td>\n      <td>3.0</td>\n    </tr>\n    <tr>\n      <th>118553</th>\n      <td>apartment</td>\n      <td>San Telmo</td>\n      <td>3723700.0</td>\n      <td>ARS</td>\n      <td>3684855.85</td>\n      <td>208838.78</td>\n      <td>78.0</td>\n      <td>67.0</td>\n      <td>2677.420256</td>\n      <td>55577.611940</td>\n      <td>NaN</td>\n      <td>NaN</td>\n    </tr>\n    <tr>\n      <th>19490</th>\n      <td>apartment</td>\n      <td>Flores</td>\n      <td>1011500.0</td>\n      <td>ARS</td>\n      <td>1000948.31</td>\n      <td>56728.63</td>\n      <td>35.0</td>\n      <td>35.0</td>\n      <td>1620.818000</td>\n      <td>28900.000000</td>\n      <td>2.0</td>\n      <td>1.0</td>\n    </tr>\n    <tr>\n      <th>120389</th>\n      <td>apartment</td>\n      <td>San Telmo</td>\n      <td>1999700.0</td>\n      <td>ARS</td>\n      <td>1978839.85</td>\n      <td>112150.52</td>\n      <td>48.0</td>\n      <td>44.0</td>\n      <td>2336.469167</td>\n      <td>45447.727273</td>\n      <td>NaN</td>\n      <td>NaN</td>\n    </tr>\n    <tr>\n      <th>44672</th>\n      <td>apartment</td>\n      <td>Recoleta</td>\n      <td>1300977.0</td>\n      <td>ARS</td>\n      <td>1287405.71</td>\n      <td>72963.57</td>\n      <td>31.0</td>\n      <td>27.0</td>\n      <td>2353.663548</td>\n      <td>48184.333333</td>\n      <td>NaN</td>\n      <td>1.0</td>\n    </tr>\n    <tr>\n      <th>87090</th>\n      <td>apartment</td>\n      <td>San Telmo</td>\n      <td>1209000.0</td>\n      <td>ARS</td>\n      <td>1196388.14</td>\n      <td>67805.16</td>\n      <td>42.0</td>\n      <td>38.0</td>\n      <td>1614.408571</td>\n      <td>31815.789474</td>\n      <td>NaN</td>\n      <td>NaN</td>\n    </tr>\n    <tr>\n      <th>106884</th>\n      <td>apartment</td>\n      <td>Palermo</td>\n      <td>725420.0</td>\n      <td>ARS</td>\n      <td>717852.71</td>\n      <td>40684.22</td>\n      <td>42.0</td>\n      <td>26.0</td>\n      <td>968.671905</td>\n      <td>27900.769231</td>\n      <td>NaN</td>\n      <td>NaN</td>\n    </tr>\n    <tr>\n      <th>55686</th>\n      <td>apartment</td>\n      <td>Flores</td>\n      <td>120000.0</td>\n      <td>ARS</td>\n      <td>118748.19</td>\n      <td>6730.04</td>\n      <td>97.0</td>\n      <td>67.0</td>\n      <td>69.381856</td>\n      <td>1791.044776</td>\n      <td>NaN</td>\n      <td>NaN</td>\n    </tr>\n    <tr>\n      <th>118741</th>\n      <td>apartment</td>\n      <td>Villa Urquiza</td>\n      <td>1940192.0</td>\n      <td>ARS</td>\n      <td>1919952.74</td>\n      <td>108813.10</td>\n      <td>43.0</td>\n      <td>38.0</td>\n      <td>2530.537209</td>\n      <td>51057.684211</td>\n      <td>NaN</td>\n      <td>NaN</td>\n    </tr>\n    <tr>\n      <th>55356</th>\n      <td>apartment</td>\n      <td>Barrio Norte</td>\n      <td>1541800.0</td>\n      <td>ARS</td>\n      <td>1525716.56</td>\n      <td>86469.81</td>\n      <td>34.0</td>\n      <td>31.0</td>\n      <td>2543.229706</td>\n      <td>49735.483871</td>\n      <td>NaN</td>\n      <td>1.0</td>\n    </tr>\n  </tbody>\n</table>\n</div>"
     },
     "metadata": {}
    }
   ],
   "source": [
    "# Elimino primero los registros donde no tengo nada de informacion\n",
    "\n",
    "umbral = 10\n",
    "data_caba.dropna(axis = 0, thresh=umbral, inplace=True)\n",
    "\n",
    "# Vuelvo a ver como quedaron los datos\n",
    "mask_price_validation = data_caba.price != data_caba.price_aprox_usd\n",
    "display(data_caba.loc[mask_price_validation, :].shape)\n",
    "display(data_caba.loc[mask_price_validation, :].sample(20))"
   ]
  },
  {
   "cell_type": "code",
   "execution_count": 17,
   "metadata": {},
   "outputs": [
    {
     "output_type": "execute_result",
     "data": {
      "text/plain": [
       "    property_type     place_name      price currency  \\\n",
       "0              PH      Mataderos    62000.0      USD   \n",
       "2       apartment      Mataderos    72000.0      USD   \n",
       "7       apartment       Belgrano   138000.0      USD   \n",
       "8       apartment       Belgrano   195000.0      USD   \n",
       "13      apartment   Palermo Soho   111700.0      USD   \n",
       "14      apartment   Palermo Soho   147900.0      USD   \n",
       "16             PH      Mataderos   239000.0      USD   \n",
       "19      apartment        Palermo   350000.0      USD   \n",
       "21      apartment        Palermo   270500.0      USD   \n",
       "29      apartment         Flores    75000.0      USD   \n",
       "35      apartment          Boedo   145000.0      USD   \n",
       "38      apartment    Las Cañitas   480000.0      USD   \n",
       "47          house  Puerto Madero    70000.0      USD   \n",
       "48      apartment      Balvanera   240000.0      USD   \n",
       "51          house          Boedo   550000.0      USD   \n",
       "52      apartment      Caballito   110000.0      USD   \n",
       "53      apartment      Caballito   170500.0      USD   \n",
       "54      apartment      Caballito   220410.0      USD   \n",
       "55      apartment      Caballito   222780.0      USD   \n",
       "57          store       Belgrano   250000.0      USD   \n",
       "59      apartment      Caballito   108000.0      USD   \n",
       "60      apartment          Nuñez   173000.0      USD   \n",
       "98      apartment        Almagro   109900.0      USD   \n",
       "137            PH     Colegiales   249000.0      USD   \n",
       "141         house       Floresta   219500.0      USD   \n",
       "166     apartment      Caballito   128000.0      USD   \n",
       "187            PH       Barracas   160000.0      USD   \n",
       "200     apartment       Recoleta   380000.0      USD   \n",
       "203            PH        Palermo   315000.0      USD   \n",
       "204         store       Congreso   295000.0      USD   \n",
       "207     apartment   Villa Crespo    73800.0      USD   \n",
       "208     apartment   Villa Crespo    72000.0      USD   \n",
       "209     apartment    Las Cañitas   235000.0      USD   \n",
       "210     apartment       Belgrano   240000.0      USD   \n",
       "215         store      Chacarita   175000.0      USD   \n",
       "216     apartment       Belgrano   550000.0      USD   \n",
       "218     apartment   Villa Crespo    62000.0      USD   \n",
       "219     apartment       Belgrano  1100000.0      USD   \n",
       "220     apartment       Belgrano   237895.0      USD   \n",
       "221     apartment       Belgrano   237895.0      USD   \n",
       "222     apartment         Flores    99000.0      USD   \n",
       "225     apartment          Nuñez   229000.0      USD   \n",
       "226     apartment          Nuñez   135000.0      USD   \n",
       "227     apartment       Recoleta   620000.0      USD   \n",
       "229     apartment       Belgrano    92600.0      USD   \n",
       "230     apartment      Caballito   445000.0      USD   \n",
       "231            PH        Almagro   165000.0      USD   \n",
       "241     apartment        Palermo   147300.0      USD   \n",
       "244     apartment  Puerto Madero   550000.0      USD   \n",
       "251     apartment   Constitución    88900.0      USD   \n",
       "\n",
       "     price_aprox_local_currency  price_aprox_usd  surface_total_in_m2  \\\n",
       "0                    1093959.00          62000.0                 55.0   \n",
       "2                    1270404.00          72000.0                 55.0   \n",
       "7                    2434941.00         138000.0                 45.0   \n",
       "8                    3440677.50         195000.0                 65.0   \n",
       "13                   1970890.65         111700.0                 50.0   \n",
       "14                   2609621.55         147900.0                 42.0   \n",
       "16                   4217035.50         239000.0                140.0   \n",
       "19                   6175575.00         350000.0                104.0   \n",
       "21                   4772837.25         270500.0                118.0   \n",
       "29                   1323337.50          75000.0                 43.0   \n",
       "35                   2558452.50         145000.0                 80.0   \n",
       "38                   8469360.00         480000.0                220.0   \n",
       "47                   1235115.00          70000.0                 80.0   \n",
       "48                   4234680.00         240000.0                141.0   \n",
       "51                   9704475.00         550000.0                504.0   \n",
       "52                   1940895.00         110000.0                 50.0   \n",
       "53                   3008387.25         170500.0                100.0   \n",
       "54                   3889024.24         220410.0                 81.0   \n",
       "55                   3930841.71         222780.0                 81.0   \n",
       "57                   4411125.00         250000.0                 30.0   \n",
       "59                   1905606.00         108000.0                 70.0   \n",
       "60                   3052498.50         173000.0                 50.0   \n",
       "98                   1939130.55         109900.0                 50.0   \n",
       "137                  4393480.50         249000.0                  NaN   \n",
       "141                  3872967.75         219500.0                600.0   \n",
       "166                  2258496.00         128000.0                  NaN   \n",
       "187                  2823120.00         160000.0                156.0   \n",
       "200                  6704910.00         380000.0                196.0   \n",
       "203                  5558017.50         315000.0                240.0   \n",
       "204                  5205127.50         295000.0                103.0   \n",
       "207                  1302164.10          73800.0                 42.0   \n",
       "208                  1270404.00          72000.0                 44.0   \n",
       "209                  4146457.50         235000.0                 68.0   \n",
       "210                  4234680.00         240000.0                 57.0   \n",
       "215                  3087787.50         175000.0                 80.0   \n",
       "216                  9704475.00         550000.0                160.0   \n",
       "218                  1093959.00          62000.0                 33.0   \n",
       "219                 19408950.00        1100000.0                310.0   \n",
       "220                  4197538.32         237895.0                 69.0   \n",
       "221                  4197538.32         237895.0                 69.0   \n",
       "222                  1746805.50          99000.0                 65.0   \n",
       "225                  4040590.50         229000.0                 66.0   \n",
       "226                  2382007.50         135000.0                 45.0   \n",
       "227                 10939590.00         620000.0                191.0   \n",
       "229                  1633880.70          92600.0                 33.0   \n",
       "230                  7851802.50         445000.0                158.0   \n",
       "231                  2911342.50         165000.0                 85.0   \n",
       "241                  2599034.85         147300.0                 39.0   \n",
       "244                  9704475.00         550000.0                109.0   \n",
       "251                  1568596.05          88900.0                 90.0   \n",
       "\n",
       "     surface_covered_in_m2  price_usd_per_m2  price_per_m2  floor  rooms  \n",
       "0                     40.0       1127.272727   1550.000000    NaN    NaN  \n",
       "2                     55.0       1309.090909   1309.090909    NaN    NaN  \n",
       "7                     40.0       3066.666667   3450.000000    NaN    NaN  \n",
       "8                     60.0       3000.000000   3250.000000    NaN    NaN  \n",
       "13                    30.0       2234.000000   3723.333333    NaN    1.0  \n",
       "14                    31.0       3521.428571   4770.967742    NaN    1.0  \n",
       "16                    98.0       1707.142857   2438.775510    NaN    4.0  \n",
       "19                    96.0       3365.384615   3645.833333    NaN    3.0  \n",
       "21                    73.0       2292.372881   3705.479452    NaN    4.0  \n",
       "29                    43.0       1744.186047   1744.186047    NaN    2.0  \n",
       "35                    77.0       1812.500000   1883.116883    NaN    4.0  \n",
       "38                   130.0       2181.818182   3692.307692    NaN    3.0  \n",
       "47                    50.0        875.000000   1400.000000    NaN    NaN  \n",
       "48                   124.0       1702.127660   1935.483871    NaN    5.0  \n",
       "51                   324.0       1091.269841   1697.530864    NaN    NaN  \n",
       "52                    50.0       2200.000000   2200.000000    NaN    3.0  \n",
       "53                    46.0       1705.000000   3706.521739    NaN    2.0  \n",
       "54                    75.0       2721.111111   2938.800000    NaN    3.0  \n",
       "55                    75.0       2750.370370   2970.400000    NaN    3.0  \n",
       "57                    30.0       8333.333333   8333.333333    NaN    NaN  \n",
       "59                    67.0       1542.857143   1611.940299    NaN    3.0  \n",
       "60                    50.0       3460.000000   3460.000000    NaN    2.0  \n",
       "98                    40.0       2198.000000   2747.500000    NaN    2.0  \n",
       "137                  126.0               NaN   1976.190476    1.0    6.0  \n",
       "141                  170.0        365.833333   1291.176471    NaN    3.0  \n",
       "166                   51.0               NaN   2509.803922    6.0    2.0  \n",
       "187                  120.0       1025.641026   1333.333333    NaN    5.0  \n",
       "200                  196.0       1938.775510   1938.775510    NaN    7.0  \n",
       "203                  200.0       1312.500000   1575.000000    NaN    NaN  \n",
       "204                  103.0       2864.077670   2864.077670    NaN    NaN  \n",
       "207                   39.0       1757.142857   1892.307692    NaN    1.0  \n",
       "208                   41.0       1636.363636   1756.097561    NaN    1.0  \n",
       "209                   48.0       3455.882353   4895.833333    NaN    2.0  \n",
       "210                   54.0       4210.526316   4444.444444    NaN    2.0  \n",
       "215                   80.0       2187.500000   2187.500000    NaN    NaN  \n",
       "216                  150.0       3437.500000   3666.666667    NaN    4.0  \n",
       "218                   31.0       1878.787879   2000.000000    NaN    1.0  \n",
       "219                  300.0       3548.387097   3666.666667    NaN    6.0  \n",
       "220                   53.0       3447.753623   4488.584906    NaN    2.0  \n",
       "221                   53.0       3447.753623   4488.584906    NaN    2.0  \n",
       "222                   62.0       1523.076923   1596.774194    NaN    3.0  \n",
       "225                   59.0       3469.696970   3881.355932    NaN    2.0  \n",
       "226                   39.0       3000.000000   3461.538462    NaN    1.0  \n",
       "227                  181.0       3246.073298   3425.414365    NaN    5.0  \n",
       "229                   33.0       2806.060606   2806.060606    NaN    1.0  \n",
       "230                  154.0       2816.455696   2889.610390    NaN    5.0  \n",
       "231                   85.0       1941.176471   1941.176471    NaN    4.0  \n",
       "241                   35.0       3776.923077   4208.571429    NaN    1.0  \n",
       "244                   99.0       5045.871560   5555.555556    NaN    4.0  \n",
       "251                   82.0        987.777778   1084.146341    NaN    3.0  "
      ],
      "text/html": "<div>\n<style scoped>\n    .dataframe tbody tr th:only-of-type {\n        vertical-align: middle;\n    }\n\n    .dataframe tbody tr th {\n        vertical-align: top;\n    }\n\n    .dataframe thead th {\n        text-align: right;\n    }\n</style>\n<table border=\"1\" class=\"dataframe\">\n  <thead>\n    <tr style=\"text-align: right;\">\n      <th></th>\n      <th>property_type</th>\n      <th>place_name</th>\n      <th>price</th>\n      <th>currency</th>\n      <th>price_aprox_local_currency</th>\n      <th>price_aprox_usd</th>\n      <th>surface_total_in_m2</th>\n      <th>surface_covered_in_m2</th>\n      <th>price_usd_per_m2</th>\n      <th>price_per_m2</th>\n      <th>floor</th>\n      <th>rooms</th>\n    </tr>\n  </thead>\n  <tbody>\n    <tr>\n      <th>0</th>\n      <td>PH</td>\n      <td>Mataderos</td>\n      <td>62000.0</td>\n      <td>USD</td>\n      <td>1093959.00</td>\n      <td>62000.0</td>\n      <td>55.0</td>\n      <td>40.0</td>\n      <td>1127.272727</td>\n      <td>1550.000000</td>\n      <td>NaN</td>\n      <td>NaN</td>\n    </tr>\n    <tr>\n      <th>2</th>\n      <td>apartment</td>\n      <td>Mataderos</td>\n      <td>72000.0</td>\n      <td>USD</td>\n      <td>1270404.00</td>\n      <td>72000.0</td>\n      <td>55.0</td>\n      <td>55.0</td>\n      <td>1309.090909</td>\n      <td>1309.090909</td>\n      <td>NaN</td>\n      <td>NaN</td>\n    </tr>\n    <tr>\n      <th>7</th>\n      <td>apartment</td>\n      <td>Belgrano</td>\n      <td>138000.0</td>\n      <td>USD</td>\n      <td>2434941.00</td>\n      <td>138000.0</td>\n      <td>45.0</td>\n      <td>40.0</td>\n      <td>3066.666667</td>\n      <td>3450.000000</td>\n      <td>NaN</td>\n      <td>NaN</td>\n    </tr>\n    <tr>\n      <th>8</th>\n      <td>apartment</td>\n      <td>Belgrano</td>\n      <td>195000.0</td>\n      <td>USD</td>\n      <td>3440677.50</td>\n      <td>195000.0</td>\n      <td>65.0</td>\n      <td>60.0</td>\n      <td>3000.000000</td>\n      <td>3250.000000</td>\n      <td>NaN</td>\n      <td>NaN</td>\n    </tr>\n    <tr>\n      <th>13</th>\n      <td>apartment</td>\n      <td>Palermo Soho</td>\n      <td>111700.0</td>\n      <td>USD</td>\n      <td>1970890.65</td>\n      <td>111700.0</td>\n      <td>50.0</td>\n      <td>30.0</td>\n      <td>2234.000000</td>\n      <td>3723.333333</td>\n      <td>NaN</td>\n      <td>1.0</td>\n    </tr>\n    <tr>\n      <th>14</th>\n      <td>apartment</td>\n      <td>Palermo Soho</td>\n      <td>147900.0</td>\n      <td>USD</td>\n      <td>2609621.55</td>\n      <td>147900.0</td>\n      <td>42.0</td>\n      <td>31.0</td>\n      <td>3521.428571</td>\n      <td>4770.967742</td>\n      <td>NaN</td>\n      <td>1.0</td>\n    </tr>\n    <tr>\n      <th>16</th>\n      <td>PH</td>\n      <td>Mataderos</td>\n      <td>239000.0</td>\n      <td>USD</td>\n      <td>4217035.50</td>\n      <td>239000.0</td>\n      <td>140.0</td>\n      <td>98.0</td>\n      <td>1707.142857</td>\n      <td>2438.775510</td>\n      <td>NaN</td>\n      <td>4.0</td>\n    </tr>\n    <tr>\n      <th>19</th>\n      <td>apartment</td>\n      <td>Palermo</td>\n      <td>350000.0</td>\n      <td>USD</td>\n      <td>6175575.00</td>\n      <td>350000.0</td>\n      <td>104.0</td>\n      <td>96.0</td>\n      <td>3365.384615</td>\n      <td>3645.833333</td>\n      <td>NaN</td>\n      <td>3.0</td>\n    </tr>\n    <tr>\n      <th>21</th>\n      <td>apartment</td>\n      <td>Palermo</td>\n      <td>270500.0</td>\n      <td>USD</td>\n      <td>4772837.25</td>\n      <td>270500.0</td>\n      <td>118.0</td>\n      <td>73.0</td>\n      <td>2292.372881</td>\n      <td>3705.479452</td>\n      <td>NaN</td>\n      <td>4.0</td>\n    </tr>\n    <tr>\n      <th>29</th>\n      <td>apartment</td>\n      <td>Flores</td>\n      <td>75000.0</td>\n      <td>USD</td>\n      <td>1323337.50</td>\n      <td>75000.0</td>\n      <td>43.0</td>\n      <td>43.0</td>\n      <td>1744.186047</td>\n      <td>1744.186047</td>\n      <td>NaN</td>\n      <td>2.0</td>\n    </tr>\n    <tr>\n      <th>35</th>\n      <td>apartment</td>\n      <td>Boedo</td>\n      <td>145000.0</td>\n      <td>USD</td>\n      <td>2558452.50</td>\n      <td>145000.0</td>\n      <td>80.0</td>\n      <td>77.0</td>\n      <td>1812.500000</td>\n      <td>1883.116883</td>\n      <td>NaN</td>\n      <td>4.0</td>\n    </tr>\n    <tr>\n      <th>38</th>\n      <td>apartment</td>\n      <td>Las Cañitas</td>\n      <td>480000.0</td>\n      <td>USD</td>\n      <td>8469360.00</td>\n      <td>480000.0</td>\n      <td>220.0</td>\n      <td>130.0</td>\n      <td>2181.818182</td>\n      <td>3692.307692</td>\n      <td>NaN</td>\n      <td>3.0</td>\n    </tr>\n    <tr>\n      <th>47</th>\n      <td>house</td>\n      <td>Puerto Madero</td>\n      <td>70000.0</td>\n      <td>USD</td>\n      <td>1235115.00</td>\n      <td>70000.0</td>\n      <td>80.0</td>\n      <td>50.0</td>\n      <td>875.000000</td>\n      <td>1400.000000</td>\n      <td>NaN</td>\n      <td>NaN</td>\n    </tr>\n    <tr>\n      <th>48</th>\n      <td>apartment</td>\n      <td>Balvanera</td>\n      <td>240000.0</td>\n      <td>USD</td>\n      <td>4234680.00</td>\n      <td>240000.0</td>\n      <td>141.0</td>\n      <td>124.0</td>\n      <td>1702.127660</td>\n      <td>1935.483871</td>\n      <td>NaN</td>\n      <td>5.0</td>\n    </tr>\n    <tr>\n      <th>51</th>\n      <td>house</td>\n      <td>Boedo</td>\n      <td>550000.0</td>\n      <td>USD</td>\n      <td>9704475.00</td>\n      <td>550000.0</td>\n      <td>504.0</td>\n      <td>324.0</td>\n      <td>1091.269841</td>\n      <td>1697.530864</td>\n      <td>NaN</td>\n      <td>NaN</td>\n    </tr>\n    <tr>\n      <th>52</th>\n      <td>apartment</td>\n      <td>Caballito</td>\n      <td>110000.0</td>\n      <td>USD</td>\n      <td>1940895.00</td>\n      <td>110000.0</td>\n      <td>50.0</td>\n      <td>50.0</td>\n      <td>2200.000000</td>\n      <td>2200.000000</td>\n      <td>NaN</td>\n      <td>3.0</td>\n    </tr>\n    <tr>\n      <th>53</th>\n      <td>apartment</td>\n      <td>Caballito</td>\n      <td>170500.0</td>\n      <td>USD</td>\n      <td>3008387.25</td>\n      <td>170500.0</td>\n      <td>100.0</td>\n      <td>46.0</td>\n      <td>1705.000000</td>\n      <td>3706.521739</td>\n      <td>NaN</td>\n      <td>2.0</td>\n    </tr>\n    <tr>\n      <th>54</th>\n      <td>apartment</td>\n      <td>Caballito</td>\n      <td>220410.0</td>\n      <td>USD</td>\n      <td>3889024.24</td>\n      <td>220410.0</td>\n      <td>81.0</td>\n      <td>75.0</td>\n      <td>2721.111111</td>\n      <td>2938.800000</td>\n      <td>NaN</td>\n      <td>3.0</td>\n    </tr>\n    <tr>\n      <th>55</th>\n      <td>apartment</td>\n      <td>Caballito</td>\n      <td>222780.0</td>\n      <td>USD</td>\n      <td>3930841.71</td>\n      <td>222780.0</td>\n      <td>81.0</td>\n      <td>75.0</td>\n      <td>2750.370370</td>\n      <td>2970.400000</td>\n      <td>NaN</td>\n      <td>3.0</td>\n    </tr>\n    <tr>\n      <th>57</th>\n      <td>store</td>\n      <td>Belgrano</td>\n      <td>250000.0</td>\n      <td>USD</td>\n      <td>4411125.00</td>\n      <td>250000.0</td>\n      <td>30.0</td>\n      <td>30.0</td>\n      <td>8333.333333</td>\n      <td>8333.333333</td>\n      <td>NaN</td>\n      <td>NaN</td>\n    </tr>\n    <tr>\n      <th>59</th>\n      <td>apartment</td>\n      <td>Caballito</td>\n      <td>108000.0</td>\n      <td>USD</td>\n      <td>1905606.00</td>\n      <td>108000.0</td>\n      <td>70.0</td>\n      <td>67.0</td>\n      <td>1542.857143</td>\n      <td>1611.940299</td>\n      <td>NaN</td>\n      <td>3.0</td>\n    </tr>\n    <tr>\n      <th>60</th>\n      <td>apartment</td>\n      <td>Nuñez</td>\n      <td>173000.0</td>\n      <td>USD</td>\n      <td>3052498.50</td>\n      <td>173000.0</td>\n      <td>50.0</td>\n      <td>50.0</td>\n      <td>3460.000000</td>\n      <td>3460.000000</td>\n      <td>NaN</td>\n      <td>2.0</td>\n    </tr>\n    <tr>\n      <th>98</th>\n      <td>apartment</td>\n      <td>Almagro</td>\n      <td>109900.0</td>\n      <td>USD</td>\n      <td>1939130.55</td>\n      <td>109900.0</td>\n      <td>50.0</td>\n      <td>40.0</td>\n      <td>2198.000000</td>\n      <td>2747.500000</td>\n      <td>NaN</td>\n      <td>2.0</td>\n    </tr>\n    <tr>\n      <th>137</th>\n      <td>PH</td>\n      <td>Colegiales</td>\n      <td>249000.0</td>\n      <td>USD</td>\n      <td>4393480.50</td>\n      <td>249000.0</td>\n      <td>NaN</td>\n      <td>126.0</td>\n      <td>NaN</td>\n      <td>1976.190476</td>\n      <td>1.0</td>\n      <td>6.0</td>\n    </tr>\n    <tr>\n      <th>141</th>\n      <td>house</td>\n      <td>Floresta</td>\n      <td>219500.0</td>\n      <td>USD</td>\n      <td>3872967.75</td>\n      <td>219500.0</td>\n      <td>600.0</td>\n      <td>170.0</td>\n      <td>365.833333</td>\n      <td>1291.176471</td>\n      <td>NaN</td>\n      <td>3.0</td>\n    </tr>\n    <tr>\n      <th>166</th>\n      <td>apartment</td>\n      <td>Caballito</td>\n      <td>128000.0</td>\n      <td>USD</td>\n      <td>2258496.00</td>\n      <td>128000.0</td>\n      <td>NaN</td>\n      <td>51.0</td>\n      <td>NaN</td>\n      <td>2509.803922</td>\n      <td>6.0</td>\n      <td>2.0</td>\n    </tr>\n    <tr>\n      <th>187</th>\n      <td>PH</td>\n      <td>Barracas</td>\n      <td>160000.0</td>\n      <td>USD</td>\n      <td>2823120.00</td>\n      <td>160000.0</td>\n      <td>156.0</td>\n      <td>120.0</td>\n      <td>1025.641026</td>\n      <td>1333.333333</td>\n      <td>NaN</td>\n      <td>5.0</td>\n    </tr>\n    <tr>\n      <th>200</th>\n      <td>apartment</td>\n      <td>Recoleta</td>\n      <td>380000.0</td>\n      <td>USD</td>\n      <td>6704910.00</td>\n      <td>380000.0</td>\n      <td>196.0</td>\n      <td>196.0</td>\n      <td>1938.775510</td>\n      <td>1938.775510</td>\n      <td>NaN</td>\n      <td>7.0</td>\n    </tr>\n    <tr>\n      <th>203</th>\n      <td>PH</td>\n      <td>Palermo</td>\n      <td>315000.0</td>\n      <td>USD</td>\n      <td>5558017.50</td>\n      <td>315000.0</td>\n      <td>240.0</td>\n      <td>200.0</td>\n      <td>1312.500000</td>\n      <td>1575.000000</td>\n      <td>NaN</td>\n      <td>NaN</td>\n    </tr>\n    <tr>\n      <th>204</th>\n      <td>store</td>\n      <td>Congreso</td>\n      <td>295000.0</td>\n      <td>USD</td>\n      <td>5205127.50</td>\n      <td>295000.0</td>\n      <td>103.0</td>\n      <td>103.0</td>\n      <td>2864.077670</td>\n      <td>2864.077670</td>\n      <td>NaN</td>\n      <td>NaN</td>\n    </tr>\n    <tr>\n      <th>207</th>\n      <td>apartment</td>\n      <td>Villa Crespo</td>\n      <td>73800.0</td>\n      <td>USD</td>\n      <td>1302164.10</td>\n      <td>73800.0</td>\n      <td>42.0</td>\n      <td>39.0</td>\n      <td>1757.142857</td>\n      <td>1892.307692</td>\n      <td>NaN</td>\n      <td>1.0</td>\n    </tr>\n    <tr>\n      <th>208</th>\n      <td>apartment</td>\n      <td>Villa Crespo</td>\n      <td>72000.0</td>\n      <td>USD</td>\n      <td>1270404.00</td>\n      <td>72000.0</td>\n      <td>44.0</td>\n      <td>41.0</td>\n      <td>1636.363636</td>\n      <td>1756.097561</td>\n      <td>NaN</td>\n      <td>1.0</td>\n    </tr>\n    <tr>\n      <th>209</th>\n      <td>apartment</td>\n      <td>Las Cañitas</td>\n      <td>235000.0</td>\n      <td>USD</td>\n      <td>4146457.50</td>\n      <td>235000.0</td>\n      <td>68.0</td>\n      <td>48.0</td>\n      <td>3455.882353</td>\n      <td>4895.833333</td>\n      <td>NaN</td>\n      <td>2.0</td>\n    </tr>\n    <tr>\n      <th>210</th>\n      <td>apartment</td>\n      <td>Belgrano</td>\n      <td>240000.0</td>\n      <td>USD</td>\n      <td>4234680.00</td>\n      <td>240000.0</td>\n      <td>57.0</td>\n      <td>54.0</td>\n      <td>4210.526316</td>\n      <td>4444.444444</td>\n      <td>NaN</td>\n      <td>2.0</td>\n    </tr>\n    <tr>\n      <th>215</th>\n      <td>store</td>\n      <td>Chacarita</td>\n      <td>175000.0</td>\n      <td>USD</td>\n      <td>3087787.50</td>\n      <td>175000.0</td>\n      <td>80.0</td>\n      <td>80.0</td>\n      <td>2187.500000</td>\n      <td>2187.500000</td>\n      <td>NaN</td>\n      <td>NaN</td>\n    </tr>\n    <tr>\n      <th>216</th>\n      <td>apartment</td>\n      <td>Belgrano</td>\n      <td>550000.0</td>\n      <td>USD</td>\n      <td>9704475.00</td>\n      <td>550000.0</td>\n      <td>160.0</td>\n      <td>150.0</td>\n      <td>3437.500000</td>\n      <td>3666.666667</td>\n      <td>NaN</td>\n      <td>4.0</td>\n    </tr>\n    <tr>\n      <th>218</th>\n      <td>apartment</td>\n      <td>Villa Crespo</td>\n      <td>62000.0</td>\n      <td>USD</td>\n      <td>1093959.00</td>\n      <td>62000.0</td>\n      <td>33.0</td>\n      <td>31.0</td>\n      <td>1878.787879</td>\n      <td>2000.000000</td>\n      <td>NaN</td>\n      <td>1.0</td>\n    </tr>\n    <tr>\n      <th>219</th>\n      <td>apartment</td>\n      <td>Belgrano</td>\n      <td>1100000.0</td>\n      <td>USD</td>\n      <td>19408950.00</td>\n      <td>1100000.0</td>\n      <td>310.0</td>\n      <td>300.0</td>\n      <td>3548.387097</td>\n      <td>3666.666667</td>\n      <td>NaN</td>\n      <td>6.0</td>\n    </tr>\n    <tr>\n      <th>220</th>\n      <td>apartment</td>\n      <td>Belgrano</td>\n      <td>237895.0</td>\n      <td>USD</td>\n      <td>4197538.32</td>\n      <td>237895.0</td>\n      <td>69.0</td>\n      <td>53.0</td>\n      <td>3447.753623</td>\n      <td>4488.584906</td>\n      <td>NaN</td>\n      <td>2.0</td>\n    </tr>\n    <tr>\n      <th>221</th>\n      <td>apartment</td>\n      <td>Belgrano</td>\n      <td>237895.0</td>\n      <td>USD</td>\n      <td>4197538.32</td>\n      <td>237895.0</td>\n      <td>69.0</td>\n      <td>53.0</td>\n      <td>3447.753623</td>\n      <td>4488.584906</td>\n      <td>NaN</td>\n      <td>2.0</td>\n    </tr>\n    <tr>\n      <th>222</th>\n      <td>apartment</td>\n      <td>Flores</td>\n      <td>99000.0</td>\n      <td>USD</td>\n      <td>1746805.50</td>\n      <td>99000.0</td>\n      <td>65.0</td>\n      <td>62.0</td>\n      <td>1523.076923</td>\n      <td>1596.774194</td>\n      <td>NaN</td>\n      <td>3.0</td>\n    </tr>\n    <tr>\n      <th>225</th>\n      <td>apartment</td>\n      <td>Nuñez</td>\n      <td>229000.0</td>\n      <td>USD</td>\n      <td>4040590.50</td>\n      <td>229000.0</td>\n      <td>66.0</td>\n      <td>59.0</td>\n      <td>3469.696970</td>\n      <td>3881.355932</td>\n      <td>NaN</td>\n      <td>2.0</td>\n    </tr>\n    <tr>\n      <th>226</th>\n      <td>apartment</td>\n      <td>Nuñez</td>\n      <td>135000.0</td>\n      <td>USD</td>\n      <td>2382007.50</td>\n      <td>135000.0</td>\n      <td>45.0</td>\n      <td>39.0</td>\n      <td>3000.000000</td>\n      <td>3461.538462</td>\n      <td>NaN</td>\n      <td>1.0</td>\n    </tr>\n    <tr>\n      <th>227</th>\n      <td>apartment</td>\n      <td>Recoleta</td>\n      <td>620000.0</td>\n      <td>USD</td>\n      <td>10939590.00</td>\n      <td>620000.0</td>\n      <td>191.0</td>\n      <td>181.0</td>\n      <td>3246.073298</td>\n      <td>3425.414365</td>\n      <td>NaN</td>\n      <td>5.0</td>\n    </tr>\n    <tr>\n      <th>229</th>\n      <td>apartment</td>\n      <td>Belgrano</td>\n      <td>92600.0</td>\n      <td>USD</td>\n      <td>1633880.70</td>\n      <td>92600.0</td>\n      <td>33.0</td>\n      <td>33.0</td>\n      <td>2806.060606</td>\n      <td>2806.060606</td>\n      <td>NaN</td>\n      <td>1.0</td>\n    </tr>\n    <tr>\n      <th>230</th>\n      <td>apartment</td>\n      <td>Caballito</td>\n      <td>445000.0</td>\n      <td>USD</td>\n      <td>7851802.50</td>\n      <td>445000.0</td>\n      <td>158.0</td>\n      <td>154.0</td>\n      <td>2816.455696</td>\n      <td>2889.610390</td>\n      <td>NaN</td>\n      <td>5.0</td>\n    </tr>\n    <tr>\n      <th>231</th>\n      <td>PH</td>\n      <td>Almagro</td>\n      <td>165000.0</td>\n      <td>USD</td>\n      <td>2911342.50</td>\n      <td>165000.0</td>\n      <td>85.0</td>\n      <td>85.0</td>\n      <td>1941.176471</td>\n      <td>1941.176471</td>\n      <td>NaN</td>\n      <td>4.0</td>\n    </tr>\n    <tr>\n      <th>241</th>\n      <td>apartment</td>\n      <td>Palermo</td>\n      <td>147300.0</td>\n      <td>USD</td>\n      <td>2599034.85</td>\n      <td>147300.0</td>\n      <td>39.0</td>\n      <td>35.0</td>\n      <td>3776.923077</td>\n      <td>4208.571429</td>\n      <td>NaN</td>\n      <td>1.0</td>\n    </tr>\n    <tr>\n      <th>244</th>\n      <td>apartment</td>\n      <td>Puerto Madero</td>\n      <td>550000.0</td>\n      <td>USD</td>\n      <td>9704475.00</td>\n      <td>550000.0</td>\n      <td>109.0</td>\n      <td>99.0</td>\n      <td>5045.871560</td>\n      <td>5555.555556</td>\n      <td>NaN</td>\n      <td>4.0</td>\n    </tr>\n    <tr>\n      <th>251</th>\n      <td>apartment</td>\n      <td>Constitución</td>\n      <td>88900.0</td>\n      <td>USD</td>\n      <td>1568596.05</td>\n      <td>88900.0</td>\n      <td>90.0</td>\n      <td>82.0</td>\n      <td>987.777778</td>\n      <td>1084.146341</td>\n      <td>NaN</td>\n      <td>3.0</td>\n    </tr>\n  </tbody>\n</table>\n</div>"
     },
     "metadata": {},
     "execution_count": 17
    }
   ],
   "source": [
    "# Para la superficie de metros cuadadros totales, podemos creer que en caso de ser Nan es porque es un departamente y la cantidad de m2 cubierta sería iguala la cantidad de m2 totales.data_caba\n",
    "\n",
    "\n",
    "data_caba.surface_total_in_m2.fillna(data_caba.surface_covered_in_m2)\n",
    "\n",
    "data_caba.head(50)"
   ]
  },
  {
   "cell_type": "code",
   "execution_count": 18,
   "metadata": {},
   "outputs": [
    {
     "output_type": "display_data",
     "data": {
      "text/plain": "2816"
     },
     "metadata": {}
    }
   ],
   "source": [
    "display(data_caba.floor.count())\n",
    "\n",
    "# El piso del departamente es un dato muy incompleto por lo que se dropea\n",
    "\n",
    "# Dropeamos la columna creada anteriormente.\n",
    "data_caba.drop(columns=['floor'], inplace=True)\n"
   ]
  },
  {
   "cell_type": "code",
   "execution_count": 19,
   "metadata": {},
   "outputs": [
    {
     "output_type": "display_data",
     "data": {
      "text/plain": "11904"
     },
     "metadata": {}
    }
   ],
   "source": [
    "display(data_caba.rooms.count())\n",
    "\n",
    "# En el caso de rooms, podemos tomar que el dato para los NaN es 0?? modifica esto el analisis para predecir? "
   ]
  },
  {
   "cell_type": "code",
   "execution_count": 20,
   "metadata": {},
   "outputs": [
    {
     "output_type": "execute_result",
     "data": {
      "text/plain": [
       "       property_type     place_name  price_aprox_local_currency  \\\n",
       "110439     apartment        Palermo                  1552716.00   \n",
       "17173      apartment   Constitución                  1711516.50   \n",
       "88846      apartment  Villa Urquiza                  2303665.92   \n",
       "42369      apartment   Constitución                   688135.50   \n",
       "87446      apartment  Villa Urquiza                  1923250.50   \n",
       "61537          store         Flores                  8645805.00   \n",
       "42281      apartment      Caballito                  2082051.00   \n",
       "82920      apartment       Belgrano                  1936836.76   \n",
       "55422      apartment       Belgrano                  4411125.00   \n",
       "12300      apartment          Boedo                  3440677.50   \n",
       "23696      apartment         Flores                  1676227.50   \n",
       "32127      apartment         Flores                  1146892.50   \n",
       "73670      apartment       Belgrano                  2193064.72   \n",
       "110409         house      Mataderos                  4675792.50   \n",
       "44032      apartment       Recoleta                  6969577.50   \n",
       "34868      apartment  Villa Urquiza                  1409795.55   \n",
       "97318      apartment  Villa Urquiza                  2999565.00   \n",
       "24324      apartment      Balvanera                  2152629.00   \n",
       "7099       apartment      Chacarita                  1588005.00   \n",
       "73952      apartment       Recoleta                  5205127.50   \n",
       "\n",
       "        price_aprox_usd  surface_total_in_m2  surface_covered_in_m2  \\\n",
       "110439         88000.00                 24.0                   24.0   \n",
       "17173          97000.00                 47.0                   41.0   \n",
       "88846         130560.00                 64.0                   46.0   \n",
       "42369          39000.00                 26.0                   26.0   \n",
       "87446         109000.00                 38.0                   23.0   \n",
       "61537         490000.00                174.0                  174.0   \n",
       "42281         118000.00                 52.0                   46.0   \n",
       "82920         109770.00                 41.0                   35.0   \n",
       "55422         250000.00                 91.0                   91.0   \n",
       "12300         195000.00                107.0                  107.0   \n",
       "23696          95000.00                 47.0                   43.0   \n",
       "32127          65000.00                 63.0                   59.0   \n",
       "73670         124291.69                 39.0                   34.0   \n",
       "110409        265000.00                315.0                  265.0   \n",
       "44032         395000.00                143.0                  136.0   \n",
       "34868          79900.00                 33.0                   30.0   \n",
       "97318         170000.00                 73.0                   47.0   \n",
       "24324         122000.00                 60.0                   48.0   \n",
       "7099           90000.00                  NaN                   42.0   \n",
       "73952         295000.00                110.0                  101.0   \n",
       "\n",
       "        price_usd_per_m2  price_per_m2  rooms  \n",
       "110439       3666.666667   3666.666667    1.0  \n",
       "17173        2063.829787   2365.853659    1.0  \n",
       "88846        2040.000000   2838.260870    NaN  \n",
       "42369        1500.000000   1500.000000    1.0  \n",
       "87446        2868.421053   4739.130435    NaN  \n",
       "61537        2816.091954   2816.091954    1.0  \n",
       "42281        2269.230769   2565.217391    2.0  \n",
       "82920        2677.317073   3136.285714    NaN  \n",
       "55422        2747.252747   2747.252747    4.0  \n",
       "12300        1822.429907   1822.429907    3.0  \n",
       "23696        2021.276596   2209.302326    2.0  \n",
       "32127        1031.746032   1101.694915    3.0  \n",
       "73670        3186.966410  65181.852941    NaN  \n",
       "110409        841.269841   1000.000000    4.0  \n",
       "44032        2762.237762   2904.411765    4.0  \n",
       "34868        2421.212121   2663.333333    1.0  \n",
       "97318        2328.767123   3617.021277    NaN  \n",
       "24324        2033.333333   2541.666667    2.0  \n",
       "7099                 NaN   2142.857143    1.0  \n",
       "73952        2681.818182   2920.792079    NaN  "
      ],
      "text/html": "<div>\n<style scoped>\n    .dataframe tbody tr th:only-of-type {\n        vertical-align: middle;\n    }\n\n    .dataframe tbody tr th {\n        vertical-align: top;\n    }\n\n    .dataframe thead th {\n        text-align: right;\n    }\n</style>\n<table border=\"1\" class=\"dataframe\">\n  <thead>\n    <tr style=\"text-align: right;\">\n      <th></th>\n      <th>property_type</th>\n      <th>place_name</th>\n      <th>price_aprox_local_currency</th>\n      <th>price_aprox_usd</th>\n      <th>surface_total_in_m2</th>\n      <th>surface_covered_in_m2</th>\n      <th>price_usd_per_m2</th>\n      <th>price_per_m2</th>\n      <th>rooms</th>\n    </tr>\n  </thead>\n  <tbody>\n    <tr>\n      <th>110439</th>\n      <td>apartment</td>\n      <td>Palermo</td>\n      <td>1552716.00</td>\n      <td>88000.00</td>\n      <td>24.0</td>\n      <td>24.0</td>\n      <td>3666.666667</td>\n      <td>3666.666667</td>\n      <td>1.0</td>\n    </tr>\n    <tr>\n      <th>17173</th>\n      <td>apartment</td>\n      <td>Constitución</td>\n      <td>1711516.50</td>\n      <td>97000.00</td>\n      <td>47.0</td>\n      <td>41.0</td>\n      <td>2063.829787</td>\n      <td>2365.853659</td>\n      <td>1.0</td>\n    </tr>\n    <tr>\n      <th>88846</th>\n      <td>apartment</td>\n      <td>Villa Urquiza</td>\n      <td>2303665.92</td>\n      <td>130560.00</td>\n      <td>64.0</td>\n      <td>46.0</td>\n      <td>2040.000000</td>\n      <td>2838.260870</td>\n      <td>NaN</td>\n    </tr>\n    <tr>\n      <th>42369</th>\n      <td>apartment</td>\n      <td>Constitución</td>\n      <td>688135.50</td>\n      <td>39000.00</td>\n      <td>26.0</td>\n      <td>26.0</td>\n      <td>1500.000000</td>\n      <td>1500.000000</td>\n      <td>1.0</td>\n    </tr>\n    <tr>\n      <th>87446</th>\n      <td>apartment</td>\n      <td>Villa Urquiza</td>\n      <td>1923250.50</td>\n      <td>109000.00</td>\n      <td>38.0</td>\n      <td>23.0</td>\n      <td>2868.421053</td>\n      <td>4739.130435</td>\n      <td>NaN</td>\n    </tr>\n    <tr>\n      <th>61537</th>\n      <td>store</td>\n      <td>Flores</td>\n      <td>8645805.00</td>\n      <td>490000.00</td>\n      <td>174.0</td>\n      <td>174.0</td>\n      <td>2816.091954</td>\n      <td>2816.091954</td>\n      <td>1.0</td>\n    </tr>\n    <tr>\n      <th>42281</th>\n      <td>apartment</td>\n      <td>Caballito</td>\n      <td>2082051.00</td>\n      <td>118000.00</td>\n      <td>52.0</td>\n      <td>46.0</td>\n      <td>2269.230769</td>\n      <td>2565.217391</td>\n      <td>2.0</td>\n    </tr>\n    <tr>\n      <th>82920</th>\n      <td>apartment</td>\n      <td>Belgrano</td>\n      <td>1936836.76</td>\n      <td>109770.00</td>\n      <td>41.0</td>\n      <td>35.0</td>\n      <td>2677.317073</td>\n      <td>3136.285714</td>\n      <td>NaN</td>\n    </tr>\n    <tr>\n      <th>55422</th>\n      <td>apartment</td>\n      <td>Belgrano</td>\n      <td>4411125.00</td>\n      <td>250000.00</td>\n      <td>91.0</td>\n      <td>91.0</td>\n      <td>2747.252747</td>\n      <td>2747.252747</td>\n      <td>4.0</td>\n    </tr>\n    <tr>\n      <th>12300</th>\n      <td>apartment</td>\n      <td>Boedo</td>\n      <td>3440677.50</td>\n      <td>195000.00</td>\n      <td>107.0</td>\n      <td>107.0</td>\n      <td>1822.429907</td>\n      <td>1822.429907</td>\n      <td>3.0</td>\n    </tr>\n    <tr>\n      <th>23696</th>\n      <td>apartment</td>\n      <td>Flores</td>\n      <td>1676227.50</td>\n      <td>95000.00</td>\n      <td>47.0</td>\n      <td>43.0</td>\n      <td>2021.276596</td>\n      <td>2209.302326</td>\n      <td>2.0</td>\n    </tr>\n    <tr>\n      <th>32127</th>\n      <td>apartment</td>\n      <td>Flores</td>\n      <td>1146892.50</td>\n      <td>65000.00</td>\n      <td>63.0</td>\n      <td>59.0</td>\n      <td>1031.746032</td>\n      <td>1101.694915</td>\n      <td>3.0</td>\n    </tr>\n    <tr>\n      <th>73670</th>\n      <td>apartment</td>\n      <td>Belgrano</td>\n      <td>2193064.72</td>\n      <td>124291.69</td>\n      <td>39.0</td>\n      <td>34.0</td>\n      <td>3186.966410</td>\n      <td>65181.852941</td>\n      <td>NaN</td>\n    </tr>\n    <tr>\n      <th>110409</th>\n      <td>house</td>\n      <td>Mataderos</td>\n      <td>4675792.50</td>\n      <td>265000.00</td>\n      <td>315.0</td>\n      <td>265.0</td>\n      <td>841.269841</td>\n      <td>1000.000000</td>\n      <td>4.0</td>\n    </tr>\n    <tr>\n      <th>44032</th>\n      <td>apartment</td>\n      <td>Recoleta</td>\n      <td>6969577.50</td>\n      <td>395000.00</td>\n      <td>143.0</td>\n      <td>136.0</td>\n      <td>2762.237762</td>\n      <td>2904.411765</td>\n      <td>4.0</td>\n    </tr>\n    <tr>\n      <th>34868</th>\n      <td>apartment</td>\n      <td>Villa Urquiza</td>\n      <td>1409795.55</td>\n      <td>79900.00</td>\n      <td>33.0</td>\n      <td>30.0</td>\n      <td>2421.212121</td>\n      <td>2663.333333</td>\n      <td>1.0</td>\n    </tr>\n    <tr>\n      <th>97318</th>\n      <td>apartment</td>\n      <td>Villa Urquiza</td>\n      <td>2999565.00</td>\n      <td>170000.00</td>\n      <td>73.0</td>\n      <td>47.0</td>\n      <td>2328.767123</td>\n      <td>3617.021277</td>\n      <td>NaN</td>\n    </tr>\n    <tr>\n      <th>24324</th>\n      <td>apartment</td>\n      <td>Balvanera</td>\n      <td>2152629.00</td>\n      <td>122000.00</td>\n      <td>60.0</td>\n      <td>48.0</td>\n      <td>2033.333333</td>\n      <td>2541.666667</td>\n      <td>2.0</td>\n    </tr>\n    <tr>\n      <th>7099</th>\n      <td>apartment</td>\n      <td>Chacarita</td>\n      <td>1588005.00</td>\n      <td>90000.00</td>\n      <td>NaN</td>\n      <td>42.0</td>\n      <td>NaN</td>\n      <td>2142.857143</td>\n      <td>1.0</td>\n    </tr>\n    <tr>\n      <th>73952</th>\n      <td>apartment</td>\n      <td>Recoleta</td>\n      <td>5205127.50</td>\n      <td>295000.00</td>\n      <td>110.0</td>\n      <td>101.0</td>\n      <td>2681.818182</td>\n      <td>2920.792079</td>\n      <td>NaN</td>\n    </tr>\n  </tbody>\n</table>\n</div>"
     },
     "metadata": {},
     "execution_count": 20
    }
   ],
   "source": [
    "# Dropeamos los valores que sabemos que está repetidos o con otra moneda.data_caba\n",
    "\n",
    "data_caba.drop(columns=['price', 'currency'], inplace=True)\n",
    "\n",
    "data_caba.sample(20)"
   ]
  }
 ]
}
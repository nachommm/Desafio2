{
 "metadata": {
  "language_info": {
   "codemirror_mode": {
    "name": "ipython",
    "version": 3
   },
   "file_extension": ".py",
   "mimetype": "text/x-python",
   "name": "python",
   "nbconvert_exporter": "python",
   "pygments_lexer": "ipython3",
   "version": "3.8.3-final"
  },
  "orig_nbformat": 2,
  "kernelspec": {
   "name": "python3",
   "display_name": "Python 3",
   "language": "python"
  }
 },
 "nbformat": 4,
 "nbformat_minor": 2,
 "cells": [
  {
   "source": [
    "<h2>Desarrollo del Desafio 2 - Machine Learning\n"
   ],
   "cell_type": "markdown",
   "metadata": {}
  },
  {
   "source": [
    "<h3>Grupo 7\n",
    "\n",
    "<li>Laura Jazmín Chao\n",
    "<li>Juan Nicolás Capistrano\n",
    "<li>Betiana Srur\n",
    "<li>Ignacio Mendieta\n",
    "<li>Marecelo Carrizo"
   ],
   "cell_type": "markdown",
   "metadata": {}
  },
  {
   "source": [
    "**Desafio 2** : Aplicar las tecnicas de Machine Learning para calcular el precio por metro cuadrado de las propiedades."
   ],
   "cell_type": "markdown",
   "metadata": {}
  },
  {
   "cell_type": "code",
   "execution_count": 2,
   "metadata": {},
   "outputs": [],
   "source": [
    "import numpy as np\n",
    "import pandas as pd\n",
    "\n",
    "# Libreria Grafica.\n",
    "%matplotlib inline\n",
    "import seaborn as sns\n",
    "from matplotlib import pyplot as plt\n",
    "\n",
    "# Libreria para analisis ML\n",
    "from sklearn import datasets, linear_model"
   ]
  },
  {
   "cell_type": "code",
   "execution_count": 3,
   "metadata": {},
   "outputs": [
    {
     "output_type": "execute_result",
     "data": {
      "text/plain": [
       "        Unnamed: 0 operation property_type    place_name  \\\n",
       "94905        94905      sell     apartment     Caballito   \n",
       "106342      106342      sell     apartment       Rosario   \n",
       "35369        35369      sell         house  Monte Grande   \n",
       "15275        15275      sell         house         Morón   \n",
       "98547        98547      sell         house      Nordelta   \n",
       "\n",
       "                                  place_with_parent_names country_name  \\\n",
       "94905               |Argentina|Capital Federal|Caballito|    Argentina   \n",
       "106342                       |Argentina|Santa Fe|Rosario|    Argentina   \n",
       "35369   |Argentina|Bs.As. G.B.A. Zona Sur|Esteban Eche...    Argentina   \n",
       "15275          |Argentina|Bs.As. G.B.A. Zona Oeste|Morón|    Argentina   \n",
       "98547   |Argentina|Bs.As. G.B.A. Zona Norte|Tigre|Nord...    Argentina   \n",
       "\n",
       "                      state_name  geonames_id                  lat-lon  \\\n",
       "94905            Capital Federal    3435874.0                      NaN   \n",
       "106342                  Santa Fe    3838574.0                      NaN   \n",
       "35369     Bs.As. G.B.A. Zona Sur          NaN  -34.8423335,-58.4546261   \n",
       "15275   Bs.As. G.B.A. Zona Oeste    3430544.0  -34.6904966,-58.6300651   \n",
       "98547   Bs.As. G.B.A. Zona Norte          NaN                      NaN   \n",
       "\n",
       "              lat  ...  surface_covered_in_m2  price_usd_per_m2  price_per_m2  \\\n",
       "94905         NaN  ...                  133.0       2611.111111   3533.834586   \n",
       "106342        NaN  ...                   37.0               NaN  36906.648649   \n",
       "35369  -34.842334  ...                  150.0        705.882353    800.000000   \n",
       "15275  -34.690497  ...                    NaN               NaN           NaN   \n",
       "98547         NaN  ...                    NaN               NaN           NaN   \n",
       "\n",
       "        floor  rooms  expenses  \\\n",
       "94905     NaN    NaN    7300.0   \n",
       "106342    NaN    NaN       NaN   \n",
       "35369     NaN    NaN       NaN   \n",
       "15275     NaN    NaN       NaN   \n",
       "98547     NaN    NaN       NaN   \n",
       "\n",
       "                                            properati_url  \\\n",
       "94905   http://www.properati.com.ar/1bgbx_venta_depart...   \n",
       "106342  http://www.properati.com.ar/1bw7d_venta_depart...   \n",
       "35369   http://www.properati.com.ar/18e6t_venta_casa_m...   \n",
       "15275   http://www.properati.com.ar/16uo7_venta_casa_m...   \n",
       "98547   http://www.properati.com.ar/1bln9_venta_casa_n...   \n",
       "\n",
       "                                              description  \\\n",
       "94905   - Excelente estado - Balcón terraza al frente ...   \n",
       "106342  Departamentos de primera calidad. Ideal invers...   \n",
       "35369   CODIGO:  ubicado en: Juarez 2823 -  Publicado ...   \n",
       "15275   CODIGO: 690-v-15050 ubicado en: Mosquera  1872...   \n",
       "98547   Lindísima casa 5 amb desarrollada en dos plant...   \n",
       "\n",
       "                                                    title  \\\n",
       "94905   Excelente departamento de 4 ambientes con 3 co...   \n",
       "106342                           Departamento - Echesortu   \n",
       "35369           Hermosa casa construida sobre dos lotes.    \n",
       "15275                               MOSQUERA - MORON SUR    \n",
       "98547                                 Casa - Los Castores   \n",
       "\n",
       "                                          image_thumbnail  \n",
       "94905   https://thumbs4.properati.com/6/59F3suDdu_kQ6a...  \n",
       "106342                                                NaN  \n",
       "35369   https://thumbs4.properati.com/5/KRjJghovF_mYRf...  \n",
       "15275   https://thumbs4.properati.com/4/dOEBkJSIzkVc3p...  \n",
       "98547   https://thumbs4.properati.com/0/STcrcD0ZJ9So11...  \n",
       "\n",
       "[5 rows x 26 columns]"
      ],
      "text/html": "<div>\n<style scoped>\n    .dataframe tbody tr th:only-of-type {\n        vertical-align: middle;\n    }\n\n    .dataframe tbody tr th {\n        vertical-align: top;\n    }\n\n    .dataframe thead th {\n        text-align: right;\n    }\n</style>\n<table border=\"1\" class=\"dataframe\">\n  <thead>\n    <tr style=\"text-align: right;\">\n      <th></th>\n      <th>Unnamed: 0</th>\n      <th>operation</th>\n      <th>property_type</th>\n      <th>place_name</th>\n      <th>place_with_parent_names</th>\n      <th>country_name</th>\n      <th>state_name</th>\n      <th>geonames_id</th>\n      <th>lat-lon</th>\n      <th>lat</th>\n      <th>...</th>\n      <th>surface_covered_in_m2</th>\n      <th>price_usd_per_m2</th>\n      <th>price_per_m2</th>\n      <th>floor</th>\n      <th>rooms</th>\n      <th>expenses</th>\n      <th>properati_url</th>\n      <th>description</th>\n      <th>title</th>\n      <th>image_thumbnail</th>\n    </tr>\n  </thead>\n  <tbody>\n    <tr>\n      <th>94905</th>\n      <td>94905</td>\n      <td>sell</td>\n      <td>apartment</td>\n      <td>Caballito</td>\n      <td>|Argentina|Capital Federal|Caballito|</td>\n      <td>Argentina</td>\n      <td>Capital Federal</td>\n      <td>3435874.0</td>\n      <td>NaN</td>\n      <td>NaN</td>\n      <td>...</td>\n      <td>133.0</td>\n      <td>2611.111111</td>\n      <td>3533.834586</td>\n      <td>NaN</td>\n      <td>NaN</td>\n      <td>7300.0</td>\n      <td>http://www.properati.com.ar/1bgbx_venta_depart...</td>\n      <td>- Excelente estado - Balcón terraza al frente ...</td>\n      <td>Excelente departamento de 4 ambientes con 3 co...</td>\n      <td>https://thumbs4.properati.com/6/59F3suDdu_kQ6a...</td>\n    </tr>\n    <tr>\n      <th>106342</th>\n      <td>106342</td>\n      <td>sell</td>\n      <td>apartment</td>\n      <td>Rosario</td>\n      <td>|Argentina|Santa Fe|Rosario|</td>\n      <td>Argentina</td>\n      <td>Santa Fe</td>\n      <td>3838574.0</td>\n      <td>NaN</td>\n      <td>NaN</td>\n      <td>...</td>\n      <td>37.0</td>\n      <td>NaN</td>\n      <td>36906.648649</td>\n      <td>NaN</td>\n      <td>NaN</td>\n      <td>NaN</td>\n      <td>http://www.properati.com.ar/1bw7d_venta_depart...</td>\n      <td>Departamentos de primera calidad. Ideal invers...</td>\n      <td>Departamento - Echesortu</td>\n      <td>NaN</td>\n    </tr>\n    <tr>\n      <th>35369</th>\n      <td>35369</td>\n      <td>sell</td>\n      <td>house</td>\n      <td>Monte Grande</td>\n      <td>|Argentina|Bs.As. G.B.A. Zona Sur|Esteban Eche...</td>\n      <td>Argentina</td>\n      <td>Bs.As. G.B.A. Zona Sur</td>\n      <td>NaN</td>\n      <td>-34.8423335,-58.4546261</td>\n      <td>-34.842334</td>\n      <td>...</td>\n      <td>150.0</td>\n      <td>705.882353</td>\n      <td>800.000000</td>\n      <td>NaN</td>\n      <td>NaN</td>\n      <td>NaN</td>\n      <td>http://www.properati.com.ar/18e6t_venta_casa_m...</td>\n      <td>CODIGO:  ubicado en: Juarez 2823 -  Publicado ...</td>\n      <td>Hermosa casa construida sobre dos lotes.</td>\n      <td>https://thumbs4.properati.com/5/KRjJghovF_mYRf...</td>\n    </tr>\n    <tr>\n      <th>15275</th>\n      <td>15275</td>\n      <td>sell</td>\n      <td>house</td>\n      <td>Morón</td>\n      <td>|Argentina|Bs.As. G.B.A. Zona Oeste|Morón|</td>\n      <td>Argentina</td>\n      <td>Bs.As. G.B.A. Zona Oeste</td>\n      <td>3430544.0</td>\n      <td>-34.6904966,-58.6300651</td>\n      <td>-34.690497</td>\n      <td>...</td>\n      <td>NaN</td>\n      <td>NaN</td>\n      <td>NaN</td>\n      <td>NaN</td>\n      <td>NaN</td>\n      <td>NaN</td>\n      <td>http://www.properati.com.ar/16uo7_venta_casa_m...</td>\n      <td>CODIGO: 690-v-15050 ubicado en: Mosquera  1872...</td>\n      <td>MOSQUERA - MORON SUR</td>\n      <td>https://thumbs4.properati.com/4/dOEBkJSIzkVc3p...</td>\n    </tr>\n    <tr>\n      <th>98547</th>\n      <td>98547</td>\n      <td>sell</td>\n      <td>house</td>\n      <td>Nordelta</td>\n      <td>|Argentina|Bs.As. G.B.A. Zona Norte|Tigre|Nord...</td>\n      <td>Argentina</td>\n      <td>Bs.As. G.B.A. Zona Norte</td>\n      <td>NaN</td>\n      <td>NaN</td>\n      <td>NaN</td>\n      <td>...</td>\n      <td>NaN</td>\n      <td>NaN</td>\n      <td>NaN</td>\n      <td>NaN</td>\n      <td>NaN</td>\n      <td>NaN</td>\n      <td>http://www.properati.com.ar/1bln9_venta_casa_n...</td>\n      <td>Lindísima casa 5 amb desarrollada en dos plant...</td>\n      <td>Casa - Los Castores</td>\n      <td>https://thumbs4.properati.com/0/STcrcD0ZJ9So11...</td>\n    </tr>\n  </tbody>\n</table>\n<p>5 rows × 26 columns</p>\n</div>"
     },
     "metadata": {},
     "execution_count": 3
    }
   ],
   "source": [
    "# Definimos la ruta de la información.\n",
    "data_propiedades = \"Data/properati.csv\"\n",
    "\n",
    "# Leemos los datos del archivo\n",
    "data = pd.read_csv(data_propiedades, sep=\",\", encoding=\"UTF-8\")\n",
    "\n",
    "# Chequeamos que los datos se hayan importado correctamente\n",
    "data.sample(5)"
   ]
  },
  {
   "cell_type": "code",
   "execution_count": 4,
   "metadata": {},
   "outputs": [
    {
     "output_type": "execute_result",
     "data": {
      "text/plain": [
       "(121220, 26)"
      ]
     },
     "metadata": {},
     "execution_count": 4
    }
   ],
   "source": [
    "# Chequeamos cantidad de registros y cantidad de columnas\n",
    "data.shape"
   ]
  },
  {
   "source": [
    "<h2>Limpieza de Datos."
   ],
   "cell_type": "markdown",
   "metadata": {}
  },
  {
   "cell_type": "code",
   "execution_count": 5,
   "metadata": {},
   "outputs": [
    {
     "output_type": "execute_result",
     "data": {
      "text/plain": [
       "        Unnamed: 0 operation property_type       place_name  \\\n",
       "50387        50387      sell     apartment  Capital Federal   \n",
       "50388        50388      sell     apartment  Capital Federal   \n",
       "107390      107390      sell         house        San Roque   \n",
       "\n",
       "              place_with_parent_names country_name       state_name  \\\n",
       "50387     |Argentina|Capital Federal|    Argentina  Capital Federal   \n",
       "50388     |Argentina|Capital Federal|    Argentina  Capital Federal   \n",
       "107390  |Argentina|Mendoza|San Roque|    Argentina          Mendoza   \n",
       "\n",
       "        geonames_id lat-lon  lat  ...  surface_covered_in_m2  \\\n",
       "50387     3433955.0     NaN  NaN  ...                    NaN   \n",
       "50388     3433955.0     NaN  NaN  ...                    NaN   \n",
       "107390    3836586.0     NaN  NaN  ...                    NaN   \n",
       "\n",
       "        price_usd_per_m2 price_per_m2  floor  rooms  expenses  \\\n",
       "50387                NaN          NaN    NaN    NaN       NaN   \n",
       "50388                NaN          NaN    NaN    NaN       NaN   \n",
       "107390               NaN          NaN    NaN    NaN       NaN   \n",
       "\n",
       "                                            properati_url  \\\n",
       "50387   http://www.properati.com.ar/19e8z_venta_depart...   \n",
       "50388   http://www.properati.com.ar/19e90_venta_depart...   \n",
       "107390  http://www.properati.com.ar/1by0s_venta_casa_s...   \n",
       "\n",
       "                                              description  \\\n",
       "50387   Ref.: 55:PREVENTA ::: OPORTUNIDAD ::: Dúplex a...   \n",
       "50388   Ref.: 56Duplex en venta de 1 dormitorio con ap...   \n",
       "107390  Casa con Calefacción central, Mendoza, San Roq...   \n",
       "\n",
       "                                            title  \\\n",
       "50387   DUPLEX A LA VENTA | Liniers 1200 | Tandil   \n",
       "50388   DUPLEX A LA VENTA | Liniers 1200 | Tandil   \n",
       "107390                         Casa - San Vicente   \n",
       "\n",
       "                                          image_thumbnail  \n",
       "50387   https://thumbs4.properati.com/9/N_Qr_5X_vOq--b...  \n",
       "50388   https://thumbs4.properati.com/8/_cBXAyr_9pDySg...  \n",
       "107390  https://thumbs4.properati.com/2/pA0RbuDKRK6GgV...  \n",
       "\n",
       "[3 rows x 26 columns]"
      ],
      "text/html": "<div>\n<style scoped>\n    .dataframe tbody tr th:only-of-type {\n        vertical-align: middle;\n    }\n\n    .dataframe tbody tr th {\n        vertical-align: top;\n    }\n\n    .dataframe thead th {\n        text-align: right;\n    }\n</style>\n<table border=\"1\" class=\"dataframe\">\n  <thead>\n    <tr style=\"text-align: right;\">\n      <th></th>\n      <th>Unnamed: 0</th>\n      <th>operation</th>\n      <th>property_type</th>\n      <th>place_name</th>\n      <th>place_with_parent_names</th>\n      <th>country_name</th>\n      <th>state_name</th>\n      <th>geonames_id</th>\n      <th>lat-lon</th>\n      <th>lat</th>\n      <th>...</th>\n      <th>surface_covered_in_m2</th>\n      <th>price_usd_per_m2</th>\n      <th>price_per_m2</th>\n      <th>floor</th>\n      <th>rooms</th>\n      <th>expenses</th>\n      <th>properati_url</th>\n      <th>description</th>\n      <th>title</th>\n      <th>image_thumbnail</th>\n    </tr>\n  </thead>\n  <tbody>\n    <tr>\n      <th>50387</th>\n      <td>50387</td>\n      <td>sell</td>\n      <td>apartment</td>\n      <td>Capital Federal</td>\n      <td>|Argentina|Capital Federal|</td>\n      <td>Argentina</td>\n      <td>Capital Federal</td>\n      <td>3433955.0</td>\n      <td>NaN</td>\n      <td>NaN</td>\n      <td>...</td>\n      <td>NaN</td>\n      <td>NaN</td>\n      <td>NaN</td>\n      <td>NaN</td>\n      <td>NaN</td>\n      <td>NaN</td>\n      <td>http://www.properati.com.ar/19e8z_venta_depart...</td>\n      <td>Ref.: 55:PREVENTA ::: OPORTUNIDAD ::: Dúplex a...</td>\n      <td>DUPLEX A LA VENTA | Liniers 1200 | Tandil</td>\n      <td>https://thumbs4.properati.com/9/N_Qr_5X_vOq--b...</td>\n    </tr>\n    <tr>\n      <th>50388</th>\n      <td>50388</td>\n      <td>sell</td>\n      <td>apartment</td>\n      <td>Capital Federal</td>\n      <td>|Argentina|Capital Federal|</td>\n      <td>Argentina</td>\n      <td>Capital Federal</td>\n      <td>3433955.0</td>\n      <td>NaN</td>\n      <td>NaN</td>\n      <td>...</td>\n      <td>NaN</td>\n      <td>NaN</td>\n      <td>NaN</td>\n      <td>NaN</td>\n      <td>NaN</td>\n      <td>NaN</td>\n      <td>http://www.properati.com.ar/19e90_venta_depart...</td>\n      <td>Ref.: 56Duplex en venta de 1 dormitorio con ap...</td>\n      <td>DUPLEX A LA VENTA | Liniers 1200 | Tandil</td>\n      <td>https://thumbs4.properati.com/8/_cBXAyr_9pDySg...</td>\n    </tr>\n    <tr>\n      <th>107390</th>\n      <td>107390</td>\n      <td>sell</td>\n      <td>house</td>\n      <td>San Roque</td>\n      <td>|Argentina|Mendoza|San Roque|</td>\n      <td>Argentina</td>\n      <td>Mendoza</td>\n      <td>3836586.0</td>\n      <td>NaN</td>\n      <td>NaN</td>\n      <td>...</td>\n      <td>NaN</td>\n      <td>NaN</td>\n      <td>NaN</td>\n      <td>NaN</td>\n      <td>NaN</td>\n      <td>NaN</td>\n      <td>http://www.properati.com.ar/1by0s_venta_casa_s...</td>\n      <td>Casa con Calefacción central, Mendoza, San Roq...</td>\n      <td>Casa - San Vicente</td>\n      <td>https://thumbs4.properati.com/2/pA0RbuDKRK6GgV...</td>\n    </tr>\n  </tbody>\n</table>\n<p>3 rows × 26 columns</p>\n</div>"
     },
     "metadata": {},
     "execution_count": 5
    }
   ],
   "source": [
    "# Creamos una mask para traer los valores en monedas que no son USD ni ARS.\n",
    "currency_OTHER_CURRENCY_mask = (data.currency == 'PEN') | (data.currency == 'UYU')\n",
    "# Observamos esos registros\n",
    "data.loc[currency_OTHER_CURRENCY_mask, :]"
   ]
  },
  {
   "cell_type": "code",
   "execution_count": 6,
   "metadata": {},
   "outputs": [
    {
     "output_type": "stream",
     "name": "stdout",
     "text": [
      "Cantidad de registros original - registro actuales: 3\n"
     ]
    }
   ],
   "source": [
    "# Hacemos drop de esos registros y chequeamos la diferencia entre cantidad original y actual\n",
    "cant_registros = data.shape[0]\n",
    "data.drop(data.loc[currency_OTHER_CURRENCY_mask, :].index, inplace = True)\n",
    "print(f'Cantidad de registros original - registro actuales: {cant_registros - data.shape[0]}')"
   ]
  },
  {
   "cell_type": "code",
   "execution_count": 10,
   "metadata": {},
   "outputs": [
    {
     "output_type": "execute_result",
     "data": {
      "text/plain": [
       "  property_type place_name                            place_with_parent_names  \\\n",
       "0            PH  Mataderos              |Argentina|Capital Federal|Mataderos|   \n",
       "1     apartment   La Plata        |Argentina|Bs.As. G.B.A. Zona Sur|La Plata|   \n",
       "2     apartment  Mataderos              |Argentina|Capital Federal|Mataderos|   \n",
       "3            PH    Liniers                |Argentina|Capital Federal|Liniers|   \n",
       "4     apartment     Centro  |Argentina|Buenos Aires Costa Atlántica|Mar de...   \n",
       "\n",
       "  country_name                    state_name     price currency  \\\n",
       "0    Argentina               Capital Federal   62000.0      USD   \n",
       "1    Argentina        Bs.As. G.B.A. Zona Sur  150000.0      USD   \n",
       "2    Argentina               Capital Federal   72000.0      USD   \n",
       "3    Argentina               Capital Federal   95000.0      USD   \n",
       "4    Argentina  Buenos Aires Costa Atlántica   64000.0      USD   \n",
       "\n",
       "   price_aprox_local_currency  price_aprox_usd  surface_total_in_m2  \\\n",
       "0                   1093959.0          62000.0                 55.0   \n",
       "1                   2646675.0         150000.0                  NaN   \n",
       "2                   1270404.0          72000.0                 55.0   \n",
       "3                   1676227.5          95000.0                  NaN   \n",
       "4                   1129248.0          64000.0                 35.0   \n",
       "\n",
       "   surface_covered_in_m2  price_usd_per_m2  price_per_m2  floor  rooms  \\\n",
       "0                   40.0       1127.272727   1550.000000    NaN    NaN   \n",
       "1                    NaN               NaN           NaN    NaN    NaN   \n",
       "2                   55.0       1309.090909   1309.090909    NaN    NaN   \n",
       "3                    NaN               NaN           NaN    NaN    NaN   \n",
       "4                   35.0       1828.571429   1828.571429    NaN    NaN   \n",
       "\n",
       "                                         description  \\\n",
       "0  2 AMBIENTES TIPO CASA PLANTA BAJA POR PASILLO,...   \n",
       "1  Venta de departamento en décimo piso al frente...   \n",
       "2  2 AMBIENTES 3ER PISO LATERAL LIVING COMEDOR AM...   \n",
       "3  PH 3 ambientes con patio. Hay 3 deptos en lote...   \n",
       "4  DEPARTAMENTO CON FANTÁSTICA ILUMINACIÓN NATURA...   \n",
       "\n",
       "                                               title  \n",
       "0                 2 AMB TIPO CASA SIN EXPENSAS EN PB  \n",
       "1  VENTA Depto 2 dorm. a estrenar 7 e/ 36 y 37   ...  \n",
       "2           2 AMB 3ER PISO CON ASCENSOR APTO CREDITO  \n",
       "3                       PH 3 amb. cfte. reciclado     \n",
       "4  DEPTO 2 AMB AL CONTRAFRENTE ZONA CENTRO/PLAZA ...  "
      ],
      "text/html": "<div>\n<style scoped>\n    .dataframe tbody tr th:only-of-type {\n        vertical-align: middle;\n    }\n\n    .dataframe tbody tr th {\n        vertical-align: top;\n    }\n\n    .dataframe thead th {\n        text-align: right;\n    }\n</style>\n<table border=\"1\" class=\"dataframe\">\n  <thead>\n    <tr style=\"text-align: right;\">\n      <th></th>\n      <th>property_type</th>\n      <th>place_name</th>\n      <th>place_with_parent_names</th>\n      <th>country_name</th>\n      <th>state_name</th>\n      <th>price</th>\n      <th>currency</th>\n      <th>price_aprox_local_currency</th>\n      <th>price_aprox_usd</th>\n      <th>surface_total_in_m2</th>\n      <th>surface_covered_in_m2</th>\n      <th>price_usd_per_m2</th>\n      <th>price_per_m2</th>\n      <th>floor</th>\n      <th>rooms</th>\n      <th>description</th>\n      <th>title</th>\n    </tr>\n  </thead>\n  <tbody>\n    <tr>\n      <th>0</th>\n      <td>PH</td>\n      <td>Mataderos</td>\n      <td>|Argentina|Capital Federal|Mataderos|</td>\n      <td>Argentina</td>\n      <td>Capital Federal</td>\n      <td>62000.0</td>\n      <td>USD</td>\n      <td>1093959.0</td>\n      <td>62000.0</td>\n      <td>55.0</td>\n      <td>40.0</td>\n      <td>1127.272727</td>\n      <td>1550.000000</td>\n      <td>NaN</td>\n      <td>NaN</td>\n      <td>2 AMBIENTES TIPO CASA PLANTA BAJA POR PASILLO,...</td>\n      <td>2 AMB TIPO CASA SIN EXPENSAS EN PB</td>\n    </tr>\n    <tr>\n      <th>1</th>\n      <td>apartment</td>\n      <td>La Plata</td>\n      <td>|Argentina|Bs.As. G.B.A. Zona Sur|La Plata|</td>\n      <td>Argentina</td>\n      <td>Bs.As. G.B.A. Zona Sur</td>\n      <td>150000.0</td>\n      <td>USD</td>\n      <td>2646675.0</td>\n      <td>150000.0</td>\n      <td>NaN</td>\n      <td>NaN</td>\n      <td>NaN</td>\n      <td>NaN</td>\n      <td>NaN</td>\n      <td>NaN</td>\n      <td>Venta de departamento en décimo piso al frente...</td>\n      <td>VENTA Depto 2 dorm. a estrenar 7 e/ 36 y 37   ...</td>\n    </tr>\n    <tr>\n      <th>2</th>\n      <td>apartment</td>\n      <td>Mataderos</td>\n      <td>|Argentina|Capital Federal|Mataderos|</td>\n      <td>Argentina</td>\n      <td>Capital Federal</td>\n      <td>72000.0</td>\n      <td>USD</td>\n      <td>1270404.0</td>\n      <td>72000.0</td>\n      <td>55.0</td>\n      <td>55.0</td>\n      <td>1309.090909</td>\n      <td>1309.090909</td>\n      <td>NaN</td>\n      <td>NaN</td>\n      <td>2 AMBIENTES 3ER PISO LATERAL LIVING COMEDOR AM...</td>\n      <td>2 AMB 3ER PISO CON ASCENSOR APTO CREDITO</td>\n    </tr>\n    <tr>\n      <th>3</th>\n      <td>PH</td>\n      <td>Liniers</td>\n      <td>|Argentina|Capital Federal|Liniers|</td>\n      <td>Argentina</td>\n      <td>Capital Federal</td>\n      <td>95000.0</td>\n      <td>USD</td>\n      <td>1676227.5</td>\n      <td>95000.0</td>\n      <td>NaN</td>\n      <td>NaN</td>\n      <td>NaN</td>\n      <td>NaN</td>\n      <td>NaN</td>\n      <td>NaN</td>\n      <td>PH 3 ambientes con patio. Hay 3 deptos en lote...</td>\n      <td>PH 3 amb. cfte. reciclado</td>\n    </tr>\n    <tr>\n      <th>4</th>\n      <td>apartment</td>\n      <td>Centro</td>\n      <td>|Argentina|Buenos Aires Costa Atlántica|Mar de...</td>\n      <td>Argentina</td>\n      <td>Buenos Aires Costa Atlántica</td>\n      <td>64000.0</td>\n      <td>USD</td>\n      <td>1129248.0</td>\n      <td>64000.0</td>\n      <td>35.0</td>\n      <td>35.0</td>\n      <td>1828.571429</td>\n      <td>1828.571429</td>\n      <td>NaN</td>\n      <td>NaN</td>\n      <td>DEPARTAMENTO CON FANTÁSTICA ILUMINACIÓN NATURA...</td>\n      <td>DEPTO 2 AMB AL CONTRAFRENTE ZONA CENTRO/PLAZA ...</td>\n    </tr>\n  </tbody>\n</table>\n</div>"
     },
     "metadata": {},
     "execution_count": 10
    }
   ],
   "source": [
    "# Creamos la lista de columnas a filtrar\n",
    "drop_columns = ['properati_url', 'Unnamed: 0', 'operation','image_thumbnail','expenses','lat-lon','geonames_id','lat', 'lon']\n",
    "\n",
    "# Creamos una variable nueva para guardar los datos (el cambio se realiza inplace=False)\n",
    "data_filtered = data.drop(drop_columns, axis=1)\n",
    "data_filtered.head(5)"
   ]
  },
  {
   "source": [
    "**Esto no es necesario ahora ¿?**"
   ],
   "cell_type": "markdown",
   "metadata": {}
  },
  {
   "cell_type": "code",
   "execution_count": 11,
   "metadata": {},
   "outputs": [],
   "source": [
    "# Creamos un diccionario con la nueva agrupación\n",
    "provincia={'Capital Federal':'CABA','Bs.As. G.B.A. Zona Norte': 'Bs. As. G.B.A.', 'Bs.As. G.B.A. Zona Sur':'Bs. As. G.B.A.', 'Córdoba':'Córdoba','Santa Fe':'Santa Fe','Buenos Aires Costa Atlántica':'Buenos Aires', 'Bs.As. G.B.A. Zona Oeste':'Bs. As. G.B.A.', 'Buenos Aires Interior':'Buenos Aires','Río Negro':'Resto del país','Neuquén':'Resto del país', 'Mendoza':'Resto del país', 'Tucumán':'Resto del país', 'Corrientes':'Resto del país', 'Misiones':'Resto del país', 'Entre Ríos':'Resto del país', 'Salta':'Resto del país', 'Chubut':'Resto del país', 'San Luis':'Resto del país', 'La Pampa':'Resto del país','Formosa':'Resto del país','Chaco': 'Resto del país', 'San Juan':'Resto del país','Tierra Del Fuego':'Resto del país', 'Catamarca':'Resto del país', 'Jujuy': 'Resto del país', 'Santa Cruz':'Resto del país', 'La Rioja':'Resto del país', 'Santiago Del Estero':'Resto del país'}"
   ]
  },
  {
   "cell_type": "code",
   "execution_count": 14,
   "metadata": {},
   "outputs": [
    {
     "output_type": "display_data",
     "data": {
      "text/plain": "       property_type   place_name  \\\n56397      apartment  Ramos Mejía   \n87299      apartment      Córdoba   \n86061      apartment    San Telmo   \n112610     apartment      Córdoba   \n103460     apartment   Villa Rosa   \n\n                                  place_with_parent_names country_name  \\\n56397   |Argentina|Bs.As. G.B.A. Zona Oeste|La Matanza...    Argentina   \n87299                         |Argentina|Córdoba|Córdoba|    Argentina   \n86061               |Argentina|Capital Federal|San Telmo|    Argentina   \n112610                                |Argentina|Córdoba|    Argentina   \n103460  |Argentina|Bs.As. G.B.A. Zona Norte|Pilar|Vill...    Argentina   \n\n                      state_name     price currency  \\\n56397   Bs.As. G.B.A. Zona Oeste   55000.0      USD   \n87299                    Córdoba  950000.0      ARS   \n86061            Capital Federal   76000.0      USD   \n112610                   Córdoba       NaN      NaN   \n103460  Bs.As. G.B.A. Zona Norte  300000.0      USD   \n\n        price_aprox_local_currency  price_aprox_usd  surface_total_in_m2  \\\n56397                    970447.50         55000.00                  NaN   \n87299                    940089.96         53279.49                  NaN   \n86061                   1340982.00         76000.00                 32.0   \n112610                         NaN              NaN                 46.0   \n103460                  5293350.00        300000.00                170.0   \n\n        surface_covered_in_m2  price_usd_per_m2  price_per_m2  floor  rooms  \\\n56397                     1.0               NaN  55000.000000    NaN    NaN   \n87299                    40.0               NaN  23750.000000    NaN    NaN   \n86061                    28.0       2375.000000   2714.285714    NaN    NaN   \n112610                   42.0               NaN           NaN    NaN    NaN   \n103460                   72.0       1764.705882   4166.666667    NaN    NaN   \n\n                                              description  \\\n56397   DEPARTAMENTO MONOAMBIENTE, VICENTE LOPEZ 295, ...   \n87299   Unidad: \"15\" con vista al Centro de la Ciudad,...   \n86061   Departamento en venta de 1 ambiente en el barr...   \n112610  Te invitamos a conocer:Windows TowerLa vanguar...   \n103460              Winterra S.A.Catamarca 1150CMCPSI5015   \n\n                                                    title  province_group  \n56397                               DEPARTAMENTO EN VENTA  Bs. As. G.B.A.  \n87299                         Departamento - Alto Alberdi         Córdoba  \n86061   Monoambiente al frente apto profesional - vent...            CABA  \n112610                       Departamento - Nueva Cordoba         Córdoba  \n103460  Lagoon Pilar 3 ambientes con terraza y Vista a...  Bs. As. G.B.A.  ",
      "text/html": "<div>\n<style scoped>\n    .dataframe tbody tr th:only-of-type {\n        vertical-align: middle;\n    }\n\n    .dataframe tbody tr th {\n        vertical-align: top;\n    }\n\n    .dataframe thead th {\n        text-align: right;\n    }\n</style>\n<table border=\"1\" class=\"dataframe\">\n  <thead>\n    <tr style=\"text-align: right;\">\n      <th></th>\n      <th>property_type</th>\n      <th>place_name</th>\n      <th>place_with_parent_names</th>\n      <th>country_name</th>\n      <th>state_name</th>\n      <th>price</th>\n      <th>currency</th>\n      <th>price_aprox_local_currency</th>\n      <th>price_aprox_usd</th>\n      <th>surface_total_in_m2</th>\n      <th>surface_covered_in_m2</th>\n      <th>price_usd_per_m2</th>\n      <th>price_per_m2</th>\n      <th>floor</th>\n      <th>rooms</th>\n      <th>description</th>\n      <th>title</th>\n      <th>province_group</th>\n    </tr>\n  </thead>\n  <tbody>\n    <tr>\n      <th>56397</th>\n      <td>apartment</td>\n      <td>Ramos Mejía</td>\n      <td>|Argentina|Bs.As. G.B.A. Zona Oeste|La Matanza...</td>\n      <td>Argentina</td>\n      <td>Bs.As. G.B.A. Zona Oeste</td>\n      <td>55000.0</td>\n      <td>USD</td>\n      <td>970447.50</td>\n      <td>55000.00</td>\n      <td>NaN</td>\n      <td>1.0</td>\n      <td>NaN</td>\n      <td>55000.000000</td>\n      <td>NaN</td>\n      <td>NaN</td>\n      <td>DEPARTAMENTO MONOAMBIENTE, VICENTE LOPEZ 295, ...</td>\n      <td>DEPARTAMENTO EN VENTA</td>\n      <td>Bs. As. G.B.A.</td>\n    </tr>\n    <tr>\n      <th>87299</th>\n      <td>apartment</td>\n      <td>Córdoba</td>\n      <td>|Argentina|Córdoba|Córdoba|</td>\n      <td>Argentina</td>\n      <td>Córdoba</td>\n      <td>950000.0</td>\n      <td>ARS</td>\n      <td>940089.96</td>\n      <td>53279.49</td>\n      <td>NaN</td>\n      <td>40.0</td>\n      <td>NaN</td>\n      <td>23750.000000</td>\n      <td>NaN</td>\n      <td>NaN</td>\n      <td>Unidad: \"15\" con vista al Centro de la Ciudad,...</td>\n      <td>Departamento - Alto Alberdi</td>\n      <td>Córdoba</td>\n    </tr>\n    <tr>\n      <th>86061</th>\n      <td>apartment</td>\n      <td>San Telmo</td>\n      <td>|Argentina|Capital Federal|San Telmo|</td>\n      <td>Argentina</td>\n      <td>Capital Federal</td>\n      <td>76000.0</td>\n      <td>USD</td>\n      <td>1340982.00</td>\n      <td>76000.00</td>\n      <td>32.0</td>\n      <td>28.0</td>\n      <td>2375.000000</td>\n      <td>2714.285714</td>\n      <td>NaN</td>\n      <td>NaN</td>\n      <td>Departamento en venta de 1 ambiente en el barr...</td>\n      <td>Monoambiente al frente apto profesional - vent...</td>\n      <td>CABA</td>\n    </tr>\n    <tr>\n      <th>112610</th>\n      <td>apartment</td>\n      <td>Córdoba</td>\n      <td>|Argentina|Córdoba|</td>\n      <td>Argentina</td>\n      <td>Córdoba</td>\n      <td>NaN</td>\n      <td>NaN</td>\n      <td>NaN</td>\n      <td>NaN</td>\n      <td>46.0</td>\n      <td>42.0</td>\n      <td>NaN</td>\n      <td>NaN</td>\n      <td>NaN</td>\n      <td>NaN</td>\n      <td>Te invitamos a conocer:Windows TowerLa vanguar...</td>\n      <td>Departamento - Nueva Cordoba</td>\n      <td>Córdoba</td>\n    </tr>\n    <tr>\n      <th>103460</th>\n      <td>apartment</td>\n      <td>Villa Rosa</td>\n      <td>|Argentina|Bs.As. G.B.A. Zona Norte|Pilar|Vill...</td>\n      <td>Argentina</td>\n      <td>Bs.As. G.B.A. Zona Norte</td>\n      <td>300000.0</td>\n      <td>USD</td>\n      <td>5293350.00</td>\n      <td>300000.00</td>\n      <td>170.0</td>\n      <td>72.0</td>\n      <td>1764.705882</td>\n      <td>4166.666667</td>\n      <td>NaN</td>\n      <td>NaN</td>\n      <td>Winterra S.A.Catamarca 1150CMCPSI5015</td>\n      <td>Lagoon Pilar 3 ambientes con terraza y Vista a...</td>\n      <td>Bs. As. G.B.A.</td>\n    </tr>\n  </tbody>\n</table>\n</div>"
     },
     "metadata": {}
    },
    {
     "output_type": "display_data",
     "data": {
      "text/plain": "Córdoba                9254\nRosario                8504\nMar del Plata          6534\nTigre                  3324\nNordelta               3315\n                       ... \nBouwer                    1\nGolf Club Argentino       1\nVilla Argüello            1\nCalmayo                   1\nBarrio Melazzi            1\nName: place_name, Length: 1060, dtype: int64"
     },
     "metadata": {}
    }
   ],
   "source": [
    "# Mapeamos las provincias con el diccionario y ponermos el grupo en una columna nueva\n",
    "data_filtered['province_group'] = data_filtered.state_name.map(provincia)\n",
    "display(data_filtered.sample(5))\n"
   ]
  },
  {
   "source": [
    "<h2>Tomamos solamente CABA para el analisis."
   ],
   "cell_type": "markdown",
   "metadata": {}
  },
  {
   "cell_type": "code",
   "execution_count": 31,
   "metadata": {},
   "outputs": [
    {
     "output_type": "execute_result",
     "data": {
      "text/plain": [
       "  property_type place_name    price currency  price_aprox_local_currency  \\\n",
       "0            PH  Mataderos  62000.0      USD                   1093959.0   \n",
       "2     apartment  Mataderos  72000.0      USD                   1270404.0   \n",
       "3            PH    Liniers  95000.0      USD                   1676227.5   \n",
       "\n",
       "   price_aprox_usd  surface_total_in_m2  surface_covered_in_m2  \\\n",
       "0          62000.0                 55.0                   40.0   \n",
       "2          72000.0                 55.0                   55.0   \n",
       "3          95000.0                  NaN                    NaN   \n",
       "\n",
       "   price_usd_per_m2  price_per_m2  floor  rooms  \n",
       "0       1127.272727   1550.000000    NaN    NaN  \n",
       "2       1309.090909   1309.090909    NaN    NaN  \n",
       "3               NaN           NaN    NaN    NaN  "
      ],
      "text/html": "<div>\n<style scoped>\n    .dataframe tbody tr th:only-of-type {\n        vertical-align: middle;\n    }\n\n    .dataframe tbody tr th {\n        vertical-align: top;\n    }\n\n    .dataframe thead th {\n        text-align: right;\n    }\n</style>\n<table border=\"1\" class=\"dataframe\">\n  <thead>\n    <tr style=\"text-align: right;\">\n      <th></th>\n      <th>property_type</th>\n      <th>place_name</th>\n      <th>price</th>\n      <th>currency</th>\n      <th>price_aprox_local_currency</th>\n      <th>price_aprox_usd</th>\n      <th>surface_total_in_m2</th>\n      <th>surface_covered_in_m2</th>\n      <th>price_usd_per_m2</th>\n      <th>price_per_m2</th>\n      <th>floor</th>\n      <th>rooms</th>\n    </tr>\n  </thead>\n  <tbody>\n    <tr>\n      <th>0</th>\n      <td>PH</td>\n      <td>Mataderos</td>\n      <td>62000.0</td>\n      <td>USD</td>\n      <td>1093959.0</td>\n      <td>62000.0</td>\n      <td>55.0</td>\n      <td>40.0</td>\n      <td>1127.272727</td>\n      <td>1550.000000</td>\n      <td>NaN</td>\n      <td>NaN</td>\n    </tr>\n    <tr>\n      <th>2</th>\n      <td>apartment</td>\n      <td>Mataderos</td>\n      <td>72000.0</td>\n      <td>USD</td>\n      <td>1270404.0</td>\n      <td>72000.0</td>\n      <td>55.0</td>\n      <td>55.0</td>\n      <td>1309.090909</td>\n      <td>1309.090909</td>\n      <td>NaN</td>\n      <td>NaN</td>\n    </tr>\n    <tr>\n      <th>3</th>\n      <td>PH</td>\n      <td>Liniers</td>\n      <td>95000.0</td>\n      <td>USD</td>\n      <td>1676227.5</td>\n      <td>95000.0</td>\n      <td>NaN</td>\n      <td>NaN</td>\n      <td>NaN</td>\n      <td>NaN</td>\n      <td>NaN</td>\n      <td>NaN</td>\n    </tr>\n  </tbody>\n</table>\n</div>"
     },
     "metadata": {},
     "execution_count": 31
    }
   ],
   "source": [
    "# Creamos una máscara y la aplicamos al dataframe anterior para traer los registros que necesitamos\n",
    "data_caba_mask = data_filtered.state_name == 'Capital Federal' \n",
    "data_caba = data_filtered.loc[data_caba_mask, :]\n",
    "\n",
    "# Dropeamos la columna creada anteriormente.\n",
    "data_caba.drop(columns=['province_group', 'country_name', 'state_name', 'place_with_parent_names','description', 'title'], inplace=True)\n",
    "\n",
    "# Chequeamos cómo quedaron los datos\n",
    "data_caba.head(3)"
   ]
  },
  {
   "cell_type": "code",
   "execution_count": 26,
   "metadata": {},
   "outputs": [
    {
     "output_type": "execute_result",
     "data": {
      "text/plain": [
       "(32314, 13)"
      ]
     },
     "metadata": {},
     "execution_count": 26
    }
   ],
   "source": [
    "# Vemos la cantidad de datos solamente de CABA.\n",
    "data_caba.shape"
   ]
  },
  {
   "source": [
    "# Revisamos si hay barrios de caba mal indentificados \"Ejemplo: Capital Federal\"\n",
    "pd.set_option('display.max_rows', 1000) # Para mostrar todas las filas.\n"
   ],
   "cell_type": "code",
   "metadata": {},
   "execution_count": 32,
   "outputs": []
  },
  {
   "cell_type": "code",
   "execution_count": 36,
   "metadata": {},
   "outputs": [],
   "source": [
    "# Dropeamos los de Capital Federal\n",
    "capi_mask = data_caba.place_name == 'Capital Federal'\n",
    "data_caba.drop(data_caba.loc[capi_mask, :].index, inplace=True)"
   ]
  },
  {
   "cell_type": "code",
   "execution_count": 39,
   "metadata": {},
   "outputs": [
    {
     "output_type": "execute_result",
     "data": {
      "text/plain": [
       "(31019, 12)"
      ]
     },
     "metadata": {},
     "execution_count": 39
    }
   ],
   "source": [
    "data_caba.shape"
   ]
  },
  {
   "cell_type": "code",
   "execution_count": 40,
   "metadata": {},
   "outputs": [
    {
     "output_type": "execute_result",
     "data": {
      "text/plain": [
       "  property_type place_name     price currency  price_aprox_local_currency  \\\n",
       "0            PH  Mataderos   62000.0      USD                   1093959.0   \n",
       "2     apartment  Mataderos   72000.0      USD                   1270404.0   \n",
       "3            PH    Liniers   95000.0      USD                   1676227.5   \n",
       "7     apartment   Belgrano  138000.0      USD                   2434941.0   \n",
       "8     apartment   Belgrano  195000.0      USD                   3440677.5   \n",
       "\n",
       "   price_aprox_usd  surface_total_in_m2  surface_covered_in_m2  \\\n",
       "0          62000.0                 55.0                   40.0   \n",
       "2          72000.0                 55.0                   55.0   \n",
       "3          95000.0                  NaN                    NaN   \n",
       "7         138000.0                 45.0                   40.0   \n",
       "8         195000.0                 65.0                   60.0   \n",
       "\n",
       "   price_usd_per_m2  price_per_m2  floor  rooms  \n",
       "0       1127.272727   1550.000000    NaN    NaN  \n",
       "2       1309.090909   1309.090909    NaN    NaN  \n",
       "3               NaN           NaN    NaN    NaN  \n",
       "7       3066.666667   3450.000000    NaN    NaN  \n",
       "8       3000.000000   3250.000000    NaN    NaN  "
      ],
      "text/html": "<div>\n<style scoped>\n    .dataframe tbody tr th:only-of-type {\n        vertical-align: middle;\n    }\n\n    .dataframe tbody tr th {\n        vertical-align: top;\n    }\n\n    .dataframe thead th {\n        text-align: right;\n    }\n</style>\n<table border=\"1\" class=\"dataframe\">\n  <thead>\n    <tr style=\"text-align: right;\">\n      <th></th>\n      <th>property_type</th>\n      <th>place_name</th>\n      <th>price</th>\n      <th>currency</th>\n      <th>price_aprox_local_currency</th>\n      <th>price_aprox_usd</th>\n      <th>surface_total_in_m2</th>\n      <th>surface_covered_in_m2</th>\n      <th>price_usd_per_m2</th>\n      <th>price_per_m2</th>\n      <th>floor</th>\n      <th>rooms</th>\n    </tr>\n  </thead>\n  <tbody>\n    <tr>\n      <th>0</th>\n      <td>PH</td>\n      <td>Mataderos</td>\n      <td>62000.0</td>\n      <td>USD</td>\n      <td>1093959.0</td>\n      <td>62000.0</td>\n      <td>55.0</td>\n      <td>40.0</td>\n      <td>1127.272727</td>\n      <td>1550.000000</td>\n      <td>NaN</td>\n      <td>NaN</td>\n    </tr>\n    <tr>\n      <th>2</th>\n      <td>apartment</td>\n      <td>Mataderos</td>\n      <td>72000.0</td>\n      <td>USD</td>\n      <td>1270404.0</td>\n      <td>72000.0</td>\n      <td>55.0</td>\n      <td>55.0</td>\n      <td>1309.090909</td>\n      <td>1309.090909</td>\n      <td>NaN</td>\n      <td>NaN</td>\n    </tr>\n    <tr>\n      <th>3</th>\n      <td>PH</td>\n      <td>Liniers</td>\n      <td>95000.0</td>\n      <td>USD</td>\n      <td>1676227.5</td>\n      <td>95000.0</td>\n      <td>NaN</td>\n      <td>NaN</td>\n      <td>NaN</td>\n      <td>NaN</td>\n      <td>NaN</td>\n      <td>NaN</td>\n    </tr>\n    <tr>\n      <th>7</th>\n      <td>apartment</td>\n      <td>Belgrano</td>\n      <td>138000.0</td>\n      <td>USD</td>\n      <td>2434941.0</td>\n      <td>138000.0</td>\n      <td>45.0</td>\n      <td>40.0</td>\n      <td>3066.666667</td>\n      <td>3450.000000</td>\n      <td>NaN</td>\n      <td>NaN</td>\n    </tr>\n    <tr>\n      <th>8</th>\n      <td>apartment</td>\n      <td>Belgrano</td>\n      <td>195000.0</td>\n      <td>USD</td>\n      <td>3440677.5</td>\n      <td>195000.0</td>\n      <td>65.0</td>\n      <td>60.0</td>\n      <td>3000.000000</td>\n      <td>3250.000000</td>\n      <td>NaN</td>\n      <td>NaN</td>\n    </tr>\n  </tbody>\n</table>\n</div>"
     },
     "metadata": {},
     "execution_count": 40
    }
   ],
   "source": [
    "data_caba.head()"
   ]
  }
 ]
}
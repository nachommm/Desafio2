{
 "metadata": {
  "language_info": {
   "codemirror_mode": {
    "name": "ipython",
    "version": 3
   },
   "file_extension": ".py",
   "mimetype": "text/x-python",
   "name": "python",
   "nbconvert_exporter": "python",
   "pygments_lexer": "ipython3",
   "version": "3.8.3-final"
  },
  "orig_nbformat": 2,
  "kernelspec": {
   "name": "python3",
   "display_name": "Python 3",
   "language": "python"
  }
 },
 "nbformat": 4,
 "nbformat_minor": 2,
 "cells": [
  {
   "source": [
    "<h2>Desarrollo del Desafio 2 - Machine Learning\n"
   ],
   "cell_type": "markdown",
   "metadata": {}
  },
  {
   "source": [
    "<h3>Grupo 7\n",
    "\n",
    "<li>Laura Jazmín Chao\n",
    "<li>Juan Nicolás Capistrano\n",
    "<li>Betiana Srur\n",
    "<li>Ignacio Mendieta\n",
    "<li>Marecelo Carrizo"
   ],
   "cell_type": "markdown",
   "metadata": {}
  },
  {
   "source": [
    "**Desafio 2** : Aplicar las tecnicas de Machine Learning para calcular el precio por metro cuadrado de las propiedades."
   ],
   "cell_type": "markdown",
   "metadata": {}
  },
  {
   "cell_type": "code",
   "execution_count": 72,
   "metadata": {},
   "outputs": [],
   "source": [
    "import numpy as np\n",
    "import pandas as pd\n",
    "\n",
    "# Libreria Grafica.\n",
    "%matplotlib inline\n",
    "import seaborn as sns\n",
    "from matplotlib import pyplot as plt\n",
    "\n",
    "# Libreria para analisis ML\n",
    "from sklearn import datasets, linear_model"
   ]
  },
  {
   "cell_type": "code",
   "execution_count": 73,
   "metadata": {},
   "outputs": [
    {
     "output_type": "execute_result",
     "data": {
      "text/plain": [
       "        Unnamed: 0 operation property_type place_name  \\\n",
       "88489        88489      sell     apartment  San Telmo   \n",
       "26829        26829      sell     apartment   Castelar   \n",
       "6474          6474      sell     apartment  La Lucila   \n",
       "89811        89811      sell     apartment  San Telmo   \n",
       "108025      108025      sell     apartment    Palermo   \n",
       "\n",
       "                                  place_with_parent_names country_name  \\\n",
       "88489               |Argentina|Capital Federal|San Telmo|    Argentina   \n",
       "26829   |Argentina|Bs.As. G.B.A. Zona Oeste|Morón|Cast...    Argentina   \n",
       "6474    |Argentina|Bs.As. G.B.A. Zona Norte|Vicente Ló...    Argentina   \n",
       "89811               |Argentina|Capital Federal|San Telmo|    Argentina   \n",
       "108025                |Argentina|Capital Federal|Palermo|    Argentina   \n",
       "\n",
       "                      state_name  geonames_id                        lat-lon  \\\n",
       "88489            Capital Federal    3428113.0         -34.6235141,-58.376459   \n",
       "26829   Bs.As. G.B.A. Zona Oeste    3435607.0        -34.6506667,-58.6139125   \n",
       "6474    Bs.As. G.B.A. Zona Norte    3432310.0  -34.4930867289,-58.4846887498   \n",
       "89811            Capital Federal    3428113.0        -34.6251347,-58.3789013   \n",
       "108025           Capital Federal    3430234.0        -34.5888889,-58.4305556   \n",
       "\n",
       "              lat  ...  surface_covered_in_m2  price_usd_per_m2 price_per_m2  \\\n",
       "88489  -34.623514  ...                   48.0               NaN          NaN   \n",
       "26829  -34.650667  ...                   50.0       2100.000000   2100.00000   \n",
       "6474   -34.493087  ...                  184.0       3963.414634   4415.76087   \n",
       "89811  -34.625135  ...                   35.0       1715.000000   1960.00000   \n",
       "108025 -34.588889  ...                    NaN               NaN          NaN   \n",
       "\n",
       "        floor  rooms  expenses  \\\n",
       "88489     NaN    NaN       NaN   \n",
       "26829     NaN    2.0       NaN   \n",
       "6474      NaN    4.0   20200.0   \n",
       "89811     NaN    NaN       NaN   \n",
       "108025    NaN    NaN       NaN   \n",
       "\n",
       "                                            properati_url  \\\n",
       "88489   http://www.properati.com.ar/1b7df_venta_depart...   \n",
       "26829   http://www.properati.com.ar/17rk0_venta_depart...   \n",
       "6474    http://www.properati.com.ar/15ug4_venta_depart...   \n",
       "89811   http://www.properati.com.ar/1b95y_venta_depart...   \n",
       "108025  http://www.properati.com.ar/1bza9_venta_depart...   \n",
       "\n",
       "                                              description  \\\n",
       "88489   Formando Parte del Barrio de San Telmo: Caract...   \n",
       "26829   Actualizado hace 2 segundosDepartamentos plant...   \n",
       "6474    Unidad de 4 ambientes, pasante del frente al c...   \n",
       "89811   Bernardo de Irigoyen 1418: Ubicada en pleno co...   \n",
       "108025  CODIGO: 916-69723 ubicado en: Scalabrini Ortiz...   \n",
       "\n",
       "                                                    title  \\\n",
       "88489              Departamento - 2 Ambientes - San Telmo   \n",
       "26829                            Venta departamento Morn    \n",
       "6474    Carpe Diem 4 ambientes c/ Dependencia y Cocher...   \n",
       "89811                            Departamento - San Telmo   \n",
       "108025  Departamento en Venta en Palermo, Capital Federal   \n",
       "\n",
       "                                          image_thumbnail  \n",
       "88489   https://thumbs4.properati.com/0/77E073-VV6svLs...  \n",
       "26829   https://thumbs4.properati.com/9/Jt7FCEZOAQ3q4l...  \n",
       "6474    https://thumbs4.properati.com/0/Evwf1kVj6fSb7P...  \n",
       "89811   https://thumbs4.properati.com/6/FuOVP_alpj9HA0...  \n",
       "108025  https://thumbs4.properati.com/4/tNhhA8LKl8JILQ...  \n",
       "\n",
       "[5 rows x 26 columns]"
      ],
      "text/html": "<div>\n<style scoped>\n    .dataframe tbody tr th:only-of-type {\n        vertical-align: middle;\n    }\n\n    .dataframe tbody tr th {\n        vertical-align: top;\n    }\n\n    .dataframe thead th {\n        text-align: right;\n    }\n</style>\n<table border=\"1\" class=\"dataframe\">\n  <thead>\n    <tr style=\"text-align: right;\">\n      <th></th>\n      <th>Unnamed: 0</th>\n      <th>operation</th>\n      <th>property_type</th>\n      <th>place_name</th>\n      <th>place_with_parent_names</th>\n      <th>country_name</th>\n      <th>state_name</th>\n      <th>geonames_id</th>\n      <th>lat-lon</th>\n      <th>lat</th>\n      <th>...</th>\n      <th>surface_covered_in_m2</th>\n      <th>price_usd_per_m2</th>\n      <th>price_per_m2</th>\n      <th>floor</th>\n      <th>rooms</th>\n      <th>expenses</th>\n      <th>properati_url</th>\n      <th>description</th>\n      <th>title</th>\n      <th>image_thumbnail</th>\n    </tr>\n  </thead>\n  <tbody>\n    <tr>\n      <th>88489</th>\n      <td>88489</td>\n      <td>sell</td>\n      <td>apartment</td>\n      <td>San Telmo</td>\n      <td>|Argentina|Capital Federal|San Telmo|</td>\n      <td>Argentina</td>\n      <td>Capital Federal</td>\n      <td>3428113.0</td>\n      <td>-34.6235141,-58.376459</td>\n      <td>-34.623514</td>\n      <td>...</td>\n      <td>48.0</td>\n      <td>NaN</td>\n      <td>NaN</td>\n      <td>NaN</td>\n      <td>NaN</td>\n      <td>NaN</td>\n      <td>http://www.properati.com.ar/1b7df_venta_depart...</td>\n      <td>Formando Parte del Barrio de San Telmo: Caract...</td>\n      <td>Departamento - 2 Ambientes - San Telmo</td>\n      <td>https://thumbs4.properati.com/0/77E073-VV6svLs...</td>\n    </tr>\n    <tr>\n      <th>26829</th>\n      <td>26829</td>\n      <td>sell</td>\n      <td>apartment</td>\n      <td>Castelar</td>\n      <td>|Argentina|Bs.As. G.B.A. Zona Oeste|Morón|Cast...</td>\n      <td>Argentina</td>\n      <td>Bs.As. G.B.A. Zona Oeste</td>\n      <td>3435607.0</td>\n      <td>-34.6506667,-58.6139125</td>\n      <td>-34.650667</td>\n      <td>...</td>\n      <td>50.0</td>\n      <td>2100.000000</td>\n      <td>2100.00000</td>\n      <td>NaN</td>\n      <td>2.0</td>\n      <td>NaN</td>\n      <td>http://www.properati.com.ar/17rk0_venta_depart...</td>\n      <td>Actualizado hace 2 segundosDepartamentos plant...</td>\n      <td>Venta departamento Morn</td>\n      <td>https://thumbs4.properati.com/9/Jt7FCEZOAQ3q4l...</td>\n    </tr>\n    <tr>\n      <th>6474</th>\n      <td>6474</td>\n      <td>sell</td>\n      <td>apartment</td>\n      <td>La Lucila</td>\n      <td>|Argentina|Bs.As. G.B.A. Zona Norte|Vicente Ló...</td>\n      <td>Argentina</td>\n      <td>Bs.As. G.B.A. Zona Norte</td>\n      <td>3432310.0</td>\n      <td>-34.4930867289,-58.4846887498</td>\n      <td>-34.493087</td>\n      <td>...</td>\n      <td>184.0</td>\n      <td>3963.414634</td>\n      <td>4415.76087</td>\n      <td>NaN</td>\n      <td>4.0</td>\n      <td>20200.0</td>\n      <td>http://www.properati.com.ar/15ug4_venta_depart...</td>\n      <td>Unidad de 4 ambientes, pasante del frente al c...</td>\n      <td>Carpe Diem 4 ambientes c/ Dependencia y Cocher...</td>\n      <td>https://thumbs4.properati.com/0/Evwf1kVj6fSb7P...</td>\n    </tr>\n    <tr>\n      <th>89811</th>\n      <td>89811</td>\n      <td>sell</td>\n      <td>apartment</td>\n      <td>San Telmo</td>\n      <td>|Argentina|Capital Federal|San Telmo|</td>\n      <td>Argentina</td>\n      <td>Capital Federal</td>\n      <td>3428113.0</td>\n      <td>-34.6251347,-58.3789013</td>\n      <td>-34.625135</td>\n      <td>...</td>\n      <td>35.0</td>\n      <td>1715.000000</td>\n      <td>1960.00000</td>\n      <td>NaN</td>\n      <td>NaN</td>\n      <td>NaN</td>\n      <td>http://www.properati.com.ar/1b95y_venta_depart...</td>\n      <td>Bernardo de Irigoyen 1418: Ubicada en pleno co...</td>\n      <td>Departamento - San Telmo</td>\n      <td>https://thumbs4.properati.com/6/FuOVP_alpj9HA0...</td>\n    </tr>\n    <tr>\n      <th>108025</th>\n      <td>108025</td>\n      <td>sell</td>\n      <td>apartment</td>\n      <td>Palermo</td>\n      <td>|Argentina|Capital Federal|Palermo|</td>\n      <td>Argentina</td>\n      <td>Capital Federal</td>\n      <td>3430234.0</td>\n      <td>-34.5888889,-58.4305556</td>\n      <td>-34.588889</td>\n      <td>...</td>\n      <td>NaN</td>\n      <td>NaN</td>\n      <td>NaN</td>\n      <td>NaN</td>\n      <td>NaN</td>\n      <td>NaN</td>\n      <td>http://www.properati.com.ar/1bza9_venta_depart...</td>\n      <td>CODIGO: 916-69723 ubicado en: Scalabrini Ortiz...</td>\n      <td>Departamento en Venta en Palermo, Capital Federal</td>\n      <td>https://thumbs4.properati.com/4/tNhhA8LKl8JILQ...</td>\n    </tr>\n  </tbody>\n</table>\n<p>5 rows × 26 columns</p>\n</div>"
     },
     "metadata": {},
     "execution_count": 73
    }
   ],
   "source": [
    "# Definimos la ruta de la información.\n",
    "data_propiedades = \"Data/properati.csv\"\n",
    "\n",
    "# Leemos los datos del archivo\n",
    "data = pd.read_csv(data_propiedades, sep=\",\", encoding=\"UTF-8\")\n",
    "\n",
    "# Chequeamos que los datos se hayan importado correctamente\n",
    "data.sample(5)"
   ]
  },
  {
   "cell_type": "code",
   "execution_count": 74,
   "metadata": {},
   "outputs": [
    {
     "output_type": "execute_result",
     "data": {
      "text/plain": [
       "(121220, 26)"
      ]
     },
     "metadata": {},
     "execution_count": 74
    }
   ],
   "source": [
    "# Chequeamos cantidad de registros y cantidad de columnas\n",
    "data.shape"
   ]
  },
  {
   "source": [
    "<h2>Limpieza de Datos."
   ],
   "cell_type": "markdown",
   "metadata": {}
  },
  {
   "cell_type": "code",
   "execution_count": 75,
   "metadata": {},
   "outputs": [
    {
     "output_type": "execute_result",
     "data": {
      "text/plain": [
       "        Unnamed: 0 operation property_type       place_name  \\\n",
       "50387        50387      sell     apartment  Capital Federal   \n",
       "50388        50388      sell     apartment  Capital Federal   \n",
       "107390      107390      sell         house        San Roque   \n",
       "\n",
       "              place_with_parent_names country_name       state_name  \\\n",
       "50387     |Argentina|Capital Federal|    Argentina  Capital Federal   \n",
       "50388     |Argentina|Capital Federal|    Argentina  Capital Federal   \n",
       "107390  |Argentina|Mendoza|San Roque|    Argentina          Mendoza   \n",
       "\n",
       "        geonames_id lat-lon  lat  ...  surface_covered_in_m2  \\\n",
       "50387     3433955.0     NaN  NaN  ...                    NaN   \n",
       "50388     3433955.0     NaN  NaN  ...                    NaN   \n",
       "107390    3836586.0     NaN  NaN  ...                    NaN   \n",
       "\n",
       "        price_usd_per_m2 price_per_m2  floor  rooms  expenses  \\\n",
       "50387                NaN          NaN    NaN    NaN       NaN   \n",
       "50388                NaN          NaN    NaN    NaN       NaN   \n",
       "107390               NaN          NaN    NaN    NaN       NaN   \n",
       "\n",
       "                                            properati_url  \\\n",
       "50387   http://www.properati.com.ar/19e8z_venta_depart...   \n",
       "50388   http://www.properati.com.ar/19e90_venta_depart...   \n",
       "107390  http://www.properati.com.ar/1by0s_venta_casa_s...   \n",
       "\n",
       "                                              description  \\\n",
       "50387   Ref.: 55:PREVENTA ::: OPORTUNIDAD ::: Dúplex a...   \n",
       "50388   Ref.: 56Duplex en venta de 1 dormitorio con ap...   \n",
       "107390  Casa con Calefacción central, Mendoza, San Roq...   \n",
       "\n",
       "                                            title  \\\n",
       "50387   DUPLEX A LA VENTA | Liniers 1200 | Tandil   \n",
       "50388   DUPLEX A LA VENTA | Liniers 1200 | Tandil   \n",
       "107390                         Casa - San Vicente   \n",
       "\n",
       "                                          image_thumbnail  \n",
       "50387   https://thumbs4.properati.com/9/N_Qr_5X_vOq--b...  \n",
       "50388   https://thumbs4.properati.com/8/_cBXAyr_9pDySg...  \n",
       "107390  https://thumbs4.properati.com/2/pA0RbuDKRK6GgV...  \n",
       "\n",
       "[3 rows x 26 columns]"
      ],
      "text/html": "<div>\n<style scoped>\n    .dataframe tbody tr th:only-of-type {\n        vertical-align: middle;\n    }\n\n    .dataframe tbody tr th {\n        vertical-align: top;\n    }\n\n    .dataframe thead th {\n        text-align: right;\n    }\n</style>\n<table border=\"1\" class=\"dataframe\">\n  <thead>\n    <tr style=\"text-align: right;\">\n      <th></th>\n      <th>Unnamed: 0</th>\n      <th>operation</th>\n      <th>property_type</th>\n      <th>place_name</th>\n      <th>place_with_parent_names</th>\n      <th>country_name</th>\n      <th>state_name</th>\n      <th>geonames_id</th>\n      <th>lat-lon</th>\n      <th>lat</th>\n      <th>...</th>\n      <th>surface_covered_in_m2</th>\n      <th>price_usd_per_m2</th>\n      <th>price_per_m2</th>\n      <th>floor</th>\n      <th>rooms</th>\n      <th>expenses</th>\n      <th>properati_url</th>\n      <th>description</th>\n      <th>title</th>\n      <th>image_thumbnail</th>\n    </tr>\n  </thead>\n  <tbody>\n    <tr>\n      <th>50387</th>\n      <td>50387</td>\n      <td>sell</td>\n      <td>apartment</td>\n      <td>Capital Federal</td>\n      <td>|Argentina|Capital Federal|</td>\n      <td>Argentina</td>\n      <td>Capital Federal</td>\n      <td>3433955.0</td>\n      <td>NaN</td>\n      <td>NaN</td>\n      <td>...</td>\n      <td>NaN</td>\n      <td>NaN</td>\n      <td>NaN</td>\n      <td>NaN</td>\n      <td>NaN</td>\n      <td>NaN</td>\n      <td>http://www.properati.com.ar/19e8z_venta_depart...</td>\n      <td>Ref.: 55:PREVENTA ::: OPORTUNIDAD ::: Dúplex a...</td>\n      <td>DUPLEX A LA VENTA | Liniers 1200 | Tandil</td>\n      <td>https://thumbs4.properati.com/9/N_Qr_5X_vOq--b...</td>\n    </tr>\n    <tr>\n      <th>50388</th>\n      <td>50388</td>\n      <td>sell</td>\n      <td>apartment</td>\n      <td>Capital Federal</td>\n      <td>|Argentina|Capital Federal|</td>\n      <td>Argentina</td>\n      <td>Capital Federal</td>\n      <td>3433955.0</td>\n      <td>NaN</td>\n      <td>NaN</td>\n      <td>...</td>\n      <td>NaN</td>\n      <td>NaN</td>\n      <td>NaN</td>\n      <td>NaN</td>\n      <td>NaN</td>\n      <td>NaN</td>\n      <td>http://www.properati.com.ar/19e90_venta_depart...</td>\n      <td>Ref.: 56Duplex en venta de 1 dormitorio con ap...</td>\n      <td>DUPLEX A LA VENTA | Liniers 1200 | Tandil</td>\n      <td>https://thumbs4.properati.com/8/_cBXAyr_9pDySg...</td>\n    </tr>\n    <tr>\n      <th>107390</th>\n      <td>107390</td>\n      <td>sell</td>\n      <td>house</td>\n      <td>San Roque</td>\n      <td>|Argentina|Mendoza|San Roque|</td>\n      <td>Argentina</td>\n      <td>Mendoza</td>\n      <td>3836586.0</td>\n      <td>NaN</td>\n      <td>NaN</td>\n      <td>...</td>\n      <td>NaN</td>\n      <td>NaN</td>\n      <td>NaN</td>\n      <td>NaN</td>\n      <td>NaN</td>\n      <td>NaN</td>\n      <td>http://www.properati.com.ar/1by0s_venta_casa_s...</td>\n      <td>Casa con Calefacción central, Mendoza, San Roq...</td>\n      <td>Casa - San Vicente</td>\n      <td>https://thumbs4.properati.com/2/pA0RbuDKRK6GgV...</td>\n    </tr>\n  </tbody>\n</table>\n<p>3 rows × 26 columns</p>\n</div>"
     },
     "metadata": {},
     "execution_count": 75
    }
   ],
   "source": [
    "# Creamos una mask para traer los valores en monedas que no son USD ni ARS.\n",
    "currency_OTHER_CURRENCY_mask = (data.currency == 'PEN') | (data.currency == 'UYU')\n",
    "# Observamos esos registros\n",
    "data.loc[currency_OTHER_CURRENCY_mask, :]"
   ]
  },
  {
   "cell_type": "code",
   "execution_count": 76,
   "metadata": {},
   "outputs": [
    {
     "output_type": "stream",
     "name": "stdout",
     "text": [
      "Cantidad de registros original - registro actuales: 3\n"
     ]
    }
   ],
   "source": [
    "# Hacemos drop de esos registros y chequeamos la diferencia entre cantidad original y actual\n",
    "cant_registros = data.shape[0]\n",
    "data.drop(data.loc[currency_OTHER_CURRENCY_mask, :].index, inplace = True)\n",
    "print(f'Cantidad de registros original - registro actuales: {cant_registros - data.shape[0]}')"
   ]
  },
  {
   "cell_type": "code",
   "execution_count": 77,
   "metadata": {},
   "outputs": [
    {
     "output_type": "execute_result",
     "data": {
      "text/plain": [
       "  property_type place_name                            place_with_parent_names  \\\n",
       "0            PH  Mataderos              |Argentina|Capital Federal|Mataderos|   \n",
       "1     apartment   La Plata        |Argentina|Bs.As. G.B.A. Zona Sur|La Plata|   \n",
       "2     apartment  Mataderos              |Argentina|Capital Federal|Mataderos|   \n",
       "3            PH    Liniers                |Argentina|Capital Federal|Liniers|   \n",
       "4     apartment     Centro  |Argentina|Buenos Aires Costa Atlántica|Mar de...   \n",
       "\n",
       "  country_name                    state_name     price currency  \\\n",
       "0    Argentina               Capital Federal   62000.0      USD   \n",
       "1    Argentina        Bs.As. G.B.A. Zona Sur  150000.0      USD   \n",
       "2    Argentina               Capital Federal   72000.0      USD   \n",
       "3    Argentina               Capital Federal   95000.0      USD   \n",
       "4    Argentina  Buenos Aires Costa Atlántica   64000.0      USD   \n",
       "\n",
       "   price_aprox_local_currency  price_aprox_usd  surface_total_in_m2  \\\n",
       "0                   1093959.0          62000.0                 55.0   \n",
       "1                   2646675.0         150000.0                  NaN   \n",
       "2                   1270404.0          72000.0                 55.0   \n",
       "3                   1676227.5          95000.0                  NaN   \n",
       "4                   1129248.0          64000.0                 35.0   \n",
       "\n",
       "   surface_covered_in_m2  price_usd_per_m2  price_per_m2  floor  rooms  \\\n",
       "0                   40.0       1127.272727   1550.000000    NaN    NaN   \n",
       "1                    NaN               NaN           NaN    NaN    NaN   \n",
       "2                   55.0       1309.090909   1309.090909    NaN    NaN   \n",
       "3                    NaN               NaN           NaN    NaN    NaN   \n",
       "4                   35.0       1828.571429   1828.571429    NaN    NaN   \n",
       "\n",
       "                                         description  \\\n",
       "0  2 AMBIENTES TIPO CASA PLANTA BAJA POR PASILLO,...   \n",
       "1  Venta de departamento en décimo piso al frente...   \n",
       "2  2 AMBIENTES 3ER PISO LATERAL LIVING COMEDOR AM...   \n",
       "3  PH 3 ambientes con patio. Hay 3 deptos en lote...   \n",
       "4  DEPARTAMENTO CON FANTÁSTICA ILUMINACIÓN NATURA...   \n",
       "\n",
       "                                               title  \n",
       "0                 2 AMB TIPO CASA SIN EXPENSAS EN PB  \n",
       "1  VENTA Depto 2 dorm. a estrenar 7 e/ 36 y 37   ...  \n",
       "2           2 AMB 3ER PISO CON ASCENSOR APTO CREDITO  \n",
       "3                       PH 3 amb. cfte. reciclado     \n",
       "4  DEPTO 2 AMB AL CONTRAFRENTE ZONA CENTRO/PLAZA ...  "
      ],
      "text/html": "<div>\n<style scoped>\n    .dataframe tbody tr th:only-of-type {\n        vertical-align: middle;\n    }\n\n    .dataframe tbody tr th {\n        vertical-align: top;\n    }\n\n    .dataframe thead th {\n        text-align: right;\n    }\n</style>\n<table border=\"1\" class=\"dataframe\">\n  <thead>\n    <tr style=\"text-align: right;\">\n      <th></th>\n      <th>property_type</th>\n      <th>place_name</th>\n      <th>place_with_parent_names</th>\n      <th>country_name</th>\n      <th>state_name</th>\n      <th>price</th>\n      <th>currency</th>\n      <th>price_aprox_local_currency</th>\n      <th>price_aprox_usd</th>\n      <th>surface_total_in_m2</th>\n      <th>surface_covered_in_m2</th>\n      <th>price_usd_per_m2</th>\n      <th>price_per_m2</th>\n      <th>floor</th>\n      <th>rooms</th>\n      <th>description</th>\n      <th>title</th>\n    </tr>\n  </thead>\n  <tbody>\n    <tr>\n      <th>0</th>\n      <td>PH</td>\n      <td>Mataderos</td>\n      <td>|Argentina|Capital Federal|Mataderos|</td>\n      <td>Argentina</td>\n      <td>Capital Federal</td>\n      <td>62000.0</td>\n      <td>USD</td>\n      <td>1093959.0</td>\n      <td>62000.0</td>\n      <td>55.0</td>\n      <td>40.0</td>\n      <td>1127.272727</td>\n      <td>1550.000000</td>\n      <td>NaN</td>\n      <td>NaN</td>\n      <td>2 AMBIENTES TIPO CASA PLANTA BAJA POR PASILLO,...</td>\n      <td>2 AMB TIPO CASA SIN EXPENSAS EN PB</td>\n    </tr>\n    <tr>\n      <th>1</th>\n      <td>apartment</td>\n      <td>La Plata</td>\n      <td>|Argentina|Bs.As. G.B.A. Zona Sur|La Plata|</td>\n      <td>Argentina</td>\n      <td>Bs.As. G.B.A. Zona Sur</td>\n      <td>150000.0</td>\n      <td>USD</td>\n      <td>2646675.0</td>\n      <td>150000.0</td>\n      <td>NaN</td>\n      <td>NaN</td>\n      <td>NaN</td>\n      <td>NaN</td>\n      <td>NaN</td>\n      <td>NaN</td>\n      <td>Venta de departamento en décimo piso al frente...</td>\n      <td>VENTA Depto 2 dorm. a estrenar 7 e/ 36 y 37   ...</td>\n    </tr>\n    <tr>\n      <th>2</th>\n      <td>apartment</td>\n      <td>Mataderos</td>\n      <td>|Argentina|Capital Federal|Mataderos|</td>\n      <td>Argentina</td>\n      <td>Capital Federal</td>\n      <td>72000.0</td>\n      <td>USD</td>\n      <td>1270404.0</td>\n      <td>72000.0</td>\n      <td>55.0</td>\n      <td>55.0</td>\n      <td>1309.090909</td>\n      <td>1309.090909</td>\n      <td>NaN</td>\n      <td>NaN</td>\n      <td>2 AMBIENTES 3ER PISO LATERAL LIVING COMEDOR AM...</td>\n      <td>2 AMB 3ER PISO CON ASCENSOR APTO CREDITO</td>\n    </tr>\n    <tr>\n      <th>3</th>\n      <td>PH</td>\n      <td>Liniers</td>\n      <td>|Argentina|Capital Federal|Liniers|</td>\n      <td>Argentina</td>\n      <td>Capital Federal</td>\n      <td>95000.0</td>\n      <td>USD</td>\n      <td>1676227.5</td>\n      <td>95000.0</td>\n      <td>NaN</td>\n      <td>NaN</td>\n      <td>NaN</td>\n      <td>NaN</td>\n      <td>NaN</td>\n      <td>NaN</td>\n      <td>PH 3 ambientes con patio. Hay 3 deptos en lote...</td>\n      <td>PH 3 amb. cfte. reciclado</td>\n    </tr>\n    <tr>\n      <th>4</th>\n      <td>apartment</td>\n      <td>Centro</td>\n      <td>|Argentina|Buenos Aires Costa Atlántica|Mar de...</td>\n      <td>Argentina</td>\n      <td>Buenos Aires Costa Atlántica</td>\n      <td>64000.0</td>\n      <td>USD</td>\n      <td>1129248.0</td>\n      <td>64000.0</td>\n      <td>35.0</td>\n      <td>35.0</td>\n      <td>1828.571429</td>\n      <td>1828.571429</td>\n      <td>NaN</td>\n      <td>NaN</td>\n      <td>DEPARTAMENTO CON FANTÁSTICA ILUMINACIÓN NATURA...</td>\n      <td>DEPTO 2 AMB AL CONTRAFRENTE ZONA CENTRO/PLAZA ...</td>\n    </tr>\n  </tbody>\n</table>\n</div>"
     },
     "metadata": {},
     "execution_count": 77
    }
   ],
   "source": [
    "# Creamos la lista de columnas a filtrar\n",
    "drop_columns = ['properati_url', 'Unnamed: 0', 'operation','image_thumbnail','expenses','lat-lon','geonames_id','lat', 'lon']\n",
    "\n",
    "# Creamos una variable nueva para guardar los datos (el cambio se realiza inplace=False)\n",
    "data_filtered = data.drop(drop_columns, axis=1)\n",
    "data_filtered.head(5)"
   ]
  },
  {
   "source": [
    "**Esto no es necesario ahora ¿?**"
   ],
   "cell_type": "markdown",
   "metadata": {}
  },
  {
   "cell_type": "code",
   "execution_count": 78,
   "metadata": {},
   "outputs": [],
   "source": [
    "# Creamos un diccionario con la nueva agrupación\n",
    "provincia={'Capital Federal':'CABA','Bs.As. G.B.A. Zona Norte': 'Bs. As. G.B.A.', 'Bs.As. G.B.A. Zona Sur':'Bs. As. G.B.A.', 'Córdoba':'Córdoba','Santa Fe':'Santa Fe','Buenos Aires Costa Atlántica':'Buenos Aires', 'Bs.As. G.B.A. Zona Oeste':'Bs. As. G.B.A.', 'Buenos Aires Interior':'Buenos Aires','Río Negro':'Resto del país','Neuquén':'Resto del país', 'Mendoza':'Resto del país', 'Tucumán':'Resto del país', 'Corrientes':'Resto del país', 'Misiones':'Resto del país', 'Entre Ríos':'Resto del país', 'Salta':'Resto del país', 'Chubut':'Resto del país', 'San Luis':'Resto del país', 'La Pampa':'Resto del país','Formosa':'Resto del país','Chaco': 'Resto del país', 'San Juan':'Resto del país','Tierra Del Fuego':'Resto del país', 'Catamarca':'Resto del país', 'Jujuy': 'Resto del país', 'Santa Cruz':'Resto del país', 'La Rioja':'Resto del país', 'Santiago Del Estero':'Resto del país'}"
   ]
  },
  {
   "cell_type": "code",
   "execution_count": 79,
   "metadata": {},
   "outputs": [
    {
     "output_type": "display_data",
     "data": {
      "text/plain": "       property_type place_name  \\\n81856          house      Pilar   \n19130      apartment   Congreso   \n121145         house   Banfield   \n53310          store    Rosario   \n114679     apartment    Córdoba   \n\n                                  place_with_parent_names country_name  \\\n81856          |Argentina|Bs.As. G.B.A. Zona Norte|Pilar|    Argentina   \n19130                |Argentina|Capital Federal|Congreso|    Argentina   \n121145  |Argentina|Bs.As. G.B.A. Zona Sur|Lomas de Zam...    Argentina   \n53310                        |Argentina|Santa Fe|Rosario|    Argentina   \n114679                        |Argentina|Córdoba|Córdoba|    Argentina   \n\n                      state_name     price currency  \\\n81856   Bs.As. G.B.A. Zona Norte  350000.0      USD   \n19130            Capital Federal   72500.0      USD   \n121145    Bs.As. G.B.A. Zona Sur  290000.0      USD   \n53310                   Santa Fe       NaN      NaN   \n114679                   Córdoba       NaN      NaN   \n\n        price_aprox_local_currency  price_aprox_usd  surface_total_in_m2  \\\n81856                   6175575.00         350000.0                326.0   \n19130                   1279226.25          72500.0                 28.0   \n121145                  5116905.00         290000.0                170.0   \n53310                          NaN              NaN                  NaN   \n114679                         NaN              NaN                  NaN   \n\n        surface_covered_in_m2  price_usd_per_m2  price_per_m2  floor  rooms  \\\n81856                   326.0       1073.619632   1073.619632    NaN    NaN   \n19130                    28.0       2589.285714   2589.285714    NaN    1.0   \n121145                  170.0       1705.882353   1705.882353    NaN    NaN   \n53310                     NaN               NaN           NaN    NaN    NaN   \n114679                    NaN               NaN           NaN    NaN    NaN   \n\n                                              description  \\\n81856   Muy linda casa desarrollada en dos plantas de ...   \n19130   Elegante y moderno edificio de aspecto clásico...   \n121145  Casa sobre linea municipal, estar de recepción...   \n53310   Local 36 m2. en Edificio en construcción. Sani...   \n114679  DEPARTAMENTO DE 3 DORMITORIOS en TORRES DEL RI...   \n\n                                                    title  province_group  \n81856                              Casa en Los Senderos I  Bs. As. G.B.A.  \n19130   Monoambiente en venta Congreso a estrenar c/am...            CABA  \n121145                              Casa - Banfield Oeste  Bs. As. G.B.A.  \n53310                                       SAN LUIS 2300        Santa Fe  \n114679               ALBERDI, TORRES DEL RIO (dpto.3dor.)         Córdoba  ",
      "text/html": "<div>\n<style scoped>\n    .dataframe tbody tr th:only-of-type {\n        vertical-align: middle;\n    }\n\n    .dataframe tbody tr th {\n        vertical-align: top;\n    }\n\n    .dataframe thead th {\n        text-align: right;\n    }\n</style>\n<table border=\"1\" class=\"dataframe\">\n  <thead>\n    <tr style=\"text-align: right;\">\n      <th></th>\n      <th>property_type</th>\n      <th>place_name</th>\n      <th>place_with_parent_names</th>\n      <th>country_name</th>\n      <th>state_name</th>\n      <th>price</th>\n      <th>currency</th>\n      <th>price_aprox_local_currency</th>\n      <th>price_aprox_usd</th>\n      <th>surface_total_in_m2</th>\n      <th>surface_covered_in_m2</th>\n      <th>price_usd_per_m2</th>\n      <th>price_per_m2</th>\n      <th>floor</th>\n      <th>rooms</th>\n      <th>description</th>\n      <th>title</th>\n      <th>province_group</th>\n    </tr>\n  </thead>\n  <tbody>\n    <tr>\n      <th>81856</th>\n      <td>house</td>\n      <td>Pilar</td>\n      <td>|Argentina|Bs.As. G.B.A. Zona Norte|Pilar|</td>\n      <td>Argentina</td>\n      <td>Bs.As. G.B.A. Zona Norte</td>\n      <td>350000.0</td>\n      <td>USD</td>\n      <td>6175575.00</td>\n      <td>350000.0</td>\n      <td>326.0</td>\n      <td>326.0</td>\n      <td>1073.619632</td>\n      <td>1073.619632</td>\n      <td>NaN</td>\n      <td>NaN</td>\n      <td>Muy linda casa desarrollada en dos plantas de ...</td>\n      <td>Casa en Los Senderos I</td>\n      <td>Bs. As. G.B.A.</td>\n    </tr>\n    <tr>\n      <th>19130</th>\n      <td>apartment</td>\n      <td>Congreso</td>\n      <td>|Argentina|Capital Federal|Congreso|</td>\n      <td>Argentina</td>\n      <td>Capital Federal</td>\n      <td>72500.0</td>\n      <td>USD</td>\n      <td>1279226.25</td>\n      <td>72500.0</td>\n      <td>28.0</td>\n      <td>28.0</td>\n      <td>2589.285714</td>\n      <td>2589.285714</td>\n      <td>NaN</td>\n      <td>1.0</td>\n      <td>Elegante y moderno edificio de aspecto clásico...</td>\n      <td>Monoambiente en venta Congreso a estrenar c/am...</td>\n      <td>CABA</td>\n    </tr>\n    <tr>\n      <th>121145</th>\n      <td>house</td>\n      <td>Banfield</td>\n      <td>|Argentina|Bs.As. G.B.A. Zona Sur|Lomas de Zam...</td>\n      <td>Argentina</td>\n      <td>Bs.As. G.B.A. Zona Sur</td>\n      <td>290000.0</td>\n      <td>USD</td>\n      <td>5116905.00</td>\n      <td>290000.0</td>\n      <td>170.0</td>\n      <td>170.0</td>\n      <td>1705.882353</td>\n      <td>1705.882353</td>\n      <td>NaN</td>\n      <td>NaN</td>\n      <td>Casa sobre linea municipal, estar de recepción...</td>\n      <td>Casa - Banfield Oeste</td>\n      <td>Bs. As. G.B.A.</td>\n    </tr>\n    <tr>\n      <th>53310</th>\n      <td>store</td>\n      <td>Rosario</td>\n      <td>|Argentina|Santa Fe|Rosario|</td>\n      <td>Argentina</td>\n      <td>Santa Fe</td>\n      <td>NaN</td>\n      <td>NaN</td>\n      <td>NaN</td>\n      <td>NaN</td>\n      <td>NaN</td>\n      <td>NaN</td>\n      <td>NaN</td>\n      <td>NaN</td>\n      <td>NaN</td>\n      <td>NaN</td>\n      <td>Local 36 m2. en Edificio en construcción. Sani...</td>\n      <td>SAN LUIS 2300</td>\n      <td>Santa Fe</td>\n    </tr>\n    <tr>\n      <th>114679</th>\n      <td>apartment</td>\n      <td>Córdoba</td>\n      <td>|Argentina|Córdoba|Córdoba|</td>\n      <td>Argentina</td>\n      <td>Córdoba</td>\n      <td>NaN</td>\n      <td>NaN</td>\n      <td>NaN</td>\n      <td>NaN</td>\n      <td>NaN</td>\n      <td>NaN</td>\n      <td>NaN</td>\n      <td>NaN</td>\n      <td>NaN</td>\n      <td>NaN</td>\n      <td>DEPARTAMENTO DE 3 DORMITORIOS en TORRES DEL RI...</td>\n      <td>ALBERDI, TORRES DEL RIO (dpto.3dor.)</td>\n      <td>Córdoba</td>\n    </tr>\n  </tbody>\n</table>\n</div>"
     },
     "metadata": {}
    }
   ],
   "source": [
    "# Mapeamos las provincias con el diccionario y ponermos el grupo en una columna nueva\n",
    "data_filtered['province_group'] = data_filtered.state_name.map(provincia)\n",
    "display(data_filtered.sample(5))\n"
   ]
  },
  {
   "source": [
    "<h2>Tomamos solamente CABA para el analisis."
   ],
   "cell_type": "markdown",
   "metadata": {}
  },
  {
   "cell_type": "code",
   "execution_count": 80,
   "metadata": {},
   "outputs": [
    {
     "output_type": "execute_result",
     "data": {
      "text/plain": [
       "  property_type place_name    price currency  price_aprox_local_currency  \\\n",
       "0            PH  Mataderos  62000.0      USD                   1093959.0   \n",
       "2     apartment  Mataderos  72000.0      USD                   1270404.0   \n",
       "3            PH    Liniers  95000.0      USD                   1676227.5   \n",
       "\n",
       "   price_aprox_usd  surface_total_in_m2  surface_covered_in_m2  \\\n",
       "0          62000.0                 55.0                   40.0   \n",
       "2          72000.0                 55.0                   55.0   \n",
       "3          95000.0                  NaN                    NaN   \n",
       "\n",
       "   price_usd_per_m2  price_per_m2  floor  rooms  \n",
       "0       1127.272727   1550.000000    NaN    NaN  \n",
       "2       1309.090909   1309.090909    NaN    NaN  \n",
       "3               NaN           NaN    NaN    NaN  "
      ],
      "text/html": "<div>\n<style scoped>\n    .dataframe tbody tr th:only-of-type {\n        vertical-align: middle;\n    }\n\n    .dataframe tbody tr th {\n        vertical-align: top;\n    }\n\n    .dataframe thead th {\n        text-align: right;\n    }\n</style>\n<table border=\"1\" class=\"dataframe\">\n  <thead>\n    <tr style=\"text-align: right;\">\n      <th></th>\n      <th>property_type</th>\n      <th>place_name</th>\n      <th>price</th>\n      <th>currency</th>\n      <th>price_aprox_local_currency</th>\n      <th>price_aprox_usd</th>\n      <th>surface_total_in_m2</th>\n      <th>surface_covered_in_m2</th>\n      <th>price_usd_per_m2</th>\n      <th>price_per_m2</th>\n      <th>floor</th>\n      <th>rooms</th>\n    </tr>\n  </thead>\n  <tbody>\n    <tr>\n      <th>0</th>\n      <td>PH</td>\n      <td>Mataderos</td>\n      <td>62000.0</td>\n      <td>USD</td>\n      <td>1093959.0</td>\n      <td>62000.0</td>\n      <td>55.0</td>\n      <td>40.0</td>\n      <td>1127.272727</td>\n      <td>1550.000000</td>\n      <td>NaN</td>\n      <td>NaN</td>\n    </tr>\n    <tr>\n      <th>2</th>\n      <td>apartment</td>\n      <td>Mataderos</td>\n      <td>72000.0</td>\n      <td>USD</td>\n      <td>1270404.0</td>\n      <td>72000.0</td>\n      <td>55.0</td>\n      <td>55.0</td>\n      <td>1309.090909</td>\n      <td>1309.090909</td>\n      <td>NaN</td>\n      <td>NaN</td>\n    </tr>\n    <tr>\n      <th>3</th>\n      <td>PH</td>\n      <td>Liniers</td>\n      <td>95000.0</td>\n      <td>USD</td>\n      <td>1676227.5</td>\n      <td>95000.0</td>\n      <td>NaN</td>\n      <td>NaN</td>\n      <td>NaN</td>\n      <td>NaN</td>\n      <td>NaN</td>\n      <td>NaN</td>\n    </tr>\n  </tbody>\n</table>\n</div>"
     },
     "metadata": {},
     "execution_count": 80
    }
   ],
   "source": [
    "# Creamos una máscara y la aplicamos al dataframe anterior para traer los registros que necesitamos\n",
    "data_caba_mask = data_filtered.state_name == 'Capital Federal' \n",
    "data_caba = data_filtered.loc[data_caba_mask, :]\n",
    "\n",
    "# Dropeamos la columna creada anteriormente.\n",
    "data_caba.drop(columns=['province_group', 'country_name', 'state_name', 'place_with_parent_names','description', 'title'], inplace=True)\n",
    "\n",
    "# Chequeamos cómo quedaron los datos\n",
    "data_caba.head(3)"
   ]
  },
  {
   "cell_type": "code",
   "execution_count": 81,
   "metadata": {},
   "outputs": [
    {
     "output_type": "execute_result",
     "data": {
      "text/plain": [
       "(32314, 12)"
      ]
     },
     "metadata": {},
     "execution_count": 81
    }
   ],
   "source": [
    "# Vemos la cantidad de datos solamente de CABA.\n",
    "data_caba.shape"
   ]
  },
  {
   "source": [
    "# Revisamos si hay barrios de caba mal indentificados \"Ejemplo: Capital Federal\"\n",
    "pd.set_option('display.max_rows', 1000) # Para mostrar todas las filas.\n"
   ],
   "cell_type": "code",
   "metadata": {},
   "execution_count": 82,
   "outputs": []
  },
  {
   "cell_type": "code",
   "execution_count": 83,
   "metadata": {},
   "outputs": [],
   "source": [
    "# Dropeamos los de Capital Federal\n",
    "capi_mask = data_caba.place_name == 'Capital Federal'\n",
    "data_caba.drop(data_caba.loc[capi_mask, :].index, inplace=True)"
   ]
  },
  {
   "cell_type": "code",
   "execution_count": 84,
   "metadata": {},
   "outputs": [
    {
     "output_type": "execute_result",
     "data": {
      "text/plain": [
       "(31019, 12)"
      ]
     },
     "metadata": {},
     "execution_count": 84
    }
   ],
   "source": [
    "data_caba.shape"
   ]
  },
  {
   "cell_type": "code",
   "execution_count": 85,
   "metadata": {},
   "outputs": [
    {
     "output_type": "execute_result",
     "data": {
      "text/plain": [
       "   property_type     place_name     price currency  \\\n",
       "0             PH      Mataderos   62000.0      USD   \n",
       "2      apartment      Mataderos   72000.0      USD   \n",
       "3             PH        Liniers   95000.0      USD   \n",
       "7      apartment       Belgrano  138000.0      USD   \n",
       "8      apartment       Belgrano  195000.0      USD   \n",
       "13     apartment   Palermo Soho  111700.0      USD   \n",
       "14     apartment   Palermo Soho  147900.0      USD   \n",
       "16            PH      Mataderos  239000.0      USD   \n",
       "19     apartment        Palermo  350000.0      USD   \n",
       "21     apartment        Palermo  270500.0      USD   \n",
       "29     apartment         Flores   75000.0      USD   \n",
       "35     apartment          Boedo  145000.0      USD   \n",
       "38     apartment    Las Cañitas  480000.0      USD   \n",
       "47         house  Puerto Madero   70000.0      USD   \n",
       "48     apartment      Balvanera  240000.0      USD   \n",
       "51         house          Boedo  550000.0      USD   \n",
       "52     apartment      Caballito  110000.0      USD   \n",
       "53     apartment      Caballito  170500.0      USD   \n",
       "54     apartment      Caballito  220410.0      USD   \n",
       "55     apartment      Caballito  222780.0      USD   \n",
       "\n",
       "    price_aprox_local_currency  price_aprox_usd  surface_total_in_m2  \\\n",
       "0                   1093959.00          62000.0                 55.0   \n",
       "2                   1270404.00          72000.0                 55.0   \n",
       "3                   1676227.50          95000.0                  NaN   \n",
       "7                   2434941.00         138000.0                 45.0   \n",
       "8                   3440677.50         195000.0                 65.0   \n",
       "13                  1970890.65         111700.0                 50.0   \n",
       "14                  2609621.55         147900.0                 42.0   \n",
       "16                  4217035.50         239000.0                140.0   \n",
       "19                  6175575.00         350000.0                104.0   \n",
       "21                  4772837.25         270500.0                118.0   \n",
       "29                  1323337.50          75000.0                 43.0   \n",
       "35                  2558452.50         145000.0                 80.0   \n",
       "38                  8469360.00         480000.0                220.0   \n",
       "47                  1235115.00          70000.0                 80.0   \n",
       "48                  4234680.00         240000.0                141.0   \n",
       "51                  9704475.00         550000.0                504.0   \n",
       "52                  1940895.00         110000.0                 50.0   \n",
       "53                  3008387.25         170500.0                100.0   \n",
       "54                  3889024.24         220410.0                 81.0   \n",
       "55                  3930841.71         222780.0                 81.0   \n",
       "\n",
       "    surface_covered_in_m2  price_usd_per_m2  price_per_m2  floor  rooms  \n",
       "0                    40.0       1127.272727   1550.000000    NaN    NaN  \n",
       "2                    55.0       1309.090909   1309.090909    NaN    NaN  \n",
       "3                     NaN               NaN           NaN    NaN    NaN  \n",
       "7                    40.0       3066.666667   3450.000000    NaN    NaN  \n",
       "8                    60.0       3000.000000   3250.000000    NaN    NaN  \n",
       "13                   30.0       2234.000000   3723.333333    NaN    1.0  \n",
       "14                   31.0       3521.428571   4770.967742    NaN    1.0  \n",
       "16                   98.0       1707.142857   2438.775510    NaN    4.0  \n",
       "19                   96.0       3365.384615   3645.833333    NaN    3.0  \n",
       "21                   73.0       2292.372881   3705.479452    NaN    4.0  \n",
       "29                   43.0       1744.186047   1744.186047    NaN    2.0  \n",
       "35                   77.0       1812.500000   1883.116883    NaN    4.0  \n",
       "38                  130.0       2181.818182   3692.307692    NaN    3.0  \n",
       "47                   50.0        875.000000   1400.000000    NaN    NaN  \n",
       "48                  124.0       1702.127660   1935.483871    NaN    5.0  \n",
       "51                  324.0       1091.269841   1697.530864    NaN    NaN  \n",
       "52                   50.0       2200.000000   2200.000000    NaN    3.0  \n",
       "53                   46.0       1705.000000   3706.521739    NaN    2.0  \n",
       "54                   75.0       2721.111111   2938.800000    NaN    3.0  \n",
       "55                   75.0       2750.370370   2970.400000    NaN    3.0  "
      ],
      "text/html": "<div>\n<style scoped>\n    .dataframe tbody tr th:only-of-type {\n        vertical-align: middle;\n    }\n\n    .dataframe tbody tr th {\n        vertical-align: top;\n    }\n\n    .dataframe thead th {\n        text-align: right;\n    }\n</style>\n<table border=\"1\" class=\"dataframe\">\n  <thead>\n    <tr style=\"text-align: right;\">\n      <th></th>\n      <th>property_type</th>\n      <th>place_name</th>\n      <th>price</th>\n      <th>currency</th>\n      <th>price_aprox_local_currency</th>\n      <th>price_aprox_usd</th>\n      <th>surface_total_in_m2</th>\n      <th>surface_covered_in_m2</th>\n      <th>price_usd_per_m2</th>\n      <th>price_per_m2</th>\n      <th>floor</th>\n      <th>rooms</th>\n    </tr>\n  </thead>\n  <tbody>\n    <tr>\n      <th>0</th>\n      <td>PH</td>\n      <td>Mataderos</td>\n      <td>62000.0</td>\n      <td>USD</td>\n      <td>1093959.00</td>\n      <td>62000.0</td>\n      <td>55.0</td>\n      <td>40.0</td>\n      <td>1127.272727</td>\n      <td>1550.000000</td>\n      <td>NaN</td>\n      <td>NaN</td>\n    </tr>\n    <tr>\n      <th>2</th>\n      <td>apartment</td>\n      <td>Mataderos</td>\n      <td>72000.0</td>\n      <td>USD</td>\n      <td>1270404.00</td>\n      <td>72000.0</td>\n      <td>55.0</td>\n      <td>55.0</td>\n      <td>1309.090909</td>\n      <td>1309.090909</td>\n      <td>NaN</td>\n      <td>NaN</td>\n    </tr>\n    <tr>\n      <th>3</th>\n      <td>PH</td>\n      <td>Liniers</td>\n      <td>95000.0</td>\n      <td>USD</td>\n      <td>1676227.50</td>\n      <td>95000.0</td>\n      <td>NaN</td>\n      <td>NaN</td>\n      <td>NaN</td>\n      <td>NaN</td>\n      <td>NaN</td>\n      <td>NaN</td>\n    </tr>\n    <tr>\n      <th>7</th>\n      <td>apartment</td>\n      <td>Belgrano</td>\n      <td>138000.0</td>\n      <td>USD</td>\n      <td>2434941.00</td>\n      <td>138000.0</td>\n      <td>45.0</td>\n      <td>40.0</td>\n      <td>3066.666667</td>\n      <td>3450.000000</td>\n      <td>NaN</td>\n      <td>NaN</td>\n    </tr>\n    <tr>\n      <th>8</th>\n      <td>apartment</td>\n      <td>Belgrano</td>\n      <td>195000.0</td>\n      <td>USD</td>\n      <td>3440677.50</td>\n      <td>195000.0</td>\n      <td>65.0</td>\n      <td>60.0</td>\n      <td>3000.000000</td>\n      <td>3250.000000</td>\n      <td>NaN</td>\n      <td>NaN</td>\n    </tr>\n    <tr>\n      <th>13</th>\n      <td>apartment</td>\n      <td>Palermo Soho</td>\n      <td>111700.0</td>\n      <td>USD</td>\n      <td>1970890.65</td>\n      <td>111700.0</td>\n      <td>50.0</td>\n      <td>30.0</td>\n      <td>2234.000000</td>\n      <td>3723.333333</td>\n      <td>NaN</td>\n      <td>1.0</td>\n    </tr>\n    <tr>\n      <th>14</th>\n      <td>apartment</td>\n      <td>Palermo Soho</td>\n      <td>147900.0</td>\n      <td>USD</td>\n      <td>2609621.55</td>\n      <td>147900.0</td>\n      <td>42.0</td>\n      <td>31.0</td>\n      <td>3521.428571</td>\n      <td>4770.967742</td>\n      <td>NaN</td>\n      <td>1.0</td>\n    </tr>\n    <tr>\n      <th>16</th>\n      <td>PH</td>\n      <td>Mataderos</td>\n      <td>239000.0</td>\n      <td>USD</td>\n      <td>4217035.50</td>\n      <td>239000.0</td>\n      <td>140.0</td>\n      <td>98.0</td>\n      <td>1707.142857</td>\n      <td>2438.775510</td>\n      <td>NaN</td>\n      <td>4.0</td>\n    </tr>\n    <tr>\n      <th>19</th>\n      <td>apartment</td>\n      <td>Palermo</td>\n      <td>350000.0</td>\n      <td>USD</td>\n      <td>6175575.00</td>\n      <td>350000.0</td>\n      <td>104.0</td>\n      <td>96.0</td>\n      <td>3365.384615</td>\n      <td>3645.833333</td>\n      <td>NaN</td>\n      <td>3.0</td>\n    </tr>\n    <tr>\n      <th>21</th>\n      <td>apartment</td>\n      <td>Palermo</td>\n      <td>270500.0</td>\n      <td>USD</td>\n      <td>4772837.25</td>\n      <td>270500.0</td>\n      <td>118.0</td>\n      <td>73.0</td>\n      <td>2292.372881</td>\n      <td>3705.479452</td>\n      <td>NaN</td>\n      <td>4.0</td>\n    </tr>\n    <tr>\n      <th>29</th>\n      <td>apartment</td>\n      <td>Flores</td>\n      <td>75000.0</td>\n      <td>USD</td>\n      <td>1323337.50</td>\n      <td>75000.0</td>\n      <td>43.0</td>\n      <td>43.0</td>\n      <td>1744.186047</td>\n      <td>1744.186047</td>\n      <td>NaN</td>\n      <td>2.0</td>\n    </tr>\n    <tr>\n      <th>35</th>\n      <td>apartment</td>\n      <td>Boedo</td>\n      <td>145000.0</td>\n      <td>USD</td>\n      <td>2558452.50</td>\n      <td>145000.0</td>\n      <td>80.0</td>\n      <td>77.0</td>\n      <td>1812.500000</td>\n      <td>1883.116883</td>\n      <td>NaN</td>\n      <td>4.0</td>\n    </tr>\n    <tr>\n      <th>38</th>\n      <td>apartment</td>\n      <td>Las Cañitas</td>\n      <td>480000.0</td>\n      <td>USD</td>\n      <td>8469360.00</td>\n      <td>480000.0</td>\n      <td>220.0</td>\n      <td>130.0</td>\n      <td>2181.818182</td>\n      <td>3692.307692</td>\n      <td>NaN</td>\n      <td>3.0</td>\n    </tr>\n    <tr>\n      <th>47</th>\n      <td>house</td>\n      <td>Puerto Madero</td>\n      <td>70000.0</td>\n      <td>USD</td>\n      <td>1235115.00</td>\n      <td>70000.0</td>\n      <td>80.0</td>\n      <td>50.0</td>\n      <td>875.000000</td>\n      <td>1400.000000</td>\n      <td>NaN</td>\n      <td>NaN</td>\n    </tr>\n    <tr>\n      <th>48</th>\n      <td>apartment</td>\n      <td>Balvanera</td>\n      <td>240000.0</td>\n      <td>USD</td>\n      <td>4234680.00</td>\n      <td>240000.0</td>\n      <td>141.0</td>\n      <td>124.0</td>\n      <td>1702.127660</td>\n      <td>1935.483871</td>\n      <td>NaN</td>\n      <td>5.0</td>\n    </tr>\n    <tr>\n      <th>51</th>\n      <td>house</td>\n      <td>Boedo</td>\n      <td>550000.0</td>\n      <td>USD</td>\n      <td>9704475.00</td>\n      <td>550000.0</td>\n      <td>504.0</td>\n      <td>324.0</td>\n      <td>1091.269841</td>\n      <td>1697.530864</td>\n      <td>NaN</td>\n      <td>NaN</td>\n    </tr>\n    <tr>\n      <th>52</th>\n      <td>apartment</td>\n      <td>Caballito</td>\n      <td>110000.0</td>\n      <td>USD</td>\n      <td>1940895.00</td>\n      <td>110000.0</td>\n      <td>50.0</td>\n      <td>50.0</td>\n      <td>2200.000000</td>\n      <td>2200.000000</td>\n      <td>NaN</td>\n      <td>3.0</td>\n    </tr>\n    <tr>\n      <th>53</th>\n      <td>apartment</td>\n      <td>Caballito</td>\n      <td>170500.0</td>\n      <td>USD</td>\n      <td>3008387.25</td>\n      <td>170500.0</td>\n      <td>100.0</td>\n      <td>46.0</td>\n      <td>1705.000000</td>\n      <td>3706.521739</td>\n      <td>NaN</td>\n      <td>2.0</td>\n    </tr>\n    <tr>\n      <th>54</th>\n      <td>apartment</td>\n      <td>Caballito</td>\n      <td>220410.0</td>\n      <td>USD</td>\n      <td>3889024.24</td>\n      <td>220410.0</td>\n      <td>81.0</td>\n      <td>75.0</td>\n      <td>2721.111111</td>\n      <td>2938.800000</td>\n      <td>NaN</td>\n      <td>3.0</td>\n    </tr>\n    <tr>\n      <th>55</th>\n      <td>apartment</td>\n      <td>Caballito</td>\n      <td>222780.0</td>\n      <td>USD</td>\n      <td>3930841.71</td>\n      <td>222780.0</td>\n      <td>81.0</td>\n      <td>75.0</td>\n      <td>2750.370370</td>\n      <td>2970.400000</td>\n      <td>NaN</td>\n      <td>3.0</td>\n    </tr>\n  </tbody>\n</table>\n</div>"
     },
     "metadata": {},
     "execution_count": 85
    }
   ],
   "source": [
    "data_caba.head(20)"
   ]
  },
  {
   "source": [
    "## De los datos filtrados según Desafio 1 deberiamos:\n",
    "\n",
    "1. Terminar de dropear variables incompletas que serian necesarias para poder entrenar un modelo. (ejemplo: si la propiedad no posee: price, price_aprox_local_currency,price_usd_per_m2, price_per_m2, etc...) la información de los barrios ya fue analizado y dropeado en el paso anterior.\n",
    "2. Definir las variables CUANTITATIVAS, ejemplo precio, total de m2 de superficie.\n",
    "3. Armar las variables CUALITATICAS, Dummy (ejemplo: place_name, property_type).\n",
    "4. Armar una nueva variable Dummy que contemple los precios de propiedad segun su distribución por metro cuadrado. Utilizando Panda CUT. \n",
    "\n",
    "## Finalizado el analisis de datos, armamos diferentes modelos para predecir el precio de la propiedad.\n",
    "\n",
    "1. Regresion Lineal Multiple\n",
    "2. Entrenar los modelos con Lasso, RidgeCV y utilizando Cross Validation.\n",
    "\n"
   ],
   "cell_type": "markdown",
   "metadata": {}
  },
  {
   "source": [
    "### Primero damos homogenidad a los datos\n",
    "\n",
    "Vamos a realizar ciertas verificaciones de los datos."
   ],
   "cell_type": "markdown",
   "metadata": {}
  },
  {
   "cell_type": "code",
   "execution_count": 86,
   "metadata": {},
   "outputs": [
    {
     "output_type": "display_data",
     "data": {
      "text/plain": "(4138, 12)"
     },
     "metadata": {}
    },
    {
     "output_type": "display_data",
     "data": {
      "text/plain": "       property_type         place_name      price currency  \\\n71626      apartment  Palermo Hollywood        NaN      NaN   \n109390     apartment          Caballito        NaN      NaN   \n121009     apartment           Belgrano        NaN      NaN   \n113457     apartment            Palermo  5035125.0      ARS   \n9327       apartment               Once        NaN      NaN   \n32054          store       Palermo Soho        NaN      NaN   \n88212          store          Balvanera        NaN      NaN   \n74891      apartment           Belgrano        NaN      NaN   \n31422      apartment   Villa del Parque        NaN      NaN   \n120805     apartment          Caballito        NaN      NaN   \n67685      apartment            Palermo        NaN      NaN   \n3808       apartment             Flores        NaN      NaN   \n120861            PH          Caballito        NaN      NaN   \n109021     apartment           Floresta        NaN      NaN   \n30202          house           Belgrano        NaN      NaN   \n97033      apartment           Belgrano        NaN      NaN   \n2995           house          Caballito        NaN      NaN   \n67415      apartment          Caballito        NaN      NaN   \n118719         store        San Nicolás        NaN      NaN   \n3926           house          San Telmo        NaN      NaN   \n\n        price_aprox_local_currency  price_aprox_usd  surface_total_in_m2  \\\n71626                          NaN              NaN                126.0   \n109390                         NaN              NaN                 41.0   \n121009                         NaN              NaN                 38.0   \n113457                  4982600.71        282388.32                118.0   \n9327                           NaN              NaN                  NaN   \n32054                          NaN              NaN                120.0   \n88212                          NaN              NaN               1250.0   \n74891                          NaN              NaN                 68.0   \n31422                          NaN              NaN                 49.0   \n120805                         NaN              NaN                 85.0   \n67685                          NaN              NaN                 57.0   \n3808                           NaN              NaN                 85.0   \n120861                         NaN              NaN                 61.0   \n109021                         NaN              NaN                 98.0   \n30202                          NaN              NaN               1600.0   \n97033                          NaN              NaN                  NaN   \n2995                           NaN              NaN                230.0   \n67415                          NaN              NaN                 62.0   \n118719                         NaN              NaN                 92.0   \n3926                           NaN              NaN                 45.0   \n\n        surface_covered_in_m2  price_usd_per_m2  price_per_m2  floor  rooms  \n71626                    93.0               NaN           NaN    NaN    NaN  \n109390                   36.0               NaN           NaN    NaN    NaN  \n121009                   35.0               NaN           NaN    NaN    NaN  \n113457                   75.0       2393.121356       67135.0    NaN    2.0  \n9327                     70.0               NaN           NaN    NaN    NaN  \n32054                   120.0               NaN           NaN    NaN    NaN  \n88212                  1250.0               NaN           NaN    NaN    NaN  \n74891                    68.0               NaN           NaN    NaN    NaN  \n31422                    44.0               NaN           NaN    NaN    2.0  \n120805                   70.0               NaN           NaN    NaN    NaN  \n67685                     NaN               NaN           NaN    NaN    NaN  \n3808                     75.0               NaN           NaN    NaN    3.0  \n120861                   61.0               NaN           NaN    NaN    NaN  \n109021                   90.0               NaN           NaN    NaN    NaN  \n30202                  1600.0               NaN           NaN    NaN    NaN  \n97033                    33.0               NaN           NaN    NaN    NaN  \n2995                      NaN               NaN           NaN    NaN    3.0  \n67415                     NaN               NaN           NaN    NaN    NaN  \n118719                   92.0               NaN           NaN    NaN    NaN  \n3926                     45.0               NaN           NaN    NaN    1.0  ",
      "text/html": "<div>\n<style scoped>\n    .dataframe tbody tr th:only-of-type {\n        vertical-align: middle;\n    }\n\n    .dataframe tbody tr th {\n        vertical-align: top;\n    }\n\n    .dataframe thead th {\n        text-align: right;\n    }\n</style>\n<table border=\"1\" class=\"dataframe\">\n  <thead>\n    <tr style=\"text-align: right;\">\n      <th></th>\n      <th>property_type</th>\n      <th>place_name</th>\n      <th>price</th>\n      <th>currency</th>\n      <th>price_aprox_local_currency</th>\n      <th>price_aprox_usd</th>\n      <th>surface_total_in_m2</th>\n      <th>surface_covered_in_m2</th>\n      <th>price_usd_per_m2</th>\n      <th>price_per_m2</th>\n      <th>floor</th>\n      <th>rooms</th>\n    </tr>\n  </thead>\n  <tbody>\n    <tr>\n      <th>71626</th>\n      <td>apartment</td>\n      <td>Palermo Hollywood</td>\n      <td>NaN</td>\n      <td>NaN</td>\n      <td>NaN</td>\n      <td>NaN</td>\n      <td>126.0</td>\n      <td>93.0</td>\n      <td>NaN</td>\n      <td>NaN</td>\n      <td>NaN</td>\n      <td>NaN</td>\n    </tr>\n    <tr>\n      <th>109390</th>\n      <td>apartment</td>\n      <td>Caballito</td>\n      <td>NaN</td>\n      <td>NaN</td>\n      <td>NaN</td>\n      <td>NaN</td>\n      <td>41.0</td>\n      <td>36.0</td>\n      <td>NaN</td>\n      <td>NaN</td>\n      <td>NaN</td>\n      <td>NaN</td>\n    </tr>\n    <tr>\n      <th>121009</th>\n      <td>apartment</td>\n      <td>Belgrano</td>\n      <td>NaN</td>\n      <td>NaN</td>\n      <td>NaN</td>\n      <td>NaN</td>\n      <td>38.0</td>\n      <td>35.0</td>\n      <td>NaN</td>\n      <td>NaN</td>\n      <td>NaN</td>\n      <td>NaN</td>\n    </tr>\n    <tr>\n      <th>113457</th>\n      <td>apartment</td>\n      <td>Palermo</td>\n      <td>5035125.0</td>\n      <td>ARS</td>\n      <td>4982600.71</td>\n      <td>282388.32</td>\n      <td>118.0</td>\n      <td>75.0</td>\n      <td>2393.121356</td>\n      <td>67135.0</td>\n      <td>NaN</td>\n      <td>2.0</td>\n    </tr>\n    <tr>\n      <th>9327</th>\n      <td>apartment</td>\n      <td>Once</td>\n      <td>NaN</td>\n      <td>NaN</td>\n      <td>NaN</td>\n      <td>NaN</td>\n      <td>NaN</td>\n      <td>70.0</td>\n      <td>NaN</td>\n      <td>NaN</td>\n      <td>NaN</td>\n      <td>NaN</td>\n    </tr>\n    <tr>\n      <th>32054</th>\n      <td>store</td>\n      <td>Palermo Soho</td>\n      <td>NaN</td>\n      <td>NaN</td>\n      <td>NaN</td>\n      <td>NaN</td>\n      <td>120.0</td>\n      <td>120.0</td>\n      <td>NaN</td>\n      <td>NaN</td>\n      <td>NaN</td>\n      <td>NaN</td>\n    </tr>\n    <tr>\n      <th>88212</th>\n      <td>store</td>\n      <td>Balvanera</td>\n      <td>NaN</td>\n      <td>NaN</td>\n      <td>NaN</td>\n      <td>NaN</td>\n      <td>1250.0</td>\n      <td>1250.0</td>\n      <td>NaN</td>\n      <td>NaN</td>\n      <td>NaN</td>\n      <td>NaN</td>\n    </tr>\n    <tr>\n      <th>74891</th>\n      <td>apartment</td>\n      <td>Belgrano</td>\n      <td>NaN</td>\n      <td>NaN</td>\n      <td>NaN</td>\n      <td>NaN</td>\n      <td>68.0</td>\n      <td>68.0</td>\n      <td>NaN</td>\n      <td>NaN</td>\n      <td>NaN</td>\n      <td>NaN</td>\n    </tr>\n    <tr>\n      <th>31422</th>\n      <td>apartment</td>\n      <td>Villa del Parque</td>\n      <td>NaN</td>\n      <td>NaN</td>\n      <td>NaN</td>\n      <td>NaN</td>\n      <td>49.0</td>\n      <td>44.0</td>\n      <td>NaN</td>\n      <td>NaN</td>\n      <td>NaN</td>\n      <td>2.0</td>\n    </tr>\n    <tr>\n      <th>120805</th>\n      <td>apartment</td>\n      <td>Caballito</td>\n      <td>NaN</td>\n      <td>NaN</td>\n      <td>NaN</td>\n      <td>NaN</td>\n      <td>85.0</td>\n      <td>70.0</td>\n      <td>NaN</td>\n      <td>NaN</td>\n      <td>NaN</td>\n      <td>NaN</td>\n    </tr>\n    <tr>\n      <th>67685</th>\n      <td>apartment</td>\n      <td>Palermo</td>\n      <td>NaN</td>\n      <td>NaN</td>\n      <td>NaN</td>\n      <td>NaN</td>\n      <td>57.0</td>\n      <td>NaN</td>\n      <td>NaN</td>\n      <td>NaN</td>\n      <td>NaN</td>\n      <td>NaN</td>\n    </tr>\n    <tr>\n      <th>3808</th>\n      <td>apartment</td>\n      <td>Flores</td>\n      <td>NaN</td>\n      <td>NaN</td>\n      <td>NaN</td>\n      <td>NaN</td>\n      <td>85.0</td>\n      <td>75.0</td>\n      <td>NaN</td>\n      <td>NaN</td>\n      <td>NaN</td>\n      <td>3.0</td>\n    </tr>\n    <tr>\n      <th>120861</th>\n      <td>PH</td>\n      <td>Caballito</td>\n      <td>NaN</td>\n      <td>NaN</td>\n      <td>NaN</td>\n      <td>NaN</td>\n      <td>61.0</td>\n      <td>61.0</td>\n      <td>NaN</td>\n      <td>NaN</td>\n      <td>NaN</td>\n      <td>NaN</td>\n    </tr>\n    <tr>\n      <th>109021</th>\n      <td>apartment</td>\n      <td>Floresta</td>\n      <td>NaN</td>\n      <td>NaN</td>\n      <td>NaN</td>\n      <td>NaN</td>\n      <td>98.0</td>\n      <td>90.0</td>\n      <td>NaN</td>\n      <td>NaN</td>\n      <td>NaN</td>\n      <td>NaN</td>\n    </tr>\n    <tr>\n      <th>30202</th>\n      <td>house</td>\n      <td>Belgrano</td>\n      <td>NaN</td>\n      <td>NaN</td>\n      <td>NaN</td>\n      <td>NaN</td>\n      <td>1600.0</td>\n      <td>1600.0</td>\n      <td>NaN</td>\n      <td>NaN</td>\n      <td>NaN</td>\n      <td>NaN</td>\n    </tr>\n    <tr>\n      <th>97033</th>\n      <td>apartment</td>\n      <td>Belgrano</td>\n      <td>NaN</td>\n      <td>NaN</td>\n      <td>NaN</td>\n      <td>NaN</td>\n      <td>NaN</td>\n      <td>33.0</td>\n      <td>NaN</td>\n      <td>NaN</td>\n      <td>NaN</td>\n      <td>NaN</td>\n    </tr>\n    <tr>\n      <th>2995</th>\n      <td>house</td>\n      <td>Caballito</td>\n      <td>NaN</td>\n      <td>NaN</td>\n      <td>NaN</td>\n      <td>NaN</td>\n      <td>230.0</td>\n      <td>NaN</td>\n      <td>NaN</td>\n      <td>NaN</td>\n      <td>NaN</td>\n      <td>3.0</td>\n    </tr>\n    <tr>\n      <th>67415</th>\n      <td>apartment</td>\n      <td>Caballito</td>\n      <td>NaN</td>\n      <td>NaN</td>\n      <td>NaN</td>\n      <td>NaN</td>\n      <td>62.0</td>\n      <td>NaN</td>\n      <td>NaN</td>\n      <td>NaN</td>\n      <td>NaN</td>\n      <td>NaN</td>\n    </tr>\n    <tr>\n      <th>118719</th>\n      <td>store</td>\n      <td>San Nicolás</td>\n      <td>NaN</td>\n      <td>NaN</td>\n      <td>NaN</td>\n      <td>NaN</td>\n      <td>92.0</td>\n      <td>92.0</td>\n      <td>NaN</td>\n      <td>NaN</td>\n      <td>NaN</td>\n      <td>NaN</td>\n    </tr>\n    <tr>\n      <th>3926</th>\n      <td>house</td>\n      <td>San Telmo</td>\n      <td>NaN</td>\n      <td>NaN</td>\n      <td>NaN</td>\n      <td>NaN</td>\n      <td>45.0</td>\n      <td>45.0</td>\n      <td>NaN</td>\n      <td>NaN</td>\n      <td>NaN</td>\n      <td>1.0</td>\n    </tr>\n  </tbody>\n</table>\n</div>"
     },
     "metadata": {}
    }
   ],
   "source": [
    "# 1. Verificamos que el price y el price_aprox_usd sean los mismos, y luego si fuera así dropeamos el price_aprox_usd\n",
    "\n",
    "mask_price_validation = data_caba.price != data_caba.price_aprox_usd\n",
    "\n",
    "display(data_caba.loc[mask_price_validation, :].shape)\n",
    "\n",
    "# Detectamos que hay 4138 propiedades donde los valores son diferentes? pero estan en Pesos o son NaN?\n",
    "\n",
    "display(data_caba.loc[mask_price_validation, :].sample(20))\n",
    "\n",
    "# Detectamos que tenemos los dos casos, donde los precios son NaN y donde la moneda está en ARS (lo cual no estaría mal)\n",
    "# En el caso de ARS, vemos que el valor de price toma el de la moneda local ~ Por lo que podriamos llegar a eliminar price, currency y price_aprox_local_currency \n",
    "\n",
    "# Para los valores de NaN tendriamos que tomar la decisión si los dropeamos o tratamos de calcular un precio promedio en base a la cantidad de metros cuadrados. Podemos hacerlo en base al calculo que realizamos en el Desafio 1 ??"
   ]
  },
  {
   "cell_type": "code",
   "execution_count": 87,
   "metadata": {},
   "outputs": [
    {
     "output_type": "display_data",
     "data": {
      "text/plain": "(1035, 12)"
     },
     "metadata": {}
    },
    {
     "output_type": "display_data",
     "data": {
      "text/plain": "       property_type    place_name       price currency  \\\n28072      apartment       Palermo   3311974.0      ARS   \n64131      apartment         Nuñez  50000000.0      ARS   \n86647      apartment          Boca   1960382.0      ARS   \n48033      apartment     San Telmo   1202900.0      ARS   \n90160      apartment  Villa Crespo   3354586.0      ARS   \n51048      apartment     Caballito    994384.0      ARS   \n111133     apartment      Recoleta   1541800.0      ARS   \n86090      apartment     San Telmo   2243681.0      ARS   \n105061     apartment         Boedo   1900000.0      ARS   \n9453       apartment     Caballito    208730.0      ARS   \n105095     apartment         Boedo   1093000.0      ARS   \n90223      apartment  Villa Crespo   2344925.0      ARS   \n48046      apartment     San Telmo   1412700.0      ARS   \n43579      apartment       Palermo   6194774.0      ARS   \n97655      apartment    Villa Luro   1698912.0      ARS   \n109624     apartment      Belgrano   1721300.0      ARS   \n45761      apartment      Recoleta   1541800.0      ARS   \n23373      apartment     Caballito    948000.0      ARS   \n19481      apartment        Flores   1955000.0      ARS   \n55337      apartment       Palermo   1920000.0      ARS   \n\n        price_aprox_local_currency  price_aprox_usd  surface_total_in_m2  \\\n28072                   3277424.76        185747.67                  NaN   \n64131                  51462696.12       2916642.36                500.0   \n86647                   1939932.13        109945.43                 62.0   \n48033                   1190351.78         67463.05                 35.0   \n90160                   3319592.29        188137.51                 50.0   \n51048                    984011.00         55768.71                 24.0   \n111133                  1525716.56         86469.81                 34.0   \n86090                   2220275.89        125833.88                 37.0   \n105061                  1880179.92        106558.98                 71.0   \n9453                     206552.51         11706.34                 72.0   \n105095                  1081598.14         61299.45                 29.0   \n90223                   2320463.66        131512.01                 33.0   \n48046                   1397963.32         79229.41                 30.0   \n43579                   6130152.76        347425.70                128.0   \n97655                   1681189.66         95281.23                 54.0   \n109624                  1703344.09         96536.83                  NaN   \n45761                   1586903.63         89937.58                335.0   \n23373                    938110.77         53167.32                  NaN   \n19481                   1934606.14        109643.58                 48.0   \n55337                   1899971.22        107680.65                 37.0   \n\n        surface_covered_in_m2  price_usd_per_m2   price_per_m2  floor  rooms  \n28072                    67.0               NaN   49432.447761  103.0    2.0  \n64131                   105.0       5833.284720  476190.476190    NaN    NaN  \n86647                    56.0       1773.313387   35006.821429    NaN    NaN  \n48033                    31.0       1927.515714   38803.225806    NaN    1.0  \n90160                    42.0       3762.750200   79871.095238    NaN    NaN  \n51048                    24.0       2323.696250   41432.666667    NaN    1.0  \n111133                   30.0       2543.229706   51393.333333    NaN    1.0  \n86090                    33.0       3400.915676   67990.333333    NaN    NaN  \n105061                   35.0       1500.830704   54285.714286    NaN    NaN  \n9453                     66.0        162.588056    3162.575758    7.0    NaN  \n105095                   19.0       2113.774138   57526.315789    NaN    NaN  \n90223                    28.0       3985.212424   83747.321429    NaN    NaN  \n48046                    26.0       2640.980333   54334.615385    NaN    1.0  \n43579                   123.0       2714.263281   50364.016260    NaN    4.0  \n97655                    41.0       1764.467222   41436.878049    NaN    NaN  \n109624                   80.0               NaN   21516.250000    9.0    1.0  \n45761                   305.0        268.470388    5055.081967    4.0    NaN  \n23373                    24.0               NaN   39500.000000    1.0    1.0  \n19481                    45.0       2284.241250   43444.444444    3.0    2.0  \n55337                    34.0       2910.287838   56470.588235    NaN    1.0  ",
      "text/html": "<div>\n<style scoped>\n    .dataframe tbody tr th:only-of-type {\n        vertical-align: middle;\n    }\n\n    .dataframe tbody tr th {\n        vertical-align: top;\n    }\n\n    .dataframe thead th {\n        text-align: right;\n    }\n</style>\n<table border=\"1\" class=\"dataframe\">\n  <thead>\n    <tr style=\"text-align: right;\">\n      <th></th>\n      <th>property_type</th>\n      <th>place_name</th>\n      <th>price</th>\n      <th>currency</th>\n      <th>price_aprox_local_currency</th>\n      <th>price_aprox_usd</th>\n      <th>surface_total_in_m2</th>\n      <th>surface_covered_in_m2</th>\n      <th>price_usd_per_m2</th>\n      <th>price_per_m2</th>\n      <th>floor</th>\n      <th>rooms</th>\n    </tr>\n  </thead>\n  <tbody>\n    <tr>\n      <th>28072</th>\n      <td>apartment</td>\n      <td>Palermo</td>\n      <td>3311974.0</td>\n      <td>ARS</td>\n      <td>3277424.76</td>\n      <td>185747.67</td>\n      <td>NaN</td>\n      <td>67.0</td>\n      <td>NaN</td>\n      <td>49432.447761</td>\n      <td>103.0</td>\n      <td>2.0</td>\n    </tr>\n    <tr>\n      <th>64131</th>\n      <td>apartment</td>\n      <td>Nuñez</td>\n      <td>50000000.0</td>\n      <td>ARS</td>\n      <td>51462696.12</td>\n      <td>2916642.36</td>\n      <td>500.0</td>\n      <td>105.0</td>\n      <td>5833.284720</td>\n      <td>476190.476190</td>\n      <td>NaN</td>\n      <td>NaN</td>\n    </tr>\n    <tr>\n      <th>86647</th>\n      <td>apartment</td>\n      <td>Boca</td>\n      <td>1960382.0</td>\n      <td>ARS</td>\n      <td>1939932.13</td>\n      <td>109945.43</td>\n      <td>62.0</td>\n      <td>56.0</td>\n      <td>1773.313387</td>\n      <td>35006.821429</td>\n      <td>NaN</td>\n      <td>NaN</td>\n    </tr>\n    <tr>\n      <th>48033</th>\n      <td>apartment</td>\n      <td>San Telmo</td>\n      <td>1202900.0</td>\n      <td>ARS</td>\n      <td>1190351.78</td>\n      <td>67463.05</td>\n      <td>35.0</td>\n      <td>31.0</td>\n      <td>1927.515714</td>\n      <td>38803.225806</td>\n      <td>NaN</td>\n      <td>1.0</td>\n    </tr>\n    <tr>\n      <th>90160</th>\n      <td>apartment</td>\n      <td>Villa Crespo</td>\n      <td>3354586.0</td>\n      <td>ARS</td>\n      <td>3319592.29</td>\n      <td>188137.51</td>\n      <td>50.0</td>\n      <td>42.0</td>\n      <td>3762.750200</td>\n      <td>79871.095238</td>\n      <td>NaN</td>\n      <td>NaN</td>\n    </tr>\n    <tr>\n      <th>51048</th>\n      <td>apartment</td>\n      <td>Caballito</td>\n      <td>994384.0</td>\n      <td>ARS</td>\n      <td>984011.00</td>\n      <td>55768.71</td>\n      <td>24.0</td>\n      <td>24.0</td>\n      <td>2323.696250</td>\n      <td>41432.666667</td>\n      <td>NaN</td>\n      <td>1.0</td>\n    </tr>\n    <tr>\n      <th>111133</th>\n      <td>apartment</td>\n      <td>Recoleta</td>\n      <td>1541800.0</td>\n      <td>ARS</td>\n      <td>1525716.56</td>\n      <td>86469.81</td>\n      <td>34.0</td>\n      <td>30.0</td>\n      <td>2543.229706</td>\n      <td>51393.333333</td>\n      <td>NaN</td>\n      <td>1.0</td>\n    </tr>\n    <tr>\n      <th>86090</th>\n      <td>apartment</td>\n      <td>San Telmo</td>\n      <td>2243681.0</td>\n      <td>ARS</td>\n      <td>2220275.89</td>\n      <td>125833.88</td>\n      <td>37.0</td>\n      <td>33.0</td>\n      <td>3400.915676</td>\n      <td>67990.333333</td>\n      <td>NaN</td>\n      <td>NaN</td>\n    </tr>\n    <tr>\n      <th>105061</th>\n      <td>apartment</td>\n      <td>Boedo</td>\n      <td>1900000.0</td>\n      <td>ARS</td>\n      <td>1880179.92</td>\n      <td>106558.98</td>\n      <td>71.0</td>\n      <td>35.0</td>\n      <td>1500.830704</td>\n      <td>54285.714286</td>\n      <td>NaN</td>\n      <td>NaN</td>\n    </tr>\n    <tr>\n      <th>9453</th>\n      <td>apartment</td>\n      <td>Caballito</td>\n      <td>208730.0</td>\n      <td>ARS</td>\n      <td>206552.51</td>\n      <td>11706.34</td>\n      <td>72.0</td>\n      <td>66.0</td>\n      <td>162.588056</td>\n      <td>3162.575758</td>\n      <td>7.0</td>\n      <td>NaN</td>\n    </tr>\n    <tr>\n      <th>105095</th>\n      <td>apartment</td>\n      <td>Boedo</td>\n      <td>1093000.0</td>\n      <td>ARS</td>\n      <td>1081598.14</td>\n      <td>61299.45</td>\n      <td>29.0</td>\n      <td>19.0</td>\n      <td>2113.774138</td>\n      <td>57526.315789</td>\n      <td>NaN</td>\n      <td>NaN</td>\n    </tr>\n    <tr>\n      <th>90223</th>\n      <td>apartment</td>\n      <td>Villa Crespo</td>\n      <td>2344925.0</td>\n      <td>ARS</td>\n      <td>2320463.66</td>\n      <td>131512.01</td>\n      <td>33.0</td>\n      <td>28.0</td>\n      <td>3985.212424</td>\n      <td>83747.321429</td>\n      <td>NaN</td>\n      <td>NaN</td>\n    </tr>\n    <tr>\n      <th>48046</th>\n      <td>apartment</td>\n      <td>San Telmo</td>\n      <td>1412700.0</td>\n      <td>ARS</td>\n      <td>1397963.32</td>\n      <td>79229.41</td>\n      <td>30.0</td>\n      <td>26.0</td>\n      <td>2640.980333</td>\n      <td>54334.615385</td>\n      <td>NaN</td>\n      <td>1.0</td>\n    </tr>\n    <tr>\n      <th>43579</th>\n      <td>apartment</td>\n      <td>Palermo</td>\n      <td>6194774.0</td>\n      <td>ARS</td>\n      <td>6130152.76</td>\n      <td>347425.70</td>\n      <td>128.0</td>\n      <td>123.0</td>\n      <td>2714.263281</td>\n      <td>50364.016260</td>\n      <td>NaN</td>\n      <td>4.0</td>\n    </tr>\n    <tr>\n      <th>97655</th>\n      <td>apartment</td>\n      <td>Villa Luro</td>\n      <td>1698912.0</td>\n      <td>ARS</td>\n      <td>1681189.66</td>\n      <td>95281.23</td>\n      <td>54.0</td>\n      <td>41.0</td>\n      <td>1764.467222</td>\n      <td>41436.878049</td>\n      <td>NaN</td>\n      <td>NaN</td>\n    </tr>\n    <tr>\n      <th>109624</th>\n      <td>apartment</td>\n      <td>Belgrano</td>\n      <td>1721300.0</td>\n      <td>ARS</td>\n      <td>1703344.09</td>\n      <td>96536.83</td>\n      <td>NaN</td>\n      <td>80.0</td>\n      <td>NaN</td>\n      <td>21516.250000</td>\n      <td>9.0</td>\n      <td>1.0</td>\n    </tr>\n    <tr>\n      <th>45761</th>\n      <td>apartment</td>\n      <td>Recoleta</td>\n      <td>1541800.0</td>\n      <td>ARS</td>\n      <td>1586903.63</td>\n      <td>89937.58</td>\n      <td>335.0</td>\n      <td>305.0</td>\n      <td>268.470388</td>\n      <td>5055.081967</td>\n      <td>4.0</td>\n      <td>NaN</td>\n    </tr>\n    <tr>\n      <th>23373</th>\n      <td>apartment</td>\n      <td>Caballito</td>\n      <td>948000.0</td>\n      <td>ARS</td>\n      <td>938110.77</td>\n      <td>53167.32</td>\n      <td>NaN</td>\n      <td>24.0</td>\n      <td>NaN</td>\n      <td>39500.000000</td>\n      <td>1.0</td>\n      <td>1.0</td>\n    </tr>\n    <tr>\n      <th>19481</th>\n      <td>apartment</td>\n      <td>Flores</td>\n      <td>1955000.0</td>\n      <td>ARS</td>\n      <td>1934606.14</td>\n      <td>109643.58</td>\n      <td>48.0</td>\n      <td>45.0</td>\n      <td>2284.241250</td>\n      <td>43444.444444</td>\n      <td>3.0</td>\n      <td>2.0</td>\n    </tr>\n    <tr>\n      <th>55337</th>\n      <td>apartment</td>\n      <td>Palermo</td>\n      <td>1920000.0</td>\n      <td>ARS</td>\n      <td>1899971.22</td>\n      <td>107680.65</td>\n      <td>37.0</td>\n      <td>34.0</td>\n      <td>2910.287838</td>\n      <td>56470.588235</td>\n      <td>NaN</td>\n      <td>1.0</td>\n    </tr>\n  </tbody>\n</table>\n</div>"
     },
     "metadata": {}
    }
   ],
   "source": [
    "# Elimino primero los registros donde no tengo nada de informacion\n",
    "\n",
    "umbral = 10\n",
    "data_caba.dropna(axis = 0, thresh=umbral, inplace=True)\n",
    "\n",
    "# Vuelvo a ver como quedaron los datos\n",
    "mask_price_validation = data_caba.price != data_caba.price_aprox_usd\n",
    "display(data_caba.loc[mask_price_validation, :].shape)\n",
    "display(data_caba.loc[mask_price_validation, :].sample(20))"
   ]
  },
  {
   "cell_type": "code",
   "execution_count": 88,
   "metadata": {},
   "outputs": [
    {
     "output_type": "execute_result",
     "data": {
      "text/plain": [
       "       property_type        place_name     price currency  \\\n",
       "59999      apartment         Balvanera   95000.0      USD   \n",
       "63063      apartment         Caballito  119000.0      USD   \n",
       "29728      apartment      Villa Crespo  140977.0      USD   \n",
       "81639      apartment         Caballito   96000.0      USD   \n",
       "119138            PH  Villa Pueyrredón  112000.0      USD   \n",
       "110894     apartment         San Telmo  139000.0      USD   \n",
       "24900      apartment             Boedo  430000.0      USD   \n",
       "79695      apartment          Saavedra  176000.0      USD   \n",
       "31201      apartment      Villa Crespo  179000.0      USD   \n",
       "119660            PH         Versalles  220000.0      USD   \n",
       "\n",
       "        price_aprox_local_currency  price_aprox_usd  surface_total_in_m2  \\\n",
       "59999                   1676227.50          95000.0                 77.0   \n",
       "63063                   2099695.50         119000.0                 44.0   \n",
       "29728                   2487468.67         140977.0                 45.0   \n",
       "81639                   1693872.00          96000.0                 41.0   \n",
       "119138                  1976184.00         112000.0                112.0   \n",
       "110894                  2452585.50         139000.0                 65.0   \n",
       "24900                   7587135.00         430000.0                 37.0   \n",
       "79695                   3105432.00         176000.0                 67.0   \n",
       "31201                   3158365.50         179000.0                 95.0   \n",
       "119660                  3881790.00         220000.0                 98.0   \n",
       "\n",
       "        surface_covered_in_m2  price_usd_per_m2  price_per_m2  floor  rooms  \n",
       "59999                    77.0       1233.766234   1233.766234    NaN    4.0  \n",
       "63063                    44.0               NaN   2704.545455   11.0    3.0  \n",
       "29728                    39.0       3132.822222   3614.794872    9.0    NaN  \n",
       "81639                    36.0       2341.463415   2666.666667    NaN    NaN  \n",
       "119138                   67.0       1000.000000   1671.641791    NaN    NaN  \n",
       "110894                   65.0               NaN   2138.461538   17.0    3.0  \n",
       "24900                    31.0      11621.621622  13870.967742    NaN    1.0  \n",
       "79695                    56.0       2626.865672   3142.857143    NaN    NaN  \n",
       "31201                    88.0       1884.210526   2034.090909    1.0    4.0  \n",
       "119660                   98.0               NaN   2244.897959    6.0    3.0  "
      ],
      "text/html": "<div>\n<style scoped>\n    .dataframe tbody tr th:only-of-type {\n        vertical-align: middle;\n    }\n\n    .dataframe tbody tr th {\n        vertical-align: top;\n    }\n\n    .dataframe thead th {\n        text-align: right;\n    }\n</style>\n<table border=\"1\" class=\"dataframe\">\n  <thead>\n    <tr style=\"text-align: right;\">\n      <th></th>\n      <th>property_type</th>\n      <th>place_name</th>\n      <th>price</th>\n      <th>currency</th>\n      <th>price_aprox_local_currency</th>\n      <th>price_aprox_usd</th>\n      <th>surface_total_in_m2</th>\n      <th>surface_covered_in_m2</th>\n      <th>price_usd_per_m2</th>\n      <th>price_per_m2</th>\n      <th>floor</th>\n      <th>rooms</th>\n    </tr>\n  </thead>\n  <tbody>\n    <tr>\n      <th>59999</th>\n      <td>apartment</td>\n      <td>Balvanera</td>\n      <td>95000.0</td>\n      <td>USD</td>\n      <td>1676227.50</td>\n      <td>95000.0</td>\n      <td>77.0</td>\n      <td>77.0</td>\n      <td>1233.766234</td>\n      <td>1233.766234</td>\n      <td>NaN</td>\n      <td>4.0</td>\n    </tr>\n    <tr>\n      <th>63063</th>\n      <td>apartment</td>\n      <td>Caballito</td>\n      <td>119000.0</td>\n      <td>USD</td>\n      <td>2099695.50</td>\n      <td>119000.0</td>\n      <td>44.0</td>\n      <td>44.0</td>\n      <td>NaN</td>\n      <td>2704.545455</td>\n      <td>11.0</td>\n      <td>3.0</td>\n    </tr>\n    <tr>\n      <th>29728</th>\n      <td>apartment</td>\n      <td>Villa Crespo</td>\n      <td>140977.0</td>\n      <td>USD</td>\n      <td>2487468.67</td>\n      <td>140977.0</td>\n      <td>45.0</td>\n      <td>39.0</td>\n      <td>3132.822222</td>\n      <td>3614.794872</td>\n      <td>9.0</td>\n      <td>NaN</td>\n    </tr>\n    <tr>\n      <th>81639</th>\n      <td>apartment</td>\n      <td>Caballito</td>\n      <td>96000.0</td>\n      <td>USD</td>\n      <td>1693872.00</td>\n      <td>96000.0</td>\n      <td>41.0</td>\n      <td>36.0</td>\n      <td>2341.463415</td>\n      <td>2666.666667</td>\n      <td>NaN</td>\n      <td>NaN</td>\n    </tr>\n    <tr>\n      <th>119138</th>\n      <td>PH</td>\n      <td>Villa Pueyrredón</td>\n      <td>112000.0</td>\n      <td>USD</td>\n      <td>1976184.00</td>\n      <td>112000.0</td>\n      <td>112.0</td>\n      <td>67.0</td>\n      <td>1000.000000</td>\n      <td>1671.641791</td>\n      <td>NaN</td>\n      <td>NaN</td>\n    </tr>\n    <tr>\n      <th>110894</th>\n      <td>apartment</td>\n      <td>San Telmo</td>\n      <td>139000.0</td>\n      <td>USD</td>\n      <td>2452585.50</td>\n      <td>139000.0</td>\n      <td>65.0</td>\n      <td>65.0</td>\n      <td>NaN</td>\n      <td>2138.461538</td>\n      <td>17.0</td>\n      <td>3.0</td>\n    </tr>\n    <tr>\n      <th>24900</th>\n      <td>apartment</td>\n      <td>Boedo</td>\n      <td>430000.0</td>\n      <td>USD</td>\n      <td>7587135.00</td>\n      <td>430000.0</td>\n      <td>37.0</td>\n      <td>31.0</td>\n      <td>11621.621622</td>\n      <td>13870.967742</td>\n      <td>NaN</td>\n      <td>1.0</td>\n    </tr>\n    <tr>\n      <th>79695</th>\n      <td>apartment</td>\n      <td>Saavedra</td>\n      <td>176000.0</td>\n      <td>USD</td>\n      <td>3105432.00</td>\n      <td>176000.0</td>\n      <td>67.0</td>\n      <td>56.0</td>\n      <td>2626.865672</td>\n      <td>3142.857143</td>\n      <td>NaN</td>\n      <td>NaN</td>\n    </tr>\n    <tr>\n      <th>31201</th>\n      <td>apartment</td>\n      <td>Villa Crespo</td>\n      <td>179000.0</td>\n      <td>USD</td>\n      <td>3158365.50</td>\n      <td>179000.0</td>\n      <td>95.0</td>\n      <td>88.0</td>\n      <td>1884.210526</td>\n      <td>2034.090909</td>\n      <td>1.0</td>\n      <td>4.0</td>\n    </tr>\n    <tr>\n      <th>119660</th>\n      <td>PH</td>\n      <td>Versalles</td>\n      <td>220000.0</td>\n      <td>USD</td>\n      <td>3881790.00</td>\n      <td>220000.0</td>\n      <td>98.0</td>\n      <td>98.0</td>\n      <td>NaN</td>\n      <td>2244.897959</td>\n      <td>6.0</td>\n      <td>3.0</td>\n    </tr>\n  </tbody>\n</table>\n</div>"
     },
     "metadata": {},
     "execution_count": 88
    }
   ],
   "source": [
    "# Para la superficie de metros cuadadros totales, podemos creer que en caso de ser Nan es porque es un departamente y la cantidad de m2 cubierta sería iguala la cantidad de m2 totales.data_caba\n",
    "\n",
    "\n",
    "data_caba.surface_total_in_m2.fillna(data_caba.surface_covered_in_m2, inplace=True)\n",
    "\n",
    "data_caba.sample(10)"
   ]
  },
  {
   "cell_type": "code",
   "execution_count": 89,
   "metadata": {},
   "outputs": [
    {
     "output_type": "execute_result",
     "data": {
      "text/plain": [
       "       property_type        place_name      price currency  \\\n",
       "43963      apartment          Belgrano   179000.0      USD   \n",
       "78388      apartment            Flores    71000.0      USD   \n",
       "88070      apartment      Villa Crespo    79285.0      USD   \n",
       "57429      apartment         Caballito   148000.0      USD   \n",
       "48033      apartment         San Telmo  1202900.0      ARS   \n",
       "110393     apartment           Coghlan    92000.0      USD   \n",
       "81573      apartment         Caballito   102500.0      USD   \n",
       "55751          house  Villa Pueyrredón   130000.0      USD   \n",
       "25588      apartment             Boedo    34200.0      USD   \n",
       "61278      apartment      Barrio Norte   121000.0      USD   \n",
       "\n",
       "        price_aprox_local_currency  price_aprox_usd  surface_total_in_m2  \\\n",
       "43963                   3158365.50        179000.00                 63.0   \n",
       "78388                   1252759.50         71000.00                 45.0   \n",
       "88070                   1398944.18         79285.00                 47.0   \n",
       "57429                   2611386.00        148000.00                 49.0   \n",
       "48033                   1190351.78         67463.05                 35.0   \n",
       "110393                  1623294.00         92000.00                 38.0   \n",
       "81573                   1808561.25        102500.00                 41.0   \n",
       "55751                   2293785.00        130000.00                 72.0   \n",
       "25588                    603441.90         34200.00                 30.0   \n",
       "61278                   2134984.50        121000.00                 56.0   \n",
       "\n",
       "        surface_covered_in_m2  price_usd_per_m2  price_per_m2  floor  rooms  \n",
       "43963                    59.0       2841.269841   3033.898305    NaN    3.0  \n",
       "78388                    40.0       1577.777778   1775.000000    NaN    NaN  \n",
       "88070                    44.0       1686.914894   1801.931818    NaN    NaN  \n",
       "57429                    49.0               NaN   3020.408163    2.0    2.0  \n",
       "48033                    31.0       1927.515714  38803.225806    NaN    1.0  \n",
       "110393                   38.0       2421.052632   2421.052632    1.0    2.0  \n",
       "81573                    38.0       2500.000000   2697.368421    NaN    NaN  \n",
       "55751                    66.0       1805.555556   1969.696970    NaN    NaN  \n",
       "25588                    30.0       1140.000000   1140.000000    NaN    1.0  \n",
       "61278                    56.0       2160.714286   2160.714286    2.0    3.0  "
      ],
      "text/html": "<div>\n<style scoped>\n    .dataframe tbody tr th:only-of-type {\n        vertical-align: middle;\n    }\n\n    .dataframe tbody tr th {\n        vertical-align: top;\n    }\n\n    .dataframe thead th {\n        text-align: right;\n    }\n</style>\n<table border=\"1\" class=\"dataframe\">\n  <thead>\n    <tr style=\"text-align: right;\">\n      <th></th>\n      <th>property_type</th>\n      <th>place_name</th>\n      <th>price</th>\n      <th>currency</th>\n      <th>price_aprox_local_currency</th>\n      <th>price_aprox_usd</th>\n      <th>surface_total_in_m2</th>\n      <th>surface_covered_in_m2</th>\n      <th>price_usd_per_m2</th>\n      <th>price_per_m2</th>\n      <th>floor</th>\n      <th>rooms</th>\n    </tr>\n  </thead>\n  <tbody>\n    <tr>\n      <th>43963</th>\n      <td>apartment</td>\n      <td>Belgrano</td>\n      <td>179000.0</td>\n      <td>USD</td>\n      <td>3158365.50</td>\n      <td>179000.00</td>\n      <td>63.0</td>\n      <td>59.0</td>\n      <td>2841.269841</td>\n      <td>3033.898305</td>\n      <td>NaN</td>\n      <td>3.0</td>\n    </tr>\n    <tr>\n      <th>78388</th>\n      <td>apartment</td>\n      <td>Flores</td>\n      <td>71000.0</td>\n      <td>USD</td>\n      <td>1252759.50</td>\n      <td>71000.00</td>\n      <td>45.0</td>\n      <td>40.0</td>\n      <td>1577.777778</td>\n      <td>1775.000000</td>\n      <td>NaN</td>\n      <td>NaN</td>\n    </tr>\n    <tr>\n      <th>88070</th>\n      <td>apartment</td>\n      <td>Villa Crespo</td>\n      <td>79285.0</td>\n      <td>USD</td>\n      <td>1398944.18</td>\n      <td>79285.00</td>\n      <td>47.0</td>\n      <td>44.0</td>\n      <td>1686.914894</td>\n      <td>1801.931818</td>\n      <td>NaN</td>\n      <td>NaN</td>\n    </tr>\n    <tr>\n      <th>57429</th>\n      <td>apartment</td>\n      <td>Caballito</td>\n      <td>148000.0</td>\n      <td>USD</td>\n      <td>2611386.00</td>\n      <td>148000.00</td>\n      <td>49.0</td>\n      <td>49.0</td>\n      <td>NaN</td>\n      <td>3020.408163</td>\n      <td>2.0</td>\n      <td>2.0</td>\n    </tr>\n    <tr>\n      <th>48033</th>\n      <td>apartment</td>\n      <td>San Telmo</td>\n      <td>1202900.0</td>\n      <td>ARS</td>\n      <td>1190351.78</td>\n      <td>67463.05</td>\n      <td>35.0</td>\n      <td>31.0</td>\n      <td>1927.515714</td>\n      <td>38803.225806</td>\n      <td>NaN</td>\n      <td>1.0</td>\n    </tr>\n    <tr>\n      <th>110393</th>\n      <td>apartment</td>\n      <td>Coghlan</td>\n      <td>92000.0</td>\n      <td>USD</td>\n      <td>1623294.00</td>\n      <td>92000.00</td>\n      <td>38.0</td>\n      <td>38.0</td>\n      <td>2421.052632</td>\n      <td>2421.052632</td>\n      <td>1.0</td>\n      <td>2.0</td>\n    </tr>\n    <tr>\n      <th>81573</th>\n      <td>apartment</td>\n      <td>Caballito</td>\n      <td>102500.0</td>\n      <td>USD</td>\n      <td>1808561.25</td>\n      <td>102500.00</td>\n      <td>41.0</td>\n      <td>38.0</td>\n      <td>2500.000000</td>\n      <td>2697.368421</td>\n      <td>NaN</td>\n      <td>NaN</td>\n    </tr>\n    <tr>\n      <th>55751</th>\n      <td>house</td>\n      <td>Villa Pueyrredón</td>\n      <td>130000.0</td>\n      <td>USD</td>\n      <td>2293785.00</td>\n      <td>130000.00</td>\n      <td>72.0</td>\n      <td>66.0</td>\n      <td>1805.555556</td>\n      <td>1969.696970</td>\n      <td>NaN</td>\n      <td>NaN</td>\n    </tr>\n    <tr>\n      <th>25588</th>\n      <td>apartment</td>\n      <td>Boedo</td>\n      <td>34200.0</td>\n      <td>USD</td>\n      <td>603441.90</td>\n      <td>34200.00</td>\n      <td>30.0</td>\n      <td>30.0</td>\n      <td>1140.000000</td>\n      <td>1140.000000</td>\n      <td>NaN</td>\n      <td>1.0</td>\n    </tr>\n    <tr>\n      <th>61278</th>\n      <td>apartment</td>\n      <td>Barrio Norte</td>\n      <td>121000.0</td>\n      <td>USD</td>\n      <td>2134984.50</td>\n      <td>121000.00</td>\n      <td>56.0</td>\n      <td>56.0</td>\n      <td>2160.714286</td>\n      <td>2160.714286</td>\n      <td>2.0</td>\n      <td>3.0</td>\n    </tr>\n  </tbody>\n</table>\n</div>"
     },
     "metadata": {},
     "execution_count": 89
    }
   ],
   "source": [
    "# Idem al punto anterior pero ahora de surface_total a surface_covered\n",
    "\n",
    "data_caba.surface_covered_in_m2.fillna(data_caba.surface_total_in_m2, inplace=True)\n",
    "\n",
    "data_caba.sample(10)"
   ]
  },
  {
   "cell_type": "code",
   "execution_count": 90,
   "metadata": {},
   "outputs": [
    {
     "output_type": "execute_result",
     "data": {
      "text/plain": [
       "       property_type     place_name      price currency  \\\n",
       "9418       apartment      San Telmo    87000.0      USD   \n",
       "77996      apartment     Villa Luro   175000.0      USD   \n",
       "6254       apartment        Coghlan   124000.0      USD   \n",
       "118600     apartment        Palermo  1100000.0      USD   \n",
       "4321       apartment      Balvanera   145000.0      USD   \n",
       "75717      apartment       Belgrano   164500.0      USD   \n",
       "62560      apartment  Villa Urquiza   235000.0      USD   \n",
       "88930      apartment        Almagro    71810.0      USD   \n",
       "14861             PH      San Telmo   135000.0      USD   \n",
       "79813      apartment  San Cristobal    72000.0      USD   \n",
       "\n",
       "        price_aprox_local_currency  price_aprox_usd  surface_total_in_m2  \\\n",
       "9418                    1535071.50          87000.0                 39.0   \n",
       "77996                   3087787.50         175000.0                 61.0   \n",
       "6254                    2187918.00         124000.0                 55.0   \n",
       "118600                 19408950.00        1100000.0                225.0   \n",
       "4321                    2558452.50         145000.0                175.0   \n",
       "75717                   2902520.25         164500.0                 70.0   \n",
       "62560                   4146457.50         235000.0                 87.0   \n",
       "88930                   1267051.54          71810.0                 34.0   \n",
       "14861                   2382007.50         135000.0                 89.0   \n",
       "79813                   1270404.00          72000.0                 40.0   \n",
       "\n",
       "        surface_covered_in_m2  price_usd_per_m2  price_per_m2  floor  rooms  \n",
       "9418                     39.0       2230.769231   2230.769231    NaN    1.0  \n",
       "77996                    53.0       2868.852459   3301.886792    NaN    NaN  \n",
       "6254                     50.0       2254.545455   2480.000000    3.0    NaN  \n",
       "118600                  215.0       4888.888889   5116.279070    NaN    NaN  \n",
       "4321                    153.0        828.571429    947.712418    NaN    NaN  \n",
       "75717                    66.0       2350.000000   2492.424242    NaN    NaN  \n",
       "62560                    87.0       2701.149425   2701.149425  505.0    2.0  \n",
       "88930                    33.0       2112.058824   2176.060606    NaN    NaN  \n",
       "14861                    75.0       1516.853933   1800.000000    NaN    3.0  \n",
       "79813                    37.0       1800.000000   1945.945946    NaN    NaN  "
      ],
      "text/html": "<div>\n<style scoped>\n    .dataframe tbody tr th:only-of-type {\n        vertical-align: middle;\n    }\n\n    .dataframe tbody tr th {\n        vertical-align: top;\n    }\n\n    .dataframe thead th {\n        text-align: right;\n    }\n</style>\n<table border=\"1\" class=\"dataframe\">\n  <thead>\n    <tr style=\"text-align: right;\">\n      <th></th>\n      <th>property_type</th>\n      <th>place_name</th>\n      <th>price</th>\n      <th>currency</th>\n      <th>price_aprox_local_currency</th>\n      <th>price_aprox_usd</th>\n      <th>surface_total_in_m2</th>\n      <th>surface_covered_in_m2</th>\n      <th>price_usd_per_m2</th>\n      <th>price_per_m2</th>\n      <th>floor</th>\n      <th>rooms</th>\n    </tr>\n  </thead>\n  <tbody>\n    <tr>\n      <th>9418</th>\n      <td>apartment</td>\n      <td>San Telmo</td>\n      <td>87000.0</td>\n      <td>USD</td>\n      <td>1535071.50</td>\n      <td>87000.0</td>\n      <td>39.0</td>\n      <td>39.0</td>\n      <td>2230.769231</td>\n      <td>2230.769231</td>\n      <td>NaN</td>\n      <td>1.0</td>\n    </tr>\n    <tr>\n      <th>77996</th>\n      <td>apartment</td>\n      <td>Villa Luro</td>\n      <td>175000.0</td>\n      <td>USD</td>\n      <td>3087787.50</td>\n      <td>175000.0</td>\n      <td>61.0</td>\n      <td>53.0</td>\n      <td>2868.852459</td>\n      <td>3301.886792</td>\n      <td>NaN</td>\n      <td>NaN</td>\n    </tr>\n    <tr>\n      <th>6254</th>\n      <td>apartment</td>\n      <td>Coghlan</td>\n      <td>124000.0</td>\n      <td>USD</td>\n      <td>2187918.00</td>\n      <td>124000.0</td>\n      <td>55.0</td>\n      <td>50.0</td>\n      <td>2254.545455</td>\n      <td>2480.000000</td>\n      <td>3.0</td>\n      <td>NaN</td>\n    </tr>\n    <tr>\n      <th>118600</th>\n      <td>apartment</td>\n      <td>Palermo</td>\n      <td>1100000.0</td>\n      <td>USD</td>\n      <td>19408950.00</td>\n      <td>1100000.0</td>\n      <td>225.0</td>\n      <td>215.0</td>\n      <td>4888.888889</td>\n      <td>5116.279070</td>\n      <td>NaN</td>\n      <td>NaN</td>\n    </tr>\n    <tr>\n      <th>4321</th>\n      <td>apartment</td>\n      <td>Balvanera</td>\n      <td>145000.0</td>\n      <td>USD</td>\n      <td>2558452.50</td>\n      <td>145000.0</td>\n      <td>175.0</td>\n      <td>153.0</td>\n      <td>828.571429</td>\n      <td>947.712418</td>\n      <td>NaN</td>\n      <td>NaN</td>\n    </tr>\n    <tr>\n      <th>75717</th>\n      <td>apartment</td>\n      <td>Belgrano</td>\n      <td>164500.0</td>\n      <td>USD</td>\n      <td>2902520.25</td>\n      <td>164500.0</td>\n      <td>70.0</td>\n      <td>66.0</td>\n      <td>2350.000000</td>\n      <td>2492.424242</td>\n      <td>NaN</td>\n      <td>NaN</td>\n    </tr>\n    <tr>\n      <th>62560</th>\n      <td>apartment</td>\n      <td>Villa Urquiza</td>\n      <td>235000.0</td>\n      <td>USD</td>\n      <td>4146457.50</td>\n      <td>235000.0</td>\n      <td>87.0</td>\n      <td>87.0</td>\n      <td>2701.149425</td>\n      <td>2701.149425</td>\n      <td>505.0</td>\n      <td>2.0</td>\n    </tr>\n    <tr>\n      <th>88930</th>\n      <td>apartment</td>\n      <td>Almagro</td>\n      <td>71810.0</td>\n      <td>USD</td>\n      <td>1267051.54</td>\n      <td>71810.0</td>\n      <td>34.0</td>\n      <td>33.0</td>\n      <td>2112.058824</td>\n      <td>2176.060606</td>\n      <td>NaN</td>\n      <td>NaN</td>\n    </tr>\n    <tr>\n      <th>14861</th>\n      <td>PH</td>\n      <td>San Telmo</td>\n      <td>135000.0</td>\n      <td>USD</td>\n      <td>2382007.50</td>\n      <td>135000.0</td>\n      <td>89.0</td>\n      <td>75.0</td>\n      <td>1516.853933</td>\n      <td>1800.000000</td>\n      <td>NaN</td>\n      <td>3.0</td>\n    </tr>\n    <tr>\n      <th>79813</th>\n      <td>apartment</td>\n      <td>San Cristobal</td>\n      <td>72000.0</td>\n      <td>USD</td>\n      <td>1270404.00</td>\n      <td>72000.0</td>\n      <td>40.0</td>\n      <td>37.0</td>\n      <td>1800.000000</td>\n      <td>1945.945946</td>\n      <td>NaN</td>\n      <td>NaN</td>\n    </tr>\n  </tbody>\n</table>\n</div>"
     },
     "metadata": {},
     "execution_count": 90
    }
   ],
   "source": [
    "# Idem al punto anterior pero ahora de surface_total a surface_covered\n",
    "\n",
    "data_caba.price_usd_per_m2.fillna(data_caba.price_aprox_usd / data_caba.surface_total_in_m2, inplace=True)\n",
    "\n",
    "data_caba.sample(10)"
   ]
  },
  {
   "cell_type": "code",
   "execution_count": 91,
   "metadata": {},
   "outputs": [
    {
     "output_type": "display_data",
     "data": {
      "text/plain": "2816"
     },
     "metadata": {}
    }
   ],
   "source": [
    "display(data_caba.floor.count())\n",
    "\n",
    "# El piso del departamente es un dato muy incompleto por lo que se dropea\n",
    "\n",
    "# Dropeamos la columna creada anteriormente.\n",
    "data_caba.drop(columns=['floor'], inplace=True)\n",
    "\n",
    "# En el caso de Rooms lo reemplazamos por 0\n",
    "data_caba.rooms.fillna(0, inplace=True)"
   ]
  },
  {
   "cell_type": "code",
   "execution_count": 92,
   "metadata": {},
   "outputs": [
    {
     "output_type": "display_data",
     "data": {
      "text/plain": "23075"
     },
     "metadata": {}
    }
   ],
   "source": [
    "display(data_caba.rooms.count())\n",
    "\n",
    "# En el caso de rooms, podemos tomar que el dato para los NaN es 0?? modifica esto el analisis para predecir? "
   ]
  },
  {
   "cell_type": "code",
   "execution_count": 93,
   "metadata": {},
   "outputs": [
    {
     "output_type": "execute_result",
     "data": {
      "text/plain": [
       "       property_type     place_name  price_aprox_local_currency  \\\n",
       "110779            PH         Flores                  2681964.00   \n",
       "94180      apartment       Recoleta                  5820920.55   \n",
       "36242      apartment          Nuñez                  9351585.00   \n",
       "637        apartment      San Telmo                  1658583.00   \n",
       "119421     apartment        Coghlan                  1711516.50   \n",
       "24408      apartment   Villa Crespo                  3264232.50   \n",
       "43967      apartment         Abasto                  1755627.75   \n",
       "52645      apartment       Floresta                  1676227.50   \n",
       "55099      apartment  Palermo Chico                  1455671.25   \n",
       "77325      apartment   Villa Crespo                  1411560.00   \n",
       "72272      apartment     Colegiales                  1596827.25   \n",
       "71236      apartment        Palermo                  4322902.50   \n",
       "91723      apartment         Flores                  2787831.00   \n",
       "11276      apartment      Caballito                  3264232.50   \n",
       "55226             PH        Almagro                  2611386.00   \n",
       "88357      apartment        Palermo                  4234680.00   \n",
       "119359     apartment      Caballito                  3087787.50   \n",
       "110671            PH      Chacarita                  3087787.50   \n",
       "93785      apartment       Recoleta                  2117340.00   \n",
       "76574      apartment       Belgrano                  2320834.01   \n",
       "\n",
       "        price_aprox_usd  surface_total_in_m2  surface_covered_in_m2  \\\n",
       "110779         152000.0                152.0                   81.0   \n",
       "94180          329900.0                 95.0                   88.0   \n",
       "36242          530000.0                150.0                  150.0   \n",
       "637             94000.0                 55.0                   55.0   \n",
       "119421          97000.0                 35.0                   30.0   \n",
       "24408          185000.0                 73.0                   65.0   \n",
       "43967           99500.0                 46.0                   46.0   \n",
       "52645           95000.0                 56.0                   56.0   \n",
       "55099           82500.0                 25.0                   25.0   \n",
       "77325           80000.0                 32.0                   28.0   \n",
       "72272           90500.0                 43.0                   38.0   \n",
       "71236          245000.0                 75.0                   50.0   \n",
       "91723          158000.0                 67.0                   55.0   \n",
       "11276          185000.0                 85.0                   80.0   \n",
       "55226          148000.0                 58.0                   58.0   \n",
       "88357          240000.0                 62.0                   53.0   \n",
       "119359         175000.0                 62.0                   62.0   \n",
       "110671         175000.0                 72.0                   72.0   \n",
       "93785          120000.0                 40.0                   38.0   \n",
       "76574          131533.0                 52.0                   44.0   \n",
       "\n",
       "        price_usd_per_m2  rooms  \n",
       "110779       1000.000000    0.0  \n",
       "94180        3472.631579    0.0  \n",
       "36242        3533.333333    4.0  \n",
       "637          1709.090909    3.0  \n",
       "119421       2771.428571    1.0  \n",
       "24408        2534.246575    3.0  \n",
       "43967        2163.043478    1.0  \n",
       "52645        1696.428571    3.0  \n",
       "55099        3300.000000    1.0  \n",
       "77325        2500.000000    0.0  \n",
       "72272        2104.651163    0.0  \n",
       "71236        3266.666667    0.0  \n",
       "91723        2358.208955    0.0  \n",
       "11276        2176.470588    3.0  \n",
       "55226        2551.724138    3.0  \n",
       "88357        3870.967742    0.0  \n",
       "119359       2822.580645    2.0  \n",
       "110671       2430.555556    4.0  \n",
       "93785        3000.000000    0.0  \n",
       "76574        2529.480769    0.0  "
      ],
      "text/html": "<div>\n<style scoped>\n    .dataframe tbody tr th:only-of-type {\n        vertical-align: middle;\n    }\n\n    .dataframe tbody tr th {\n        vertical-align: top;\n    }\n\n    .dataframe thead th {\n        text-align: right;\n    }\n</style>\n<table border=\"1\" class=\"dataframe\">\n  <thead>\n    <tr style=\"text-align: right;\">\n      <th></th>\n      <th>property_type</th>\n      <th>place_name</th>\n      <th>price_aprox_local_currency</th>\n      <th>price_aprox_usd</th>\n      <th>surface_total_in_m2</th>\n      <th>surface_covered_in_m2</th>\n      <th>price_usd_per_m2</th>\n      <th>rooms</th>\n    </tr>\n  </thead>\n  <tbody>\n    <tr>\n      <th>110779</th>\n      <td>PH</td>\n      <td>Flores</td>\n      <td>2681964.00</td>\n      <td>152000.0</td>\n      <td>152.0</td>\n      <td>81.0</td>\n      <td>1000.000000</td>\n      <td>0.0</td>\n    </tr>\n    <tr>\n      <th>94180</th>\n      <td>apartment</td>\n      <td>Recoleta</td>\n      <td>5820920.55</td>\n      <td>329900.0</td>\n      <td>95.0</td>\n      <td>88.0</td>\n      <td>3472.631579</td>\n      <td>0.0</td>\n    </tr>\n    <tr>\n      <th>36242</th>\n      <td>apartment</td>\n      <td>Nuñez</td>\n      <td>9351585.00</td>\n      <td>530000.0</td>\n      <td>150.0</td>\n      <td>150.0</td>\n      <td>3533.333333</td>\n      <td>4.0</td>\n    </tr>\n    <tr>\n      <th>637</th>\n      <td>apartment</td>\n      <td>San Telmo</td>\n      <td>1658583.00</td>\n      <td>94000.0</td>\n      <td>55.0</td>\n      <td>55.0</td>\n      <td>1709.090909</td>\n      <td>3.0</td>\n    </tr>\n    <tr>\n      <th>119421</th>\n      <td>apartment</td>\n      <td>Coghlan</td>\n      <td>1711516.50</td>\n      <td>97000.0</td>\n      <td>35.0</td>\n      <td>30.0</td>\n      <td>2771.428571</td>\n      <td>1.0</td>\n    </tr>\n    <tr>\n      <th>24408</th>\n      <td>apartment</td>\n      <td>Villa Crespo</td>\n      <td>3264232.50</td>\n      <td>185000.0</td>\n      <td>73.0</td>\n      <td>65.0</td>\n      <td>2534.246575</td>\n      <td>3.0</td>\n    </tr>\n    <tr>\n      <th>43967</th>\n      <td>apartment</td>\n      <td>Abasto</td>\n      <td>1755627.75</td>\n      <td>99500.0</td>\n      <td>46.0</td>\n      <td>46.0</td>\n      <td>2163.043478</td>\n      <td>1.0</td>\n    </tr>\n    <tr>\n      <th>52645</th>\n      <td>apartment</td>\n      <td>Floresta</td>\n      <td>1676227.50</td>\n      <td>95000.0</td>\n      <td>56.0</td>\n      <td>56.0</td>\n      <td>1696.428571</td>\n      <td>3.0</td>\n    </tr>\n    <tr>\n      <th>55099</th>\n      <td>apartment</td>\n      <td>Palermo Chico</td>\n      <td>1455671.25</td>\n      <td>82500.0</td>\n      <td>25.0</td>\n      <td>25.0</td>\n      <td>3300.000000</td>\n      <td>1.0</td>\n    </tr>\n    <tr>\n      <th>77325</th>\n      <td>apartment</td>\n      <td>Villa Crespo</td>\n      <td>1411560.00</td>\n      <td>80000.0</td>\n      <td>32.0</td>\n      <td>28.0</td>\n      <td>2500.000000</td>\n      <td>0.0</td>\n    </tr>\n    <tr>\n      <th>72272</th>\n      <td>apartment</td>\n      <td>Colegiales</td>\n      <td>1596827.25</td>\n      <td>90500.0</td>\n      <td>43.0</td>\n      <td>38.0</td>\n      <td>2104.651163</td>\n      <td>0.0</td>\n    </tr>\n    <tr>\n      <th>71236</th>\n      <td>apartment</td>\n      <td>Palermo</td>\n      <td>4322902.50</td>\n      <td>245000.0</td>\n      <td>75.0</td>\n      <td>50.0</td>\n      <td>3266.666667</td>\n      <td>0.0</td>\n    </tr>\n    <tr>\n      <th>91723</th>\n      <td>apartment</td>\n      <td>Flores</td>\n      <td>2787831.00</td>\n      <td>158000.0</td>\n      <td>67.0</td>\n      <td>55.0</td>\n      <td>2358.208955</td>\n      <td>0.0</td>\n    </tr>\n    <tr>\n      <th>11276</th>\n      <td>apartment</td>\n      <td>Caballito</td>\n      <td>3264232.50</td>\n      <td>185000.0</td>\n      <td>85.0</td>\n      <td>80.0</td>\n      <td>2176.470588</td>\n      <td>3.0</td>\n    </tr>\n    <tr>\n      <th>55226</th>\n      <td>PH</td>\n      <td>Almagro</td>\n      <td>2611386.00</td>\n      <td>148000.0</td>\n      <td>58.0</td>\n      <td>58.0</td>\n      <td>2551.724138</td>\n      <td>3.0</td>\n    </tr>\n    <tr>\n      <th>88357</th>\n      <td>apartment</td>\n      <td>Palermo</td>\n      <td>4234680.00</td>\n      <td>240000.0</td>\n      <td>62.0</td>\n      <td>53.0</td>\n      <td>3870.967742</td>\n      <td>0.0</td>\n    </tr>\n    <tr>\n      <th>119359</th>\n      <td>apartment</td>\n      <td>Caballito</td>\n      <td>3087787.50</td>\n      <td>175000.0</td>\n      <td>62.0</td>\n      <td>62.0</td>\n      <td>2822.580645</td>\n      <td>2.0</td>\n    </tr>\n    <tr>\n      <th>110671</th>\n      <td>PH</td>\n      <td>Chacarita</td>\n      <td>3087787.50</td>\n      <td>175000.0</td>\n      <td>72.0</td>\n      <td>72.0</td>\n      <td>2430.555556</td>\n      <td>4.0</td>\n    </tr>\n    <tr>\n      <th>93785</th>\n      <td>apartment</td>\n      <td>Recoleta</td>\n      <td>2117340.00</td>\n      <td>120000.0</td>\n      <td>40.0</td>\n      <td>38.0</td>\n      <td>3000.000000</td>\n      <td>0.0</td>\n    </tr>\n    <tr>\n      <th>76574</th>\n      <td>apartment</td>\n      <td>Belgrano</td>\n      <td>2320834.01</td>\n      <td>131533.0</td>\n      <td>52.0</td>\n      <td>44.0</td>\n      <td>2529.480769</td>\n      <td>0.0</td>\n    </tr>\n  </tbody>\n</table>\n</div>"
     },
     "metadata": {},
     "execution_count": 93
    }
   ],
   "source": [
    "# Dropeamos los valores que sabemos que está repetidos o con otra moneda.data_caba\n",
    "\n",
    "data_caba.drop(columns=['price', 'currency','price_per_m2'], inplace=True)\n",
    "\n",
    "data_caba.sample(20)"
   ]
  },
  {
   "cell_type": "code",
   "execution_count": 94,
   "metadata": {},
   "outputs": [
    {
     "output_type": "stream",
     "name": "stdout",
     "text": [
      "\nPorcentaje de valores incompletos por columna:\nproperty_type                 0.0\nplace_name                    0.0\nprice_aprox_local_currency    0.0\nprice_aprox_usd               0.0\nsurface_total_in_m2           0.0\nsurface_covered_in_m2         0.0\nprice_usd_per_m2              0.0\nrooms                         0.0\ndtype: float64\n"
     ]
    }
   ],
   "source": [
    "print('\\nPorcentaje de valores incompletos por columna:')\n",
    "print(f'{round(100 * data_caba.isnull().sum()/data_caba.shape[0], 2)}')"
   ]
  },
  {
   "source": [
    "### Falta reindexar las filas.\n",
    "\n",
    "Dummies de property_type y place_name, no se si conviene realizar el trabajo de la extracción de rooms, hay que evaluar el esfuerzo.\n",
    "\n"
   ],
   "cell_type": "markdown",
   "metadata": {}
  }
 ]
}
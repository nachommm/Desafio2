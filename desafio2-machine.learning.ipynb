{
 "metadata": {
  "language_info": {
   "codemirror_mode": {
    "name": "ipython",
    "version": 3
   },
   "file_extension": ".py",
   "mimetype": "text/x-python",
   "name": "python",
   "nbconvert_exporter": "python",
   "pygments_lexer": "ipython3",
   "version": "3.8.3-final"
  },
  "orig_nbformat": 2,
  "kernelspec": {
   "name": "python3",
   "display_name": "Python 3",
   "language": "python"
  }
 },
 "nbformat": 4,
 "nbformat_minor": 2,
 "cells": [
  {
   "source": [
    "<h2>Desarrollo del Desafio 2 - Machine Learning\n"
   ],
   "cell_type": "markdown",
   "metadata": {}
  },
  {
   "source": [
    "<h3>Grupo 7\n",
    "\n",
    "<li>Laura Jazmín Chao\n",
    "<li>Juan Nicolás Capistrano\n",
    "<li>Betiana Srur\n",
    "<li>Ignacio Mendieta\n",
    "<li>Marecelo Carrizo"
   ],
   "cell_type": "markdown",
   "metadata": {}
  },
  {
   "source": [
    "**Desafio 2** : Aplicar las tecnicas de Machine Learning para calcular el precio por metro cuadrado de las propiedades."
   ],
   "cell_type": "markdown",
   "metadata": {}
  },
  {
   "cell_type": "code",
   "execution_count": 100,
   "metadata": {},
   "outputs": [],
   "source": [
    "import numpy as np\n",
    "import pandas as pd\n",
    "\n",
    "# Libreria Grafica.\n",
    "%matplotlib inline\n",
    "import seaborn as sns\n",
    "from matplotlib import pyplot as plt\n",
    "\n",
    "# Libreria para analisis ML\n",
    "from sklearn import datasets, linear_model"
   ]
  },
  {
   "cell_type": "code",
   "execution_count": 101,
   "metadata": {},
   "outputs": [
    {
     "output_type": "execute_result",
     "data": {
      "text/plain": [
       "        Unnamed: 0 operation property_type       place_name  \\\n",
       "54381        54381      sell         house  Acacias Blancas   \n",
       "45979        45979      sell     apartment            Boedo   \n",
       "113214      113214      sell         house         Banfield   \n",
       "37995        37995      sell         house         Castelar   \n",
       "85147        85147      sell     apartment          Córdoba   \n",
       "\n",
       "                                  place_with_parent_names country_name  \\\n",
       "54381   |Argentina|Bs.As. G.B.A. Zona Norte|Escobar|Ac...    Argentina   \n",
       "45979                   |Argentina|Capital Federal|Boedo|    Argentina   \n",
       "113214  |Argentina|Bs.As. G.B.A. Zona Sur|Lomas de Zam...    Argentina   \n",
       "37995   |Argentina|Bs.As. G.B.A. Zona Oeste|Morón|Cast...    Argentina   \n",
       "85147                                 |Argentina|Córdoba|    Argentina   \n",
       "\n",
       "                      state_name  geonames_id                  lat-lon  \\\n",
       "54381   Bs.As. G.B.A. Zona Norte          NaN                      NaN   \n",
       "45979            Capital Federal    3436003.0  -34.6223745,-58.4091176   \n",
       "113214    Bs.As. G.B.A. Zona Sur    3436152.0   -34.7438273,-58.406684   \n",
       "37995   Bs.As. G.B.A. Zona Oeste    3435607.0  -34.7030503,-58.5887569   \n",
       "85147                    Córdoba    3860255.0                      NaN   \n",
       "\n",
       "              lat  ...  surface_covered_in_m2  price_usd_per_m2  price_per_m2  \\\n",
       "54381         NaN  ...                  340.0       1323.529412   1323.529412   \n",
       "45979  -34.622374  ...                   40.0       2395.348837   2575.000000   \n",
       "113214 -34.743827  ...                  272.0       1158.940397   1286.764706   \n",
       "37995  -34.703050  ...                  260.0       1166.666667   1346.153846   \n",
       "85147         NaN  ...                   73.0               NaN  34356.164384   \n",
       "\n",
       "        floor  rooms  expenses  \\\n",
       "54381     NaN    NaN       NaN   \n",
       "45979     NaN    2.0       NaN   \n",
       "113214    NaN    7.0       NaN   \n",
       "37995     NaN    NaN       NaN   \n",
       "85147     NaN    NaN       NaN   \n",
       "\n",
       "                                            properati_url  \\\n",
       "54381   http://www.properati.com.ar/19mwx_venta_casa_a...   \n",
       "45979   http://www.properati.com.ar/1959k_venta_depart...   \n",
       "113214  http://www.properati.com.ar/1c81r_venta_casa_b...   \n",
       "37995   http://www.properati.com.ar/18kae_venta_casa_c...   \n",
       "85147   http://www.properati.com.ar/1b2nj_venta_depart...   \n",
       "\n",
       "                                              description  \\\n",
       "54381   Amplia casa en doble lotes internos - Escobar ...   \n",
       "45979   Departamento 2 ambientes seminuevo al contrafr...   \n",
       "113214  Venta de Casa 7 AMBIENTES O MAS en Banfield, L...   \n",
       "37995   CODIGO:  ubicado en: Islas Malvinas 3100 -  Pu...   \n",
       "85147   Departamento con Cloaca, Argentina, Córdoba, p...   \n",
       "\n",
       "                                                    title  \\\n",
       "54381   Bustamante Propiedades | Acacias Blancas en Venta   \n",
       "45979      2amb Ctfte 43mts 7aos Categ San Juan y Urquiza   \n",
       "113214                                      CASA EN VENTA   \n",
       "37995                 Chalet de categoria, Castelar Norte   \n",
       "85147                        Departamento - Nueva Cordoba   \n",
       "\n",
       "                                          image_thumbnail  \n",
       "54381   https://thumbs4.properati.com/1/13Iqn9orBO8eDm...  \n",
       "45979   https://thumbs4.properati.com/5/0XlEnYNO6DqrQO...  \n",
       "113214  https://thumbs4.properati.com/8/yz7cpDo_97wis7...  \n",
       "37995   https://thumbs4.properati.com/8/tZOaMwBEr9D74_...  \n",
       "85147   https://thumbs4.properati.com/5/46by_tDFqA4Ym5...  \n",
       "\n",
       "[5 rows x 26 columns]"
      ],
      "text/html": "<div>\n<style scoped>\n    .dataframe tbody tr th:only-of-type {\n        vertical-align: middle;\n    }\n\n    .dataframe tbody tr th {\n        vertical-align: top;\n    }\n\n    .dataframe thead th {\n        text-align: right;\n    }\n</style>\n<table border=\"1\" class=\"dataframe\">\n  <thead>\n    <tr style=\"text-align: right;\">\n      <th></th>\n      <th>Unnamed: 0</th>\n      <th>operation</th>\n      <th>property_type</th>\n      <th>place_name</th>\n      <th>place_with_parent_names</th>\n      <th>country_name</th>\n      <th>state_name</th>\n      <th>geonames_id</th>\n      <th>lat-lon</th>\n      <th>lat</th>\n      <th>...</th>\n      <th>surface_covered_in_m2</th>\n      <th>price_usd_per_m2</th>\n      <th>price_per_m2</th>\n      <th>floor</th>\n      <th>rooms</th>\n      <th>expenses</th>\n      <th>properati_url</th>\n      <th>description</th>\n      <th>title</th>\n      <th>image_thumbnail</th>\n    </tr>\n  </thead>\n  <tbody>\n    <tr>\n      <th>54381</th>\n      <td>54381</td>\n      <td>sell</td>\n      <td>house</td>\n      <td>Acacias Blancas</td>\n      <td>|Argentina|Bs.As. G.B.A. Zona Norte|Escobar|Ac...</td>\n      <td>Argentina</td>\n      <td>Bs.As. G.B.A. Zona Norte</td>\n      <td>NaN</td>\n      <td>NaN</td>\n      <td>NaN</td>\n      <td>...</td>\n      <td>340.0</td>\n      <td>1323.529412</td>\n      <td>1323.529412</td>\n      <td>NaN</td>\n      <td>NaN</td>\n      <td>NaN</td>\n      <td>http://www.properati.com.ar/19mwx_venta_casa_a...</td>\n      <td>Amplia casa en doble lotes internos - Escobar ...</td>\n      <td>Bustamante Propiedades | Acacias Blancas en Venta</td>\n      <td>https://thumbs4.properati.com/1/13Iqn9orBO8eDm...</td>\n    </tr>\n    <tr>\n      <th>45979</th>\n      <td>45979</td>\n      <td>sell</td>\n      <td>apartment</td>\n      <td>Boedo</td>\n      <td>|Argentina|Capital Federal|Boedo|</td>\n      <td>Argentina</td>\n      <td>Capital Federal</td>\n      <td>3436003.0</td>\n      <td>-34.6223745,-58.4091176</td>\n      <td>-34.622374</td>\n      <td>...</td>\n      <td>40.0</td>\n      <td>2395.348837</td>\n      <td>2575.000000</td>\n      <td>NaN</td>\n      <td>2.0</td>\n      <td>NaN</td>\n      <td>http://www.properati.com.ar/1959k_venta_depart...</td>\n      <td>Departamento 2 ambientes seminuevo al contrafr...</td>\n      <td>2amb Ctfte 43mts 7aos Categ San Juan y Urquiza</td>\n      <td>https://thumbs4.properati.com/5/0XlEnYNO6DqrQO...</td>\n    </tr>\n    <tr>\n      <th>113214</th>\n      <td>113214</td>\n      <td>sell</td>\n      <td>house</td>\n      <td>Banfield</td>\n      <td>|Argentina|Bs.As. G.B.A. Zona Sur|Lomas de Zam...</td>\n      <td>Argentina</td>\n      <td>Bs.As. G.B.A. Zona Sur</td>\n      <td>3436152.0</td>\n      <td>-34.7438273,-58.406684</td>\n      <td>-34.743827</td>\n      <td>...</td>\n      <td>272.0</td>\n      <td>1158.940397</td>\n      <td>1286.764706</td>\n      <td>NaN</td>\n      <td>7.0</td>\n      <td>NaN</td>\n      <td>http://www.properati.com.ar/1c81r_venta_casa_b...</td>\n      <td>Venta de Casa 7 AMBIENTES O MAS en Banfield, L...</td>\n      <td>CASA EN VENTA</td>\n      <td>https://thumbs4.properati.com/8/yz7cpDo_97wis7...</td>\n    </tr>\n    <tr>\n      <th>37995</th>\n      <td>37995</td>\n      <td>sell</td>\n      <td>house</td>\n      <td>Castelar</td>\n      <td>|Argentina|Bs.As. G.B.A. Zona Oeste|Morón|Cast...</td>\n      <td>Argentina</td>\n      <td>Bs.As. G.B.A. Zona Oeste</td>\n      <td>3435607.0</td>\n      <td>-34.7030503,-58.5887569</td>\n      <td>-34.703050</td>\n      <td>...</td>\n      <td>260.0</td>\n      <td>1166.666667</td>\n      <td>1346.153846</td>\n      <td>NaN</td>\n      <td>NaN</td>\n      <td>NaN</td>\n      <td>http://www.properati.com.ar/18kae_venta_casa_c...</td>\n      <td>CODIGO:  ubicado en: Islas Malvinas 3100 -  Pu...</td>\n      <td>Chalet de categoria, Castelar Norte</td>\n      <td>https://thumbs4.properati.com/8/tZOaMwBEr9D74_...</td>\n    </tr>\n    <tr>\n      <th>85147</th>\n      <td>85147</td>\n      <td>sell</td>\n      <td>apartment</td>\n      <td>Córdoba</td>\n      <td>|Argentina|Córdoba|</td>\n      <td>Argentina</td>\n      <td>Córdoba</td>\n      <td>3860255.0</td>\n      <td>NaN</td>\n      <td>NaN</td>\n      <td>...</td>\n      <td>73.0</td>\n      <td>NaN</td>\n      <td>34356.164384</td>\n      <td>NaN</td>\n      <td>NaN</td>\n      <td>NaN</td>\n      <td>http://www.properati.com.ar/1b2nj_venta_depart...</td>\n      <td>Departamento con Cloaca, Argentina, Córdoba, p...</td>\n      <td>Departamento - Nueva Cordoba</td>\n      <td>https://thumbs4.properati.com/5/46by_tDFqA4Ym5...</td>\n    </tr>\n  </tbody>\n</table>\n<p>5 rows × 26 columns</p>\n</div>"
     },
     "metadata": {},
     "execution_count": 101
    }
   ],
   "source": [
    "# Definimos la ruta de la información.\n",
    "data_propiedades = \"Data/properati.csv\"\n",
    "\n",
    "# Leemos los datos del archivo\n",
    "data = pd.read_csv(data_propiedades, sep=\",\", encoding=\"UTF-8\")\n",
    "\n",
    "# Chequeamos que los datos se hayan importado correctamente\n",
    "data.sample(5)"
   ]
  },
  {
   "cell_type": "code",
   "execution_count": 102,
   "metadata": {},
   "outputs": [
    {
     "output_type": "execute_result",
     "data": {
      "text/plain": [
       "(121220, 26)"
      ]
     },
     "metadata": {},
     "execution_count": 102
    }
   ],
   "source": [
    "# Chequeamos cantidad de registros y cantidad de columnas\n",
    "data.shape"
   ]
  },
  {
   "source": [
    "<h2>Limpieza de Datos."
   ],
   "cell_type": "markdown",
   "metadata": {}
  },
  {
   "cell_type": "code",
   "execution_count": 103,
   "metadata": {},
   "outputs": [
    {
     "output_type": "execute_result",
     "data": {
      "text/plain": [
       "        Unnamed: 0 operation property_type       place_name  \\\n",
       "50387        50387      sell     apartment  Capital Federal   \n",
       "50388        50388      sell     apartment  Capital Federal   \n",
       "107390      107390      sell         house        San Roque   \n",
       "\n",
       "              place_with_parent_names country_name       state_name  \\\n",
       "50387     |Argentina|Capital Federal|    Argentina  Capital Federal   \n",
       "50388     |Argentina|Capital Federal|    Argentina  Capital Federal   \n",
       "107390  |Argentina|Mendoza|San Roque|    Argentina          Mendoza   \n",
       "\n",
       "        geonames_id lat-lon  lat  ...  surface_covered_in_m2  \\\n",
       "50387     3433955.0     NaN  NaN  ...                    NaN   \n",
       "50388     3433955.0     NaN  NaN  ...                    NaN   \n",
       "107390    3836586.0     NaN  NaN  ...                    NaN   \n",
       "\n",
       "        price_usd_per_m2 price_per_m2  floor  rooms  expenses  \\\n",
       "50387                NaN          NaN    NaN    NaN       NaN   \n",
       "50388                NaN          NaN    NaN    NaN       NaN   \n",
       "107390               NaN          NaN    NaN    NaN       NaN   \n",
       "\n",
       "                                            properati_url  \\\n",
       "50387   http://www.properati.com.ar/19e8z_venta_depart...   \n",
       "50388   http://www.properati.com.ar/19e90_venta_depart...   \n",
       "107390  http://www.properati.com.ar/1by0s_venta_casa_s...   \n",
       "\n",
       "                                              description  \\\n",
       "50387   Ref.: 55:PREVENTA ::: OPORTUNIDAD ::: Dúplex a...   \n",
       "50388   Ref.: 56Duplex en venta de 1 dormitorio con ap...   \n",
       "107390  Casa con Calefacción central, Mendoza, San Roq...   \n",
       "\n",
       "                                            title  \\\n",
       "50387   DUPLEX A LA VENTA | Liniers 1200 | Tandil   \n",
       "50388   DUPLEX A LA VENTA | Liniers 1200 | Tandil   \n",
       "107390                         Casa - San Vicente   \n",
       "\n",
       "                                          image_thumbnail  \n",
       "50387   https://thumbs4.properati.com/9/N_Qr_5X_vOq--b...  \n",
       "50388   https://thumbs4.properati.com/8/_cBXAyr_9pDySg...  \n",
       "107390  https://thumbs4.properati.com/2/pA0RbuDKRK6GgV...  \n",
       "\n",
       "[3 rows x 26 columns]"
      ],
      "text/html": "<div>\n<style scoped>\n    .dataframe tbody tr th:only-of-type {\n        vertical-align: middle;\n    }\n\n    .dataframe tbody tr th {\n        vertical-align: top;\n    }\n\n    .dataframe thead th {\n        text-align: right;\n    }\n</style>\n<table border=\"1\" class=\"dataframe\">\n  <thead>\n    <tr style=\"text-align: right;\">\n      <th></th>\n      <th>Unnamed: 0</th>\n      <th>operation</th>\n      <th>property_type</th>\n      <th>place_name</th>\n      <th>place_with_parent_names</th>\n      <th>country_name</th>\n      <th>state_name</th>\n      <th>geonames_id</th>\n      <th>lat-lon</th>\n      <th>lat</th>\n      <th>...</th>\n      <th>surface_covered_in_m2</th>\n      <th>price_usd_per_m2</th>\n      <th>price_per_m2</th>\n      <th>floor</th>\n      <th>rooms</th>\n      <th>expenses</th>\n      <th>properati_url</th>\n      <th>description</th>\n      <th>title</th>\n      <th>image_thumbnail</th>\n    </tr>\n  </thead>\n  <tbody>\n    <tr>\n      <th>50387</th>\n      <td>50387</td>\n      <td>sell</td>\n      <td>apartment</td>\n      <td>Capital Federal</td>\n      <td>|Argentina|Capital Federal|</td>\n      <td>Argentina</td>\n      <td>Capital Federal</td>\n      <td>3433955.0</td>\n      <td>NaN</td>\n      <td>NaN</td>\n      <td>...</td>\n      <td>NaN</td>\n      <td>NaN</td>\n      <td>NaN</td>\n      <td>NaN</td>\n      <td>NaN</td>\n      <td>NaN</td>\n      <td>http://www.properati.com.ar/19e8z_venta_depart...</td>\n      <td>Ref.: 55:PREVENTA ::: OPORTUNIDAD ::: Dúplex a...</td>\n      <td>DUPLEX A LA VENTA | Liniers 1200 | Tandil</td>\n      <td>https://thumbs4.properati.com/9/N_Qr_5X_vOq--b...</td>\n    </tr>\n    <tr>\n      <th>50388</th>\n      <td>50388</td>\n      <td>sell</td>\n      <td>apartment</td>\n      <td>Capital Federal</td>\n      <td>|Argentina|Capital Federal|</td>\n      <td>Argentina</td>\n      <td>Capital Federal</td>\n      <td>3433955.0</td>\n      <td>NaN</td>\n      <td>NaN</td>\n      <td>...</td>\n      <td>NaN</td>\n      <td>NaN</td>\n      <td>NaN</td>\n      <td>NaN</td>\n      <td>NaN</td>\n      <td>NaN</td>\n      <td>http://www.properati.com.ar/19e90_venta_depart...</td>\n      <td>Ref.: 56Duplex en venta de 1 dormitorio con ap...</td>\n      <td>DUPLEX A LA VENTA | Liniers 1200 | Tandil</td>\n      <td>https://thumbs4.properati.com/8/_cBXAyr_9pDySg...</td>\n    </tr>\n    <tr>\n      <th>107390</th>\n      <td>107390</td>\n      <td>sell</td>\n      <td>house</td>\n      <td>San Roque</td>\n      <td>|Argentina|Mendoza|San Roque|</td>\n      <td>Argentina</td>\n      <td>Mendoza</td>\n      <td>3836586.0</td>\n      <td>NaN</td>\n      <td>NaN</td>\n      <td>...</td>\n      <td>NaN</td>\n      <td>NaN</td>\n      <td>NaN</td>\n      <td>NaN</td>\n      <td>NaN</td>\n      <td>NaN</td>\n      <td>http://www.properati.com.ar/1by0s_venta_casa_s...</td>\n      <td>Casa con Calefacción central, Mendoza, San Roq...</td>\n      <td>Casa - San Vicente</td>\n      <td>https://thumbs4.properati.com/2/pA0RbuDKRK6GgV...</td>\n    </tr>\n  </tbody>\n</table>\n<p>3 rows × 26 columns</p>\n</div>"
     },
     "metadata": {},
     "execution_count": 103
    }
   ],
   "source": [
    "# Creamos una mask para traer los valores en monedas que no son USD ni ARS.\n",
    "currency_OTHER_CURRENCY_mask = (data.currency == 'PEN') | (data.currency == 'UYU')\n",
    "# Observamos esos registros\n",
    "data.loc[currency_OTHER_CURRENCY_mask, :]"
   ]
  },
  {
   "cell_type": "code",
   "execution_count": 104,
   "metadata": {},
   "outputs": [
    {
     "output_type": "stream",
     "name": "stdout",
     "text": [
      "Cantidad de registros original - registro actuales: 3\n"
     ]
    }
   ],
   "source": [
    "# Hacemos drop de esos registros y chequeamos la diferencia entre cantidad original y actual\n",
    "cant_registros = data.shape[0]\n",
    "data.drop(data.loc[currency_OTHER_CURRENCY_mask, :].index, inplace = True)\n",
    "print(f'Cantidad de registros original - registro actuales: {cant_registros - data.shape[0]}')"
   ]
  },
  {
   "cell_type": "code",
   "execution_count": 105,
   "metadata": {},
   "outputs": [
    {
     "output_type": "execute_result",
     "data": {
      "text/plain": [
       "  property_type place_name                            place_with_parent_names  \\\n",
       "0            PH  Mataderos              |Argentina|Capital Federal|Mataderos|   \n",
       "1     apartment   La Plata        |Argentina|Bs.As. G.B.A. Zona Sur|La Plata|   \n",
       "2     apartment  Mataderos              |Argentina|Capital Federal|Mataderos|   \n",
       "3            PH    Liniers                |Argentina|Capital Federal|Liniers|   \n",
       "4     apartment     Centro  |Argentina|Buenos Aires Costa Atlántica|Mar de...   \n",
       "\n",
       "  country_name                    state_name     price currency  \\\n",
       "0    Argentina               Capital Federal   62000.0      USD   \n",
       "1    Argentina        Bs.As. G.B.A. Zona Sur  150000.0      USD   \n",
       "2    Argentina               Capital Federal   72000.0      USD   \n",
       "3    Argentina               Capital Federal   95000.0      USD   \n",
       "4    Argentina  Buenos Aires Costa Atlántica   64000.0      USD   \n",
       "\n",
       "   price_aprox_local_currency  price_aprox_usd  surface_total_in_m2  \\\n",
       "0                   1093959.0          62000.0                 55.0   \n",
       "1                   2646675.0         150000.0                  NaN   \n",
       "2                   1270404.0          72000.0                 55.0   \n",
       "3                   1676227.5          95000.0                  NaN   \n",
       "4                   1129248.0          64000.0                 35.0   \n",
       "\n",
       "   surface_covered_in_m2  price_usd_per_m2  price_per_m2  floor  rooms  \\\n",
       "0                   40.0       1127.272727   1550.000000    NaN    NaN   \n",
       "1                    NaN               NaN           NaN    NaN    NaN   \n",
       "2                   55.0       1309.090909   1309.090909    NaN    NaN   \n",
       "3                    NaN               NaN           NaN    NaN    NaN   \n",
       "4                   35.0       1828.571429   1828.571429    NaN    NaN   \n",
       "\n",
       "                                         description  \\\n",
       "0  2 AMBIENTES TIPO CASA PLANTA BAJA POR PASILLO,...   \n",
       "1  Venta de departamento en décimo piso al frente...   \n",
       "2  2 AMBIENTES 3ER PISO LATERAL LIVING COMEDOR AM...   \n",
       "3  PH 3 ambientes con patio. Hay 3 deptos en lote...   \n",
       "4  DEPARTAMENTO CON FANTÁSTICA ILUMINACIÓN NATURA...   \n",
       "\n",
       "                                               title  \n",
       "0                 2 AMB TIPO CASA SIN EXPENSAS EN PB  \n",
       "1  VENTA Depto 2 dorm. a estrenar 7 e/ 36 y 37   ...  \n",
       "2           2 AMB 3ER PISO CON ASCENSOR APTO CREDITO  \n",
       "3                       PH 3 amb. cfte. reciclado     \n",
       "4  DEPTO 2 AMB AL CONTRAFRENTE ZONA CENTRO/PLAZA ...  "
      ],
      "text/html": "<div>\n<style scoped>\n    .dataframe tbody tr th:only-of-type {\n        vertical-align: middle;\n    }\n\n    .dataframe tbody tr th {\n        vertical-align: top;\n    }\n\n    .dataframe thead th {\n        text-align: right;\n    }\n</style>\n<table border=\"1\" class=\"dataframe\">\n  <thead>\n    <tr style=\"text-align: right;\">\n      <th></th>\n      <th>property_type</th>\n      <th>place_name</th>\n      <th>place_with_parent_names</th>\n      <th>country_name</th>\n      <th>state_name</th>\n      <th>price</th>\n      <th>currency</th>\n      <th>price_aprox_local_currency</th>\n      <th>price_aprox_usd</th>\n      <th>surface_total_in_m2</th>\n      <th>surface_covered_in_m2</th>\n      <th>price_usd_per_m2</th>\n      <th>price_per_m2</th>\n      <th>floor</th>\n      <th>rooms</th>\n      <th>description</th>\n      <th>title</th>\n    </tr>\n  </thead>\n  <tbody>\n    <tr>\n      <th>0</th>\n      <td>PH</td>\n      <td>Mataderos</td>\n      <td>|Argentina|Capital Federal|Mataderos|</td>\n      <td>Argentina</td>\n      <td>Capital Federal</td>\n      <td>62000.0</td>\n      <td>USD</td>\n      <td>1093959.0</td>\n      <td>62000.0</td>\n      <td>55.0</td>\n      <td>40.0</td>\n      <td>1127.272727</td>\n      <td>1550.000000</td>\n      <td>NaN</td>\n      <td>NaN</td>\n      <td>2 AMBIENTES TIPO CASA PLANTA BAJA POR PASILLO,...</td>\n      <td>2 AMB TIPO CASA SIN EXPENSAS EN PB</td>\n    </tr>\n    <tr>\n      <th>1</th>\n      <td>apartment</td>\n      <td>La Plata</td>\n      <td>|Argentina|Bs.As. G.B.A. Zona Sur|La Plata|</td>\n      <td>Argentina</td>\n      <td>Bs.As. G.B.A. Zona Sur</td>\n      <td>150000.0</td>\n      <td>USD</td>\n      <td>2646675.0</td>\n      <td>150000.0</td>\n      <td>NaN</td>\n      <td>NaN</td>\n      <td>NaN</td>\n      <td>NaN</td>\n      <td>NaN</td>\n      <td>NaN</td>\n      <td>Venta de departamento en décimo piso al frente...</td>\n      <td>VENTA Depto 2 dorm. a estrenar 7 e/ 36 y 37   ...</td>\n    </tr>\n    <tr>\n      <th>2</th>\n      <td>apartment</td>\n      <td>Mataderos</td>\n      <td>|Argentina|Capital Federal|Mataderos|</td>\n      <td>Argentina</td>\n      <td>Capital Federal</td>\n      <td>72000.0</td>\n      <td>USD</td>\n      <td>1270404.0</td>\n      <td>72000.0</td>\n      <td>55.0</td>\n      <td>55.0</td>\n      <td>1309.090909</td>\n      <td>1309.090909</td>\n      <td>NaN</td>\n      <td>NaN</td>\n      <td>2 AMBIENTES 3ER PISO LATERAL LIVING COMEDOR AM...</td>\n      <td>2 AMB 3ER PISO CON ASCENSOR APTO CREDITO</td>\n    </tr>\n    <tr>\n      <th>3</th>\n      <td>PH</td>\n      <td>Liniers</td>\n      <td>|Argentina|Capital Federal|Liniers|</td>\n      <td>Argentina</td>\n      <td>Capital Federal</td>\n      <td>95000.0</td>\n      <td>USD</td>\n      <td>1676227.5</td>\n      <td>95000.0</td>\n      <td>NaN</td>\n      <td>NaN</td>\n      <td>NaN</td>\n      <td>NaN</td>\n      <td>NaN</td>\n      <td>NaN</td>\n      <td>PH 3 ambientes con patio. Hay 3 deptos en lote...</td>\n      <td>PH 3 amb. cfte. reciclado</td>\n    </tr>\n    <tr>\n      <th>4</th>\n      <td>apartment</td>\n      <td>Centro</td>\n      <td>|Argentina|Buenos Aires Costa Atlántica|Mar de...</td>\n      <td>Argentina</td>\n      <td>Buenos Aires Costa Atlántica</td>\n      <td>64000.0</td>\n      <td>USD</td>\n      <td>1129248.0</td>\n      <td>64000.0</td>\n      <td>35.0</td>\n      <td>35.0</td>\n      <td>1828.571429</td>\n      <td>1828.571429</td>\n      <td>NaN</td>\n      <td>NaN</td>\n      <td>DEPARTAMENTO CON FANTÁSTICA ILUMINACIÓN NATURA...</td>\n      <td>DEPTO 2 AMB AL CONTRAFRENTE ZONA CENTRO/PLAZA ...</td>\n    </tr>\n  </tbody>\n</table>\n</div>"
     },
     "metadata": {},
     "execution_count": 105
    }
   ],
   "source": [
    "# Creamos la lista de columnas a filtrar\n",
    "drop_columns = ['properati_url', 'Unnamed: 0', 'operation','image_thumbnail','expenses','lat-lon','geonames_id','lat', 'lon']\n",
    "\n",
    "# Creamos una variable nueva para guardar los datos (el cambio se realiza inplace=False)\n",
    "data_filtered = data.drop(drop_columns, axis=1)\n",
    "data_filtered.head(5)"
   ]
  },
  {
   "source": [
    "**Esto no es necesario ahora ¿?**"
   ],
   "cell_type": "markdown",
   "metadata": {}
  },
  {
   "cell_type": "code",
   "execution_count": 106,
   "metadata": {},
   "outputs": [],
   "source": [
    "# Creamos un diccionario con la nueva agrupación\n",
    "provincia={'Capital Federal':'CABA','Bs.As. G.B.A. Zona Norte': 'Bs. As. G.B.A.', 'Bs.As. G.B.A. Zona Sur':'Bs. As. G.B.A.', 'Córdoba':'Córdoba','Santa Fe':'Santa Fe','Buenos Aires Costa Atlántica':'Buenos Aires', 'Bs.As. G.B.A. Zona Oeste':'Bs. As. G.B.A.', 'Buenos Aires Interior':'Buenos Aires','Río Negro':'Resto del país','Neuquén':'Resto del país', 'Mendoza':'Resto del país', 'Tucumán':'Resto del país', 'Corrientes':'Resto del país', 'Misiones':'Resto del país', 'Entre Ríos':'Resto del país', 'Salta':'Resto del país', 'Chubut':'Resto del país', 'San Luis':'Resto del país', 'La Pampa':'Resto del país','Formosa':'Resto del país','Chaco': 'Resto del país', 'San Juan':'Resto del país','Tierra Del Fuego':'Resto del país', 'Catamarca':'Resto del país', 'Jujuy': 'Resto del país', 'Santa Cruz':'Resto del país', 'La Rioja':'Resto del país', 'Santiago Del Estero':'Resto del país'}"
   ]
  },
  {
   "cell_type": "code",
   "execution_count": 107,
   "metadata": {},
   "outputs": [
    {
     "output_type": "display_data",
     "data": {
      "text/plain": "      property_type     place_name  \\\n29508     apartment  Mar del Plata   \n81788     apartment          Garín   \n18994     apartment      Caballito   \n13273         house        Córdoba   \n37540     apartment      San Telmo   \n\n                                 place_with_parent_names country_name  \\\n29508  |Argentina|Buenos Aires Costa Atlántica|Mar de...    Argentina   \n81788  |Argentina|Bs.As. G.B.A. Zona Norte|Escobar|Ga...    Argentina   \n18994              |Argentina|Capital Federal|Caballito|    Argentina   \n13273                        |Argentina|Córdoba|Córdoba|    Argentina   \n37540              |Argentina|Capital Federal|San Telmo|    Argentina   \n\n                         state_name    price currency  \\\n29508  Buenos Aires Costa Atlántica  55000.0      USD   \n81788      Bs.As. G.B.A. Zona Norte      NaN      NaN   \n18994               Capital Federal  94350.0      USD   \n13273                       Córdoba  55000.0      USD   \n37540               Capital Federal  88000.0      USD   \n\n       price_aprox_local_currency  price_aprox_usd  surface_total_in_m2  \\\n29508                   970447.50          55000.0                 46.0   \n81788                         NaN              NaN                  NaN   \n18994                  1664758.57          94350.0                 37.0   \n13273                   970447.50          55000.0                  NaN   \n37540                  1552716.00          88000.0                  NaN   \n\n       surface_covered_in_m2  price_usd_per_m2  price_per_m2  floor  rooms  \\\n29508                   40.0       1195.652174   1375.000000    NaN    2.0   \n81788                    NaN               NaN           NaN    NaN    NaN   \n18994                   34.0       2550.000000   2775.000000    NaN    1.0   \n13273                  140.0               NaN    392.857143    1.0    2.0   \n37540                   43.0               NaN   2046.511628    NaN    1.0   \n\n                                             description  \\\n29508                             EXCELENTE OPORTUNIDAD.   \n81788            Departamento, Escobar, Garín, por U$S 1   \n18994  NUEVO !!! EMPRENDIMIENTO A ESTRENAR EN CABALLI...   \n13273                Casa en Venta de 1 dorm. en Cordoba   \n37540  Corredor Responsable: Ariel Champanier - CUCIC...   \n\n                                                   title  province_group  \n29508  OPORTUNIDAD 2 AMBIENTES ZONA GUEMES MAR DEL PLATA    Buenos Aires  \n81788                               Departamento - Garin  Bs. As. G.B.A.  \n18994  EXCELENTE EMPRENDIMIENTO MONOAMBIENTES APTO PR...            CABA  \n13273                    Venta CASA, Zona AEOROPUERTO!!!         Córdoba  \n37540   Depto Monoambiente en pleno corazón de San Telmo            CABA  ",
      "text/html": "<div>\n<style scoped>\n    .dataframe tbody tr th:only-of-type {\n        vertical-align: middle;\n    }\n\n    .dataframe tbody tr th {\n        vertical-align: top;\n    }\n\n    .dataframe thead th {\n        text-align: right;\n    }\n</style>\n<table border=\"1\" class=\"dataframe\">\n  <thead>\n    <tr style=\"text-align: right;\">\n      <th></th>\n      <th>property_type</th>\n      <th>place_name</th>\n      <th>place_with_parent_names</th>\n      <th>country_name</th>\n      <th>state_name</th>\n      <th>price</th>\n      <th>currency</th>\n      <th>price_aprox_local_currency</th>\n      <th>price_aprox_usd</th>\n      <th>surface_total_in_m2</th>\n      <th>surface_covered_in_m2</th>\n      <th>price_usd_per_m2</th>\n      <th>price_per_m2</th>\n      <th>floor</th>\n      <th>rooms</th>\n      <th>description</th>\n      <th>title</th>\n      <th>province_group</th>\n    </tr>\n  </thead>\n  <tbody>\n    <tr>\n      <th>29508</th>\n      <td>apartment</td>\n      <td>Mar del Plata</td>\n      <td>|Argentina|Buenos Aires Costa Atlántica|Mar de...</td>\n      <td>Argentina</td>\n      <td>Buenos Aires Costa Atlántica</td>\n      <td>55000.0</td>\n      <td>USD</td>\n      <td>970447.50</td>\n      <td>55000.0</td>\n      <td>46.0</td>\n      <td>40.0</td>\n      <td>1195.652174</td>\n      <td>1375.000000</td>\n      <td>NaN</td>\n      <td>2.0</td>\n      <td>EXCELENTE OPORTUNIDAD.</td>\n      <td>OPORTUNIDAD 2 AMBIENTES ZONA GUEMES MAR DEL PLATA</td>\n      <td>Buenos Aires</td>\n    </tr>\n    <tr>\n      <th>81788</th>\n      <td>apartment</td>\n      <td>Garín</td>\n      <td>|Argentina|Bs.As. G.B.A. Zona Norte|Escobar|Ga...</td>\n      <td>Argentina</td>\n      <td>Bs.As. G.B.A. Zona Norte</td>\n      <td>NaN</td>\n      <td>NaN</td>\n      <td>NaN</td>\n      <td>NaN</td>\n      <td>NaN</td>\n      <td>NaN</td>\n      <td>NaN</td>\n      <td>NaN</td>\n      <td>NaN</td>\n      <td>NaN</td>\n      <td>Departamento, Escobar, Garín, por U$S 1</td>\n      <td>Departamento - Garin</td>\n      <td>Bs. As. G.B.A.</td>\n    </tr>\n    <tr>\n      <th>18994</th>\n      <td>apartment</td>\n      <td>Caballito</td>\n      <td>|Argentina|Capital Federal|Caballito|</td>\n      <td>Argentina</td>\n      <td>Capital Federal</td>\n      <td>94350.0</td>\n      <td>USD</td>\n      <td>1664758.57</td>\n      <td>94350.0</td>\n      <td>37.0</td>\n      <td>34.0</td>\n      <td>2550.000000</td>\n      <td>2775.000000</td>\n      <td>NaN</td>\n      <td>1.0</td>\n      <td>NUEVO !!! EMPRENDIMIENTO A ESTRENAR EN CABALLI...</td>\n      <td>EXCELENTE EMPRENDIMIENTO MONOAMBIENTES APTO PR...</td>\n      <td>CABA</td>\n    </tr>\n    <tr>\n      <th>13273</th>\n      <td>house</td>\n      <td>Córdoba</td>\n      <td>|Argentina|Córdoba|Córdoba|</td>\n      <td>Argentina</td>\n      <td>Córdoba</td>\n      <td>55000.0</td>\n      <td>USD</td>\n      <td>970447.50</td>\n      <td>55000.0</td>\n      <td>NaN</td>\n      <td>140.0</td>\n      <td>NaN</td>\n      <td>392.857143</td>\n      <td>1.0</td>\n      <td>2.0</td>\n      <td>Casa en Venta de 1 dorm. en Cordoba</td>\n      <td>Venta CASA, Zona AEOROPUERTO!!!</td>\n      <td>Córdoba</td>\n    </tr>\n    <tr>\n      <th>37540</th>\n      <td>apartment</td>\n      <td>San Telmo</td>\n      <td>|Argentina|Capital Federal|San Telmo|</td>\n      <td>Argentina</td>\n      <td>Capital Federal</td>\n      <td>88000.0</td>\n      <td>USD</td>\n      <td>1552716.00</td>\n      <td>88000.0</td>\n      <td>NaN</td>\n      <td>43.0</td>\n      <td>NaN</td>\n      <td>2046.511628</td>\n      <td>NaN</td>\n      <td>1.0</td>\n      <td>Corredor Responsable: Ariel Champanier - CUCIC...</td>\n      <td>Depto Monoambiente en pleno corazón de San Telmo</td>\n      <td>CABA</td>\n    </tr>\n  </tbody>\n</table>\n</div>"
     },
     "metadata": {}
    }
   ],
   "source": [
    "# Mapeamos las provincias con el diccionario y ponermos el grupo en una columna nueva\n",
    "data_filtered['province_group'] = data_filtered.state_name.map(provincia)\n",
    "display(data_filtered.sample(5))\n"
   ]
  },
  {
   "source": [
    "<h2>Tomamos solamente CABA para el analisis."
   ],
   "cell_type": "markdown",
   "metadata": {}
  },
  {
   "cell_type": "code",
   "execution_count": 108,
   "metadata": {},
   "outputs": [
    {
     "output_type": "execute_result",
     "data": {
      "text/plain": [
       "  property_type place_name    price currency  price_aprox_local_currency  \\\n",
       "0            PH  Mataderos  62000.0      USD                   1093959.0   \n",
       "2     apartment  Mataderos  72000.0      USD                   1270404.0   \n",
       "3            PH    Liniers  95000.0      USD                   1676227.5   \n",
       "\n",
       "   price_aprox_usd  surface_total_in_m2  surface_covered_in_m2  \\\n",
       "0          62000.0                 55.0                   40.0   \n",
       "2          72000.0                 55.0                   55.0   \n",
       "3          95000.0                  NaN                    NaN   \n",
       "\n",
       "   price_usd_per_m2  price_per_m2  floor  rooms  \n",
       "0       1127.272727   1550.000000    NaN    NaN  \n",
       "2       1309.090909   1309.090909    NaN    NaN  \n",
       "3               NaN           NaN    NaN    NaN  "
      ],
      "text/html": "<div>\n<style scoped>\n    .dataframe tbody tr th:only-of-type {\n        vertical-align: middle;\n    }\n\n    .dataframe tbody tr th {\n        vertical-align: top;\n    }\n\n    .dataframe thead th {\n        text-align: right;\n    }\n</style>\n<table border=\"1\" class=\"dataframe\">\n  <thead>\n    <tr style=\"text-align: right;\">\n      <th></th>\n      <th>property_type</th>\n      <th>place_name</th>\n      <th>price</th>\n      <th>currency</th>\n      <th>price_aprox_local_currency</th>\n      <th>price_aprox_usd</th>\n      <th>surface_total_in_m2</th>\n      <th>surface_covered_in_m2</th>\n      <th>price_usd_per_m2</th>\n      <th>price_per_m2</th>\n      <th>floor</th>\n      <th>rooms</th>\n    </tr>\n  </thead>\n  <tbody>\n    <tr>\n      <th>0</th>\n      <td>PH</td>\n      <td>Mataderos</td>\n      <td>62000.0</td>\n      <td>USD</td>\n      <td>1093959.0</td>\n      <td>62000.0</td>\n      <td>55.0</td>\n      <td>40.0</td>\n      <td>1127.272727</td>\n      <td>1550.000000</td>\n      <td>NaN</td>\n      <td>NaN</td>\n    </tr>\n    <tr>\n      <th>2</th>\n      <td>apartment</td>\n      <td>Mataderos</td>\n      <td>72000.0</td>\n      <td>USD</td>\n      <td>1270404.0</td>\n      <td>72000.0</td>\n      <td>55.0</td>\n      <td>55.0</td>\n      <td>1309.090909</td>\n      <td>1309.090909</td>\n      <td>NaN</td>\n      <td>NaN</td>\n    </tr>\n    <tr>\n      <th>3</th>\n      <td>PH</td>\n      <td>Liniers</td>\n      <td>95000.0</td>\n      <td>USD</td>\n      <td>1676227.5</td>\n      <td>95000.0</td>\n      <td>NaN</td>\n      <td>NaN</td>\n      <td>NaN</td>\n      <td>NaN</td>\n      <td>NaN</td>\n      <td>NaN</td>\n    </tr>\n  </tbody>\n</table>\n</div>"
     },
     "metadata": {},
     "execution_count": 108
    }
   ],
   "source": [
    "# Creamos una máscara y la aplicamos al dataframe anterior para traer los registros que necesitamos\n",
    "data_caba_mask = data_filtered.state_name == 'Capital Federal' \n",
    "data_caba = data_filtered.loc[data_caba_mask, :]\n",
    "\n",
    "# Dropeamos la columna creada anteriormente.\n",
    "data_caba.drop(columns=['province_group', 'country_name', 'state_name', 'place_with_parent_names','description', 'title'], inplace=True)\n",
    "\n",
    "# Chequeamos cómo quedaron los datos\n",
    "data_caba.head(3)"
   ]
  },
  {
   "cell_type": "code",
   "execution_count": 109,
   "metadata": {},
   "outputs": [
    {
     "output_type": "execute_result",
     "data": {
      "text/plain": [
       "(32314, 12)"
      ]
     },
     "metadata": {},
     "execution_count": 109
    }
   ],
   "source": [
    "# Vemos la cantidad de datos solamente de CABA.\n",
    "data_caba.shape"
   ]
  },
  {
   "source": [
    "# Revisamos si hay barrios de caba mal indentificados \"Ejemplo: Capital Federal\"\n",
    "pd.set_option('display.max_rows', 1000) # Para mostrar todas las filas.\n"
   ],
   "cell_type": "code",
   "metadata": {},
   "execution_count": 110,
   "outputs": []
  },
  {
   "cell_type": "code",
   "execution_count": 111,
   "metadata": {},
   "outputs": [],
   "source": [
    "# Dropeamos los de Capital Federal\n",
    "capi_mask = data_caba.place_name == 'Capital Federal'\n",
    "data_caba.drop(data_caba.loc[capi_mask, :].index, inplace=True)"
   ]
  },
  {
   "cell_type": "code",
   "execution_count": 112,
   "metadata": {},
   "outputs": [
    {
     "output_type": "execute_result",
     "data": {
      "text/plain": [
       "(31019, 12)"
      ]
     },
     "metadata": {},
     "execution_count": 112
    }
   ],
   "source": [
    "data_caba.shape"
   ]
  },
  {
   "cell_type": "code",
   "execution_count": 113,
   "metadata": {},
   "outputs": [
    {
     "output_type": "execute_result",
     "data": {
      "text/plain": [
       "   property_type     place_name     price currency  \\\n",
       "0             PH      Mataderos   62000.0      USD   \n",
       "2      apartment      Mataderos   72000.0      USD   \n",
       "3             PH        Liniers   95000.0      USD   \n",
       "7      apartment       Belgrano  138000.0      USD   \n",
       "8      apartment       Belgrano  195000.0      USD   \n",
       "13     apartment   Palermo Soho  111700.0      USD   \n",
       "14     apartment   Palermo Soho  147900.0      USD   \n",
       "16            PH      Mataderos  239000.0      USD   \n",
       "19     apartment        Palermo  350000.0      USD   \n",
       "21     apartment        Palermo  270500.0      USD   \n",
       "29     apartment         Flores   75000.0      USD   \n",
       "35     apartment          Boedo  145000.0      USD   \n",
       "38     apartment    Las Cañitas  480000.0      USD   \n",
       "47         house  Puerto Madero   70000.0      USD   \n",
       "48     apartment      Balvanera  240000.0      USD   \n",
       "51         house          Boedo  550000.0      USD   \n",
       "52     apartment      Caballito  110000.0      USD   \n",
       "53     apartment      Caballito  170500.0      USD   \n",
       "54     apartment      Caballito  220410.0      USD   \n",
       "55     apartment      Caballito  222780.0      USD   \n",
       "\n",
       "    price_aprox_local_currency  price_aprox_usd  surface_total_in_m2  \\\n",
       "0                   1093959.00          62000.0                 55.0   \n",
       "2                   1270404.00          72000.0                 55.0   \n",
       "3                   1676227.50          95000.0                  NaN   \n",
       "7                   2434941.00         138000.0                 45.0   \n",
       "8                   3440677.50         195000.0                 65.0   \n",
       "13                  1970890.65         111700.0                 50.0   \n",
       "14                  2609621.55         147900.0                 42.0   \n",
       "16                  4217035.50         239000.0                140.0   \n",
       "19                  6175575.00         350000.0                104.0   \n",
       "21                  4772837.25         270500.0                118.0   \n",
       "29                  1323337.50          75000.0                 43.0   \n",
       "35                  2558452.50         145000.0                 80.0   \n",
       "38                  8469360.00         480000.0                220.0   \n",
       "47                  1235115.00          70000.0                 80.0   \n",
       "48                  4234680.00         240000.0                141.0   \n",
       "51                  9704475.00         550000.0                504.0   \n",
       "52                  1940895.00         110000.0                 50.0   \n",
       "53                  3008387.25         170500.0                100.0   \n",
       "54                  3889024.24         220410.0                 81.0   \n",
       "55                  3930841.71         222780.0                 81.0   \n",
       "\n",
       "    surface_covered_in_m2  price_usd_per_m2  price_per_m2  floor  rooms  \n",
       "0                    40.0       1127.272727   1550.000000    NaN    NaN  \n",
       "2                    55.0       1309.090909   1309.090909    NaN    NaN  \n",
       "3                     NaN               NaN           NaN    NaN    NaN  \n",
       "7                    40.0       3066.666667   3450.000000    NaN    NaN  \n",
       "8                    60.0       3000.000000   3250.000000    NaN    NaN  \n",
       "13                   30.0       2234.000000   3723.333333    NaN    1.0  \n",
       "14                   31.0       3521.428571   4770.967742    NaN    1.0  \n",
       "16                   98.0       1707.142857   2438.775510    NaN    4.0  \n",
       "19                   96.0       3365.384615   3645.833333    NaN    3.0  \n",
       "21                   73.0       2292.372881   3705.479452    NaN    4.0  \n",
       "29                   43.0       1744.186047   1744.186047    NaN    2.0  \n",
       "35                   77.0       1812.500000   1883.116883    NaN    4.0  \n",
       "38                  130.0       2181.818182   3692.307692    NaN    3.0  \n",
       "47                   50.0        875.000000   1400.000000    NaN    NaN  \n",
       "48                  124.0       1702.127660   1935.483871    NaN    5.0  \n",
       "51                  324.0       1091.269841   1697.530864    NaN    NaN  \n",
       "52                   50.0       2200.000000   2200.000000    NaN    3.0  \n",
       "53                   46.0       1705.000000   3706.521739    NaN    2.0  \n",
       "54                   75.0       2721.111111   2938.800000    NaN    3.0  \n",
       "55                   75.0       2750.370370   2970.400000    NaN    3.0  "
      ],
      "text/html": "<div>\n<style scoped>\n    .dataframe tbody tr th:only-of-type {\n        vertical-align: middle;\n    }\n\n    .dataframe tbody tr th {\n        vertical-align: top;\n    }\n\n    .dataframe thead th {\n        text-align: right;\n    }\n</style>\n<table border=\"1\" class=\"dataframe\">\n  <thead>\n    <tr style=\"text-align: right;\">\n      <th></th>\n      <th>property_type</th>\n      <th>place_name</th>\n      <th>price</th>\n      <th>currency</th>\n      <th>price_aprox_local_currency</th>\n      <th>price_aprox_usd</th>\n      <th>surface_total_in_m2</th>\n      <th>surface_covered_in_m2</th>\n      <th>price_usd_per_m2</th>\n      <th>price_per_m2</th>\n      <th>floor</th>\n      <th>rooms</th>\n    </tr>\n  </thead>\n  <tbody>\n    <tr>\n      <th>0</th>\n      <td>PH</td>\n      <td>Mataderos</td>\n      <td>62000.0</td>\n      <td>USD</td>\n      <td>1093959.00</td>\n      <td>62000.0</td>\n      <td>55.0</td>\n      <td>40.0</td>\n      <td>1127.272727</td>\n      <td>1550.000000</td>\n      <td>NaN</td>\n      <td>NaN</td>\n    </tr>\n    <tr>\n      <th>2</th>\n      <td>apartment</td>\n      <td>Mataderos</td>\n      <td>72000.0</td>\n      <td>USD</td>\n      <td>1270404.00</td>\n      <td>72000.0</td>\n      <td>55.0</td>\n      <td>55.0</td>\n      <td>1309.090909</td>\n      <td>1309.090909</td>\n      <td>NaN</td>\n      <td>NaN</td>\n    </tr>\n    <tr>\n      <th>3</th>\n      <td>PH</td>\n      <td>Liniers</td>\n      <td>95000.0</td>\n      <td>USD</td>\n      <td>1676227.50</td>\n      <td>95000.0</td>\n      <td>NaN</td>\n      <td>NaN</td>\n      <td>NaN</td>\n      <td>NaN</td>\n      <td>NaN</td>\n      <td>NaN</td>\n    </tr>\n    <tr>\n      <th>7</th>\n      <td>apartment</td>\n      <td>Belgrano</td>\n      <td>138000.0</td>\n      <td>USD</td>\n      <td>2434941.00</td>\n      <td>138000.0</td>\n      <td>45.0</td>\n      <td>40.0</td>\n      <td>3066.666667</td>\n      <td>3450.000000</td>\n      <td>NaN</td>\n      <td>NaN</td>\n    </tr>\n    <tr>\n      <th>8</th>\n      <td>apartment</td>\n      <td>Belgrano</td>\n      <td>195000.0</td>\n      <td>USD</td>\n      <td>3440677.50</td>\n      <td>195000.0</td>\n      <td>65.0</td>\n      <td>60.0</td>\n      <td>3000.000000</td>\n      <td>3250.000000</td>\n      <td>NaN</td>\n      <td>NaN</td>\n    </tr>\n    <tr>\n      <th>13</th>\n      <td>apartment</td>\n      <td>Palermo Soho</td>\n      <td>111700.0</td>\n      <td>USD</td>\n      <td>1970890.65</td>\n      <td>111700.0</td>\n      <td>50.0</td>\n      <td>30.0</td>\n      <td>2234.000000</td>\n      <td>3723.333333</td>\n      <td>NaN</td>\n      <td>1.0</td>\n    </tr>\n    <tr>\n      <th>14</th>\n      <td>apartment</td>\n      <td>Palermo Soho</td>\n      <td>147900.0</td>\n      <td>USD</td>\n      <td>2609621.55</td>\n      <td>147900.0</td>\n      <td>42.0</td>\n      <td>31.0</td>\n      <td>3521.428571</td>\n      <td>4770.967742</td>\n      <td>NaN</td>\n      <td>1.0</td>\n    </tr>\n    <tr>\n      <th>16</th>\n      <td>PH</td>\n      <td>Mataderos</td>\n      <td>239000.0</td>\n      <td>USD</td>\n      <td>4217035.50</td>\n      <td>239000.0</td>\n      <td>140.0</td>\n      <td>98.0</td>\n      <td>1707.142857</td>\n      <td>2438.775510</td>\n      <td>NaN</td>\n      <td>4.0</td>\n    </tr>\n    <tr>\n      <th>19</th>\n      <td>apartment</td>\n      <td>Palermo</td>\n      <td>350000.0</td>\n      <td>USD</td>\n      <td>6175575.00</td>\n      <td>350000.0</td>\n      <td>104.0</td>\n      <td>96.0</td>\n      <td>3365.384615</td>\n      <td>3645.833333</td>\n      <td>NaN</td>\n      <td>3.0</td>\n    </tr>\n    <tr>\n      <th>21</th>\n      <td>apartment</td>\n      <td>Palermo</td>\n      <td>270500.0</td>\n      <td>USD</td>\n      <td>4772837.25</td>\n      <td>270500.0</td>\n      <td>118.0</td>\n      <td>73.0</td>\n      <td>2292.372881</td>\n      <td>3705.479452</td>\n      <td>NaN</td>\n      <td>4.0</td>\n    </tr>\n    <tr>\n      <th>29</th>\n      <td>apartment</td>\n      <td>Flores</td>\n      <td>75000.0</td>\n      <td>USD</td>\n      <td>1323337.50</td>\n      <td>75000.0</td>\n      <td>43.0</td>\n      <td>43.0</td>\n      <td>1744.186047</td>\n      <td>1744.186047</td>\n      <td>NaN</td>\n      <td>2.0</td>\n    </tr>\n    <tr>\n      <th>35</th>\n      <td>apartment</td>\n      <td>Boedo</td>\n      <td>145000.0</td>\n      <td>USD</td>\n      <td>2558452.50</td>\n      <td>145000.0</td>\n      <td>80.0</td>\n      <td>77.0</td>\n      <td>1812.500000</td>\n      <td>1883.116883</td>\n      <td>NaN</td>\n      <td>4.0</td>\n    </tr>\n    <tr>\n      <th>38</th>\n      <td>apartment</td>\n      <td>Las Cañitas</td>\n      <td>480000.0</td>\n      <td>USD</td>\n      <td>8469360.00</td>\n      <td>480000.0</td>\n      <td>220.0</td>\n      <td>130.0</td>\n      <td>2181.818182</td>\n      <td>3692.307692</td>\n      <td>NaN</td>\n      <td>3.0</td>\n    </tr>\n    <tr>\n      <th>47</th>\n      <td>house</td>\n      <td>Puerto Madero</td>\n      <td>70000.0</td>\n      <td>USD</td>\n      <td>1235115.00</td>\n      <td>70000.0</td>\n      <td>80.0</td>\n      <td>50.0</td>\n      <td>875.000000</td>\n      <td>1400.000000</td>\n      <td>NaN</td>\n      <td>NaN</td>\n    </tr>\n    <tr>\n      <th>48</th>\n      <td>apartment</td>\n      <td>Balvanera</td>\n      <td>240000.0</td>\n      <td>USD</td>\n      <td>4234680.00</td>\n      <td>240000.0</td>\n      <td>141.0</td>\n      <td>124.0</td>\n      <td>1702.127660</td>\n      <td>1935.483871</td>\n      <td>NaN</td>\n      <td>5.0</td>\n    </tr>\n    <tr>\n      <th>51</th>\n      <td>house</td>\n      <td>Boedo</td>\n      <td>550000.0</td>\n      <td>USD</td>\n      <td>9704475.00</td>\n      <td>550000.0</td>\n      <td>504.0</td>\n      <td>324.0</td>\n      <td>1091.269841</td>\n      <td>1697.530864</td>\n      <td>NaN</td>\n      <td>NaN</td>\n    </tr>\n    <tr>\n      <th>52</th>\n      <td>apartment</td>\n      <td>Caballito</td>\n      <td>110000.0</td>\n      <td>USD</td>\n      <td>1940895.00</td>\n      <td>110000.0</td>\n      <td>50.0</td>\n      <td>50.0</td>\n      <td>2200.000000</td>\n      <td>2200.000000</td>\n      <td>NaN</td>\n      <td>3.0</td>\n    </tr>\n    <tr>\n      <th>53</th>\n      <td>apartment</td>\n      <td>Caballito</td>\n      <td>170500.0</td>\n      <td>USD</td>\n      <td>3008387.25</td>\n      <td>170500.0</td>\n      <td>100.0</td>\n      <td>46.0</td>\n      <td>1705.000000</td>\n      <td>3706.521739</td>\n      <td>NaN</td>\n      <td>2.0</td>\n    </tr>\n    <tr>\n      <th>54</th>\n      <td>apartment</td>\n      <td>Caballito</td>\n      <td>220410.0</td>\n      <td>USD</td>\n      <td>3889024.24</td>\n      <td>220410.0</td>\n      <td>81.0</td>\n      <td>75.0</td>\n      <td>2721.111111</td>\n      <td>2938.800000</td>\n      <td>NaN</td>\n      <td>3.0</td>\n    </tr>\n    <tr>\n      <th>55</th>\n      <td>apartment</td>\n      <td>Caballito</td>\n      <td>222780.0</td>\n      <td>USD</td>\n      <td>3930841.71</td>\n      <td>222780.0</td>\n      <td>81.0</td>\n      <td>75.0</td>\n      <td>2750.370370</td>\n      <td>2970.400000</td>\n      <td>NaN</td>\n      <td>3.0</td>\n    </tr>\n  </tbody>\n</table>\n</div>"
     },
     "metadata": {},
     "execution_count": 113
    }
   ],
   "source": [
    "data_caba.head(20)"
   ]
  },
  {
   "source": [
    "## De los datos filtrados según Desafio 1 deberiamos:\n",
    "\n",
    "1. Terminar de dropear variables incompletas que serian necesarias para poder entrenar un modelo. (ejemplo: si la propiedad no posee: price, price_aprox_local_currency,price_usd_per_m2, price_per_m2, etc...) la información de los barrios ya fue analizado y dropeado en el paso anterior.\n",
    "2. Definir las variables CUANTITATIVAS, ejemplo precio, total de m2 de superficie.\n",
    "3. Armar las variables CUALITATICAS, Dummy (ejemplo: place_name, property_type).\n",
    "4. Armar una nueva variable Dummy que contemple los precios de propiedad segun su distribución por metro cuadrado. Utilizando Panda CUT. \n",
    "\n",
    "## Finalizado el analisis de datos, armamos diferentes modelos para predecir el precio de la propiedad.\n",
    "\n",
    "1. Regresion Lineal Multiple\n",
    "2. Entrenar los modelos con Lasso, RidgeCV y utilizando Cross Validation.\n",
    "\n"
   ],
   "cell_type": "markdown",
   "metadata": {}
  },
  {
   "source": [
    "### Primero damos homogenidad a los datos\n",
    "\n",
    "Vamos a realizar ciertas verificaciones de los datos."
   ],
   "cell_type": "markdown",
   "metadata": {}
  },
  {
   "cell_type": "code",
   "execution_count": 114,
   "metadata": {},
   "outputs": [
    {
     "output_type": "display_data",
     "data": {
      "text/plain": "(4138, 12)"
     },
     "metadata": {}
    },
    {
     "output_type": "display_data",
     "data": {
      "text/plain": "       property_type        place_name      price currency  \\\n73255      apartment             Nuñez        NaN      NaN   \n20825      apartment  Parque Chacabuco  3359279.0      ARS   \n120782     apartment           Palermo        NaN      NaN   \n84710      apartment           Palermo        NaN      NaN   \n1888       apartment      Monte Castro        NaN      NaN   \n78330      apartment          Belgrano  5122951.0      ARS   \n118036     apartment      Villa Crespo        NaN      NaN   \n1798       apartment           Almagro        NaN      NaN   \n89936      apartment      Palermo Soho        NaN      NaN   \n88053      apartment     Villa Urquiza        NaN      NaN   \n73363      apartment          Saavedra        NaN      NaN   \n118042     apartment      Villa Crespo        NaN      NaN   \n96548      apartment          Belgrano        NaN      NaN   \n85616      apartment         San Telmo  1660982.0      ARS   \n89994      apartment      Palermo Soho        NaN      NaN   \n96847      apartment          Floresta        NaN      NaN   \n75671      apartment         Caballito        NaN      NaN   \n16388      apartment          Congreso        NaN      NaN   \n109190     apartment          Belgrano        NaN      NaN   \n89375      apartment           Palermo        NaN      NaN   \n\n        price_aprox_local_currency  price_aprox_usd  surface_total_in_m2  \\\n73255                          NaN              NaN                 55.0   \n20825                   3324236.32        188400.71                  NaN   \n120782                         NaN              NaN                 52.0   \n84710                          NaN              NaN                130.0   \n1888                           NaN              NaN                 37.0   \n78330                   5069510.46        287313.92                 60.0   \n118036                         NaN              NaN                 83.0   \n1798                           NaN              NaN                 22.0   \n89936                          NaN              NaN                 75.0   \n88053                          NaN              NaN                 40.0   \n73363                          NaN              NaN                 79.0   \n118042                         NaN              NaN                 62.0   \n96548                          NaN              NaN                310.0   \n85616                   1643655.22         93153.97                 33.0   \n89994                          NaN              NaN                 47.0   \n96847                          NaN              NaN                 41.0   \n75671                          NaN              NaN                 63.0   \n16388                          NaN              NaN                 39.0   \n109190                         NaN              NaN                 97.0   \n89375                          NaN              NaN                 51.0   \n\n        surface_covered_in_m2  price_usd_per_m2  price_per_m2  floor  rooms  \n73255                     NaN               NaN           NaN    NaN    NaN  \n20825                   116.0               NaN  28959.301724    2.0    3.0  \n120782                   50.0               NaN           NaN    NaN    NaN  \n84710                   112.0               NaN           NaN    NaN    NaN  \n1888                     33.0               NaN           NaN    NaN    NaN  \n78330                    52.0       4788.565333  98518.288462    NaN    NaN  \n118036                   64.0               NaN           NaN    NaN    NaN  \n1798                      NaN               NaN           NaN    NaN    NaN  \n89936                    67.0               NaN           NaN    NaN    NaN  \n88053                    31.0               NaN           NaN    NaN    NaN  \n73363                     NaN               NaN           NaN    NaN    NaN  \n118042                   46.0               NaN           NaN    NaN    NaN  \n96548                   290.0               NaN           NaN    NaN    NaN  \n85616                    24.0       2822.847576  69207.583333    NaN    NaN  \n89994                    43.0               NaN           NaN    NaN    NaN  \n96847                    39.0               NaN           NaN    NaN    NaN  \n75671                    56.0               NaN           NaN    NaN    NaN  \n16388                    39.0               NaN           NaN    NaN    1.0  \n109190                   82.0               NaN           NaN    NaN    NaN  \n89375                    47.0               NaN           NaN    NaN    NaN  ",
      "text/html": "<div>\n<style scoped>\n    .dataframe tbody tr th:only-of-type {\n        vertical-align: middle;\n    }\n\n    .dataframe tbody tr th {\n        vertical-align: top;\n    }\n\n    .dataframe thead th {\n        text-align: right;\n    }\n</style>\n<table border=\"1\" class=\"dataframe\">\n  <thead>\n    <tr style=\"text-align: right;\">\n      <th></th>\n      <th>property_type</th>\n      <th>place_name</th>\n      <th>price</th>\n      <th>currency</th>\n      <th>price_aprox_local_currency</th>\n      <th>price_aprox_usd</th>\n      <th>surface_total_in_m2</th>\n      <th>surface_covered_in_m2</th>\n      <th>price_usd_per_m2</th>\n      <th>price_per_m2</th>\n      <th>floor</th>\n      <th>rooms</th>\n    </tr>\n  </thead>\n  <tbody>\n    <tr>\n      <th>73255</th>\n      <td>apartment</td>\n      <td>Nuñez</td>\n      <td>NaN</td>\n      <td>NaN</td>\n      <td>NaN</td>\n      <td>NaN</td>\n      <td>55.0</td>\n      <td>NaN</td>\n      <td>NaN</td>\n      <td>NaN</td>\n      <td>NaN</td>\n      <td>NaN</td>\n    </tr>\n    <tr>\n      <th>20825</th>\n      <td>apartment</td>\n      <td>Parque Chacabuco</td>\n      <td>3359279.0</td>\n      <td>ARS</td>\n      <td>3324236.32</td>\n      <td>188400.71</td>\n      <td>NaN</td>\n      <td>116.0</td>\n      <td>NaN</td>\n      <td>28959.301724</td>\n      <td>2.0</td>\n      <td>3.0</td>\n    </tr>\n    <tr>\n      <th>120782</th>\n      <td>apartment</td>\n      <td>Palermo</td>\n      <td>NaN</td>\n      <td>NaN</td>\n      <td>NaN</td>\n      <td>NaN</td>\n      <td>52.0</td>\n      <td>50.0</td>\n      <td>NaN</td>\n      <td>NaN</td>\n      <td>NaN</td>\n      <td>NaN</td>\n    </tr>\n    <tr>\n      <th>84710</th>\n      <td>apartment</td>\n      <td>Palermo</td>\n      <td>NaN</td>\n      <td>NaN</td>\n      <td>NaN</td>\n      <td>NaN</td>\n      <td>130.0</td>\n      <td>112.0</td>\n      <td>NaN</td>\n      <td>NaN</td>\n      <td>NaN</td>\n      <td>NaN</td>\n    </tr>\n    <tr>\n      <th>1888</th>\n      <td>apartment</td>\n      <td>Monte Castro</td>\n      <td>NaN</td>\n      <td>NaN</td>\n      <td>NaN</td>\n      <td>NaN</td>\n      <td>37.0</td>\n      <td>33.0</td>\n      <td>NaN</td>\n      <td>NaN</td>\n      <td>NaN</td>\n      <td>NaN</td>\n    </tr>\n    <tr>\n      <th>78330</th>\n      <td>apartment</td>\n      <td>Belgrano</td>\n      <td>5122951.0</td>\n      <td>ARS</td>\n      <td>5069510.46</td>\n      <td>287313.92</td>\n      <td>60.0</td>\n      <td>52.0</td>\n      <td>4788.565333</td>\n      <td>98518.288462</td>\n      <td>NaN</td>\n      <td>NaN</td>\n    </tr>\n    <tr>\n      <th>118036</th>\n      <td>apartment</td>\n      <td>Villa Crespo</td>\n      <td>NaN</td>\n      <td>NaN</td>\n      <td>NaN</td>\n      <td>NaN</td>\n      <td>83.0</td>\n      <td>64.0</td>\n      <td>NaN</td>\n      <td>NaN</td>\n      <td>NaN</td>\n      <td>NaN</td>\n    </tr>\n    <tr>\n      <th>1798</th>\n      <td>apartment</td>\n      <td>Almagro</td>\n      <td>NaN</td>\n      <td>NaN</td>\n      <td>NaN</td>\n      <td>NaN</td>\n      <td>22.0</td>\n      <td>NaN</td>\n      <td>NaN</td>\n      <td>NaN</td>\n      <td>NaN</td>\n      <td>NaN</td>\n    </tr>\n    <tr>\n      <th>89936</th>\n      <td>apartment</td>\n      <td>Palermo Soho</td>\n      <td>NaN</td>\n      <td>NaN</td>\n      <td>NaN</td>\n      <td>NaN</td>\n      <td>75.0</td>\n      <td>67.0</td>\n      <td>NaN</td>\n      <td>NaN</td>\n      <td>NaN</td>\n      <td>NaN</td>\n    </tr>\n    <tr>\n      <th>88053</th>\n      <td>apartment</td>\n      <td>Villa Urquiza</td>\n      <td>NaN</td>\n      <td>NaN</td>\n      <td>NaN</td>\n      <td>NaN</td>\n      <td>40.0</td>\n      <td>31.0</td>\n      <td>NaN</td>\n      <td>NaN</td>\n      <td>NaN</td>\n      <td>NaN</td>\n    </tr>\n    <tr>\n      <th>73363</th>\n      <td>apartment</td>\n      <td>Saavedra</td>\n      <td>NaN</td>\n      <td>NaN</td>\n      <td>NaN</td>\n      <td>NaN</td>\n      <td>79.0</td>\n      <td>NaN</td>\n      <td>NaN</td>\n      <td>NaN</td>\n      <td>NaN</td>\n      <td>NaN</td>\n    </tr>\n    <tr>\n      <th>118042</th>\n      <td>apartment</td>\n      <td>Villa Crespo</td>\n      <td>NaN</td>\n      <td>NaN</td>\n      <td>NaN</td>\n      <td>NaN</td>\n      <td>62.0</td>\n      <td>46.0</td>\n      <td>NaN</td>\n      <td>NaN</td>\n      <td>NaN</td>\n      <td>NaN</td>\n    </tr>\n    <tr>\n      <th>96548</th>\n      <td>apartment</td>\n      <td>Belgrano</td>\n      <td>NaN</td>\n      <td>NaN</td>\n      <td>NaN</td>\n      <td>NaN</td>\n      <td>310.0</td>\n      <td>290.0</td>\n      <td>NaN</td>\n      <td>NaN</td>\n      <td>NaN</td>\n      <td>NaN</td>\n    </tr>\n    <tr>\n      <th>85616</th>\n      <td>apartment</td>\n      <td>San Telmo</td>\n      <td>1660982.0</td>\n      <td>ARS</td>\n      <td>1643655.22</td>\n      <td>93153.97</td>\n      <td>33.0</td>\n      <td>24.0</td>\n      <td>2822.847576</td>\n      <td>69207.583333</td>\n      <td>NaN</td>\n      <td>NaN</td>\n    </tr>\n    <tr>\n      <th>89994</th>\n      <td>apartment</td>\n      <td>Palermo Soho</td>\n      <td>NaN</td>\n      <td>NaN</td>\n      <td>NaN</td>\n      <td>NaN</td>\n      <td>47.0</td>\n      <td>43.0</td>\n      <td>NaN</td>\n      <td>NaN</td>\n      <td>NaN</td>\n      <td>NaN</td>\n    </tr>\n    <tr>\n      <th>96847</th>\n      <td>apartment</td>\n      <td>Floresta</td>\n      <td>NaN</td>\n      <td>NaN</td>\n      <td>NaN</td>\n      <td>NaN</td>\n      <td>41.0</td>\n      <td>39.0</td>\n      <td>NaN</td>\n      <td>NaN</td>\n      <td>NaN</td>\n      <td>NaN</td>\n    </tr>\n    <tr>\n      <th>75671</th>\n      <td>apartment</td>\n      <td>Caballito</td>\n      <td>NaN</td>\n      <td>NaN</td>\n      <td>NaN</td>\n      <td>NaN</td>\n      <td>63.0</td>\n      <td>56.0</td>\n      <td>NaN</td>\n      <td>NaN</td>\n      <td>NaN</td>\n      <td>NaN</td>\n    </tr>\n    <tr>\n      <th>16388</th>\n      <td>apartment</td>\n      <td>Congreso</td>\n      <td>NaN</td>\n      <td>NaN</td>\n      <td>NaN</td>\n      <td>NaN</td>\n      <td>39.0</td>\n      <td>39.0</td>\n      <td>NaN</td>\n      <td>NaN</td>\n      <td>NaN</td>\n      <td>1.0</td>\n    </tr>\n    <tr>\n      <th>109190</th>\n      <td>apartment</td>\n      <td>Belgrano</td>\n      <td>NaN</td>\n      <td>NaN</td>\n      <td>NaN</td>\n      <td>NaN</td>\n      <td>97.0</td>\n      <td>82.0</td>\n      <td>NaN</td>\n      <td>NaN</td>\n      <td>NaN</td>\n      <td>NaN</td>\n    </tr>\n    <tr>\n      <th>89375</th>\n      <td>apartment</td>\n      <td>Palermo</td>\n      <td>NaN</td>\n      <td>NaN</td>\n      <td>NaN</td>\n      <td>NaN</td>\n      <td>51.0</td>\n      <td>47.0</td>\n      <td>NaN</td>\n      <td>NaN</td>\n      <td>NaN</td>\n      <td>NaN</td>\n    </tr>\n  </tbody>\n</table>\n</div>"
     },
     "metadata": {}
    }
   ],
   "source": [
    "# 1. Verificamos que el price y el price_aprox_usd sean los mismos, y luego si fuera así dropeamos el price_aprox_usd\n",
    "\n",
    "mask_price_validation = data_caba.price != data_caba.price_aprox_usd\n",
    "\n",
    "display(data_caba.loc[mask_price_validation, :].shape)\n",
    "\n",
    "# Detectamos que hay 4138 propiedades donde los valores son diferentes? pero estan en Pesos o son NaN?\n",
    "\n",
    "display(data_caba.loc[mask_price_validation, :].sample(20))\n",
    "\n",
    "# Detectamos que tenemos los dos casos, donde los precios son NaN y donde la moneda está en ARS (lo cual no estaría mal)\n",
    "# En el caso de ARS, vemos que el valor de price toma el de la moneda local ~ Por lo que podriamos llegar a eliminar price, currency y price_aprox_local_currency \n",
    "\n",
    "# Para los valores de NaN tendriamos que tomar la decisión si los dropeamos o tratamos de calcular un precio promedio en base a la cantidad de metros cuadrados. Podemos hacerlo en base al calculo que realizamos en el Desafio 1 ??"
   ]
  },
  {
   "cell_type": "code",
   "execution_count": 115,
   "metadata": {},
   "outputs": [
    {
     "output_type": "display_data",
     "data": {
      "text/plain": "(1035, 12)"
     },
     "metadata": {}
    },
    {
     "output_type": "display_data",
     "data": {
      "text/plain": "(23075, 12)"
     },
     "metadata": {}
    },
    {
     "output_type": "display_data",
     "data": {
      "text/plain": "       property_type     place_name      price currency  \\\n19479      apartment         Flores  1700000.0      ARS   \n92381      apartment         Abasto  1564000.0      ARS   \n91665      apartment       Belgrano  7316549.0      ARS   \n120404     apartment      San Telmo  1456400.0      ARS   \n35639      apartment  San Cristobal  2872670.0      ARS   \n42263      apartment        Almagro  1363000.0      ARS   \n112333     apartment      San Telmo  1234400.0      ARS   \n118761     apartment  Villa Urquiza  1821887.0      ARS   \n120387     apartment      San Telmo  1275500.0      ARS   \n120376     apartment      San Telmo  1419600.0      ARS   \n74843      apartment       Belgrano  7088431.0      ARS   \n79500      apartment       Belgrano  6720340.0      ARS   \n105276     apartment          Boedo  1485000.0      ARS   \n366        apartment       Paternal  1176525.0      ARS   \n44525      apartment  Villa Urquiza  1793610.0      ARS   \n86785      apartment           Boca  1535012.0      ARS   \n91785      apartment  San Cristobal  1701000.0      ARS   \n112253     apartment   Villa Crespo  2102964.0      ARS   \n19474      apartment         Flores  1768000.0      ARS   \n42555      apartment  Villa Urquiza  6443970.0      ARS   \n\n        price_aprox_local_currency  price_aprox_usd  surface_total_in_m2  \\\n19479                   1682266.33         95342.25                 48.0   \n92381                   1547685.02         87714.87                 65.0   \n91665                   7240225.77        410338.96                114.0   \n120404                  1441207.34         81680.26                 38.0   \n35639                   2842703.45        161109.89                 86.0   \n42263                   1348781.75         76442.05                 31.0   \n112333                  1221523.26         69229.69                 34.0   \n118761                  1802881.83        102178.12                 35.0   \n120387                  1262194.36         71534.72                 34.0   \n120376                  1404791.21         79616.38                 34.0   \n74843                   7014487.51        397545.27                 89.0   \n79500                   6650236.22        376901.37                 88.0   \n105276                  1469509.12         83284.26                 32.0   \n366                     1164251.86         65983.84                 28.0   \n44525                   1774899.77        100592.24                 43.0   \n86785                   1518999.30         86089.11                 40.0   \n91785                   1683255.83         95398.33                 45.0   \n112253                  2081026.73        117941.95                 33.0   \n19474                   1749556.98         99155.94                 51.0   \n42555                   6376749.29        361401.53                122.0   \n\n        surface_covered_in_m2  price_usd_per_m2   price_per_m2  floor  rooms  \n19479                    45.0       1986.296875   37777.777778    1.0    2.0  \n92381                    60.0       1349.459538   26066.666667    NaN    NaN  \n91665                    97.0       3599.464561   75428.340206    NaN    NaN  \n120404                   35.0       2149.480526   41611.428571    NaN    NaN  \n35639                    86.0       1873.370814   33403.139535    NaN    NaN  \n42263                    31.0       2465.872581   43967.741935    NaN    2.0  \n112333                   31.0       2036.167353   39819.354839    NaN    NaN  \n118761                   32.0       2919.374857   56933.968750    NaN    NaN  \n120387                   31.0       2103.962353   41145.161290    NaN    NaN  \n120376                   31.0       2341.658235   45793.548387    NaN    NaN  \n74843                    68.0       4466.800787  104241.632353    NaN    NaN  \n79500                    70.0       4282.970114   96004.857143    NaN    NaN  \n105276                   27.0       2602.633125   55000.000000    NaN    NaN  \n366                      28.0       2356.565714   42018.750000    8.0    NaN  \n44525                    38.0       2339.354419   47200.263158    NaN    1.0  \n86785                    37.0       2152.227750   41486.810811    NaN    NaN  \n91785                    41.0       2119.962889   41487.804878    NaN    NaN  \n112253                   28.0       3573.998485   75105.857143    NaN    NaN  \n19474                    47.0       1944.234118   37617.021277    1.0    2.0  \n42555                    97.0       2962.307623   66432.680412    NaN    4.0  ",
      "text/html": "<div>\n<style scoped>\n    .dataframe tbody tr th:only-of-type {\n        vertical-align: middle;\n    }\n\n    .dataframe tbody tr th {\n        vertical-align: top;\n    }\n\n    .dataframe thead th {\n        text-align: right;\n    }\n</style>\n<table border=\"1\" class=\"dataframe\">\n  <thead>\n    <tr style=\"text-align: right;\">\n      <th></th>\n      <th>property_type</th>\n      <th>place_name</th>\n      <th>price</th>\n      <th>currency</th>\n      <th>price_aprox_local_currency</th>\n      <th>price_aprox_usd</th>\n      <th>surface_total_in_m2</th>\n      <th>surface_covered_in_m2</th>\n      <th>price_usd_per_m2</th>\n      <th>price_per_m2</th>\n      <th>floor</th>\n      <th>rooms</th>\n    </tr>\n  </thead>\n  <tbody>\n    <tr>\n      <th>19479</th>\n      <td>apartment</td>\n      <td>Flores</td>\n      <td>1700000.0</td>\n      <td>ARS</td>\n      <td>1682266.33</td>\n      <td>95342.25</td>\n      <td>48.0</td>\n      <td>45.0</td>\n      <td>1986.296875</td>\n      <td>37777.777778</td>\n      <td>1.0</td>\n      <td>2.0</td>\n    </tr>\n    <tr>\n      <th>92381</th>\n      <td>apartment</td>\n      <td>Abasto</td>\n      <td>1564000.0</td>\n      <td>ARS</td>\n      <td>1547685.02</td>\n      <td>87714.87</td>\n      <td>65.0</td>\n      <td>60.0</td>\n      <td>1349.459538</td>\n      <td>26066.666667</td>\n      <td>NaN</td>\n      <td>NaN</td>\n    </tr>\n    <tr>\n      <th>91665</th>\n      <td>apartment</td>\n      <td>Belgrano</td>\n      <td>7316549.0</td>\n      <td>ARS</td>\n      <td>7240225.77</td>\n      <td>410338.96</td>\n      <td>114.0</td>\n      <td>97.0</td>\n      <td>3599.464561</td>\n      <td>75428.340206</td>\n      <td>NaN</td>\n      <td>NaN</td>\n    </tr>\n    <tr>\n      <th>120404</th>\n      <td>apartment</td>\n      <td>San Telmo</td>\n      <td>1456400.0</td>\n      <td>ARS</td>\n      <td>1441207.34</td>\n      <td>81680.26</td>\n      <td>38.0</td>\n      <td>35.0</td>\n      <td>2149.480526</td>\n      <td>41611.428571</td>\n      <td>NaN</td>\n      <td>NaN</td>\n    </tr>\n    <tr>\n      <th>35639</th>\n      <td>apartment</td>\n      <td>San Cristobal</td>\n      <td>2872670.0</td>\n      <td>ARS</td>\n      <td>2842703.45</td>\n      <td>161109.89</td>\n      <td>86.0</td>\n      <td>86.0</td>\n      <td>1873.370814</td>\n      <td>33403.139535</td>\n      <td>NaN</td>\n      <td>NaN</td>\n    </tr>\n    <tr>\n      <th>42263</th>\n      <td>apartment</td>\n      <td>Almagro</td>\n      <td>1363000.0</td>\n      <td>ARS</td>\n      <td>1348781.75</td>\n      <td>76442.05</td>\n      <td>31.0</td>\n      <td>31.0</td>\n      <td>2465.872581</td>\n      <td>43967.741935</td>\n      <td>NaN</td>\n      <td>2.0</td>\n    </tr>\n    <tr>\n      <th>112333</th>\n      <td>apartment</td>\n      <td>San Telmo</td>\n      <td>1234400.0</td>\n      <td>ARS</td>\n      <td>1221523.26</td>\n      <td>69229.69</td>\n      <td>34.0</td>\n      <td>31.0</td>\n      <td>2036.167353</td>\n      <td>39819.354839</td>\n      <td>NaN</td>\n      <td>NaN</td>\n    </tr>\n    <tr>\n      <th>118761</th>\n      <td>apartment</td>\n      <td>Villa Urquiza</td>\n      <td>1821887.0</td>\n      <td>ARS</td>\n      <td>1802881.83</td>\n      <td>102178.12</td>\n      <td>35.0</td>\n      <td>32.0</td>\n      <td>2919.374857</td>\n      <td>56933.968750</td>\n      <td>NaN</td>\n      <td>NaN</td>\n    </tr>\n    <tr>\n      <th>120387</th>\n      <td>apartment</td>\n      <td>San Telmo</td>\n      <td>1275500.0</td>\n      <td>ARS</td>\n      <td>1262194.36</td>\n      <td>71534.72</td>\n      <td>34.0</td>\n      <td>31.0</td>\n      <td>2103.962353</td>\n      <td>41145.161290</td>\n      <td>NaN</td>\n      <td>NaN</td>\n    </tr>\n    <tr>\n      <th>120376</th>\n      <td>apartment</td>\n      <td>San Telmo</td>\n      <td>1419600.0</td>\n      <td>ARS</td>\n      <td>1404791.21</td>\n      <td>79616.38</td>\n      <td>34.0</td>\n      <td>31.0</td>\n      <td>2341.658235</td>\n      <td>45793.548387</td>\n      <td>NaN</td>\n      <td>NaN</td>\n    </tr>\n    <tr>\n      <th>74843</th>\n      <td>apartment</td>\n      <td>Belgrano</td>\n      <td>7088431.0</td>\n      <td>ARS</td>\n      <td>7014487.51</td>\n      <td>397545.27</td>\n      <td>89.0</td>\n      <td>68.0</td>\n      <td>4466.800787</td>\n      <td>104241.632353</td>\n      <td>NaN</td>\n      <td>NaN</td>\n    </tr>\n    <tr>\n      <th>79500</th>\n      <td>apartment</td>\n      <td>Belgrano</td>\n      <td>6720340.0</td>\n      <td>ARS</td>\n      <td>6650236.22</td>\n      <td>376901.37</td>\n      <td>88.0</td>\n      <td>70.0</td>\n      <td>4282.970114</td>\n      <td>96004.857143</td>\n      <td>NaN</td>\n      <td>NaN</td>\n    </tr>\n    <tr>\n      <th>105276</th>\n      <td>apartment</td>\n      <td>Boedo</td>\n      <td>1485000.0</td>\n      <td>ARS</td>\n      <td>1469509.12</td>\n      <td>83284.26</td>\n      <td>32.0</td>\n      <td>27.0</td>\n      <td>2602.633125</td>\n      <td>55000.000000</td>\n      <td>NaN</td>\n      <td>NaN</td>\n    </tr>\n    <tr>\n      <th>366</th>\n      <td>apartment</td>\n      <td>Paternal</td>\n      <td>1176525.0</td>\n      <td>ARS</td>\n      <td>1164251.86</td>\n      <td>65983.84</td>\n      <td>28.0</td>\n      <td>28.0</td>\n      <td>2356.565714</td>\n      <td>42018.750000</td>\n      <td>8.0</td>\n      <td>NaN</td>\n    </tr>\n    <tr>\n      <th>44525</th>\n      <td>apartment</td>\n      <td>Villa Urquiza</td>\n      <td>1793610.0</td>\n      <td>ARS</td>\n      <td>1774899.77</td>\n      <td>100592.24</td>\n      <td>43.0</td>\n      <td>38.0</td>\n      <td>2339.354419</td>\n      <td>47200.263158</td>\n      <td>NaN</td>\n      <td>1.0</td>\n    </tr>\n    <tr>\n      <th>86785</th>\n      <td>apartment</td>\n      <td>Boca</td>\n      <td>1535012.0</td>\n      <td>ARS</td>\n      <td>1518999.30</td>\n      <td>86089.11</td>\n      <td>40.0</td>\n      <td>37.0</td>\n      <td>2152.227750</td>\n      <td>41486.810811</td>\n      <td>NaN</td>\n      <td>NaN</td>\n    </tr>\n    <tr>\n      <th>91785</th>\n      <td>apartment</td>\n      <td>San Cristobal</td>\n      <td>1701000.0</td>\n      <td>ARS</td>\n      <td>1683255.83</td>\n      <td>95398.33</td>\n      <td>45.0</td>\n      <td>41.0</td>\n      <td>2119.962889</td>\n      <td>41487.804878</td>\n      <td>NaN</td>\n      <td>NaN</td>\n    </tr>\n    <tr>\n      <th>112253</th>\n      <td>apartment</td>\n      <td>Villa Crespo</td>\n      <td>2102964.0</td>\n      <td>ARS</td>\n      <td>2081026.73</td>\n      <td>117941.95</td>\n      <td>33.0</td>\n      <td>28.0</td>\n      <td>3573.998485</td>\n      <td>75105.857143</td>\n      <td>NaN</td>\n      <td>NaN</td>\n    </tr>\n    <tr>\n      <th>19474</th>\n      <td>apartment</td>\n      <td>Flores</td>\n      <td>1768000.0</td>\n      <td>ARS</td>\n      <td>1749556.98</td>\n      <td>99155.94</td>\n      <td>51.0</td>\n      <td>47.0</td>\n      <td>1944.234118</td>\n      <td>37617.021277</td>\n      <td>1.0</td>\n      <td>2.0</td>\n    </tr>\n    <tr>\n      <th>42555</th>\n      <td>apartment</td>\n      <td>Villa Urquiza</td>\n      <td>6443970.0</td>\n      <td>ARS</td>\n      <td>6376749.29</td>\n      <td>361401.53</td>\n      <td>122.0</td>\n      <td>97.0</td>\n      <td>2962.307623</td>\n      <td>66432.680412</td>\n      <td>NaN</td>\n      <td>4.0</td>\n    </tr>\n  </tbody>\n</table>\n</div>"
     },
     "metadata": {}
    }
   ],
   "source": [
    "# Elimino primero los registros donde no tengo nada de informacion. \n",
    "\n",
    "umbral = 10\n",
    "data_caba.dropna(axis = 0, thresh=umbral, inplace=True)\n",
    "# OJO que utilizando umbral de 10 se fueron casi 10000 datos incompletos.\n",
    "\n",
    "# Vuelvo a ver como quedaron los datos\n",
    "mask_price_validation = data_caba.price != data_caba.price_aprox_usd\n",
    "display(data_caba.loc[mask_price_validation, :].shape)\n",
    "\n",
    "display(data_caba.shape)\n",
    "display(data_caba.loc[mask_price_validation, :].sample(20))\n"
   ]
  },
  {
   "cell_type": "code",
   "execution_count": 116,
   "metadata": {},
   "outputs": [
    {
     "output_type": "execute_result",
     "data": {
      "text/plain": [
       "       property_type        place_name     price currency  \\\n",
       "117312     apartment           Coghlan  101100.0      USD   \n",
       "114434     apartment          Paternal   95000.0      USD   \n",
       "70634      apartment      Constitución   76400.0      USD   \n",
       "50097      apartment             Nuñez  240000.0      USD   \n",
       "12298      apartment        Villa Luro  300000.0      USD   \n",
       "113435     apartment     Puerto Madero  550000.0      USD   \n",
       "48848      apartment         San Telmo   38205.0      USD   \n",
       "88526          store  Villa del Parque  399000.0      ARS   \n",
       "78880      apartment          Belgrano  115000.0      USD   \n",
       "41484      apartment      Monte Castro   88000.0      USD   \n",
       "\n",
       "        price_aprox_local_currency  price_aprox_usd  surface_total_in_m2  \\\n",
       "117312                  1783858.95        101100.00                 38.0   \n",
       "114434                  1676227.50         95000.00                 56.0   \n",
       "70634                   1348039.80         76400.00                 30.0   \n",
       "50097                   4234680.00        240000.00                 55.0   \n",
       "12298                   5293350.00        300000.00                150.0   \n",
       "113435                  9704475.00        550000.00                 89.0   \n",
       "48848                    674108.12         38205.00                 38.0   \n",
       "88526                    394837.68         22377.38                246.0   \n",
       "78880                   2029117.50        115000.00                 37.0   \n",
       "41484                   1552716.00         88000.00                 40.0   \n",
       "\n",
       "        surface_covered_in_m2  price_usd_per_m2  price_per_m2  floor  rooms  \n",
       "117312                   33.0       2660.526316   3063.636364    NaN    NaN  \n",
       "114434                   53.0       1696.428571   1792.452830    NaN    3.0  \n",
       "70634                    26.0       2546.666667   2938.461538    NaN    NaN  \n",
       "50097                    50.0       4363.636364   4800.000000    NaN    2.0  \n",
       "12298                   150.0       2000.000000   2000.000000    1.0    4.0  \n",
       "113435                   89.0       6179.775281   6179.775281    NaN    3.0  \n",
       "48848                    32.0       1005.394737   1193.906250    NaN    1.0  \n",
       "88526                   246.0         90.964959   1621.951220    NaN    NaN  \n",
       "78880                    30.0       3108.108108   3833.333333    NaN    NaN  \n",
       "41484                     NaN       2200.000000           NaN    7.0    1.0  "
      ],
      "text/html": "<div>\n<style scoped>\n    .dataframe tbody tr th:only-of-type {\n        vertical-align: middle;\n    }\n\n    .dataframe tbody tr th {\n        vertical-align: top;\n    }\n\n    .dataframe thead th {\n        text-align: right;\n    }\n</style>\n<table border=\"1\" class=\"dataframe\">\n  <thead>\n    <tr style=\"text-align: right;\">\n      <th></th>\n      <th>property_type</th>\n      <th>place_name</th>\n      <th>price</th>\n      <th>currency</th>\n      <th>price_aprox_local_currency</th>\n      <th>price_aprox_usd</th>\n      <th>surface_total_in_m2</th>\n      <th>surface_covered_in_m2</th>\n      <th>price_usd_per_m2</th>\n      <th>price_per_m2</th>\n      <th>floor</th>\n      <th>rooms</th>\n    </tr>\n  </thead>\n  <tbody>\n    <tr>\n      <th>117312</th>\n      <td>apartment</td>\n      <td>Coghlan</td>\n      <td>101100.0</td>\n      <td>USD</td>\n      <td>1783858.95</td>\n      <td>101100.00</td>\n      <td>38.0</td>\n      <td>33.0</td>\n      <td>2660.526316</td>\n      <td>3063.636364</td>\n      <td>NaN</td>\n      <td>NaN</td>\n    </tr>\n    <tr>\n      <th>114434</th>\n      <td>apartment</td>\n      <td>Paternal</td>\n      <td>95000.0</td>\n      <td>USD</td>\n      <td>1676227.50</td>\n      <td>95000.00</td>\n      <td>56.0</td>\n      <td>53.0</td>\n      <td>1696.428571</td>\n      <td>1792.452830</td>\n      <td>NaN</td>\n      <td>3.0</td>\n    </tr>\n    <tr>\n      <th>70634</th>\n      <td>apartment</td>\n      <td>Constitución</td>\n      <td>76400.0</td>\n      <td>USD</td>\n      <td>1348039.80</td>\n      <td>76400.00</td>\n      <td>30.0</td>\n      <td>26.0</td>\n      <td>2546.666667</td>\n      <td>2938.461538</td>\n      <td>NaN</td>\n      <td>NaN</td>\n    </tr>\n    <tr>\n      <th>50097</th>\n      <td>apartment</td>\n      <td>Nuñez</td>\n      <td>240000.0</td>\n      <td>USD</td>\n      <td>4234680.00</td>\n      <td>240000.00</td>\n      <td>55.0</td>\n      <td>50.0</td>\n      <td>4363.636364</td>\n      <td>4800.000000</td>\n      <td>NaN</td>\n      <td>2.0</td>\n    </tr>\n    <tr>\n      <th>12298</th>\n      <td>apartment</td>\n      <td>Villa Luro</td>\n      <td>300000.0</td>\n      <td>USD</td>\n      <td>5293350.00</td>\n      <td>300000.00</td>\n      <td>150.0</td>\n      <td>150.0</td>\n      <td>2000.000000</td>\n      <td>2000.000000</td>\n      <td>1.0</td>\n      <td>4.0</td>\n    </tr>\n    <tr>\n      <th>113435</th>\n      <td>apartment</td>\n      <td>Puerto Madero</td>\n      <td>550000.0</td>\n      <td>USD</td>\n      <td>9704475.00</td>\n      <td>550000.00</td>\n      <td>89.0</td>\n      <td>89.0</td>\n      <td>6179.775281</td>\n      <td>6179.775281</td>\n      <td>NaN</td>\n      <td>3.0</td>\n    </tr>\n    <tr>\n      <th>48848</th>\n      <td>apartment</td>\n      <td>San Telmo</td>\n      <td>38205.0</td>\n      <td>USD</td>\n      <td>674108.12</td>\n      <td>38205.00</td>\n      <td>38.0</td>\n      <td>32.0</td>\n      <td>1005.394737</td>\n      <td>1193.906250</td>\n      <td>NaN</td>\n      <td>1.0</td>\n    </tr>\n    <tr>\n      <th>88526</th>\n      <td>store</td>\n      <td>Villa del Parque</td>\n      <td>399000.0</td>\n      <td>ARS</td>\n      <td>394837.68</td>\n      <td>22377.38</td>\n      <td>246.0</td>\n      <td>246.0</td>\n      <td>90.964959</td>\n      <td>1621.951220</td>\n      <td>NaN</td>\n      <td>NaN</td>\n    </tr>\n    <tr>\n      <th>78880</th>\n      <td>apartment</td>\n      <td>Belgrano</td>\n      <td>115000.0</td>\n      <td>USD</td>\n      <td>2029117.50</td>\n      <td>115000.00</td>\n      <td>37.0</td>\n      <td>30.0</td>\n      <td>3108.108108</td>\n      <td>3833.333333</td>\n      <td>NaN</td>\n      <td>NaN</td>\n    </tr>\n    <tr>\n      <th>41484</th>\n      <td>apartment</td>\n      <td>Monte Castro</td>\n      <td>88000.0</td>\n      <td>USD</td>\n      <td>1552716.00</td>\n      <td>88000.00</td>\n      <td>40.0</td>\n      <td>NaN</td>\n      <td>2200.000000</td>\n      <td>NaN</td>\n      <td>7.0</td>\n      <td>1.0</td>\n    </tr>\n  </tbody>\n</table>\n</div>"
     },
     "metadata": {},
     "execution_count": 116
    }
   ],
   "source": [
    "# Para la superficie de metros cuadadros totales, podemos creer que en caso de ser Nan es porque es un departamente y la cantidad de m2 cubierta sería iguala la cantidad de m2 totales.data_caba\n",
    "\n",
    "\n",
    "data_caba.surface_total_in_m2.fillna(data_caba.surface_covered_in_m2, inplace=True)\n",
    "\n",
    "data_caba.sample(10)"
   ]
  },
  {
   "cell_type": "code",
   "execution_count": 117,
   "metadata": {},
   "outputs": [
    {
     "output_type": "execute_result",
     "data": {
      "text/plain": [
       "      property_type            place_name      price currency  \\\n",
       "62848     apartment  Centro / Microcentro    78141.0      USD   \n",
       "52213     apartment                 Nuñez   480000.0      USD   \n",
       "87961     apartment      Parque Patricios   121482.0      USD   \n",
       "83749     apartment         Puerto Madero  2950000.0      USD   \n",
       "82707            PH      Villa Pueyrredón   220000.0      USD   \n",
       "60720         house         Villa Urquiza   360000.0      USD   \n",
       "88387            PH                Flores   135000.0      USD   \n",
       "52009         store      Parque Patricios   650000.0      USD   \n",
       "80052     apartment               Almagro   120000.0      USD   \n",
       "32973         store             Balvanera  1200000.0      USD   \n",
       "\n",
       "       price_aprox_local_currency  price_aprox_usd  surface_total_in_m2  \\\n",
       "62848                  1378758.87          78141.0                 32.0   \n",
       "52213                  8469360.00         480000.0                282.0   \n",
       "87961                  2143489.14         121482.0                 60.0   \n",
       "83749                 52051275.00        2950000.0                460.0   \n",
       "82707                  3881790.00         220000.0                120.0   \n",
       "60720                  6352020.00         360000.0                195.0   \n",
       "88387                  2382007.50         135000.0                 70.0   \n",
       "52009                 11468925.00         650000.0                141.0   \n",
       "80052                  2117340.00         120000.0                 73.0   \n",
       "32973                 21173400.00        1200000.0                216.0   \n",
       "\n",
       "       surface_covered_in_m2  price_usd_per_m2  price_per_m2  floor  rooms  \n",
       "62848                   27.0       2441.906250   2894.111111    NaN    1.0  \n",
       "52213                  282.0               NaN   1702.127660    7.0    5.0  \n",
       "87961                   41.0       2024.700000   2962.975610    NaN    NaN  \n",
       "83749                  354.0       6413.043478   8333.333333    NaN    NaN  \n",
       "82707                  100.0       1833.333333   2200.000000    NaN    NaN  \n",
       "60720                  158.0       1846.153846   2278.481013    NaN    4.0  \n",
       "88387                   65.0       1928.571429   2076.923077    NaN    NaN  \n",
       "52009                  141.0       4609.929078   4609.929078    NaN    NaN  \n",
       "80052                   52.0       1643.835616   2307.692308    NaN    NaN  \n",
       "32973                  216.0       5555.555556   5555.555556    NaN    NaN  "
      ],
      "text/html": "<div>\n<style scoped>\n    .dataframe tbody tr th:only-of-type {\n        vertical-align: middle;\n    }\n\n    .dataframe tbody tr th {\n        vertical-align: top;\n    }\n\n    .dataframe thead th {\n        text-align: right;\n    }\n</style>\n<table border=\"1\" class=\"dataframe\">\n  <thead>\n    <tr style=\"text-align: right;\">\n      <th></th>\n      <th>property_type</th>\n      <th>place_name</th>\n      <th>price</th>\n      <th>currency</th>\n      <th>price_aprox_local_currency</th>\n      <th>price_aprox_usd</th>\n      <th>surface_total_in_m2</th>\n      <th>surface_covered_in_m2</th>\n      <th>price_usd_per_m2</th>\n      <th>price_per_m2</th>\n      <th>floor</th>\n      <th>rooms</th>\n    </tr>\n  </thead>\n  <tbody>\n    <tr>\n      <th>62848</th>\n      <td>apartment</td>\n      <td>Centro / Microcentro</td>\n      <td>78141.0</td>\n      <td>USD</td>\n      <td>1378758.87</td>\n      <td>78141.0</td>\n      <td>32.0</td>\n      <td>27.0</td>\n      <td>2441.906250</td>\n      <td>2894.111111</td>\n      <td>NaN</td>\n      <td>1.0</td>\n    </tr>\n    <tr>\n      <th>52213</th>\n      <td>apartment</td>\n      <td>Nuñez</td>\n      <td>480000.0</td>\n      <td>USD</td>\n      <td>8469360.00</td>\n      <td>480000.0</td>\n      <td>282.0</td>\n      <td>282.0</td>\n      <td>NaN</td>\n      <td>1702.127660</td>\n      <td>7.0</td>\n      <td>5.0</td>\n    </tr>\n    <tr>\n      <th>87961</th>\n      <td>apartment</td>\n      <td>Parque Patricios</td>\n      <td>121482.0</td>\n      <td>USD</td>\n      <td>2143489.14</td>\n      <td>121482.0</td>\n      <td>60.0</td>\n      <td>41.0</td>\n      <td>2024.700000</td>\n      <td>2962.975610</td>\n      <td>NaN</td>\n      <td>NaN</td>\n    </tr>\n    <tr>\n      <th>83749</th>\n      <td>apartment</td>\n      <td>Puerto Madero</td>\n      <td>2950000.0</td>\n      <td>USD</td>\n      <td>52051275.00</td>\n      <td>2950000.0</td>\n      <td>460.0</td>\n      <td>354.0</td>\n      <td>6413.043478</td>\n      <td>8333.333333</td>\n      <td>NaN</td>\n      <td>NaN</td>\n    </tr>\n    <tr>\n      <th>82707</th>\n      <td>PH</td>\n      <td>Villa Pueyrredón</td>\n      <td>220000.0</td>\n      <td>USD</td>\n      <td>3881790.00</td>\n      <td>220000.0</td>\n      <td>120.0</td>\n      <td>100.0</td>\n      <td>1833.333333</td>\n      <td>2200.000000</td>\n      <td>NaN</td>\n      <td>NaN</td>\n    </tr>\n    <tr>\n      <th>60720</th>\n      <td>house</td>\n      <td>Villa Urquiza</td>\n      <td>360000.0</td>\n      <td>USD</td>\n      <td>6352020.00</td>\n      <td>360000.0</td>\n      <td>195.0</td>\n      <td>158.0</td>\n      <td>1846.153846</td>\n      <td>2278.481013</td>\n      <td>NaN</td>\n      <td>4.0</td>\n    </tr>\n    <tr>\n      <th>88387</th>\n      <td>PH</td>\n      <td>Flores</td>\n      <td>135000.0</td>\n      <td>USD</td>\n      <td>2382007.50</td>\n      <td>135000.0</td>\n      <td>70.0</td>\n      <td>65.0</td>\n      <td>1928.571429</td>\n      <td>2076.923077</td>\n      <td>NaN</td>\n      <td>NaN</td>\n    </tr>\n    <tr>\n      <th>52009</th>\n      <td>store</td>\n      <td>Parque Patricios</td>\n      <td>650000.0</td>\n      <td>USD</td>\n      <td>11468925.00</td>\n      <td>650000.0</td>\n      <td>141.0</td>\n      <td>141.0</td>\n      <td>4609.929078</td>\n      <td>4609.929078</td>\n      <td>NaN</td>\n      <td>NaN</td>\n    </tr>\n    <tr>\n      <th>80052</th>\n      <td>apartment</td>\n      <td>Almagro</td>\n      <td>120000.0</td>\n      <td>USD</td>\n      <td>2117340.00</td>\n      <td>120000.0</td>\n      <td>73.0</td>\n      <td>52.0</td>\n      <td>1643.835616</td>\n      <td>2307.692308</td>\n      <td>NaN</td>\n      <td>NaN</td>\n    </tr>\n    <tr>\n      <th>32973</th>\n      <td>store</td>\n      <td>Balvanera</td>\n      <td>1200000.0</td>\n      <td>USD</td>\n      <td>21173400.00</td>\n      <td>1200000.0</td>\n      <td>216.0</td>\n      <td>216.0</td>\n      <td>5555.555556</td>\n      <td>5555.555556</td>\n      <td>NaN</td>\n      <td>NaN</td>\n    </tr>\n  </tbody>\n</table>\n</div>"
     },
     "metadata": {},
     "execution_count": 117
    }
   ],
   "source": [
    "# Idem al punto anterior pero ahora de surface_total a surface_covered\n",
    "\n",
    "data_caba.surface_covered_in_m2.fillna(data_caba.surface_total_in_m2, inplace=True)\n",
    "\n",
    "data_caba.sample(10)"
   ]
  },
  {
   "cell_type": "code",
   "execution_count": 118,
   "metadata": {},
   "outputs": [
    {
     "output_type": "execute_result",
     "data": {
      "text/plain": [
       "       property_type     place_name     price currency  \\\n",
       "80708      apartment         Flores   97200.0      USD   \n",
       "26001      apartment          Boedo   37000.0      USD   \n",
       "22000      apartment      Caballito  330000.0      USD   \n",
       "45931      apartment        Palermo  350000.0      USD   \n",
       "93160             PH  Villa Urquiza  159000.0      USD   \n",
       "80468      apartment       Saavedra  188000.0      USD   \n",
       "113514     apartment        Palermo  700000.0      USD   \n",
       "93926      apartment        Palermo  245000.0      USD   \n",
       "55242      apartment        Coghlan  145000.0      USD   \n",
       "73785      apartment      Caballito  140000.0      USD   \n",
       "\n",
       "        price_aprox_local_currency  price_aprox_usd  surface_total_in_m2  \\\n",
       "80708                    1715045.4          97200.0                 46.0   \n",
       "26001                     652846.5          37000.0                 30.0   \n",
       "22000                    5822685.0         330000.0                180.0   \n",
       "45931                    6175575.0         350000.0                130.0   \n",
       "93160                    2805475.5         159000.0                 84.0   \n",
       "80468                    3317166.0         188000.0                 85.0   \n",
       "113514                  12351150.0         700000.0                 90.0   \n",
       "93926                    4322902.5         245000.0                 60.0   \n",
       "55242                    2558452.5         145000.0                 71.0   \n",
       "73785                    2470230.0         140000.0                 58.0   \n",
       "\n",
       "        surface_covered_in_m2  price_usd_per_m2  price_per_m2  floor  rooms  \n",
       "80708                    43.0       2113.043478   2260.465116    NaN    NaN  \n",
       "26001                    30.0       1233.333333   1233.333333    NaN    1.0  \n",
       "22000                   180.0       1833.333333   1833.333333    9.0    4.0  \n",
       "45931                    90.0       2692.307692   3888.888889    NaN    NaN  \n",
       "93160                    84.0       1892.857143   1892.857143    NaN    NaN  \n",
       "80468                    59.0       2211.764706   3186.440678    NaN    NaN  \n",
       "113514                   90.0       7777.777778   7777.777778    NaN    3.0  \n",
       "93926                    60.0       4083.333333   4083.333333    NaN    NaN  \n",
       "55242                    71.0       2042.253521   2042.253521    NaN    4.0  \n",
       "73785                    48.0       2413.793103   2916.666667    NaN    NaN  "
      ],
      "text/html": "<div>\n<style scoped>\n    .dataframe tbody tr th:only-of-type {\n        vertical-align: middle;\n    }\n\n    .dataframe tbody tr th {\n        vertical-align: top;\n    }\n\n    .dataframe thead th {\n        text-align: right;\n    }\n</style>\n<table border=\"1\" class=\"dataframe\">\n  <thead>\n    <tr style=\"text-align: right;\">\n      <th></th>\n      <th>property_type</th>\n      <th>place_name</th>\n      <th>price</th>\n      <th>currency</th>\n      <th>price_aprox_local_currency</th>\n      <th>price_aprox_usd</th>\n      <th>surface_total_in_m2</th>\n      <th>surface_covered_in_m2</th>\n      <th>price_usd_per_m2</th>\n      <th>price_per_m2</th>\n      <th>floor</th>\n      <th>rooms</th>\n    </tr>\n  </thead>\n  <tbody>\n    <tr>\n      <th>80708</th>\n      <td>apartment</td>\n      <td>Flores</td>\n      <td>97200.0</td>\n      <td>USD</td>\n      <td>1715045.4</td>\n      <td>97200.0</td>\n      <td>46.0</td>\n      <td>43.0</td>\n      <td>2113.043478</td>\n      <td>2260.465116</td>\n      <td>NaN</td>\n      <td>NaN</td>\n    </tr>\n    <tr>\n      <th>26001</th>\n      <td>apartment</td>\n      <td>Boedo</td>\n      <td>37000.0</td>\n      <td>USD</td>\n      <td>652846.5</td>\n      <td>37000.0</td>\n      <td>30.0</td>\n      <td>30.0</td>\n      <td>1233.333333</td>\n      <td>1233.333333</td>\n      <td>NaN</td>\n      <td>1.0</td>\n    </tr>\n    <tr>\n      <th>22000</th>\n      <td>apartment</td>\n      <td>Caballito</td>\n      <td>330000.0</td>\n      <td>USD</td>\n      <td>5822685.0</td>\n      <td>330000.0</td>\n      <td>180.0</td>\n      <td>180.0</td>\n      <td>1833.333333</td>\n      <td>1833.333333</td>\n      <td>9.0</td>\n      <td>4.0</td>\n    </tr>\n    <tr>\n      <th>45931</th>\n      <td>apartment</td>\n      <td>Palermo</td>\n      <td>350000.0</td>\n      <td>USD</td>\n      <td>6175575.0</td>\n      <td>350000.0</td>\n      <td>130.0</td>\n      <td>90.0</td>\n      <td>2692.307692</td>\n      <td>3888.888889</td>\n      <td>NaN</td>\n      <td>NaN</td>\n    </tr>\n    <tr>\n      <th>93160</th>\n      <td>PH</td>\n      <td>Villa Urquiza</td>\n      <td>159000.0</td>\n      <td>USD</td>\n      <td>2805475.5</td>\n      <td>159000.0</td>\n      <td>84.0</td>\n      <td>84.0</td>\n      <td>1892.857143</td>\n      <td>1892.857143</td>\n      <td>NaN</td>\n      <td>NaN</td>\n    </tr>\n    <tr>\n      <th>80468</th>\n      <td>apartment</td>\n      <td>Saavedra</td>\n      <td>188000.0</td>\n      <td>USD</td>\n      <td>3317166.0</td>\n      <td>188000.0</td>\n      <td>85.0</td>\n      <td>59.0</td>\n      <td>2211.764706</td>\n      <td>3186.440678</td>\n      <td>NaN</td>\n      <td>NaN</td>\n    </tr>\n    <tr>\n      <th>113514</th>\n      <td>apartment</td>\n      <td>Palermo</td>\n      <td>700000.0</td>\n      <td>USD</td>\n      <td>12351150.0</td>\n      <td>700000.0</td>\n      <td>90.0</td>\n      <td>90.0</td>\n      <td>7777.777778</td>\n      <td>7777.777778</td>\n      <td>NaN</td>\n      <td>3.0</td>\n    </tr>\n    <tr>\n      <th>93926</th>\n      <td>apartment</td>\n      <td>Palermo</td>\n      <td>245000.0</td>\n      <td>USD</td>\n      <td>4322902.5</td>\n      <td>245000.0</td>\n      <td>60.0</td>\n      <td>60.0</td>\n      <td>4083.333333</td>\n      <td>4083.333333</td>\n      <td>NaN</td>\n      <td>NaN</td>\n    </tr>\n    <tr>\n      <th>55242</th>\n      <td>apartment</td>\n      <td>Coghlan</td>\n      <td>145000.0</td>\n      <td>USD</td>\n      <td>2558452.5</td>\n      <td>145000.0</td>\n      <td>71.0</td>\n      <td>71.0</td>\n      <td>2042.253521</td>\n      <td>2042.253521</td>\n      <td>NaN</td>\n      <td>4.0</td>\n    </tr>\n    <tr>\n      <th>73785</th>\n      <td>apartment</td>\n      <td>Caballito</td>\n      <td>140000.0</td>\n      <td>USD</td>\n      <td>2470230.0</td>\n      <td>140000.0</td>\n      <td>58.0</td>\n      <td>48.0</td>\n      <td>2413.793103</td>\n      <td>2916.666667</td>\n      <td>NaN</td>\n      <td>NaN</td>\n    </tr>\n  </tbody>\n</table>\n</div>"
     },
     "metadata": {},
     "execution_count": 118
    }
   ],
   "source": [
    "# Idem al punto anterior pero ahora de surface_total a surface_covered\n",
    "\n",
    "data_caba.price_usd_per_m2.fillna(data_caba.price_aprox_usd / data_caba.surface_total_in_m2, inplace=True)\n",
    "\n",
    "data_caba.sample(10)"
   ]
  },
  {
   "cell_type": "code",
   "execution_count": 119,
   "metadata": {},
   "outputs": [
    {
     "output_type": "display_data",
     "data": {
      "text/plain": "2816"
     },
     "metadata": {}
    }
   ],
   "source": [
    "display(data_caba.floor.count())\n",
    "\n",
    "# El piso del departamente es un dato muy incompleto por lo que se dropea\n",
    "\n",
    "# Dropeamos la columna creada anteriormente.\n",
    "data_caba.drop(columns=['floor'], inplace=True)\n",
    "\n",
    "# En el caso de Rooms lo reemplazamos por 0\n",
    "data_caba.rooms.fillna(0, inplace=True)"
   ]
  },
  {
   "cell_type": "code",
   "execution_count": 120,
   "metadata": {},
   "outputs": [
    {
     "output_type": "display_data",
     "data": {
      "text/plain": "23075"
     },
     "metadata": {}
    }
   ],
   "source": [
    "display(data_caba.rooms.count())\n",
    "\n",
    "# En el caso de rooms, podemos tomar que el dato para los NaN es 0?? modifica esto el analisis para predecir? "
   ]
  },
  {
   "cell_type": "code",
   "execution_count": 121,
   "metadata": {},
   "outputs": [
    {
     "output_type": "execute_result",
     "data": {
      "text/plain": [
       "       property_type   place_name  price_aprox_local_currency  \\\n",
       "26962          house   Villa Luro                  6352020.00   \n",
       "79839      apartment       Retiro                  9175140.00   \n",
       "100832         house       Flores                  4411125.00   \n",
       "57993      apartment     Recoleta                  1517427.00   \n",
       "76740      apartment   Villa Luro                  4852237.50   \n",
       "60778      apartment     Floresta                   935158.50   \n",
       "111111     apartment     Belgrano                  5434506.00   \n",
       "7092       apartment     Recoleta                  2099695.50   \n",
       "62097      apartment      Almagro                  1093959.00   \n",
       "78454      apartment       Flores                  1446849.00   \n",
       "74074      apartment      Palermo                  3055903.88   \n",
       "10076      apartment     Belgrano                  1785623.40   \n",
       "14118      apartment  Las Cañitas                  4146457.50   \n",
       "18992      apartment     Belgrano                  1409795.55   \n",
       "28094      apartment        Boedo                  1233350.55   \n",
       "57720          store    San Telmo                  5116905.00   \n",
       "87706      apartment    Chacarita                  1436262.30   \n",
       "105287     apartment        Boedo                  1432895.02   \n",
       "80784      apartment      Coghlan                  3634767.00   \n",
       "61488      apartment       Flores                  1058670.00   \n",
       "\n",
       "        price_aprox_usd  surface_total_in_m2  surface_covered_in_m2  \\\n",
       "26962         360000.00                300.0                  200.0   \n",
       "79839         520000.00                101.0                   95.0   \n",
       "100832        250000.00                191.0                  135.0   \n",
       "57993          86000.00                 31.0                   31.0   \n",
       "76740         275000.00                195.0                   72.0   \n",
       "60778          53000.00                 22.0                   19.0   \n",
       "111111        308000.00                 87.0                   77.0   \n",
       "7092          119000.00                 40.0                   40.0   \n",
       "62097          62000.00                 30.0                   30.0   \n",
       "78454          82000.00                 50.0                   43.0   \n",
       "74074         173193.00                 47.0                   40.0   \n",
       "10076         101200.00                 40.0                   35.0   \n",
       "14118         235000.00                 71.0                   65.0   \n",
       "18992          79900.00                 33.0                   33.0   \n",
       "28094          69900.00                 37.0                   37.0   \n",
       "57720         290000.00                201.0                  189.0   \n",
       "87706          81400.00                 40.0                   37.0   \n",
       "105287         81209.16                 31.0                   27.0   \n",
       "80784         206000.00                 81.0                   74.0   \n",
       "61488          60000.00                 26.0                   26.0   \n",
       "\n",
       "        price_usd_per_m2  rooms  \n",
       "26962        1200.000000    5.0  \n",
       "79839        5148.514851    0.0  \n",
       "100832       1308.900524    0.0  \n",
       "57993        2774.193548    1.0  \n",
       "76740        1410.256410    0.0  \n",
       "60778        2409.090909    1.0  \n",
       "111111       3540.229885    3.0  \n",
       "7092         2975.000000    2.0  \n",
       "62097        2066.666667    1.0  \n",
       "78454        1640.000000    0.0  \n",
       "74074        3684.957447    0.0  \n",
       "10076        2530.000000    1.0  \n",
       "14118        3309.859155    2.0  \n",
       "18992        2421.212121    1.0  \n",
       "28094        1889.189189    1.0  \n",
       "57720        1442.786070    0.0  \n",
       "87706        2035.000000    0.0  \n",
       "105287       2619.650323    0.0  \n",
       "80784        2543.209877    0.0  \n",
       "61488        2307.692308    1.0  "
      ],
      "text/html": "<div>\n<style scoped>\n    .dataframe tbody tr th:only-of-type {\n        vertical-align: middle;\n    }\n\n    .dataframe tbody tr th {\n        vertical-align: top;\n    }\n\n    .dataframe thead th {\n        text-align: right;\n    }\n</style>\n<table border=\"1\" class=\"dataframe\">\n  <thead>\n    <tr style=\"text-align: right;\">\n      <th></th>\n      <th>property_type</th>\n      <th>place_name</th>\n      <th>price_aprox_local_currency</th>\n      <th>price_aprox_usd</th>\n      <th>surface_total_in_m2</th>\n      <th>surface_covered_in_m2</th>\n      <th>price_usd_per_m2</th>\n      <th>rooms</th>\n    </tr>\n  </thead>\n  <tbody>\n    <tr>\n      <th>26962</th>\n      <td>house</td>\n      <td>Villa Luro</td>\n      <td>6352020.00</td>\n      <td>360000.00</td>\n      <td>300.0</td>\n      <td>200.0</td>\n      <td>1200.000000</td>\n      <td>5.0</td>\n    </tr>\n    <tr>\n      <th>79839</th>\n      <td>apartment</td>\n      <td>Retiro</td>\n      <td>9175140.00</td>\n      <td>520000.00</td>\n      <td>101.0</td>\n      <td>95.0</td>\n      <td>5148.514851</td>\n      <td>0.0</td>\n    </tr>\n    <tr>\n      <th>100832</th>\n      <td>house</td>\n      <td>Flores</td>\n      <td>4411125.00</td>\n      <td>250000.00</td>\n      <td>191.0</td>\n      <td>135.0</td>\n      <td>1308.900524</td>\n      <td>0.0</td>\n    </tr>\n    <tr>\n      <th>57993</th>\n      <td>apartment</td>\n      <td>Recoleta</td>\n      <td>1517427.00</td>\n      <td>86000.00</td>\n      <td>31.0</td>\n      <td>31.0</td>\n      <td>2774.193548</td>\n      <td>1.0</td>\n    </tr>\n    <tr>\n      <th>76740</th>\n      <td>apartment</td>\n      <td>Villa Luro</td>\n      <td>4852237.50</td>\n      <td>275000.00</td>\n      <td>195.0</td>\n      <td>72.0</td>\n      <td>1410.256410</td>\n      <td>0.0</td>\n    </tr>\n    <tr>\n      <th>60778</th>\n      <td>apartment</td>\n      <td>Floresta</td>\n      <td>935158.50</td>\n      <td>53000.00</td>\n      <td>22.0</td>\n      <td>19.0</td>\n      <td>2409.090909</td>\n      <td>1.0</td>\n    </tr>\n    <tr>\n      <th>111111</th>\n      <td>apartment</td>\n      <td>Belgrano</td>\n      <td>5434506.00</td>\n      <td>308000.00</td>\n      <td>87.0</td>\n      <td>77.0</td>\n      <td>3540.229885</td>\n      <td>3.0</td>\n    </tr>\n    <tr>\n      <th>7092</th>\n      <td>apartment</td>\n      <td>Recoleta</td>\n      <td>2099695.50</td>\n      <td>119000.00</td>\n      <td>40.0</td>\n      <td>40.0</td>\n      <td>2975.000000</td>\n      <td>2.0</td>\n    </tr>\n    <tr>\n      <th>62097</th>\n      <td>apartment</td>\n      <td>Almagro</td>\n      <td>1093959.00</td>\n      <td>62000.00</td>\n      <td>30.0</td>\n      <td>30.0</td>\n      <td>2066.666667</td>\n      <td>1.0</td>\n    </tr>\n    <tr>\n      <th>78454</th>\n      <td>apartment</td>\n      <td>Flores</td>\n      <td>1446849.00</td>\n      <td>82000.00</td>\n      <td>50.0</td>\n      <td>43.0</td>\n      <td>1640.000000</td>\n      <td>0.0</td>\n    </tr>\n    <tr>\n      <th>74074</th>\n      <td>apartment</td>\n      <td>Palermo</td>\n      <td>3055903.88</td>\n      <td>173193.00</td>\n      <td>47.0</td>\n      <td>40.0</td>\n      <td>3684.957447</td>\n      <td>0.0</td>\n    </tr>\n    <tr>\n      <th>10076</th>\n      <td>apartment</td>\n      <td>Belgrano</td>\n      <td>1785623.40</td>\n      <td>101200.00</td>\n      <td>40.0</td>\n      <td>35.0</td>\n      <td>2530.000000</td>\n      <td>1.0</td>\n    </tr>\n    <tr>\n      <th>14118</th>\n      <td>apartment</td>\n      <td>Las Cañitas</td>\n      <td>4146457.50</td>\n      <td>235000.00</td>\n      <td>71.0</td>\n      <td>65.0</td>\n      <td>3309.859155</td>\n      <td>2.0</td>\n    </tr>\n    <tr>\n      <th>18992</th>\n      <td>apartment</td>\n      <td>Belgrano</td>\n      <td>1409795.55</td>\n      <td>79900.00</td>\n      <td>33.0</td>\n      <td>33.0</td>\n      <td>2421.212121</td>\n      <td>1.0</td>\n    </tr>\n    <tr>\n      <th>28094</th>\n      <td>apartment</td>\n      <td>Boedo</td>\n      <td>1233350.55</td>\n      <td>69900.00</td>\n      <td>37.0</td>\n      <td>37.0</td>\n      <td>1889.189189</td>\n      <td>1.0</td>\n    </tr>\n    <tr>\n      <th>57720</th>\n      <td>store</td>\n      <td>San Telmo</td>\n      <td>5116905.00</td>\n      <td>290000.00</td>\n      <td>201.0</td>\n      <td>189.0</td>\n      <td>1442.786070</td>\n      <td>0.0</td>\n    </tr>\n    <tr>\n      <th>87706</th>\n      <td>apartment</td>\n      <td>Chacarita</td>\n      <td>1436262.30</td>\n      <td>81400.00</td>\n      <td>40.0</td>\n      <td>37.0</td>\n      <td>2035.000000</td>\n      <td>0.0</td>\n    </tr>\n    <tr>\n      <th>105287</th>\n      <td>apartment</td>\n      <td>Boedo</td>\n      <td>1432895.02</td>\n      <td>81209.16</td>\n      <td>31.0</td>\n      <td>27.0</td>\n      <td>2619.650323</td>\n      <td>0.0</td>\n    </tr>\n    <tr>\n      <th>80784</th>\n      <td>apartment</td>\n      <td>Coghlan</td>\n      <td>3634767.00</td>\n      <td>206000.00</td>\n      <td>81.0</td>\n      <td>74.0</td>\n      <td>2543.209877</td>\n      <td>0.0</td>\n    </tr>\n    <tr>\n      <th>61488</th>\n      <td>apartment</td>\n      <td>Flores</td>\n      <td>1058670.00</td>\n      <td>60000.00</td>\n      <td>26.0</td>\n      <td>26.0</td>\n      <td>2307.692308</td>\n      <td>1.0</td>\n    </tr>\n  </tbody>\n</table>\n</div>"
     },
     "metadata": {},
     "execution_count": 121
    }
   ],
   "source": [
    "# Dropeamos los valores que sabemos que está repetidos o con otra moneda.data_caba\n",
    "\n",
    "data_caba.drop(columns=['price', 'currency','price_per_m2'], inplace=True)\n",
    "\n",
    "data_caba.sample(20)"
   ]
  },
  {
   "cell_type": "code",
   "execution_count": 122,
   "metadata": {},
   "outputs": [
    {
     "output_type": "stream",
     "name": "stdout",
     "text": [
      "\nPorcentaje de valores incompletos por columna:\nproperty_type                 0.0\nplace_name                    0.0\nprice_aprox_local_currency    0.0\nprice_aprox_usd               0.0\nsurface_total_in_m2           0.0\nsurface_covered_in_m2         0.0\nprice_usd_per_m2              0.0\nrooms                         0.0\ndtype: float64\n"
     ]
    },
    {
     "output_type": "display_data",
     "data": {
      "text/plain": "(23075, 8)"
     },
     "metadata": {}
    }
   ],
   "source": [
    "print('\\nPorcentaje de valores incompletos por columna:')\n",
    "print(f'{round(100 * data_caba.isnull().sum()/data_caba.shape[0], 2)}')\n",
    "\n",
    "display(data_caba.shape)"
   ]
  },
  {
   "source": [
    "### Falta reindexar las filas.\n",
    "\n",
    "Dummies de property_type y place_name, no se si conviene realizar el trabajo de la extracción de rooms, hay que evaluar el esfuerzo.\n",
    "\n"
   ],
   "cell_type": "markdown",
   "metadata": {}
  }
 ]
}
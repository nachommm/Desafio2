{
 "metadata": {
  "language_info": {
   "codemirror_mode": {
    "name": "ipython",
    "version": 3
   },
   "file_extension": ".py",
   "mimetype": "text/x-python",
   "name": "python",
   "nbconvert_exporter": "python",
   "pygments_lexer": "ipython3",
   "version": "3.8.3-final"
  },
  "orig_nbformat": 2,
  "kernelspec": {
   "name": "python3",
   "display_name": "Python 3",
   "language": "python"
  }
 },
 "nbformat": 4,
 "nbformat_minor": 2,
 "cells": [
  {
   "source": [
    "<h2>Desarrollo del Desafio 2 - Machine Learning\n"
   ],
   "cell_type": "markdown",
   "metadata": {}
  },
  {
   "source": [
    "<h3>Grupo 7\n",
    "\n",
    "<li>Laura Jazmín Chao\n",
    "<li>Juan Nicolás Capistrano\n",
    "<li>Betiana Srur\n",
    "<li>Ignacio Mendieta\n",
    "<li>Marecelo Carrizo"
   ],
   "cell_type": "markdown",
   "metadata": {}
  },
  {
   "source": [
    "**Desafio 2** : Aplicar las tecnicas de Machine Learning para calcular el precio por metro cuadrado de las propiedades."
   ],
   "cell_type": "markdown",
   "metadata": {}
  },
  {
   "cell_type": "code",
   "execution_count": 69,
   "metadata": {},
   "outputs": [],
   "source": [
    "import numpy as np\n",
    "import pandas as pd\n",
    "\n",
    "# Libreria Grafica.\n",
    "%matplotlib inline\n",
    "import seaborn as sns\n",
    "from matplotlib import pyplot as plt\n",
    "\n",
    "# Libreria para analisis ML\n",
    "from sklearn import datasets, linear_model"
   ]
  },
  {
   "cell_type": "code",
   "execution_count": 70,
   "metadata": {},
   "outputs": [
    {
     "output_type": "execute_result",
     "data": {
      "text/plain": [
       "        Unnamed: 0 operation property_type              place_name  \\\n",
       "44950        44950      sell         house                 Córdoba   \n",
       "100188      100188      sell     apartment                   Morón   \n",
       "94433        94433      sell         house                 Escobar   \n",
       "73117        73117      sell     apartment            Barrio Norte   \n",
       "9820          9820      sell         house  Villa General Belgrano   \n",
       "\n",
       "                                 place_with_parent_names country_name  \\\n",
       "44950                        |Argentina|Córdoba|Córdoba|    Argentina   \n",
       "100188  |Argentina|Bs.As. G.B.A. Zona Oeste|Morón|Morón|    Argentina   \n",
       "94433       |Argentina|Bs.As. G.B.A. Zona Norte|Escobar|    Argentina   \n",
       "73117           |Argentina|Capital Federal|Barrio Norte|    Argentina   \n",
       "9820          |Argentina|Córdoba|Villa General Belgrano|    Argentina   \n",
       "\n",
       "                      state_name  geonames_id                  lat-lon  \\\n",
       "44950                    Córdoba    3860259.0   -31.4200833,-64.188776   \n",
       "100188  Bs.As. G.B.A. Zona Oeste    3430544.0                      NaN   \n",
       "94433   Bs.As. G.B.A. Zona Norte    3434130.0                      NaN   \n",
       "73117            Capital Federal    3436109.0  -34.5841733,-58.4008772   \n",
       "9820                     Córdoba    3832734.0  -31.3584976,-64.2504678   \n",
       "\n",
       "              lat  ...  surface_covered_in_m2  price_usd_per_m2  price_per_m2  \\\n",
       "44950  -31.420083  ...                  200.0               NaN           NaN   \n",
       "100188        NaN  ...                   35.0       1219.819750  24857.142857   \n",
       "94433         NaN  ...                  420.0       1404.761905   1404.761905   \n",
       "73117  -34.584173  ...                   25.0       3854.838710   4780.000000   \n",
       "9820   -31.358498  ...                  300.0               NaN   1500.000000   \n",
       "\n",
       "        floor  rooms  expenses  \\\n",
       "44950     1.0    3.0       NaN   \n",
       "100188    NaN    NaN       NaN   \n",
       "94433     NaN    NaN   11000.0   \n",
       "73117     NaN    NaN    3026.0   \n",
       "9820      1.0    3.0       NaN   \n",
       "\n",
       "                                            properati_url  \\\n",
       "44950   http://www.properati.com.ar/191jf_venta_casa_c...   \n",
       "100188  http://www.properati.com.ar/1bnl2_venta_depart...   \n",
       "94433   http://www.properati.com.ar/1bfjn_venta_casa_e...   \n",
       "73117   http://www.properati.com.ar/1anbh_venta_depart...   \n",
       "9820    http://www.properati.com.ar/165mc_venta_casa_v...   \n",
       "\n",
       "                                              description  \\\n",
       "44950                 Casa en Venta de 3 dorm. en Cordoba   \n",
       "100188  Edificio Ubicado en Morón Sur, a cinco cuadras...   \n",
       "94433   Muy linda casa en venta sobre dos lotes en Bos...   \n",
       "73117   Capital Brokers Propiedades |  o 15-POSESION I...   \n",
       "9820         Casa en Venta de 3 dorm. en V. Gral Belgrano   \n",
       "\n",
       "                                               title  \\\n",
       "44950            Titulo para publicacion en Portales   \n",
       "100188                         Departamento en Moron   \n",
       "94433               Casa de 420 mts. en Bosque Chico   \n",
       "73117                               Venta 1 ambiente   \n",
       "9820    Casa en Venta de 3 dorm. en V. Gral Belgrano   \n",
       "\n",
       "                                          image_thumbnail  \n",
       "44950   https://thumbs4.properati.com/3/7U9He2m8Q3F-aY...  \n",
       "100188  https://thumbs4.properati.com/3/KW1p9-d8azWYr-...  \n",
       "94433   https://thumbs4.properati.com/9/Y0v7UHPVm7YTx0...  \n",
       "73117   https://thumbs4.properati.com/1/--_dvpiXD1ZWbD...  \n",
       "9820    https://thumbs4.properati.com/3/usbBcjSEMkCiOA...  \n",
       "\n",
       "[5 rows x 26 columns]"
      ],
      "text/html": "<div>\n<style scoped>\n    .dataframe tbody tr th:only-of-type {\n        vertical-align: middle;\n    }\n\n    .dataframe tbody tr th {\n        vertical-align: top;\n    }\n\n    .dataframe thead th {\n        text-align: right;\n    }\n</style>\n<table border=\"1\" class=\"dataframe\">\n  <thead>\n    <tr style=\"text-align: right;\">\n      <th></th>\n      <th>Unnamed: 0</th>\n      <th>operation</th>\n      <th>property_type</th>\n      <th>place_name</th>\n      <th>place_with_parent_names</th>\n      <th>country_name</th>\n      <th>state_name</th>\n      <th>geonames_id</th>\n      <th>lat-lon</th>\n      <th>lat</th>\n      <th>...</th>\n      <th>surface_covered_in_m2</th>\n      <th>price_usd_per_m2</th>\n      <th>price_per_m2</th>\n      <th>floor</th>\n      <th>rooms</th>\n      <th>expenses</th>\n      <th>properati_url</th>\n      <th>description</th>\n      <th>title</th>\n      <th>image_thumbnail</th>\n    </tr>\n  </thead>\n  <tbody>\n    <tr>\n      <th>44950</th>\n      <td>44950</td>\n      <td>sell</td>\n      <td>house</td>\n      <td>Córdoba</td>\n      <td>|Argentina|Córdoba|Córdoba|</td>\n      <td>Argentina</td>\n      <td>Córdoba</td>\n      <td>3860259.0</td>\n      <td>-31.4200833,-64.188776</td>\n      <td>-31.420083</td>\n      <td>...</td>\n      <td>200.0</td>\n      <td>NaN</td>\n      <td>NaN</td>\n      <td>1.0</td>\n      <td>3.0</td>\n      <td>NaN</td>\n      <td>http://www.properati.com.ar/191jf_venta_casa_c...</td>\n      <td>Casa en Venta de 3 dorm. en Cordoba</td>\n      <td>Titulo para publicacion en Portales</td>\n      <td>https://thumbs4.properati.com/3/7U9He2m8Q3F-aY...</td>\n    </tr>\n    <tr>\n      <th>100188</th>\n      <td>100188</td>\n      <td>sell</td>\n      <td>apartment</td>\n      <td>Morón</td>\n      <td>|Argentina|Bs.As. G.B.A. Zona Oeste|Morón|Morón|</td>\n      <td>Argentina</td>\n      <td>Bs.As. G.B.A. Zona Oeste</td>\n      <td>3430544.0</td>\n      <td>NaN</td>\n      <td>NaN</td>\n      <td>...</td>\n      <td>35.0</td>\n      <td>1219.819750</td>\n      <td>24857.142857</td>\n      <td>NaN</td>\n      <td>NaN</td>\n      <td>NaN</td>\n      <td>http://www.properati.com.ar/1bnl2_venta_depart...</td>\n      <td>Edificio Ubicado en Morón Sur, a cinco cuadras...</td>\n      <td>Departamento en Moron</td>\n      <td>https://thumbs4.properati.com/3/KW1p9-d8azWYr-...</td>\n    </tr>\n    <tr>\n      <th>94433</th>\n      <td>94433</td>\n      <td>sell</td>\n      <td>house</td>\n      <td>Escobar</td>\n      <td>|Argentina|Bs.As. G.B.A. Zona Norte|Escobar|</td>\n      <td>Argentina</td>\n      <td>Bs.As. G.B.A. Zona Norte</td>\n      <td>3434130.0</td>\n      <td>NaN</td>\n      <td>NaN</td>\n      <td>...</td>\n      <td>420.0</td>\n      <td>1404.761905</td>\n      <td>1404.761905</td>\n      <td>NaN</td>\n      <td>NaN</td>\n      <td>11000.0</td>\n      <td>http://www.properati.com.ar/1bfjn_venta_casa_e...</td>\n      <td>Muy linda casa en venta sobre dos lotes en Bos...</td>\n      <td>Casa de 420 mts. en Bosque Chico</td>\n      <td>https://thumbs4.properati.com/9/Y0v7UHPVm7YTx0...</td>\n    </tr>\n    <tr>\n      <th>73117</th>\n      <td>73117</td>\n      <td>sell</td>\n      <td>apartment</td>\n      <td>Barrio Norte</td>\n      <td>|Argentina|Capital Federal|Barrio Norte|</td>\n      <td>Argentina</td>\n      <td>Capital Federal</td>\n      <td>3436109.0</td>\n      <td>-34.5841733,-58.4008772</td>\n      <td>-34.584173</td>\n      <td>...</td>\n      <td>25.0</td>\n      <td>3854.838710</td>\n      <td>4780.000000</td>\n      <td>NaN</td>\n      <td>NaN</td>\n      <td>3026.0</td>\n      <td>http://www.properati.com.ar/1anbh_venta_depart...</td>\n      <td>Capital Brokers Propiedades |  o 15-POSESION I...</td>\n      <td>Venta 1 ambiente</td>\n      <td>https://thumbs4.properati.com/1/--_dvpiXD1ZWbD...</td>\n    </tr>\n    <tr>\n      <th>9820</th>\n      <td>9820</td>\n      <td>sell</td>\n      <td>house</td>\n      <td>Villa General Belgrano</td>\n      <td>|Argentina|Córdoba|Villa General Belgrano|</td>\n      <td>Argentina</td>\n      <td>Córdoba</td>\n      <td>3832734.0</td>\n      <td>-31.3584976,-64.2504678</td>\n      <td>-31.358498</td>\n      <td>...</td>\n      <td>300.0</td>\n      <td>NaN</td>\n      <td>1500.000000</td>\n      <td>1.0</td>\n      <td>3.0</td>\n      <td>NaN</td>\n      <td>http://www.properati.com.ar/165mc_venta_casa_v...</td>\n      <td>Casa en Venta de 3 dorm. en V. Gral Belgrano</td>\n      <td>Casa en Venta de 3 dorm. en V. Gral Belgrano</td>\n      <td>https://thumbs4.properati.com/3/usbBcjSEMkCiOA...</td>\n    </tr>\n  </tbody>\n</table>\n<p>5 rows × 26 columns</p>\n</div>"
     },
     "metadata": {},
     "execution_count": 70
    }
   ],
   "source": [
    "# Definimos la ruta de la información.\n",
    "data_propiedades = \"Data/properati.csv\"\n",
    "\n",
    "# Leemos los datos del archivo\n",
    "data = pd.read_csv(data_propiedades, sep=\",\", encoding=\"UTF-8\")\n",
    "\n",
    "# Chequeamos que los datos se hayan importado correctamente\n",
    "data.sample(5)"
   ]
  },
  {
   "cell_type": "code",
   "execution_count": 71,
   "metadata": {},
   "outputs": [
    {
     "output_type": "execute_result",
     "data": {
      "text/plain": [
       "(121220, 26)"
      ]
     },
     "metadata": {},
     "execution_count": 71
    }
   ],
   "source": [
    "# Chequeamos cantidad de registros y cantidad de columnas\n",
    "data.shape"
   ]
  },
  {
   "source": [
    "<h2>Limpieza de Datos."
   ],
   "cell_type": "markdown",
   "metadata": {}
  },
  {
   "cell_type": "code",
   "execution_count": 72,
   "metadata": {},
   "outputs": [
    {
     "output_type": "execute_result",
     "data": {
      "text/plain": [
       "        Unnamed: 0 operation property_type       place_name  \\\n",
       "50387        50387      sell     apartment  Capital Federal   \n",
       "50388        50388      sell     apartment  Capital Federal   \n",
       "107390      107390      sell         house        San Roque   \n",
       "\n",
       "              place_with_parent_names country_name       state_name  \\\n",
       "50387     |Argentina|Capital Federal|    Argentina  Capital Federal   \n",
       "50388     |Argentina|Capital Federal|    Argentina  Capital Federal   \n",
       "107390  |Argentina|Mendoza|San Roque|    Argentina          Mendoza   \n",
       "\n",
       "        geonames_id lat-lon  lat  ...  surface_covered_in_m2  \\\n",
       "50387     3433955.0     NaN  NaN  ...                    NaN   \n",
       "50388     3433955.0     NaN  NaN  ...                    NaN   \n",
       "107390    3836586.0     NaN  NaN  ...                    NaN   \n",
       "\n",
       "        price_usd_per_m2 price_per_m2  floor  rooms  expenses  \\\n",
       "50387                NaN          NaN    NaN    NaN       NaN   \n",
       "50388                NaN          NaN    NaN    NaN       NaN   \n",
       "107390               NaN          NaN    NaN    NaN       NaN   \n",
       "\n",
       "                                            properati_url  \\\n",
       "50387   http://www.properati.com.ar/19e8z_venta_depart...   \n",
       "50388   http://www.properati.com.ar/19e90_venta_depart...   \n",
       "107390  http://www.properati.com.ar/1by0s_venta_casa_s...   \n",
       "\n",
       "                                              description  \\\n",
       "50387   Ref.: 55:PREVENTA ::: OPORTUNIDAD ::: Dúplex a...   \n",
       "50388   Ref.: 56Duplex en venta de 1 dormitorio con ap...   \n",
       "107390  Casa con Calefacción central, Mendoza, San Roq...   \n",
       "\n",
       "                                            title  \\\n",
       "50387   DUPLEX A LA VENTA | Liniers 1200 | Tandil   \n",
       "50388   DUPLEX A LA VENTA | Liniers 1200 | Tandil   \n",
       "107390                         Casa - San Vicente   \n",
       "\n",
       "                                          image_thumbnail  \n",
       "50387   https://thumbs4.properati.com/9/N_Qr_5X_vOq--b...  \n",
       "50388   https://thumbs4.properati.com/8/_cBXAyr_9pDySg...  \n",
       "107390  https://thumbs4.properati.com/2/pA0RbuDKRK6GgV...  \n",
       "\n",
       "[3 rows x 26 columns]"
      ],
      "text/html": "<div>\n<style scoped>\n    .dataframe tbody tr th:only-of-type {\n        vertical-align: middle;\n    }\n\n    .dataframe tbody tr th {\n        vertical-align: top;\n    }\n\n    .dataframe thead th {\n        text-align: right;\n    }\n</style>\n<table border=\"1\" class=\"dataframe\">\n  <thead>\n    <tr style=\"text-align: right;\">\n      <th></th>\n      <th>Unnamed: 0</th>\n      <th>operation</th>\n      <th>property_type</th>\n      <th>place_name</th>\n      <th>place_with_parent_names</th>\n      <th>country_name</th>\n      <th>state_name</th>\n      <th>geonames_id</th>\n      <th>lat-lon</th>\n      <th>lat</th>\n      <th>...</th>\n      <th>surface_covered_in_m2</th>\n      <th>price_usd_per_m2</th>\n      <th>price_per_m2</th>\n      <th>floor</th>\n      <th>rooms</th>\n      <th>expenses</th>\n      <th>properati_url</th>\n      <th>description</th>\n      <th>title</th>\n      <th>image_thumbnail</th>\n    </tr>\n  </thead>\n  <tbody>\n    <tr>\n      <th>50387</th>\n      <td>50387</td>\n      <td>sell</td>\n      <td>apartment</td>\n      <td>Capital Federal</td>\n      <td>|Argentina|Capital Federal|</td>\n      <td>Argentina</td>\n      <td>Capital Federal</td>\n      <td>3433955.0</td>\n      <td>NaN</td>\n      <td>NaN</td>\n      <td>...</td>\n      <td>NaN</td>\n      <td>NaN</td>\n      <td>NaN</td>\n      <td>NaN</td>\n      <td>NaN</td>\n      <td>NaN</td>\n      <td>http://www.properati.com.ar/19e8z_venta_depart...</td>\n      <td>Ref.: 55:PREVENTA ::: OPORTUNIDAD ::: Dúplex a...</td>\n      <td>DUPLEX A LA VENTA | Liniers 1200 | Tandil</td>\n      <td>https://thumbs4.properati.com/9/N_Qr_5X_vOq--b...</td>\n    </tr>\n    <tr>\n      <th>50388</th>\n      <td>50388</td>\n      <td>sell</td>\n      <td>apartment</td>\n      <td>Capital Federal</td>\n      <td>|Argentina|Capital Federal|</td>\n      <td>Argentina</td>\n      <td>Capital Federal</td>\n      <td>3433955.0</td>\n      <td>NaN</td>\n      <td>NaN</td>\n      <td>...</td>\n      <td>NaN</td>\n      <td>NaN</td>\n      <td>NaN</td>\n      <td>NaN</td>\n      <td>NaN</td>\n      <td>NaN</td>\n      <td>http://www.properati.com.ar/19e90_venta_depart...</td>\n      <td>Ref.: 56Duplex en venta de 1 dormitorio con ap...</td>\n      <td>DUPLEX A LA VENTA | Liniers 1200 | Tandil</td>\n      <td>https://thumbs4.properati.com/8/_cBXAyr_9pDySg...</td>\n    </tr>\n    <tr>\n      <th>107390</th>\n      <td>107390</td>\n      <td>sell</td>\n      <td>house</td>\n      <td>San Roque</td>\n      <td>|Argentina|Mendoza|San Roque|</td>\n      <td>Argentina</td>\n      <td>Mendoza</td>\n      <td>3836586.0</td>\n      <td>NaN</td>\n      <td>NaN</td>\n      <td>...</td>\n      <td>NaN</td>\n      <td>NaN</td>\n      <td>NaN</td>\n      <td>NaN</td>\n      <td>NaN</td>\n      <td>NaN</td>\n      <td>http://www.properati.com.ar/1by0s_venta_casa_s...</td>\n      <td>Casa con Calefacción central, Mendoza, San Roq...</td>\n      <td>Casa - San Vicente</td>\n      <td>https://thumbs4.properati.com/2/pA0RbuDKRK6GgV...</td>\n    </tr>\n  </tbody>\n</table>\n<p>3 rows × 26 columns</p>\n</div>"
     },
     "metadata": {},
     "execution_count": 72
    }
   ],
   "source": [
    "# Creamos una mask para traer los valores en monedas que no son USD ni ARS.\n",
    "currency_OTHER_CURRENCY_mask = (data.currency == 'PEN') | (data.currency == 'UYU')\n",
    "# Observamos esos registros\n",
    "data.loc[currency_OTHER_CURRENCY_mask, :]"
   ]
  },
  {
   "cell_type": "code",
   "execution_count": 73,
   "metadata": {},
   "outputs": [
    {
     "output_type": "stream",
     "name": "stdout",
     "text": [
      "Cantidad de registros original - registro actuales: 3\n"
     ]
    }
   ],
   "source": [
    "# Hacemos drop de esos registros y chequeamos la diferencia entre cantidad original y actual\n",
    "cant_registros = data.shape[0]\n",
    "data.drop(data.loc[currency_OTHER_CURRENCY_mask, :].index, inplace = True)\n",
    "print(f'Cantidad de registros original - registro actuales: {cant_registros - data.shape[0]}')"
   ]
  },
  {
   "cell_type": "code",
   "execution_count": 74,
   "metadata": {},
   "outputs": [
    {
     "output_type": "execute_result",
     "data": {
      "text/plain": [
       "  property_type place_name                            place_with_parent_names  \\\n",
       "0            PH  Mataderos              |Argentina|Capital Federal|Mataderos|   \n",
       "1     apartment   La Plata        |Argentina|Bs.As. G.B.A. Zona Sur|La Plata|   \n",
       "2     apartment  Mataderos              |Argentina|Capital Federal|Mataderos|   \n",
       "3            PH    Liniers                |Argentina|Capital Federal|Liniers|   \n",
       "4     apartment     Centro  |Argentina|Buenos Aires Costa Atlántica|Mar de...   \n",
       "\n",
       "  country_name                    state_name     price currency  \\\n",
       "0    Argentina               Capital Federal   62000.0      USD   \n",
       "1    Argentina        Bs.As. G.B.A. Zona Sur  150000.0      USD   \n",
       "2    Argentina               Capital Federal   72000.0      USD   \n",
       "3    Argentina               Capital Federal   95000.0      USD   \n",
       "4    Argentina  Buenos Aires Costa Atlántica   64000.0      USD   \n",
       "\n",
       "   price_aprox_local_currency  price_aprox_usd  surface_total_in_m2  \\\n",
       "0                   1093959.0          62000.0                 55.0   \n",
       "1                   2646675.0         150000.0                  NaN   \n",
       "2                   1270404.0          72000.0                 55.0   \n",
       "3                   1676227.5          95000.0                  NaN   \n",
       "4                   1129248.0          64000.0                 35.0   \n",
       "\n",
       "   surface_covered_in_m2  price_usd_per_m2  price_per_m2  floor  rooms  \\\n",
       "0                   40.0       1127.272727   1550.000000    NaN    NaN   \n",
       "1                    NaN               NaN           NaN    NaN    NaN   \n",
       "2                   55.0       1309.090909   1309.090909    NaN    NaN   \n",
       "3                    NaN               NaN           NaN    NaN    NaN   \n",
       "4                   35.0       1828.571429   1828.571429    NaN    NaN   \n",
       "\n",
       "                                         description  \\\n",
       "0  2 AMBIENTES TIPO CASA PLANTA BAJA POR PASILLO,...   \n",
       "1  Venta de departamento en décimo piso al frente...   \n",
       "2  2 AMBIENTES 3ER PISO LATERAL LIVING COMEDOR AM...   \n",
       "3  PH 3 ambientes con patio. Hay 3 deptos en lote...   \n",
       "4  DEPARTAMENTO CON FANTÁSTICA ILUMINACIÓN NATURA...   \n",
       "\n",
       "                                               title  \n",
       "0                 2 AMB TIPO CASA SIN EXPENSAS EN PB  \n",
       "1  VENTA Depto 2 dorm. a estrenar 7 e/ 36 y 37   ...  \n",
       "2           2 AMB 3ER PISO CON ASCENSOR APTO CREDITO  \n",
       "3                       PH 3 amb. cfte. reciclado     \n",
       "4  DEPTO 2 AMB AL CONTRAFRENTE ZONA CENTRO/PLAZA ...  "
      ],
      "text/html": "<div>\n<style scoped>\n    .dataframe tbody tr th:only-of-type {\n        vertical-align: middle;\n    }\n\n    .dataframe tbody tr th {\n        vertical-align: top;\n    }\n\n    .dataframe thead th {\n        text-align: right;\n    }\n</style>\n<table border=\"1\" class=\"dataframe\">\n  <thead>\n    <tr style=\"text-align: right;\">\n      <th></th>\n      <th>property_type</th>\n      <th>place_name</th>\n      <th>place_with_parent_names</th>\n      <th>country_name</th>\n      <th>state_name</th>\n      <th>price</th>\n      <th>currency</th>\n      <th>price_aprox_local_currency</th>\n      <th>price_aprox_usd</th>\n      <th>surface_total_in_m2</th>\n      <th>surface_covered_in_m2</th>\n      <th>price_usd_per_m2</th>\n      <th>price_per_m2</th>\n      <th>floor</th>\n      <th>rooms</th>\n      <th>description</th>\n      <th>title</th>\n    </tr>\n  </thead>\n  <tbody>\n    <tr>\n      <th>0</th>\n      <td>PH</td>\n      <td>Mataderos</td>\n      <td>|Argentina|Capital Federal|Mataderos|</td>\n      <td>Argentina</td>\n      <td>Capital Federal</td>\n      <td>62000.0</td>\n      <td>USD</td>\n      <td>1093959.0</td>\n      <td>62000.0</td>\n      <td>55.0</td>\n      <td>40.0</td>\n      <td>1127.272727</td>\n      <td>1550.000000</td>\n      <td>NaN</td>\n      <td>NaN</td>\n      <td>2 AMBIENTES TIPO CASA PLANTA BAJA POR PASILLO,...</td>\n      <td>2 AMB TIPO CASA SIN EXPENSAS EN PB</td>\n    </tr>\n    <tr>\n      <th>1</th>\n      <td>apartment</td>\n      <td>La Plata</td>\n      <td>|Argentina|Bs.As. G.B.A. Zona Sur|La Plata|</td>\n      <td>Argentina</td>\n      <td>Bs.As. G.B.A. Zona Sur</td>\n      <td>150000.0</td>\n      <td>USD</td>\n      <td>2646675.0</td>\n      <td>150000.0</td>\n      <td>NaN</td>\n      <td>NaN</td>\n      <td>NaN</td>\n      <td>NaN</td>\n      <td>NaN</td>\n      <td>NaN</td>\n      <td>Venta de departamento en décimo piso al frente...</td>\n      <td>VENTA Depto 2 dorm. a estrenar 7 e/ 36 y 37   ...</td>\n    </tr>\n    <tr>\n      <th>2</th>\n      <td>apartment</td>\n      <td>Mataderos</td>\n      <td>|Argentina|Capital Federal|Mataderos|</td>\n      <td>Argentina</td>\n      <td>Capital Federal</td>\n      <td>72000.0</td>\n      <td>USD</td>\n      <td>1270404.0</td>\n      <td>72000.0</td>\n      <td>55.0</td>\n      <td>55.0</td>\n      <td>1309.090909</td>\n      <td>1309.090909</td>\n      <td>NaN</td>\n      <td>NaN</td>\n      <td>2 AMBIENTES 3ER PISO LATERAL LIVING COMEDOR AM...</td>\n      <td>2 AMB 3ER PISO CON ASCENSOR APTO CREDITO</td>\n    </tr>\n    <tr>\n      <th>3</th>\n      <td>PH</td>\n      <td>Liniers</td>\n      <td>|Argentina|Capital Federal|Liniers|</td>\n      <td>Argentina</td>\n      <td>Capital Federal</td>\n      <td>95000.0</td>\n      <td>USD</td>\n      <td>1676227.5</td>\n      <td>95000.0</td>\n      <td>NaN</td>\n      <td>NaN</td>\n      <td>NaN</td>\n      <td>NaN</td>\n      <td>NaN</td>\n      <td>NaN</td>\n      <td>PH 3 ambientes con patio. Hay 3 deptos en lote...</td>\n      <td>PH 3 amb. cfte. reciclado</td>\n    </tr>\n    <tr>\n      <th>4</th>\n      <td>apartment</td>\n      <td>Centro</td>\n      <td>|Argentina|Buenos Aires Costa Atlántica|Mar de...</td>\n      <td>Argentina</td>\n      <td>Buenos Aires Costa Atlántica</td>\n      <td>64000.0</td>\n      <td>USD</td>\n      <td>1129248.0</td>\n      <td>64000.0</td>\n      <td>35.0</td>\n      <td>35.0</td>\n      <td>1828.571429</td>\n      <td>1828.571429</td>\n      <td>NaN</td>\n      <td>NaN</td>\n      <td>DEPARTAMENTO CON FANTÁSTICA ILUMINACIÓN NATURA...</td>\n      <td>DEPTO 2 AMB AL CONTRAFRENTE ZONA CENTRO/PLAZA ...</td>\n    </tr>\n  </tbody>\n</table>\n</div>"
     },
     "metadata": {},
     "execution_count": 74
    }
   ],
   "source": [
    "# Creamos la lista de columnas a filtrar\n",
    "drop_columns = ['properati_url', 'Unnamed: 0', 'operation','image_thumbnail','expenses','lat-lon','geonames_id','lat', 'lon']\n",
    "\n",
    "# Creamos una variable nueva para guardar los datos (el cambio se realiza inplace=False)\n",
    "data_filtered = data.drop(drop_columns, axis=1)\n",
    "data_filtered.head(5)"
   ]
  },
  {
   "source": [
    "**Esto no es necesario ahora ¿?**"
   ],
   "cell_type": "markdown",
   "metadata": {}
  },
  {
   "cell_type": "code",
   "execution_count": 75,
   "metadata": {},
   "outputs": [],
   "source": [
    "# Creamos un diccionario con la nueva agrupación\n",
    "provincia={'Capital Federal':'CABA','Bs.As. G.B.A. Zona Norte': 'Bs. As. G.B.A.', 'Bs.As. G.B.A. Zona Sur':'Bs. As. G.B.A.', 'Córdoba':'Córdoba','Santa Fe':'Santa Fe','Buenos Aires Costa Atlántica':'Buenos Aires', 'Bs.As. G.B.A. Zona Oeste':'Bs. As. G.B.A.', 'Buenos Aires Interior':'Buenos Aires','Río Negro':'Resto del país','Neuquén':'Resto del país', 'Mendoza':'Resto del país', 'Tucumán':'Resto del país', 'Corrientes':'Resto del país', 'Misiones':'Resto del país', 'Entre Ríos':'Resto del país', 'Salta':'Resto del país', 'Chubut':'Resto del país', 'San Luis':'Resto del país', 'La Pampa':'Resto del país','Formosa':'Resto del país','Chaco': 'Resto del país', 'San Juan':'Resto del país','Tierra Del Fuego':'Resto del país', 'Catamarca':'Resto del país', 'Jujuy': 'Resto del país', 'Santa Cruz':'Resto del país', 'La Rioja':'Resto del país', 'Santiago Del Estero':'Resto del país'}"
   ]
  },
  {
   "cell_type": "code",
   "execution_count": 76,
   "metadata": {},
   "outputs": [
    {
     "output_type": "display_data",
     "data": {
      "text/plain": "       property_type       place_name  \\\n49533          house  Valentín Alsina   \n32614          house          Florida   \n110739     apartment        Balvanera   \n5682           store          Adrogué   \n108251     apartment     Villa Crespo   \n\n                                  place_with_parent_names country_name  \\\n49533   |Argentina|Bs.As. G.B.A. Zona Sur|Lanús|Valent...    Argentina   \n32614   |Argentina|Bs.As. G.B.A. Zona Norte|Vicente Ló...    Argentina   \n110739              |Argentina|Capital Federal|Balvanera|    Argentina   \n5682    |Argentina|Bs.As. G.B.A. Zona Sur|Almirante Br...    Argentina   \n108251           |Argentina|Capital Federal|Villa Crespo|    Argentina   \n\n                      state_name     price currency  \\\n49533     Bs.As. G.B.A. Zona Sur  220000.0      USD   \n32614   Bs.As. G.B.A. Zona Norte  108000.0      USD   \n110739           Capital Federal  145000.0      USD   \n5682      Bs.As. G.B.A. Zona Sur  180000.0      USD   \n108251           Capital Federal  128000.0      USD   \n\n        price_aprox_local_currency  price_aprox_usd  surface_total_in_m2  \\\n49533                    3881790.0         220000.0                306.0   \n32614                    1905606.0         108000.0                 94.0   \n110739                   2558452.5         145000.0                 69.0   \n5682                     3176010.0         180000.0                167.0   \n108251                   2258496.0         128000.0                  NaN   \n\n        surface_covered_in_m2  price_usd_per_m2  price_per_m2  floor  rooms  \\\n49533                     NaN        718.954248           NaN    NaN    6.0   \n32614                    90.0       1148.936170   1200.000000    NaN    NaN   \n110739                   65.0       2101.449275   2230.769231    NaN    3.0   \n5682                    167.0       1077.844311   1077.844311    NaN    NaN   \n108251                   36.0               NaN   3555.555556    NaN    NaN   \n\n                                              description  \\\n49533   Venta de Casa 4 AMBIENTES en valentin alsina, ...   \n32614                                            --- R...   \n110739  EDIFICIO SOBRE AVENIDA DE CATEGORIA, CON SEGUR...   \n5682    Rivadavia 28 entre Av. Hipolito Yrigoyen y De ...   \n108251  Monoambiente perfectamente divisible en torre ...   \n\n                                                    title  province_group  \n49533                                       CASA EN VENTA  Bs. As. G.B.A.  \n32614   Duplex 3 Amb en 3 Niveles - Caseros 1600 Flori...  Bs. As. G.B.A.  \n110739                             HERMOSO 3 AMB C/BALCON            CABA  \n5682    Galpón en venta a reciclar a mts de H.Yrigoyen...  Bs. As. G.B.A.  \n108251                        Departamento - Villa Crespo            CABA  ",
      "text/html": "<div>\n<style scoped>\n    .dataframe tbody tr th:only-of-type {\n        vertical-align: middle;\n    }\n\n    .dataframe tbody tr th {\n        vertical-align: top;\n    }\n\n    .dataframe thead th {\n        text-align: right;\n    }\n</style>\n<table border=\"1\" class=\"dataframe\">\n  <thead>\n    <tr style=\"text-align: right;\">\n      <th></th>\n      <th>property_type</th>\n      <th>place_name</th>\n      <th>place_with_parent_names</th>\n      <th>country_name</th>\n      <th>state_name</th>\n      <th>price</th>\n      <th>currency</th>\n      <th>price_aprox_local_currency</th>\n      <th>price_aprox_usd</th>\n      <th>surface_total_in_m2</th>\n      <th>surface_covered_in_m2</th>\n      <th>price_usd_per_m2</th>\n      <th>price_per_m2</th>\n      <th>floor</th>\n      <th>rooms</th>\n      <th>description</th>\n      <th>title</th>\n      <th>province_group</th>\n    </tr>\n  </thead>\n  <tbody>\n    <tr>\n      <th>49533</th>\n      <td>house</td>\n      <td>Valentín Alsina</td>\n      <td>|Argentina|Bs.As. G.B.A. Zona Sur|Lanús|Valent...</td>\n      <td>Argentina</td>\n      <td>Bs.As. G.B.A. Zona Sur</td>\n      <td>220000.0</td>\n      <td>USD</td>\n      <td>3881790.0</td>\n      <td>220000.0</td>\n      <td>306.0</td>\n      <td>NaN</td>\n      <td>718.954248</td>\n      <td>NaN</td>\n      <td>NaN</td>\n      <td>6.0</td>\n      <td>Venta de Casa 4 AMBIENTES en valentin alsina, ...</td>\n      <td>CASA EN VENTA</td>\n      <td>Bs. As. G.B.A.</td>\n    </tr>\n    <tr>\n      <th>32614</th>\n      <td>house</td>\n      <td>Florida</td>\n      <td>|Argentina|Bs.As. G.B.A. Zona Norte|Vicente Ló...</td>\n      <td>Argentina</td>\n      <td>Bs.As. G.B.A. Zona Norte</td>\n      <td>108000.0</td>\n      <td>USD</td>\n      <td>1905606.0</td>\n      <td>108000.0</td>\n      <td>94.0</td>\n      <td>90.0</td>\n      <td>1148.936170</td>\n      <td>1200.000000</td>\n      <td>NaN</td>\n      <td>NaN</td>\n      <td>--- R...</td>\n      <td>Duplex 3 Amb en 3 Niveles - Caseros 1600 Flori...</td>\n      <td>Bs. As. G.B.A.</td>\n    </tr>\n    <tr>\n      <th>110739</th>\n      <td>apartment</td>\n      <td>Balvanera</td>\n      <td>|Argentina|Capital Federal|Balvanera|</td>\n      <td>Argentina</td>\n      <td>Capital Federal</td>\n      <td>145000.0</td>\n      <td>USD</td>\n      <td>2558452.5</td>\n      <td>145000.0</td>\n      <td>69.0</td>\n      <td>65.0</td>\n      <td>2101.449275</td>\n      <td>2230.769231</td>\n      <td>NaN</td>\n      <td>3.0</td>\n      <td>EDIFICIO SOBRE AVENIDA DE CATEGORIA, CON SEGUR...</td>\n      <td>HERMOSO 3 AMB C/BALCON</td>\n      <td>CABA</td>\n    </tr>\n    <tr>\n      <th>5682</th>\n      <td>store</td>\n      <td>Adrogué</td>\n      <td>|Argentina|Bs.As. G.B.A. Zona Sur|Almirante Br...</td>\n      <td>Argentina</td>\n      <td>Bs.As. G.B.A. Zona Sur</td>\n      <td>180000.0</td>\n      <td>USD</td>\n      <td>3176010.0</td>\n      <td>180000.0</td>\n      <td>167.0</td>\n      <td>167.0</td>\n      <td>1077.844311</td>\n      <td>1077.844311</td>\n      <td>NaN</td>\n      <td>NaN</td>\n      <td>Rivadavia 28 entre Av. Hipolito Yrigoyen y De ...</td>\n      <td>Galpón en venta a reciclar a mts de H.Yrigoyen...</td>\n      <td>Bs. As. G.B.A.</td>\n    </tr>\n    <tr>\n      <th>108251</th>\n      <td>apartment</td>\n      <td>Villa Crespo</td>\n      <td>|Argentina|Capital Federal|Villa Crespo|</td>\n      <td>Argentina</td>\n      <td>Capital Federal</td>\n      <td>128000.0</td>\n      <td>USD</td>\n      <td>2258496.0</td>\n      <td>128000.0</td>\n      <td>NaN</td>\n      <td>36.0</td>\n      <td>NaN</td>\n      <td>3555.555556</td>\n      <td>NaN</td>\n      <td>NaN</td>\n      <td>Monoambiente perfectamente divisible en torre ...</td>\n      <td>Departamento - Villa Crespo</td>\n      <td>CABA</td>\n    </tr>\n  </tbody>\n</table>\n</div>"
     },
     "metadata": {}
    }
   ],
   "source": [
    "# Mapeamos las provincias con el diccionario y ponermos el grupo en una columna nueva\n",
    "data_filtered['province_group'] = data_filtered.state_name.map(provincia)\n",
    "display(data_filtered.sample(5))\n"
   ]
  },
  {
   "source": [
    "<h2>Tomamos solamente CABA para el analisis."
   ],
   "cell_type": "markdown",
   "metadata": {}
  },
  {
   "cell_type": "code",
   "execution_count": 77,
   "metadata": {},
   "outputs": [
    {
     "output_type": "execute_result",
     "data": {
      "text/plain": [
       "  property_type place_name    price currency  price_aprox_local_currency  \\\n",
       "0            PH  Mataderos  62000.0      USD                   1093959.0   \n",
       "2     apartment  Mataderos  72000.0      USD                   1270404.0   \n",
       "3            PH    Liniers  95000.0      USD                   1676227.5   \n",
       "\n",
       "   price_aprox_usd  surface_total_in_m2  surface_covered_in_m2  \\\n",
       "0          62000.0                 55.0                   40.0   \n",
       "2          72000.0                 55.0                   55.0   \n",
       "3          95000.0                  NaN                    NaN   \n",
       "\n",
       "   price_usd_per_m2  price_per_m2  floor  rooms  \n",
       "0       1127.272727   1550.000000    NaN    NaN  \n",
       "2       1309.090909   1309.090909    NaN    NaN  \n",
       "3               NaN           NaN    NaN    NaN  "
      ],
      "text/html": "<div>\n<style scoped>\n    .dataframe tbody tr th:only-of-type {\n        vertical-align: middle;\n    }\n\n    .dataframe tbody tr th {\n        vertical-align: top;\n    }\n\n    .dataframe thead th {\n        text-align: right;\n    }\n</style>\n<table border=\"1\" class=\"dataframe\">\n  <thead>\n    <tr style=\"text-align: right;\">\n      <th></th>\n      <th>property_type</th>\n      <th>place_name</th>\n      <th>price</th>\n      <th>currency</th>\n      <th>price_aprox_local_currency</th>\n      <th>price_aprox_usd</th>\n      <th>surface_total_in_m2</th>\n      <th>surface_covered_in_m2</th>\n      <th>price_usd_per_m2</th>\n      <th>price_per_m2</th>\n      <th>floor</th>\n      <th>rooms</th>\n    </tr>\n  </thead>\n  <tbody>\n    <tr>\n      <th>0</th>\n      <td>PH</td>\n      <td>Mataderos</td>\n      <td>62000.0</td>\n      <td>USD</td>\n      <td>1093959.0</td>\n      <td>62000.0</td>\n      <td>55.0</td>\n      <td>40.0</td>\n      <td>1127.272727</td>\n      <td>1550.000000</td>\n      <td>NaN</td>\n      <td>NaN</td>\n    </tr>\n    <tr>\n      <th>2</th>\n      <td>apartment</td>\n      <td>Mataderos</td>\n      <td>72000.0</td>\n      <td>USD</td>\n      <td>1270404.0</td>\n      <td>72000.0</td>\n      <td>55.0</td>\n      <td>55.0</td>\n      <td>1309.090909</td>\n      <td>1309.090909</td>\n      <td>NaN</td>\n      <td>NaN</td>\n    </tr>\n    <tr>\n      <th>3</th>\n      <td>PH</td>\n      <td>Liniers</td>\n      <td>95000.0</td>\n      <td>USD</td>\n      <td>1676227.5</td>\n      <td>95000.0</td>\n      <td>NaN</td>\n      <td>NaN</td>\n      <td>NaN</td>\n      <td>NaN</td>\n      <td>NaN</td>\n      <td>NaN</td>\n    </tr>\n  </tbody>\n</table>\n</div>"
     },
     "metadata": {},
     "execution_count": 77
    }
   ],
   "source": [
    "# Creamos una máscara y la aplicamos al dataframe anterior para traer los registros que necesitamos\n",
    "data_caba_mask = data_filtered.state_name == 'Capital Federal' \n",
    "data_caba = data_filtered.loc[data_caba_mask, :]\n",
    "\n",
    "# Dropeamos la columna creada anteriormente.\n",
    "data_caba.drop(columns=['province_group', 'country_name', 'state_name', 'place_with_parent_names','description', 'title'], inplace=True)\n",
    "\n",
    "# Chequeamos cómo quedaron los datos\n",
    "data_caba.head(3)"
   ]
  },
  {
   "cell_type": "code",
   "execution_count": 78,
   "metadata": {},
   "outputs": [
    {
     "output_type": "execute_result",
     "data": {
      "text/plain": [
       "(32314, 12)"
      ]
     },
     "metadata": {},
     "execution_count": 78
    }
   ],
   "source": [
    "# Vemos la cantidad de datos solamente de CABA.\n",
    "data_caba.shape"
   ]
  },
  {
   "source": [
    "# Revisamos si hay barrios de caba mal indentificados \"Ejemplo: Capital Federal\"\n",
    "pd.set_option('display.max_rows', 1000) # Para mostrar todas las filas.\n"
   ],
   "cell_type": "code",
   "metadata": {},
   "execution_count": 79,
   "outputs": []
  },
  {
   "cell_type": "code",
   "execution_count": 80,
   "metadata": {},
   "outputs": [],
   "source": [
    "# Dropeamos los de Capital Federal\n",
    "capi_mask = data_caba.place_name == 'Capital Federal'\n",
    "data_caba.drop(data_caba.loc[capi_mask, :].index, inplace=True)"
   ]
  },
  {
   "cell_type": "code",
   "execution_count": 81,
   "metadata": {},
   "outputs": [
    {
     "output_type": "execute_result",
     "data": {
      "text/plain": [
       "(31019, 12)"
      ]
     },
     "metadata": {},
     "execution_count": 81
    }
   ],
   "source": [
    "data_caba.shape"
   ]
  },
  {
   "cell_type": "code",
   "execution_count": 82,
   "metadata": {},
   "outputs": [
    {
     "output_type": "execute_result",
     "data": {
      "text/plain": [
       "   property_type     place_name     price currency  \\\n",
       "0             PH      Mataderos   62000.0      USD   \n",
       "2      apartment      Mataderos   72000.0      USD   \n",
       "3             PH        Liniers   95000.0      USD   \n",
       "7      apartment       Belgrano  138000.0      USD   \n",
       "8      apartment       Belgrano  195000.0      USD   \n",
       "13     apartment   Palermo Soho  111700.0      USD   \n",
       "14     apartment   Palermo Soho  147900.0      USD   \n",
       "16            PH      Mataderos  239000.0      USD   \n",
       "19     apartment        Palermo  350000.0      USD   \n",
       "21     apartment        Palermo  270500.0      USD   \n",
       "29     apartment         Flores   75000.0      USD   \n",
       "35     apartment          Boedo  145000.0      USD   \n",
       "38     apartment    Las Cañitas  480000.0      USD   \n",
       "47         house  Puerto Madero   70000.0      USD   \n",
       "48     apartment      Balvanera  240000.0      USD   \n",
       "51         house          Boedo  550000.0      USD   \n",
       "52     apartment      Caballito  110000.0      USD   \n",
       "53     apartment      Caballito  170500.0      USD   \n",
       "54     apartment      Caballito  220410.0      USD   \n",
       "55     apartment      Caballito  222780.0      USD   \n",
       "\n",
       "    price_aprox_local_currency  price_aprox_usd  surface_total_in_m2  \\\n",
       "0                   1093959.00          62000.0                 55.0   \n",
       "2                   1270404.00          72000.0                 55.0   \n",
       "3                   1676227.50          95000.0                  NaN   \n",
       "7                   2434941.00         138000.0                 45.0   \n",
       "8                   3440677.50         195000.0                 65.0   \n",
       "13                  1970890.65         111700.0                 50.0   \n",
       "14                  2609621.55         147900.0                 42.0   \n",
       "16                  4217035.50         239000.0                140.0   \n",
       "19                  6175575.00         350000.0                104.0   \n",
       "21                  4772837.25         270500.0                118.0   \n",
       "29                  1323337.50          75000.0                 43.0   \n",
       "35                  2558452.50         145000.0                 80.0   \n",
       "38                  8469360.00         480000.0                220.0   \n",
       "47                  1235115.00          70000.0                 80.0   \n",
       "48                  4234680.00         240000.0                141.0   \n",
       "51                  9704475.00         550000.0                504.0   \n",
       "52                  1940895.00         110000.0                 50.0   \n",
       "53                  3008387.25         170500.0                100.0   \n",
       "54                  3889024.24         220410.0                 81.0   \n",
       "55                  3930841.71         222780.0                 81.0   \n",
       "\n",
       "    surface_covered_in_m2  price_usd_per_m2  price_per_m2  floor  rooms  \n",
       "0                    40.0       1127.272727   1550.000000    NaN    NaN  \n",
       "2                    55.0       1309.090909   1309.090909    NaN    NaN  \n",
       "3                     NaN               NaN           NaN    NaN    NaN  \n",
       "7                    40.0       3066.666667   3450.000000    NaN    NaN  \n",
       "8                    60.0       3000.000000   3250.000000    NaN    NaN  \n",
       "13                   30.0       2234.000000   3723.333333    NaN    1.0  \n",
       "14                   31.0       3521.428571   4770.967742    NaN    1.0  \n",
       "16                   98.0       1707.142857   2438.775510    NaN    4.0  \n",
       "19                   96.0       3365.384615   3645.833333    NaN    3.0  \n",
       "21                   73.0       2292.372881   3705.479452    NaN    4.0  \n",
       "29                   43.0       1744.186047   1744.186047    NaN    2.0  \n",
       "35                   77.0       1812.500000   1883.116883    NaN    4.0  \n",
       "38                  130.0       2181.818182   3692.307692    NaN    3.0  \n",
       "47                   50.0        875.000000   1400.000000    NaN    NaN  \n",
       "48                  124.0       1702.127660   1935.483871    NaN    5.0  \n",
       "51                  324.0       1091.269841   1697.530864    NaN    NaN  \n",
       "52                   50.0       2200.000000   2200.000000    NaN    3.0  \n",
       "53                   46.0       1705.000000   3706.521739    NaN    2.0  \n",
       "54                   75.0       2721.111111   2938.800000    NaN    3.0  \n",
       "55                   75.0       2750.370370   2970.400000    NaN    3.0  "
      ],
      "text/html": "<div>\n<style scoped>\n    .dataframe tbody tr th:only-of-type {\n        vertical-align: middle;\n    }\n\n    .dataframe tbody tr th {\n        vertical-align: top;\n    }\n\n    .dataframe thead th {\n        text-align: right;\n    }\n</style>\n<table border=\"1\" class=\"dataframe\">\n  <thead>\n    <tr style=\"text-align: right;\">\n      <th></th>\n      <th>property_type</th>\n      <th>place_name</th>\n      <th>price</th>\n      <th>currency</th>\n      <th>price_aprox_local_currency</th>\n      <th>price_aprox_usd</th>\n      <th>surface_total_in_m2</th>\n      <th>surface_covered_in_m2</th>\n      <th>price_usd_per_m2</th>\n      <th>price_per_m2</th>\n      <th>floor</th>\n      <th>rooms</th>\n    </tr>\n  </thead>\n  <tbody>\n    <tr>\n      <th>0</th>\n      <td>PH</td>\n      <td>Mataderos</td>\n      <td>62000.0</td>\n      <td>USD</td>\n      <td>1093959.00</td>\n      <td>62000.0</td>\n      <td>55.0</td>\n      <td>40.0</td>\n      <td>1127.272727</td>\n      <td>1550.000000</td>\n      <td>NaN</td>\n      <td>NaN</td>\n    </tr>\n    <tr>\n      <th>2</th>\n      <td>apartment</td>\n      <td>Mataderos</td>\n      <td>72000.0</td>\n      <td>USD</td>\n      <td>1270404.00</td>\n      <td>72000.0</td>\n      <td>55.0</td>\n      <td>55.0</td>\n      <td>1309.090909</td>\n      <td>1309.090909</td>\n      <td>NaN</td>\n      <td>NaN</td>\n    </tr>\n    <tr>\n      <th>3</th>\n      <td>PH</td>\n      <td>Liniers</td>\n      <td>95000.0</td>\n      <td>USD</td>\n      <td>1676227.50</td>\n      <td>95000.0</td>\n      <td>NaN</td>\n      <td>NaN</td>\n      <td>NaN</td>\n      <td>NaN</td>\n      <td>NaN</td>\n      <td>NaN</td>\n    </tr>\n    <tr>\n      <th>7</th>\n      <td>apartment</td>\n      <td>Belgrano</td>\n      <td>138000.0</td>\n      <td>USD</td>\n      <td>2434941.00</td>\n      <td>138000.0</td>\n      <td>45.0</td>\n      <td>40.0</td>\n      <td>3066.666667</td>\n      <td>3450.000000</td>\n      <td>NaN</td>\n      <td>NaN</td>\n    </tr>\n    <tr>\n      <th>8</th>\n      <td>apartment</td>\n      <td>Belgrano</td>\n      <td>195000.0</td>\n      <td>USD</td>\n      <td>3440677.50</td>\n      <td>195000.0</td>\n      <td>65.0</td>\n      <td>60.0</td>\n      <td>3000.000000</td>\n      <td>3250.000000</td>\n      <td>NaN</td>\n      <td>NaN</td>\n    </tr>\n    <tr>\n      <th>13</th>\n      <td>apartment</td>\n      <td>Palermo Soho</td>\n      <td>111700.0</td>\n      <td>USD</td>\n      <td>1970890.65</td>\n      <td>111700.0</td>\n      <td>50.0</td>\n      <td>30.0</td>\n      <td>2234.000000</td>\n      <td>3723.333333</td>\n      <td>NaN</td>\n      <td>1.0</td>\n    </tr>\n    <tr>\n      <th>14</th>\n      <td>apartment</td>\n      <td>Palermo Soho</td>\n      <td>147900.0</td>\n      <td>USD</td>\n      <td>2609621.55</td>\n      <td>147900.0</td>\n      <td>42.0</td>\n      <td>31.0</td>\n      <td>3521.428571</td>\n      <td>4770.967742</td>\n      <td>NaN</td>\n      <td>1.0</td>\n    </tr>\n    <tr>\n      <th>16</th>\n      <td>PH</td>\n      <td>Mataderos</td>\n      <td>239000.0</td>\n      <td>USD</td>\n      <td>4217035.50</td>\n      <td>239000.0</td>\n      <td>140.0</td>\n      <td>98.0</td>\n      <td>1707.142857</td>\n      <td>2438.775510</td>\n      <td>NaN</td>\n      <td>4.0</td>\n    </tr>\n    <tr>\n      <th>19</th>\n      <td>apartment</td>\n      <td>Palermo</td>\n      <td>350000.0</td>\n      <td>USD</td>\n      <td>6175575.00</td>\n      <td>350000.0</td>\n      <td>104.0</td>\n      <td>96.0</td>\n      <td>3365.384615</td>\n      <td>3645.833333</td>\n      <td>NaN</td>\n      <td>3.0</td>\n    </tr>\n    <tr>\n      <th>21</th>\n      <td>apartment</td>\n      <td>Palermo</td>\n      <td>270500.0</td>\n      <td>USD</td>\n      <td>4772837.25</td>\n      <td>270500.0</td>\n      <td>118.0</td>\n      <td>73.0</td>\n      <td>2292.372881</td>\n      <td>3705.479452</td>\n      <td>NaN</td>\n      <td>4.0</td>\n    </tr>\n    <tr>\n      <th>29</th>\n      <td>apartment</td>\n      <td>Flores</td>\n      <td>75000.0</td>\n      <td>USD</td>\n      <td>1323337.50</td>\n      <td>75000.0</td>\n      <td>43.0</td>\n      <td>43.0</td>\n      <td>1744.186047</td>\n      <td>1744.186047</td>\n      <td>NaN</td>\n      <td>2.0</td>\n    </tr>\n    <tr>\n      <th>35</th>\n      <td>apartment</td>\n      <td>Boedo</td>\n      <td>145000.0</td>\n      <td>USD</td>\n      <td>2558452.50</td>\n      <td>145000.0</td>\n      <td>80.0</td>\n      <td>77.0</td>\n      <td>1812.500000</td>\n      <td>1883.116883</td>\n      <td>NaN</td>\n      <td>4.0</td>\n    </tr>\n    <tr>\n      <th>38</th>\n      <td>apartment</td>\n      <td>Las Cañitas</td>\n      <td>480000.0</td>\n      <td>USD</td>\n      <td>8469360.00</td>\n      <td>480000.0</td>\n      <td>220.0</td>\n      <td>130.0</td>\n      <td>2181.818182</td>\n      <td>3692.307692</td>\n      <td>NaN</td>\n      <td>3.0</td>\n    </tr>\n    <tr>\n      <th>47</th>\n      <td>house</td>\n      <td>Puerto Madero</td>\n      <td>70000.0</td>\n      <td>USD</td>\n      <td>1235115.00</td>\n      <td>70000.0</td>\n      <td>80.0</td>\n      <td>50.0</td>\n      <td>875.000000</td>\n      <td>1400.000000</td>\n      <td>NaN</td>\n      <td>NaN</td>\n    </tr>\n    <tr>\n      <th>48</th>\n      <td>apartment</td>\n      <td>Balvanera</td>\n      <td>240000.0</td>\n      <td>USD</td>\n      <td>4234680.00</td>\n      <td>240000.0</td>\n      <td>141.0</td>\n      <td>124.0</td>\n      <td>1702.127660</td>\n      <td>1935.483871</td>\n      <td>NaN</td>\n      <td>5.0</td>\n    </tr>\n    <tr>\n      <th>51</th>\n      <td>house</td>\n      <td>Boedo</td>\n      <td>550000.0</td>\n      <td>USD</td>\n      <td>9704475.00</td>\n      <td>550000.0</td>\n      <td>504.0</td>\n      <td>324.0</td>\n      <td>1091.269841</td>\n      <td>1697.530864</td>\n      <td>NaN</td>\n      <td>NaN</td>\n    </tr>\n    <tr>\n      <th>52</th>\n      <td>apartment</td>\n      <td>Caballito</td>\n      <td>110000.0</td>\n      <td>USD</td>\n      <td>1940895.00</td>\n      <td>110000.0</td>\n      <td>50.0</td>\n      <td>50.0</td>\n      <td>2200.000000</td>\n      <td>2200.000000</td>\n      <td>NaN</td>\n      <td>3.0</td>\n    </tr>\n    <tr>\n      <th>53</th>\n      <td>apartment</td>\n      <td>Caballito</td>\n      <td>170500.0</td>\n      <td>USD</td>\n      <td>3008387.25</td>\n      <td>170500.0</td>\n      <td>100.0</td>\n      <td>46.0</td>\n      <td>1705.000000</td>\n      <td>3706.521739</td>\n      <td>NaN</td>\n      <td>2.0</td>\n    </tr>\n    <tr>\n      <th>54</th>\n      <td>apartment</td>\n      <td>Caballito</td>\n      <td>220410.0</td>\n      <td>USD</td>\n      <td>3889024.24</td>\n      <td>220410.0</td>\n      <td>81.0</td>\n      <td>75.0</td>\n      <td>2721.111111</td>\n      <td>2938.800000</td>\n      <td>NaN</td>\n      <td>3.0</td>\n    </tr>\n    <tr>\n      <th>55</th>\n      <td>apartment</td>\n      <td>Caballito</td>\n      <td>222780.0</td>\n      <td>USD</td>\n      <td>3930841.71</td>\n      <td>222780.0</td>\n      <td>81.0</td>\n      <td>75.0</td>\n      <td>2750.370370</td>\n      <td>2970.400000</td>\n      <td>NaN</td>\n      <td>3.0</td>\n    </tr>\n  </tbody>\n</table>\n</div>"
     },
     "metadata": {},
     "execution_count": 82
    }
   ],
   "source": [
    "data_caba.head(20)"
   ]
  },
  {
   "source": [
    "## De los datos filtrados según Desafio 1 deberiamos:\n",
    "\n",
    "1. Terminar de dropear variables incompletas que serian necesarias para poder entrenar un modelo. (ejemplo: si la propiedad no posee: price, price_aprox_local_currency,price_usd_per_m2, price_per_m2, etc...) la información de los barrios ya fue analizado y dropeado en el paso anterior.\n",
    "2. Definir las variables CUANTITATIVAS, ejemplo precio, total de m2 de superficie.\n",
    "3. Armar las variables CUALITATICAS, Dummy (ejemplo: place_name, property_type).\n",
    "4. Armar una nueva variable Dummy que contemple los precios de propiedad segun su distribución por metro cuadrado. Utilizando Panda CUT. \n",
    "\n",
    "## Finalizado el analisis de datos, armamos diferentes modelos para predecir el precio de la propiedad.\n",
    "\n",
    "1. Regresion Lineal Multiple\n",
    "2. Entrenar los modelos con Lasso, RidgeCV y utilizando Cross Validation.\n",
    "\n"
   ],
   "cell_type": "markdown",
   "metadata": {}
  },
  {
   "source": [
    "### Primero damos homogenidad a los datos\n",
    "\n",
    "Vamos a realizar ciertas verificaciones de los datos."
   ],
   "cell_type": "markdown",
   "metadata": {}
  },
  {
   "cell_type": "code",
   "execution_count": 86,
   "metadata": {},
   "outputs": [
    {
     "output_type": "display_data",
     "data": {
      "text/plain": "(4138, 12)"
     },
     "metadata": {}
    },
    {
     "output_type": "display_data",
     "data": {
      "text/plain": "       property_type     place_name      price currency  \\\n86862      apartment      Balvanera        NaN      NaN   \n86158      apartment  Villa Urquiza        NaN      NaN   \n77868      apartment      Caballito        NaN      NaN   \n112647     apartment   Barrio Norte        NaN      NaN   \n47624          house         Flores        NaN      NaN   \n120360     apartment      San Telmo  1326900.0      ARS   \n118435         store       Recoleta  9434600.0      ARS   \n111225     apartment  Puerto Madero        NaN      NaN   \n46923      apartment         Flores        NaN      NaN   \n25679      apartment  San Cristobal        NaN      NaN   \n354        apartment       Paternal  1141980.0      ARS   \n75788      apartment      Caballito        NaN      NaN   \n36568      apartment       Belgrano        NaN      NaN   \n109381     apartment      Caballito        NaN      NaN   \n118744     apartment  Villa Urquiza  1751947.0      ARS   \n359        apartment       Paternal  1120035.0      ARS   \n22274          house      Monserrat        NaN      NaN   \n25504      apartment          Boedo        NaN      NaN   \n119840     apartment      San Telmo        NaN      NaN   \n87201      apartment  Villa Urquiza  4138018.0      ARS   \n\n        price_aprox_local_currency  price_aprox_usd  surface_total_in_m2  \\\n86862                          NaN              NaN                 54.0   \n86158                          NaN              NaN                 60.0   \n77868                          NaN              NaN                 88.0   \n112647                         NaN              NaN                475.0   \n47624                          NaN              NaN                380.0   \n120360                  1313058.34         74417.43                 48.0   \n118435                  9336182.23        529127.05                154.0   \n111225                         NaN              NaN                203.0   \n46923                          NaN              NaN                  NaN   \n25679                          NaN              NaN                 39.0   \n354                     1130067.23         64046.43                 27.0   \n75788                          NaN              NaN                 68.0   \n36568                          NaN              NaN                230.0   \n109381                         NaN              NaN                 44.0   \n118744                  1733671.28         98255.62                 37.0   \n359                     1108351.26         62815.68                 27.0   \n22274                          NaN              NaN               1000.0   \n25504                          NaN              NaN                 40.0   \n119840                         NaN              NaN                  NaN   \n87201                   4094851.92        232075.26                 81.0   \n\n        surface_covered_in_m2  price_usd_per_m2  price_per_m2  floor  rooms  \n86862                    51.0               NaN           NaN    NaN    NaN  \n86158                    47.0               NaN           NaN    NaN    NaN  \n77868                    63.0               NaN           NaN    NaN    NaN  \n112647                  475.0               NaN           NaN    NaN    NaN  \n47624                   300.0               NaN           NaN    NaN    NaN  \n120360                   44.0       1550.363125  30156.818182    NaN    NaN  \n118435                  144.0       3435.889935  65518.055556    NaN    NaN  \n111225                  184.0               NaN           NaN    NaN    3.0  \n46923                     NaN               NaN           NaN    NaN    NaN  \n25679                    39.0               NaN           NaN    NaN    1.0  \n354                      27.0       2372.090000  42295.555556   10.0    NaN  \n75788                    62.0               NaN           NaN    NaN    NaN  \n36568                   230.0               NaN           NaN    NaN    4.0  \n109381                   37.0               NaN           NaN    NaN    NaN  \n118744                   32.0       2655.557297  54748.343750    NaN    NaN  \n359                      27.0       2326.506667  41482.777778    7.0    NaN  \n22274                   400.0               NaN           NaN    NaN    5.0  \n25504                    40.0               NaN           NaN    NaN    2.0  \n119840                    NaN               NaN           NaN    NaN    NaN  \n87201                    68.0       2865.126667  60853.205882    NaN    NaN  ",
      "text/html": "<div>\n<style scoped>\n    .dataframe tbody tr th:only-of-type {\n        vertical-align: middle;\n    }\n\n    .dataframe tbody tr th {\n        vertical-align: top;\n    }\n\n    .dataframe thead th {\n        text-align: right;\n    }\n</style>\n<table border=\"1\" class=\"dataframe\">\n  <thead>\n    <tr style=\"text-align: right;\">\n      <th></th>\n      <th>property_type</th>\n      <th>place_name</th>\n      <th>price</th>\n      <th>currency</th>\n      <th>price_aprox_local_currency</th>\n      <th>price_aprox_usd</th>\n      <th>surface_total_in_m2</th>\n      <th>surface_covered_in_m2</th>\n      <th>price_usd_per_m2</th>\n      <th>price_per_m2</th>\n      <th>floor</th>\n      <th>rooms</th>\n    </tr>\n  </thead>\n  <tbody>\n    <tr>\n      <th>86862</th>\n      <td>apartment</td>\n      <td>Balvanera</td>\n      <td>NaN</td>\n      <td>NaN</td>\n      <td>NaN</td>\n      <td>NaN</td>\n      <td>54.0</td>\n      <td>51.0</td>\n      <td>NaN</td>\n      <td>NaN</td>\n      <td>NaN</td>\n      <td>NaN</td>\n    </tr>\n    <tr>\n      <th>86158</th>\n      <td>apartment</td>\n      <td>Villa Urquiza</td>\n      <td>NaN</td>\n      <td>NaN</td>\n      <td>NaN</td>\n      <td>NaN</td>\n      <td>60.0</td>\n      <td>47.0</td>\n      <td>NaN</td>\n      <td>NaN</td>\n      <td>NaN</td>\n      <td>NaN</td>\n    </tr>\n    <tr>\n      <th>77868</th>\n      <td>apartment</td>\n      <td>Caballito</td>\n      <td>NaN</td>\n      <td>NaN</td>\n      <td>NaN</td>\n      <td>NaN</td>\n      <td>88.0</td>\n      <td>63.0</td>\n      <td>NaN</td>\n      <td>NaN</td>\n      <td>NaN</td>\n      <td>NaN</td>\n    </tr>\n    <tr>\n      <th>112647</th>\n      <td>apartment</td>\n      <td>Barrio Norte</td>\n      <td>NaN</td>\n      <td>NaN</td>\n      <td>NaN</td>\n      <td>NaN</td>\n      <td>475.0</td>\n      <td>475.0</td>\n      <td>NaN</td>\n      <td>NaN</td>\n      <td>NaN</td>\n      <td>NaN</td>\n    </tr>\n    <tr>\n      <th>47624</th>\n      <td>house</td>\n      <td>Flores</td>\n      <td>NaN</td>\n      <td>NaN</td>\n      <td>NaN</td>\n      <td>NaN</td>\n      <td>380.0</td>\n      <td>300.0</td>\n      <td>NaN</td>\n      <td>NaN</td>\n      <td>NaN</td>\n      <td>NaN</td>\n    </tr>\n    <tr>\n      <th>120360</th>\n      <td>apartment</td>\n      <td>San Telmo</td>\n      <td>1326900.0</td>\n      <td>ARS</td>\n      <td>1313058.34</td>\n      <td>74417.43</td>\n      <td>48.0</td>\n      <td>44.0</td>\n      <td>1550.363125</td>\n      <td>30156.818182</td>\n      <td>NaN</td>\n      <td>NaN</td>\n    </tr>\n    <tr>\n      <th>118435</th>\n      <td>store</td>\n      <td>Recoleta</td>\n      <td>9434600.0</td>\n      <td>ARS</td>\n      <td>9336182.23</td>\n      <td>529127.05</td>\n      <td>154.0</td>\n      <td>144.0</td>\n      <td>3435.889935</td>\n      <td>65518.055556</td>\n      <td>NaN</td>\n      <td>NaN</td>\n    </tr>\n    <tr>\n      <th>111225</th>\n      <td>apartment</td>\n      <td>Puerto Madero</td>\n      <td>NaN</td>\n      <td>NaN</td>\n      <td>NaN</td>\n      <td>NaN</td>\n      <td>203.0</td>\n      <td>184.0</td>\n      <td>NaN</td>\n      <td>NaN</td>\n      <td>NaN</td>\n      <td>3.0</td>\n    </tr>\n    <tr>\n      <th>46923</th>\n      <td>apartment</td>\n      <td>Flores</td>\n      <td>NaN</td>\n      <td>NaN</td>\n      <td>NaN</td>\n      <td>NaN</td>\n      <td>NaN</td>\n      <td>NaN</td>\n      <td>NaN</td>\n      <td>NaN</td>\n      <td>NaN</td>\n      <td>NaN</td>\n    </tr>\n    <tr>\n      <th>25679</th>\n      <td>apartment</td>\n      <td>San Cristobal</td>\n      <td>NaN</td>\n      <td>NaN</td>\n      <td>NaN</td>\n      <td>NaN</td>\n      <td>39.0</td>\n      <td>39.0</td>\n      <td>NaN</td>\n      <td>NaN</td>\n      <td>NaN</td>\n      <td>1.0</td>\n    </tr>\n    <tr>\n      <th>354</th>\n      <td>apartment</td>\n      <td>Paternal</td>\n      <td>1141980.0</td>\n      <td>ARS</td>\n      <td>1130067.23</td>\n      <td>64046.43</td>\n      <td>27.0</td>\n      <td>27.0</td>\n      <td>2372.090000</td>\n      <td>42295.555556</td>\n      <td>10.0</td>\n      <td>NaN</td>\n    </tr>\n    <tr>\n      <th>75788</th>\n      <td>apartment</td>\n      <td>Caballito</td>\n      <td>NaN</td>\n      <td>NaN</td>\n      <td>NaN</td>\n      <td>NaN</td>\n      <td>68.0</td>\n      <td>62.0</td>\n      <td>NaN</td>\n      <td>NaN</td>\n      <td>NaN</td>\n      <td>NaN</td>\n    </tr>\n    <tr>\n      <th>36568</th>\n      <td>apartment</td>\n      <td>Belgrano</td>\n      <td>NaN</td>\n      <td>NaN</td>\n      <td>NaN</td>\n      <td>NaN</td>\n      <td>230.0</td>\n      <td>230.0</td>\n      <td>NaN</td>\n      <td>NaN</td>\n      <td>NaN</td>\n      <td>4.0</td>\n    </tr>\n    <tr>\n      <th>109381</th>\n      <td>apartment</td>\n      <td>Caballito</td>\n      <td>NaN</td>\n      <td>NaN</td>\n      <td>NaN</td>\n      <td>NaN</td>\n      <td>44.0</td>\n      <td>37.0</td>\n      <td>NaN</td>\n      <td>NaN</td>\n      <td>NaN</td>\n      <td>NaN</td>\n    </tr>\n    <tr>\n      <th>118744</th>\n      <td>apartment</td>\n      <td>Villa Urquiza</td>\n      <td>1751947.0</td>\n      <td>ARS</td>\n      <td>1733671.28</td>\n      <td>98255.62</td>\n      <td>37.0</td>\n      <td>32.0</td>\n      <td>2655.557297</td>\n      <td>54748.343750</td>\n      <td>NaN</td>\n      <td>NaN</td>\n    </tr>\n    <tr>\n      <th>359</th>\n      <td>apartment</td>\n      <td>Paternal</td>\n      <td>1120035.0</td>\n      <td>ARS</td>\n      <td>1108351.26</td>\n      <td>62815.68</td>\n      <td>27.0</td>\n      <td>27.0</td>\n      <td>2326.506667</td>\n      <td>41482.777778</td>\n      <td>7.0</td>\n      <td>NaN</td>\n    </tr>\n    <tr>\n      <th>22274</th>\n      <td>house</td>\n      <td>Monserrat</td>\n      <td>NaN</td>\n      <td>NaN</td>\n      <td>NaN</td>\n      <td>NaN</td>\n      <td>1000.0</td>\n      <td>400.0</td>\n      <td>NaN</td>\n      <td>NaN</td>\n      <td>NaN</td>\n      <td>5.0</td>\n    </tr>\n    <tr>\n      <th>25504</th>\n      <td>apartment</td>\n      <td>Boedo</td>\n      <td>NaN</td>\n      <td>NaN</td>\n      <td>NaN</td>\n      <td>NaN</td>\n      <td>40.0</td>\n      <td>40.0</td>\n      <td>NaN</td>\n      <td>NaN</td>\n      <td>NaN</td>\n      <td>2.0</td>\n    </tr>\n    <tr>\n      <th>119840</th>\n      <td>apartment</td>\n      <td>San Telmo</td>\n      <td>NaN</td>\n      <td>NaN</td>\n      <td>NaN</td>\n      <td>NaN</td>\n      <td>NaN</td>\n      <td>NaN</td>\n      <td>NaN</td>\n      <td>NaN</td>\n      <td>NaN</td>\n      <td>NaN</td>\n    </tr>\n    <tr>\n      <th>87201</th>\n      <td>apartment</td>\n      <td>Villa Urquiza</td>\n      <td>4138018.0</td>\n      <td>ARS</td>\n      <td>4094851.92</td>\n      <td>232075.26</td>\n      <td>81.0</td>\n      <td>68.0</td>\n      <td>2865.126667</td>\n      <td>60853.205882</td>\n      <td>NaN</td>\n      <td>NaN</td>\n    </tr>\n  </tbody>\n</table>\n</div>"
     },
     "metadata": {}
    }
   ],
   "source": [
    "# 1. Verificamos que el price y el price_aprox_usd sean los mismos, y luego si fuera así dropeamos el price_aprox_usd\n",
    "\n",
    "mask_price_validation = data_caba.price != data_caba.price_aprox_usd\n",
    "\n",
    "display(data_caba.loc[mask_price_validation, :].shape)\n",
    "\n",
    "# Detectamos que hay 4138 propiedades donde los valores son diferentes? pero estan en Pesos o son NaN?\n",
    "\n",
    "display(data_caba.loc[mask_price_validation, :].sample(20))\n",
    "\n",
    "# Detectamos que tenemos los dos casos, donde los precios son NaN y donde la moneda está en ARS (lo cual no estaría mal)\n",
    "# En el caso de ARS, vemos que el valor de price toma el de la moneda local ~ Por lo que podriamos llegar a eliminar price, currency y price_aprox_local_currency \n",
    "\n",
    "# Para los valores de NaN tendriamos que tomar la decisión si los dropeamos o tratamos de calcular un precio promedio en base a la cantidad de metros cuadrados. Podemos hacerlo en base al calculo que realizamos en el Desafio 1 ??"
   ]
  }
 ]
}